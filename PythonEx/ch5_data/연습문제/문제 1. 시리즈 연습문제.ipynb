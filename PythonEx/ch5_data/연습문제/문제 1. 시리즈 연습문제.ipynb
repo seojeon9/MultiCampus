{
 "cells": [
  {
   "cell_type": "code",
   "execution_count": 1,
   "metadata": {},
   "outputs": [],
   "source": [
    "#필요한 패키지(판다스, 넘피를 import 하고 pd,np로 별명을 만드시오\n",
    "import pandas as pd\n",
    "import numpy as np"
   ]
  },
  {
   "cell_type": "markdown",
   "metadata": {},
   "source": [
    "#### 시리즈  문제 "
   ]
  },
  {
   "cell_type": "code",
   "execution_count": 29,
   "metadata": {},
   "outputs": [
    {
     "name": "stdout",
     "output_type": "stream",
     "text": [
      "a    1\n",
      "b    2\n",
      "c    3\n",
      "dtype: int64\n",
      "홍길동    1.0\n",
      "이몽룡    2.0\n",
      "성춘향    3.0\n",
      "dtype: float64\n"
     ]
    }
   ],
   "source": [
    "# 연습문제 1\n",
    "# 임의로 두개의 시리즈 객체를 만든다.\n",
    "# 모두 문자열 인덱스를가져야 하며 두 시리즈에 공통적으로 포함되지 않는 인덱스(라벨)가 있어야 한다. \n",
    "# 값과 시리즈 원소 개수도 임의 설정할 것\n",
    "\n",
    "s1 = pd.Series([1,2,3],index=['a','b','c'])\n",
    "s2 = pd.Series([1.0,2.0,3.0],index=['홍길동','이몽룡','성춘향'])\n",
    "print(s1)\n",
    "print(s2)"
   ]
  },
  {
   "cell_type": "code",
   "execution_count": 4,
   "metadata": {},
   "outputs": [
    {
     "name": "stdout",
     "output_type": "stream",
     "text": [
      "국어    190\n",
      "영어    160\n",
      "수학    150\n",
      "dtype: int64\n"
     ]
    }
   ],
   "source": [
    "#연습문제 2 : 아래 시리즈 객체를 이용하여 사칙연산을 \n",
    "#수행하고 결과를 출력하시오.\n",
    "ex_s1 = pd.Series({'국어':95,'영어':80,'수학':75})\n",
    "ex_s2 = pd.Series({'국어':95,'영어':80,'수학':75})\n",
    "\n",
    "print(ex_s1 + ex_s2)"
   ]
  },
  {
   "cell_type": "code",
   "execution_count": 5,
   "metadata": {},
   "outputs": [
    {
     "name": "stdout",
     "output_type": "stream",
     "text": [
      "국어    0\n",
      "영어    0\n",
      "수학    0\n",
      "dtype: int64\n"
     ]
    }
   ],
   "source": [
    "print(ex_s1 - ex_s2)"
   ]
  },
  {
   "cell_type": "code",
   "execution_count": 6,
   "metadata": {},
   "outputs": [
    {
     "name": "stdout",
     "output_type": "stream",
     "text": [
      "국어    9025\n",
      "영어    6400\n",
      "수학    5625\n",
      "dtype: int64\n"
     ]
    }
   ],
   "source": [
    "print(ex_s1 * ex_s2)"
   ]
  },
  {
   "cell_type": "code",
   "execution_count": 7,
   "metadata": {},
   "outputs": [
    {
     "name": "stdout",
     "output_type": "stream",
     "text": [
      "국어    1.0\n",
      "영어    1.0\n",
      "수학    1.0\n",
      "dtype: float64\n"
     ]
    }
   ],
   "source": [
    "print(ex_s1 / ex_s2)"
   ]
  },
  {
   "cell_type": "code",
   "execution_count": 8,
   "metadata": {},
   "outputs": [],
   "source": [
    "#연습문제 3 : 아래 두 객체에 대하여 아래 제시된 연산을 수행하시오.\n",
    "ex_s1 = pd.Series({'국어':95,'영어':80,'수학':75})\n",
    "ex_s2 = pd.Series({'국어':95,'과학':80,'논술':75})"
   ]
  },
  {
   "cell_type": "code",
   "execution_count": 9,
   "metadata": {},
   "outputs": [
    {
     "name": "stdout",
     "output_type": "stream",
     "text": [
      "과학    NaN\n",
      "국어    0.0\n",
      "논술    NaN\n",
      "수학    NaN\n",
      "영어    NaN\n",
      "dtype: float64\n"
     ]
    }
   ],
   "source": [
    "# - 연산을 수행하고 결과를 설명하시오\n",
    "print(ex_s1 - ex_s2)\n",
    "\n",
    "# ex_s1 시리즈와 ex_s2 시리즈를 연산하고자 할때 같은 index의 값인 국어의 경우 연산이 정상적으로 실행되었다.\n",
    "# 하지만 '과학','논술','수학','영어' index의 경우 각 시리즈에 동일한 index가 없기때문에 연산을 진행할 수가 없다.\n",
    "# 그래서 NaN값으로 처리되었다."
   ]
  },
  {
   "cell_type": "code",
   "execution_count": 12,
   "metadata": {},
   "outputs": [
    {
     "data": {
      "text/plain": [
       "array([0, 0, 0], dtype=int64)"
      ]
     },
     "execution_count": 12,
     "metadata": {},
     "output_type": "execute_result"
    }
   ],
   "source": [
    "ex_s1.values - ex_s2.values\n",
    "# 위 연산을 수행했을 때 출력되는 결과를 설명하시오\n",
    "\n",
    "# 위 연산의 경우 values속성을 사용해 index를 제외하고 값만을 추출해 연산을 진행하게 된다.\n",
    "# 따라서 [95,80,75],[95,80,75] 두 리스트 사이에서 동일 위치 원소들끼리 연산을 진행하게 된다."
   ]
  },
  {
   "cell_type": "code",
   "execution_count": 16,
   "metadata": {},
   "outputs": [
    {
     "data": {
      "text/plain": [
       "서울    9904312\n",
       "부산    3448737\n",
       "인천    2890451\n",
       "대구    2466052\n",
       "dtype: int64"
      ]
     },
     "execution_count": 16,
     "metadata": {},
     "output_type": "execute_result"
    }
   ],
   "source": [
    "# 연습문제 4\n",
    "# 아래 데이터를 이용해서 시리즈 s를 생성하시오\n",
    "    # 서울 : 9904312, 부산 : 3448737, 인천 : 2890451  대구 : 2466052    \n",
    "\n",
    "s = pd.Series({'서울' : 9904312, '부산' : 3448737, '인천' : 2890451,  '대구' : 2466052})\n",
    "s"
   ]
  },
  {
   "cell_type": "code",
   "execution_count": 18,
   "metadata": {},
   "outputs": [
    {
     "name": "stdout",
     "output_type": "stream",
     "text": [
      "Index(['서울', '부산', '인천', '대구'], dtype='object')\n"
     ]
    },
    {
     "data": {
      "text/plain": [
       "2890451"
      ]
     },
     "execution_count": 18,
     "metadata": {},
     "output_type": "execute_result"
    }
   ],
   "source": [
    "# 연습문제 5 :\n",
    "#시리즈 s 변수의 인덱스를 출력해서 확인하고\n",
    "#세번째 인덱스의 값을 라벨인덱스로 접근 후 출력하시오.\n",
    "print(s.index)\n",
    "s['인천']"
   ]
  },
  {
   "cell_type": "code",
   "execution_count": 19,
   "metadata": {},
   "outputs": [
    {
     "data": {
      "text/plain": [
       "부산    3448737\n",
       "인천    2890451\n",
       "대구    2466052\n",
       "dtype: int64"
      ]
     },
     "execution_count": 19,
     "metadata": {},
     "output_type": "execute_result"
    }
   ],
   "source": [
    "# 연습문제 6\n",
    "#시리즈 s에 대하여 라벨(문자)인덱싱을 이용하고\n",
    "#부산, 인천, 대구의 값을 추출하시오.\n",
    "\n",
    "s[['부산','인천','대구']]"
   ]
  },
  {
   "cell_type": "code",
   "execution_count": 21,
   "metadata": {},
   "outputs": [
    {
     "data": {
      "text/plain": [
       "서울    9631482\n",
       "부산    3393191\n",
       "인천    2632035\n",
       "대전    1490158\n",
       "dtype: int64"
      ]
     },
     "execution_count": 21,
     "metadata": {},
     "output_type": "execute_result"
    }
   ],
   "source": [
    "# 연습문제 7\n",
    "#아래 데이터를 이용하여 시리즈를 생성하고 데이터 순서를 서울, 부산, 인천, 대전 으로 설정하시오 - 딕셔너리 활용\n",
    "#   서울 9631482\n",
    "#   부산 3393191\n",
    "#   인천 2632035\n",
    "#   대전 1490158\n",
    "\n",
    "city = {'서울': 9631482\n",
    "  ,'부산': 3393191\n",
    "  ,'인천': 2632035\n",
    "  ,'대전': 1490158}\n",
    "\n",
    "s = pd.Series(city, index=['서울', '부산', '인천', '대전'])\n",
    "s"
   ]
  },
  {
   "cell_type": "code",
   "execution_count": 23,
   "metadata": {},
   "outputs": [
    {
     "data": {
      "text/plain": [
       "서울    9631482\n",
       "부산    3393191\n",
       "인천    2632035\n",
       "대전    1490158\n",
       "Name: 인구, dtype: int64"
      ]
     },
     "execution_count": 23,
     "metadata": {},
     "output_type": "execute_result"
    }
   ],
   "source": [
    "# 연습문제 8\n",
    "# 위에서 생성한 시리즈에 인구 라는 이름을 설정하시오\n",
    "\n",
    "s.name = '인구'\n",
    "s"
   ]
  },
  {
   "cell_type": "code",
   "execution_count": 28,
   "metadata": {},
   "outputs": [
    {
     "data": {
      "text/plain": [
       "서울    11000000\n",
       "부산     3393191\n",
       "Name: 인구, dtype: int64"
      ]
     },
     "execution_count": 28,
     "metadata": {},
     "output_type": "execute_result"
    }
   ],
   "source": [
    "# 연습문제 9\n",
    "# 위에서 생성한 시리즈의 인구수가 3000000 이상인 도시를 출력하시오\n",
    "\n",
    "s[s>=3000000]"
   ]
  },
  {
   "cell_type": "code",
   "execution_count": 25,
   "metadata": {},
   "outputs": [
    {
     "data": {
      "text/plain": [
       "서울    11000000\n",
       "부산     3393191\n",
       "인천     2632035\n",
       "대전     1490158\n",
       "Name: 인구, dtype: int64"
      ]
     },
     "execution_count": 25,
     "metadata": {},
     "output_type": "execute_result"
    }
   ],
   "source": [
    "# 연습문제 10\n",
    "# 위에서 생성한 시리즈의 서울 데이터를 11000000 으로 변경하세요\n",
    "\n",
    "s['서울'] = 11000000\n",
    "s"
   ]
  },
  {
   "cell_type": "code",
   "execution_count": 26,
   "metadata": {},
   "outputs": [
    {
     "data": {
      "text/plain": [
       "서울    11000000\n",
       "부산     3393191\n",
       "인천     2632035\n",
       "Name: 인구, dtype: int64"
      ]
     },
     "execution_count": 26,
     "metadata": {},
     "output_type": "execute_result"
    }
   ],
   "source": [
    "# 연습문제 11\n",
    "# 대전 데이터를 삭제하세요\n",
    "\n",
    "del s['대전']\n",
    "s"
   ]
  },
  {
   "cell_type": "code",
   "execution_count": 27,
   "metadata": {},
   "outputs": [
    {
     "data": {
      "text/plain": [
       "False"
      ]
     },
     "execution_count": 27,
     "metadata": {},
     "output_type": "execute_result"
    }
   ],
   "source": [
    "# 연습문제 12 \n",
    "# 대구 데이터가 있는지 확인 하세요\n",
    "\n",
    "'대구' in s"
   ]
  }
 ],
 "metadata": {
  "kernelspec": {
   "display_name": "Python 3",
   "language": "python",
   "name": "python3"
  },
  "language_info": {
   "codemirror_mode": {
    "name": "ipython",
    "version": 3
   },
   "file_extension": ".py",
   "mimetype": "text/x-python",
   "name": "python",
   "nbconvert_exporter": "python",
   "pygments_lexer": "ipython3",
   "version": "3.8.3"
  }
 },
 "nbformat": 4,
 "nbformat_minor": 4
}
