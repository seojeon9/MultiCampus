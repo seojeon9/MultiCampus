{
 "cells": [
  {
   "cell_type": "markdown",
   "metadata": {},
   "source": [
    "### 연습문제\n",
    "- 위 함수 \n",
    "    - call_and_save, get_api_result 를 \n",
    "    - 수집하고자 하는 총 갯수를 전달하면 해당 갯수만큼 데이터를 추출해서 df로 반환하도록 수정하시오.\n",
    "    - call_and_save('news','시청',250) 으로 호출하면 \n",
    "    - 뉴스에 대해 시청으로 검색한 결과 250개를 추출하여 df로 저장\n",
    "    - 저장 필드는 title,link\n"
   ]
  },
  {
   "cell_type": "code",
   "execution_count": null,
   "metadata": {},
   "outputs": [],
   "source": []
  }
 ],
 "metadata": {
  "kernelspec": {
   "display_name": "Python 3",
   "language": "python",
   "name": "python3"
  },
  "language_info": {
   "codemirror_mode": {
    "name": "ipython",
    "version": 3
   },
   "file_extension": ".py",
   "mimetype": "text/x-python",
   "name": "python",
   "nbconvert_exporter": "python",
   "pygments_lexer": "ipython3",
   "version": "3.8.3"
  }
 },
 "nbformat": 4,
 "nbformat_minor": 4
}
