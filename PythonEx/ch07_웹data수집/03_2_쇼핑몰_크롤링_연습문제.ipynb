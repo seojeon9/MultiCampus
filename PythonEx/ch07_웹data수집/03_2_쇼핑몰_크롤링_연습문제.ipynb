{
 "cells": [
  {
   "cell_type": "markdown",
   "metadata": {},
   "source": [
    "## 연습문제\n",
    "- best 상품에 대해서 첫번째 페이지에서만 추출되고 그 후 페이지에서는 추출되지 않도록 함수 수정\n",
    "- 전체 페이지가 몇페이지인지를 크롤링을 통해서 얻어오고 해당 페이지 수 만큼 크롤링이 되게 코드 수정"
   ]
  },
  {
   "cell_type": "code",
   "execution_count": 1,
   "metadata": {},
   "outputs": [],
   "source": [
    "from urllib.request import urlopen\n",
    "from bs4 import BeautifulSoup\n",
    "import pandas as pd\n",
    "import numpy as np\n",
    "import ssl\n",
    "# context = ssl._create_unverified_context()\n",
    "url=\"http://jolse.com/category/toners-mists/1019/\""
   ]
  },
  {
   "cell_type": "code",
   "execution_count": 31,
   "metadata": {},
   "outputs": [],
   "source": [
    "prd_dict = {'품목':[],\n",
    "           '가격':[],\n",
    "           '세일가격':[]}\n",
    "df_fin = pd.DataFrame(prd_dict)"
   ]
  },
  {
   "cell_type": "code",
   "execution_count": 3,
   "metadata": {},
   "outputs": [],
   "source": [
    "# 요청 및 파싱 객체 생성\n",
    "def get_request_product(url) :\n",
    "    # 1. 소스추출\n",
    "    url = 'http://jolse.com/category/toners-mists/1019/'\n",
    "    htmls = urlopen(url)\n",
    "    htmls = htmls.read()\n",
    "    # 2. 파싱객체 생성\n",
    "    bs_obj = BeautifulSoup(htmls, 'html.parser')\n",
    "    return bs_obj"
   ]
  },
  {
   "cell_type": "code",
   "execution_count": 16,
   "metadata": {},
   "outputs": [],
   "source": [
    "def get_page_product(url) :\n",
    "    global df_fin # 전역변수임을 알려줌\n",
    "    bs_obj = get_request_product(url)\n",
    "    # url페이지 수 확인\n",
    "    page = url.split('=')[1]\n",
    "    uls = bs_obj.findAll('ul',{'class':'prdList grid5'}) # 추천,일반상품 목록 추출\n",
    "    # 만약 페이지수가 페이지라면 전체(추천+일반)제품 추출\n",
    "    if page == '1' :\n",
    "        print('페이지 1 추출 중!!')\n",
    "        boxes = uls[0].findAll('div',{'class':'description'}) # 추천\n",
    "        boxes = boxes + uls[1].findAll('div',{'class':'description'}) # 일반\n",
    "    else :  # 아니라면 일반 제품만 추출\n",
    "        print('페이지', page ,'추출 중')\n",
    "        boxes = uls[1].findAll('div',{'class':'description'})\n",
    "    \n",
    "    # 각 제품에 대한 정보 추출\n",
    "    for box in boxes :\n",
    "        res = pd.DataFrame(pd.DataFrame(get_product_info(box),index=range(1,2)))\n",
    "        df_fin = pd.concat([df_fin,res],axis=0,ignore_index=True)"
   ]
  },
  {
   "cell_type": "code",
   "execution_count": 5,
   "metadata": {},
   "outputs": [],
   "source": [
    "def get_product_info(box) :\n",
    "    strong_tag = box.find('strong',{'class':'name'})\n",
    "    prd_name = strong_tag.text.split(':')[1]\n",
    "    # 가격\n",
    "    price = box.find('ul').findAll('span')[1].text\n",
    "    sale_price = box.find('ul').findAll('span')[-1].text\n",
    "    return {'품목':prd_name,'가격':price,'세일가격':sale_price}"
   ]
  },
  {
   "cell_type": "code",
   "execution_count": 17,
   "metadata": {},
   "outputs": [
    {
     "name": "stdout",
     "output_type": "stream",
     "text": [
      "페이지 1 추출 중!!\n",
      "페이지 2 추출 중\n",
      "페이지 3 추출 중\n",
      "페이지 4 추출 중\n",
      "페이지 5 추출 중\n",
      "페이지 6 추출 중\n",
      "페이지 7 추출 중\n",
      "페이지 8 추출 중\n",
      "페이지 9 추출 중\n",
      "페이지 10 추출 중\n",
      "페이지 11 추출 중\n"
     ]
    }
   ],
   "source": [
    "# base_url = 'https://jolse.com/category/toners-mists/1019?page='\n",
    "# for i in range(1,12) :\n",
    "#     url = base_url + str(i)\n",
    "#     get_page_product(url)"
   ]
  },
  {
   "cell_type": "code",
   "execution_count": 32,
   "metadata": {},
   "outputs": [
    {
     "data": {
      "text/html": [
       "<div>\n",
       "<style scoped>\n",
       "    .dataframe tbody tr th:only-of-type {\n",
       "        vertical-align: middle;\n",
       "    }\n",
       "\n",
       "    .dataframe tbody tr th {\n",
       "        vertical-align: top;\n",
       "    }\n",
       "\n",
       "    .dataframe thead th {\n",
       "        text-align: right;\n",
       "    }\n",
       "</style>\n",
       "<table border=\"1\" class=\"dataframe\">\n",
       "  <thead>\n",
       "    <tr style=\"text-align: right;\">\n",
       "      <th></th>\n",
       "      <th>품목</th>\n",
       "      <th>가격</th>\n",
       "      <th>세일가격</th>\n",
       "    </tr>\n",
       "  </thead>\n",
       "  <tbody>\n",
       "  </tbody>\n",
       "</table>\n",
       "</div>"
      ],
      "text/plain": [
       "Empty DataFrame\n",
       "Columns: [품목, 가격, 세일가격]\n",
       "Index: []"
      ]
     },
     "execution_count": 32,
     "metadata": {},
     "output_type": "execute_result"
    }
   ],
   "source": [
    "df_fin"
   ]
  },
  {
   "cell_type": "code",
   "execution_count": 26,
   "metadata": {},
   "outputs": [
    {
     "data": {
      "text/plain": [
       "29"
      ]
     },
     "execution_count": 26,
     "metadata": {},
     "output_type": "execute_result"
    }
   ],
   "source": [
    "url = 'http://jolse.com/category/toners-mists/1019/'\n",
    "htmls = urlopen(url)\n",
    "htmls = htmls.read()\n",
    "\n",
    "bs_obj = BeautifulSoup(htmls, 'html.parser')\n",
    "bs_obj\n",
    "uls = bs_obj.find('a',{'class':'last'})['href']\n",
    "page = int(uls.split('=')[1])\n",
    "page"
   ]
  },
  {
   "cell_type": "code",
   "execution_count": 33,
   "metadata": {},
   "outputs": [
    {
     "name": "stdout",
     "output_type": "stream",
     "text": [
      "페이지 1 추출 중!!\n",
      "페이지 2 추출 중\n",
      "페이지 3 추출 중\n",
      "페이지 4 추출 중\n",
      "페이지 5 추출 중\n",
      "페이지 6 추출 중\n",
      "페이지 7 추출 중\n",
      "페이지 8 추출 중\n",
      "페이지 9 추출 중\n",
      "페이지 10 추출 중\n",
      "페이지 11 추출 중\n",
      "페이지 12 추출 중\n",
      "페이지 13 추출 중\n",
      "페이지 14 추출 중\n",
      "페이지 15 추출 중\n",
      "페이지 16 추출 중\n",
      "페이지 17 추출 중\n",
      "페이지 18 추출 중\n",
      "페이지 19 추출 중\n",
      "페이지 20 추출 중\n",
      "페이지 21 추출 중\n",
      "페이지 22 추출 중\n",
      "페이지 23 추출 중\n",
      "페이지 24 추출 중\n",
      "페이지 25 추출 중\n",
      "페이지 26 추출 중\n",
      "페이지 27 추출 중\n",
      "페이지 28 추출 중\n",
      "페이지 29 추출 중\n"
     ]
    }
   ],
   "source": [
    "base_url = 'https://jolse.com/category/toners-mists/1019?page='\n",
    "for i in range(1,page+1) :\n",
    "    url = base_url + str(i)\n",
    "    get_page_product(url)"
   ]
  },
  {
   "cell_type": "code",
   "execution_count": 34,
   "metadata": {},
   "outputs": [
    {
     "data": {
      "text/html": [
       "<div>\n",
       "<style scoped>\n",
       "    .dataframe tbody tr th:only-of-type {\n",
       "        vertical-align: middle;\n",
       "    }\n",
       "\n",
       "    .dataframe tbody tr th {\n",
       "        vertical-align: top;\n",
       "    }\n",
       "\n",
       "    .dataframe thead th {\n",
       "        text-align: right;\n",
       "    }\n",
       "</style>\n",
       "<table border=\"1\" class=\"dataframe\">\n",
       "  <thead>\n",
       "    <tr style=\"text-align: right;\">\n",
       "      <th></th>\n",
       "      <th>품목</th>\n",
       "      <th>가격</th>\n",
       "      <th>세일가격</th>\n",
       "    </tr>\n",
       "  </thead>\n",
       "  <tbody>\n",
       "    <tr>\n",
       "      <th>0</th>\n",
       "      <td>Abib Heartleaf Calming Toner Skin Booster 200ml</td>\n",
       "      <td>USD 21.00</td>\n",
       "      <td>USD 14.70</td>\n",
       "    </tr>\n",
       "    <tr>\n",
       "      <th>1</th>\n",
       "      <td>SOME BY MI Propolis B5 Glow Barrier Calming T...</td>\n",
       "      <td>USD 22.00</td>\n",
       "      <td>USD 17.60</td>\n",
       "    </tr>\n",
       "    <tr>\n",
       "      <th>2</th>\n",
       "      <td>Cos De BAHA Centella Facial Toner 200ml</td>\n",
       "      <td>USD 16.45</td>\n",
       "      <td>USD 13.98</td>\n",
       "    </tr>\n",
       "    <tr>\n",
       "      <th>3</th>\n",
       "      <td>Haruharu WONDER Black Rice Hyaluronic Toner 3...</td>\n",
       "      <td>USD 37.00</td>\n",
       "      <td>USD 31.45</td>\n",
       "    </tr>\n",
       "    <tr>\n",
       "      <th>4</th>\n",
       "      <td>[+FREE GIFT♥] Haruharu WONDER Black Rice Hyal...</td>\n",
       "      <td>USD 37.00</td>\n",
       "      <td>USD 15.99</td>\n",
       "    </tr>\n",
       "    <tr>\n",
       "      <th>...</th>\n",
       "      <td>...</td>\n",
       "      <td>...</td>\n",
       "      <td>...</td>\n",
       "    </tr>\n",
       "    <tr>\n",
       "      <th>580</th>\n",
       "      <td>BENTON Aloe BHA Skin Toner 200ml</td>\n",
       "      <td>USD 19.00</td>\n",
       "      <td>USD 16.15</td>\n",
       "    </tr>\n",
       "    <tr>\n",
       "      <th>581</th>\n",
       "      <td>COSRX BHA BLACKHEAD POWER LIQUID 100 ML</td>\n",
       "      <td>USD 20.81</td>\n",
       "      <td>USD 12.99</td>\n",
       "    </tr>\n",
       "    <tr>\n",
       "      <th>582</th>\n",
       "      <td>SKIN&amp;LAB Medicica Balancing Toner 180ml</td>\n",
       "      <td>USD 21.63</td>\n",
       "      <td>USD 18.39</td>\n",
       "    </tr>\n",
       "    <tr>\n",
       "      <th>583</th>\n",
       "      <td>TIAM Vita B5 Toner 180ml</td>\n",
       "      <td>USD 18.60</td>\n",
       "      <td>USD 15.81</td>\n",
       "    </tr>\n",
       "    <tr>\n",
       "      <th>584</th>\n",
       "      <td>BADSKIN Hyaluronic Spa Toner 500ml</td>\n",
       "      <td>USD 26.00</td>\n",
       "      <td>USD 22.10</td>\n",
       "    </tr>\n",
       "  </tbody>\n",
       "</table>\n",
       "<p>585 rows × 3 columns</p>\n",
       "</div>"
      ],
      "text/plain": [
       "                                                    품목         가격       세일가격\n",
       "0      Abib Heartleaf Calming Toner Skin Booster 200ml  USD 21.00  USD 14.70\n",
       "1     SOME BY MI Propolis B5 Glow Barrier Calming T...  USD 22.00  USD 17.60\n",
       "2              Cos De BAHA Centella Facial Toner 200ml  USD 16.45  USD 13.98\n",
       "3     Haruharu WONDER Black Rice Hyaluronic Toner 3...  USD 37.00  USD 31.45\n",
       "4     [+FREE GIFT♥] Haruharu WONDER Black Rice Hyal...  USD 37.00  USD 15.99\n",
       "..                                                 ...        ...        ...\n",
       "580                   BENTON Aloe BHA Skin Toner 200ml  USD 19.00  USD 16.15\n",
       "581            COSRX BHA BLACKHEAD POWER LIQUID 100 ML  USD 20.81  USD 12.99\n",
       "582            SKIN&LAB Medicica Balancing Toner 180ml  USD 21.63  USD 18.39\n",
       "583                           TIAM Vita B5 Toner 180ml  USD 18.60  USD 15.81\n",
       "584                 BADSKIN Hyaluronic Spa Toner 500ml  USD 26.00  USD 22.10\n",
       "\n",
       "[585 rows x 3 columns]"
      ]
     },
     "execution_count": 34,
     "metadata": {},
     "output_type": "execute_result"
    }
   ],
   "source": [
    "df_fin"
   ]
  },
  {
   "cell_type": "code",
   "execution_count": null,
   "metadata": {},
   "outputs": [],
   "source": []
  },
  {
   "cell_type": "code",
   "execution_count": null,
   "metadata": {},
   "outputs": [],
   "source": []
  }
 ],
 "metadata": {
  "kernelspec": {
   "display_name": "Python 3",
   "language": "python",
   "name": "python3"
  },
  "language_info": {
   "codemirror_mode": {
    "name": "ipython",
    "version": 3
   },
   "file_extension": ".py",
   "mimetype": "text/x-python",
   "name": "python",
   "nbconvert_exporter": "python",
   "pygments_lexer": "ipython3",
   "version": "3.8.3"
  }
 },
 "nbformat": 4,
 "nbformat_minor": 4
}
