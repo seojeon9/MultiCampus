{
 "cells": [
  {
   "cell_type": "markdown",
   "metadata": {},
   "source": [
    "## 공공데이터 API\n",
    "\n",
    "- 제공하는 지자체, 정부부처마다 접근 url등이 상이함\n",
    "    - 데이터 별로 필요 내용 확인\n",
    "    - 요청변수 확인\n",
    "    - 요청 url : 신청한 데이터의 상세설명에서 제공하고 있음\n"
   ]
  },
  {
   "cell_type": "code",
   "execution_count": 1,
   "metadata": {},
   "outputs": [],
   "source": [
    "# 필요 모듈\n",
    "import requests\n",
    "from bs4 import BeautifulSoup\n",
    "import pandas as pd\n"
   ]
  },
  {
   "cell_type": "markdown",
   "metadata": {},
   "source": [
    "### 지역코드 조회 서비스"
   ]
  },
  {
   "cell_type": "code",
   "execution_count": 2,
   "metadata": {},
   "outputs": [],
   "source": [
    "# 내 인증키\n",
    "# key = 'NJZf0IxXtTO8vlgpcZ8TbyYzgziNOLkFbn8dWmvTRbx4AYWTjdPnpNd2nbroAcineXLi971rvGbpoy23qSMPmQ%3D%3D' # 인코딩 키\n",
    "key = 'NJZf0IxXtTO8vlgpcZ8TbyYzgziNOLkFbn8dWmvTRbx4AYWTjdPnpNd2nbroAcineXLi971rvGbpoy23qSMPmQ==' # 디코딩 키"
   ]
  },
  {
   "cell_type": "code",
   "execution_count": 3,
   "metadata": {},
   "outputs": [],
   "source": [
    "m_os = 'ETC'\n",
    "m_ap = 'AppTest'"
   ]
  },
  {
   "cell_type": "code",
   "execution_count": 4,
   "metadata": {},
   "outputs": [
    {
     "data": {
      "text/plain": [
       "'http://api.visitkorea.or.kr/openapi/service/rest/KorService/areaCode?ServiceKey=NJZf0IxXtTO8vlgpcZ8TbyYzgziNOLkFbn8dWmvTRbx4AYWTjdPnpNd2nbroAcineXLi971rvGbpoy23qSMPmQ==&MobileOS=ETC&MobileApp=AppTest&numOfRows=20'"
      ]
     },
     "execution_count": 4,
     "metadata": {},
     "output_type": "execute_result"
    }
   ],
   "source": [
    "# 요청 URL\n",
    "endpoint = 'http://api.visitkorea.or.kr/openapi/service/rest/KorService/areaCode?'\n",
    "skey = 'ServiceKey=' + key\n",
    "param = '&MobileOS=' + m_os + '&MobileApp=' + m_ap + '&numOfRows=' + str(20)\n",
    "\n",
    "url = endpoint + skey + param\n",
    "url"
   ]
  },
  {
   "cell_type": "code",
   "execution_count": 5,
   "metadata": {},
   "outputs": [],
   "source": [
    "result = requests.get(url)"
   ]
  },
  {
   "cell_type": "code",
   "execution_count": 6,
   "metadata": {},
   "outputs": [
    {
     "data": {
      "text/plain": [
       "<Response [200]>"
      ]
     },
     "execution_count": 6,
     "metadata": {},
     "output_type": "execute_result"
    }
   ],
   "source": [
    "result"
   ]
  },
  {
   "cell_type": "code",
   "execution_count": 7,
   "metadata": {},
   "outputs": [
    {
     "data": {
      "text/plain": [
       "<?xml version=\"1.0\" encoding=\"UTF-8\" standalone=\"yes\"?><response><header><resultcode>0000</resultcode><resultmsg>OK</resultmsg></header><body><items><item><code>1</code><name>서울</name><rnum>1</rnum></item><item><code>2</code><name>인천</name><rnum>2</rnum></item><item><code>3</code><name>대전</name><rnum>3</rnum></item><item><code>4</code><name>대구</name><rnum>4</rnum></item><item><code>5</code><name>광주</name><rnum>5</rnum></item><item><code>6</code><name>부산</name><rnum>6</rnum></item><item><code>7</code><name>울산</name><rnum>7</rnum></item><item><code>8</code><name>세종특별자치시</name><rnum>8</rnum></item><item><code>31</code><name>경기도</name><rnum>9</rnum></item><item><code>32</code><name>강원도</name><rnum>10</rnum></item><item><code>33</code><name>충청북도</name><rnum>11</rnum></item><item><code>34</code><name>충청남도</name><rnum>12</rnum></item><item><code>35</code><name>경상북도</name><rnum>13</rnum></item><item><code>36</code><name>경상남도</name><rnum>14</rnum></item><item><code>37</code><name>전라북도</name><rnum>15</rnum></item><item><code>38</code><name>전라남도</name><rnum>16</rnum></item><item><code>39</code><name>제주도</name><rnum>17</rnum></item></items><numofrows>20</numofrows><pageno>1</pageno><totalcount>17</totalcount></body></response>"
      ]
     },
     "execution_count": 7,
     "metadata": {},
     "output_type": "execute_result"
    }
   ],
   "source": [
    "result.content\n",
    "bs_obj = BeautifulSoup(result.content, \"html.parser\")\n",
    "bs_obj"
   ]
  },
  {
   "cell_type": "code",
   "execution_count": 8,
   "metadata": {},
   "outputs": [
    {
     "data": {
      "text/plain": [
       "[<item><code>1</code><name>서울</name><rnum>1</rnum></item>,\n",
       " <item><code>2</code><name>인천</name><rnum>2</rnum></item>,\n",
       " <item><code>3</code><name>대전</name><rnum>3</rnum></item>,\n",
       " <item><code>4</code><name>대구</name><rnum>4</rnum></item>,\n",
       " <item><code>5</code><name>광주</name><rnum>5</rnum></item>,\n",
       " <item><code>6</code><name>부산</name><rnum>6</rnum></item>,\n",
       " <item><code>7</code><name>울산</name><rnum>7</rnum></item>,\n",
       " <item><code>8</code><name>세종특별자치시</name><rnum>8</rnum></item>,\n",
       " <item><code>31</code><name>경기도</name><rnum>9</rnum></item>,\n",
       " <item><code>32</code><name>강원도</name><rnum>10</rnum></item>,\n",
       " <item><code>33</code><name>충청북도</name><rnum>11</rnum></item>,\n",
       " <item><code>34</code><name>충청남도</name><rnum>12</rnum></item>,\n",
       " <item><code>35</code><name>경상북도</name><rnum>13</rnum></item>,\n",
       " <item><code>36</code><name>경상남도</name><rnum>14</rnum></item>,\n",
       " <item><code>37</code><name>전라북도</name><rnum>15</rnum></item>,\n",
       " <item><code>38</code><name>전라남도</name><rnum>16</rnum></item>,\n",
       " <item><code>39</code><name>제주도</name><rnum>17</rnum></item>]"
      ]
     },
     "execution_count": 8,
     "metadata": {},
     "output_type": "execute_result"
    }
   ],
   "source": [
    "items = bs_obj.find('items')\n",
    "item = items.findAll('item')\n",
    "item"
   ]
  },
  {
   "cell_type": "code",
   "execution_count": 9,
   "metadata": {},
   "outputs": [
    {
     "data": {
      "text/plain": [
       "'서울'"
      ]
     },
     "execution_count": 9,
     "metadata": {},
     "output_type": "execute_result"
    }
   ],
   "source": [
    "item[0]\n",
    "item[0].code.text\n",
    "item[0].name # name이 태그 객체의 속성명이므로 . 로 접근 불가\n",
    "item[0].find('name').text"
   ]
  },
  {
   "cell_type": "code",
   "execution_count": 10,
   "metadata": {},
   "outputs": [
    {
     "data": {
      "text/plain": [
       "['1',\n",
       " '2',\n",
       " '3',\n",
       " '4',\n",
       " '5',\n",
       " '6',\n",
       " '7',\n",
       " '8',\n",
       " '31',\n",
       " '32',\n",
       " '33',\n",
       " '34',\n",
       " '35',\n",
       " '36',\n",
       " '37',\n",
       " '38',\n",
       " '39']"
      ]
     },
     "execution_count": 10,
     "metadata": {},
     "output_type": "execute_result"
    }
   ],
   "source": [
    "area_code = [ i.code.text for i in item]\n",
    "area_code"
   ]
  },
  {
   "cell_type": "code",
   "execution_count": 11,
   "metadata": {},
   "outputs": [
    {
     "data": {
      "text/plain": [
       "['서울',\n",
       " '인천',\n",
       " '대전',\n",
       " '대구',\n",
       " '광주',\n",
       " '부산',\n",
       " '울산',\n",
       " '세종특별자치시',\n",
       " '경기도',\n",
       " '강원도',\n",
       " '충청북도',\n",
       " '충청남도',\n",
       " '경상북도',\n",
       " '경상남도',\n",
       " '전라북도',\n",
       " '전라남도',\n",
       " '제주도']"
      ]
     },
     "execution_count": 11,
     "metadata": {},
     "output_type": "execute_result"
    }
   ],
   "source": [
    "area_name = [ i.find('name').text for i in item]\n",
    "area_name"
   ]
  },
  {
   "cell_type": "code",
   "execution_count": 12,
   "metadata": {},
   "outputs": [
    {
     "data": {
      "text/html": [
       "<div>\n",
       "<style scoped>\n",
       "    .dataframe tbody tr th:only-of-type {\n",
       "        vertical-align: middle;\n",
       "    }\n",
       "\n",
       "    .dataframe tbody tr th {\n",
       "        vertical-align: top;\n",
       "    }\n",
       "\n",
       "    .dataframe thead th {\n",
       "        text-align: right;\n",
       "    }\n",
       "</style>\n",
       "<table border=\"1\" class=\"dataframe\">\n",
       "  <thead>\n",
       "    <tr style=\"text-align: right;\">\n",
       "      <th></th>\n",
       "      <th>광역시도코드</th>\n",
       "      <th>광역시도명</th>\n",
       "    </tr>\n",
       "  </thead>\n",
       "  <tbody>\n",
       "    <tr>\n",
       "      <th>0</th>\n",
       "      <td>1</td>\n",
       "      <td>서울</td>\n",
       "    </tr>\n",
       "    <tr>\n",
       "      <th>1</th>\n",
       "      <td>2</td>\n",
       "      <td>인천</td>\n",
       "    </tr>\n",
       "    <tr>\n",
       "      <th>2</th>\n",
       "      <td>3</td>\n",
       "      <td>대전</td>\n",
       "    </tr>\n",
       "    <tr>\n",
       "      <th>3</th>\n",
       "      <td>4</td>\n",
       "      <td>대구</td>\n",
       "    </tr>\n",
       "    <tr>\n",
       "      <th>4</th>\n",
       "      <td>5</td>\n",
       "      <td>광주</td>\n",
       "    </tr>\n",
       "    <tr>\n",
       "      <th>5</th>\n",
       "      <td>6</td>\n",
       "      <td>부산</td>\n",
       "    </tr>\n",
       "    <tr>\n",
       "      <th>6</th>\n",
       "      <td>7</td>\n",
       "      <td>울산</td>\n",
       "    </tr>\n",
       "    <tr>\n",
       "      <th>7</th>\n",
       "      <td>8</td>\n",
       "      <td>세종특별자치시</td>\n",
       "    </tr>\n",
       "    <tr>\n",
       "      <th>8</th>\n",
       "      <td>31</td>\n",
       "      <td>경기도</td>\n",
       "    </tr>\n",
       "    <tr>\n",
       "      <th>9</th>\n",
       "      <td>32</td>\n",
       "      <td>강원도</td>\n",
       "    </tr>\n",
       "    <tr>\n",
       "      <th>10</th>\n",
       "      <td>33</td>\n",
       "      <td>충청북도</td>\n",
       "    </tr>\n",
       "    <tr>\n",
       "      <th>11</th>\n",
       "      <td>34</td>\n",
       "      <td>충청남도</td>\n",
       "    </tr>\n",
       "    <tr>\n",
       "      <th>12</th>\n",
       "      <td>35</td>\n",
       "      <td>경상북도</td>\n",
       "    </tr>\n",
       "    <tr>\n",
       "      <th>13</th>\n",
       "      <td>36</td>\n",
       "      <td>경상남도</td>\n",
       "    </tr>\n",
       "    <tr>\n",
       "      <th>14</th>\n",
       "      <td>37</td>\n",
       "      <td>전라북도</td>\n",
       "    </tr>\n",
       "    <tr>\n",
       "      <th>15</th>\n",
       "      <td>38</td>\n",
       "      <td>전라남도</td>\n",
       "    </tr>\n",
       "    <tr>\n",
       "      <th>16</th>\n",
       "      <td>39</td>\n",
       "      <td>제주도</td>\n",
       "    </tr>\n",
       "  </tbody>\n",
       "</table>\n",
       "</div>"
      ],
      "text/plain": [
       "   광역시도코드    광역시도명\n",
       "0       1       서울\n",
       "1       2       인천\n",
       "2       3       대전\n",
       "3       4       대구\n",
       "4       5       광주\n",
       "5       6       부산\n",
       "6       7       울산\n",
       "7       8  세종특별자치시\n",
       "8      31      경기도\n",
       "9      32      강원도\n",
       "10     33     충청북도\n",
       "11     34     충청남도\n",
       "12     35     경상북도\n",
       "13     36     경상남도\n",
       "14     37     전라북도\n",
       "15     38     전라남도\n",
       "16     39      제주도"
      ]
     },
     "execution_count": 12,
     "metadata": {},
     "output_type": "execute_result"
    }
   ],
   "source": [
    "a_code = pd.DataFrame({'광역시도코드':area_code,\n",
    "                      '광역시도명':area_name})\n",
    "a_code"
   ]
  },
  {
   "cell_type": "code",
   "execution_count": 13,
   "metadata": {},
   "outputs": [],
   "source": [
    "# a_code.to_csv('./crawl_data/광역시도코드_관광공사.csv')"
   ]
  },
  {
   "cell_type": "markdown",
   "metadata": {},
   "source": [
    "### 시군구코드 조회"
   ]
  },
  {
   "cell_type": "code",
   "execution_count": 20,
   "metadata": {},
   "outputs": [],
   "source": [
    "area = pd.read_csv('./crawl_data/광역시도코드_관광공사.csv',index_col=0)"
   ]
  },
  {
   "cell_type": "code",
   "execution_count": 21,
   "metadata": {},
   "outputs": [
    {
     "data": {
      "text/html": [
       "<div>\n",
       "<style scoped>\n",
       "    .dataframe tbody tr th:only-of-type {\n",
       "        vertical-align: middle;\n",
       "    }\n",
       "\n",
       "    .dataframe tbody tr th {\n",
       "        vertical-align: top;\n",
       "    }\n",
       "\n",
       "    .dataframe thead th {\n",
       "        text-align: right;\n",
       "    }\n",
       "</style>\n",
       "<table border=\"1\" class=\"dataframe\">\n",
       "  <thead>\n",
       "    <tr style=\"text-align: right;\">\n",
       "      <th></th>\n",
       "      <th>광역시도코드</th>\n",
       "      <th>광역시도명</th>\n",
       "    </tr>\n",
       "  </thead>\n",
       "  <tbody>\n",
       "    <tr>\n",
       "      <th>0</th>\n",
       "      <td>1</td>\n",
       "      <td>서울</td>\n",
       "    </tr>\n",
       "    <tr>\n",
       "      <th>1</th>\n",
       "      <td>2</td>\n",
       "      <td>인천</td>\n",
       "    </tr>\n",
       "    <tr>\n",
       "      <th>2</th>\n",
       "      <td>3</td>\n",
       "      <td>대전</td>\n",
       "    </tr>\n",
       "    <tr>\n",
       "      <th>3</th>\n",
       "      <td>4</td>\n",
       "      <td>대구</td>\n",
       "    </tr>\n",
       "    <tr>\n",
       "      <th>4</th>\n",
       "      <td>5</td>\n",
       "      <td>광주</td>\n",
       "    </tr>\n",
       "  </tbody>\n",
       "</table>\n",
       "</div>"
      ],
      "text/plain": [
       "   광역시도코드 광역시도명\n",
       "0       1    서울\n",
       "1       2    인천\n",
       "2       3    대전\n",
       "3       4    대구\n",
       "4       5    광주"
      ]
     },
     "execution_count": 21,
     "metadata": {},
     "output_type": "execute_result"
    }
   ],
   "source": [
    "area.head()"
   ]
  },
  {
   "cell_type": "markdown",
   "metadata": {},
   "source": [
    "### 지역코드 조회 함수\n",
    "- get_arcode(a_code=None) \n",
    "    - a_code 파라미터는 광역시도 코드\n",
    "    - a_code 인수가 안넘어오면 기본값 None"
   ]
  },
  {
   "cell_type": "code",
   "execution_count": 29,
   "metadata": {},
   "outputs": [],
   "source": [
    "MobileOS = 'ETC'\n",
    "MobileApp = 'AppTest'\n",
    "numOfRows = '50'\n",
    "def get_arcode(a_code=None) :\n",
    "    endpoint = 'http://api.visitkorea.or.kr/openapi/service/rest/KorService/areaCode?'\n",
    "    skey = 'ServiceKey=' + key\n",
    "    param = \"&\" +'MobileOS=' + MobileOS + \"&\" + 'MobileApp=' + MobileApp + '&'+'numOfRows=' + numOfRows\n",
    "    if a_code != None :\n",
    "        param += '&areaCode=' + str(a_code)\n",
    "    url = endpoint + skey + param\n",
    "    \n",
    "    result=requests.get(url)\n",
    "    bs_obj=BeautifulSoup(result.content,\"html.parser\")\n",
    "    area_code = [s.code.text for s in bs_obj.findAll('item') ]\n",
    "    area_name = [s.find('name').text for s in bs_obj.findAll('item') ]\n",
    "    a_code= pd.DataFrame({'코드':area_code,'지역명':area_name,'지역코드':a_code})\n",
    "    return a_code\n"
   ]
  },
  {
   "cell_type": "code",
   "execution_count": 32,
   "metadata": {},
   "outputs": [],
   "source": [
    "df_fin = pd.DataFrame()\n",
    "\n",
    "for i in area.광역시도코드 :\n",
    "    df = get_arcode(i)\n",
    "    df_fin = pd.concat([df_fin,df],axis=0,ignore_index=True)"
   ]
  },
  {
   "cell_type": "code",
   "execution_count": 33,
   "metadata": {},
   "outputs": [
    {
     "data": {
      "text/html": [
       "<div>\n",
       "<style scoped>\n",
       "    .dataframe tbody tr th:only-of-type {\n",
       "        vertical-align: middle;\n",
       "    }\n",
       "\n",
       "    .dataframe tbody tr th {\n",
       "        vertical-align: top;\n",
       "    }\n",
       "\n",
       "    .dataframe thead th {\n",
       "        text-align: right;\n",
       "    }\n",
       "</style>\n",
       "<table border=\"1\" class=\"dataframe\">\n",
       "  <thead>\n",
       "    <tr style=\"text-align: right;\">\n",
       "      <th></th>\n",
       "      <th>코드</th>\n",
       "      <th>지역명</th>\n",
       "      <th>지역코드</th>\n",
       "    </tr>\n",
       "  </thead>\n",
       "  <tbody>\n",
       "    <tr>\n",
       "      <th>0</th>\n",
       "      <td>1</td>\n",
       "      <td>강남구</td>\n",
       "      <td>1</td>\n",
       "    </tr>\n",
       "    <tr>\n",
       "      <th>1</th>\n",
       "      <td>2</td>\n",
       "      <td>강동구</td>\n",
       "      <td>1</td>\n",
       "    </tr>\n",
       "    <tr>\n",
       "      <th>2</th>\n",
       "      <td>3</td>\n",
       "      <td>강북구</td>\n",
       "      <td>1</td>\n",
       "    </tr>\n",
       "    <tr>\n",
       "      <th>3</th>\n",
       "      <td>4</td>\n",
       "      <td>강서구</td>\n",
       "      <td>1</td>\n",
       "    </tr>\n",
       "    <tr>\n",
       "      <th>4</th>\n",
       "      <td>5</td>\n",
       "      <td>관악구</td>\n",
       "      <td>1</td>\n",
       "    </tr>\n",
       "    <tr>\n",
       "      <th>...</th>\n",
       "      <td>...</td>\n",
       "      <td>...</td>\n",
       "      <td>...</td>\n",
       "    </tr>\n",
       "    <tr>\n",
       "      <th>229</th>\n",
       "      <td>24</td>\n",
       "      <td>화순군</td>\n",
       "      <td>38</td>\n",
       "    </tr>\n",
       "    <tr>\n",
       "      <th>230</th>\n",
       "      <td>1</td>\n",
       "      <td>남제주군</td>\n",
       "      <td>39</td>\n",
       "    </tr>\n",
       "    <tr>\n",
       "      <th>231</th>\n",
       "      <td>2</td>\n",
       "      <td>북제주군</td>\n",
       "      <td>39</td>\n",
       "    </tr>\n",
       "    <tr>\n",
       "      <th>232</th>\n",
       "      <td>3</td>\n",
       "      <td>서귀포시</td>\n",
       "      <td>39</td>\n",
       "    </tr>\n",
       "    <tr>\n",
       "      <th>233</th>\n",
       "      <td>4</td>\n",
       "      <td>제주시</td>\n",
       "      <td>39</td>\n",
       "    </tr>\n",
       "  </tbody>\n",
       "</table>\n",
       "<p>234 rows × 3 columns</p>\n",
       "</div>"
      ],
      "text/plain": [
       "     코드   지역명  지역코드\n",
       "0     1   강남구     1\n",
       "1     2   강동구     1\n",
       "2     3   강북구     1\n",
       "3     4   강서구     1\n",
       "4     5   관악구     1\n",
       "..   ..   ...   ...\n",
       "229  24   화순군    38\n",
       "230   1  남제주군    39\n",
       "231   2  북제주군    39\n",
       "232   3  서귀포시    39\n",
       "233   4   제주시    39\n",
       "\n",
       "[234 rows x 3 columns]"
      ]
     },
     "execution_count": 33,
     "metadata": {},
     "output_type": "execute_result"
    }
   ],
   "source": [
    "df_fin"
   ]
  },
  {
   "cell_type": "code",
   "execution_count": 34,
   "metadata": {},
   "outputs": [],
   "source": [
    "# df_fin.to_csv('./crawl_data/광역시도별_시군구코드.csv')"
   ]
  },
  {
   "cell_type": "markdown",
   "metadata": {},
   "source": [
    "### 지역기반 행사 조회 서비스"
   ]
  },
  {
   "cell_type": "code",
   "execution_count": 14,
   "metadata": {},
   "outputs": [],
   "source": [
    "endpoint = 'http://api.visitkorea.or.kr/openapi/service/rest/KorService/searchFestival?'\n",
    "skey = key"
   ]
  },
  {
   "cell_type": "code",
   "execution_count": 50,
   "metadata": {},
   "outputs": [],
   "source": [
    "MobileOS = 'ETC'\n",
    "MobileApp = 'AppTest'\n",
    "numOfRows = '100'\n",
    "arrange = 'A'\n",
    "listYN = \"Y\"\n",
    "areaCode = \"1\"\n",
    "sigunguCode= \"4\"\n",
    "eventStartDate = '20220101'"
   ]
  },
  {
   "cell_type": "markdown",
   "metadata": {},
   "source": [
    "### 서울시 지역 행사 조회(20220101 이후 개최된 행사정보)"
   ]
  },
  {
   "cell_type": "code",
   "execution_count": 61,
   "metadata": {},
   "outputs": [],
   "source": [
    "paramset = 'serviceKey=' + skey + '&' \\\n",
    "+ 'MobileOS=' + MobileOS + \"&\" \\\n",
    "+ 'MobileApp=' + MobileApp + \"&\" \\\n",
    "+ 'numOfRows=' + numOfRows + '&' \\\n",
    "+ 'arrange=' + arrange + '&' \\\n",
    "+ 'listYN=' + listYN + '&' \\\n",
    "+ 'areaCode=' + areaCode + '&' \\\n",
    "+ 'eventStartDate=' + eventStartDate"
   ]
  },
  {
   "cell_type": "code",
   "execution_count": 63,
   "metadata": {},
   "outputs": [
    {
     "data": {
      "text/plain": [
       "'http://api.visitkorea.or.kr/openapi/service/rest/KorService/searchFestival?serviceKey=NJZf0IxXtTO8vlgpcZ8TbyYzgziNOLkFbn8dWmvTRbx4AYWTjdPnpNd2nbroAcineXLi971rvGbpoy23qSMPmQ==&MobileOS=ETC&MobileApp=AppTest&numOfRows=100&arrange=A&listYN=Y&areaCode=1&eventStartDate=20220101'"
      ]
     },
     "execution_count": 63,
     "metadata": {},
     "output_type": "execute_result"
    }
   ],
   "source": [
    "url = endpoint+paramset\n",
    "url"
   ]
  },
  {
   "cell_type": "code",
   "execution_count": 64,
   "metadata": {},
   "outputs": [
    {
     "data": {
      "text/plain": [
       "<Response [200]>"
      ]
     },
     "execution_count": 64,
     "metadata": {},
     "output_type": "execute_result"
    }
   ],
   "source": [
    "result = requests.get(url)\n",
    "result"
   ]
  },
  {
   "cell_type": "code",
   "execution_count": 65,
   "metadata": {},
   "outputs": [
    {
     "data": {
      "text/plain": [
       "<?xml version=\"1.0\" encoding=\"UTF-8\" standalone=\"yes\"?><response><header><resultcode>0000</resultcode><resultmsg>OK</resultmsg></header><body><items><item><addr1>서울특별시 종로구 삼청로 30</addr1><addr2>(소격동)</addr2><areacode>1</areacode><cat1>A02</cat1><cat2>A0208</cat2><cat3>A02080500</cat3><contentid>2733528</contentid><contenttypeid>15</contenttypeid><createdtime>20210813014105</createdtime><eventenddate>20220606</eventenddate><eventstartdate>20210721</eventstartdate><firstimage>http://tong.visitkorea.or.kr/cms/resource/27/2733527_image2_1.jpg</firstimage><firstimage2>http://tong.visitkorea.or.kr/cms/resource/27/2733527_image2_1.jpg</firstimage2><mapx>126.9800649747</mapx><mapy>37.5788361778</mapy><mlevel>6</mlevel><modifiedtime>20220603161322</modifiedtime><readcount>0</readcount><sigungucode>23</sigungucode><tel>02-3701-9500</tel><title>《MMCA 이건희컬렉션 특별전: 한국미술명작》</title></item><item><addr1>서울특별시 강남구 논현동</addr1><addr2>논현동 가구거리</addr2><areacode>1</areacode><cat1>A02</cat1><cat2>A0208</cat2><cat3>A02080600</cat3><contentid>2819403</contentid><contenttypeid>15</contenttypeid><createdtime>20220511162910</createdtime><eventenddate>20220904</eventenddate><eventstartdate>20220826</eventstartdate><firstimage>http://tong.visitkorea.or.kr/cms/resource/96/2819396_image2_1.jpg</firstimage><firstimage2>http://tong.visitkorea.or.kr/cms/resource/96/2819396_image2_1.jpg</firstimage2><mapx>127.0225157989</mapx><mapy>37.5112531257</mapy><mlevel>6</mlevel><modifiedtime>20220511163759</modifiedtime><readcount>0</readcount><sigungucode>1</sigungucode><tel>02-3423-5532</tel><title>강남인테리어디자인위크</title></item><item><addr1>서울특별시 중구 을지로 281</addr1><areacode>1</areacode><cat1>A02</cat1><cat2>A0207</cat2><cat3>A02070200</cat3><contentid>2735376</contentid><contenttypeid>15</contenttypeid><createdtime>20210820001835</createdtime><eventenddate>20220522</eventenddate><eventstartdate>20220423</eventstartdate><firstimage>http://tong.visitkorea.or.kr/cms/resource/90/2816490_image2_1.jpg</firstimage><firstimage2>http://tong.visitkorea.or.kr/cms/resource/90/2816490_image2_1.jpg</firstimage2><mapx>127.0095709797</mapx><mapy>37.5661076320</mapy><mlevel>6</mlevel><modifiedtime>20220418113955</modifiedtime><readcount>0</readcount><sigungucode>6</sigungucode><tel>02-3437-0059</tel><title>거리예술 캬라반 ‘봄’</title></item><item><addr1>서울특별시 강서구 양천로47길 36</addr1><areacode>1</areacode><cat1>A02</cat1><cat2>A0207</cat2><cat3>A02070200</cat3><contentid>2490376</contentid><contenttypeid>15</contenttypeid><createdtime>20170418024520</createdtime><eventenddate>20220611</eventenddate><eventstartdate>20220611</eventstartdate><firstimage>http://tong.visitkorea.or.kr/cms/resource/45/2819745_image2_1.jpg</firstimage><firstimage2>http://tong.visitkorea.or.kr/cms/resource/45/2819745_image2_1.jpg</firstimage2><mapx>126.8383836374</mapx><mapy>37.5722066362</mapy><mlevel>6</mlevel><modifiedtime>20220513141205</modifiedtime><readcount>3937</readcount><sigungucode>4</sigungucode><tel>02-2659-2206</tel><title>겸재문화예술제</title></item><item><addr1>서울특별시 종로구 사직로 161</addr1><areacode>1</areacode><cat1>A02</cat1><cat2>A0207</cat2><cat3>A02070200</cat3><contentid>2648460</contentid><contenttypeid>15</contenttypeid><createdtime>20200224192834</createdtime><eventenddate>20220529</eventenddate><eventstartdate>20220518</eventstartdate><firstimage>http://tong.visitkorea.or.kr/cms/resource/50/2818650_image2_1.jpg</firstimage><firstimage2>http://tong.visitkorea.or.kr/cms/resource/50/2818650_image2_1.jpg</firstimage2><mapx>126.9770319156</mapx><mapy>37.5788944508</mapy><mlevel>6</mlevel><modifiedtime>20220504170235</modifiedtime><readcount>0</readcount><sigungucode>23</sigungucode><tel>02-3210-4633</tel><title>경복궁 별빛야행</title></item><item><addr1>서울특별시 종로구 사직로 161</addr1><areacode>1</areacode><cat1>A02</cat1><cat2>A0207</cat2><cat3>A02070200</cat3><contentid>2601364</contentid><contenttypeid>15</contenttypeid><createdtime>20190511024353</createdtime><eventenddate>20220620</eventenddate><eventstartdate>20220608</eventstartdate><firstimage>http://tong.visitkorea.or.kr/cms/resource/65/2821665_image2_1.png</firstimage><firstimage2>http://tong.visitkorea.or.kr/cms/resource/65/2821665_image3_1.png</firstimage2><mapx>126.9748959222</mapx><mapy>37.5816246501</mapy><mlevel>6</mlevel><modifiedtime>20220526100256</modifiedtime><readcount>40</readcount><sigungucode>23</sigungucode><tel>02-3210-0778</tel><title>경복궁 수라간 시식공감</title></item><item><addr1>서울특별시 관악구</addr1><addr2>(봉천동)</addr2><areacode>1</areacode><cat1>A02</cat1><cat2>A0207</cat2><cat3>A02070200</cat3><contentid>2612274</contentid><contenttypeid>15</contenttypeid><createdtime>20190722184803</createdtime><eventenddate>20221016</eventenddate><eventstartdate>20221014</eventstartdate><firstimage>http://tong.visitkorea.or.kr/cms/resource/16/2667216_image2_1.jpg</firstimage><firstimage2>http://tong.visitkorea.or.kr/cms/resource/16/2667216_image2_1.jpg</firstimage2><mapx>126.9514981970</mapx><mapy>37.4782084678</mapy><mlevel>6</mlevel><modifiedtime>20220413140534</modifiedtime><readcount>0</readcount><sigungucode>5</sigungucode><tel>02) 828-5763</tel><title>관악강감찬축제</title></item><item><addr1>서울특별시 관악구 호암로22길 51</addr1><areacode>1</areacode><cat1>A02</cat1><cat2>A0208</cat2><cat3>A02081100</cat3><contentid>2819336</contentid><contenttypeid>15</contenttypeid><createdtime>20220511153614</createdtime><eventenddate>20221127</eventenddate><eventstartdate>20220424</eventstartdate><firstimage>http://tong.visitkorea.or.kr/cms/resource/52/2819252_image2_1.jpg</firstimage><firstimage2>http://tong.visitkorea.or.kr/cms/resource/52/2819252_image2_1.jpg</firstimage2><mapx>126.9356471260</mapx><mapy>37.4688426049</mapy><mlevel>6</mlevel><modifiedtime>20220512131429</modifiedtime><readcount>0</readcount><sigungucode>5</sigungucode><tel>&lt;a href=\"https://www.instagram.com/p/CdLEB4DrDBb/?igshid=YmMyMTA2M2Y=\" target=\"_blank\" title=\"새창 : 광태소극장 독립영화관 2022 감독전\"&gt;www.instagram.com&lt;/a&gt;</tel><title>광태소극장 독립영화관 2022 감독전</title></item><item><addr1>서울특별시 종로구 사직로 130 3호선 경복궁역</addr1><areacode>1</areacode><cat1>A02</cat1><cat2>A0208</cat2><cat3>A02080500</cat3><contentid>2824778</contentid><contenttypeid>15</contenttypeid><createdtime>20220621181113</createdtime><eventenddate>20231231</eventenddate><eventstartdate>20220114</eventstartdate><firstimage>http://tong.visitkorea.or.kr/cms/resource/67/2824867_image2_1.jpg</firstimage><firstimage2>http://tong.visitkorea.or.kr/cms/resource/67/2824867_image3_1.jpg</firstimage2><mapx>126.9730879153</mapx><mapy>37.5759169480</mapy><mlevel>6</mlevel><modifiedtime>20220627142221</modifiedtime><readcount>0</readcount><sigungucode>23</sigungucode><tel>02-2068-1176</tel><title>광화원 도심 속 미디어 정원</title></item><item><addr1>서울특별시 종로구 삼청로 37</addr1><addr2>(세종로)</addr2><areacode>1</areacode><cat1>A02</cat1><cat2>A0207</cat2><cat3>A02070200</cat3><contentid>679482</contentid><contenttypeid>15</contenttypeid><createdtime>20090115000631</createdtime><eventenddate>20220507</eventenddate><eventstartdate>20220505</eventstartdate><mapx>126.9789372085</mapx><mapy>37.5820413408</mapy><mlevel>6</mlevel><modifiedtime>20220503132156</modifiedtime><readcount>25449</readcount><sigungucode>23</sigungucode><tel>본관: 02-3704-3114&lt;br&gt;파주관: 031-580-5800</tel><title>국립민속박물관 어린이날 한마당</title></item><item><addr1>서울특별시 종로구 삼청로 37</addr1><addr2>(세종로)</addr2><areacode>1</areacode><cat1>A02</cat1><cat2>A0208</cat2><cat3>A02080100</cat3><contentid>140660</contentid><contenttypeid>15</contenttypeid><createdtime>20040311000000</createdtime><eventenddate>20221224</eventenddate><eventstartdate>20210101</eventstartdate><mapx>126.9788705506</mapx><mapy>37.5819663482</mapy><mlevel>6</mlevel><modifiedtime>20211221161229</modifiedtime><readcount>22182</readcount><sigungucode>23</sigungucode><tel>02-3704-3114</tel><title>국립민속박물관 우리민속한마당</title></item><item><addr1>서울특별시 종로구 삼청로 37</addr1><addr2>(세종로)</addr2><areacode>1</areacode><cat1>A02</cat1><cat2>A0207</cat2><cat3>A02070200</cat3><contentid>1204941</contentid><contenttypeid>15</contenttypeid><createdtime>20110216000050</createdtime><eventenddate>20220215</eventenddate><eventstartdate>20220212</eventstartdate><mapx>126.9788594400</mapx><mapy>37.5819774581</mapy><mlevel>6</mlevel><modifiedtime>20220211122743</modifiedtime><readcount>9540</readcount><sigungucode>23</sigungucode><tel>본관: 02-3704-3114&lt;br&gt;파주관: 031-580-5800</tel><title>국립민속박물관 정월대보름 한마당</title></item><item><addr1>서울특별시 강남구 영동대로 513</addr1><addr2>(삼성동)</addr2><areacode>1</areacode><cat1>A02</cat1><cat2>A0208</cat2><cat3>A02080600</cat3><contentid>1276136</contentid><contenttypeid>15</contenttypeid><createdtime>20110512192643</createdtime><eventenddate>20220605</eventenddate><eventstartdate>20220602</eventstartdate><mapx>127.0594124394</mapx><mapy>37.5112648981</mapy><mlevel>6</mlevel><modifiedtime>20220614170520</modifiedtime><readcount>31761</readcount><sigungucode>1</sigungucode><tel>02-6000-8000</tel><title>국제차문화대전</title></item><item><addr1>서울특별시 서초구 강남대로 27 AT센터</addr1><areacode>1</areacode><cat1>A02</cat1><cat2>A0207</cat2><cat3>A02070200</cat3><contentid>2659596</contentid><contenttypeid>15</contenttypeid><createdtime>20200612200502</createdtime><eventenddate>20220619</eventenddate><eventstartdate>20220617</eventstartdate><firstimage>http://tong.visitkorea.or.kr/cms/resource/39/2722939_image2_1.png</firstimage><firstimage2>http://tong.visitkorea.or.kr/cms/resource/39/2722939_image2_1.png</firstimage2><mapx>127.0407514903</mapx><mapy>37.4673918780</mapy><mlevel>6</mlevel><modifiedtime>20220613164952</modifiedtime><readcount>0</readcount><sigungucode>15</sigungucode><tel>070-8866-6668</tel><title>궁디팡팡 캣페스타</title></item><item><addr1>서울특별시 종로구 사직로 161</addr1><areacode>1</areacode><cat1>A02</cat1><cat2>A0207</cat2><cat3>A02070200</cat3><contentid>1998564</contentid><contenttypeid>15</contenttypeid><createdtime>20150421185827</createdtime><eventenddate>20221009</eventenddate><eventstartdate>20221001</eventstartdate><firstimage>http://tong.visitkorea.or.kr/cms/resource/07/2718907_image2_1.png</firstimage><firstimage2>http://tong.visitkorea.or.kr/cms/resource/07/2718907_image2_1.png</firstimage2><mapx>126.9769930325</mapx><mapy>37.5788222356</mapy><mlevel>6</mlevel><modifiedtime>20220620165404</modifiedtime><readcount>65553</readcount><sigungucode>23</sigungucode><tel>02-3210-4683</tel><title>궁중문화축전</title></item><item><addr1>서울특별시 강북구 삼양로 561</addr1><addr2>(우이동)</addr2><areacode>1</areacode><cat1>A02</cat1><cat2>A0208</cat2><cat3>A02081300</cat3><contentid>2592414</contentid><contenttypeid>15</contenttypeid><createdtime>20190319004141</createdtime><eventenddate>20221231</eventenddate><eventstartdate>20220423</eventstartdate><firstimage>http://tong.visitkorea.or.kr/cms/resource/20/2752920_image2_1.png</firstimage><firstimage2>http://tong.visitkorea.or.kr/cms/resource/20/2752920_image2_1.png</firstimage2><mapx>127.0122877055</mapx><mapy>37.6530781245</mapy><mlevel>6</mlevel><modifiedtime>20220428135113</modifiedtime><readcount>50</readcount><sigungucode>3</sigungucode><tel>02-901-6213</tel><title>근현대사 추리여행, '사라진 열쇠를 찾아라'</title></item><item><addr1>서울특별시 중구 세종대로 99 덕수궁</addr1><areacode>1</areacode><cat1>A02</cat1><cat2>A0208</cat2><cat3>A02081300</cat3><contentid>2829873</contentid><contenttypeid>15</contenttypeid><createdtime>20220727183605</createdtime><eventenddate>20220814</eventenddate><eventstartdate>20220809</eventstartdate><firstimage>http://tong.visitkorea.or.kr/cms/resource/67/2829867_image2_1.jpg</firstimage><firstimage2>http://tong.visitkorea.or.kr/cms/resource/67/2829867_image3_1.jpg</firstimage2><mapx>126.9765906796</mapx><mapy>37.5651071556</mapy><mlevel>6</mlevel><modifiedtime>20220727183614</modifiedtime><readcount>0</readcount><sigungucode>24</sigungucode><title>나이트 수문장 주간</title></item><item><addr1>서울특별시 중구 명동길 26</addr1><addr2>(명동2가)</addr2><areacode>1</areacode><cat1>A02</cat1><cat2>A0208</cat2><cat3>A02080300</cat3><contentid>406745</contentid><contenttypeid>15</contenttypeid><createdtime>20080118180330</createdtime><eventenddate>20220228</eventenddate><eventstartdate>20211202</eventstartdate><firstimage>http://tong.visitkorea.or.kr/cms/resource/86/2034286_image2_1.jpg</firstimage><firstimage2>http://tong.visitkorea.or.kr/cms/resource/86/2034286_image3_1.jpg</firstimage2><mapx>126.9837456304</mapx><mapy>37.5634463660</mapy><mlevel>6</mlevel><modifiedtime>20211221164759</modifiedtime><readcount>44442</readcount><sigungucode>24</sigungucode><tel>02-739-8288</tel><title>난타 (명동)</title></item><item><addr1>서울특별시 중구 퇴계로34길 28 남산골한옥마을</addr1><areacode>1</areacode><cat1>A02</cat1><cat2>A0207</cat2><cat3>A02070200</cat3><contentid>2819167</contentid><contenttypeid>15</contenttypeid><createdtime>20220510165402</createdtime><eventenddate>20220925</eventenddate><eventstartdate>20220922</eventstartdate><firstimage>http://tong.visitkorea.or.kr/cms/resource/64/2819164_image2_1.jpg</firstimage><firstimage2>http://tong.visitkorea.or.kr/cms/resource/64/2819164_image2_1.jpg</firstimage2><mapx>126.9932865315</mapx><mapy>37.5597775194</mapy><mlevel>6</mlevel><modifiedtime>20220510165412</modifiedtime><readcount>0</readcount><sigungucode>24</sigungucode><tel>02-2000-5806</tel><title>남산 한국의 맛 축제</title></item><item><addr1>서울특별시 종로구 종로 54 보신각</addr1><areacode>1</areacode><cat1>A02</cat1><cat2>A0208</cat2><cat3>A02080100</cat3><contentid>2809535</contentid><contenttypeid>15</contenttypeid><createdtime>20220307144537</createdtime><eventenddate>20221231</eventenddate><eventstartdate>20220101</eventstartdate><firstimage>http://tong.visitkorea.or.kr/cms/resource/29/2809529_image2_1.jpg</firstimage><firstimage2>http://tong.visitkorea.or.kr/cms/resource/29/2809529_image2_1.jpg</firstimage2><mapx>126.9836898995</mapx><mapy>37.5698206245</mapy><mlevel>6</mlevel><modifiedtime>20220315130954</modifiedtime><readcount>0</readcount><sigungucode>23</sigungucode><tel>02-120</tel><title>남산봉수의식 등 전통문화 재현행사</title></item><item><addr1>서울특별시 강남구 영동대로 513 코엑스</addr1><areacode>1</areacode><cat1>A02</cat1><cat2>A0208</cat2><cat3>A02080600</cat3><contentid>2827820</contentid><contenttypeid>15</contenttypeid><createdtime>20220714133530</createdtime><eventenddate>20220917</eventenddate><eventstartdate>20220915</eventstartdate><firstimage>http://tong.visitkorea.or.kr/cms/resource/19/2827819_image2_1.jpg</firstimage><firstimage2>http://tong.visitkorea.or.kr/cms/resource/19/2827819_image3_1.jpg</firstimage2><mapx>127.0592179950</mapx><mapy>37.5119175967</mapy><mlevel>6</mlevel><modifiedtime>20220714133544</modifiedtime><readcount>0</readcount><sigungucode>1</sigungucode><tel>02-6000-4290</tel><title>대한민국 4차산업혁명 페스티벌 2022</title></item><item><addr1>서울특별시 영등포구 여의대로 108 파크원</addr1><areacode>1</areacode><cat1>A02</cat1><cat2>A0207</cat2><cat3>A02070200</cat3><contentid>2816226</contentid><contenttypeid>15</contenttypeid><createdtime>20220414113923</createdtime><eventenddate>20220803</eventenddate><eventstartdate>20220728</eventstartdate><firstimage>http://tong.visitkorea.or.kr/cms/resource/06/2828506_image2_1.png</firstimage><firstimage2>http://tong.visitkorea.or.kr/cms/resource/06/2828506_image3_1.png</firstimage2><mapx>126.9273156868</mapx><mapy>37.5271495732</mapy><mlevel>6</mlevel><modifiedtime>20220721155355</modifiedtime><readcount>0</readcount><sigungucode>20</sigungucode><tel>02-337-2583</tel><title>디지털노마드페스티벌(DIGITAL NOMAD FESTIVAL)</title></item><item><addr1>온라인개최</addr1><areacode>1</areacode><cat1>A02</cat1><cat2>A0207</cat2><cat3>A02070200</cat3><contentid>2383974</contentid><contenttypeid>15</contenttypeid><createdtime>20160516200321</createdtime><eventenddate>20220525</eventenddate><eventstartdate>20220507</eventstartdate><mapx>126.9778738825</mapx><mapy>37.5656098983</mapy><mlevel>6</mlevel><modifiedtime>20220511134730</modifiedtime><readcount>5243</readcount><sigungucode>23</sigungucode><tel>02-861-3020</tel><title>모두하나대축제</title></item><item><addr1>서울특별시 강남구  논현로 (134, 연산MS)</addr1><areacode>1</areacode><cat1>A02</cat1><cat2>A0208</cat2><cat3>A02081300</cat3><contentid>2804687</contentid><contenttypeid>15</contenttypeid><createdtime>20220117174057</createdtime><eventenddate>20220312</eventenddate><eventstartdate>20220312</eventstartdate><mapx>127.0433813981</mapx><mapy>37.4818569134</mapy><mlevel>6</mlevel><modifiedtime>20220208163537</modifiedtime><readcount>0</readcount><sigungucode>1</sigungucode><tel>070-8892-9645</tel><title>무브컬쳐 축제학교 시즌2: 우리의 문화기획 스토리</title></item><item><addr1>서울특별시 용산구 양녕로 445</addr1><areacode>1</areacode><cat1>A02</cat1><cat2>A0207</cat2><cat3>A02070200</cat3><contentid>2598331</contentid><contenttypeid>15</contenttypeid><createdtime>20190420005447</createdtime><eventenddate>20221231</eventenddate><eventstartdate>20220528</eventstartdate><firstimage>http://tong.visitkorea.or.kr/cms/resource/64/2821264_image2_1.jpg</firstimage><firstimage2>http://tong.visitkorea.or.kr/cms/resource/64/2821264_image3_1.jpg</firstimage2><mapx>126.9580520415</mapx><mapy>37.5177178854</mapy><mlevel>6</mlevel><modifiedtime>20220602102429</modifiedtime><readcount>55</readcount><sigungucode>21</sigungucode><tel>02-786-0610</tel><title>문화가 흐르는 예술마당</title></item><item><addr1>서울특별시 종로구 이화장길 26</addr1><addr2>(이화동)</addr2><areacode>1</areacode><cat1>A02</cat1><cat2>A0208</cat2><cat3>A02080300</cat3><contentid>1394326</contentid><contenttypeid>15</contenttypeid><createdtime>20110930145126</createdtime><eventenddate>20221231</eventenddate><eventstartdate>20211029</eventstartdate><firstimage>http://tong.visitkorea.or.kr/cms/resource/72/2489672_image2_1.jpg</firstimage><firstimage2>http://tong.visitkorea.or.kr/cms/resource/72/2489672_image2_1.jpg</firstimage2><mapx>127.0039128630</mapx><mapy>37.5766424167</mapy><mlevel>6</mlevel><modifiedtime>20211222155833</modifiedtime><readcount>23320</readcount><sigungucode>23</sigungucode><tel>070-8245-2602</tel><title>뮤직드라마 당신만이</title></item><item><addr1>서울특별시 강남구 남부순환로 3104</addr1><addr2>(대치동)</addr2><areacode>1</areacode><cat1>A02</cat1><cat2>A0207</cat2><cat3>A02070200</cat3><contentid>2658426</contentid><contenttypeid>15</contenttypeid><createdtime>20200604103329</createdtime><eventenddate>20210220</eventenddate><eventstartdate>20220218</eventstartdate><firstimage>http://tong.visitkorea.or.kr/cms/resource/23/2658423_image2_1.jpg</firstimage><firstimage2>http://tong.visitkorea.or.kr/cms/resource/23/2658423_image2_1.jpg</firstimage2><mapx>127.0719811806</mapx><mapy>37.4957363721</mapy><mlevel>6</mlevel><modifiedtime>20210831130053</modifiedtime><readcount>0</readcount><sigungucode>1</sigungucode><tel>02-2223-1853</tel><title>비건페스타</title></item><item><addr1>서울특별시 중랑구 망우로91길 2</addr1><areacode>1</areacode><cat1>A02</cat1><cat2>A0208</cat2><cat3>A02081300</cat3><contentid>2822295</contentid><contenttypeid>15</contenttypeid><createdtime>20220531092053</createdtime><eventenddate>20221203</eventenddate><eventstartdate>20220123</eventstartdate><firstimage>http://tong.visitkorea.or.kr/cms/resource/92/2822292_image2_1.jpg</firstimage><firstimage2>http://tong.visitkorea.or.kr/cms/resource/92/2822292_image3_1.jpg</firstimage2><mapx>127.1143993819</mapx><mapy>37.5990306940</mapy><mlevel>6</mlevel><modifiedtime>20220607100800</modifiedtime><readcount>0</readcount><sigungucode>25</sigungucode><tel>010-8465-1945</tel><title>생생문화재 중랑구 체험학습</title></item><item><addr1>서울특별시 중구 퇴계로34길 28</addr1><addr2>(필동2가)</addr2><areacode>1</areacode><cat1>A02</cat1><cat2>A0208</cat2><cat3>A02081300</cat3><contentid>2384776</contentid><contenttypeid>15</contenttypeid><createdtime>20160523234009</createdtime><eventenddate>20220912</eventenddate><eventstartdate>20220423</eventstartdate><mapx>126.9935365470</mapx><mapy>37.5584387906</mapy><mlevel>6</mlevel><modifiedtime>20220411110015</modifiedtime><readcount>14637</readcount><tel>02-490-2778</tel><title>서울 명산트레킹</title></item><item><addr1>서울특별시 강남구 영동대로 513 코엑스</addr1><areacode>1</areacode><cat1>A02</cat1><cat2>A0208</cat2><cat3>A02080600</cat3><contentid>1024038</contentid><contenttypeid>15</contenttypeid><createdtime>20100518222522</createdtime><eventenddate>20220626</eventenddate><eventstartdate>20220623</eventstartdate><mapx>127.0592179950</mapx><mapy>37.5119175967</mapy><mlevel>6</mlevel><modifiedtime>20220526175014</modifiedtime><readcount>16099</readcount><sigungucode>1</sigungucode><tel>02-757-6161</tel><title>서울국제관광전</title></item><item><addr1>서울특별시 강남구  영동대로 (513, 코엑스)</addr1><areacode>1</areacode><cat1>A02</cat1><cat2>A0208</cat2><cat3>A02080500</cat3><contentid>228985</contentid><contenttypeid>15</contenttypeid><createdtime>20070529090000</createdtime><eventenddate>20220605</eventenddate><eventstartdate>20220601</eventstartdate><firstimage>http://tong.visitkorea.or.kr/cms/resource/56/2639256_image2_1.JPG</firstimage><firstimage2>http://tong.visitkorea.or.kr/cms/resource/56/2639256_image2_1.JPG</firstimage2><mapx>127.0594429796</mapx><mapy>37.5117148467</mapy><mlevel>6</mlevel><modifiedtime>20220125101545</modifiedtime><readcount>165277</readcount><sigungucode>1</sigungucode><tel>02-7333-8402</tel><title>서울국제도서전</title></item><item><addr1>서울특별시 마포구 양화로 72</addr1><areacode>1</areacode><cat1>A02</cat1><cat2>A0207</cat2><cat3>A02070200</cat3><contentid>1018469</contentid><contenttypeid>15</contenttypeid><createdtime>20100511192951</createdtime><eventenddate>20220930</eventenddate><eventstartdate>20220923</eventstartdate><firstimage>http://tong.visitkorea.or.kr/cms/resource/28/2822428_image2_1.png</firstimage><firstimage2>http://tong.visitkorea.or.kr/cms/resource/28/2822428_image3_1.png</firstimage2><mapx>126.9167298722</mapx><mapy>37.5508549625</mapy><mlevel>6</mlevel><modifiedtime>20220614152958</modifiedtime><readcount>1591</readcount><sigungucode>13</sigungucode><tel>siwf@klti.or.kr</tel><title>서울국제작가축제(Seoul International Writers' Festival)</title></item><item><addr1>서울특별시 강북구 월계로 173 북서울꿈의숲</addr1><areacode>1</areacode><cat1>A02</cat1><cat2>A0208</cat2><cat3>A02080600</cat3><contentid>2787200</contentid><contenttypeid>15</contenttypeid><createdtime>20211207185552</createdtime><eventenddate>20221006</eventenddate><eventstartdate>20220930</eventstartdate><firstimage>http://tong.visitkorea.or.kr/cms/resource/37/2791037_image2_1.jpg</firstimage><firstimage2>http://tong.visitkorea.or.kr/cms/resource/37/2791037_image2_1.jpg</firstimage2><mapx>127.0445440464</mapx><mapy>37.6197242510</mapy><mlevel>6</mlevel><modifiedtime>20220620110557</modifiedtime><readcount>0</readcount><sigungucode>3</sigungucode><title>서울국제정원박람회</title></item><item><addr1>서울특별시 강남구 영동대로 513 코엑스 B홀</addr1><areacode>1</areacode><cat1>A02</cat1><cat2>A0208</cat2><cat3>A02081300</cat3><contentid>1778398</contentid><contenttypeid>15</contenttypeid><createdtime>20130110175909</createdtime><eventenddate>20220702</eventenddate><eventstartdate>20220630</eventstartdate><firstimage>http://tong.visitkorea.or.kr/cms/resource/65/2775865_image2_1.jpg</firstimage><firstimage2>http://tong.visitkorea.or.kr/cms/resource/65/2775865_image2_1.jpg</firstimage2><mapx>127.0591874466</mapx><mapy>37.5117592813</mapy><mlevel>6</mlevel><modifiedtime>20211229135531</modifiedtime><readcount>2095</readcount><sigungucode>1</sigungucode><tel>02-761-2516</tel><title>서울국제주류&amp;와인박람회</title></item><item><addr1>서울특별시 종로구 대학로10길 17</addr1><areacode>1</areacode><cat1>A02</cat1><cat2>A0207</cat2><cat3>A02070200</cat3><contentid>141890</contentid><contenttypeid>15</contenttypeid><createdtime>20130221233835</createdtime><eventenddate>20220529</eventenddate><eventstartdate>20220525</eventstartdate><firstimage>http://tong.visitkorea.or.kr/cms/resource/65/2818365_image2_1.jpg</firstimage><firstimage2>http://tong.visitkorea.or.kr/cms/resource/65/2818365_image2_1.jpg</firstimage2><mapx>127.0029767101</mapx><mapy>37.5811335446</mapy><mlevel>6</mlevel><modifiedtime>20220502112858</modifiedtime><readcount>20914</readcount><sigungucode>23</sigungucode><tel>02)3674-2210</tel><title>서울국제즉흥춤축제</title></item><item><addr1>온라인개최</addr1><areacode>1</areacode><cat1>A02</cat1><cat2>A0207</cat2><cat3>A02070200</cat3><contentid>2455073</contentid><contenttypeid>15</contenttypeid><createdtime>20161213152654</createdtime><eventenddate>20220106</eventenddate><eventstartdate>20220106</eventstartdate><firstimage>http://tong.visitkorea.or.kr/cms/resource/56/2801156_image2_1.jpg</firstimage><firstimage2>http://tong.visitkorea.or.kr/cms/resource/56/2801156_image2_1.jpg</firstimage2><mapx>126.9783710306</mapx><mapy>37.5665986816</mapy><mlevel>6</mlevel><modifiedtime>20211227103222</modifiedtime><readcount>3903</readcount><sigungucode>24</sigungucode><tel>02-3447-0101</tel><title>서울영상광고제</title></item><item><addr1>서울특별시 강남구 봉은사로63길 35</addr1><addr2>(삼성동)</addr2><areacode>1</areacode><cat1>A02</cat1><cat2>A0208</cat2><cat3>A02080500</cat3><contentid>2718984</contentid><contenttypeid>15</contenttypeid><createdtime>20210601221819</createdtime><eventenddate>20220710</eventenddate><eventstartdate>20220707</eventstartdate><firstimage>http://tong.visitkorea.or.kr/cms/resource/14/2814214_image2_1.jpg</firstimage><firstimage2>http://tong.visitkorea.or.kr/cms/resource/14/2814214_image2_1.jpg</firstimage2><mapx>127.0462413481</mapx><mapy>37.5136810472</mapy><mlevel>6</mlevel><modifiedtime>20220329131812</modifiedtime><readcount>0</readcount><sigungucode>1</sigungucode><tel>support@seoulillustrationfair.co.kr</tel><title>서울일러스트레이션페어V.13</title></item><item><addr1>서울특별시 송파구 올림픽로 424</addr1><addr2>(방이동)</addr2><areacode>1</areacode><cat1>A02</cat1><cat2>A0207</cat2><cat3>A02070200</cat3><contentid>713654</contentid><contenttypeid>15</contenttypeid><createdtime>20090330224926</createdtime><eventenddate>20220529</eventenddate><eventstartdate>20220527</eventstartdate><mapx>127.1224425827</mapx><mapy>37.5194456386</mapy><mlevel>6</mlevel><modifiedtime>20220518091928</modifiedtime><readcount>23540</readcount><sigungucode>18</sigungucode><tel>02-563-0595</tel><title>서울재즈페스티벌 (SJF)</title></item><item><addr1>서울특별시 종로구 대학로 144 중원빌딩</addr1><areacode>1</areacode><cat1>A02</cat1><cat2>A0207</cat2><cat3>A02070200</cat3><contentid>1937544</contentid><contenttypeid>15</contenttypeid><createdtime>20140728232434</createdtime><eventenddate>20220813</eventenddate><eventstartdate>20220802</eventstartdate><firstimage>http://tong.visitkorea.or.kr/cms/resource/67/2825467_image2_1.jpg</firstimage><firstimage2>http://tong.visitkorea.or.kr/cms/resource/67/2825467_image3_1.jpg</firstimage2><mapx>127.0020739322</mapx><mapy>37.5840387460</mapy><mlevel>6</mlevel><modifiedtime>20220628161353</modifiedtime><readcount>8386</readcount><sigungucode>23</sigungucode><tel>02-765-7500</tel><title>서울청소년연극축제</title></item><item><addr1>서울특별시 송파구 올림픽로 25 서울종합운동장</addr1><areacode>1</areacode><cat1>A02</cat1><cat2>A0207</cat2><cat3>A02070200</cat3><contentid>2828328</contentid><contenttypeid>15</contenttypeid><createdtime>20220720102529</createdtime><eventenddate>20220814</eventenddate><eventstartdate>20220810</eventstartdate><firstimage>http://tong.visitkorea.or.kr/cms/resource/27/2828327_image2_1.jpg</firstimage><firstimage2>http://tong.visitkorea.or.kr/cms/resource/27/2828327_image3_1.jpg</firstimage2><mapx>127.0735805889</mapx><mapy>37.5114817947</mapy><mlevel>6</mlevel><modifiedtime>20220722164036</modifiedtime><readcount>0</readcount><sigungucode>18</sigungucode><tel>festa0810@gmail.com</tel><title>서울페스타 2022</title></item><item><addr1>서울특별시 마포구 증산로 87</addr1><addr2>(성산동)</addr2><areacode>1</areacode><cat1>A02</cat1><cat2>A0207</cat2><cat3>A02070200</cat3><contentid>142193</contentid><contenttypeid>15</contenttypeid><createdtime>20070813090000</createdtime><eventenddate>20220828</eventenddate><eventstartdate>20220811</eventstartdate><firstimage>http://tong.visitkorea.or.kr/cms/resource/94/2818894_image2_1.JPG</firstimage><firstimage2>http://tong.visitkorea.or.kr/cms/resource/94/2818894_image2_1.JPG</firstimage2><mapx>126.8929203036</mapx><mapy>37.5731297249</mapy><mlevel>6</mlevel><modifiedtime>20220509153113</modifiedtime><readcount>50969</readcount><sigungucode>13</sigungucode><tel>02-325-8250</tel><title>서울프린지페스티벌</title></item><item><addr1>서울특별시 마포구 증산로 87</addr1><areacode>1</areacode><cat1>A02</cat1><cat2>A0208</cat2><cat3>A02081100</cat3><contentid>2816502</contentid><contenttypeid>15</contenttypeid><createdtime>20220418143021</createdtime><eventenddate>20220508</eventenddate><eventstartdate>20220505</eventstartdate><firstimage>http://tong.visitkorea.or.kr/cms/resource/01/2816501_image2_1.jpg</firstimage><firstimage2>http://tong.visitkorea.or.kr/cms/resource/01/2816501_image2_1.jpg</firstimage2><mapx>126.8951646315</mapx><mapy>37.5699856862</mapy><mlevel>6</mlevel><modifiedtime>20220418145223</modifiedtime><readcount>0</readcount><sigungucode>13</sigungucode><tel>02-3437-0095</tel><title>서커스 캬라반 ‘봄’</title></item><item><addr1>서울특별시 용산구 양녕로 445</addr1><areacode>1</areacode><cat1>A02</cat1><cat2>A0208</cat2><cat3>A02081300</cat3><contentid>2825852</contentid><contenttypeid>15</contenttypeid><createdtime>20220630113732</createdtime><eventenddate>20220731</eventenddate><eventstartdate>20220727</eventstartdate><firstimage>http://tong.visitkorea.or.kr/cms/resource/59/2828659_image2_1.jpg</firstimage><firstimage2>http://tong.visitkorea.or.kr/cms/resource/59/2828659_image3_1.jpg</firstimage2><mapx>126.9580520415</mapx><mapy>37.5177178854</mapy><mlevel>6</mlevel><modifiedtime>20220722133749</modifiedtime><readcount>0</readcount><sigungucode>21</sigungucode><tel>044-864-6149</tel><title>손에손에 뮤직페스타 in 서울</title></item><item><addr1>서울특별시 송파구 올림픽로 326 송파구청</addr1><areacode>1</areacode><cat1>A02</cat1><cat2>A0207</cat2><cat3>A02070200</cat3><contentid>2808963</contentid><contenttypeid>15</contenttypeid><createdtime>20220302113549</createdtime><eventenddate>20220403</eventenddate><eventstartdate>20220325</eventstartdate><firstimage>http://tong.visitkorea.or.kr/cms/resource/50/2808950_image2_1.JPG</firstimage><firstimage2>http://tong.visitkorea.or.kr/cms/resource/50/2808950_image2_1.JPG</firstimage2><mapx>127.1066830358</mapx><mapy>37.5148625533</mapy><mlevel>6</mlevel><modifiedtime>20220304163347</modifiedtime><readcount>0</readcount><sigungucode>18</sigungucode><tel>02-2147-2800</tel><title>송파둘레길 벚꽃나들이</title></item><item><addr1>서울특별시 종로구 사직로 161</addr1><addr2>(세종로)</addr2><areacode>1</areacode><cat1>A02</cat1><cat2>A0208</cat2><cat3>A02080100</cat3><contentid>141661</contentid><contenttypeid>15</contenttypeid><createdtime>20070322090000</createdtime><eventenddate>20221231</eventenddate><eventstartdate>20220101</eventstartdate><firstimage>http://tong.visitkorea.or.kr/cms/resource/96/868696_image2_1.jpg</firstimage><firstimage2>http://tong.visitkorea.or.kr/cms/resource/96/868696_image3_1.jpg</firstimage2><mapx>126.9767235747</mapx><mapy>37.5801859611</mapy><mlevel>6</mlevel><modifiedtime>20220509151916</modifiedtime><readcount>25682</readcount><sigungucode>23</sigungucode><tel>02-3210-1645</tel><title>수문장 교대의식</title></item><item><addr1>서울특별시 마포구 와우산로 94</addr1><areacode>1</areacode><cat1>A02</cat1><cat2>A0207</cat2><cat3>A02070200</cat3><contentid>1829696</contentid><contenttypeid>15</contenttypeid><createdtime>20130723181937</createdtime><eventenddate>20220821</eventenddate><eventstartdate>20220726</eventstartdate><firstimage>http://tong.visitkorea.or.kr/cms/resource/17/2824917_image2_1.jpg</firstimage><firstimage2>http://tong.visitkorea.or.kr/cms/resource/17/2824917_image3_1.jpg</firstimage2><mapx>126.9255540555</mapx><mapy>37.5512772937</mapy><mlevel>6</mlevel><modifiedtime>20220622162007</modifiedtime><readcount>27293</readcount><sigungucode>13</sigungucode><tel>02-724-6324</tel><title>아시아프</title></item><item><addr1>온라인개최</addr1><addr2>(상암동)</addr2><areacode>1</areacode><cat1>A02</cat1><cat2>A0208</cat2><cat3>A02081200</cat3><contentid>2487911</contentid><contenttypeid>15</contenttypeid><createdtime>20170329192930</createdtime><eventenddate>20220417</eventenddate><eventstartdate>20220321</eventstartdate><firstimage>http://tong.visitkorea.or.kr/cms/resource/08/2487908_image2_1.jpg</firstimage><firstimage2>http://tong.visitkorea.or.kr/cms/resource/08/2487908_image2_1.jpg</firstimage2><mlevel>6</mlevel><modifiedtime>20220411150108</modifiedtime><readcount>2006</readcount><sigungucode>13</sigungucode><tel>02-2036-9214</tel><title>여성마라톤대회</title></item><item><addr1>서울특별시 종로구 우정국로 55</addr1><areacode>1</areacode><cat1>A02</cat1><cat2>A0207</cat2><cat3>A02070200</cat3><contentid>531460</contentid><contenttypeid>15</contenttypeid><createdtime>20080415015603</createdtime><eventenddate>20220501</eventenddate><eventstartdate>20220429</eventstartdate><firstimage>http://tong.visitkorea.or.kr/cms/resource/22/2811822_image2_1.jpg</firstimage><firstimage2>http://tong.visitkorea.or.kr/cms/resource/22/2811822_image2_1.jpg</firstimage2><mapx>126.9815038890</mapx><mapy>37.5733035136</mapy><mlevel>6</mlevel><modifiedtime>20220322173219</modifiedtime><readcount>128875</readcount><sigungucode>23</sigungucode><tel>02-2011-1744~1747</tel><title>연등회</title></item><item><addr1>서울특별시 영등포구 신길로 275</addr1><addr2>(영등포동)</addr2><areacode>1</areacode><cat1>A02</cat1><cat2>A0207</cat2><cat3>A02070200</cat3><contentid>1634590</contentid><contenttypeid>15</contenttypeid><createdtime>20120531020909</createdtime><eventenddate>20220603</eventenddate><eventstartdate>20220603</eventstartdate><firstimage>http://tong.visitkorea.or.kr/cms/resource/29/2492729_image2_1.jpg</firstimage><firstimage2>http://tong.visitkorea.or.kr/cms/resource/29/2492729_image2_1.jpg</firstimage2><mapx>126.9121007163</mapx><mapy>37.5161700211</mapy><mlevel>6</mlevel><modifiedtime>20220526112909</modifiedtime><readcount>9400</readcount><sigungucode>20</sigungucode><tel>영등포문화원 02-846-0155~6</tel><title>영등포 단오축제</title></item><item><addr1>서울특별시 중구 퇴계로34길 28 남산골한옥마을</addr1><areacode>1</areacode><cat1>A02</cat1><cat2>A0208</cat2><cat3>A02080100</cat3><contentid>2821777</contentid><contenttypeid>15</contenttypeid><createdtime>20220526145409</createdtime><eventenddate>20231231</eventenddate><eventstartdate>20220501</eventstartdate><firstimage>http://tong.visitkorea.or.kr/cms/resource/67/2821767_image2_1.jpg</firstimage><firstimage2>http://tong.visitkorea.or.kr/cms/resource/67/2821767_image3_1.jpg</firstimage2><mapx>126.9932865315</mapx><mapy>37.5597775194</mapy><mlevel>6</mlevel><modifiedtime>20220527151508</modifiedtime><readcount>0</readcount><sigungucode>24</sigungucode><title>영재국악회 국악공연</title></item><item><addr1>서울특별시 중구 세종대로 99</addr1><addr2>(정동)</addr2><areacode>1</areacode><cat1>A02</cat1><cat2>A0208</cat2><cat3>A02080100</cat3><contentid>292961</contentid><contenttypeid>15</contenttypeid><createdtime>20060126100026</createdtime><eventenddate>20221231</eventenddate><eventstartdate>20220101</eventstartdate><firstimage>http://tong.visitkorea.or.kr/cms/resource/32/2804532_image2_1.jpg</firstimage><firstimage2>http://tong.visitkorea.or.kr/cms/resource/32/2804532_image2_1.jpg</firstimage2><mapx>126.9761046145</mapx><mapy>37.5650460435</mapy><mlevel>6</mlevel><modifiedtime>20211231101514</modifiedtime><readcount>35451</readcount><sigungucode>24</sigungucode><tel>02-737-6444</tel><title>왕궁 수문장 교대의식</title></item><item><addr1>서울특별시 중구 태평로1가</addr1><areacode>1</areacode><cat1>A02</cat1><cat2>A0207</cat2><cat3>A02070200</cat3><contentid>2818857</contentid><contenttypeid>15</contenttypeid><createdtime>20220509133708</createdtime><eventenddate>20220604</eventenddate><eventstartdate>20220604</eventstartdate><firstimage>http://tong.visitkorea.or.kr/cms/resource/76/2818976_image2_1.jpg</firstimage><firstimage2>http://tong.visitkorea.or.kr/cms/resource/76/2818976_image2_1.jpg</firstimage2><mapx>126.9779154387</mapx><mapy>37.5693539082</mapy><mlevel>6</mlevel><modifiedtime>20220517133852</modifiedtime><readcount>0</readcount><sigungucode>23</sigungucode><tel>044-863-6202</tel><title>유기농데이</title></item><item><addr1>서울시 성동구 응봉동 응봉산</addr1><areacode>1</areacode><cat1>A02</cat1><cat2>A0207</cat2><cat3>A02070200</cat3><contentid>1801281</contentid><contenttypeid>15</contenttypeid><createdtime>20130327220020</createdtime><eventenddate>20220327</eventenddate><eventstartdate>20220326</eventstartdate><firstimage>http://tong.visitkorea.or.kr/cms/resource/92/1257992_image2_1.jpg</firstimage><firstimage2>http://tong.visitkorea.or.kr/cms/resource/92/1257992_image3_1.jpg</firstimage2><mapx>127.0281837123</mapx><mapy>37.5470685122</mapy><mlevel>6</mlevel><modifiedtime>20220623151633</modifiedtime><readcount>43580</readcount><sigungucode>16</sigungucode><tel>성동구청 문화체육과:02-2286-5202</tel><title>응봉산 개나리축제</title></item><item><addr1>서울특별시 용산구 이태원로 29</addr1><addr2>(용산동1가)</addr2><areacode>1</areacode><cat1>A02</cat1><cat2>A0207</cat2><cat3>A02070200</cat3><contentid>140788</contentid><contenttypeid>15</contenttypeid><createdtime>20050504090000</createdtime><eventenddate>20220505</eventenddate><eventstartdate>20220505</eventstartdate><firstimage>http://tong.visitkorea.or.kr/cms/resource/26/2490626_image2_1.JPG</firstimage><firstimage2>http://tong.visitkorea.or.kr/cms/resource/26/2490626_image2_1.JPG</firstimage2><mapx>126.9784385198</mapx><mapy>37.5373270838</mapy><mlevel>6</mlevel><modifiedtime>20220503133735</modifiedtime><readcount>51569</readcount><sigungucode>21</sigungucode><tel>이벤트 문의: 어린이박물관(02-709-3200)&lt;br&gt;공연 문의: 문화교류팀(02-709-3143)</tel><title>전쟁기념관 어린이날 문화축제</title></item><item><addr1>서울특별시 종로구 대학로10길 17 동숭동복합건물</addr1><areacode>1</areacode><cat1>A02</cat1><cat2>A0208</cat2><cat3>A02081300</cat3><contentid>2545174</contentid><contenttypeid>15</contenttypeid><createdtime>20180430222052</createdtime><eventenddate>20220420</eventenddate><eventstartdate>20220413</eventstartdate><mapx>127.0031961055</mapx><mapy>37.5821500970</mapy><mlevel>6</mlevel><modifiedtime>20220411144307</modifiedtime><readcount>777</readcount><sigungucode>23</sigungucode><tel>02-744-8066</tel><title>젊은안무자창작공연</title></item><item><addr1>서울특별시 종로구 창경궁로 254 동원빌딩</addr1><areacode>1</areacode><cat1>A02</cat1><cat2>A0207</cat2><cat3>A02070200</cat3><contentid>2825283</contentid><contenttypeid>15</contenttypeid><createdtime>20220628112435</createdtime><eventenddate>20220830</eventenddate><eventstartdate>20220801</eventstartdate><firstimage>http://tong.visitkorea.or.kr/cms/resource/82/2825282_image2_1.jpg</firstimage><firstimage2>http://tong.visitkorea.or.kr/cms/resource/82/2825282_image3_1.jpg</firstimage2><mapx>126.9999657976</mapx><mapy>37.5838054019</mapy><mlevel>6</mlevel><modifiedtime>20220630104337</modifiedtime><readcount>0</readcount><sigungucode>23</sigungucode><tel>010-2684-3843</tel><title>제1회 어쩌다 연극 페스티벌</title></item><item><addr1>서울특별시 강남구  영동대로 (513, 코엑스)</addr1><areacode>1</areacode><cat1>A02</cat1><cat2>A0208</cat2><cat3>A02081300</cat3><contentid>2805957</contentid><contenttypeid>15</contenttypeid><createdtime>20220203161945</createdtime><eventenddate>20221126</eventenddate><eventstartdate>20221123</eventstartdate><firstimage>http://tong.visitkorea.or.kr/cms/resource/41/2805941_image2_1.JPG</firstimage><firstimage2>http://tong.visitkorea.or.kr/cms/resource/41/2805941_image2_1.JPG</firstimage2><mapx>127.0594429796</mapx><mapy>37.5117148467</mapy><mlevel>6</mlevel><modifiedtime>20220214171448</modifiedtime><readcount>0</readcount><sigungucode>1</sigungucode><tel>02-6000-6698</tel><title>제11회 월드커피리더스포럼</title></item><item><addr1>서울특별시 강남구 영동대로 513</addr1><addr2>(삼성동)</addr2><areacode>1</areacode><cat1>A02</cat1><cat2>A0207</cat2><cat3>A02070200</cat3><contentid>2732352</contentid><contenttypeid>15</contenttypeid><createdtime>20210809231735</createdtime><eventenddate>20220506</eventenddate><eventstartdate>20220502</eventstartdate><firstimage>http://tong.visitkorea.or.kr/cms/resource/65/2756765_image2_1.png</firstimage><firstimage2>http://tong.visitkorea.or.kr/cms/resource/65/2756765_image2_1.png</firstimage2><mapx>127.0594429796</mapx><mapy>37.5117148467</mapy><mlevel>6</mlevel><modifiedtime>20220307160753</modifiedtime><readcount>0</readcount><sigungucode>1</sigungucode><tel>02-6000-7275</tel><title>제15차 세계산림총회</title></item><item><addr1>서울특별시 종로구 평창31길 5</addr1><areacode>1</areacode><cat1>A02</cat1><cat2>A0208</cat2><cat3>A02081300</cat3><contentid>2822475</contentid><contenttypeid>15</contenttypeid><createdtime>20220531172824</createdtime><eventenddate>20220612</eventenddate><eventstartdate>20220610</eventstartdate><firstimage>http://tong.visitkorea.or.kr/cms/resource/74/2822474_image2_1.jpg</firstimage><firstimage2>http://tong.visitkorea.or.kr/cms/resource/74/2822474_image3_1.jpg</firstimage2><mapx>126.9755811100</mapx><mapy>37.6119989089</mapy><mlevel>6</mlevel><modifiedtime>20220607113624</modifiedtime><readcount>0</readcount><sigungucode>23</sigungucode><tel>02-6365-1388</tel><title>제2기 자문밖아트레지던시 오픈스튜디오_자문밖, 안으로 Part 1</title></item><item><addr1>서울특별시 마포구 성미산로 29</addr1><areacode>1</areacode><cat1>A02</cat1><cat2>A0207</cat2><cat3>A02070200</cat3><contentid>629023</contentid><contenttypeid>15</contenttypeid><createdtime>20080926234220</createdtime><eventenddate>20221002</eventenddate><eventstartdate>20220914</eventstartdate><firstimage>http://tong.visitkorea.or.kr/cms/resource/47/2829647_image2_1.jpg</firstimage><firstimage2>http://tong.visitkorea.or.kr/cms/resource/47/2829647_image3_1.jpg</firstimage2><mapx>126.9113940198</mapx><mapy>37.5589122635</mapy><mlevel>6</mlevel><modifiedtime>20220728102514</modifiedtime><readcount>37466</readcount><sigungucode>13</sigungucode><tel>02-3216-1185</tel><title>제25회 서울세계무용축제 SIDance2022</title></item><item><addr1>서울특별시 강남구 영동대로 513</addr1><addr2>(삼성동)</addr2><areacode>1</areacode><cat1>A02</cat1><cat2>A0208</cat2><cat3>A02081300</cat3><contentid>2714158</contentid><contenttypeid>15</contenttypeid><createdtime>20210421021133</createdtime><eventenddate>20220227</eventenddate><eventstartdate>20220223</eventstartdate><mapx>127.0594429796</mapx><mapy>37.5117148467</mapy><mlevel>6</mlevel><modifiedtime>20220223170407</modifiedtime><readcount>0</readcount><sigungucode>1</sigungucode><tel>02-2262-7194</tel><title>제27회 서울리빙디자인페어</title></item><item><addr1>서울특별시 종로구 대학로10길 17 동숭동복합건물</addr1><areacode>1</areacode><cat1>A02</cat1><cat2>A0207</cat2><cat3>A02070200</cat3><contentid>141863</contentid><contenttypeid>15</contenttypeid><createdtime>20070514090000</createdtime><eventenddate>20220529</eventenddate><eventstartdate>20220428</eventstartdate><firstimage>http://tong.visitkorea.or.kr/cms/resource/58/2816458_image2_1.jpg</firstimage><firstimage2>http://tong.visitkorea.or.kr/cms/resource/58/2816458_image2_1.jpg</firstimage2><mapx>127.0031961055</mapx><mapy>37.5821500970</mapy><mlevel>6</mlevel><modifiedtime>20220415150220</modifiedtime><readcount>23081</readcount><sigungucode>23</sigungucode><tel>02-765-7500</tel><title>제43회 서울연극제</title></item><item><addr1>서울특별시 양천구 오목로 359 무중력지대 양천</addr1><areacode>1</areacode><cat1>A02</cat1><cat2>A0207</cat2><cat3>A02070200</cat3><contentid>2827060</contentid><contenttypeid>15</contenttypeid><createdtime>20220708140943</createdtime><eventenddate>20220917</eventenddate><eventstartdate>20220916</eventstartdate><firstimage>http://tong.visitkorea.or.kr/cms/resource/59/2827059_image2_1.png</firstimage><firstimage2>http://tong.visitkorea.or.kr/cms/resource/59/2827059_image3_1.png</firstimage2><mapx>126.8773230917</mapx><mapy>37.5246489705</mapy><mlevel>6</mlevel><modifiedtime>20220708140951</modifiedtime><readcount>0</readcount><sigungucode>19</sigungucode><tel>02-2646-2030</tel><title>제5회 무중력영화제(MUFF)</title></item><item><addr1>서울특별시 강남구  영동대로 (513, 코엑스)</addr1><areacode>1</areacode><cat1>A02</cat1><cat2>A0207</cat2><cat3>A02070200</cat3><contentid>2805988</contentid><contenttypeid>15</contenttypeid><createdtime>20220204090941</createdtime><eventenddate>20221126</eventenddate><eventstartdate>20221123</eventstartdate><firstimage>http://tong.visitkorea.or.kr/cms/resource/49/2806349_image2_1.png</firstimage><firstimage2>http://tong.visitkorea.or.kr/cms/resource/49/2806349_image2_1.png</firstimage2><mapx>127.0594429796</mapx><mapy>37.5117148467</mapy><mlevel>6</mlevel><modifiedtime>20220209164855</modifiedtime><readcount>0</readcount><sigungucode>1</sigungucode><tel>02-6000-6709</tel><title>제7회 서울커피페스티벌 The 7th Seoul Coffee Festival</title></item><item><addr1>서울특별시 종로구 세종대로 172 5호선 광화문역</addr1><areacode>1</areacode><cat1>A02</cat1><cat2>A0207</cat2><cat3>A02070200</cat3><contentid>2405329</contentid><contenttypeid>15</contenttypeid><createdtime>20160907090049</createdtime><eventenddate>20221009</eventenddate><eventstartdate>20221008</eventstartdate><firstimage>http://tong.visitkorea.or.kr/cms/resource/42/2827342_image2_1.jpg</firstimage><firstimage2>http://tong.visitkorea.or.kr/cms/resource/42/2827342_image3_1.jpg</firstimage2><mapx>126.9767821434</mapx><mapy>37.5716786179</mapy><mlevel>6</mlevel><modifiedtime>20220712171038</modifiedtime><readcount>30398</readcount><sigungucode>23</sigungucode><tel>02-6263-1185</tel><title>종로한복축제</title></item><item><addr1>서울특별시 송파구 올림픽로 424 올림픽공원</addr1><areacode>1</areacode><cat1>A02</cat1><cat2>A0207</cat2><cat3>A02070200</cat3><contentid>1801201</contentid><contenttypeid>15</contenttypeid><createdtime>20130327184804</createdtime><eventenddate>20220612</eventenddate><eventstartdate>20220611</eventstartdate><mapx>127.1150682209</mapx><mapy>37.5206092598</mapy><mlevel>6</mlevel><modifiedtime>20220517164946</modifiedtime><readcount>28102</readcount><sigungucode>18</sigungucode><tel>행사문의 bluespring@micimpact.com</tel><title>청춘페스티벌</title></item><item><addr1>서울특별시 강남구 영동대로 513</addr1><addr2>(삼성동)</addr2><areacode>1</areacode><cat1>A02</cat1><cat2>A0208</cat2><cat3>A02080500</cat3><contentid>142001</contentid><contenttypeid>15</contenttypeid><createdtime>20070621090000</createdtime><eventenddate>20220717</eventenddate><eventstartdate>20220714</eventstartdate><firstimage>http://tong.visitkorea.or.kr/cms/resource/61/2827961_image2_1.jpg</firstimage><firstimage2>http://tong.visitkorea.or.kr/cms/resource/61/2827961_image3_1.jpg</firstimage2><mapx>127.0591874466</mapx><mapy>37.5117592813</mapy><mlevel>6</mlevel><modifiedtime>20220715155720</modifiedtime><readcount>5498</readcount><sigungucode>1</sigungucode><tel>02-6000-8571</tel><title>캐릭터 라이선싱 페어 2022</title></item><item><addr1>온라인개최</addr1><areacode>1</areacode><cat1>A02</cat1><cat2>A0208</cat2><cat3>A02081300</cat3><contentid>2630385</contentid><contenttypeid>15</contenttypeid><createdtime>20191025023736</createdtime><eventenddate>20220831</eventenddate><eventstartdate>20220810</eventstartdate><firstimage>http://tong.visitkorea.or.kr/cms/resource/91/2828491_image2_1.jpg</firstimage><firstimage2>http://tong.visitkorea.or.kr/cms/resource/91/2828491_image3_1.jpg</firstimage2><mapx>126.9848758397</mapx><mapy>37.5720426096</mapy><mlevel>6</mlevel><modifiedtime>20220721142034</modifiedtime><readcount>0</readcount><tel>070-7603-3807</tel><title>코리아그랜드세일</title></item><item><addr1>서울특별시 강남구 영동대로 513</addr1><addr2>(삼성동)</addr2><areacode>1</areacode><cat1>A02</cat1><cat2>A0208</cat2><cat3>A02080500</cat3><contentid>2804204</contentid><contenttypeid>15</contenttypeid><createdtime>20211229113120</createdtime><eventenddate>20220710</eventenddate><eventstartdate>20220708</eventstartdate><firstimage>http://tong.visitkorea.or.kr/cms/resource/02/2804202_image2_1.jpg</firstimage><firstimage2>http://tong.visitkorea.or.kr/cms/resource/02/2804202_image2_1.jpg</firstimage2><mapx>127.0594429796</mapx><mapy>37.5117148467</mapy><mlevel>6</mlevel><modifiedtime>20211229113120</modifiedtime><readcount>0</readcount><sigungucode>1</sigungucode><tel>02-761-2512</tel><title>코리아비건페어 2022</title></item><item><addr1>서울특별시 서초구 남부순환로 2364</addr1><addr2>(서초동)</addr2><areacode>1</areacode><cat1>A02</cat1><cat2>A0208</cat2><cat3>A02080100</cat3><contentid>698886</contentid><contenttypeid>15</contenttypeid><createdtime>20090225011436</createdtime><eventenddate>20221224</eventenddate><eventstartdate>20220108</eventstartdate><mapx>127.0097651306</mapx><mapy>37.4776567975</mapy><mlevel>6</mlevel><modifiedtime>20220420170521</modifiedtime><readcount>77030</readcount><sigungucode>15</sigungucode><tel>02-580-3300</tel><title>토요명품</title></item><item><addr1>서울특별시 서초구 바우뫼로12길 70 더케이서울호텔</addr1><areacode>1</areacode><cat1>A02</cat1><cat2>A0207</cat2><cat3>A02070200</cat3><contentid>2810915</contentid><contenttypeid>15</contenttypeid><createdtime>20220316111622</createdtime><eventenddate>20220416</eventenddate><eventstartdate>20220416</eventstartdate><firstimage>http://tong.visitkorea.or.kr/cms/resource/14/2810914_image2_1.png</firstimage><firstimage2>http://tong.visitkorea.or.kr/cms/resource/14/2810914_image2_1.png</firstimage2><mapx>127.0341381856</mapx><mapy>37.4680083547</mapy><mlevel>6</mlevel><modifiedtime>20220316111630</modifiedtime><readcount>0</readcount><sigungucode>15</sigungucode><tel>010-7634-4650</tel><title>트레일 퀸즈 페스타</title></item><item><addr1>서울특별시 강남구 영동대로 513</addr1><addr2>(삼성동)</addr2><areacode>1</areacode><cat1>A02</cat1><cat2>A0207</cat2><cat3>A02070200</cat3><contentid>622888</contentid><contenttypeid>15</contenttypeid><createdtime>20080911194541</createdtime><eventenddate>20220906</eventenddate><eventstartdate>20220903</eventstartdate><firstimage>http://tong.visitkorea.or.kr/cms/resource/99/565999_image2_1.jpg</firstimage><firstimage2>http://tong.visitkorea.or.kr/cms/resource/99/565999_image3_1.jpg</firstimage2><mapx>127.0591318945</mapx><mapy>37.5118092746</mapy><mlevel>6</mlevel><modifiedtime>20220518102408</modifiedtime><readcount>22898</readcount><sigungucode>1</sigungucode><tel>02-733-3706</tel><title>한국국제아트페어</title></item><item><addr1>서울특별시 서초구 강남대로 27</addr1><addr2>(양재동)</addr2><areacode>1</areacode><cat1>A02</cat1><cat2>A0208</cat2><cat3>A02080600</cat3><contentid>292816</contentid><contenttypeid>15</contenttypeid><createdtime>20050310203901</createdtime><eventenddate>20220529</eventenddate><eventstartdate>20220527</eventstartdate><firstimage>http://tong.visitkorea.or.kr/cms/resource/43/2549443_image2_1.jpg</firstimage><firstimage2>http://tong.visitkorea.or.kr/cms/resource/43/2549443_image2_1.jpg</firstimage2><mapx>127.0387710802</mapx><mapy>37.4686111452</mapy><mlevel>6</mlevel><modifiedtime>20220509153655</modifiedtime><readcount>24153</readcount><sigungucode>15</sigungucode><tel>02-737-2210</tel><title>한국음식관광박람회</title></item><item><addr1>서울특별시 중구 퇴계로36길 10</addr1><addr2>(필동2가)</addr2><areacode>1</areacode><cat1>A02</cat1><cat2>A0208</cat2><cat3>A02080100</cat3><contentid>140665</contentid><contenttypeid>15</contenttypeid><createdtime>20040305090000</createdtime><eventenddate>20221231</eventenddate><eventstartdate>20220101</eventstartdate><mapx>126.9945752914</mapx><mapy>37.5601774962</mapy><mlevel>6</mlevel><modifiedtime>20220407165814</modifiedtime><readcount>41065</readcount><sigungucode>24</sigungucode><tel>02-2266-9101~3</tel><title>한국의집 전통예술공연 KOREA 심청</title></item><item><addr1>서울특별시 강남구 영동대로 513 코엑스</addr1><areacode>1</areacode><cat1>A02</cat1><cat2>A0207</cat2><cat3>A02070200</cat3><contentid>1066064</contentid><contenttypeid>15</contenttypeid><createdtime>20100729201821</createdtime><eventenddate>20220925</eventenddate><eventstartdate>20220925</eventstartdate><firstimage>http://tong.visitkorea.or.kr/cms/resource/26/2822726_image2_1.jpg</firstimage><firstimage2>http://tong.visitkorea.or.kr/cms/resource/26/2822726_image3_1.jpg</firstimage2><mapx>127.0592179950</mapx><mapy>37.5119175967</mapy><mlevel>6</mlevel><modifiedtime>20220603145908</modifiedtime><readcount>22898</readcount><sigungucode>1</sigungucode><tel>02-702-7775</tel><title>한일축제한마당 in Seoul</title></item><item><addr1>서울특별시 용산구 남산공원길 105 YTN서울타워</addr1><areacode>1</areacode><cat1>A02</cat1><cat2>A0208</cat2><cat3>A02081300</cat3><contentid>2826292</contentid><contenttypeid>15</contenttypeid><createdtime>20220704152946</createdtime><eventenddate>20220722</eventenddate><eventstartdate>20220701</eventstartdate><firstimage>http://tong.visitkorea.or.kr/cms/resource/90/2826290_image2_1.jpg</firstimage><firstimage2>http://tong.visitkorea.or.kr/cms/resource/90/2826290_image3_1.jpg</firstimage2><mapx>126.9878733796</mapx><mapy>37.5511700886</mapy><mlevel>6</mlevel><modifiedtime>20220704153109</modifiedtime><readcount>0</readcount><sigungucode>21</sigungucode><tel>02-3455-9277</tel><title>혜택이 비처럼 쏟아지는 ‘남산 걷기 챌린지’</title></item><item><addr1>서울특별시 강남구 영동대로 513</addr1><areacode>1</areacode><cat1>A02</cat1><cat2>A0208</cat2><cat3>A02080500</cat3><contentid>2656669</contentid><contenttypeid>15</contenttypeid><createdtime>20200519224845</createdtime><eventenddate>20220611</eventenddate><eventstartdate>20220609</eventstartdate><firstimage>http://tong.visitkorea.or.kr/cms/resource/25/2815125_image2_1.jpg</firstimage><firstimage2>http://tong.visitkorea.or.kr/cms/resource/25/2815125_image2_1.jpg</firstimage2><mapx>127.0594429796</mapx><mapy>37.5117148467</mapy><mlevel>6</mlevel><modifiedtime>20220406113045</modifiedtime><readcount>0</readcount><sigungucode>1</sigungucode><tel>02-881-5151</tel><title>홈케어·재활·복지 전시회 Reha·Homecare</title></item><item><addr1>서울특별시 마포구 와우산로37길 35</addr1><addr2>(동교동)</addr2><areacode>1</areacode><cat1>A02</cat1><cat2>A0207</cat2><cat3>A02070200</cat3><contentid>2789750</contentid><contenttypeid>15</contenttypeid><createdtime>20211208162507</createdtime><eventenddate>20220202</eventenddate><eventstartdate>20211217</eventstartdate><firstimage>http://tong.visitkorea.or.kr/cms/resource/48/2789748_image2_1.png</firstimage><firstimage2>http://tong.visitkorea.or.kr/cms/resource/48/2789748_image2_1.png</firstimage2><mapx>126.9290369242</mapx><mapy>37.5564989709</mapy><mlevel>6</mlevel><modifiedtime>20211208162507</modifiedtime><readcount>0</readcount><sigungucode>13</sigungucode><tel>02-324-6200</tel><title>2021 경의선 책거리 겨울빛축제</title></item><item><addr1>서울특별시 중구 을지로 281</addr1><areacode>1</areacode><cat1>A02</cat1><cat2>A0207</cat2><cat3>A02070200</cat3><contentid>2640874</contentid><contenttypeid>15</contenttypeid><createdtime>20191217150644</createdtime><eventenddate>20220102</eventenddate><eventstartdate>20211217</eventstartdate><firstimage>http://tong.visitkorea.or.kr/cms/resource/50/2799650_image2_1.jpg</firstimage><firstimage2>http://tong.visitkorea.or.kr/cms/resource/50/2799650_image2_1.jpg</firstimage2><mapx>127.0099486810</mapx><mapy>37.5675991318</mapy><mlevel>6</mlevel><modifiedtime>20211215160906</modifiedtime><readcount>0</readcount><sigungucode>24</sigungucode><tel>070-5097-1203</tel><title>2021 서울라이트</title></item><item><addr1>서울특별시 종로구 사직로 161 경복궁</addr1><areacode>1</areacode><cat1>A02</cat1><cat2>A0207</cat2><cat3>A02070200</cat3><contentid>2615461</contentid><contenttypeid>15</contenttypeid><createdtime>20190816224954</createdtime><eventenddate>20220625</eventenddate><eventstartdate>20220420</eventstartdate><firstimage>http://tong.visitkorea.or.kr/cms/resource/79/2815779_image2_1.jpg</firstimage><firstimage2>http://tong.visitkorea.or.kr/cms/resource/79/2815779_image2_1.jpg</firstimage2><mapx>126.9770319156</mapx><mapy>37.5788944508</mapy><mlevel>6</mlevel><modifiedtime>20220412151449</modifiedtime><readcount>0</readcount><sigungucode>23</sigungucode><tel>02-3210-3507</tel><title>2022년 경복궁 생과방</title></item><item><addr1>서울특별시 서초구 반포대로 201 국립중앙도서관</addr1><areacode>1</areacode><cat1>A02</cat1><cat2>A0208</cat2><cat3>A02081300</cat3><contentid>2818861</contentid><contenttypeid>15</contenttypeid><createdtime>20220509135228</createdtime><eventenddate>20220723</eventenddate><eventstartdate>20220722</eventstartdate><firstimage>http://tong.visitkorea.or.kr/cms/resource/93/2826993_image2_1.png</firstimage><firstimage2>http://tong.visitkorea.or.kr/cms/resource/93/2826993_image3_1.png</firstimage2><mapx>127.0045483736</mapx><mapy>37.4976821568</mapy><mlevel>6</mlevel><modifiedtime>20220708153226</modifiedtime><readcount>0</readcount><sigungucode>15</sigungucode><tel>국립중앙도서관 국제교류홍보팀 02-590-6323</tel><title>2022년 나의 책, 나의 인문기행 남해지역 탐방</title></item><item><addr1>서울특별시 중구 세종대로 99</addr1><addr2>(정동)</addr2><areacode>1</areacode><cat1>A02</cat1><cat2>A0207</cat2><cat3>A02070200</cat3><contentid>2756396</contentid><contenttypeid>15</contenttypeid><createdtime>20211013202056</createdtime><eventenddate>20220612</eventenddate><eventstartdate>20220503</eventstartdate><firstimage>http://tong.visitkorea.or.kr/cms/resource/45/2817145_image2_1.jpg</firstimage><firstimage2>http://tong.visitkorea.or.kr/cms/resource/45/2817145_image2_1.jpg</firstimage2><mapx>126.9749296905</mapx><mapy>37.5661486714</mapy><mlevel>6</mlevel><modifiedtime>20220425102154</modifiedtime><readcount>0</readcount><sigungucode>24</sigungucode><tel>02-3210-4685</tel><title>2022년 밤의 석조전</title></item><item><addr1>서울특별시 종로구 계동4길 3</addr1><areacode>1</areacode><cat1>A02</cat1><cat2>A0208</cat2><cat3>A02081300</cat3><contentid>2821571</contentid><contenttypeid>15</contenttypeid><createdtime>20220525135447</createdtime><eventenddate>20220610</eventenddate><eventstartdate>20220531</eventstartdate><firstimage>http://tong.visitkorea.or.kr/cms/resource/67/2821567_image2_1.jpg</firstimage><firstimage2>http://tong.visitkorea.or.kr/cms/resource/67/2821567_image3_1.jpg</firstimage2><mapx>126.9870781245</mapx><mapy>37.5823581167</mapy><mlevel>6</mlevel><modifiedtime>20220525135455</modifiedtime><readcount>0</readcount><sigungucode>23</sigungucode><tel>02-737-6444</tel><title>2022년 북촌 한옥 역사관 상반기 특별행사</title></item><item><addr1>서울특별시 종로구 율곡로 53 (학)덕성학원 해영회관</addr1><areacode>1</areacode><cat1>A02</cat1><cat2>A0207</cat2><cat3>A02070200</cat3><contentid>1291408</contentid><contenttypeid>15</contenttypeid><createdtime>20110531003739</createdtime><eventenddate>20220612</eventenddate><eventstartdate>20220421</eventstartdate><firstimage>http://tong.visitkorea.or.kr/cms/resource/81/2815681_image2_1.jpg</firstimage><firstimage2>http://tong.visitkorea.or.kr/cms/resource/81/2815681_image2_1.jpg</firstimage2><mapx>126.9851423515</mapx><mapy>37.5766531897</mapy><mlevel>6</mlevel><modifiedtime>20220510181158</modifiedtime><readcount>700585</readcount><sigungucode>23</sigungucode><tel>02-3210-4804</tel><title>2022년 창덕궁 달빛기행</title></item><item><addr1>서울특별시 종로구 청와대로 1 청와대</addr1><areacode>1</areacode><cat1>A02</cat1><cat2>A0208</cat2><cat3>A02081300</cat3><contentid>2825285</contentid><contenttypeid>15</contenttypeid><createdtime>20220628113539</createdtime><eventenddate>20220801</eventenddate><eventstartdate>20220720</eventstartdate><firstimage>http://tong.visitkorea.or.kr/cms/resource/84/2825284_image2_1.jpg</firstimage><firstimage2>http://tong.visitkorea.or.kr/cms/resource/84/2825284_image3_1.jpg</firstimage2><mapx>126.9746792089</mapx><mapy>37.5839799278</mapy><mlevel>6</mlevel><modifiedtime>20220628113551</modifiedtime><readcount>0</readcount><sigungucode>23</sigungucode><tel>1522-7760</tel><title>2022년 청와대 한여름 밤의 산책</title></item><item><addr1>서울특별시 강남구 영동대로 513 코엑스</addr1><areacode>1</areacode><cat1>A02</cat1><cat2>A0207</cat2><cat3>A02070200</cat3><contentid>2829980</contentid><contenttypeid>15</contenttypeid><createdtime>20220728152501</createdtime><eventenddate>20220828</eventenddate><eventstartdate>20220825</eventstartdate><firstimage>http://tong.visitkorea.or.kr/cms/resource/74/2829974_image2_1.jpg</firstimage><firstimage2>http://tong.visitkorea.or.kr/cms/resource/74/2829974_image3_1.jpg</firstimage2><mapx>127.0592179950</mapx><mapy>37.5119175967</mapy><mlevel>6</mlevel><modifiedtime>20220728161029</modifiedtime><sigungucode>1</sigungucode><tel>02-741-3577</tel><title>2022년 한복상점</title></item><item><addr1>서울특별시 도봉구 마들로 932 평화문화진지</addr1><areacode>1</areacode><cat1>A02</cat1><cat2>A0207</cat2><cat3>A02070200</cat3><contentid>1104496</contentid><contenttypeid>15</contenttypeid><createdtime>20101007020222</createdtime><eventenddate>20220925</eventenddate><eventstartdate>20220924</eventstartdate><firstimage>http://tong.visitkorea.or.kr/cms/resource/26/2830026_image2_1.jpg</firstimage><firstimage2>http://tong.visitkorea.or.kr/cms/resource/26/2830026_image3_1.jpg</firstimage2><mapx>127.0464307380</mapx><mapy>37.6907576895</mapy><mlevel>6</mlevel><modifiedtime>20220728160950</modifiedtime><readcount>4640</readcount><sigungucode>10</sigungucode><tel>02-908-2914</tel><title>2022도봉산페스티벌</title></item><item><addr1>서울특별시 강남구 남부순환로 3104</addr1><addr2>(대치동)</addr2><areacode>1</areacode><cat1>A02</cat1><cat2>A0208</cat2><cat3>A02080600</cat3><contentid>2620577</contentid><contenttypeid>15</contenttypeid><createdtime>20190923231449</createdtime><eventenddate>20221002</eventenddate><eventstartdate>20220929</eventstartdate><firstimage>http://tong.visitkorea.or.kr/cms/resource/79/2823779_image2_1.jpg</firstimage><firstimage2>http://tong.visitkorea.or.kr/cms/resource/79/2823779_image3_1.jpg</firstimage2><mapx>127.0719811806</mapx><mapy>37.4957363721</mapy><modifiedtime>20220620100832</modifiedtime><readcount>0</readcount><sigungucode>1</sigungucode><tel>02-2231-2013</tel><title>2022서울국제불교박람회</title></item><item><addr1>서울특별시 강남구 남부순환로 3104 SETEC</addr1><areacode>1</areacode><cat1>A02</cat1><cat2>A0207</cat2><cat3>A02070200</cat3><contentid>2755544</contentid><contenttypeid>15</contenttypeid><createdtime>20211012222239</createdtime><eventenddate>20221031</eventenddate><eventstartdate>20220801</eventstartdate><firstimage>http://tong.visitkorea.or.kr/cms/resource/40/2755540_image2_1.jpg</firstimage><firstimage2>http://tong.visitkorea.or.kr/cms/resource/40/2755540_image2_1.jpg</firstimage2><mapx>127.0707673919</mapx><mapy>37.4960890861</mapy><mlevel>6</mlevel><modifiedtime>20220629112835</modifiedtime><readcount>0</readcount><sigungucode>1</sigungucode><tel>02-2231-2011</tel><title>2022서울릴랙스위크</title></item><item><addr1>서울특별시 중구 정동길 18 국토발전전시관</addr1><areacode>1</areacode><cat1>A02</cat1><cat2>A0208</cat2><cat3>A02081300</cat3><contentid>2822049</contentid><contenttypeid>15</contenttypeid><createdtime>20220527132852</createdtime><eventenddate>20220529</eventenddate><eventstartdate>20220528</eventstartdate><firstimage>http://tong.visitkorea.or.kr/cms/resource/48/2822048_image2_1.jpg</firstimage><firstimage2>http://tong.visitkorea.or.kr/cms/resource/48/2822048_image3_1.jpg</firstimage2><mapx>126.9700967775</mapx><mapy>37.5668623905</mapy><mlevel>6</mlevel><modifiedtime>20220527133057</modifiedtime><readcount>0</readcount><sigungucode>24</sigungucode><tel>010-3098-3722</tel><title>2022 국토발전전시관 문화행사</title></item><item><addr1>서울특별시 중구 을지로 281</addr1><areacode>1</areacode><cat1>A02</cat1><cat2>A0208</cat2><cat3>A02080600</cat3><contentid>1427601</contentid><contenttypeid>15</contenttypeid><createdtime>20111104201413</createdtime><eventenddate>20220619</eventenddate><eventstartdate>20220616</eventstartdate><mapx>127.0095709797</mapx><mapy>37.5661076320</mapy><mlevel>6</mlevel><modifiedtime>20220609135604</modifiedtime><readcount>21230</readcount><sigungucode>24</sigungucode><tel>02-757-7485</tel><title>2022 내나라 여행박람회</title></item><item><addr1>서울특별시 금천구  서부샛길 (606, 대성디폴리스지식산업센터)</addr1><areacode>1</areacode><cat1>A02</cat1><cat2>A0208</cat2><cat3>A02081300</cat3><contentid>2373224</contentid><contenttypeid>15</contenttypeid><createdtime>20160317022145</createdtime><eventenddate>20220606</eventenddate><eventstartdate>20220604</eventstartdate><firstimage>http://tong.visitkorea.or.kr/cms/resource/83/2821983_image2_1.png</firstimage><firstimage2>http://tong.visitkorea.or.kr/cms/resource/83/2821983_image3_1.png</firstimage2><mapx>126.8770549248</mapx><mapy>37.4800458136</mapy><mlevel>6</mlevel><modifiedtime>20220527100404</modifiedtime><readcount>46743</readcount><sigungucode>15</sigungucode><tel>02-802-7666, 7669</tel><title>2022 대한민국 국제요리&amp;제과 경연대회</title></item><item><addr1>서울특별시 서초구 남부순환로 2364 국립국악원</addr1><areacode>1</areacode><cat1>A02</cat1><cat2>A0207</cat2><cat3>A02070200</cat3><contentid>607348</contentid><contenttypeid>15</contenttypeid><createdtime>20080811223450</createdtime><eventenddate>20220710</eventenddate><eventstartdate>20220706</eventstartdate><firstimage>http://tong.visitkorea.or.kr/cms/resource/13/2823513_image2_1.jpg</firstimage><firstimage2>http://tong.visitkorea.or.kr/cms/resource/13/2823513_image3_1.jpg</firstimage2><mapx>127.0090512856</mapx><mapy>37.4784066973</mapy><mlevel>6</mlevel><modifiedtime>20220613151056</modifiedtime><readcount>4819</readcount><sigungucode>15</sigungucode><tel>02-580-3274</tel><title>2022 대한민국 전통연희축제</title></item><item><addr1>서울특별시 중구 청계천로 40 한국관광공사 서울센터</addr1><areacode>1</areacode><cat1>A02</cat1><cat2>A0207</cat2><cat3>A02070200</cat3><contentid>2714690</contentid><contenttypeid>15</contenttypeid><createdtime>20210428004724</createdtime><eventenddate>20220703</eventenddate><eventstartdate>20220527</eventstartdate><firstimage>http://tong.visitkorea.or.kr/cms/resource/95/2820595_image2_1.jpg</firstimage><firstimage2>http://tong.visitkorea.or.kr/cms/resource/95/2820595_image2_1.jpg</firstimage2><mapx>126.9816428989</mapx><mapy>37.5685818430</mapy><mlevel>6</mlevel><modifiedtime>20220519093740</modifiedtime><readcount>0</readcount><sigungucode>24</sigungucode><tel>070-7575-2353</tel><title>2022 더현대 플로깅 I'm Ready</title></item><item><addr1>서울특별시 동작구 동작대로9길 35 서울동작경찰서 사당지구대</addr1><areacode>1</areacode><cat1>A02</cat1><cat2>A0207</cat2><cat3>A02070200</cat3><contentid>2823966</contentid><contenttypeid>15</contenttypeid><createdtime>20220615175444</createdtime><eventenddate>20220625</eventenddate><eventstartdate>20220624</eventstartdate><firstimage>http://tong.visitkorea.or.kr/cms/resource/62/2823962_image2_1.jpg</firstimage><firstimage2>http://tong.visitkorea.or.kr/cms/resource/62/2823962_image3_1.jpg</firstimage2><mapx>126.9795455763</mapx><mapy>37.4805920268</mapy><mlevel>6</mlevel><modifiedtime>20220615175452</modifiedtime><readcount>0</readcount><sigungucode>12</sigungucode><tel>02-554-9795</tel><title>2022 동작 LINK 상권 공방거리 마을축제</title></item><item><addr1>서울특별시 종로구 종로 157 종묘공원</addr1><areacode>1</areacode><cat1>A02</cat1><cat2>A0207</cat2><cat3>A02070200</cat3><contentid>2818837</contentid><contenttypeid>15</contenttypeid><createdtime>20220509105710</createdtime><eventenddate>20220522</eventenddate><eventstartdate>20220518</eventstartdate><firstimage>http://tong.visitkorea.or.kr/cms/resource/33/2818833_image2_1.jpg</firstimage><firstimage2>http://tong.visitkorea.or.kr/cms/resource/33/2818833_image2_1.jpg</firstimage2><mapx>126.9951471543</mapx><mapy>37.5710345779</mapy><mlevel>6</mlevel><modifiedtime>20220509113303</modifiedtime><readcount>0</readcount><sigungucode>23</sigungucode><tel>02-3210-4806</tel><title>2022 묘현례</title></item><item><addr1>서울특별시 강남구 영동대로 513 코엑스</addr1><areacode>1</areacode><cat1>A02</cat1><cat2>A0207</cat2><cat3>A02070200</cat3><contentid>2387785</contentid><contenttypeid>15</contenttypeid><createdtime>20160614024034</createdtime><eventenddate>20220815</eventenddate><eventstartdate>20220814</eventstartdate><firstimage>http://tong.visitkorea.or.kr/cms/resource/56/2827856_image2_1.jpg</firstimage><firstimage2>http://tong.visitkorea.or.kr/cms/resource/56/2827856_image3_1.jpg</firstimage2><mapx>127.0592179950</mapx><mapy>37.5119175967</mapy><mlevel>6</mlevel><modifiedtime>20220718141412</modifiedtime><readcount>33369</readcount><sigungucode>1</sigungucode><tel>070-8611-9803</tel><title>2022 보드게임콘</title></item><item><addr1>서울특별시 송파구 올림픽로 448 서울올림픽파크텔</addr1><areacode>1</areacode><cat1>A02</cat1><cat2>A0208</cat2><cat3>A02081300</cat3><contentid>2392010</contentid><contenttypeid>15</contenttypeid><createdtime>20160707190758</createdtime><eventenddate>20220904</eventenddate><eventstartdate>20220903</eventstartdate><firstimage>http://tong.visitkorea.or.kr/cms/resource/82/2829982_image2_1.jpg</firstimage><firstimage2>http://tong.visitkorea.or.kr/cms/resource/82/2829982_image3_1.jpg</firstimage2><mapx>127.1165319275</mapx><mapy>37.5223340860</mapy><mlevel>6</mlevel><modifiedtime>20220728160113</modifiedtime><readcount>60086</readcount><sigungucode>18</sigungucode><tel>070-7727-1755</tel><title>2022 사람사랑 생명사랑 밤길걷기 LiveWALK</title></item><item><addr1>서울특별시 강남구 봉은사로 524</addr1><addr2>(삼성동)</addr2><areacode>1</areacode><cat1>A02</cat1><cat2>A0208</cat2><cat3>A02081300</cat3><contentid>2802854</contentid><contenttypeid>15</contenttypeid><createdtime>20211227101455</createdtime><eventenddate>20220120</eventenddate><eventstartdate>20220120</eventstartdate><firstimage>http://tong.visitkorea.or.kr/cms/resource/53/2802853_image2_1.jpg</firstimage><firstimage2>http://tong.visitkorea.or.kr/cms/resource/53/2802853_image2_1.jpg</firstimage2><mapx>127.0573070288</mapx><mapy>37.5129313340</mapy><mlevel>6</mlevel><modifiedtime>20211227101455</modifiedtime><readcount>0</readcount><sigungucode>1</sigungucode><tel>02-961-2580</tel><title>2022 산림・임업 전망 발표대회</title></item><item><addr1>서울특별시 종로구 동숭길 114</addr1><addr2>(동숭동)</addr2><areacode>1</areacode><cat1>A02</cat1><cat2>A0207</cat2><cat3>A02070200</cat3><contentid>142033</contentid><contenttypeid>15</contenttypeid><createdtime>20070702000000</createdtime><eventenddate>20220116</eventenddate><eventstartdate>20220104</eventstartdate><firstimage>http://tong.visitkorea.or.kr/cms/resource/21/2784021_image2_1.jpg</firstimage><firstimage2>http://tong.visitkorea.or.kr/cms/resource/21/2784021_image2_1.jpg</firstimage2><mapx>127.0038654579</mapx><mapy>37.5832416489</mapy><mlevel>6</mlevel><modifiedtime>20211202091750</modifiedtime><readcount>27116</readcount><sigungucode>23</sigungucode><tel>02-745-5862~3</tel><title>2022 서울 아시테지 겨울축제</title></item></items><numofrows>100</numofrows><pageno>1</pageno><totalcount>143</totalcount></body></response>"
      ]
     },
     "execution_count": 65,
     "metadata": {},
     "output_type": "execute_result"
    }
   ],
   "source": [
    "bs_obj = BeautifulSoup(result.content,'html.parser')\n",
    "bs_obj"
   ]
  },
  {
   "cell_type": "code",
   "execution_count": 66,
   "metadata": {},
   "outputs": [],
   "source": [
    "fest = bs_obj.findAll('item')"
   ]
  },
  {
   "cell_type": "code",
   "execution_count": 67,
   "metadata": {},
   "outputs": [
    {
     "data": {
      "text/plain": [
       "[<item><addr1>서울특별시 종로구 삼청로 30</addr1><addr2>(소격동)</addr2><areacode>1</areacode><cat1>A02</cat1><cat2>A0208</cat2><cat3>A02080500</cat3><contentid>2733528</contentid><contenttypeid>15</contenttypeid><createdtime>20210813014105</createdtime><eventenddate>20220606</eventenddate><eventstartdate>20210721</eventstartdate><firstimage>http://tong.visitkorea.or.kr/cms/resource/27/2733527_image2_1.jpg</firstimage><firstimage2>http://tong.visitkorea.or.kr/cms/resource/27/2733527_image2_1.jpg</firstimage2><mapx>126.9800649747</mapx><mapy>37.5788361778</mapy><mlevel>6</mlevel><modifiedtime>20220603161322</modifiedtime><readcount>0</readcount><sigungucode>23</sigungucode><tel>02-3701-9500</tel><title>《MMCA 이건희컬렉션 특별전: 한국미술명작》</title></item>,\n",
       " <item><addr1>서울특별시 강남구 논현동</addr1><addr2>논현동 가구거리</addr2><areacode>1</areacode><cat1>A02</cat1><cat2>A0208</cat2><cat3>A02080600</cat3><contentid>2819403</contentid><contenttypeid>15</contenttypeid><createdtime>20220511162910</createdtime><eventenddate>20220904</eventenddate><eventstartdate>20220826</eventstartdate><firstimage>http://tong.visitkorea.or.kr/cms/resource/96/2819396_image2_1.jpg</firstimage><firstimage2>http://tong.visitkorea.or.kr/cms/resource/96/2819396_image2_1.jpg</firstimage2><mapx>127.0225157989</mapx><mapy>37.5112531257</mapy><mlevel>6</mlevel><modifiedtime>20220511163759</modifiedtime><readcount>0</readcount><sigungucode>1</sigungucode><tel>02-3423-5532</tel><title>강남인테리어디자인위크</title></item>,\n",
       " <item><addr1>서울특별시 중구 을지로 281</addr1><areacode>1</areacode><cat1>A02</cat1><cat2>A0207</cat2><cat3>A02070200</cat3><contentid>2735376</contentid><contenttypeid>15</contenttypeid><createdtime>20210820001835</createdtime><eventenddate>20220522</eventenddate><eventstartdate>20220423</eventstartdate><firstimage>http://tong.visitkorea.or.kr/cms/resource/90/2816490_image2_1.jpg</firstimage><firstimage2>http://tong.visitkorea.or.kr/cms/resource/90/2816490_image2_1.jpg</firstimage2><mapx>127.0095709797</mapx><mapy>37.5661076320</mapy><mlevel>6</mlevel><modifiedtime>20220418113955</modifiedtime><readcount>0</readcount><sigungucode>6</sigungucode><tel>02-3437-0059</tel><title>거리예술 캬라반 ‘봄’</title></item>,\n",
       " <item><addr1>서울특별시 강서구 양천로47길 36</addr1><areacode>1</areacode><cat1>A02</cat1><cat2>A0207</cat2><cat3>A02070200</cat3><contentid>2490376</contentid><contenttypeid>15</contenttypeid><createdtime>20170418024520</createdtime><eventenddate>20220611</eventenddate><eventstartdate>20220611</eventstartdate><firstimage>http://tong.visitkorea.or.kr/cms/resource/45/2819745_image2_1.jpg</firstimage><firstimage2>http://tong.visitkorea.or.kr/cms/resource/45/2819745_image2_1.jpg</firstimage2><mapx>126.8383836374</mapx><mapy>37.5722066362</mapy><mlevel>6</mlevel><modifiedtime>20220513141205</modifiedtime><readcount>3937</readcount><sigungucode>4</sigungucode><tel>02-2659-2206</tel><title>겸재문화예술제</title></item>,\n",
       " <item><addr1>서울특별시 종로구 사직로 161</addr1><areacode>1</areacode><cat1>A02</cat1><cat2>A0207</cat2><cat3>A02070200</cat3><contentid>2648460</contentid><contenttypeid>15</contenttypeid><createdtime>20200224192834</createdtime><eventenddate>20220529</eventenddate><eventstartdate>20220518</eventstartdate><firstimage>http://tong.visitkorea.or.kr/cms/resource/50/2818650_image2_1.jpg</firstimage><firstimage2>http://tong.visitkorea.or.kr/cms/resource/50/2818650_image2_1.jpg</firstimage2><mapx>126.9770319156</mapx><mapy>37.5788944508</mapy><mlevel>6</mlevel><modifiedtime>20220504170235</modifiedtime><readcount>0</readcount><sigungucode>23</sigungucode><tel>02-3210-4633</tel><title>경복궁 별빛야행</title></item>,\n",
       " <item><addr1>서울특별시 종로구 사직로 161</addr1><areacode>1</areacode><cat1>A02</cat1><cat2>A0207</cat2><cat3>A02070200</cat3><contentid>2601364</contentid><contenttypeid>15</contenttypeid><createdtime>20190511024353</createdtime><eventenddate>20220620</eventenddate><eventstartdate>20220608</eventstartdate><firstimage>http://tong.visitkorea.or.kr/cms/resource/65/2821665_image2_1.png</firstimage><firstimage2>http://tong.visitkorea.or.kr/cms/resource/65/2821665_image3_1.png</firstimage2><mapx>126.9748959222</mapx><mapy>37.5816246501</mapy><mlevel>6</mlevel><modifiedtime>20220526100256</modifiedtime><readcount>40</readcount><sigungucode>23</sigungucode><tel>02-3210-0778</tel><title>경복궁 수라간 시식공감</title></item>,\n",
       " <item><addr1>서울특별시 관악구</addr1><addr2>(봉천동)</addr2><areacode>1</areacode><cat1>A02</cat1><cat2>A0207</cat2><cat3>A02070200</cat3><contentid>2612274</contentid><contenttypeid>15</contenttypeid><createdtime>20190722184803</createdtime><eventenddate>20221016</eventenddate><eventstartdate>20221014</eventstartdate><firstimage>http://tong.visitkorea.or.kr/cms/resource/16/2667216_image2_1.jpg</firstimage><firstimage2>http://tong.visitkorea.or.kr/cms/resource/16/2667216_image2_1.jpg</firstimage2><mapx>126.9514981970</mapx><mapy>37.4782084678</mapy><mlevel>6</mlevel><modifiedtime>20220413140534</modifiedtime><readcount>0</readcount><sigungucode>5</sigungucode><tel>02) 828-5763</tel><title>관악강감찬축제</title></item>,\n",
       " <item><addr1>서울특별시 관악구 호암로22길 51</addr1><areacode>1</areacode><cat1>A02</cat1><cat2>A0208</cat2><cat3>A02081100</cat3><contentid>2819336</contentid><contenttypeid>15</contenttypeid><createdtime>20220511153614</createdtime><eventenddate>20221127</eventenddate><eventstartdate>20220424</eventstartdate><firstimage>http://tong.visitkorea.or.kr/cms/resource/52/2819252_image2_1.jpg</firstimage><firstimage2>http://tong.visitkorea.or.kr/cms/resource/52/2819252_image2_1.jpg</firstimage2><mapx>126.9356471260</mapx><mapy>37.4688426049</mapy><mlevel>6</mlevel><modifiedtime>20220512131429</modifiedtime><readcount>0</readcount><sigungucode>5</sigungucode><tel>&lt;a href=\"https://www.instagram.com/p/CdLEB4DrDBb/?igshid=YmMyMTA2M2Y=\" target=\"_blank\" title=\"새창 : 광태소극장 독립영화관 2022 감독전\"&gt;www.instagram.com&lt;/a&gt;</tel><title>광태소극장 독립영화관 2022 감독전</title></item>,\n",
       " <item><addr1>서울특별시 종로구 사직로 130 3호선 경복궁역</addr1><areacode>1</areacode><cat1>A02</cat1><cat2>A0208</cat2><cat3>A02080500</cat3><contentid>2824778</contentid><contenttypeid>15</contenttypeid><createdtime>20220621181113</createdtime><eventenddate>20231231</eventenddate><eventstartdate>20220114</eventstartdate><firstimage>http://tong.visitkorea.or.kr/cms/resource/67/2824867_image2_1.jpg</firstimage><firstimage2>http://tong.visitkorea.or.kr/cms/resource/67/2824867_image3_1.jpg</firstimage2><mapx>126.9730879153</mapx><mapy>37.5759169480</mapy><mlevel>6</mlevel><modifiedtime>20220627142221</modifiedtime><readcount>0</readcount><sigungucode>23</sigungucode><tel>02-2068-1176</tel><title>광화원 도심 속 미디어 정원</title></item>,\n",
       " <item><addr1>서울특별시 종로구 삼청로 37</addr1><addr2>(세종로)</addr2><areacode>1</areacode><cat1>A02</cat1><cat2>A0207</cat2><cat3>A02070200</cat3><contentid>679482</contentid><contenttypeid>15</contenttypeid><createdtime>20090115000631</createdtime><eventenddate>20220507</eventenddate><eventstartdate>20220505</eventstartdate><mapx>126.9789372085</mapx><mapy>37.5820413408</mapy><mlevel>6</mlevel><modifiedtime>20220503132156</modifiedtime><readcount>25449</readcount><sigungucode>23</sigungucode><tel>본관: 02-3704-3114&lt;br&gt;파주관: 031-580-5800</tel><title>국립민속박물관 어린이날 한마당</title></item>,\n",
       " <item><addr1>서울특별시 종로구 삼청로 37</addr1><addr2>(세종로)</addr2><areacode>1</areacode><cat1>A02</cat1><cat2>A0208</cat2><cat3>A02080100</cat3><contentid>140660</contentid><contenttypeid>15</contenttypeid><createdtime>20040311000000</createdtime><eventenddate>20221224</eventenddate><eventstartdate>20210101</eventstartdate><mapx>126.9788705506</mapx><mapy>37.5819663482</mapy><mlevel>6</mlevel><modifiedtime>20211221161229</modifiedtime><readcount>22182</readcount><sigungucode>23</sigungucode><tel>02-3704-3114</tel><title>국립민속박물관 우리민속한마당</title></item>,\n",
       " <item><addr1>서울특별시 종로구 삼청로 37</addr1><addr2>(세종로)</addr2><areacode>1</areacode><cat1>A02</cat1><cat2>A0207</cat2><cat3>A02070200</cat3><contentid>1204941</contentid><contenttypeid>15</contenttypeid><createdtime>20110216000050</createdtime><eventenddate>20220215</eventenddate><eventstartdate>20220212</eventstartdate><mapx>126.9788594400</mapx><mapy>37.5819774581</mapy><mlevel>6</mlevel><modifiedtime>20220211122743</modifiedtime><readcount>9540</readcount><sigungucode>23</sigungucode><tel>본관: 02-3704-3114&lt;br&gt;파주관: 031-580-5800</tel><title>국립민속박물관 정월대보름 한마당</title></item>,\n",
       " <item><addr1>서울특별시 강남구 영동대로 513</addr1><addr2>(삼성동)</addr2><areacode>1</areacode><cat1>A02</cat1><cat2>A0208</cat2><cat3>A02080600</cat3><contentid>1276136</contentid><contenttypeid>15</contenttypeid><createdtime>20110512192643</createdtime><eventenddate>20220605</eventenddate><eventstartdate>20220602</eventstartdate><mapx>127.0594124394</mapx><mapy>37.5112648981</mapy><mlevel>6</mlevel><modifiedtime>20220614170520</modifiedtime><readcount>31761</readcount><sigungucode>1</sigungucode><tel>02-6000-8000</tel><title>국제차문화대전</title></item>,\n",
       " <item><addr1>서울특별시 서초구 강남대로 27 AT센터</addr1><areacode>1</areacode><cat1>A02</cat1><cat2>A0207</cat2><cat3>A02070200</cat3><contentid>2659596</contentid><contenttypeid>15</contenttypeid><createdtime>20200612200502</createdtime><eventenddate>20220619</eventenddate><eventstartdate>20220617</eventstartdate><firstimage>http://tong.visitkorea.or.kr/cms/resource/39/2722939_image2_1.png</firstimage><firstimage2>http://tong.visitkorea.or.kr/cms/resource/39/2722939_image2_1.png</firstimage2><mapx>127.0407514903</mapx><mapy>37.4673918780</mapy><mlevel>6</mlevel><modifiedtime>20220613164952</modifiedtime><readcount>0</readcount><sigungucode>15</sigungucode><tel>070-8866-6668</tel><title>궁디팡팡 캣페스타</title></item>,\n",
       " <item><addr1>서울특별시 종로구 사직로 161</addr1><areacode>1</areacode><cat1>A02</cat1><cat2>A0207</cat2><cat3>A02070200</cat3><contentid>1998564</contentid><contenttypeid>15</contenttypeid><createdtime>20150421185827</createdtime><eventenddate>20221009</eventenddate><eventstartdate>20221001</eventstartdate><firstimage>http://tong.visitkorea.or.kr/cms/resource/07/2718907_image2_1.png</firstimage><firstimage2>http://tong.visitkorea.or.kr/cms/resource/07/2718907_image2_1.png</firstimage2><mapx>126.9769930325</mapx><mapy>37.5788222356</mapy><mlevel>6</mlevel><modifiedtime>20220620165404</modifiedtime><readcount>65553</readcount><sigungucode>23</sigungucode><tel>02-3210-4683</tel><title>궁중문화축전</title></item>,\n",
       " <item><addr1>서울특별시 강북구 삼양로 561</addr1><addr2>(우이동)</addr2><areacode>1</areacode><cat1>A02</cat1><cat2>A0208</cat2><cat3>A02081300</cat3><contentid>2592414</contentid><contenttypeid>15</contenttypeid><createdtime>20190319004141</createdtime><eventenddate>20221231</eventenddate><eventstartdate>20220423</eventstartdate><firstimage>http://tong.visitkorea.or.kr/cms/resource/20/2752920_image2_1.png</firstimage><firstimage2>http://tong.visitkorea.or.kr/cms/resource/20/2752920_image2_1.png</firstimage2><mapx>127.0122877055</mapx><mapy>37.6530781245</mapy><mlevel>6</mlevel><modifiedtime>20220428135113</modifiedtime><readcount>50</readcount><sigungucode>3</sigungucode><tel>02-901-6213</tel><title>근현대사 추리여행, '사라진 열쇠를 찾아라'</title></item>,\n",
       " <item><addr1>서울특별시 중구 세종대로 99 덕수궁</addr1><areacode>1</areacode><cat1>A02</cat1><cat2>A0208</cat2><cat3>A02081300</cat3><contentid>2829873</contentid><contenttypeid>15</contenttypeid><createdtime>20220727183605</createdtime><eventenddate>20220814</eventenddate><eventstartdate>20220809</eventstartdate><firstimage>http://tong.visitkorea.or.kr/cms/resource/67/2829867_image2_1.jpg</firstimage><firstimage2>http://tong.visitkorea.or.kr/cms/resource/67/2829867_image3_1.jpg</firstimage2><mapx>126.9765906796</mapx><mapy>37.5651071556</mapy><mlevel>6</mlevel><modifiedtime>20220727183614</modifiedtime><readcount>0</readcount><sigungucode>24</sigungucode><title>나이트 수문장 주간</title></item>,\n",
       " <item><addr1>서울특별시 중구 명동길 26</addr1><addr2>(명동2가)</addr2><areacode>1</areacode><cat1>A02</cat1><cat2>A0208</cat2><cat3>A02080300</cat3><contentid>406745</contentid><contenttypeid>15</contenttypeid><createdtime>20080118180330</createdtime><eventenddate>20220228</eventenddate><eventstartdate>20211202</eventstartdate><firstimage>http://tong.visitkorea.or.kr/cms/resource/86/2034286_image2_1.jpg</firstimage><firstimage2>http://tong.visitkorea.or.kr/cms/resource/86/2034286_image3_1.jpg</firstimage2><mapx>126.9837456304</mapx><mapy>37.5634463660</mapy><mlevel>6</mlevel><modifiedtime>20211221164759</modifiedtime><readcount>44442</readcount><sigungucode>24</sigungucode><tel>02-739-8288</tel><title>난타 (명동)</title></item>,\n",
       " <item><addr1>서울특별시 중구 퇴계로34길 28 남산골한옥마을</addr1><areacode>1</areacode><cat1>A02</cat1><cat2>A0207</cat2><cat3>A02070200</cat3><contentid>2819167</contentid><contenttypeid>15</contenttypeid><createdtime>20220510165402</createdtime><eventenddate>20220925</eventenddate><eventstartdate>20220922</eventstartdate><firstimage>http://tong.visitkorea.or.kr/cms/resource/64/2819164_image2_1.jpg</firstimage><firstimage2>http://tong.visitkorea.or.kr/cms/resource/64/2819164_image2_1.jpg</firstimage2><mapx>126.9932865315</mapx><mapy>37.5597775194</mapy><mlevel>6</mlevel><modifiedtime>20220510165412</modifiedtime><readcount>0</readcount><sigungucode>24</sigungucode><tel>02-2000-5806</tel><title>남산 한국의 맛 축제</title></item>,\n",
       " <item><addr1>서울특별시 종로구 종로 54 보신각</addr1><areacode>1</areacode><cat1>A02</cat1><cat2>A0208</cat2><cat3>A02080100</cat3><contentid>2809535</contentid><contenttypeid>15</contenttypeid><createdtime>20220307144537</createdtime><eventenddate>20221231</eventenddate><eventstartdate>20220101</eventstartdate><firstimage>http://tong.visitkorea.or.kr/cms/resource/29/2809529_image2_1.jpg</firstimage><firstimage2>http://tong.visitkorea.or.kr/cms/resource/29/2809529_image2_1.jpg</firstimage2><mapx>126.9836898995</mapx><mapy>37.5698206245</mapy><mlevel>6</mlevel><modifiedtime>20220315130954</modifiedtime><readcount>0</readcount><sigungucode>23</sigungucode><tel>02-120</tel><title>남산봉수의식 등 전통문화 재현행사</title></item>,\n",
       " <item><addr1>서울특별시 강남구 영동대로 513 코엑스</addr1><areacode>1</areacode><cat1>A02</cat1><cat2>A0208</cat2><cat3>A02080600</cat3><contentid>2827820</contentid><contenttypeid>15</contenttypeid><createdtime>20220714133530</createdtime><eventenddate>20220917</eventenddate><eventstartdate>20220915</eventstartdate><firstimage>http://tong.visitkorea.or.kr/cms/resource/19/2827819_image2_1.jpg</firstimage><firstimage2>http://tong.visitkorea.or.kr/cms/resource/19/2827819_image3_1.jpg</firstimage2><mapx>127.0592179950</mapx><mapy>37.5119175967</mapy><mlevel>6</mlevel><modifiedtime>20220714133544</modifiedtime><readcount>0</readcount><sigungucode>1</sigungucode><tel>02-6000-4290</tel><title>대한민국 4차산업혁명 페스티벌 2022</title></item>,\n",
       " <item><addr1>서울특별시 영등포구 여의대로 108 파크원</addr1><areacode>1</areacode><cat1>A02</cat1><cat2>A0207</cat2><cat3>A02070200</cat3><contentid>2816226</contentid><contenttypeid>15</contenttypeid><createdtime>20220414113923</createdtime><eventenddate>20220803</eventenddate><eventstartdate>20220728</eventstartdate><firstimage>http://tong.visitkorea.or.kr/cms/resource/06/2828506_image2_1.png</firstimage><firstimage2>http://tong.visitkorea.or.kr/cms/resource/06/2828506_image3_1.png</firstimage2><mapx>126.9273156868</mapx><mapy>37.5271495732</mapy><mlevel>6</mlevel><modifiedtime>20220721155355</modifiedtime><readcount>0</readcount><sigungucode>20</sigungucode><tel>02-337-2583</tel><title>디지털노마드페스티벌(DIGITAL NOMAD FESTIVAL)</title></item>,\n",
       " <item><addr1>온라인개최</addr1><areacode>1</areacode><cat1>A02</cat1><cat2>A0207</cat2><cat3>A02070200</cat3><contentid>2383974</contentid><contenttypeid>15</contenttypeid><createdtime>20160516200321</createdtime><eventenddate>20220525</eventenddate><eventstartdate>20220507</eventstartdate><mapx>126.9778738825</mapx><mapy>37.5656098983</mapy><mlevel>6</mlevel><modifiedtime>20220511134730</modifiedtime><readcount>5243</readcount><sigungucode>23</sigungucode><tel>02-861-3020</tel><title>모두하나대축제</title></item>,\n",
       " <item><addr1>서울특별시 강남구  논현로 (134, 연산MS)</addr1><areacode>1</areacode><cat1>A02</cat1><cat2>A0208</cat2><cat3>A02081300</cat3><contentid>2804687</contentid><contenttypeid>15</contenttypeid><createdtime>20220117174057</createdtime><eventenddate>20220312</eventenddate><eventstartdate>20220312</eventstartdate><mapx>127.0433813981</mapx><mapy>37.4818569134</mapy><mlevel>6</mlevel><modifiedtime>20220208163537</modifiedtime><readcount>0</readcount><sigungucode>1</sigungucode><tel>070-8892-9645</tel><title>무브컬쳐 축제학교 시즌2: 우리의 문화기획 스토리</title></item>,\n",
       " <item><addr1>서울특별시 용산구 양녕로 445</addr1><areacode>1</areacode><cat1>A02</cat1><cat2>A0207</cat2><cat3>A02070200</cat3><contentid>2598331</contentid><contenttypeid>15</contenttypeid><createdtime>20190420005447</createdtime><eventenddate>20221231</eventenddate><eventstartdate>20220528</eventstartdate><firstimage>http://tong.visitkorea.or.kr/cms/resource/64/2821264_image2_1.jpg</firstimage><firstimage2>http://tong.visitkorea.or.kr/cms/resource/64/2821264_image3_1.jpg</firstimage2><mapx>126.9580520415</mapx><mapy>37.5177178854</mapy><mlevel>6</mlevel><modifiedtime>20220602102429</modifiedtime><readcount>55</readcount><sigungucode>21</sigungucode><tel>02-786-0610</tel><title>문화가 흐르는 예술마당</title></item>,\n",
       " <item><addr1>서울특별시 종로구 이화장길 26</addr1><addr2>(이화동)</addr2><areacode>1</areacode><cat1>A02</cat1><cat2>A0208</cat2><cat3>A02080300</cat3><contentid>1394326</contentid><contenttypeid>15</contenttypeid><createdtime>20110930145126</createdtime><eventenddate>20221231</eventenddate><eventstartdate>20211029</eventstartdate><firstimage>http://tong.visitkorea.or.kr/cms/resource/72/2489672_image2_1.jpg</firstimage><firstimage2>http://tong.visitkorea.or.kr/cms/resource/72/2489672_image2_1.jpg</firstimage2><mapx>127.0039128630</mapx><mapy>37.5766424167</mapy><mlevel>6</mlevel><modifiedtime>20211222155833</modifiedtime><readcount>23320</readcount><sigungucode>23</sigungucode><tel>070-8245-2602</tel><title>뮤직드라마 당신만이</title></item>,\n",
       " <item><addr1>서울특별시 강남구 남부순환로 3104</addr1><addr2>(대치동)</addr2><areacode>1</areacode><cat1>A02</cat1><cat2>A0207</cat2><cat3>A02070200</cat3><contentid>2658426</contentid><contenttypeid>15</contenttypeid><createdtime>20200604103329</createdtime><eventenddate>20210220</eventenddate><eventstartdate>20220218</eventstartdate><firstimage>http://tong.visitkorea.or.kr/cms/resource/23/2658423_image2_1.jpg</firstimage><firstimage2>http://tong.visitkorea.or.kr/cms/resource/23/2658423_image2_1.jpg</firstimage2><mapx>127.0719811806</mapx><mapy>37.4957363721</mapy><mlevel>6</mlevel><modifiedtime>20210831130053</modifiedtime><readcount>0</readcount><sigungucode>1</sigungucode><tel>02-2223-1853</tel><title>비건페스타</title></item>,\n",
       " <item><addr1>서울특별시 중랑구 망우로91길 2</addr1><areacode>1</areacode><cat1>A02</cat1><cat2>A0208</cat2><cat3>A02081300</cat3><contentid>2822295</contentid><contenttypeid>15</contenttypeid><createdtime>20220531092053</createdtime><eventenddate>20221203</eventenddate><eventstartdate>20220123</eventstartdate><firstimage>http://tong.visitkorea.or.kr/cms/resource/92/2822292_image2_1.jpg</firstimage><firstimage2>http://tong.visitkorea.or.kr/cms/resource/92/2822292_image3_1.jpg</firstimage2><mapx>127.1143993819</mapx><mapy>37.5990306940</mapy><mlevel>6</mlevel><modifiedtime>20220607100800</modifiedtime><readcount>0</readcount><sigungucode>25</sigungucode><tel>010-8465-1945</tel><title>생생문화재 중랑구 체험학습</title></item>,\n",
       " <item><addr1>서울특별시 중구 퇴계로34길 28</addr1><addr2>(필동2가)</addr2><areacode>1</areacode><cat1>A02</cat1><cat2>A0208</cat2><cat3>A02081300</cat3><contentid>2384776</contentid><contenttypeid>15</contenttypeid><createdtime>20160523234009</createdtime><eventenddate>20220912</eventenddate><eventstartdate>20220423</eventstartdate><mapx>126.9935365470</mapx><mapy>37.5584387906</mapy><mlevel>6</mlevel><modifiedtime>20220411110015</modifiedtime><readcount>14637</readcount><tel>02-490-2778</tel><title>서울 명산트레킹</title></item>,\n",
       " <item><addr1>서울특별시 강남구 영동대로 513 코엑스</addr1><areacode>1</areacode><cat1>A02</cat1><cat2>A0208</cat2><cat3>A02080600</cat3><contentid>1024038</contentid><contenttypeid>15</contenttypeid><createdtime>20100518222522</createdtime><eventenddate>20220626</eventenddate><eventstartdate>20220623</eventstartdate><mapx>127.0592179950</mapx><mapy>37.5119175967</mapy><mlevel>6</mlevel><modifiedtime>20220526175014</modifiedtime><readcount>16099</readcount><sigungucode>1</sigungucode><tel>02-757-6161</tel><title>서울국제관광전</title></item>,\n",
       " <item><addr1>서울특별시 강남구  영동대로 (513, 코엑스)</addr1><areacode>1</areacode><cat1>A02</cat1><cat2>A0208</cat2><cat3>A02080500</cat3><contentid>228985</contentid><contenttypeid>15</contenttypeid><createdtime>20070529090000</createdtime><eventenddate>20220605</eventenddate><eventstartdate>20220601</eventstartdate><firstimage>http://tong.visitkorea.or.kr/cms/resource/56/2639256_image2_1.JPG</firstimage><firstimage2>http://tong.visitkorea.or.kr/cms/resource/56/2639256_image2_1.JPG</firstimage2><mapx>127.0594429796</mapx><mapy>37.5117148467</mapy><mlevel>6</mlevel><modifiedtime>20220125101545</modifiedtime><readcount>165277</readcount><sigungucode>1</sigungucode><tel>02-7333-8402</tel><title>서울국제도서전</title></item>,\n",
       " <item><addr1>서울특별시 마포구 양화로 72</addr1><areacode>1</areacode><cat1>A02</cat1><cat2>A0207</cat2><cat3>A02070200</cat3><contentid>1018469</contentid><contenttypeid>15</contenttypeid><createdtime>20100511192951</createdtime><eventenddate>20220930</eventenddate><eventstartdate>20220923</eventstartdate><firstimage>http://tong.visitkorea.or.kr/cms/resource/28/2822428_image2_1.png</firstimage><firstimage2>http://tong.visitkorea.or.kr/cms/resource/28/2822428_image3_1.png</firstimage2><mapx>126.9167298722</mapx><mapy>37.5508549625</mapy><mlevel>6</mlevel><modifiedtime>20220614152958</modifiedtime><readcount>1591</readcount><sigungucode>13</sigungucode><tel>siwf@klti.or.kr</tel><title>서울국제작가축제(Seoul International Writers' Festival)</title></item>,\n",
       " <item><addr1>서울특별시 강북구 월계로 173 북서울꿈의숲</addr1><areacode>1</areacode><cat1>A02</cat1><cat2>A0208</cat2><cat3>A02080600</cat3><contentid>2787200</contentid><contenttypeid>15</contenttypeid><createdtime>20211207185552</createdtime><eventenddate>20221006</eventenddate><eventstartdate>20220930</eventstartdate><firstimage>http://tong.visitkorea.or.kr/cms/resource/37/2791037_image2_1.jpg</firstimage><firstimage2>http://tong.visitkorea.or.kr/cms/resource/37/2791037_image2_1.jpg</firstimage2><mapx>127.0445440464</mapx><mapy>37.6197242510</mapy><mlevel>6</mlevel><modifiedtime>20220620110557</modifiedtime><readcount>0</readcount><sigungucode>3</sigungucode><title>서울국제정원박람회</title></item>,\n",
       " <item><addr1>서울특별시 강남구 영동대로 513 코엑스 B홀</addr1><areacode>1</areacode><cat1>A02</cat1><cat2>A0208</cat2><cat3>A02081300</cat3><contentid>1778398</contentid><contenttypeid>15</contenttypeid><createdtime>20130110175909</createdtime><eventenddate>20220702</eventenddate><eventstartdate>20220630</eventstartdate><firstimage>http://tong.visitkorea.or.kr/cms/resource/65/2775865_image2_1.jpg</firstimage><firstimage2>http://tong.visitkorea.or.kr/cms/resource/65/2775865_image2_1.jpg</firstimage2><mapx>127.0591874466</mapx><mapy>37.5117592813</mapy><mlevel>6</mlevel><modifiedtime>20211229135531</modifiedtime><readcount>2095</readcount><sigungucode>1</sigungucode><tel>02-761-2516</tel><title>서울국제주류&amp;와인박람회</title></item>,\n",
       " <item><addr1>서울특별시 종로구 대학로10길 17</addr1><areacode>1</areacode><cat1>A02</cat1><cat2>A0207</cat2><cat3>A02070200</cat3><contentid>141890</contentid><contenttypeid>15</contenttypeid><createdtime>20130221233835</createdtime><eventenddate>20220529</eventenddate><eventstartdate>20220525</eventstartdate><firstimage>http://tong.visitkorea.or.kr/cms/resource/65/2818365_image2_1.jpg</firstimage><firstimage2>http://tong.visitkorea.or.kr/cms/resource/65/2818365_image2_1.jpg</firstimage2><mapx>127.0029767101</mapx><mapy>37.5811335446</mapy><mlevel>6</mlevel><modifiedtime>20220502112858</modifiedtime><readcount>20914</readcount><sigungucode>23</sigungucode><tel>02)3674-2210</tel><title>서울국제즉흥춤축제</title></item>,\n",
       " <item><addr1>온라인개최</addr1><areacode>1</areacode><cat1>A02</cat1><cat2>A0207</cat2><cat3>A02070200</cat3><contentid>2455073</contentid><contenttypeid>15</contenttypeid><createdtime>20161213152654</createdtime><eventenddate>20220106</eventenddate><eventstartdate>20220106</eventstartdate><firstimage>http://tong.visitkorea.or.kr/cms/resource/56/2801156_image2_1.jpg</firstimage><firstimage2>http://tong.visitkorea.or.kr/cms/resource/56/2801156_image2_1.jpg</firstimage2><mapx>126.9783710306</mapx><mapy>37.5665986816</mapy><mlevel>6</mlevel><modifiedtime>20211227103222</modifiedtime><readcount>3903</readcount><sigungucode>24</sigungucode><tel>02-3447-0101</tel><title>서울영상광고제</title></item>,\n",
       " <item><addr1>서울특별시 강남구 봉은사로63길 35</addr1><addr2>(삼성동)</addr2><areacode>1</areacode><cat1>A02</cat1><cat2>A0208</cat2><cat3>A02080500</cat3><contentid>2718984</contentid><contenttypeid>15</contenttypeid><createdtime>20210601221819</createdtime><eventenddate>20220710</eventenddate><eventstartdate>20220707</eventstartdate><firstimage>http://tong.visitkorea.or.kr/cms/resource/14/2814214_image2_1.jpg</firstimage><firstimage2>http://tong.visitkorea.or.kr/cms/resource/14/2814214_image2_1.jpg</firstimage2><mapx>127.0462413481</mapx><mapy>37.5136810472</mapy><mlevel>6</mlevel><modifiedtime>20220329131812</modifiedtime><readcount>0</readcount><sigungucode>1</sigungucode><tel>support@seoulillustrationfair.co.kr</tel><title>서울일러스트레이션페어V.13</title></item>,\n",
       " <item><addr1>서울특별시 송파구 올림픽로 424</addr1><addr2>(방이동)</addr2><areacode>1</areacode><cat1>A02</cat1><cat2>A0207</cat2><cat3>A02070200</cat3><contentid>713654</contentid><contenttypeid>15</contenttypeid><createdtime>20090330224926</createdtime><eventenddate>20220529</eventenddate><eventstartdate>20220527</eventstartdate><mapx>127.1224425827</mapx><mapy>37.5194456386</mapy><mlevel>6</mlevel><modifiedtime>20220518091928</modifiedtime><readcount>23540</readcount><sigungucode>18</sigungucode><tel>02-563-0595</tel><title>서울재즈페스티벌 (SJF)</title></item>,\n",
       " <item><addr1>서울특별시 종로구 대학로 144 중원빌딩</addr1><areacode>1</areacode><cat1>A02</cat1><cat2>A0207</cat2><cat3>A02070200</cat3><contentid>1937544</contentid><contenttypeid>15</contenttypeid><createdtime>20140728232434</createdtime><eventenddate>20220813</eventenddate><eventstartdate>20220802</eventstartdate><firstimage>http://tong.visitkorea.or.kr/cms/resource/67/2825467_image2_1.jpg</firstimage><firstimage2>http://tong.visitkorea.or.kr/cms/resource/67/2825467_image3_1.jpg</firstimage2><mapx>127.0020739322</mapx><mapy>37.5840387460</mapy><mlevel>6</mlevel><modifiedtime>20220628161353</modifiedtime><readcount>8386</readcount><sigungucode>23</sigungucode><tel>02-765-7500</tel><title>서울청소년연극축제</title></item>,\n",
       " <item><addr1>서울특별시 송파구 올림픽로 25 서울종합운동장</addr1><areacode>1</areacode><cat1>A02</cat1><cat2>A0207</cat2><cat3>A02070200</cat3><contentid>2828328</contentid><contenttypeid>15</contenttypeid><createdtime>20220720102529</createdtime><eventenddate>20220814</eventenddate><eventstartdate>20220810</eventstartdate><firstimage>http://tong.visitkorea.or.kr/cms/resource/27/2828327_image2_1.jpg</firstimage><firstimage2>http://tong.visitkorea.or.kr/cms/resource/27/2828327_image3_1.jpg</firstimage2><mapx>127.0735805889</mapx><mapy>37.5114817947</mapy><mlevel>6</mlevel><modifiedtime>20220722164036</modifiedtime><readcount>0</readcount><sigungucode>18</sigungucode><tel>festa0810@gmail.com</tel><title>서울페스타 2022</title></item>,\n",
       " <item><addr1>서울특별시 마포구 증산로 87</addr1><addr2>(성산동)</addr2><areacode>1</areacode><cat1>A02</cat1><cat2>A0207</cat2><cat3>A02070200</cat3><contentid>142193</contentid><contenttypeid>15</contenttypeid><createdtime>20070813090000</createdtime><eventenddate>20220828</eventenddate><eventstartdate>20220811</eventstartdate><firstimage>http://tong.visitkorea.or.kr/cms/resource/94/2818894_image2_1.JPG</firstimage><firstimage2>http://tong.visitkorea.or.kr/cms/resource/94/2818894_image2_1.JPG</firstimage2><mapx>126.8929203036</mapx><mapy>37.5731297249</mapy><mlevel>6</mlevel><modifiedtime>20220509153113</modifiedtime><readcount>50969</readcount><sigungucode>13</sigungucode><tel>02-325-8250</tel><title>서울프린지페스티벌</title></item>,\n",
       " <item><addr1>서울특별시 마포구 증산로 87</addr1><areacode>1</areacode><cat1>A02</cat1><cat2>A0208</cat2><cat3>A02081100</cat3><contentid>2816502</contentid><contenttypeid>15</contenttypeid><createdtime>20220418143021</createdtime><eventenddate>20220508</eventenddate><eventstartdate>20220505</eventstartdate><firstimage>http://tong.visitkorea.or.kr/cms/resource/01/2816501_image2_1.jpg</firstimage><firstimage2>http://tong.visitkorea.or.kr/cms/resource/01/2816501_image2_1.jpg</firstimage2><mapx>126.8951646315</mapx><mapy>37.5699856862</mapy><mlevel>6</mlevel><modifiedtime>20220418145223</modifiedtime><readcount>0</readcount><sigungucode>13</sigungucode><tel>02-3437-0095</tel><title>서커스 캬라반 ‘봄’</title></item>,\n",
       " <item><addr1>서울특별시 용산구 양녕로 445</addr1><areacode>1</areacode><cat1>A02</cat1><cat2>A0208</cat2><cat3>A02081300</cat3><contentid>2825852</contentid><contenttypeid>15</contenttypeid><createdtime>20220630113732</createdtime><eventenddate>20220731</eventenddate><eventstartdate>20220727</eventstartdate><firstimage>http://tong.visitkorea.or.kr/cms/resource/59/2828659_image2_1.jpg</firstimage><firstimage2>http://tong.visitkorea.or.kr/cms/resource/59/2828659_image3_1.jpg</firstimage2><mapx>126.9580520415</mapx><mapy>37.5177178854</mapy><mlevel>6</mlevel><modifiedtime>20220722133749</modifiedtime><readcount>0</readcount><sigungucode>21</sigungucode><tel>044-864-6149</tel><title>손에손에 뮤직페스타 in 서울</title></item>,\n",
       " <item><addr1>서울특별시 송파구 올림픽로 326 송파구청</addr1><areacode>1</areacode><cat1>A02</cat1><cat2>A0207</cat2><cat3>A02070200</cat3><contentid>2808963</contentid><contenttypeid>15</contenttypeid><createdtime>20220302113549</createdtime><eventenddate>20220403</eventenddate><eventstartdate>20220325</eventstartdate><firstimage>http://tong.visitkorea.or.kr/cms/resource/50/2808950_image2_1.JPG</firstimage><firstimage2>http://tong.visitkorea.or.kr/cms/resource/50/2808950_image2_1.JPG</firstimage2><mapx>127.1066830358</mapx><mapy>37.5148625533</mapy><mlevel>6</mlevel><modifiedtime>20220304163347</modifiedtime><readcount>0</readcount><sigungucode>18</sigungucode><tel>02-2147-2800</tel><title>송파둘레길 벚꽃나들이</title></item>,\n",
       " <item><addr1>서울특별시 종로구 사직로 161</addr1><addr2>(세종로)</addr2><areacode>1</areacode><cat1>A02</cat1><cat2>A0208</cat2><cat3>A02080100</cat3><contentid>141661</contentid><contenttypeid>15</contenttypeid><createdtime>20070322090000</createdtime><eventenddate>20221231</eventenddate><eventstartdate>20220101</eventstartdate><firstimage>http://tong.visitkorea.or.kr/cms/resource/96/868696_image2_1.jpg</firstimage><firstimage2>http://tong.visitkorea.or.kr/cms/resource/96/868696_image3_1.jpg</firstimage2><mapx>126.9767235747</mapx><mapy>37.5801859611</mapy><mlevel>6</mlevel><modifiedtime>20220509151916</modifiedtime><readcount>25682</readcount><sigungucode>23</sigungucode><tel>02-3210-1645</tel><title>수문장 교대의식</title></item>,\n",
       " <item><addr1>서울특별시 마포구 와우산로 94</addr1><areacode>1</areacode><cat1>A02</cat1><cat2>A0207</cat2><cat3>A02070200</cat3><contentid>1829696</contentid><contenttypeid>15</contenttypeid><createdtime>20130723181937</createdtime><eventenddate>20220821</eventenddate><eventstartdate>20220726</eventstartdate><firstimage>http://tong.visitkorea.or.kr/cms/resource/17/2824917_image2_1.jpg</firstimage><firstimage2>http://tong.visitkorea.or.kr/cms/resource/17/2824917_image3_1.jpg</firstimage2><mapx>126.9255540555</mapx><mapy>37.5512772937</mapy><mlevel>6</mlevel><modifiedtime>20220622162007</modifiedtime><readcount>27293</readcount><sigungucode>13</sigungucode><tel>02-724-6324</tel><title>아시아프</title></item>,\n",
       " <item><addr1>온라인개최</addr1><addr2>(상암동)</addr2><areacode>1</areacode><cat1>A02</cat1><cat2>A0208</cat2><cat3>A02081200</cat3><contentid>2487911</contentid><contenttypeid>15</contenttypeid><createdtime>20170329192930</createdtime><eventenddate>20220417</eventenddate><eventstartdate>20220321</eventstartdate><firstimage>http://tong.visitkorea.or.kr/cms/resource/08/2487908_image2_1.jpg</firstimage><firstimage2>http://tong.visitkorea.or.kr/cms/resource/08/2487908_image2_1.jpg</firstimage2><mlevel>6</mlevel><modifiedtime>20220411150108</modifiedtime><readcount>2006</readcount><sigungucode>13</sigungucode><tel>02-2036-9214</tel><title>여성마라톤대회</title></item>,\n",
       " <item><addr1>서울특별시 종로구 우정국로 55</addr1><areacode>1</areacode><cat1>A02</cat1><cat2>A0207</cat2><cat3>A02070200</cat3><contentid>531460</contentid><contenttypeid>15</contenttypeid><createdtime>20080415015603</createdtime><eventenddate>20220501</eventenddate><eventstartdate>20220429</eventstartdate><firstimage>http://tong.visitkorea.or.kr/cms/resource/22/2811822_image2_1.jpg</firstimage><firstimage2>http://tong.visitkorea.or.kr/cms/resource/22/2811822_image2_1.jpg</firstimage2><mapx>126.9815038890</mapx><mapy>37.5733035136</mapy><mlevel>6</mlevel><modifiedtime>20220322173219</modifiedtime><readcount>128875</readcount><sigungucode>23</sigungucode><tel>02-2011-1744~1747</tel><title>연등회</title></item>,\n",
       " <item><addr1>서울특별시 영등포구 신길로 275</addr1><addr2>(영등포동)</addr2><areacode>1</areacode><cat1>A02</cat1><cat2>A0207</cat2><cat3>A02070200</cat3><contentid>1634590</contentid><contenttypeid>15</contenttypeid><createdtime>20120531020909</createdtime><eventenddate>20220603</eventenddate><eventstartdate>20220603</eventstartdate><firstimage>http://tong.visitkorea.or.kr/cms/resource/29/2492729_image2_1.jpg</firstimage><firstimage2>http://tong.visitkorea.or.kr/cms/resource/29/2492729_image2_1.jpg</firstimage2><mapx>126.9121007163</mapx><mapy>37.5161700211</mapy><mlevel>6</mlevel><modifiedtime>20220526112909</modifiedtime><readcount>9400</readcount><sigungucode>20</sigungucode><tel>영등포문화원 02-846-0155~6</tel><title>영등포 단오축제</title></item>,\n",
       " <item><addr1>서울특별시 중구 퇴계로34길 28 남산골한옥마을</addr1><areacode>1</areacode><cat1>A02</cat1><cat2>A0208</cat2><cat3>A02080100</cat3><contentid>2821777</contentid><contenttypeid>15</contenttypeid><createdtime>20220526145409</createdtime><eventenddate>20231231</eventenddate><eventstartdate>20220501</eventstartdate><firstimage>http://tong.visitkorea.or.kr/cms/resource/67/2821767_image2_1.jpg</firstimage><firstimage2>http://tong.visitkorea.or.kr/cms/resource/67/2821767_image3_1.jpg</firstimage2><mapx>126.9932865315</mapx><mapy>37.5597775194</mapy><mlevel>6</mlevel><modifiedtime>20220527151508</modifiedtime><readcount>0</readcount><sigungucode>24</sigungucode><title>영재국악회 국악공연</title></item>,\n",
       " <item><addr1>서울특별시 중구 세종대로 99</addr1><addr2>(정동)</addr2><areacode>1</areacode><cat1>A02</cat1><cat2>A0208</cat2><cat3>A02080100</cat3><contentid>292961</contentid><contenttypeid>15</contenttypeid><createdtime>20060126100026</createdtime><eventenddate>20221231</eventenddate><eventstartdate>20220101</eventstartdate><firstimage>http://tong.visitkorea.or.kr/cms/resource/32/2804532_image2_1.jpg</firstimage><firstimage2>http://tong.visitkorea.or.kr/cms/resource/32/2804532_image2_1.jpg</firstimage2><mapx>126.9761046145</mapx><mapy>37.5650460435</mapy><mlevel>6</mlevel><modifiedtime>20211231101514</modifiedtime><readcount>35451</readcount><sigungucode>24</sigungucode><tel>02-737-6444</tel><title>왕궁 수문장 교대의식</title></item>,\n",
       " <item><addr1>서울특별시 중구 태평로1가</addr1><areacode>1</areacode><cat1>A02</cat1><cat2>A0207</cat2><cat3>A02070200</cat3><contentid>2818857</contentid><contenttypeid>15</contenttypeid><createdtime>20220509133708</createdtime><eventenddate>20220604</eventenddate><eventstartdate>20220604</eventstartdate><firstimage>http://tong.visitkorea.or.kr/cms/resource/76/2818976_image2_1.jpg</firstimage><firstimage2>http://tong.visitkorea.or.kr/cms/resource/76/2818976_image2_1.jpg</firstimage2><mapx>126.9779154387</mapx><mapy>37.5693539082</mapy><mlevel>6</mlevel><modifiedtime>20220517133852</modifiedtime><readcount>0</readcount><sigungucode>23</sigungucode><tel>044-863-6202</tel><title>유기농데이</title></item>,\n",
       " <item><addr1>서울시 성동구 응봉동 응봉산</addr1><areacode>1</areacode><cat1>A02</cat1><cat2>A0207</cat2><cat3>A02070200</cat3><contentid>1801281</contentid><contenttypeid>15</contenttypeid><createdtime>20130327220020</createdtime><eventenddate>20220327</eventenddate><eventstartdate>20220326</eventstartdate><firstimage>http://tong.visitkorea.or.kr/cms/resource/92/1257992_image2_1.jpg</firstimage><firstimage2>http://tong.visitkorea.or.kr/cms/resource/92/1257992_image3_1.jpg</firstimage2><mapx>127.0281837123</mapx><mapy>37.5470685122</mapy><mlevel>6</mlevel><modifiedtime>20220623151633</modifiedtime><readcount>43580</readcount><sigungucode>16</sigungucode><tel>성동구청 문화체육과:02-2286-5202</tel><title>응봉산 개나리축제</title></item>,\n",
       " <item><addr1>서울특별시 용산구 이태원로 29</addr1><addr2>(용산동1가)</addr2><areacode>1</areacode><cat1>A02</cat1><cat2>A0207</cat2><cat3>A02070200</cat3><contentid>140788</contentid><contenttypeid>15</contenttypeid><createdtime>20050504090000</createdtime><eventenddate>20220505</eventenddate><eventstartdate>20220505</eventstartdate><firstimage>http://tong.visitkorea.or.kr/cms/resource/26/2490626_image2_1.JPG</firstimage><firstimage2>http://tong.visitkorea.or.kr/cms/resource/26/2490626_image2_1.JPG</firstimage2><mapx>126.9784385198</mapx><mapy>37.5373270838</mapy><mlevel>6</mlevel><modifiedtime>20220503133735</modifiedtime><readcount>51569</readcount><sigungucode>21</sigungucode><tel>이벤트 문의: 어린이박물관(02-709-3200)&lt;br&gt;공연 문의: 문화교류팀(02-709-3143)</tel><title>전쟁기념관 어린이날 문화축제</title></item>,\n",
       " <item><addr1>서울특별시 종로구 대학로10길 17 동숭동복합건물</addr1><areacode>1</areacode><cat1>A02</cat1><cat2>A0208</cat2><cat3>A02081300</cat3><contentid>2545174</contentid><contenttypeid>15</contenttypeid><createdtime>20180430222052</createdtime><eventenddate>20220420</eventenddate><eventstartdate>20220413</eventstartdate><mapx>127.0031961055</mapx><mapy>37.5821500970</mapy><mlevel>6</mlevel><modifiedtime>20220411144307</modifiedtime><readcount>777</readcount><sigungucode>23</sigungucode><tel>02-744-8066</tel><title>젊은안무자창작공연</title></item>,\n",
       " <item><addr1>서울특별시 종로구 창경궁로 254 동원빌딩</addr1><areacode>1</areacode><cat1>A02</cat1><cat2>A0207</cat2><cat3>A02070200</cat3><contentid>2825283</contentid><contenttypeid>15</contenttypeid><createdtime>20220628112435</createdtime><eventenddate>20220830</eventenddate><eventstartdate>20220801</eventstartdate><firstimage>http://tong.visitkorea.or.kr/cms/resource/82/2825282_image2_1.jpg</firstimage><firstimage2>http://tong.visitkorea.or.kr/cms/resource/82/2825282_image3_1.jpg</firstimage2><mapx>126.9999657976</mapx><mapy>37.5838054019</mapy><mlevel>6</mlevel><modifiedtime>20220630104337</modifiedtime><readcount>0</readcount><sigungucode>23</sigungucode><tel>010-2684-3843</tel><title>제1회 어쩌다 연극 페스티벌</title></item>,\n",
       " <item><addr1>서울특별시 강남구  영동대로 (513, 코엑스)</addr1><areacode>1</areacode><cat1>A02</cat1><cat2>A0208</cat2><cat3>A02081300</cat3><contentid>2805957</contentid><contenttypeid>15</contenttypeid><createdtime>20220203161945</createdtime><eventenddate>20221126</eventenddate><eventstartdate>20221123</eventstartdate><firstimage>http://tong.visitkorea.or.kr/cms/resource/41/2805941_image2_1.JPG</firstimage><firstimage2>http://tong.visitkorea.or.kr/cms/resource/41/2805941_image2_1.JPG</firstimage2><mapx>127.0594429796</mapx><mapy>37.5117148467</mapy><mlevel>6</mlevel><modifiedtime>20220214171448</modifiedtime><readcount>0</readcount><sigungucode>1</sigungucode><tel>02-6000-6698</tel><title>제11회 월드커피리더스포럼</title></item>,\n",
       " <item><addr1>서울특별시 강남구 영동대로 513</addr1><addr2>(삼성동)</addr2><areacode>1</areacode><cat1>A02</cat1><cat2>A0207</cat2><cat3>A02070200</cat3><contentid>2732352</contentid><contenttypeid>15</contenttypeid><createdtime>20210809231735</createdtime><eventenddate>20220506</eventenddate><eventstartdate>20220502</eventstartdate><firstimage>http://tong.visitkorea.or.kr/cms/resource/65/2756765_image2_1.png</firstimage><firstimage2>http://tong.visitkorea.or.kr/cms/resource/65/2756765_image2_1.png</firstimage2><mapx>127.0594429796</mapx><mapy>37.5117148467</mapy><mlevel>6</mlevel><modifiedtime>20220307160753</modifiedtime><readcount>0</readcount><sigungucode>1</sigungucode><tel>02-6000-7275</tel><title>제15차 세계산림총회</title></item>,\n",
       " <item><addr1>서울특별시 종로구 평창31길 5</addr1><areacode>1</areacode><cat1>A02</cat1><cat2>A0208</cat2><cat3>A02081300</cat3><contentid>2822475</contentid><contenttypeid>15</contenttypeid><createdtime>20220531172824</createdtime><eventenddate>20220612</eventenddate><eventstartdate>20220610</eventstartdate><firstimage>http://tong.visitkorea.or.kr/cms/resource/74/2822474_image2_1.jpg</firstimage><firstimage2>http://tong.visitkorea.or.kr/cms/resource/74/2822474_image3_1.jpg</firstimage2><mapx>126.9755811100</mapx><mapy>37.6119989089</mapy><mlevel>6</mlevel><modifiedtime>20220607113624</modifiedtime><readcount>0</readcount><sigungucode>23</sigungucode><tel>02-6365-1388</tel><title>제2기 자문밖아트레지던시 오픈스튜디오_자문밖, 안으로 Part 1</title></item>,\n",
       " <item><addr1>서울특별시 마포구 성미산로 29</addr1><areacode>1</areacode><cat1>A02</cat1><cat2>A0207</cat2><cat3>A02070200</cat3><contentid>629023</contentid><contenttypeid>15</contenttypeid><createdtime>20080926234220</createdtime><eventenddate>20221002</eventenddate><eventstartdate>20220914</eventstartdate><firstimage>http://tong.visitkorea.or.kr/cms/resource/47/2829647_image2_1.jpg</firstimage><firstimage2>http://tong.visitkorea.or.kr/cms/resource/47/2829647_image3_1.jpg</firstimage2><mapx>126.9113940198</mapx><mapy>37.5589122635</mapy><mlevel>6</mlevel><modifiedtime>20220728102514</modifiedtime><readcount>37466</readcount><sigungucode>13</sigungucode><tel>02-3216-1185</tel><title>제25회 서울세계무용축제 SIDance2022</title></item>,\n",
       " <item><addr1>서울특별시 강남구 영동대로 513</addr1><addr2>(삼성동)</addr2><areacode>1</areacode><cat1>A02</cat1><cat2>A0208</cat2><cat3>A02081300</cat3><contentid>2714158</contentid><contenttypeid>15</contenttypeid><createdtime>20210421021133</createdtime><eventenddate>20220227</eventenddate><eventstartdate>20220223</eventstartdate><mapx>127.0594429796</mapx><mapy>37.5117148467</mapy><mlevel>6</mlevel><modifiedtime>20220223170407</modifiedtime><readcount>0</readcount><sigungucode>1</sigungucode><tel>02-2262-7194</tel><title>제27회 서울리빙디자인페어</title></item>,\n",
       " <item><addr1>서울특별시 종로구 대학로10길 17 동숭동복합건물</addr1><areacode>1</areacode><cat1>A02</cat1><cat2>A0207</cat2><cat3>A02070200</cat3><contentid>141863</contentid><contenttypeid>15</contenttypeid><createdtime>20070514090000</createdtime><eventenddate>20220529</eventenddate><eventstartdate>20220428</eventstartdate><firstimage>http://tong.visitkorea.or.kr/cms/resource/58/2816458_image2_1.jpg</firstimage><firstimage2>http://tong.visitkorea.or.kr/cms/resource/58/2816458_image2_1.jpg</firstimage2><mapx>127.0031961055</mapx><mapy>37.5821500970</mapy><mlevel>6</mlevel><modifiedtime>20220415150220</modifiedtime><readcount>23081</readcount><sigungucode>23</sigungucode><tel>02-765-7500</tel><title>제43회 서울연극제</title></item>,\n",
       " <item><addr1>서울특별시 양천구 오목로 359 무중력지대 양천</addr1><areacode>1</areacode><cat1>A02</cat1><cat2>A0207</cat2><cat3>A02070200</cat3><contentid>2827060</contentid><contenttypeid>15</contenttypeid><createdtime>20220708140943</createdtime><eventenddate>20220917</eventenddate><eventstartdate>20220916</eventstartdate><firstimage>http://tong.visitkorea.or.kr/cms/resource/59/2827059_image2_1.png</firstimage><firstimage2>http://tong.visitkorea.or.kr/cms/resource/59/2827059_image3_1.png</firstimage2><mapx>126.8773230917</mapx><mapy>37.5246489705</mapy><mlevel>6</mlevel><modifiedtime>20220708140951</modifiedtime><readcount>0</readcount><sigungucode>19</sigungucode><tel>02-2646-2030</tel><title>제5회 무중력영화제(MUFF)</title></item>,\n",
       " <item><addr1>서울특별시 강남구  영동대로 (513, 코엑스)</addr1><areacode>1</areacode><cat1>A02</cat1><cat2>A0207</cat2><cat3>A02070200</cat3><contentid>2805988</contentid><contenttypeid>15</contenttypeid><createdtime>20220204090941</createdtime><eventenddate>20221126</eventenddate><eventstartdate>20221123</eventstartdate><firstimage>http://tong.visitkorea.or.kr/cms/resource/49/2806349_image2_1.png</firstimage><firstimage2>http://tong.visitkorea.or.kr/cms/resource/49/2806349_image2_1.png</firstimage2><mapx>127.0594429796</mapx><mapy>37.5117148467</mapy><mlevel>6</mlevel><modifiedtime>20220209164855</modifiedtime><readcount>0</readcount><sigungucode>1</sigungucode><tel>02-6000-6709</tel><title>제7회 서울커피페스티벌 The 7th Seoul Coffee Festival</title></item>,\n",
       " <item><addr1>서울특별시 종로구 세종대로 172 5호선 광화문역</addr1><areacode>1</areacode><cat1>A02</cat1><cat2>A0207</cat2><cat3>A02070200</cat3><contentid>2405329</contentid><contenttypeid>15</contenttypeid><createdtime>20160907090049</createdtime><eventenddate>20221009</eventenddate><eventstartdate>20221008</eventstartdate><firstimage>http://tong.visitkorea.or.kr/cms/resource/42/2827342_image2_1.jpg</firstimage><firstimage2>http://tong.visitkorea.or.kr/cms/resource/42/2827342_image3_1.jpg</firstimage2><mapx>126.9767821434</mapx><mapy>37.5716786179</mapy><mlevel>6</mlevel><modifiedtime>20220712171038</modifiedtime><readcount>30398</readcount><sigungucode>23</sigungucode><tel>02-6263-1185</tel><title>종로한복축제</title></item>,\n",
       " <item><addr1>서울특별시 송파구 올림픽로 424 올림픽공원</addr1><areacode>1</areacode><cat1>A02</cat1><cat2>A0207</cat2><cat3>A02070200</cat3><contentid>1801201</contentid><contenttypeid>15</contenttypeid><createdtime>20130327184804</createdtime><eventenddate>20220612</eventenddate><eventstartdate>20220611</eventstartdate><mapx>127.1150682209</mapx><mapy>37.5206092598</mapy><mlevel>6</mlevel><modifiedtime>20220517164946</modifiedtime><readcount>28102</readcount><sigungucode>18</sigungucode><tel>행사문의 bluespring@micimpact.com</tel><title>청춘페스티벌</title></item>,\n",
       " <item><addr1>서울특별시 강남구 영동대로 513</addr1><addr2>(삼성동)</addr2><areacode>1</areacode><cat1>A02</cat1><cat2>A0208</cat2><cat3>A02080500</cat3><contentid>142001</contentid><contenttypeid>15</contenttypeid><createdtime>20070621090000</createdtime><eventenddate>20220717</eventenddate><eventstartdate>20220714</eventstartdate><firstimage>http://tong.visitkorea.or.kr/cms/resource/61/2827961_image2_1.jpg</firstimage><firstimage2>http://tong.visitkorea.or.kr/cms/resource/61/2827961_image3_1.jpg</firstimage2><mapx>127.0591874466</mapx><mapy>37.5117592813</mapy><mlevel>6</mlevel><modifiedtime>20220715155720</modifiedtime><readcount>5498</readcount><sigungucode>1</sigungucode><tel>02-6000-8571</tel><title>캐릭터 라이선싱 페어 2022</title></item>,\n",
       " <item><addr1>온라인개최</addr1><areacode>1</areacode><cat1>A02</cat1><cat2>A0208</cat2><cat3>A02081300</cat3><contentid>2630385</contentid><contenttypeid>15</contenttypeid><createdtime>20191025023736</createdtime><eventenddate>20220831</eventenddate><eventstartdate>20220810</eventstartdate><firstimage>http://tong.visitkorea.or.kr/cms/resource/91/2828491_image2_1.jpg</firstimage><firstimage2>http://tong.visitkorea.or.kr/cms/resource/91/2828491_image3_1.jpg</firstimage2><mapx>126.9848758397</mapx><mapy>37.5720426096</mapy><mlevel>6</mlevel><modifiedtime>20220721142034</modifiedtime><readcount>0</readcount><tel>070-7603-3807</tel><title>코리아그랜드세일</title></item>,\n",
       " <item><addr1>서울특별시 강남구 영동대로 513</addr1><addr2>(삼성동)</addr2><areacode>1</areacode><cat1>A02</cat1><cat2>A0208</cat2><cat3>A02080500</cat3><contentid>2804204</contentid><contenttypeid>15</contenttypeid><createdtime>20211229113120</createdtime><eventenddate>20220710</eventenddate><eventstartdate>20220708</eventstartdate><firstimage>http://tong.visitkorea.or.kr/cms/resource/02/2804202_image2_1.jpg</firstimage><firstimage2>http://tong.visitkorea.or.kr/cms/resource/02/2804202_image2_1.jpg</firstimage2><mapx>127.0594429796</mapx><mapy>37.5117148467</mapy><mlevel>6</mlevel><modifiedtime>20211229113120</modifiedtime><readcount>0</readcount><sigungucode>1</sigungucode><tel>02-761-2512</tel><title>코리아비건페어 2022</title></item>,\n",
       " <item><addr1>서울특별시 서초구 남부순환로 2364</addr1><addr2>(서초동)</addr2><areacode>1</areacode><cat1>A02</cat1><cat2>A0208</cat2><cat3>A02080100</cat3><contentid>698886</contentid><contenttypeid>15</contenttypeid><createdtime>20090225011436</createdtime><eventenddate>20221224</eventenddate><eventstartdate>20220108</eventstartdate><mapx>127.0097651306</mapx><mapy>37.4776567975</mapy><mlevel>6</mlevel><modifiedtime>20220420170521</modifiedtime><readcount>77030</readcount><sigungucode>15</sigungucode><tel>02-580-3300</tel><title>토요명품</title></item>,\n",
       " <item><addr1>서울특별시 서초구 바우뫼로12길 70 더케이서울호텔</addr1><areacode>1</areacode><cat1>A02</cat1><cat2>A0207</cat2><cat3>A02070200</cat3><contentid>2810915</contentid><contenttypeid>15</contenttypeid><createdtime>20220316111622</createdtime><eventenddate>20220416</eventenddate><eventstartdate>20220416</eventstartdate><firstimage>http://tong.visitkorea.or.kr/cms/resource/14/2810914_image2_1.png</firstimage><firstimage2>http://tong.visitkorea.or.kr/cms/resource/14/2810914_image2_1.png</firstimage2><mapx>127.0341381856</mapx><mapy>37.4680083547</mapy><mlevel>6</mlevel><modifiedtime>20220316111630</modifiedtime><readcount>0</readcount><sigungucode>15</sigungucode><tel>010-7634-4650</tel><title>트레일 퀸즈 페스타</title></item>,\n",
       " <item><addr1>서울특별시 강남구 영동대로 513</addr1><addr2>(삼성동)</addr2><areacode>1</areacode><cat1>A02</cat1><cat2>A0207</cat2><cat3>A02070200</cat3><contentid>622888</contentid><contenttypeid>15</contenttypeid><createdtime>20080911194541</createdtime><eventenddate>20220906</eventenddate><eventstartdate>20220903</eventstartdate><firstimage>http://tong.visitkorea.or.kr/cms/resource/99/565999_image2_1.jpg</firstimage><firstimage2>http://tong.visitkorea.or.kr/cms/resource/99/565999_image3_1.jpg</firstimage2><mapx>127.0591318945</mapx><mapy>37.5118092746</mapy><mlevel>6</mlevel><modifiedtime>20220518102408</modifiedtime><readcount>22898</readcount><sigungucode>1</sigungucode><tel>02-733-3706</tel><title>한국국제아트페어</title></item>,\n",
       " <item><addr1>서울특별시 서초구 강남대로 27</addr1><addr2>(양재동)</addr2><areacode>1</areacode><cat1>A02</cat1><cat2>A0208</cat2><cat3>A02080600</cat3><contentid>292816</contentid><contenttypeid>15</contenttypeid><createdtime>20050310203901</createdtime><eventenddate>20220529</eventenddate><eventstartdate>20220527</eventstartdate><firstimage>http://tong.visitkorea.or.kr/cms/resource/43/2549443_image2_1.jpg</firstimage><firstimage2>http://tong.visitkorea.or.kr/cms/resource/43/2549443_image2_1.jpg</firstimage2><mapx>127.0387710802</mapx><mapy>37.4686111452</mapy><mlevel>6</mlevel><modifiedtime>20220509153655</modifiedtime><readcount>24153</readcount><sigungucode>15</sigungucode><tel>02-737-2210</tel><title>한국음식관광박람회</title></item>,\n",
       " <item><addr1>서울특별시 중구 퇴계로36길 10</addr1><addr2>(필동2가)</addr2><areacode>1</areacode><cat1>A02</cat1><cat2>A0208</cat2><cat3>A02080100</cat3><contentid>140665</contentid><contenttypeid>15</contenttypeid><createdtime>20040305090000</createdtime><eventenddate>20221231</eventenddate><eventstartdate>20220101</eventstartdate><mapx>126.9945752914</mapx><mapy>37.5601774962</mapy><mlevel>6</mlevel><modifiedtime>20220407165814</modifiedtime><readcount>41065</readcount><sigungucode>24</sigungucode><tel>02-2266-9101~3</tel><title>한국의집 전통예술공연 KOREA 심청</title></item>,\n",
       " <item><addr1>서울특별시 강남구 영동대로 513 코엑스</addr1><areacode>1</areacode><cat1>A02</cat1><cat2>A0207</cat2><cat3>A02070200</cat3><contentid>1066064</contentid><contenttypeid>15</contenttypeid><createdtime>20100729201821</createdtime><eventenddate>20220925</eventenddate><eventstartdate>20220925</eventstartdate><firstimage>http://tong.visitkorea.or.kr/cms/resource/26/2822726_image2_1.jpg</firstimage><firstimage2>http://tong.visitkorea.or.kr/cms/resource/26/2822726_image3_1.jpg</firstimage2><mapx>127.0592179950</mapx><mapy>37.5119175967</mapy><mlevel>6</mlevel><modifiedtime>20220603145908</modifiedtime><readcount>22898</readcount><sigungucode>1</sigungucode><tel>02-702-7775</tel><title>한일축제한마당 in Seoul</title></item>,\n",
       " <item><addr1>서울특별시 용산구 남산공원길 105 YTN서울타워</addr1><areacode>1</areacode><cat1>A02</cat1><cat2>A0208</cat2><cat3>A02081300</cat3><contentid>2826292</contentid><contenttypeid>15</contenttypeid><createdtime>20220704152946</createdtime><eventenddate>20220722</eventenddate><eventstartdate>20220701</eventstartdate><firstimage>http://tong.visitkorea.or.kr/cms/resource/90/2826290_image2_1.jpg</firstimage><firstimage2>http://tong.visitkorea.or.kr/cms/resource/90/2826290_image3_1.jpg</firstimage2><mapx>126.9878733796</mapx><mapy>37.5511700886</mapy><mlevel>6</mlevel><modifiedtime>20220704153109</modifiedtime><readcount>0</readcount><sigungucode>21</sigungucode><tel>02-3455-9277</tel><title>혜택이 비처럼 쏟아지는 ‘남산 걷기 챌린지’</title></item>,\n",
       " <item><addr1>서울특별시 강남구 영동대로 513</addr1><areacode>1</areacode><cat1>A02</cat1><cat2>A0208</cat2><cat3>A02080500</cat3><contentid>2656669</contentid><contenttypeid>15</contenttypeid><createdtime>20200519224845</createdtime><eventenddate>20220611</eventenddate><eventstartdate>20220609</eventstartdate><firstimage>http://tong.visitkorea.or.kr/cms/resource/25/2815125_image2_1.jpg</firstimage><firstimage2>http://tong.visitkorea.or.kr/cms/resource/25/2815125_image2_1.jpg</firstimage2><mapx>127.0594429796</mapx><mapy>37.5117148467</mapy><mlevel>6</mlevel><modifiedtime>20220406113045</modifiedtime><readcount>0</readcount><sigungucode>1</sigungucode><tel>02-881-5151</tel><title>홈케어·재활·복지 전시회 Reha·Homecare</title></item>,\n",
       " <item><addr1>서울특별시 마포구 와우산로37길 35</addr1><addr2>(동교동)</addr2><areacode>1</areacode><cat1>A02</cat1><cat2>A0207</cat2><cat3>A02070200</cat3><contentid>2789750</contentid><contenttypeid>15</contenttypeid><createdtime>20211208162507</createdtime><eventenddate>20220202</eventenddate><eventstartdate>20211217</eventstartdate><firstimage>http://tong.visitkorea.or.kr/cms/resource/48/2789748_image2_1.png</firstimage><firstimage2>http://tong.visitkorea.or.kr/cms/resource/48/2789748_image2_1.png</firstimage2><mapx>126.9290369242</mapx><mapy>37.5564989709</mapy><mlevel>6</mlevel><modifiedtime>20211208162507</modifiedtime><readcount>0</readcount><sigungucode>13</sigungucode><tel>02-324-6200</tel><title>2021 경의선 책거리 겨울빛축제</title></item>,\n",
       " <item><addr1>서울특별시 중구 을지로 281</addr1><areacode>1</areacode><cat1>A02</cat1><cat2>A0207</cat2><cat3>A02070200</cat3><contentid>2640874</contentid><contenttypeid>15</contenttypeid><createdtime>20191217150644</createdtime><eventenddate>20220102</eventenddate><eventstartdate>20211217</eventstartdate><firstimage>http://tong.visitkorea.or.kr/cms/resource/50/2799650_image2_1.jpg</firstimage><firstimage2>http://tong.visitkorea.or.kr/cms/resource/50/2799650_image2_1.jpg</firstimage2><mapx>127.0099486810</mapx><mapy>37.5675991318</mapy><mlevel>6</mlevel><modifiedtime>20211215160906</modifiedtime><readcount>0</readcount><sigungucode>24</sigungucode><tel>070-5097-1203</tel><title>2021 서울라이트</title></item>,\n",
       " <item><addr1>서울특별시 종로구 사직로 161 경복궁</addr1><areacode>1</areacode><cat1>A02</cat1><cat2>A0207</cat2><cat3>A02070200</cat3><contentid>2615461</contentid><contenttypeid>15</contenttypeid><createdtime>20190816224954</createdtime><eventenddate>20220625</eventenddate><eventstartdate>20220420</eventstartdate><firstimage>http://tong.visitkorea.or.kr/cms/resource/79/2815779_image2_1.jpg</firstimage><firstimage2>http://tong.visitkorea.or.kr/cms/resource/79/2815779_image2_1.jpg</firstimage2><mapx>126.9770319156</mapx><mapy>37.5788944508</mapy><mlevel>6</mlevel><modifiedtime>20220412151449</modifiedtime><readcount>0</readcount><sigungucode>23</sigungucode><tel>02-3210-3507</tel><title>2022년 경복궁 생과방</title></item>,\n",
       " <item><addr1>서울특별시 서초구 반포대로 201 국립중앙도서관</addr1><areacode>1</areacode><cat1>A02</cat1><cat2>A0208</cat2><cat3>A02081300</cat3><contentid>2818861</contentid><contenttypeid>15</contenttypeid><createdtime>20220509135228</createdtime><eventenddate>20220723</eventenddate><eventstartdate>20220722</eventstartdate><firstimage>http://tong.visitkorea.or.kr/cms/resource/93/2826993_image2_1.png</firstimage><firstimage2>http://tong.visitkorea.or.kr/cms/resource/93/2826993_image3_1.png</firstimage2><mapx>127.0045483736</mapx><mapy>37.4976821568</mapy><mlevel>6</mlevel><modifiedtime>20220708153226</modifiedtime><readcount>0</readcount><sigungucode>15</sigungucode><tel>국립중앙도서관 국제교류홍보팀 02-590-6323</tel><title>2022년 나의 책, 나의 인문기행 남해지역 탐방</title></item>,\n",
       " <item><addr1>서울특별시 중구 세종대로 99</addr1><addr2>(정동)</addr2><areacode>1</areacode><cat1>A02</cat1><cat2>A0207</cat2><cat3>A02070200</cat3><contentid>2756396</contentid><contenttypeid>15</contenttypeid><createdtime>20211013202056</createdtime><eventenddate>20220612</eventenddate><eventstartdate>20220503</eventstartdate><firstimage>http://tong.visitkorea.or.kr/cms/resource/45/2817145_image2_1.jpg</firstimage><firstimage2>http://tong.visitkorea.or.kr/cms/resource/45/2817145_image2_1.jpg</firstimage2><mapx>126.9749296905</mapx><mapy>37.5661486714</mapy><mlevel>6</mlevel><modifiedtime>20220425102154</modifiedtime><readcount>0</readcount><sigungucode>24</sigungucode><tel>02-3210-4685</tel><title>2022년 밤의 석조전</title></item>,\n",
       " <item><addr1>서울특별시 종로구 계동4길 3</addr1><areacode>1</areacode><cat1>A02</cat1><cat2>A0208</cat2><cat3>A02081300</cat3><contentid>2821571</contentid><contenttypeid>15</contenttypeid><createdtime>20220525135447</createdtime><eventenddate>20220610</eventenddate><eventstartdate>20220531</eventstartdate><firstimage>http://tong.visitkorea.or.kr/cms/resource/67/2821567_image2_1.jpg</firstimage><firstimage2>http://tong.visitkorea.or.kr/cms/resource/67/2821567_image3_1.jpg</firstimage2><mapx>126.9870781245</mapx><mapy>37.5823581167</mapy><mlevel>6</mlevel><modifiedtime>20220525135455</modifiedtime><readcount>0</readcount><sigungucode>23</sigungucode><tel>02-737-6444</tel><title>2022년 북촌 한옥 역사관 상반기 특별행사</title></item>,\n",
       " <item><addr1>서울특별시 종로구 율곡로 53 (학)덕성학원 해영회관</addr1><areacode>1</areacode><cat1>A02</cat1><cat2>A0207</cat2><cat3>A02070200</cat3><contentid>1291408</contentid><contenttypeid>15</contenttypeid><createdtime>20110531003739</createdtime><eventenddate>20220612</eventenddate><eventstartdate>20220421</eventstartdate><firstimage>http://tong.visitkorea.or.kr/cms/resource/81/2815681_image2_1.jpg</firstimage><firstimage2>http://tong.visitkorea.or.kr/cms/resource/81/2815681_image2_1.jpg</firstimage2><mapx>126.9851423515</mapx><mapy>37.5766531897</mapy><mlevel>6</mlevel><modifiedtime>20220510181158</modifiedtime><readcount>700585</readcount><sigungucode>23</sigungucode><tel>02-3210-4804</tel><title>2022년 창덕궁 달빛기행</title></item>,\n",
       " <item><addr1>서울특별시 종로구 청와대로 1 청와대</addr1><areacode>1</areacode><cat1>A02</cat1><cat2>A0208</cat2><cat3>A02081300</cat3><contentid>2825285</contentid><contenttypeid>15</contenttypeid><createdtime>20220628113539</createdtime><eventenddate>20220801</eventenddate><eventstartdate>20220720</eventstartdate><firstimage>http://tong.visitkorea.or.kr/cms/resource/84/2825284_image2_1.jpg</firstimage><firstimage2>http://tong.visitkorea.or.kr/cms/resource/84/2825284_image3_1.jpg</firstimage2><mapx>126.9746792089</mapx><mapy>37.5839799278</mapy><mlevel>6</mlevel><modifiedtime>20220628113551</modifiedtime><readcount>0</readcount><sigungucode>23</sigungucode><tel>1522-7760</tel><title>2022년 청와대 한여름 밤의 산책</title></item>,\n",
       " <item><addr1>서울특별시 강남구 영동대로 513 코엑스</addr1><areacode>1</areacode><cat1>A02</cat1><cat2>A0207</cat2><cat3>A02070200</cat3><contentid>2829980</contentid><contenttypeid>15</contenttypeid><createdtime>20220728152501</createdtime><eventenddate>20220828</eventenddate><eventstartdate>20220825</eventstartdate><firstimage>http://tong.visitkorea.or.kr/cms/resource/74/2829974_image2_1.jpg</firstimage><firstimage2>http://tong.visitkorea.or.kr/cms/resource/74/2829974_image3_1.jpg</firstimage2><mapx>127.0592179950</mapx><mapy>37.5119175967</mapy><mlevel>6</mlevel><modifiedtime>20220728161029</modifiedtime><sigungucode>1</sigungucode><tel>02-741-3577</tel><title>2022년 한복상점</title></item>,\n",
       " <item><addr1>서울특별시 도봉구 마들로 932 평화문화진지</addr1><areacode>1</areacode><cat1>A02</cat1><cat2>A0207</cat2><cat3>A02070200</cat3><contentid>1104496</contentid><contenttypeid>15</contenttypeid><createdtime>20101007020222</createdtime><eventenddate>20220925</eventenddate><eventstartdate>20220924</eventstartdate><firstimage>http://tong.visitkorea.or.kr/cms/resource/26/2830026_image2_1.jpg</firstimage><firstimage2>http://tong.visitkorea.or.kr/cms/resource/26/2830026_image3_1.jpg</firstimage2><mapx>127.0464307380</mapx><mapy>37.6907576895</mapy><mlevel>6</mlevel><modifiedtime>20220728160950</modifiedtime><readcount>4640</readcount><sigungucode>10</sigungucode><tel>02-908-2914</tel><title>2022도봉산페스티벌</title></item>,\n",
       " <item><addr1>서울특별시 강남구 남부순환로 3104</addr1><addr2>(대치동)</addr2><areacode>1</areacode><cat1>A02</cat1><cat2>A0208</cat2><cat3>A02080600</cat3><contentid>2620577</contentid><contenttypeid>15</contenttypeid><createdtime>20190923231449</createdtime><eventenddate>20221002</eventenddate><eventstartdate>20220929</eventstartdate><firstimage>http://tong.visitkorea.or.kr/cms/resource/79/2823779_image2_1.jpg</firstimage><firstimage2>http://tong.visitkorea.or.kr/cms/resource/79/2823779_image3_1.jpg</firstimage2><mapx>127.0719811806</mapx><mapy>37.4957363721</mapy><modifiedtime>20220620100832</modifiedtime><readcount>0</readcount><sigungucode>1</sigungucode><tel>02-2231-2013</tel><title>2022서울국제불교박람회</title></item>,\n",
       " <item><addr1>서울특별시 강남구 남부순환로 3104 SETEC</addr1><areacode>1</areacode><cat1>A02</cat1><cat2>A0207</cat2><cat3>A02070200</cat3><contentid>2755544</contentid><contenttypeid>15</contenttypeid><createdtime>20211012222239</createdtime><eventenddate>20221031</eventenddate><eventstartdate>20220801</eventstartdate><firstimage>http://tong.visitkorea.or.kr/cms/resource/40/2755540_image2_1.jpg</firstimage><firstimage2>http://tong.visitkorea.or.kr/cms/resource/40/2755540_image2_1.jpg</firstimage2><mapx>127.0707673919</mapx><mapy>37.4960890861</mapy><mlevel>6</mlevel><modifiedtime>20220629112835</modifiedtime><readcount>0</readcount><sigungucode>1</sigungucode><tel>02-2231-2011</tel><title>2022서울릴랙스위크</title></item>,\n",
       " <item><addr1>서울특별시 중구 정동길 18 국토발전전시관</addr1><areacode>1</areacode><cat1>A02</cat1><cat2>A0208</cat2><cat3>A02081300</cat3><contentid>2822049</contentid><contenttypeid>15</contenttypeid><createdtime>20220527132852</createdtime><eventenddate>20220529</eventenddate><eventstartdate>20220528</eventstartdate><firstimage>http://tong.visitkorea.or.kr/cms/resource/48/2822048_image2_1.jpg</firstimage><firstimage2>http://tong.visitkorea.or.kr/cms/resource/48/2822048_image3_1.jpg</firstimage2><mapx>126.9700967775</mapx><mapy>37.5668623905</mapy><mlevel>6</mlevel><modifiedtime>20220527133057</modifiedtime><readcount>0</readcount><sigungucode>24</sigungucode><tel>010-3098-3722</tel><title>2022 국토발전전시관 문화행사</title></item>,\n",
       " <item><addr1>서울특별시 중구 을지로 281</addr1><areacode>1</areacode><cat1>A02</cat1><cat2>A0208</cat2><cat3>A02080600</cat3><contentid>1427601</contentid><contenttypeid>15</contenttypeid><createdtime>20111104201413</createdtime><eventenddate>20220619</eventenddate><eventstartdate>20220616</eventstartdate><mapx>127.0095709797</mapx><mapy>37.5661076320</mapy><mlevel>6</mlevel><modifiedtime>20220609135604</modifiedtime><readcount>21230</readcount><sigungucode>24</sigungucode><tel>02-757-7485</tel><title>2022 내나라 여행박람회</title></item>,\n",
       " <item><addr1>서울특별시 금천구  서부샛길 (606, 대성디폴리스지식산업센터)</addr1><areacode>1</areacode><cat1>A02</cat1><cat2>A0208</cat2><cat3>A02081300</cat3><contentid>2373224</contentid><contenttypeid>15</contenttypeid><createdtime>20160317022145</createdtime><eventenddate>20220606</eventenddate><eventstartdate>20220604</eventstartdate><firstimage>http://tong.visitkorea.or.kr/cms/resource/83/2821983_image2_1.png</firstimage><firstimage2>http://tong.visitkorea.or.kr/cms/resource/83/2821983_image3_1.png</firstimage2><mapx>126.8770549248</mapx><mapy>37.4800458136</mapy><mlevel>6</mlevel><modifiedtime>20220527100404</modifiedtime><readcount>46743</readcount><sigungucode>15</sigungucode><tel>02-802-7666, 7669</tel><title>2022 대한민국 국제요리&amp;제과 경연대회</title></item>,\n",
       " <item><addr1>서울특별시 서초구 남부순환로 2364 국립국악원</addr1><areacode>1</areacode><cat1>A02</cat1><cat2>A0207</cat2><cat3>A02070200</cat3><contentid>607348</contentid><contenttypeid>15</contenttypeid><createdtime>20080811223450</createdtime><eventenddate>20220710</eventenddate><eventstartdate>20220706</eventstartdate><firstimage>http://tong.visitkorea.or.kr/cms/resource/13/2823513_image2_1.jpg</firstimage><firstimage2>http://tong.visitkorea.or.kr/cms/resource/13/2823513_image3_1.jpg</firstimage2><mapx>127.0090512856</mapx><mapy>37.4784066973</mapy><mlevel>6</mlevel><modifiedtime>20220613151056</modifiedtime><readcount>4819</readcount><sigungucode>15</sigungucode><tel>02-580-3274</tel><title>2022 대한민국 전통연희축제</title></item>,\n",
       " <item><addr1>서울특별시 중구 청계천로 40 한국관광공사 서울센터</addr1><areacode>1</areacode><cat1>A02</cat1><cat2>A0207</cat2><cat3>A02070200</cat3><contentid>2714690</contentid><contenttypeid>15</contenttypeid><createdtime>20210428004724</createdtime><eventenddate>20220703</eventenddate><eventstartdate>20220527</eventstartdate><firstimage>http://tong.visitkorea.or.kr/cms/resource/95/2820595_image2_1.jpg</firstimage><firstimage2>http://tong.visitkorea.or.kr/cms/resource/95/2820595_image2_1.jpg</firstimage2><mapx>126.9816428989</mapx><mapy>37.5685818430</mapy><mlevel>6</mlevel><modifiedtime>20220519093740</modifiedtime><readcount>0</readcount><sigungucode>24</sigungucode><tel>070-7575-2353</tel><title>2022 더현대 플로깅 I'm Ready</title></item>,\n",
       " <item><addr1>서울특별시 동작구 동작대로9길 35 서울동작경찰서 사당지구대</addr1><areacode>1</areacode><cat1>A02</cat1><cat2>A0207</cat2><cat3>A02070200</cat3><contentid>2823966</contentid><contenttypeid>15</contenttypeid><createdtime>20220615175444</createdtime><eventenddate>20220625</eventenddate><eventstartdate>20220624</eventstartdate><firstimage>http://tong.visitkorea.or.kr/cms/resource/62/2823962_image2_1.jpg</firstimage><firstimage2>http://tong.visitkorea.or.kr/cms/resource/62/2823962_image3_1.jpg</firstimage2><mapx>126.9795455763</mapx><mapy>37.4805920268</mapy><mlevel>6</mlevel><modifiedtime>20220615175452</modifiedtime><readcount>0</readcount><sigungucode>12</sigungucode><tel>02-554-9795</tel><title>2022 동작 LINK 상권 공방거리 마을축제</title></item>,\n",
       " <item><addr1>서울특별시 종로구 종로 157 종묘공원</addr1><areacode>1</areacode><cat1>A02</cat1><cat2>A0207</cat2><cat3>A02070200</cat3><contentid>2818837</contentid><contenttypeid>15</contenttypeid><createdtime>20220509105710</createdtime><eventenddate>20220522</eventenddate><eventstartdate>20220518</eventstartdate><firstimage>http://tong.visitkorea.or.kr/cms/resource/33/2818833_image2_1.jpg</firstimage><firstimage2>http://tong.visitkorea.or.kr/cms/resource/33/2818833_image2_1.jpg</firstimage2><mapx>126.9951471543</mapx><mapy>37.5710345779</mapy><mlevel>6</mlevel><modifiedtime>20220509113303</modifiedtime><readcount>0</readcount><sigungucode>23</sigungucode><tel>02-3210-4806</tel><title>2022 묘현례</title></item>,\n",
       " <item><addr1>서울특별시 강남구 영동대로 513 코엑스</addr1><areacode>1</areacode><cat1>A02</cat1><cat2>A0207</cat2><cat3>A02070200</cat3><contentid>2387785</contentid><contenttypeid>15</contenttypeid><createdtime>20160614024034</createdtime><eventenddate>20220815</eventenddate><eventstartdate>20220814</eventstartdate><firstimage>http://tong.visitkorea.or.kr/cms/resource/56/2827856_image2_1.jpg</firstimage><firstimage2>http://tong.visitkorea.or.kr/cms/resource/56/2827856_image3_1.jpg</firstimage2><mapx>127.0592179950</mapx><mapy>37.5119175967</mapy><mlevel>6</mlevel><modifiedtime>20220718141412</modifiedtime><readcount>33369</readcount><sigungucode>1</sigungucode><tel>070-8611-9803</tel><title>2022 보드게임콘</title></item>,\n",
       " <item><addr1>서울특별시 송파구 올림픽로 448 서울올림픽파크텔</addr1><areacode>1</areacode><cat1>A02</cat1><cat2>A0208</cat2><cat3>A02081300</cat3><contentid>2392010</contentid><contenttypeid>15</contenttypeid><createdtime>20160707190758</createdtime><eventenddate>20220904</eventenddate><eventstartdate>20220903</eventstartdate><firstimage>http://tong.visitkorea.or.kr/cms/resource/82/2829982_image2_1.jpg</firstimage><firstimage2>http://tong.visitkorea.or.kr/cms/resource/82/2829982_image3_1.jpg</firstimage2><mapx>127.1165319275</mapx><mapy>37.5223340860</mapy><mlevel>6</mlevel><modifiedtime>20220728160113</modifiedtime><readcount>60086</readcount><sigungucode>18</sigungucode><tel>070-7727-1755</tel><title>2022 사람사랑 생명사랑 밤길걷기 LiveWALK</title></item>,\n",
       " <item><addr1>서울특별시 강남구 봉은사로 524</addr1><addr2>(삼성동)</addr2><areacode>1</areacode><cat1>A02</cat1><cat2>A0208</cat2><cat3>A02081300</cat3><contentid>2802854</contentid><contenttypeid>15</contenttypeid><createdtime>20211227101455</createdtime><eventenddate>20220120</eventenddate><eventstartdate>20220120</eventstartdate><firstimage>http://tong.visitkorea.or.kr/cms/resource/53/2802853_image2_1.jpg</firstimage><firstimage2>http://tong.visitkorea.or.kr/cms/resource/53/2802853_image2_1.jpg</firstimage2><mapx>127.0573070288</mapx><mapy>37.5129313340</mapy><mlevel>6</mlevel><modifiedtime>20211227101455</modifiedtime><readcount>0</readcount><sigungucode>1</sigungucode><tel>02-961-2580</tel><title>2022 산림・임업 전망 발표대회</title></item>,\n",
       " <item><addr1>서울특별시 종로구 동숭길 114</addr1><addr2>(동숭동)</addr2><areacode>1</areacode><cat1>A02</cat1><cat2>A0207</cat2><cat3>A02070200</cat3><contentid>142033</contentid><contenttypeid>15</contenttypeid><createdtime>20070702000000</createdtime><eventenddate>20220116</eventenddate><eventstartdate>20220104</eventstartdate><firstimage>http://tong.visitkorea.or.kr/cms/resource/21/2784021_image2_1.jpg</firstimage><firstimage2>http://tong.visitkorea.or.kr/cms/resource/21/2784021_image2_1.jpg</firstimage2><mapx>127.0038654579</mapx><mapy>37.5832416489</mapy><mlevel>6</mlevel><modifiedtime>20211202091750</modifiedtime><readcount>27116</readcount><sigungucode>23</sigungucode><tel>02-745-5862~3</tel><title>2022 서울 아시테지 겨울축제</title></item>]"
      ]
     },
     "execution_count": 67,
     "metadata": {},
     "output_type": "execute_result"
    }
   ],
   "source": [
    "fest"
   ]
  },
  {
   "cell_type": "code",
   "execution_count": 68,
   "metadata": {},
   "outputs": [
    {
     "data": {
      "text/plain": [
       "'02-3701-9500'"
      ]
     },
     "execution_count": 68,
     "metadata": {},
     "output_type": "execute_result"
    }
   ],
   "source": [
    "fest[0].find('title').text\n",
    "fest[0].addr1.text\n",
    "fest[0].find('tel').text"
   ]
  },
  {
   "cell_type": "code",
   "execution_count": 69,
   "metadata": {},
   "outputs": [],
   "source": [
    "title = []\n",
    "addr1 = []\n",
    "tel = []\n",
    "\n",
    "for f in fest :\n",
    "    title.append(f.title.text)\n",
    "    addr1.append(f.addr1.text)\n",
    "#     tel.append(f.tel.text) # 'NoneType' object has no attribute 'text'\n",
    "    # 전화번호 미제공\n",
    "    if f.find('tel') == None :\n",
    "        tel.append('no tel')\n",
    "    else :\n",
    "        tel.append(f.tel.text)"
   ]
  },
  {
   "cell_type": "code",
   "execution_count": 70,
   "metadata": {},
   "outputs": [
    {
     "data": {
      "text/plain": [
       "100"
      ]
     },
     "execution_count": 70,
     "metadata": {},
     "output_type": "execute_result"
    }
   ],
   "source": [
    "len(title)\n",
    "len(addr1)\n",
    "len(tel)"
   ]
  },
  {
   "cell_type": "code",
   "execution_count": 71,
   "metadata": {},
   "outputs": [],
   "source": [
    "import pandas as pd\n",
    "festival_df = pd.DataFrame({'행사명':title,'행사장소':addr1,'연락처':tel})"
   ]
  },
  {
   "cell_type": "code",
   "execution_count": 72,
   "metadata": {},
   "outputs": [
    {
     "data": {
      "text/html": [
       "<div>\n",
       "<style scoped>\n",
       "    .dataframe tbody tr th:only-of-type {\n",
       "        vertical-align: middle;\n",
       "    }\n",
       "\n",
       "    .dataframe tbody tr th {\n",
       "        vertical-align: top;\n",
       "    }\n",
       "\n",
       "    .dataframe thead th {\n",
       "        text-align: right;\n",
       "    }\n",
       "</style>\n",
       "<table border=\"1\" class=\"dataframe\">\n",
       "  <thead>\n",
       "    <tr style=\"text-align: right;\">\n",
       "      <th></th>\n",
       "      <th>행사명</th>\n",
       "      <th>행사장소</th>\n",
       "      <th>연락처</th>\n",
       "    </tr>\n",
       "  </thead>\n",
       "  <tbody>\n",
       "    <tr>\n",
       "      <th>95</th>\n",
       "      <td>2022 묘현례</td>\n",
       "      <td>서울특별시 종로구 종로 157 종묘공원</td>\n",
       "      <td>02-3210-4806</td>\n",
       "    </tr>\n",
       "    <tr>\n",
       "      <th>96</th>\n",
       "      <td>2022 보드게임콘</td>\n",
       "      <td>서울특별시 강남구 영동대로 513 코엑스</td>\n",
       "      <td>070-8611-9803</td>\n",
       "    </tr>\n",
       "    <tr>\n",
       "      <th>97</th>\n",
       "      <td>2022 사람사랑 생명사랑 밤길걷기 LiveWALK</td>\n",
       "      <td>서울특별시 송파구 올림픽로 448 서울올림픽파크텔</td>\n",
       "      <td>070-7727-1755</td>\n",
       "    </tr>\n",
       "    <tr>\n",
       "      <th>98</th>\n",
       "      <td>2022 산림・임업 전망 발표대회</td>\n",
       "      <td>서울특별시 강남구 봉은사로 524</td>\n",
       "      <td>02-961-2580</td>\n",
       "    </tr>\n",
       "    <tr>\n",
       "      <th>99</th>\n",
       "      <td>2022 서울 아시테지 겨울축제</td>\n",
       "      <td>서울특별시 종로구 동숭길 114</td>\n",
       "      <td>02-745-5862~3</td>\n",
       "    </tr>\n",
       "  </tbody>\n",
       "</table>\n",
       "</div>"
      ],
      "text/plain": [
       "                             행사명                         행사장소            연락처\n",
       "95                      2022 묘현례        서울특별시 종로구 종로 157 종묘공원   02-3210-4806\n",
       "96                    2022 보드게임콘       서울특별시 강남구 영동대로 513 코엑스  070-8611-9803\n",
       "97  2022 사람사랑 생명사랑 밤길걷기 LiveWALK  서울특별시 송파구 올림픽로 448 서울올림픽파크텔  070-7727-1755\n",
       "98            2022 산림・임업 전망 발표대회           서울특별시 강남구 봉은사로 524    02-961-2580\n",
       "99             2022 서울 아시테지 겨울축제            서울특별시 종로구 동숭길 114  02-745-5862~3"
      ]
     },
     "execution_count": 72,
     "metadata": {},
     "output_type": "execute_result"
    }
   ],
   "source": [
    "festival_df.head()\n",
    "festival_df.tail()"
   ]
  },
  {
   "cell_type": "markdown",
   "metadata": {},
   "source": [
    "### 지역기반 관광정보 서비스\n",
    "- 제주도의 숙박시설 추출"
   ]
  },
  {
   "cell_type": "code",
   "execution_count": 74,
   "metadata": {},
   "outputs": [],
   "source": [
    "endpoint = 'http://api.visitkorea.or.kr/openapi/service/rest/KorService/areaBasedList?'\n",
    "ServiceKey = key"
   ]
  },
  {
   "cell_type": "code",
   "execution_count": 73,
   "metadata": {},
   "outputs": [],
   "source": [
    "MobileOS = 'ETC'\n",
    "MobileApp = 'AppTest'\n",
    "numOfRows = '250'\n",
    "arrange = 'A'\n",
    "listYN = \"Y\"\n",
    "areaCode = '39'\n",
    "sigunguCode=  '4'\n",
    "contentTypeId= '32'"
   ]
  },
  {
   "cell_type": "code",
   "execution_count": 75,
   "metadata": {},
   "outputs": [],
   "source": [
    "paramset = 'serviceKey=' + ServiceKey + '&' \\\n",
    "+ 'MobileOS=' + MobileOS + \"&\" \\\n",
    "+ 'MobileApp=' + MobileApp + \"&\" \\\n",
    "+ 'numOfRows=' + numOfRows + '&' \\\n",
    "+ 'arrange=' + arrange + '&' \\\n",
    "+ 'listYN=' + listYN + '&' \\\n",
    "+ 'areaCode=' + areaCode + '&' \\\n",
    "+ 'contentTypeId=' + contentTypeId"
   ]
  },
  {
   "cell_type": "code",
   "execution_count": 76,
   "metadata": {},
   "outputs": [
    {
     "data": {
      "text/plain": [
       "'http://api.visitkorea.or.kr/openapi/service/rest/KorService/areaBasedList?serviceKey=NJZf0IxXtTO8vlgpcZ8TbyYzgziNOLkFbn8dWmvTRbx4AYWTjdPnpNd2nbroAcineXLi971rvGbpoy23qSMPmQ==&MobileOS=ETC&MobileApp=AppTest&numOfRows=250&arrange=A&listYN=Y&areaCode=39&contentTypeId=32'"
      ]
     },
     "execution_count": 76,
     "metadata": {},
     "output_type": "execute_result"
    }
   ],
   "source": [
    "url = endpoint + paramset\n",
    "url"
   ]
  },
  {
   "cell_type": "code",
   "execution_count": 77,
   "metadata": {},
   "outputs": [
    {
     "data": {
      "text/plain": [
       "<?xml version=\"1.0\" encoding=\"UTF-8\" standalone=\"yes\"?><response><header><resultcode>0000</resultcode><resultmsg>OK</resultmsg></header><body><items><item><addr1>제주특별자치도 서귀포시 법환하로9번길 10</addr1><areacode>39</areacode><cat1>B02</cat1><cat2>B0201</cat2><cat3>B02010700</cat3><contentid>1896032</contentid><contenttypeid>32</contenttypeid><createdtime>20140219003733</createdtime><mapx>126.5123383804</mapx><mapy>33.2365870334</mapy><mlevel>6</mlevel><modifiedtime>20220715130822</modifiedtime><readcount>6701</readcount><sigungucode>3</sigungucode><tel>064-739-4499</tel><title>가름게스트하우스</title><zipcode>63573</zipcode></item><item><addr1>제주특별자치도 서귀포시 성산읍 일주동로 5464</addr1><areacode>39</areacode><cat1>B02</cat1><cat2>B0201</cat2><cat3>B02010700</cat3><contentid>1832696</contentid><contenttypeid>32</contenttypeid><createdtime>20130801094737</createdtime><mapx>126.8578558136</mapx><mapy>33.3531185797</mapy><mlevel>6</mlevel><modifiedtime>20211129175128</modifiedtime><readcount>5837</readcount><sigungucode>3</sigungucode><tel>064-787-1060</tel><title>고망난돌민박</title><zipcode>63637</zipcode></item><item><addr1>제주특별자치도 제주시 산록북로 819</addr1><addr2>(아라일동)</addr2><areacode>39</areacode><cat1>B02</cat1><cat2>B0201</cat2><cat3>B02010700</cat3><contentid>2486105</contentid><contenttypeid>32</contenttypeid><createdtime>20170320165505</createdtime><firstimage>http://tong.visitkorea.or.kr/cms/resource/96/2486096_image2_1.JPG</firstimage><firstimage2>http://tong.visitkorea.or.kr/cms/resource/96/2486096_image2_1.JPG</firstimage2><mapx>126.5544690871</mapx><mapy>33.4375488373</mapy><mlevel>6</mlevel><modifiedtime>20211231111726</modifiedtime><readcount>1964</readcount><sigungucode>4</sigungucode><tel>064-724-9931</tel><title>관음사가는길펜션</title><zipcode>63244</zipcode></item><item><addr1>제주특별자치도 서귀포시 성산읍 신천서로 11</addr1><areacode>39</areacode><cat1>B02</cat1><cat2>B0201</cat2><cat3>B02010700</cat3><contentid>138494</contentid><contenttypeid>32</contenttypeid><createdtime>20050325000000</createdtime><firstimage>http://tong.visitkorea.or.kr/cms/resource/68/1933168_image2_1.jpg</firstimage><firstimage2>http://tong.visitkorea.or.kr/cms/resource/68/1933168_image3_1.jpg</firstimage2><mapx>126.8501205782</mapx><mapy>33.3441111157</mapy><mlevel>6</mlevel><modifiedtime>20211008161512</modifiedtime><readcount>20183</readcount><sigungucode>3</sigungucode><tel>064-787-0543</tel><title>귤익는마을</title><zipcode>63637</zipcode></item><item><addr1>제주특별자치도 서귀포시 중문관광로72번길 60</addr1><areacode>39</areacode><cat1>B02</cat1><cat2>B0201</cat2><cat3>B02010100</cat3><contentid>2819964</contentid><contenttypeid>32</contenttypeid><createdtime>20220516130334</createdtime><firstimage>http://tong.visitkorea.or.kr/cms/resource/37/2819937_image2_1.jpg</firstimage><firstimage2>http://tong.visitkorea.or.kr/cms/resource/37/2819937_image2_1.jpg</firstimage2><mapx>126.4063028265</mapx><mapy>33.2501588629</mapy><mlevel>6</mlevel><modifiedtime>20220613163228</modifiedtime><readcount>0</readcount><sigungucode>3</sigungucode><title>그랜드 조선 제주</title><zipcode>63535</zipcode></item><item><addr1>제주특별자치도 서귀포시 천제연로 51</addr1><addr2>(색달동)</addr2><areacode>39</areacode><cat1>B02</cat1><cat2>B0201</cat2><cat3>B02010700</cat3><contentid>733624</contentid><contenttypeid>32</contenttypeid><createdtime>20090513145331</createdtime><firstimage>http://tong.visitkorea.or.kr/cms/resource/20/729020_image2_1.jpg</firstimage><firstimage2>http://tong.visitkorea.or.kr/cms/resource/20/729020_image3_1.jpg</firstimage2><mapx>126.4112189253</mapx><mapy>33.2564832418</mapy><mlevel>6</mlevel><modifiedtime>20211210113556</modifiedtime><readcount>16211</readcount><sigungucode>3</sigungucode><tel>064-738-0074</tel><title>그린사이드</title><zipcode>63534</zipcode></item><item><addr1>제주특별자치도 제주시 서해안로 620-1</addr1><addr2>(용담삼동)</addr2><areacode>39</areacode><cat1>B02</cat1><cat2>B0201</cat2><cat3>B02010700</cat3><contentid>138597</contentid><contenttypeid>32</contenttypeid><createdtime>20060619090000</createdtime><firstimage>http://tong.visitkorea.or.kr/cms/resource/76/1933276_image2_1.jpg</firstimage><firstimage2>http://tong.visitkorea.or.kr/cms/resource/76/1933276_image3_1.jpg</firstimage2><mapx>126.5034939547</mapx><mapy>33.5162143194</mapy><mlevel>6</mlevel><modifiedtime>20220427181346</modifiedtime><readcount>22091</readcount><sigungucode>4</sigungucode><tel>064-742-2080</tel><title>그림리조트</title><zipcode>63150</zipcode></item><item><addr1>제주특별자치도 서귀포시 남원읍 태위로 522-12</addr1><areacode>39</areacode><cat1>B02</cat1><cat2>B0201</cat2><cat3>B02010500</cat3><contentid>138185</contentid><contenttypeid>32</contenttypeid><createdtime>20040615000000</createdtime><firstimage>http://tong.visitkorea.or.kr/cms/resource/38/1619938_image2_1.jpg</firstimage><firstimage2>http://tong.visitkorea.or.kr/cms/resource/38/1619938_image3_1.jpg</firstimage2><mapx>126.7028238197</mapx><mapy>33.2737526275</mapy><mlevel>6</mlevel><modifiedtime>20211014164336</modifiedtime><readcount>30820</readcount><sigungucode>3</sigungucode><tel>064-766-8000</tel><title>금호리조트 제주</title><zipcode>63620</zipcode></item><item><addr1>제주특별자치도 제주시 애월읍 신엄9길 50</addr1><areacode>39</areacode><cat1>B02</cat1><cat2>B0201</cat2><cat3>B02010700</cat3><contentid>735314</contentid><contenttypeid>32</contenttypeid><createdtime>20090515214514</createdtime><firstimage>http://tong.visitkorea.or.kr/cms/resource/31/733831_image2_1.jpg</firstimage><firstimage2>http://tong.visitkorea.or.kr/cms/resource/31/733831_image3_1.jpg</firstimage2><mapx>126.3671844993</mapx><mapy>33.4758888442</mapy><mlevel>6</mlevel><modifiedtime>20220719104259</modifiedtime><readcount>17150</readcount><sigungucode>4</sigungucode><tel>064-799-7996</tel><title>까델아스 리조트</title><zipcode>63047</zipcode></item><item><addr1>제주특별자치도 서귀포시 안덕면 향교로 214</addr1><areacode>39</areacode><cat1>B02</cat1><cat2>B0201</cat2><cat3>B02011100</cat3><contentid>2627931</contentid><contenttypeid>32</contenttypeid><createdtime>20191021133605</createdtime><mapx>126.2905187855</mapx><mapy>33.2341421463</mapy><modifiedtime>20201214092203</modifiedtime><readcount>0</readcount><sigungucode>3</sigungucode><title>까사 데 비발디</title><zipcode>63528</zipcode></item><item><addr1>제주특별자치도 제주시 구좌읍 일주동로 1724</addr1><areacode>39</areacode><cat1>B02</cat1><cat2>B0201</cat2><cat3>B02010400</cat3><contentid>735781</contentid><contenttypeid>32</contenttypeid><createdtime>20090518110217</createdtime><firstimage>http://tong.visitkorea.or.kr/cms/resource/47/1618247_image2_1.jpg</firstimage><firstimage2>http://tong.visitkorea.or.kr/cms/resource/47/1618247_image3_1.jpg</firstimage2><mapx>126.7168773670</mapx><mapy>33.5521887531</mapy><mlevel>6</mlevel><modifiedtime>20211028142646</modifiedtime><readcount>24925</readcount><sigungucode>4</sigungucode><tel>064-782-0800</tel><title>꼬뜨도르 호텔</title><zipcode>63347</zipcode></item><item><addr1>제주특별자치도 서귀포시 선반로 54</addr1><addr2>(강정동)</addr2><areacode>39</areacode><cat1>B02</cat1><cat2>B0201</cat2><cat3>B02010900</cat3><contentid>2528102</contentid><contenttypeid>32</contenttypeid><createdtime>20180103112552</createdtime><firstimage>http://tong.visitkorea.or.kr/cms/resource/41/2528541_image2_1.jpg</firstimage><firstimage2>http://tong.visitkorea.or.kr/cms/resource/41/2528541_image3_1.jpg</firstimage2><mapx>126.4996115916</mapx><mapy>33.2416779376</mapy><mlevel>6</mlevel><modifiedtime>20211122105101</modifiedtime><readcount>951</readcount><sigungucode>3</sigungucode><tel>010-4574-4459</tel><title>꿈꾸는 노마드 [한국관광 품질인증/Korea Quality]</title><zipcode>63560</zipcode></item><item><addr1>제주특별자치도 서귀포시 토평로148번길 28</addr1><addr2>(토평동)</addr2><areacode>39</areacode><cat1>B02</cat1><cat2>B0201</cat2><cat3>B02010700</cat3><contentid>1891015</contentid><contenttypeid>32</contenttypeid><createdtime>20140204165945</createdtime><firstimage>http://tong.visitkorea.or.kr/cms/resource/44/2480944_image2_1.jpg</firstimage><firstimage2>http://tong.visitkorea.or.kr/cms/resource/44/2480944_image2_1.jpg</firstimage2><mapx>126.5914111187</mapx><mapy>33.2795057737</mapy><mlevel>6</mlevel><modifiedtime>20211206154634</modifiedtime><readcount>4861</readcount><sigungucode>3</sigungucode><tel>064-733-3399</tel><title>끄라비 펜션</title><zipcode>63603</zipcode></item><item><addr1>제주특별자치도 제주시 애월읍 평화로 2476</addr1><areacode>39</areacode><cat1>B02</cat1><cat2>B0201</cat2><cat3>B02010700</cat3><contentid>1869305</contentid><contenttypeid>32</contenttypeid><createdtime>20131210143833</createdtime><firstimage>http://tong.visitkorea.or.kr/cms/resource/15/2560115_image2_1.jpg</firstimage><firstimage2>http://tong.visitkorea.or.kr/cms/resource/15/2560115_image2_1.jpg</firstimage2><mapx>126.4177200197</mapx><mapy>33.4303252424</mapy><mlevel>6</mlevel><modifiedtime>20211129172850</modifiedtime><readcount>5128</readcount><sigungucode>4</sigungucode><tel>010-8307-0531</tel><title>나.미.송</title><zipcode>63065</zipcode></item><item><addr1>제주특별자치도 제주시 논세길 96-38</addr1><addr2>(내도동)</addr2><areacode>39</areacode><cat1>B02</cat1><cat2>B0201</cat2><cat3>B02011100</cat3><contentid>2626055</contentid><contenttypeid>32</contenttypeid><createdtime>20191016165408</createdtime><mapx>126.4423833539</mapx><mapy>33.4830031363</mapy><modifiedtime>20201214103302</modifiedtime><readcount>0</readcount><sigungucode>4</sigungucode><title>나이스호텔</title><zipcode>63074</zipcode></item><item><addr1>제주특별자치도 서귀포시 안덕면 광평로 34-156</addr1><areacode>39</areacode><cat1>B02</cat1><cat2>B0201</cat2><cat3>B02010500</cat3><contentid>138365</contentid><contenttypeid>32</contenttypeid><createdtime>20041202000000</createdtime><mapx>126.4042620974</mapx><mapy>33.3404016406</mapy><mlevel>6</mlevel><modifiedtime>20211214111235</modifiedtime><readcount>33333</readcount><sigungucode>3</sigungucode><tel>064-793-9999</tel><title>나인브릿지콘도</title><zipcode>63524</zipcode></item><item><addr1>제주특별자치도 제주시 애월읍 하광로 518</addr1><areacode>39</areacode><cat1>B02</cat1><cat2>B0201</cat2><cat3>B02010900</cat3><contentid>2498670</contentid><contenttypeid>32</contenttypeid><createdtime>20170703170633</createdtime><firstimage>http://tong.visitkorea.or.kr/cms/resource/43/2498643_image2_1.jpg</firstimage><firstimage2>http://tong.visitkorea.or.kr/cms/resource/43/2498643_image2_1.jpg</firstimage2><mapx>126.4301213796</mapx><mapy>33.4453932160</mapy><mlevel>6</mlevel><modifiedtime>20210428100117</modifiedtime><readcount>1938</readcount><sigungucode>4</sigungucode><tel>064-727-1000</tel><title>나인스파빌</title><zipcode>63062</zipcode></item><item><addr1>제주특별자치도 서귀포시 하신상로 216</addr1><addr2>(상효동)</addr2><areacode>39</areacode><cat1>B02</cat1><cat2>B0201</cat2><cat3>B02010700</cat3><contentid>2622754</contentid><contenttypeid>32</contenttypeid><createdtime>20191004094218</createdtime><mapx>126.6066709829</mapx><mapy>33.2761619410</mapy><modifiedtime>20200331110718</modifiedtime><readcount>0</readcount><sigungucode>3</sigungucode><tel>064-733-8869</tel><title>남극노인성(남극노인성 전통한옥 휴양펜션)</title><zipcode>63602</zipcode></item><item><addr1>제주특별자치도 서귀포시 대정읍 노을해안로 416</addr1><areacode>39</areacode><cat1>B02</cat1><cat2>B0201</cat2><cat3>B02010700</cat3><contentid>1897905</contentid><contenttypeid>32</contenttypeid><createdtime>20140221105800</createdtime><mapx>126.1903769911</mapx><mapy>33.2562936895</mapy><mlevel>6</mlevel><modifiedtime>20211231131730</modifiedtime><readcount>4698</readcount><sigungucode>3</sigungucode><tel>010-5258-4993</tel><title>노을담은뜨락</title><zipcode>63501</zipcode></item><item><addr1>제주특별자치도 서귀포시 남원읍 남태해안로 11-12</addr1><areacode>39</areacode><cat1>B02</cat1><cat2>B0201</cat2><cat3>B02010700</cat3><contentid>733414</contentid><contenttypeid>32</contenttypeid><createdtime>20090513214712</createdtime><firstimage>http://tong.visitkorea.or.kr/cms/resource/42/729042_image2_1.jpg</firstimage><firstimage2>http://tong.visitkorea.or.kr/cms/resource/42/729042_image3_1.jpg</firstimage2><mapx>126.7099759487</mapx><mapy>33.2750803732</mapy><mlevel>6</mlevel><modifiedtime>20220721165116</modifiedtime><readcount>23218</readcount><sigungucode>3</sigungucode><tel>064-764-9966</tel><title>노인과바다 펜션</title><zipcode>63621</zipcode></item><item><addr1>제주특별자치도 제주시 연동6길 17</addr1><areacode>39</areacode><cat1>B02</cat1><cat2>B0201</cat2><cat3>B02010100</cat3><contentid>142945</contentid><contenttypeid>32</contenttypeid><createdtime>20030807000000</createdtime><firstimage>http://tong.visitkorea.or.kr/cms/resource/02/1933302_image2_1.jpg</firstimage><firstimage2>http://tong.visitkorea.or.kr/cms/resource/02/1933302_image3_1.jpg</firstimage2><mapx>126.4894292343</mapx><mapy>33.4843148499</mapy><mlevel>6</mlevel><modifiedtime>20211029151801</modifiedtime><readcount>22503</readcount><sigungucode>4</sigungucode><tel>064-712-1300</tel><title>뉴아일랜드 관광호텔</title><zipcode>63132</zipcode></item><item><addr1>제주특별자치도 제주시 조천읍 함덕14길 20-2</addr1><areacode>39</areacode><cat1>B02</cat1><cat2>B0201</cat2><cat3>B02011000</cat3><contentid>2801985</contentid><contenttypeid>32</contenttypeid><createdtime>20211220154743</createdtime><mapx>126.6653098892</mapx><mapy>33.5406392026</mapy><mlevel>6</mlevel><modifiedtime>20211223103906</modifiedtime><readcount>0</readcount><sigungucode>4</sigungucode><title>다람쥐민박</title><zipcode>63333</zipcode></item><item><addr1>제주특별자치도 서귀포시 이어도로343번길 63</addr1><areacode>39</areacode><cat1>B02</cat1><cat2>B0201</cat2><cat3>B02010700</cat3><contentid>719643</contentid><contenttypeid>32</contenttypeid><createdtime>20090413233924</createdtime><firstimage>http://tong.visitkorea.or.kr/cms/resource/84/1341384_image2_1.jpg</firstimage><firstimage2>http://tong.visitkorea.or.kr/cms/resource/84/1341384_image3_1.jpg</firstimage2><mapx>126.4515573305</mapx><mapy>33.2458850471</mapy><mlevel>6</mlevel><modifiedtime>20220704173055</modifiedtime><readcount>21638</readcount><sigungucode>3</sigungucode><tel>064-739-6617</tel><title>담앤루리조트</title><zipcode>63543</zipcode></item><item><addr1>제주특별자치도 서귀포시 법환상로2번길 97-17</addr1><addr2>(법환동)</addr2><areacode>39</areacode><cat1>B02</cat1><cat2>B0201</cat2><cat3>B02010900</cat3><contentid>2531355</contentid><contenttypeid>32</contenttypeid><createdtime>20180112102035</createdtime><firstimage>http://tong.visitkorea.or.kr/cms/resource/84/2529184_image2_1.jpg</firstimage><firstimage2>http://tong.visitkorea.or.kr/cms/resource/84/2529184_image3_1.jpg</firstimage2><mapx>126.5120659485</mapx><mapy>33.2470053246</mapy><mlevel>6</mlevel><modifiedtime>20201127170413</modifiedtime><readcount>898</readcount><sigungucode>3</sigungucode><tel>064-739-9966</tel><title>더 세리 호스텔 [한국관광 품질인증/Korea Quality]</title><zipcode>63572</zipcode></item><item><addr1>제주특별자치도 제주시 애월읍 상가북2길 14-3</addr1><areacode>39</areacode><cat1>B02</cat1><cat2>B0201</cat2><cat3>B02010700</cat3><contentid>2406368</contentid><contenttypeid>32</contenttypeid><createdtime>20160830103345</createdtime><mapx>126.3414706408</mapx><mapy>33.4504856947</mapy><mlevel>6</mlevel><modifiedtime>20211129113729</modifiedtime><readcount>3089</readcount><sigungucode>4</sigungucode><tel>010-2667-4735</tel><title>더럭펜션</title><zipcode>63036</zipcode></item><item><addr1>제주특별자치도 서귀포시 표선면 세성로 67-2</addr1><areacode>39</areacode><cat1>B02</cat1><cat2>B0201</cat2><cat3>B02010700</cat3><contentid>2751860</contentid><contenttypeid>32</contenttypeid><createdtime>20210930095654</createdtime><firstimage>http://tong.visitkorea.or.kr/cms/resource/79/2751879_image2_1.jpg</firstimage><firstimage2>http://tong.visitkorea.or.kr/cms/resource/79/2751879_image2_1.jpg</firstimage2><mapx>126.8037086578</mapx><mapy>33.3121805593</mapy><mlevel>6</mlevel><modifiedtime>20210930111329</modifiedtime><readcount>0</readcount><sigungucode>3</sigungucode><title>더쉼팡스파앤풀빌라</title><zipcode>63625</zipcode></item><item><addr1>제주특별자치도 서귀포시 일주동로 8215</addr1><addr2>(신효동)</addr2><areacode>39</areacode><cat1>B02</cat1><cat2>B0201</cat2><cat3>B02010700</cat3><contentid>2622935</contentid><contenttypeid>32</contenttypeid><createdtime>20191004150426</createdtime><mapx>126.6095210938</mapx><mapy>33.2602804051</mapy><modifiedtime>20211208101925</modifiedtime><readcount>0</readcount><sigungucode>3</sigungucode><tel>010-7565-3309</tel><title>도라미 휴양펜션(도라미 관광 휴양펜션)</title><zipcode>63600</zipcode></item><item><addr1>제주특별자치도 서귀포시 돈내코로 180</addr1><addr2>(상효동)</addr2><areacode>39</areacode><cat1>B02</cat1><cat2>B0201</cat2><cat3>B02011100</cat3><contentid>2621853</contentid><contenttypeid>32</contenttypeid><createdtime>20190930133222</createdtime><mapx>126.5785144865</mapx><mapy>33.3029335392</mapy><modifiedtime>20200813095826</modifiedtime><readcount>0</readcount><sigungucode>3</sigungucode><tel>010-7277-1439</tel><title>돈내코힐 리조트</title><zipcode>63582</zipcode></item><item><addr1>제주특별자치도 제주시 구좌읍 월정1길 89</addr1><areacode>39</areacode><cat1>B02</cat1><cat2>B0201</cat2><cat3>B02010700</cat3><contentid>2358196</contentid><contenttypeid>32</contenttypeid><createdtime>20160104101726</createdtime><firstimage>http://tong.visitkorea.or.kr/cms/resource/88/2358188_image2_1.JPG</firstimage><firstimage2>http://tong.visitkorea.or.kr/cms/resource/88/2358188_image2_1.JPG</firstimage2><mapx>126.7927872971</mapx><mapy>33.5584753917</mapy><mlevel>6</mlevel><modifiedtime>20211129110400</modifiedtime><readcount>4000</readcount><sigungucode>4</sigungucode><tel>010-3697-4191</tel><title>동박생이</title><zipcode>63358</zipcode></item><item><addr1>제주특별자치도 서귀포시 남원읍 남태해안로 364</addr1><areacode>39</areacode><cat1>B02</cat1><cat2>B0201</cat2><cat3>B02010700</cat3><contentid>1905304</contentid><contenttypeid>32</contenttypeid><createdtime>20140313180317</createdtime><mapx>126.7404954013</mapx><mapy>33.2806608011</mapy><mlevel>6</mlevel><modifiedtime>20211124160420</modifiedtime><readcount>3293</readcount><sigungucode>3</sigungucode><tel>064-764-0871</tel><title>드림캐슬</title><zipcode>63617</zipcode></item><item><addr1>제주특별자치도 제주시 탑동로 66</addr1><areacode>39</areacode><cat1>B02</cat1><cat2>B0201</cat2><cat3>B02010100</cat3><contentid>143088</contentid><contenttypeid>32</contenttypeid><createdtime>20040227000000</createdtime><mapx>126.5181509540</mapx><mapy>33.5188364854</mapy><mlevel>6</mlevel><modifiedtime>20211214165313</modifiedtime><readcount>39110</readcount><sigungucode>4</sigungucode><tel>064-729-8100</tel><title>라마다프라자 제주호텔</title><zipcode>63165</zipcode></item><item><addr1>제주특별자치도 서귀포시 성산읍 일주동로 5199</addr1><areacode>39</areacode><cat1>B02</cat1><cat2>B0201</cat2><cat3>B02010500</cat3><contentid>664083</contentid><contenttypeid>32</contenttypeid><createdtime>20081209091823</createdtime><firstimage>http://tong.visitkorea.or.kr/cms/resource/27/1933327_image2_1.jpg</firstimage><firstimage2>http://tong.visitkorea.or.kr/cms/resource/27/1933327_image3_1.jpg</firstimage2><mapx>126.8727651671</mapx><mapy>33.3735137915</mapy><mlevel>6</mlevel><modifiedtime>20211215165943</modifiedtime><readcount>24164</readcount><sigungucode>3</sigungucode><tel>064-784-6027</tel><title>라사니아캐슬</title><zipcode>63634</zipcode></item><item><addr1>제주특별자치도 서귀포시 선반로65번길 69</addr1><areacode>39</areacode><cat1>B02</cat1><cat2>B0201</cat2><cat3>B02010100</cat3><contentid>2445116</contentid><contenttypeid>32</contenttypeid><createdtime>20161202142700</createdtime><firstimage>http://tong.visitkorea.or.kr/cms/resource/71/2445071_image2_1.jpg</firstimage><firstimage2>http://tong.visitkorea.or.kr/cms/resource/71/2445071_image2_1.jpg</firstimage2><mapx>126.4962675388</mapx><mapy>33.2371256091</mapy><mlevel>6</mlevel><modifiedtime>20211208172228</modifiedtime><readcount>2015</readcount><sigungucode>3</sigungucode><tel>064-738-7575</tel><title>라오체리조트</title><zipcode>63564</zipcode></item><item><addr1>제주특별자치도 제주시 한림읍 금능남로 127</addr1><areacode>39</areacode><cat1>B02</cat1><cat2>B0201</cat2><cat3>B02010500</cat3><contentid>984611</contentid><contenttypeid>32</contenttypeid><createdtime>20100324130906</createdtime><mapx>126.2396171942</mapx><mapy>33.3797058151</mapy><mlevel>6</mlevel><modifiedtime>20211029113632</modifiedtime><readcount>24628</readcount><sigungucode>4</sigungucode><tel>064-795-3333, 3000</tel><title>라온호텔 앤 리조트</title><zipcode>63015</zipcode></item><item><addr1>제주특별자치도 서귀포시 안덕면 사계남로50번길 60</addr1><areacode>39</areacode><cat1>B02</cat1><cat2>B0201</cat2><cat3>B02010700</cat3><contentid>137826</contentid><contenttypeid>32</contenttypeid><createdtime>20030620000000</createdtime><firstimage>http://tong.visitkorea.or.kr/cms/resource/49/1933549_image2_1.jpg</firstimage><firstimage2>http://tong.visitkorea.or.kr/cms/resource/49/1933549_image3_1.jpg</firstimage2><mapx>126.2926827266</mapx><mapy>33.2232794901</mapy><mlevel>6</mlevel><modifiedtime>20211213152217</modifiedtime><readcount>23318</readcount><sigungucode>3</sigungucode><tel>064-792-5670</tel><title>라운지하우스 제주다</title><zipcode>63528</zipcode></item><item><addr1>제주특별자치도 제주시 명림로 384</addr1><areacode>39</areacode><cat1>B02</cat1><cat2>B0201</cat2><cat3>B02010500</cat3><contentid>935073</contentid><contenttypeid>32</contenttypeid><createdtime>20100122100546</createdtime><firstimage>http://tong.visitkorea.or.kr/cms/resource/97/1994497_image2_1.jpg</firstimage><firstimage2>http://tong.visitkorea.or.kr/cms/resource/97/1994497_image2_1.jpg</firstimage2><mapx>126.6152468084</mapx><mapy>33.4522815110</mapy><mlevel>6</mlevel><modifiedtime>20210908150526</modifiedtime><readcount>22036</readcount><sigungucode>4</sigungucode><tel>064-754-9000</tel><title>라헨느리조트</title><zipcode>63313</zipcode></item><item><addr1>제주특별자치도 서귀포시 안덕면 신화역사로304번길 38</addr1><areacode>39</areacode><cat1>B02</cat1><cat2>B0201</cat2><cat3>B02010100</cat3><contentid>2561880</contentid><contenttypeid>32</contenttypeid><createdtime>20181002140450</createdtime><firstimage>http://tong.visitkorea.or.kr/cms/resource/61/2561861_image2_1.jpg</firstimage><firstimage2>http://tong.visitkorea.or.kr/cms/resource/61/2561861_image2_1.jpg</firstimage2><mapx>126.3163621886</mapx><mapy>33.3050013908</mapy><mlevel>6</mlevel><modifiedtime>20211014155805</modifiedtime><readcount>1048</readcount><sigungucode>3</sigungucode><tel>1670-8800</tel><title>랜딩관 제주신화월드 호텔 앤 리조트</title><zipcode>63522</zipcode></item><item><addr1>제주특별자치도 서귀포시 존제로 24 레이크힐스</addr1><areacode>39</areacode><cat1>A02</cat1><cat2>A0202</cat2><cat3>A02020200</cat3><contentid>938689</contentid><contenttypeid>32</contenttypeid><createdtime>20100126191107</createdtime><firstimage>http://tong.visitkorea.or.kr/cms/resource/03/1340003_image2_1.jpg</firstimage><firstimage2>http://tong.visitkorea.or.kr/cms/resource/03/1340003_image3_1.jpg</firstimage2><mapx>126.3768466663</mapx><mapy>33.2673009504</mapy><mlevel>6</mlevel><modifiedtime>20220510132436</modifiedtime><readcount>23945</readcount><sigungucode>3</sigungucode><tel>064-738-8778</tel><title>레이크힐스 제주리조트</title><zipcode>63534</zipcode></item><item><addr1>제주특별자치도 제주시 도령로 83</addr1><areacode>39</areacode><cat1>B02</cat1><cat2>B0201</cat2><cat3>B02010100</cat3><contentid>2046954</contentid><contenttypeid>32</contenttypeid><createdtime>20151208092525</createdtime><firstimage>http://tong.visitkorea.or.kr/cms/resource/11/2046911_image2_1.jpg</firstimage><firstimage2>http://tong.visitkorea.or.kr/cms/resource/11/2046911_image2_1.jpg</firstimage2><mapx>126.4865515629</mapx><mapy>33.4906557686</mapy><mlevel>6</mlevel><modifiedtime>20211215140417</modifiedtime><readcount>3791</readcount><sigungucode>4</sigungucode><tel>064-730-1000</tel><title>롯데시티호텔 제주</title><zipcode>63127</zipcode></item><item><addr1>제주특별자치도 서귀포시 중문관광로72번길 35</addr1><areacode>39</areacode><cat1>B02</cat1><cat2>B0201</cat2><cat3>B02010100</cat3><contentid>143025</contentid><contenttypeid>32</contenttypeid><createdtime>20030807000000</createdtime><mapx>126.4105247144</mapx><mapy>33.2487146442</mapy><mlevel>6</mlevel><modifiedtime>20211007180230</modifiedtime><readcount>38034</readcount><sigungucode>3</sigungucode><tel>064-731-1000</tel><title>롯데호텔 제주</title><zipcode>63535</zipcode></item><item><addr1>제주특별자치도 서귀포시 남태해안로 11-16 롱비치펜션</addr1><areacode>39</areacode><cat1>B02</cat1><cat2>B0201</cat2><cat3>B02010700</cat3><contentid>733422</contentid><contenttypeid>32</contenttypeid><createdtime>20090513220120</createdtime><firstimage>http://tong.visitkorea.or.kr/cms/resource/59/729059_image2_1.jpg</firstimage><firstimage2>http://tong.visitkorea.or.kr/cms/resource/59/729059_image3_1.jpg</firstimage2><mapx>126.7107786499</mapx><mapy>33.2753831304</mapy><mlevel>6</mlevel><modifiedtime>20220509141654</modifiedtime><readcount>19197</readcount><sigungucode>3</sigungucode><tel>064-764-9944</tel><title>롱비치펜션</title><zipcode>63621</zipcode></item><item><addr1>제주특별자치도 서귀포시 안덕면 산록남로 786</addr1><areacode>39</areacode><cat1>B02</cat1><cat2>B0201</cat2><cat3>B02010500</cat3><contentid>2007416</contentid><contenttypeid>32</contenttypeid><createdtime>20150603094905</createdtime><firstimage>http://tong.visitkorea.or.kr/cms/resource/90/2007390_image2_1.jpg</firstimage><firstimage2>http://tong.visitkorea.or.kr/cms/resource/90/2007390_image2_1.jpg</firstimage2><mapx>126.3851808798</mapx><mapy>33.3199036043</mapy><mlevel>6</mlevel><modifiedtime>20211215134218</modifiedtime><readcount>14736</readcount><sigungucode>3</sigungucode><tel>064-805-0114</tel><title>루체빌리조트</title><zipcode>63525</zipcode></item><item><addr1>제주특별자치도 제주시 곽지1길 23 마레보비치호텔</addr1><areacode>39</areacode><cat1>B02</cat1><cat2>B0201</cat2><cat3>B02010100</cat3><contentid>139860</contentid><contenttypeid>32</contenttypeid><createdtime>20070801090000</createdtime><firstimage>http://tong.visitkorea.or.kr/cms/resource/53/561753_image2_1.jpg</firstimage><firstimage2>http://tong.visitkorea.or.kr/cms/resource/53/561753_image3_1.jpg</firstimage2><mapx>126.3041378290</mapx><mapy>33.4481853609</mapy><mlevel>6</mlevel><modifiedtime>20220428143441</modifiedtime><readcount>23813</readcount><sigungucode>4</sigungucode><tel>064-799-2345</tel><title>마레보 비치호텔</title><zipcode>63034</zipcode></item><item><addr1>제주특별자치도 제주시 조천읍 남조로 2528</addr1><areacode>39</areacode><cat1>B02</cat1><cat2>B0201</cat2><cat3>B02010700</cat3><contentid>2622731</contentid><contenttypeid>32</contenttypeid><createdtime>20191004091043</createdtime><mapx>126.6503651599</mapx><mapy>33.4883503052</mapy><modifiedtime>20200331105651</modifiedtime><readcount>0</readcount><sigungucode>4</sigungucode><tel>010-9300-3363</tel><title>먼나머루휴양펜션(제주편백한옥펜션 먼나머루)</title><zipcode>63344</zipcode></item><item><addr1>제주특별자치도 서귀포시 안덕면 신화역사로304번길 38</addr1><areacode>39</areacode><cat1>B02</cat1><cat2>B0201</cat2><cat3>B02010100</cat3><contentid>2561909</contentid><contenttypeid>32</contenttypeid><createdtime>20181003000018</createdtime><firstimage>http://tong.visitkorea.or.kr/cms/resource/03/2561903_image2_1.jpg</firstimage><firstimage2>http://tong.visitkorea.or.kr/cms/resource/03/2561903_image2_1.jpg</firstimage2><mapx>126.3163621886</mapx><mapy>33.3050013908</mapy><mlevel>6</mlevel><modifiedtime>20220518150400</modifiedtime><readcount>1123</readcount><sigungucode>3</sigungucode><tel>1670-8800</tel><title>메리어트관 제주신화월드 호텔 앤 리조트</title><zipcode>63522</zipcode></item><item><addr1>제주특별자치도 서귀포시 염돈로 95</addr1><areacode>39</areacode><cat1>B02</cat1><cat2>B0201</cat2><cat3>B02010700</cat3><contentid>1566985</contentid><contenttypeid>32</contenttypeid><createdtime>20120313151135</createdtime><mapx>126.4916452683</mapx><mapy>33.2571872111</mapy><mlevel>6</mlevel><modifiedtime>20211124173057</modifiedtime><readcount>19814</readcount><sigungucode>3</sigungucode><tel>064-738-8933</tel><title>메모리 인 제주</title><zipcode>63558</zipcode></item><item><addr1>제주특별자치도 제주시 노연로 80</addr1><areacode>39</areacode><cat1>B02</cat1><cat2>B0201</cat2><cat3>B02010100</cat3><contentid>142957</contentid><contenttypeid>32</contenttypeid><createdtime>20030310090000</createdtime><firstimage>http://tong.visitkorea.or.kr/cms/resource/59/2476659_image2_1.jpg</firstimage><firstimage2>http://tong.visitkorea.or.kr/cms/resource/59/2476659_image2_1.jpg</firstimage2><mapx>126.4889153601</mapx><mapy>33.4856341402</mapy><mlevel>6</mlevel><modifiedtime>20220328170331</modifiedtime><readcount>37543</readcount><sigungucode>4</sigungucode><title>메종글래드 제주</title><zipcode>63132</zipcode></item><item><addr1>제주특별자치도 서귀포시 성산읍 중산간동로 4204-14</addr1><areacode>39</areacode><cat1>B02</cat1><cat2>B0201</cat2><cat3>B02010700</cat3><contentid>2000893</contentid><contenttypeid>32</contenttypeid><createdtime>20150504100028</createdtime><firstimage>http://tong.visitkorea.or.kr/cms/resource/41/2417641_image2_1.JPG</firstimage><firstimage2>http://tong.visitkorea.or.kr/cms/resource/41/2417641_image2_1.JPG</firstimage2><mapx>126.8408705836</mapx><mapy>33.3789265694</mapy><mlevel>6</mlevel><modifiedtime>20211020113939</modifiedtime><readcount>8079</readcount><sigungucode>3</sigungucode><tel>010-8566-1037</tel><title>물고기나무 게스트하우스</title><zipcode>63635</zipcode></item><item><addr1>제주특별자치도 서귀포시 성산읍 성산등용로 1</addr1><areacode>39</areacode><cat1>B02</cat1><cat2>B0201</cat2><cat3>B02010900</cat3><contentid>1905521</contentid><contenttypeid>32</contenttypeid><createdtime>20140315004928</createdtime><mapx>126.9336078135</mapx><mapy>33.4641769864</mapy><mlevel>6</mlevel><modifiedtime>20220520174213</modifiedtime><readcount>5043</readcount><sigungucode>3</sigungucode><tel>064-782-0820</tel><title>미도모텔</title><zipcode>63643</zipcode></item><item><addr1>제주특별자치도 서귀포시 솔동산로10번길 2</addr1><addr2>(서귀동)</addr2><areacode>39</areacode><cat1>B02</cat1><cat2>B0201</cat2><cat3>B02010900</cat3><contentid>1905562</contentid><contenttypeid>32</contenttypeid><createdtime>20140314165125</createdtime><mapx>126.5638198640</mapx><mapy>33.2439814775</mapy><mlevel>6</mlevel><modifiedtime>20211215094119</modifiedtime><readcount>5788</readcount><sigungucode>3</sigungucode><tel>064-733-5421</tel><title>밀라노모텔</title><zipcode>63596</zipcode></item><item><addr1>제주특별자치도 서귀포시 보목로64번길 196</addr1><areacode>39</areacode><cat1>B02</cat1><cat2>B0201</cat2><cat3>B02010700</cat3><contentid>972415</contentid><contenttypeid>32</contenttypeid><createdtime>20100311161924</createdtime><firstimage>http://tong.visitkorea.or.kr/cms/resource/43/1933343_image2_1.jpg</firstimage><firstimage2>http://tong.visitkorea.or.kr/cms/resource/43/1933343_image3_1.jpg</firstimage2><mapx>126.5899536843</mapx><mapy>33.2451928698</mapy><mlevel>6</mlevel><modifiedtime>20211116154246</modifiedtime><readcount>16660</readcount><sigungucode>3</sigungucode><tel>064-751-9980</tel><title>밀레니엄빌</title><zipcode>63599</zipcode></item><item><addr1>제주특별자치도 서귀포시 남원읍 위미해안로 60</addr1><areacode>39</areacode><cat1>B02</cat1><cat2>B0201</cat2><cat3>B02010700</cat3><contentid>733516</contentid><contenttypeid>32</contenttypeid><createdtime>20090513223655</createdtime><firstimage>http://tong.visitkorea.or.kr/cms/resource/96/729096_image2_1.jpg</firstimage><firstimage2>http://tong.visitkorea.or.kr/cms/resource/96/729096_image3_1.jpg</firstimage2><mapx>126.6578361411</mapx><mapy>33.2696884696</mapy><mlevel>6</mlevel><modifiedtime>20220722141110</modifiedtime><readcount>23590</readcount><sigungucode>3</sigungucode><tel>064-764-6800</tel><title>바다에누워 펜션</title><zipcode>63611</zipcode></item><item><addr1>제주특별자치도 제주시 애월읍 애월해안로 218</addr1><areacode>39</areacode><cat1>B02</cat1><cat2>B0201</cat2><cat3>B02010700</cat3><contentid>1853848</contentid><contenttypeid>32</contenttypeid><createdtime>20131025170822</createdtime><mapx>126.3358485474</mapx><mapy>33.4665199416</mapy><mlevel>6</mlevel><modifiedtime>20211231132408</modifiedtime><readcount>5023</readcount><sigungucode>4</sigungucode><tel>064-799-6192</tel><title>바다하우스</title><zipcode>63045</zipcode></item><item><addr1>제주특별자치도 서귀포시 천지연로 3-1</addr1><addr2>(서귀동)</addr2><areacode>39</areacode><cat1>B02</cat1><cat2>B0201</cat2><cat3>B02011100</cat3><contentid>2621955</contentid><contenttypeid>32</contenttypeid><createdtime>20190930170729</createdtime><mapx>126.5656503182</mapx><mapy>33.2414512305</mapy><modifiedtime>20200331140126</modifiedtime><readcount>0</readcount><sigungucode>3</sigungucode><tel>064-762-5530</tel><title>바다해호텔</title><zipcode>63596</zipcode></item><item><addr1>제주특별자치도 서귀포시 중정로 24-7</addr1><addr2>(서귀동)</addr2><areacode>39</areacode><cat1>B02</cat1><cat2>B0201</cat2><cat3>B02011100</cat3><contentid>2623005</contentid><contenttypeid>32</contenttypeid><createdtime>20191004170036</createdtime><mapx>126.5589896584</mapx><mapy>33.2470449521</mapy><modifiedtime>20200806094303</modifiedtime><readcount>0</readcount><sigungucode>3</sigungucode><tel>010-7552-4002</tel><title>백패커스홈</title><zipcode>63592</zipcode></item><item><addr1>제주특별자치도 서귀포시 천제연로 166</addr1><addr2>(중문동)</addr2><areacode>39</areacode><cat1>B02</cat1><cat2>B0201</cat2><cat3>B02010100</cat3><contentid>2038553</contentid><contenttypeid>32</contenttypeid><createdtime>20151106095823</createdtime><firstimage>http://tong.visitkorea.or.kr/cms/resource/61/2038561_image2_1.jpg</firstimage><firstimage2>http://tong.visitkorea.or.kr/cms/resource/61/2038561_image2_1.jpg</firstimage2><mapx>126.4223958362</mapx><mapy>33.2519089231</mapy><mlevel>6</mlevel><modifiedtime>20211215135423</modifiedtime><readcount>7093</readcount><sigungucode>3</sigungucode><tel>064-802-8889</tel><title>베니키아 중문호텔</title><zipcode>63546</zipcode></item><item><addr1>제주특별자치도 제주시 애월읍 애월해안로 554-10</addr1><areacode>39</areacode><cat1>B02</cat1><cat2>B0201</cat2><cat3>B02010100</cat3><contentid>1981890</contentid><contenttypeid>32</contenttypeid><createdtime>20150105111002</createdtime><mapx>126.3628348454</mapx><mapy>33.4773025078</mapy><mlevel>6</mlevel><modifiedtime>20211025170935</modifiedtime><readcount>8847</readcount><sigungucode>4</sigungucode><tel>064-799-3544</tel><title>베니키아 호텔 제주</title><zipcode>63047</zipcode></item><item><addr1>제주특별자치도 제주시 한림읍 협재로 226</addr1><addr2>(한림읍)</addr2><areacode>39</areacode><cat1>B02</cat1><cat2>B0201</cat2><cat3>B02010400</cat3><contentid>1976354</contentid><contenttypeid>32</contenttypeid><createdtime>20141216091149</createdtime><firstimage>http://tong.visitkorea.or.kr/cms/resource/85/1975985_image2_1.jpg</firstimage><firstimage2>http://tong.visitkorea.or.kr/cms/resource/85/1975985_image2_1.jpg</firstimage2><mapx>126.2513106514</mapx><mapy>33.3783783669</mapy><modifiedtime>20211020100852</modifiedtime><readcount>14779</readcount><sigungucode>4</sigungucode><tel>064-796-2908</tel><title>베니키아 홈 더 제주리조트</title><zipcode>63015</zipcode></item><item><addr1>제주특별자치도 서귀포시 예래로 424</addr1><addr2>(하예동)</addr2><areacode>39</areacode><cat1>B02</cat1><cat2>B0201</cat2><cat3>B02010500</cat3><contentid>2755497</contentid><contenttypeid>32</contenttypeid><createdtime>20211012102632</createdtime><firstimage>http://tong.visitkorea.or.kr/cms/resource/17/2755617_image2_1.jpg</firstimage><firstimage2>http://tong.visitkorea.or.kr/cms/resource/17/2755617_image2_1.jpg</firstimage2><mapx>126.3727671417</mapx><mapy>33.2369264622</mapy><modifiedtime>20211012142230</modifiedtime><readcount>0</readcount><sigungucode>3</sigungucode><title>베이힐풀앤빌라</title><zipcode>63538</zipcode></item><item><addr1>제주특별자치도 제주시 연삼로 14</addr1><addr2>(연동)</addr2><areacode>39</areacode><cat1>B02</cat1><cat2>B0201</cat2><cat3>B02010100</cat3><contentid>2718006</contentid><contenttypeid>32</contenttypeid><createdtime>20210525095958</createdtime><mapx>126.4937564282</mapx><mapy>33.4934583510</mapy><mlevel>6</mlevel><modifiedtime>20211215163211</modifiedtime><readcount>0</readcount><sigungucode>4</sigungucode><title>벤티모</title><zipcode>63118</zipcode></item><item><addr1>제주특별자치도 서귀포시 성산읍 일출로 284-4</addr1><areacode>39</areacode><cat1>B02</cat1><cat2>B0201</cat2><cat3>B02010700</cat3><contentid>1940256</contentid><contenttypeid>32</contenttypeid><createdtime>20140809021013</createdtime><firstimage>http://tong.visitkorea.or.kr/cms/resource/02/1940202_image2_1.jpg</firstimage><firstimage2>http://tong.visitkorea.or.kr/cms/resource/02/1940202_image2_1.jpg</firstimage2><mapx>126.9351688235</mapx><mapy>33.4626966191</mapy><mlevel>6</mlevel><modifiedtime>20220518153424</modifiedtime><readcount>9504</readcount><sigungucode>3</sigungucode><tel>010-3408-6767</tel><title>볕들이펜션</title><zipcode>63643</zipcode></item><item><addr1>제주특별자치도 서귀포시 성산읍 한도로242번길 10-11</addr1><areacode>39</areacode><cat1>B02</cat1><cat2>B0201</cat2><cat3>B02010700</cat3><contentid>733540</contentid><contenttypeid>32</contenttypeid><createdtime>20090513134637</createdtime><firstimage>http://tong.visitkorea.or.kr/cms/resource/97/729097_image2_1.jpg</firstimage><firstimage2>http://tong.visitkorea.or.kr/cms/resource/97/729097_image3_1.jpg</firstimage2><mapx>126.9317051480</mapx><mapy>33.4664517038</mapy><mlevel>6</mlevel><modifiedtime>20211230152327</modifiedtime><readcount>17986</readcount><sigungucode>3</sigungucode><tel>064-784-0039</tel><title>보물섬펜션</title><zipcode>63643</zipcode></item><item><addr1>제주특별자치도 서귀포시 이어도로253번길 2</addr1><addr2>(대포동)</addr2><areacode>39</areacode><cat1>B02</cat1><cat2>B0201</cat2><cat3>B02010700</cat3><contentid>733569</contentid><contenttypeid>32</contenttypeid><createdtime>20090513140552</createdtime><firstimage>http://tong.visitkorea.or.kr/cms/resource/27/729127_image2_1.jpg</firstimage><firstimage2>http://tong.visitkorea.or.kr/cms/resource/27/729127_image3_1.jpg</firstimage2><mapx>126.4466828006</mapx><mapy>33.2437463177</mapy><mlevel>6</mlevel><modifiedtime>20211202172510</modifiedtime><readcount>16618</readcount><sigungucode>3</sigungucode><tel>1833-9306</tel><title>뷰티풀하우스</title><zipcode>63543</zipcode></item><item><addr1>제주특별자치도 서귀포시 이어도로 216</addr1><addr2>(대포동)</addr2><areacode>39</areacode><cat1>B02</cat1><cat2>B0201</cat2><cat3>B02011100</cat3><contentid>2623014</contentid><contenttypeid>32</contenttypeid><createdtime>20191004171333</createdtime><mapx>126.4434470348</mapx><mapy>33.2408771391</mapy><modifiedtime>20211203143423</modifiedtime><readcount>0</readcount><sigungucode>3</sigungucode><tel>010-4382-0216</tel><title>브릭216</title><zipcode>63543</zipcode></item><item><addr1>제주특별자치도 서귀포시 색달로 60</addr1><areacode>39</areacode><cat1>B02</cat1><cat2>B0201</cat2><cat3>B02010700</cat3><contentid>733575</contentid><contenttypeid>32</contenttypeid><createdtime>20090513141329</createdtime><firstimage>http://tong.visitkorea.or.kr/cms/resource/47/729147_image2_1.jpg</firstimage><firstimage2>http://tong.visitkorea.or.kr/cms/resource/47/729147_image3_1.jpg</firstimage2><mapx>126.4101189264</mapx><mapy>33.2607216455</mapy><mlevel>6</mlevel><modifiedtime>20211109111904</modifiedtime><readcount>18937</readcount><sigungucode>3</sigungucode><tel>064-738-7380</tel><title>블루스카이 펜션</title><zipcode>63534</zipcode></item><item><addr1>제주특별자치도 제주시 서해안로 74</addr1><addr2>(이호일동)</addr2><areacode>39</areacode><cat1>B02</cat1><cat2>B0201</cat2><cat3>B02010500</cat3><contentid>2766781</contentid><contenttypeid>32</contenttypeid><createdtime>20211102142112</createdtime><firstimage>http://tong.visitkorea.or.kr/cms/resource/87/2767087_image2_1.jpg</firstimage><firstimage2>http://tong.visitkorea.or.kr/cms/resource/87/2767087_image2_1.jpg</firstimage2><mapx>126.4575926881</mapx><mapy>33.5030678233</mapy><mlevel>6</mlevel><modifiedtime>20211102162048</modifiedtime><readcount>0</readcount><sigungucode>4</sigungucode><title>비스타리조트</title><zipcode>63108</zipcode></item><item><addr1>제주특별자치도 서귀포시 검은여로130번길 73</addr1><addr2>(보목동)</addr2><areacode>39</areacode><cat1>B02</cat1><cat2>B0201</cat2><cat3>B02010700</cat3><contentid>1905844</contentid><contenttypeid>32</contenttypeid><createdtime>20140318000520</createdtime><mapx>126.5896341759</mapx><mapy>33.2492729704</mapy><mlevel>6</mlevel><modifiedtime>20220512100555</modifiedtime><readcount>3319</readcount><sigungucode>3</sigungucode><tel>064-732-0388</tel><title>비울채울</title><zipcode>63599</zipcode></item><item><addr1>제주특별자치도 제주시 조천읍 조함해안로 492-5</addr1><areacode>39</areacode><cat1>B02</cat1><cat2>B0201</cat2><cat3>B02010900</cat3><contentid>139008</contentid><contenttypeid>32</contenttypeid><createdtime>20070913000000</createdtime><firstimage>http://tong.visitkorea.or.kr/cms/resource/86/2596486_image2_1.jpg</firstimage><firstimage2>http://tong.visitkorea.or.kr/cms/resource/86/2596486_image2_1.jpg</firstimage2><mapx>126.6653431863</mapx><mapy>33.5420973748</mapy><mlevel>4</mlevel><modifiedtime>20210916094049</modifiedtime><readcount>75262</readcount><sigungucode>4</sigungucode><tel>010-3639-4011</tel><title>비치스토리호텔 [한국관광 품질인증/Korea Quality]</title><zipcode>63333</zipcode></item><item><addr1>제주특별자치도 제주시 애월읍 고내로13길 79</addr1><areacode>39</areacode><cat1>B02</cat1><cat2>B0201</cat2><cat3>B02010900</cat3><contentid>1749012</contentid><contenttypeid>32</contenttypeid><createdtime>20121107134110</createdtime><firstimage>http://tong.visitkorea.or.kr/cms/resource/59/1747059_image2_1.jpg</firstimage><firstimage2>http://tong.visitkorea.or.kr/cms/resource/59/1747059_image3_1.jpg</firstimage2><mapx>126.3469835852</mapx><mapy>33.4711501605</mapy><mlevel>6</mlevel><modifiedtime>20211124161250</modifiedtime><readcount>18996</readcount><sigungucode>4</sigungucode><tel>064-799-2002</tel><title>빌레리조트</title><zipcode>63046</zipcode></item><item><addr1>제주특별자치도 제주시 조천읍 일주동로 1616-7</addr1><areacode>39</areacode><cat1>B02</cat1><cat2>B0201</cat2><cat3>B02010500</cat3><contentid>137474</contentid><contenttypeid>32</contenttypeid><createdtime>20031218000000</createdtime><firstimage>http://tong.visitkorea.or.kr/cms/resource/73/1933373_image2_1.jpg</firstimage><firstimage2>http://tong.visitkorea.or.kr/cms/resource/73/1933373_image3_1.jpg</firstimage2><mapx>126.7051311743</mapx><mapy>33.5517830527</mapy><mlevel>6</mlevel><modifiedtime>20211214165627</modifiedtime><readcount>29250</readcount><sigungucode>4</sigungucode><tel>064-782-8600</tel><title>사조리조트 제주</title><zipcode>63339</zipcode></item><item><addr1>제주특별자치도 서귀포시 성산읍 서성일로 689-8</addr1><areacode>39</areacode><cat1>B02</cat1><cat2>B0201</cat2><cat3>B02010700</cat3><contentid>2021434</contentid><contenttypeid>32</contenttypeid><createdtime>20150728103241</createdtime><firstimage>http://tong.visitkorea.or.kr/cms/resource/03/2021403_image2_1.jpg</firstimage><firstimage2>http://tong.visitkorea.or.kr/cms/resource/03/2021403_image2_1.jpg</firstimage2><mapx>126.8572041127</mapx><mapy>33.4298212120</mapy><mlevel>6</mlevel><modifiedtime>20211215135241</modifiedtime><readcount>7259</readcount><sigungucode>3</sigungucode><tel>064-784-1988</tel><title>산들애풀하우스</title><zipcode>63631</zipcode></item><item><addr1>제주특별자치도 서귀포시 염돈로28번길 11</addr1><addr2>(강정동)</addr2><areacode>39</areacode><cat1>B02</cat1><cat2>B0201</cat2><cat3>B02010700</cat3><contentid>2374023</contentid><contenttypeid>32</contenttypeid><createdtime>20160322091227</createdtime><firstimage>http://tong.visitkorea.or.kr/cms/resource/20/2374020_image2_1.JPG</firstimage><firstimage2>http://tong.visitkorea.or.kr/cms/resource/20/2374020_image2_1.JPG</firstimage2><mapx>126.4948867436</mapx><mapy>33.2531627063</mapy><mlevel>6</mlevel><modifiedtime>20211231130545</modifiedtime><readcount>2368</readcount><sigungucode>3</sigungucode><tel>064-739-9756</tel><title>샘모루펜션</title><zipcode>63558</zipcode></item><item><addr1>제주특별자치도 서귀포시 서호호근로46번길 68</addr1><areacode>39</areacode><cat1>B02</cat1><cat2>B0201</cat2><cat3>B02010700</cat3><contentid>978343</contentid><contenttypeid>32</contenttypeid><createdtime>20100317151313</createdtime><firstimage>http://tong.visitkorea.or.kr/cms/resource/87/1933387_image2_1.jpg</firstimage><firstimage2>http://tong.visitkorea.or.kr/cms/resource/87/1933387_image3_1.jpg</firstimage2><mapx>126.5288644613</mapx><mapy>33.2483915481</mapy><mlevel>6</mlevel><modifiedtime>20211216165303</modifiedtime><readcount>17210</readcount><sigungucode>3</sigungucode><tel>064-738-9852</tel><title>샤뜰레 펜션</title><zipcode>63569</zipcode></item><item><addr1>제주특별자치도 서귀포시 성산읍 금백조로131번길 177-1</addr1><areacode>39</areacode><cat1>B02</cat1><cat2>B0201</cat2><cat3>B02010900</cat3><contentid>1906127</contentid><contenttypeid>32</contenttypeid><createdtime>20140318130802</createdtime><mapx>126.8441691131</mapx><mapy>33.4306042484</mapy><mlevel>6</mlevel><modifiedtime>20211124154150</modifiedtime><readcount>3957</readcount><sigungucode>3</sigungucode><tel>010-8676-5948</tel><title>샤론의집</title><zipcode>63631</zipcode></item><item><addr1>제주특별자치도 제주시 구좌읍 송당4길 7</addr1><areacode>39</areacode><cat1>B02</cat1><cat2>B0201</cat2><cat3>B02010900</cat3><contentid>1748965</contentid><contenttypeid>32</contenttypeid><createdtime>20121107105337</createdtime><firstimage>http://tong.visitkorea.or.kr/cms/resource/02/1747002_image2_1.jpg</firstimage><firstimage2>http://tong.visitkorea.or.kr/cms/resource/02/1747002_image3_1.jpg</firstimage2><mapx>126.7842817191</mapx><mapy>33.4707099625</mapy><mlevel>6</mlevel><modifiedtime>20211206161216</modifiedtime><readcount>19197</readcount><sigungucode>4</sigungucode><tel>064-783-5089</tel><title>샤이니호텔</title><zipcode>63355</zipcode></item><item><addr1>제주특별자치도 서귀포시 일주동로 8941</addr1><areacode>39</areacode><cat1>B02</cat1><cat2>B0201</cat2><cat3>B02010700</cat3><contentid>137788</contentid><contenttypeid>32</contenttypeid><createdtime>20070907090000</createdtime><firstimage>http://tong.visitkorea.or.kr/cms/resource/97/1933397_image2_1.jpg</firstimage><firstimage2>http://tong.visitkorea.or.kr/cms/resource/97/1933397_image3_1.jpg</firstimage2><mapx>126.5360193536</mapx><mapy>33.2503192271</mapy><mlevel>6</mlevel><modifiedtime>20220628113355</modifiedtime><readcount>30577</readcount><sigungucode>3</sigungucode><tel>064-739-3331</tel><title>서귀포 귤림성</title><zipcode>63571</zipcode></item><item><addr1>제주특별자치도 서귀포시 칠십리로 242</addr1><areacode>39</areacode><cat1>B02</cat1><cat2>B0201</cat2><cat3>B02010100</cat3><contentid>142965</contentid><contenttypeid>32</contenttypeid><createdtime>20060619000000</createdtime><firstimage>http://tong.visitkorea.or.kr/cms/resource/28/197428_image2_1.jpg</firstimage><firstimage2>http://tong.visitkorea.or.kr/cms/resource/28/197428_image3_1.jpg</firstimage2><mapx>126.5808072727</mapx><mapy>33.2443539282</mapy><mlevel>6</mlevel><modifiedtime>20211214163453</modifiedtime><readcount>29899</readcount><sigungucode>3</sigungucode><tel>064-733-2001</tel><title>서귀포KAL호텔</title><zipcode>63599</zipcode></item><item><addr1>제주특별자치도 서귀포시 안덕면 신화역사로304번길 89</addr1><addr2>(안덕면)</addr2><areacode>39</areacode><cat1>B02</cat1><cat2>B0201</cat2><cat3>B02010100</cat3><contentid>2561932</contentid><contenttypeid>32</contenttypeid><createdtime>20181003011625</createdtime><firstimage>http://tong.visitkorea.or.kr/cms/resource/65/2562265_image2_1.jpg</firstimage><firstimage2>http://tong.visitkorea.or.kr/cms/resource/65/2562265_image2_1.jpg</firstimage2><mapx>126.3175482431</mapx><mapy>33.3029183065</mapy><mlevel>6</mlevel><modifiedtime>20220519195822</modifiedtime><readcount>1264</readcount><sigungucode>3</sigungucode><tel>1670-8800</tel><title>서머셋 제주신화월드</title><zipcode>63522</zipcode></item><item><addr1>제주특별자치도 서귀포시 안덕면 사계중앙로 41-15</addr1><areacode>39</areacode><cat1>B02</cat1><cat2>B0201</cat2><cat3>B02011000</cat3><contentid>2707417</contentid><contenttypeid>32</contenttypeid><createdtime>20210226225311</createdtime><firstimage>http://tong.visitkorea.or.kr/cms/resource/36/2707436_image2_1.jpg</firstimage><firstimage2>http://tong.visitkorea.or.kr/cms/resource/36/2707436_image2_1.jpg</firstimage2><mapx>126.2980682613</mapx><mapy>33.2282179181</mapy><mlevel>6</mlevel><modifiedtime>20220331170759</modifiedtime><readcount>0</readcount><sigungucode>3</sigungucode><title>서툰가족</title><zipcode>63528</zipcode></item><item><addr1>제주특별자치도 제주시 신북로 577 대명리조트</addr1><areacode>39</areacode><cat1>B02</cat1><cat2>B0201</cat2><cat3>B02010500</cat3><contentid>232287</contentid><contenttypeid>32</contenttypeid><createdtime>20071012090000</createdtime><firstimage>http://tong.visitkorea.or.kr/cms/resource/74/2709574_image2_1.jpg</firstimage><firstimage2>http://tong.visitkorea.or.kr/cms/resource/74/2709574_image2_1.jpg</firstimage2><mapx>126.6713315983</mapx><mapy>33.5402087913</mapy><mlevel>6</mlevel><modifiedtime>20220421144629</modifiedtime><readcount>32926</readcount><sigungucode>4</sigungucode><tel>1588-4888</tel><title>소노벨 제주</title><zipcode>63333</zipcode></item><item><addr1>제주특별자치도 서귀포시 표선면 일주동로 6347-17</addr1><areacode>39</areacode><cat1>B02</cat1><cat2>B0201</cat2><cat3>B02010500</cat3><contentid>138019</contentid><contenttypeid>32</contenttypeid><createdtime>20040428000000</createdtime><firstimage>http://tong.visitkorea.or.kr/cms/resource/89/1181489_image2_1.jpg</firstimage><firstimage2>http://tong.visitkorea.or.kr/cms/resource/89/1181489_image3_1.jpg</firstimage2><mapx>126.7929069544</mapx><mapy>33.3060421741</mapy><mlevel>6</mlevel><modifiedtime>20211221144121</modifiedtime><readcount>28203</readcount><sigungucode>3</sigungucode><tel>02-1588-4888</tel><title>소노캄 제주(구 샤인빌 리조트)</title><zipcode>63626</zipcode></item><item><addr1>제주특별자치도 서귀포시 남원읍 태위로 545</addr1><areacode>39</areacode><cat1>B02</cat1><cat2>B0201</cat2><cat3>B02010700</cat3><contentid>1888034</contentid><contenttypeid>32</contenttypeid><createdtime>20140122164835</createdtime><mapx>126.7052513401</mapx><mapy>33.2758329923</mapy><mlevel>6</mlevel><modifiedtime>20211231131957</modifiedtime><readcount>7099</readcount><sigungucode>3</sigungucode><tel>064-764-8016</tel><title>소랑호젠</title><zipcode>63620</zipcode></item><item><addr1>제주특별자치도 서귀포시 남원읍 태수로143번길 132-37</addr1><areacode>39</areacode><cat1>B02</cat1><cat2>B0201</cat2><cat3>B02010700</cat3><contentid>138594</contentid><contenttypeid>32</contenttypeid><createdtime>20050518090000</createdtime><mapx>126.7244354569</mapx><mapy>33.2905372325</mapy><mlevel>6</mlevel><modifiedtime>20220627171751</modifiedtime><readcount>16908</readcount><sigungucode>3</sigungucode><tel>064-764-6002</tel><title>솔바람풍경소리</title><zipcode>63617</zipcode></item><item><addr1>제주특별자치도 제주시 애월읍 애월해안로 226</addr1><areacode>39</areacode><cat1>B02</cat1><cat2>B0201</cat2><cat3>B02011100</cat3><contentid>2699343</contentid><contenttypeid>32</contenttypeid><createdtime>20201216183352</createdtime><mapx>126.3363346046</mapx><mapy>33.4670365589</mapy><modifiedtime>20201223144656</modifiedtime><readcount>0</readcount><sigungucode>4</sigungucode><title>솔트</title><zipcode>63045</zipcode></item><item><addr1>제주특별자치도 제주시 서광로5길 2-2</addr1><addr2>(용담일동)</addr2><areacode>39</areacode><cat1>B02</cat1><cat2>B0201</cat2><cat3>B02010900</cat3><contentid>1836795</contentid><contenttypeid>32</contenttypeid><createdtime>20130809170435</createdtime><firstimage>http://tong.visitkorea.or.kr/cms/resource/47/1836847_image2_1.JPG</firstimage><firstimage2>http://tong.visitkorea.or.kr/cms/resource/47/1836847_image2_1.JPG</firstimage2><mapx>126.5146572306</mapx><mapy>33.5004440214</mapy><mlevel>6</mlevel><modifiedtime>20211231132655</modifiedtime><readcount>19715</readcount><sigungucode>4</sigungucode><title>숨 게스트하우스 제주공항점</title><zipcode>63184</zipcode></item><item><addr1>제주특별자치도 서귀포시 염돈로28번길 46</addr1><areacode>39</areacode><cat1>B02</cat1><cat2>B0201</cat2><cat3>B02010700</cat3><contentid>914711</contentid><contenttypeid>32</contenttypeid><createdtime>20100106143109</createdtime><firstimage>http://tong.visitkorea.or.kr/cms/resource/13/1933413_image2_1.jpg</firstimage><firstimage2>http://tong.visitkorea.or.kr/cms/resource/13/1933413_image3_1.jpg</firstimage2><mapx>126.4971559678</mapx><mapy>33.2542348464</mapy><mlevel>6</mlevel><modifiedtime>20211217113727</modifiedtime><readcount>16762</readcount><sigungucode>3</sigungucode><tel>064-739-1915</tel><title>숲속의궁전</title><zipcode>63558</zipcode></item><item><addr1>제주특별자치도 서귀포시 안덕면 한창로 104</addr1><areacode>39</areacode><cat1>B02</cat1><cat2>B0201</cat2><cat3>B02010700</cat3><contentid>2622740</contentid><contenttypeid>32</contenttypeid><createdtime>20191004092153</createdtime><mapx>126.3654364221</mapx><mapy>33.2728501585</mapy><modifiedtime>20211208095507</modifiedtime><readcount>0</readcount><sigungucode>3</sigungucode><tel>010-3697-6695, 010-4692-1104</tel><title>쉴띠 휴양펜션</title><zipcode>63526</zipcode></item><item><addr1>제주특별자치도 제주시 관덕로 26</addr1><areacode>39</areacode><cat1>B02</cat1><cat2>B0201</cat2><cat3>B02010100</cat3><contentid>143036</contentid><contenttypeid>32</contenttypeid><createdtime>20051124000000</createdtime><firstimage>http://tong.visitkorea.or.kr/cms/resource/24/1339724_image2_1.jpg</firstimage><firstimage2>http://tong.visitkorea.or.kr/cms/resource/24/1339724_image3_1.jpg</firstimage2><mapx>126.5220229746</mapx><mapy>33.5128872053</mapy><mlevel>6</mlevel><modifiedtime>20210714165459</modifiedtime><readcount>25457</readcount><sigungucode>4</sigungucode><tel>064-757-7111</tel><title>스타즈 호텔 제주 로베로(구 로베로호텔)</title><zipcode>63168</zipcode></item><item><addr1>제주특별자치도 제주시 애월로 37</addr1><areacode>39</areacode><cat1>A05</cat1><cat2>B0201</cat2><contentid>2814168</contentid><contenttypeid>32</contenttypeid><createdtime>20220318170544</createdtime><firstimage>http://tong.visitkorea.or.kr/cms/resource/82/2813382_image2_1.jpg</firstimage><firstimage2>http://tong.visitkorea.or.kr/cms/resource/82/2813382_image2_1.jpg</firstimage2><mapx>126.3122812503</mapx><mapy>33.4622061589</mapy><mlevel>6</mlevel><modifiedtime>20220426101159</modifiedtime><readcount>0</readcount><sigungucode>4</sigungucode><tel>010-2419-0578</tel><title>스테리나잇 제주 [한국관광 품질인증/Korea Quality]</title><zipcode>63043</zipcode></item><item><addr1>제주특별자치도 서귀포시 천제연로 292</addr1><areacode>39</areacode><cat1>B02</cat1><cat2>B0201</cat2><cat3>B02010700</cat3><contentid>970675</contentid><contenttypeid>32</contenttypeid><createdtime>20100310143139</createdtime><firstimage>http://tong.visitkorea.or.kr/cms/resource/29/1341429_image2_1.jpg</firstimage><firstimage2>http://tong.visitkorea.or.kr/cms/resource/29/1341429_image3_1.jpg</firstimage2><mapx>126.4368501597</mapx><mapy>33.2509287039</mapy><mlevel>6</mlevel><modifiedtime>20210913155331</modifiedtime><readcount>20524</readcount><sigungucode>3</sigungucode><tel>064-738-3077</tel><title>스프링힐 리조트</title><zipcode>63544</zipcode></item><item><addr1>제주특별자치도 제주시 노연로 100</addr1><areacode>39</areacode><cat1>B02</cat1><cat2>B0201</cat2><cat3>B02010100</cat3><contentid>2716736</contentid><contenttypeid>32</contenttypeid><createdtime>20210512233746</createdtime><firstimage>http://tong.visitkorea.or.kr/cms/resource/42/2716742_image2_1.jpg</firstimage><firstimage2>http://tong.visitkorea.or.kr/cms/resource/42/2716742_image2_1.jpg</firstimage2><mapx>126.4910512883</mapx><mapy>33.4855175198</mapy><mlevel>6</mlevel><modifiedtime>20220415152834</modifiedtime><readcount>0</readcount><sigungucode>4</sigungucode><tel>064-717-9000</tel><title>신라스테이 제주</title><zipcode>63133</zipcode></item><item><addr1>제주특별자치도 서귀포시 중앙로 2-2</addr1><areacode>39</areacode><cat1>B02</cat1><cat2>B0201</cat2><cat3>B02010900</cat3><contentid>137348</contentid><contenttypeid>32</contenttypeid><createdtime>20030611090000</createdtime><firstimage>http://tong.visitkorea.or.kr/cms/resource/25/1933425_image2_1.jpg</firstimage><firstimage2>http://tong.visitkorea.or.kr/cms/resource/25/1933425_image3_1.jpg</firstimage2><mapx>126.5623172000</mapx><mapy>33.2447147065</mapy><mlevel>6</mlevel><modifiedtime>20220722141847</modifiedtime><readcount>18769</readcount><sigungucode>3</sigungucode><tel>064-732-5800</tel><title>신세계호텔</title><zipcode>63595</zipcode></item><item><addr1>제주특별자치도 제주시 신광로 92</addr1><areacode>39</areacode><cat1>B02</cat1><cat2>B0201</cat2><cat3>B02010100</cat3><contentid>136453</contentid><contenttypeid>32</contenttypeid><createdtime>20040427090000</createdtime><firstimage>http://tong.visitkorea.or.kr/cms/resource/57/1933557_image2_1.jpg</firstimage><firstimage2>http://tong.visitkorea.or.kr/cms/resource/57/1933557_image3_1.jpg</firstimage2><mapx>126.4895708953</mapx><mapy>33.4839982207</mapy><mlevel>6</mlevel><modifiedtime>20220609132210</modifiedtime><readcount>30636</readcount><sigungucode>4</sigungucode><tel>064-744-1601~2</tel><title>썬랜드 호텔</title><zipcode>63132</zipcode></item><item><addr1>제주특별자치도 서귀포시 예래로 267</addr1><areacode>39</areacode><cat1>B02</cat1><cat2>B0201</cat2><cat3>B02010700</cat3><contentid>973990</contentid><contenttypeid>32</contenttypeid><createdtime>20100315104413</createdtime><firstimage>http://tong.visitkorea.or.kr/cms/resource/35/1933435_image2_1.jpg</firstimage><firstimage2>http://tong.visitkorea.or.kr/cms/resource/35/1933435_image3_1.jpg</firstimage2><mapx>126.3857325676</mapx><mapy>33.2421399797</mapy><mlevel>6</mlevel><modifiedtime>20211215173957</modifiedtime><readcount>16160</readcount><sigungucode>3</sigungucode><tel>064-739-6623</tel><title>씨에나펜션</title><zipcode>63538</zipcode></item><item><addr1>제주특별자치도 서귀포시 중문관광로 198</addr1><areacode>39</areacode><cat1>B02</cat1><cat2>B0201</cat2><cat3>B02010100</cat3><contentid>142948</contentid><contenttypeid>32</contenttypeid><createdtime>20031226000000</createdtime><firstimage>http://tong.visitkorea.or.kr/cms/resource/81/895881_image2_1.jpg</firstimage><firstimage2>http://tong.visitkorea.or.kr/cms/resource/81/895881_image3_1.jpg</firstimage2><mapx>126.4198240376</mapx><mapy>33.2429182080</mapy><mlevel>6</mlevel><modifiedtime>20210714165906</modifiedtime><readcount>72080</readcount><sigungucode>3</sigungucode><tel>064-735-3000</tel><title>씨에스 호텔&amp;리조트</title><zipcode>63547</zipcode></item><item><addr1>제주특별자치도 서귀포시 이어도로 989</addr1><areacode>39</areacode><cat1>A02</cat1><cat2>A0202</cat2><cat3>A02020200</cat3><contentid>397635</contentid><contenttypeid>32</contenttypeid><createdtime>20080124002300</createdtime><firstimage>http://tong.visitkorea.or.kr/cms/resource/87/1618787_image2_1.jpg</firstimage><firstimage2>http://tong.visitkorea.or.kr/cms/resource/87/1618787_image3_1.jpg</firstimage2><mapx>126.5185571536</mapx><mapy>33.2424948134</mapy><mlevel>6</mlevel><modifiedtime>20220714152707</modifiedtime><readcount>24587</readcount><sigungucode>3</sigungucode><tel>064-739-0114</tel><title>씨오르리조트</title><zipcode>63572</zipcode></item><item><addr1>제주특별자치도 서귀포시 표선면 민속해안로 11</addr1><areacode>39</areacode><cat1>B02</cat1><cat2>B0201</cat2><cat3>B02010700</cat3><contentid>733613</contentid><contenttypeid>32</contenttypeid><createdtime>20090513233858</createdtime><firstimage>http://tong.visitkorea.or.kr/cms/resource/19/729219_image2_1.jpg</firstimage><firstimage2>http://tong.visitkorea.or.kr/cms/resource/19/729219_image3_1.jpg</firstimage2><mapx>126.8064363380</mapx><mapy>33.3060923857</mapy><mlevel>6</mlevel><modifiedtime>20220711153137</modifiedtime><readcount>20046</readcount><sigungucode>3</sigungucode><tel>064-787-0300</tel><title>아망뜨펜션(제주)</title><zipcode>63625</zipcode></item><item><addr1>제주특별자치도 서귀포시 태평로 432</addr1><addr2>(서귀동)</addr2><areacode>39</areacode><cat1>B02</cat1><cat2>B0201</cat2><cat3>B02011100</cat3><contentid>2634320</contentid><contenttypeid>32</contenttypeid><createdtime>20191108131500</createdtime><mapx>126.5663918312</mapx><mapy>33.2454341363</mapy><modifiedtime>20200812095956</modifiedtime><readcount>0</readcount><sigungucode>3</sigungucode><title>아인스 호스텔</title><zipcode>63595</zipcode></item><item><addr1>제주특별자치도 서귀포시 색달중앙로 122</addr1><areacode>39</areacode><cat1>B02</cat1><cat2>B0201</cat2><cat3>B02010700</cat3><contentid>985385</contentid><contenttypeid>32</contenttypeid><createdtime>20100325112025</createdtime><firstimage>http://tong.visitkorea.or.kr/cms/resource/42/1933442_image2_1.jpg</firstimage><firstimage2>http://tong.visitkorea.or.kr/cms/resource/42/1933442_image3_1.jpg</firstimage2><mapx>126.4144767725</mapx><mapy>33.2655961758</mapy><mlevel>6</mlevel><modifiedtime>20211027150024</modifiedtime><readcount>16160</readcount><sigungucode>3</sigungucode><tel>064-738-4679</tel><title>아침의향기</title><zipcode>63534</zipcode></item><item><addr1>제주특별자치도 서귀포시 색달로61번길 59-8</addr1><areacode>39</areacode><cat1>B02</cat1><cat2>B0201</cat2><cat3>B02010700</cat3><contentid>733622</contentid><contenttypeid>32</contenttypeid><createdtime>20090513144702</createdtime><firstimage>http://tong.visitkorea.or.kr/cms/resource/38/729238_image2_1.jpg</firstimage><firstimage2>http://tong.visitkorea.or.kr/cms/resource/38/729238_image3_1.jpg</firstimage2><mapx>126.4138213265</mapx><mapy>33.2632769775</mapy><mlevel>6</mlevel><modifiedtime>20211230151810</modifiedtime><readcount>16789</readcount><sigungucode>3</sigungucode><tel>064-739-2727</tel><title>앙끄리에펜션</title><zipcode>63534</zipcode></item><item><addr1>제주특별자치도 제주시 애월읍 애월해안로 298</addr1><areacode>39</areacode><cat1>B02</cat1><cat2>B0201</cat2><cat3>B02010700</cat3><contentid>977101</contentid><contenttypeid>32</contenttypeid><createdtime>20100316160919</createdtime><firstimage>http://tong.visitkorea.or.kr/cms/resource/75/2611075_image2_1.JPG</firstimage><firstimage2>http://tong.visitkorea.or.kr/cms/resource/75/2611075_image2_1.JPG</firstimage2><mapx>126.3416562839</mapx><mapy>33.4705668076</mapy><mlevel>6</mlevel><modifiedtime>20210909161901</modifiedtime><readcount>16185</readcount><sigungucode>4</sigungucode><tel>064-799-1600</tel><title>애월해안누리(구 하얀둥지)</title><zipcode>63046</zipcode></item><item><addr1>제주특별자치도 제주시 서해안로 456-12</addr1><addr2>(용담삼동)</addr2><areacode>39</areacode><cat1>B02</cat1><cat2>B0201</cat2><cat3>B02011100</cat3><contentid>2667498</contentid><contenttypeid>32</contenttypeid><createdtime>20200818111757</createdtime><mapx>126.4891868158</mapx><mapy>33.5184027384</mapy><modifiedtime>20200818112907</modifiedtime><readcount>0</readcount><sigungucode>4</sigungucode><title>에덴호스텔</title><zipcode>63114</zipcode></item><item><addr1>제주특별자치도 제주시 한림읍 귀덕6길 94</addr1><areacode>39</areacode><cat1>B02</cat1><cat2>B0201</cat2><cat3>B02011300</cat3><contentid>2605527</contentid><contenttypeid>32</contenttypeid><createdtime>20190610090920</createdtime><firstimage>http://tong.visitkorea.or.kr/cms/resource/27/2630927_image2_1.jpg</firstimage><firstimage2>http://tong.visitkorea.or.kr/cms/resource/27/2630927_image2_1.jpg</firstimage2><mapx>126.2914864406</mapx><mapy>33.4353143643</mapy><mlevel>6</mlevel><modifiedtime>20211119174137</modifiedtime><readcount>0</readcount><sigungucode>4</sigungucode><tel>064-796-8333</tel><title>에코그린리조트</title><zipcode>63024</zipcode></item><item><addr1>제주특별자치도 제주시 은남1길 4</addr1><addr2>(연동)</addr2><areacode>39</areacode><cat1>B02</cat1><cat2>B0201</cat2><cat3>B02010900</cat3><contentid>2594519</contentid><contenttypeid>32</contenttypeid><createdtime>20190402142835</createdtime><firstimage>http://tong.visitkorea.or.kr/cms/resource/68/2596268_image2_1.jpg</firstimage><firstimage2>http://tong.visitkorea.or.kr/cms/resource/68/2596268_image2_1.jpg</firstimage2><mapx>126.4954619295</mapx><mapy>33.4893032823</mapy><modifiedtime>20201126142600</modifiedtime><readcount>19</readcount><sigungucode>4</sigungucode><tel>064-743-5600</tel><title>엘린호텔 [한국관광 품질인증/Korea Quality]</title><zipcode>63124</zipcode></item><item><addr1>제주특별자치도 제주시 1100로 2671-51</addr1><addr2>(노형동)</addr2><areacode>39</areacode><cat1>B02</cat1><cat2>B0201</cat2><cat3>B02011100</cat3><contentid>2623827</contentid><contenttypeid>32</contenttypeid><createdtime>20191010132922</createdtime><mapx>126.4890611940</mapx><mapy>33.4236160047</mapy><modifiedtime>20201214133137</modifiedtime><readcount>0</readcount><sigungucode>4</sigungucode><title>엠버리조트</title><zipcode>63078</zipcode></item><item><addr1>제주특별자치도 제주시 신광로4길 16</addr1><addr2>(연동)</addr2><areacode>39</areacode><cat1>B02</cat1><cat2>B0201</cat2><cat3>B02011100</cat3><contentid>2623595</contentid><contenttypeid>32</contenttypeid><createdtime>20191008154707</createdtime><mapx>126.4884153260</mapx><mapy>33.4890448657</mapy><modifiedtime>20201214133643</modifiedtime><readcount>0</readcount><sigungucode>4</sigungucode><title>엠제이호텔</title><zipcode>63129</zipcode></item><item><addr1>제주특별자치도 서귀포시 예래해안로 527</addr1><addr2>(상예동)</addr2><areacode>39</areacode><cat1>B02</cat1><cat2>B0201</cat2><cat3>B02010700</cat3><contentid>1348840</contentid><contenttypeid>32</contenttypeid><createdtime>20110803094237</createdtime><firstimage>http://tong.visitkorea.or.kr/cms/resource/62/1933462_image2_1.jpg</firstimage><firstimage2>http://tong.visitkorea.or.kr/cms/resource/62/1933462_image3_1.jpg</firstimage2><mapx>126.4002560434</mapx><mapy>33.2539916775</mapy><mlevel>6</mlevel><modifiedtime>20210610144214</modifiedtime><readcount>38726</readcount><sigungucode>3</sigungucode><tel>010-9744-7768</tel><title>예래펜션</title><zipcode>63536</zipcode></item><item><addr1>제주특별자치도 서귀포시 남원읍 516로 918</addr1><areacode>39</areacode><cat1>B02</cat1><cat2>B0201</cat2><cat3>B02010700</cat3><contentid>662445</contentid><contenttypeid>32</contenttypeid><createdtime>20081205134533</createdtime><firstimage>http://tong.visitkorea.or.kr/cms/resource/43/668043_image2_1.jpg</firstimage><firstimage2>http://tong.visitkorea.or.kr/cms/resource/43/668043_image3_1.jpg</firstimage2><mapx>126.6010592399</mapx><mapy>33.3257535999</mapy><mlevel>6</mlevel><modifiedtime>20211122134720</modifiedtime><readcount>15779</readcount><sigungucode>3</sigungucode><tel>064-767-3746</tel><title>예이츠 산장</title><zipcode>63607</zipcode></item><item><addr1>제주특별자치도 제주시 조천읍 조함해안로 490</addr1><areacode>39</areacode><cat1>B02</cat1><cat2>B0201</cat2><cat3>B02010100</cat3><contentid>143120</contentid><contenttypeid>32</contenttypeid><createdtime>20051010000000</createdtime><mapx>126.6651876330</mapx><mapy>33.5425889847</mapy><mlevel>6</mlevel><modifiedtime>20211214165706</modifiedtime><readcount>27782</readcount><sigungucode>4</sigungucode><tel>064-783-0007</tel><title>오션그랜드호텔제주</title><zipcode>63333</zipcode></item><item><addr1>제주특별자치도 제주시 탑동해안로 74</addr1><areacode>39</areacode><cat1>B02</cat1><cat2>B0201</cat2><cat3>B02010100</cat3><contentid>1403482</contentid><contenttypeid>32</contenttypeid><createdtime>20111014100000</createdtime><mapx>126.5231255322</mapx><mapy>33.5183727266</mapy><mlevel>6</mlevel><modifiedtime>20211230150829</modifiedtime><readcount>22500</readcount><sigungucode>4</sigungucode><tel>1577-9766, 064-720-6000</tel><title>오션스위츠 제주호텔</title><zipcode>63165</zipcode></item><item><addr1>제주특별자치도 서귀포시 안덕면 사계남로216번길 42</addr1><areacode>39</areacode><cat1>B02</cat1><cat2>B0201</cat2><cat3>B02010700</cat3><contentid>971331</contentid><contenttypeid>32</contenttypeid><createdtime>20100311144000</createdtime><firstimage>http://tong.visitkorea.or.kr/cms/resource/99/1620199_image2_1.jpg</firstimage><firstimage2>http://tong.visitkorea.or.kr/cms/resource/99/1620199_image3_1.jpg</firstimage2><mapx>126.3101892850</mapx><mapy>33.2348340441</mapy><mlevel>6</mlevel><modifiedtime>20210728162210</modifiedtime><readcount>16165</readcount><sigungucode>3</sigungucode><tel>010-3693-4541</tel><title>오션하우스</title><zipcode>63528</zipcode></item><item><addr1>제주특별자치도 서귀포시 안덕면 사계북로 208</addr1><areacode>39</areacode><cat1>B02</cat1><cat2>B0201</cat2><cat3>B02011100</cat3><contentid>2626800</contentid><contenttypeid>32</contenttypeid><createdtime>20191017153102</createdtime><mapx>126.3088143604</mapx><mapy>33.2368032498</mapy><modifiedtime>20201214140351</modifiedtime><readcount>0</readcount><sigungucode>3</sigungucode><title>오션힐스테이</title><zipcode>63528</zipcode></item><item><addr1>제주특별자치도 제주시 구좌읍 해맞이해안로 1590-6</addr1><areacode>39</areacode><cat1>B02</cat1><cat2>B0201</cat2><cat3>B02010500</cat3><contentid>2795622</contentid><contenttypeid>32</contenttypeid><createdtime>20211214111619</createdtime><firstimage>http://tong.visitkorea.or.kr/cms/resource/09/2797909_image2_1.JPG</firstimage><firstimage2>http://tong.visitkorea.or.kr/cms/resource/09/2797909_image2_1.JPG</firstimage2><mapx>126.8737643036</mapx><mapy>33.5281189482</mapy><mlevel>6</mlevel><modifiedtime>20211214202012</modifiedtime><readcount>0</readcount><sigungucode>4</sigungucode><title>오투힐리조트</title><zipcode>63362</zipcode></item><item><addr1>제주특별자치도 서귀포시 안덕면 화순중앙로124번길 75</addr1><areacode>39</areacode><cat1>B02</cat1><cat2>B0201</cat2><cat3>B02010400</cat3><contentid>1891566</contentid><contenttypeid>32</contenttypeid><createdtime>20140205165701</createdtime><mapx>126.3278570231</mapx><mapy>33.2426334601</mapy><mlevel>6</mlevel><modifiedtime>20211029153218</modifiedtime><readcount>5875</readcount><sigungucode>3</sigungucode><tel>064-794-7007</tel><title>와이리조트 제주(Y RESORT JJ)</title><zipcode>63530</zipcode></item><item><addr1>제주특별자치도 서귀포시 이어도로 297</addr1><addr2>(하원동)</addr2><areacode>39</areacode><cat1>B02</cat1><cat2>B0201</cat2><cat3>B02010600</cat3><contentid>2498637</contentid><contenttypeid>32</contenttypeid><createdtime>20170704000832</createdtime><firstimage>http://tong.visitkorea.or.kr/cms/resource/05/2498605_image2_1.jpg</firstimage><firstimage2>http://tong.visitkorea.or.kr/cms/resource/05/2498605_image2_1.jpg</firstimage2><mapx>126.4509463268</mapx><mapy>33.2434491956</mapy><mlevel>6</mlevel><modifiedtime>20220519175831</modifiedtime><readcount>3198</readcount><sigungucode>3</sigungucode><tel>064-738-9502~4</tel><title>용산 제주유스호스텔</title><zipcode>63542</zipcode></item><item><addr1>제주특별자치도 제주시 애월읍 광령평화2길 116-12</addr1><areacode>39</areacode><cat1>B02</cat1><cat2>B0201</cat2><cat3>B02010600</cat3><contentid>1895925</contentid><contenttypeid>32</contenttypeid><createdtime>20140218145236</createdtime><mapx>126.4321991994</mapx><mapy>33.4355387839</mapy><mlevel>6</mlevel><modifiedtime>20211214181334</modifiedtime><readcount>6131</readcount><sigungucode>4</sigungucode><tel>064-799-7759</tel><title>월드와이드 유스호스텔</title><zipcode>63064</zipcode></item><item><addr1>제주특별자치도 서귀포시 천제연로 113</addr1><areacode>39</areacode><cat1>B02</cat1><cat2>B0201</cat2><cat3>B02010700</cat3><contentid>138935</contentid><contenttypeid>32</contenttypeid><createdtime>20061201000000</createdtime><firstimage>http://tong.visitkorea.or.kr/cms/resource/81/1933481_image2_1.jpg</firstimage><firstimage2>http://tong.visitkorea.or.kr/cms/resource/81/1933481_image3_1.jpg</firstimage2><mapx>126.4179350411</mapx><mapy>33.2550779472</mapy><mlevel>6</mlevel><modifiedtime>20211213162119</modifiedtime><readcount>20827</readcount><sigungucode>3</sigungucode><tel>064-738-0452</tel><title>이어도성 펜션</title><zipcode>63534</zipcode></item><item><addr1>제주특별자치도 서귀포시 중산간서로 935</addr1><areacode>39</areacode><cat1>B02</cat1><cat2>B0201</cat2><cat3>B02010900</cat3><contentid>2382246</contentid><contenttypeid>32</contenttypeid><createdtime>20160503100036</createdtime><firstimage>http://tong.visitkorea.or.kr/cms/resource/00/2382200_image2_1.jpg</firstimage><firstimage2>http://tong.visitkorea.or.kr/cms/resource/00/2382200_image2_1.jpg</firstimage2><mapx>126.4165182808</mapx><mapy>33.2647796319</mapy><mlevel>6</mlevel><modifiedtime>20210812162138</modifiedtime><readcount>1967</readcount><sigungucode>3</sigungucode><tel>064-739-5200</tel><title>제이뷰호텔</title><zipcode>63534</zipcode></item><item><addr1>제주특별자치도 서귀포시 중문관광로 17</addr1><areacode>39</areacode><cat1>B02</cat1><cat2>B0201</cat2><cat3>B02010700</cat3><contentid>139855</contentid><contenttypeid>32</contenttypeid><createdtime>20070731090000</createdtime><firstimage>http://tong.visitkorea.or.kr/cms/resource/73/1933173_image2_1.jpg</firstimage><firstimage2>http://tong.visitkorea.or.kr/cms/resource/73/1933173_image3_1.jpg</firstimage2><mapx>126.4152741309</mapx><mapy>33.2564194240</mapy><mlevel>6</mlevel><modifiedtime>20220615170800</modifiedtime><readcount>20675</readcount><sigungucode>3</sigungucode><tel>064-739-9994</tel><title>제주 그랑빌펜션</title><zipcode>63534</zipcode></item><item><addr1>제주특별자치도 제주시 한림읍 협재로 210-18</addr1><areacode>39</areacode><cat1>B02</cat1><cat2>B0201</cat2><cat3>B02010500</cat3><contentid>137814</contentid><contenttypeid>32</contenttypeid><createdtime>20030619090000</createdtime><firstimage>http://tong.visitkorea.or.kr/cms/resource/65/1341265_image2_1.jpg</firstimage><firstimage2>http://tong.visitkorea.or.kr/cms/resource/65/1341265_image3_1.jpg</firstimage2><mapx>126.2502662709</mapx><mapy>33.3795865508</mapy><mlevel>6</mlevel><modifiedtime>20220615163735</modifiedtime><readcount>38909</readcount><sigungucode>4</sigungucode><tel>064-795-7800</tel><title>제주 금강산콘도</title><zipcode>63015</zipcode></item><item><addr1>제주특별자치도 제주시 애월읍 고내로13길 59</addr1><areacode>39</areacode><cat1>B02</cat1><cat2>B0201</cat2><cat3>B02010700</cat3><contentid>905600</contentid><contenttypeid>32</contenttypeid><createdtime>20091224183224</createdtime><mapx>126.3455948543</mapx><mapy>33.4694947659</mapy><mlevel>6</mlevel><modifiedtime>20220325133341</modifiedtime><readcount>21957</readcount><sigungucode>4</sigungucode><tel>064-799-0797</tel><title>제주 뉴오션리조트</title><zipcode>63046</zipcode></item><item><addr1>제주특별자치도 서귀포시 칠십리로 332</addr1><areacode>39</areacode><cat1>B02</cat1><cat2>B0201</cat2><cat3>B02010700</cat3><contentid>139854</contentid><contenttypeid>32</contenttypeid><createdtime>20070731090000</createdtime><firstimage>http://tong.visitkorea.or.kr/cms/resource/17/1933517_image2_1.jpg</firstimage><firstimage2>http://tong.visitkorea.or.kr/cms/resource/17/1933517_image3_1.jpg</firstimage2><mapx>126.5872538945</mapx><mapy>33.2462316012</mapy><mlevel>6</mlevel><modifiedtime>20220722143309</modifiedtime><readcount>21643</readcount><sigungucode>3</sigungucode><tel>064-767-3888</tel><title>제주 라임오렌지빌</title><zipcode>63599</zipcode></item><item><addr1>제주특별자치도 제주시 신대로 45 (연동)</addr1><areacode>39</areacode><cat1>B02</cat1><cat2>B0201</cat2><cat3>B02010100</cat3><contentid>142969</contentid><contenttypeid>32</contenttypeid><createdtime>20030806090000</createdtime><mapx>126.4972255743</mapx><mapy>33.4933334199</mapy><mlevel>7</mlevel><modifiedtime>20220722161948</modifiedtime><readcount>29897</readcount><sigungucode>4</sigungucode><tel>064-746-6161</tel><title>제주 마리나</title><zipcode>63119</zipcode></item><item><addr1>제주특별자치도 제주시 원노형3길 41</addr1><addr2>(노형동)</addr2><areacode>39</areacode><cat1>B02</cat1><cat2>B0201</cat2><cat3>B02010900</cat3><contentid>1932636</contentid><contenttypeid>32</contenttypeid><createdtime>20140708132958</createdtime><firstimage>http://tong.visitkorea.or.kr/cms/resource/31/2688231_image2_1.jpg</firstimage><firstimage2>http://tong.visitkorea.or.kr/cms/resource/31/2688231_image3_1.jpg</firstimage2><mapx>126.4817437410</mapx><mapy>33.4865255939</mapy><modifiedtime>20201203111112</modifiedtime><readcount>10223</readcount><sigungucode>4</sigungucode><tel>064-745-6775</tel><title>제주 메이플호텔 [한국관광 품질인증/Korea Quality]</title><zipcode>63081</zipcode></item><item><addr1>제주특별자치도 제주시 한림읍 한창로 925-122</addr1><areacode>39</areacode><cat1>B02</cat1><cat2>B0201</cat2><cat3>B02010100</cat3><contentid>984523</contentid><contenttypeid>32</contenttypeid><createdtime>20100324110308</createdtime><mapx>126.3124118005</mapx><mapy>33.3377949264</mapy><mlevel>6</mlevel><modifiedtime>20211125172607</modifiedtime><readcount>26080</readcount><sigungucode>4</sigungucode><tel>064-795-2121</tel><title>제주 블랙스톤 호텔</title><zipcode>63020</zipcode></item><item><addr1>제주특별자치도 서귀포시 중문관광로72번길 67</addr1><areacode>39</areacode><cat1>B02</cat1><cat2>B0201</cat2><cat3>B02010100</cat3><contentid>142713</contentid><contenttypeid>32</contenttypeid><createdtime>20030313090000</createdtime><firstimage>http://tong.visitkorea.or.kr/cms/resource/64/1339564_image2_1.jpg</firstimage><firstimage2>http://tong.visitkorea.or.kr/cms/resource/64/1339564_image3_1.jpg</firstimage2><mapx>126.4083582278</mapx><mapy>33.2490784581</mapy><mlevel>6</mlevel><modifiedtime>20220526143342</modifiedtime><readcount>36347</readcount><sigungucode>3</sigungucode><tel>064-738-3800</tel><title>제주 스위트호텔</title><zipcode>63535</zipcode></item><item><addr1>제주특별자치도 서귀포시 예래해안로 15</addr1><areacode>39</areacode><cat1>B02</cat1><cat2>B0201</cat2><cat3>B02010100</cat3><contentid>2552837</contentid><contenttypeid>32</contenttypeid><createdtime>20180705154456</createdtime><firstimage>http://tong.visitkorea.or.kr/cms/resource/95/2552795_image2_1.jpg</firstimage><firstimage2>http://tong.visitkorea.or.kr/cms/resource/95/2552795_image2_1.jpg</firstimage2><mapx>126.3699424490</mapx><mapy>33.2341295039</mapy><mlevel>6</mlevel><modifiedtime>20211215144421</modifiedtime><readcount>1228</readcount><sigungucode>3</sigungucode><tel>064-738-1551</tel><title>제주 스카브로호텔</title><zipcode>63538</zipcode></item><item><addr1>제주특별자치도 서귀포시 안덕면 평화로319번길 133</addr1><areacode>39</areacode><cat1>B02</cat1><cat2>B0201</cat2><cat3>B02010700</cat3><contentid>137790</contentid><contenttypeid>32</contenttypeid><createdtime>20030620090000</createdtime><mapx>126.3143490497</mapx><mapy>33.2791736570</mapy><mlevel>6</mlevel><modifiedtime>20220701154022</modifiedtime><readcount>26334</readcount><sigungucode>3</sigungucode><tel>010-9894-6411</tel><title>제주 신신휴양펜션</title><zipcode>63527</zipcode></item><item><addr1>제주특별자치도 서귀포시 대포로 131</addr1><areacode>39</areacode><cat1>B02</cat1><cat2>B0201</cat2><cat3>B02010700</cat3><contentid>733594</contentid><contenttypeid>32</contenttypeid><createdtime>20090513143200</createdtime><firstimage>http://tong.visitkorea.or.kr/cms/resource/10/1933710_image2_1.jpg</firstimage><firstimage2>http://tong.visitkorea.or.kr/cms/resource/10/1933710_image3_1.jpg</firstimage2><mapx>126.4358310559</mapx><mapy>33.2396299343</mapy><mlevel>6</mlevel><modifiedtime>20211008155912</modifiedtime><readcount>19991</readcount><sigungucode>3</sigungucode><tel>010-3808-5204</tel><title>제주 써니데이</title><zipcode>63544</zipcode></item><item><addr1>제주특별자치도 제주시 조천읍 신흥관전길 89-5</addr1><areacode>39</areacode><cat1>B02</cat1><cat2>B0201</cat2><cat3>B02010700</cat3><contentid>906173</contentid><contenttypeid>32</contenttypeid><createdtime>20091224233902</createdtime><mapx>126.6472029558</mapx><mapy>33.5482352937</mapy><mlevel>6</mlevel><modifiedtime>20220715092004</modifiedtime><readcount>1708</readcount><sigungucode>4</sigungucode><tel>064-782-4888~9</tel><title>제주 씨에코비치</title><zipcode>63332</zipcode></item><item><addr1>제주특별자치도 제주시 탑동로 47</addr1><areacode>39</areacode><cat1>B02</cat1><cat2>B0201</cat2><cat3>B02010100</cat3><contentid>142972</contentid><contenttypeid>32</contenttypeid><createdtime>20031222000000</createdtime><firstimage>http://tong.visitkorea.or.kr/cms/resource/27/1339827_image2_1.jpg</firstimage><firstimage2>http://tong.visitkorea.or.kr/cms/resource/27/1339827_image3_1.jpg</firstimage2><mapx>126.5198091709</mapx><mapy>33.5176172015</mapy><mlevel>6</mlevel><modifiedtime>20211029152517</modifiedtime><readcount>27149</readcount><sigungucode>4</sigungucode><tel>064-752-8222</tel><title>제주 오리엔탈호텔</title><zipcode>63166</zipcode></item><item><addr1>제주특별자치도 서귀포시 이어도로 150</addr1><areacode>39</areacode><cat1>B02</cat1><cat2>B0201</cat2><cat3>B02010700</cat3><contentid>733799</contentid><contenttypeid>32</contenttypeid><createdtime>20090513161141</createdtime><firstimage>http://tong.visitkorea.or.kr/cms/resource/52/1933752_image2_1.jpg</firstimage><firstimage2>http://tong.visitkorea.or.kr/cms/resource/52/1933752_image3_1.jpg</firstimage2><mapx>126.4382447306</mapx><mapy>33.2398521701</mapy><mlevel>6</mlevel><modifiedtime>20211012152029</modifiedtime><readcount>16674</readcount><sigungucode>3</sigungucode><tel>064-738-5353</tel><title>제주 지삿개풍경</title><zipcode>63544</zipcode></item><item><addr1>제주특별자치도 서귀포시 태평로92번길 21</addr1><areacode>39</areacode><cat1>B02</cat1><cat2>B0201</cat2><cat3>B02010700</cat3><contentid>904802</contentid><contenttypeid>32</contenttypeid><createdtime>20091223192724</createdtime><firstimage>http://tong.visitkorea.or.kr/cms/resource/56/1933756_image2_1.jpg</firstimage><firstimage2>http://tong.visitkorea.or.kr/cms/resource/56/1933756_image3_1.jpg</firstimage2><mapx>126.5322643008</mapx><mapy>33.2424061513</mapy><mlevel>6</mlevel><modifiedtime>20220623102856</modifiedtime><readcount>20230</readcount><sigungucode>3</sigungucode><tel>064-739-7999</tel><title>제주 추억여행</title><zipcode>63571</zipcode></item><item><addr1>제주특별자치도 제주시 중앙로 151</addr1><areacode>39</areacode><cat1>B02</cat1><cat2>B0201</cat2><cat3>B02010100</cat3><contentid>142966</contentid><contenttypeid>32</contenttypeid><createdtime>20060619000000</createdtime><firstimage>http://tong.visitkorea.or.kr/cms/resource/79/1182379_image2_1.jpg</firstimage><firstimage2>http://tong.visitkorea.or.kr/cms/resource/79/1182379_image3_1.jpg</firstimage2><mapx>126.5264921949</mapx><mapy>33.5056519667</mapy><mlevel>6</mlevel><modifiedtime>20211001134944</modifiedtime><readcount>30724</readcount><sigungucode>4</sigungucode><tel>064-724-2001</tel><title>제주 칼 호텔</title><zipcode>63194</zipcode></item><item><addr1>제주특별자치도 서귀포시 안덕면 평화로 1241</addr1><areacode>39</areacode><cat1>B02</cat1><cat2>B0201</cat2><cat3>B02010500</cat3><contentid>983936</contentid><contenttypeid>32</contenttypeid><createdtime>20100323153649</createdtime><mapx>126.3487280773</mapx><mapy>33.3383704340</mapy><mlevel>6</mlevel><modifiedtime>20210702173616</modifiedtime><readcount>21025</readcount><sigungucode>3</sigungucode><tel>064-793-6630</tel><title>제주 캐슬렉스 골프텔</title><zipcode>63523</zipcode></item><item><addr1>제주특별자치도 제주시 서사로 20</addr1><areacode>39</areacode><cat1>B02</cat1><cat2>B0201</cat2><cat3>B02010100</cat3><contentid>142943</contentid><contenttypeid>32</contenttypeid><createdtime>20040428000000</createdtime><mapx>126.5188732984</mapx><mapy>33.5106929538</mapy><mlevel>6</mlevel><modifiedtime>20211222093422</modifiedtime><readcount>24186</readcount><sigungucode>4</sigungucode><tel>064-758-2500</tel><title>제주 퍼시픽 호텔</title><zipcode>63154</zipcode></item><item><addr1>제주특별자치도 제주시 신대로20길 49</addr1><addr2>(연동)</addr2><areacode>39</areacode><cat1>B02</cat1><cat2>B0201</cat2><cat3>B02010100</cat3><contentid>142976</contentid><contenttypeid>32</contenttypeid><createdtime>20031223000000</createdtime><firstimage>http://tong.visitkorea.or.kr/cms/resource/82/1933782_image2_1.jpg</firstimage><firstimage2>http://tong.visitkorea.or.kr/cms/resource/82/1933782_image3_1.jpg</firstimage2><mapx>126.4908985676</mapx><mapy>33.4835927304</mapy><mlevel>6</mlevel><modifiedtime>20210914161231</modifiedtime><readcount>20588</readcount><sigungucode>4</sigungucode><tel>064-742-8871</tel><title>제주 펄 관광호텔</title><zipcode>63136</zipcode></item><item><addr1>제주특별자치도 서귀포시 칠십리로285번길 3</addr1><areacode>39</areacode><cat1>B02</cat1><cat2>B0201</cat2><cat3>B02010700</cat3><contentid>978165</contentid><contenttypeid>32</contenttypeid><createdtime>20100317225305</createdtime><mapx>126.5835097210</mapx><mapy>33.2486146127</mapy><mlevel>6</mlevel><modifiedtime>20220715171322</modifiedtime><readcount>17461</readcount><sigungucode>3</sigungucode><tel>064-732-5222</tel><title>제주 펜션 포시즌(Fourseason)</title><zipcode>63598</zipcode></item><item><addr1>제주특별자치도 서귀포시 이어도로 244</addr1><addr2>(대포동)</addr2><areacode>39</areacode><cat1>B02</cat1><cat2>B0201</cat2><cat3>B02010700</cat3><contentid>733784</contentid><contenttypeid>32</contenttypeid><createdtime>20090513160424</createdtime><firstimage>http://tong.visitkorea.or.kr/cms/resource/21/733221_image2_1.jpg</firstimage><firstimage2>http://tong.visitkorea.or.kr/cms/resource/21/733221_image3_1.jpg</firstimage2><mapx>126.4452190707</mapx><mapy>33.2423075649</mapy><mlevel>6</mlevel><modifiedtime>20211126113120</modifiedtime><readcount>17016</readcount><sigungucode>3</sigungucode><tel>064-738-1944</tel><title>제주 하이랜드 펜션</title><zipcode>63543</zipcode></item><item><addr1>제주특별자치도 제주시 신대로12길 45</addr1><areacode>39</areacode><cat1>B02</cat1><cat2>B0201</cat2><cat3>B02010100</cat3><contentid>142968</contentid><contenttypeid>32</contenttypeid><createdtime>20030806090000</createdtime><firstimage>http://tong.visitkorea.or.kr/cms/resource/88/1339888_image2_1.jpg</firstimage><firstimage2>http://tong.visitkorea.or.kr/cms/resource/88/1339888_image3_1.jpg</firstimage2><mapx>126.4916706108</mapx><mapy>33.4885171979</mapy><mlevel>6</mlevel><modifiedtime>20220517144901</modifiedtime><readcount>32049</readcount><sigungucode>4</sigungucode><tel>064-743-2222</tel><title>제주로얄호텔</title><zipcode>63124</zipcode></item><item><addr1>제주특별자치도 제주시 한림읍 금능9길 10-1</addr1><areacode>39</areacode><cat1>B02</cat1><cat2>B0201</cat2><cat3>B02010700</cat3><contentid>2556500</contentid><contenttypeid>32</contenttypeid><createdtime>20180806102621</createdtime><firstimage>http://tong.visitkorea.or.kr/cms/resource/79/2556479_image2_1.JPG</firstimage><firstimage2>http://tong.visitkorea.or.kr/cms/resource/79/2556479_image2_1.JPG</firstimage2><mapx>126.2303650085</mapx><mapy>33.3892546129</mapy><mlevel>6</mlevel><modifiedtime>20211213140122</modifiedtime><readcount>1120</readcount><sigungucode>4</sigungucode><tel>010-8326-9116</tel><title>제주마중</title><zipcode>63010</zipcode></item><item><addr1>제주특별자치도 제주시 구좌읍 일주동로 1626</addr1><areacode>39</areacode><cat1>B02</cat1><cat2>B0201</cat2><cat3>B02010100</cat3><contentid>1892199</contentid><contenttypeid>32</contenttypeid><createdtime>20140207170707</createdtime><mapx>126.7066671474</mapx><mapy>33.5519913876</mapy><mlevel>6</mlevel><modifiedtime>20211026145850</modifiedtime><readcount>6911</readcount><sigungucode>4</sigungucode><tel>064-766-8888</tel><title>제주메이더호텔</title><zipcode>63347</zipcode></item><item><addr1>제주특별자치도 서귀포시 남원읍 태위로 485</addr1><areacode>39</areacode><cat1>B02</cat1><cat2>B0201</cat2><cat3>B02010700</cat3><contentid>138602</contentid><contenttypeid>32</contenttypeid><createdtime>20050523000000</createdtime><firstimage>http://tong.visitkorea.or.kr/cms/resource/26/1619926_image2_1.jpg</firstimage><firstimage2>http://tong.visitkorea.or.kr/cms/resource/26/1619926_image3_1.jpg</firstimage2><mapx>126.6994240677</mapx><mapy>33.2758134570</mapy><mlevel>6</mlevel><modifiedtime>20211014153729</modifiedtime><readcount>16900</readcount><sigungucode>3</sigungucode><tel>064-702-4334</tel><title>제주목화휴양펜션</title><zipcode>63620</zipcode></item><item><addr1>제주특별자치도 서귀포시 남원읍 남태해안로 11-14</addr1><areacode>39</areacode><cat1>B02</cat1><cat2>B0201</cat2><cat3>B02010700</cat3><contentid>733684</contentid><contenttypeid>32</contenttypeid><createdtime>20090513152413</createdtime><firstimage>http://tong.visitkorea.or.kr/cms/resource/11/729311_image2_1.jpg</firstimage><firstimage2>http://tong.visitkorea.or.kr/cms/resource/11/729311_image3_1.jpg</firstimage2><mapx>126.7104397927</mapx><mapy>33.2752664712</mapy><mlevel>6</mlevel><modifiedtime>20210630142913</modifiedtime><readcount>21353</readcount><sigungucode>3</sigungucode><tel>064-764-9955</tel><title>제주바다산책</title><zipcode>63621</zipcode></item><item><addr1>제주특별자치도 서귀포시 대정읍 형제해안로 254</addr1><areacode>39</areacode><cat1>B02</cat1><cat2>B0201</cat2><cat3>B02010700</cat3><contentid>978128</contentid><contenttypeid>32</contenttypeid><createdtime>20100317134104</createdtime><firstimage>http://tong.visitkorea.or.kr/cms/resource/37/1933537_image2_1.jpg</firstimage><firstimage2>http://tong.visitkorea.or.kr/cms/resource/37/1933537_image3_1.jpg</firstimage2><mapx>126.2921080208</mapx><mapy>33.2122556976</mapy><mlevel>6</mlevel><modifiedtime>20210720173007</modifiedtime><readcount>17214</readcount><sigungucode>3</sigungucode><tel>064-794-0977</tel><title>제주바닷가하우스</title><zipcode>63512</zipcode></item><item><addr1>제주특별자치도 서귀포시 태평로 121</addr1><addr2>(호근동)</addr2><areacode>39</areacode><cat1>B02</cat1><cat2>B0201</cat2><cat3>B02011100</cat3><contentid>2627965</contentid><contenttypeid>32</contenttypeid><createdtime>20191021134237</createdtime><mapx>126.5357833901</mapx><mapy>33.2446420718</mapy><modifiedtime>20201221150314</modifiedtime><readcount>0</readcount><sigungucode>3</sigungucode><title>제주브릭스</title><zipcode>63571</zipcode></item><item><addr1>제주특별자치도 서귀포시 표선면 세성로 352-32</addr1><areacode>39</areacode><cat1>B02</cat1><cat2>B0201</cat2><cat3>B02010700</cat3><contentid>2622746</contentid><contenttypeid>32</contenttypeid><createdtime>20191004093213</createdtime><mapx>126.7983085931</mapx><mapy>33.3355390062</mapy><modifiedtime>20200331105917</modifiedtime><readcount>0</readcount><sigungucode>3</sigungucode><tel>010-5346-3039</tel><title>제주스카이휴양펜션</title><zipcode>63625</zipcode></item><item><addr1>제주특별자치도 서귀포시 중문관광로72번길 75</addr1><areacode>39</areacode><cat1>B02</cat1><cat2>B0201</cat2><cat3>B02010100</cat3><contentid>142946</contentid><contenttypeid>32</contenttypeid><createdtime>20031219090000</createdtime><mapx>126.4087304418</mapx><mapy>33.2480035829</mapy><mlevel>6</mlevel><modifiedtime>20220525140535</modifiedtime><readcount>25391</readcount><sigungucode>3</sigungucode><tel>064-735-5114</tel><title>제주신라호텔</title><zipcode>63535</zipcode></item><item><addr1>제주특별자치도 서귀포시 성산읍 한도로 49</addr1><areacode>39</areacode><cat1>B02</cat1><cat2>B0201</cat2><cat3>B02010700</cat3><contentid>978214</contentid><contenttypeid>32</contenttypeid><createdtime>20100317141358</createdtime><firstimage>http://tong.visitkorea.or.kr/cms/resource/27/1933427_image2_1.jpg</firstimage><firstimage2>http://tong.visitkorea.or.kr/cms/resource/27/1933427_image3_1.jpg</firstimage2><mapx>126.9133678229</mapx><mapy>33.4675235107</mapy><mlevel>6</mlevel><modifiedtime>20211216173438</modifiedtime><readcount>16499</readcount><sigungucode>3</sigungucode><tel>064-782-2277</tel><title>제주썬레이크빌</title><zipcode>63639</zipcode></item><item><addr1>제주특별자치도 서귀포시 산록남로 1966-34</addr1><addr2>(영남동)</addr2><areacode>39</areacode><cat1>B02</cat1><cat2>B0201</cat2><cat3>B02010500</cat3><contentid>2766752</contentid><contenttypeid>32</contenttypeid><createdtime>20211102141008</createdtime><firstimage>http://tong.visitkorea.or.kr/cms/resource/77/2767077_image2_1.jpg</firstimage><firstimage2>http://tong.visitkorea.or.kr/cms/resource/77/2767077_image2_1.jpg</firstimage2><mapx>126.4961302821</mapx><mapy>33.2888060141</mapy><mlevel>6</mlevel><modifiedtime>20211102162005</modifiedtime><readcount>0</readcount><sigungucode>3</sigungucode><title>제주아이브리조트</title><zipcode>63556</zipcode></item><item><addr1>제주특별자치도 제주시 서광로14길 5</addr1><addr2>(삼도일동)</addr2><areacode>39</areacode><cat1>B02</cat1><cat2>B0201</cat2><cat3>B02010900</cat3><contentid>2019719</contentid><contenttypeid>32</contenttypeid><createdtime>20150720181259</createdtime><firstimage>http://tong.visitkorea.or.kr/cms/resource/07/2019707_image2_1.JPG</firstimage><firstimage2>http://tong.visitkorea.or.kr/cms/resource/07/2019707_image2_1.JPG</firstimage2><mapx>126.5179652997</mapx><mapy>33.4994275200</mapy><mlevel>6</mlevel><modifiedtime>20201126164021</modifiedtime><readcount>6937</readcount><sigungucode>4</sigungucode><tel>064-757-7734</tel><title>제주알(R)호텔 [한국관광 품질인증/Korea Quality]</title><zipcode>63185</zipcode></item><item><addr1>제주특별자치도 서귀포시 성산읍 일주동로 5047</addr1><areacode>39</areacode><cat1>B02</cat1><cat2>B0201</cat2><cat3>B02010700</cat3><contentid>232284</contentid><contenttypeid>32</contenttypeid><createdtime>20070912000000</createdtime><mapx>126.8801642580</mapx><mapy>33.3852209524</mapy><mlevel>6</mlevel><modifiedtime>20211231130703</modifiedtime><readcount>27902</readcount><sigungucode>3</sigungucode><tel>010-3668-3045</tel><title>제주애 펜션</title><zipcode>63634</zipcode></item><item><addr1>제주특별자치도 서귀포시 중문상로 207-13</addr1><addr2>(중문동)</addr2><areacode>39</areacode><cat1>B02</cat1><cat2>B0201</cat2><cat3>B02010900</cat3><contentid>2637830</contentid><contenttypeid>32</contenttypeid><createdtime>20191120144050</createdtime><firstimage>http://tong.visitkorea.or.kr/cms/resource/07/2640007_image2_1.jpg</firstimage><firstimage2>http://tong.visitkorea.or.kr/cms/resource/07/2640007_image3_1.jpg</firstimage2><mapx>126.4277589586</mapx><mapy>33.2654158502</mapy><modifiedtime>20210520155500</modifiedtime><readcount>11</readcount><sigungucode>3</sigungucode><tel>064-738-9975</tel><title>제주에코스위츠[한국관광 품질인증/Korea Quality]</title><zipcode>63550</zipcode></item><item><addr1>제주특별자치도 서귀포시 중앙로 14</addr1><addr2>(서귀동)</addr2><areacode>39</areacode><cat1>B02</cat1><cat2>B0201</cat2><cat3>B02010100</cat3><contentid>1846473</contentid><contenttypeid>32</contenttypeid><createdtime>20130924170249</createdtime><mapx>126.5623255050</mapx><mapy>33.2459756789</mapy><mlevel>6</mlevel><modifiedtime>20210720153941</modifiedtime><readcount>9763</readcount><sigungucode>3</sigungucode><title>제주오션팰리스호텔</title><zipcode>63595</zipcode></item><item><addr1>제주특별자치도 제주시 구좌읍 덕행로 450-23</addr1><areacode>39</areacode><cat1>B02</cat1><cat2>B0201</cat2><cat3>B02010700</cat3><contentid>1821483</contentid><contenttypeid>32</contenttypeid><createdtime>20130620020530</createdtime><mapx>126.7784506914</mapx><mapy>33.5133329329</mapy><mlevel>6</mlevel><modifiedtime>20220706161955</modifiedtime><readcount>8354</readcount><sigungucode>4</sigungucode><tel>064-783-1152</tel><title>제주올레하우스</title><zipcode>63349</zipcode></item><item><addr1>제주특별자치도 서귀포시 남원읍 태위로 604-13</addr1><areacode>39</areacode><cat1>B02</cat1><cat2>B0201</cat2><cat3>B02010700</cat3><contentid>750434</contentid><contenttypeid>32</contenttypeid><createdtime>20090609142554</createdtime><firstimage>http://tong.visitkorea.or.kr/cms/resource/31/1933731_image2_1.jpg</firstimage><firstimage2>http://tong.visitkorea.or.kr/cms/resource/31/1933731_image3_1.jpg</firstimage2><mapx>126.7123257163</mapx><mapy>33.2763469375</mapy><mlevel>6</mlevel><modifiedtime>20211220170928</modifiedtime><readcount>15862</readcount><sigungucode>3</sigungucode><tel>064-764-0505</tel><title>제주올리브</title><zipcode>63621</zipcode></item><item><addr1>제주특별자치도 서귀포시 일주서로 166-61</addr1><areacode>39</areacode><cat1>B02</cat1><cat2>B0201</cat2><cat3>B02010700</cat3><contentid>139965</contentid><contenttypeid>32</contenttypeid><createdtime>20070827090000</createdtime><firstimage>http://tong.visitkorea.or.kr/cms/resource/76/2438176_image2_1.jpg</firstimage><firstimage2>http://tong.visitkorea.or.kr/cms/resource/76/2438176_image2_1.jpg</firstimage2><mapx>126.4901454413</mapx><mapy>33.2552762873</mapy><mlevel>6</mlevel><modifiedtime>20220617133502</modifiedtime><readcount>63779</readcount><sigungucode>3</sigungucode><tel>064-738-4450&lt;br /&gt;064-738-4460</tel><title>제주이도펜션(구 제주펜트하우스)</title><zipcode>63558</zipcode></item><item><addr1>제주특별자치도 서귀포시 학수암로 111</addr1><areacode>39</areacode><cat1>B02</cat1><cat2>B0201</cat2><cat3>B02010700</cat3><contentid>1880892</contentid><contenttypeid>32</contenttypeid><createdtime>20140104001649</createdtime><mapx>126.5281279167</mapx><mapy>33.2705390928</mapy><mlevel>6</mlevel><modifiedtime>20220722171408</modifiedtime><readcount>4229</readcount><sigungucode>3</sigungucode><tel>064-739-7739</tel><title>제주카사블랑카</title><zipcode>63575</zipcode></item><item><addr1>제주특별자치도 서귀포시 태평로92번길 36</addr1><areacode>39</areacode><cat1>B02</cat1><cat2>B0201</cat2><cat3>B02010700</cat3><contentid>138680</contentid><contenttypeid>32</contenttypeid><createdtime>20070914000000</createdtime><firstimage>http://tong.visitkorea.or.kr/cms/resource/60/1933760_image2_1.jpg</firstimage><firstimage2>http://tong.visitkorea.or.kr/cms/resource/60/1933760_image3_1.jpg</firstimage2><mapx>126.5312505263</mapx><mapy>33.2412257100</mapy><mlevel>6</mlevel><modifiedtime>20211210102645</modifiedtime><readcount>28160</readcount><sigungucode>3</sigungucode><tel>064-739-6780</tel><title>제주캐슬펜션</title><zipcode>63571</zipcode></item><item><addr1>제주특별자치도 제주시 탑동로 9</addr1><areacode>39</areacode><cat1>B02</cat1><cat2>B0201</cat2><cat3>B02010100</cat3><contentid>142970</contentid><contenttypeid>32</contenttypeid><createdtime>20030806090000</createdtime><mapx>126.5236949603</mapx><mapy>33.5169062318</mapy><mlevel>6</mlevel><modifiedtime>20220516170145</modifiedtime><readcount>28575</readcount><sigungucode>4</sigungucode><tel>064-753-8811</tel><title>제주팔레스호텔</title><zipcode>63166</zipcode></item><item><addr1>제주특별자치도 서귀포시 칠십리로394번길 8-3</addr1><areacode>39</areacode><cat1>B02</cat1><cat2>B0201</cat2><cat3>B02010700</cat3><contentid>980356</contentid><contenttypeid>32</contenttypeid><createdtime>20100318163843</createdtime><firstimage>http://tong.visitkorea.or.kr/cms/resource/83/1933783_image2_1.jpg</firstimage><firstimage2>http://tong.visitkorea.or.kr/cms/resource/83/1933783_image3_1.jpg</firstimage2><mapx>126.5932117670</mapx><mapy>33.2437569688</mapy><mlevel>6</mlevel><modifiedtime>20211108172910</modifiedtime><readcount>16418</readcount><sigungucode>3</sigungucode><tel>064-733-5799</tel><title>제주펜션 향림원</title><zipcode>63599</zipcode></item><item><addr1>제주특별자치도 서귀포시 안덕면 사계남로 89</addr1><areacode>39</areacode><cat1>B02</cat1><cat2>B0201</cat2><cat3>B02010700</cat3><contentid>138588</contentid><contenttypeid>32</contenttypeid><createdtime>20070913090000</createdtime><mapx>126.2995348205</mapx><mapy>33.2273263730</mapy><mlevel>6</mlevel><modifiedtime>20220715141758</modifiedtime><readcount>25437</readcount><sigungucode>3</sigungucode><tel>064-794-1886</tel><title>제주해안휴양펜션</title><zipcode>63528</zipcode></item><item><addr1>제주특별자치도 서귀포시 색달로61번길 57</addr1><areacode>39</areacode><cat1>B02</cat1><cat2>B0201</cat2><cat3>B02010700</cat3><contentid>397811</contentid><contenttypeid>32</contenttypeid><createdtime>20080119030642</createdtime><firstimage>http://tong.visitkorea.or.kr/cms/resource/95/1933795_image2_1.jpg</firstimage><firstimage2>http://tong.visitkorea.or.kr/cms/resource/95/1933795_image3_1.jpg</firstimage2><mapx>126.4139241043</mapx><mapy>33.2628631355</mapy><mlevel>6</mlevel><modifiedtime>20220623110544</modifiedtime><readcount>15550</readcount><sigungucode>3</sigungucode><tel>064-739-5665</tel><title>제주향</title><zipcode>63534</zipcode></item><item><addr1>제주특별자치도 서귀포시 이어도로 721</addr1><addr2>(강정동)</addr2><areacode>39</areacode><cat1>B02</cat1><cat2>B0201</cat2><cat3>B02010400</cat3><contentid>939166</contentid><contenttypeid>32</contenttypeid><createdtime>20100126153949</createdtime><firstimage>http://tong.visitkorea.or.kr/cms/resource/33/1339333_image2_1.jpg</firstimage><firstimage2>http://tong.visitkorea.or.kr/cms/resource/33/1339333_image3_1.jpg</firstimage2><mapx>126.4920040497</mapx><mapy>33.2357951330</mapy><mlevel>6</mlevel><modifiedtime>20211109174629</modifiedtime><readcount>25978</readcount><sigungucode>3</sigungucode><tel>064-739-0640</tel><title>조은리조트</title><zipcode>63564</zipcode></item><item><addr1>제주특별자치도 서귀포시 소보리당로164번길 83</addr1><areacode>39</areacode><cat1>B02</cat1><cat2>B0201</cat2><cat3>B02010700</cat3><contentid>138606</contentid><contenttypeid>32</contenttypeid><createdtime>20050524000000</createdtime><mapx>126.3836544375</mapx><mapy>33.2660317533</mapy><mlevel>6</mlevel><modifiedtime>20211124180539</modifiedtime><readcount>17635</readcount><sigungucode>3</sigungucode><tel>064-738-7871</tel><title>중문훼미리리조트</title><zipcode>63534</zipcode></item><item><addr1>제주특별자치도 서귀포시 천지연로 39</addr1><addr2>(서귀동)</addr2><areacode>39</areacode><cat1>B02</cat1><cat2>B0201</cat2><cat3>B02011100</cat3><contentid>2627229</contentid><contenttypeid>32</contenttypeid><createdtime>20191018154715</createdtime><mapx>126.5620756071</mapx><mapy>33.2423732942</mapy><modifiedtime>20201215141748</modifiedtime><readcount>0</readcount><sigungucode>3</sigungucode><title>천지연크리스탈호텔</title><zipcode>63596</zipcode></item><item><addr1>제주특별자치도 서귀포시 인정오름로 135-18</addr1><areacode>39</areacode><cat1>B02</cat1><cat2>B0201</cat2><cat3>B02010700</cat3><contentid>138017</contentid><contenttypeid>32</contenttypeid><createdtime>20040227090000</createdtime><firstimage>http://tong.visitkorea.or.kr/cms/resource/41/1933841_image2_1.jpg</firstimage><firstimage2>http://tong.visitkorea.or.kr/cms/resource/41/1933841_image3_1.jpg</firstimage2><mapx>126.5717570498</mapx><mapy>33.2891599519</mapy><mlevel>6</mlevel><modifiedtime>20220531135651</modifiedtime><readcount>16877</readcount><sigungucode>3</sigungucode><tel>064-732-2020</tel><title>청재설헌</title><zipcode>63580</zipcode></item><item><addr1>제주특별자치도 서귀포시 성산읍 해맞이해안로 2688</addr1><areacode>39</areacode><cat1>B02</cat1><cat2>B0201</cat2><cat3>B02011100</cat3><contentid>2624249</contentid><contenttypeid>32</contenttypeid><createdtime>20191011173136</createdtime><mapx>126.9127177787</mapx><mapy>33.4718785742</mapy><mlevel>6</mlevel><modifiedtime>20211122175004</modifiedtime><readcount>0</readcount><sigungucode>3</sigungucode><tel>010-5117-7552</tel><title>취다선리조트(취다선 리조트 Tea&amp;Meditation)</title><zipcode>63639</zipcode></item><item><addr1>제주특별자치도 서귀포시 태평로353번길 22-3</addr1><addr2>(서귀동)</addr2><areacode>39</areacode><cat1>B02</cat1><cat2>B0201</cat2><cat3>B02011100</cat3><contentid>2627908</contentid><contenttypeid>32</contenttypeid><createdtime>20191021132445</createdtime><mapx>126.5612422374</mapx><mapy>33.2472116357</mapy><modifiedtime>20201214142132</modifiedtime><readcount>0</readcount><sigungucode>3</sigungucode><title>칠십리호텔</title><zipcode>63595</zipcode></item><item><addr1>제주특별자치도 제주시 한림읍 협재2길 10</addr1><areacode>39</areacode><cat1>B02</cat1><cat2>B0201</cat2><cat3>B02011100</cat3><contentid>2667643</contentid><contenttypeid>32</contenttypeid><createdtime>20200818145818</createdtime><mapx>126.2412473291</mapx><mapy>33.3922238993</mapy><modifiedtime>20200818152129</modifiedtime><readcount>0</readcount><sigungucode>4</sigungucode><title>카이 호스텔</title><zipcode>63011</zipcode></item><item><addr1>제주특별자치도 제주시 한림읍 협재2길 10</addr1><areacode>39</areacode><cat1>B02</cat1><cat2>B0201</cat2><cat3>B02010600</cat3><contentid>1894633</contentid><contenttypeid>32</contenttypeid><createdtime>20140213164410</createdtime><mapx>126.2413195468</mapx><mapy>33.3921266889</mapy><mlevel>6</mlevel><modifiedtime>20211214181246</modifiedtime><readcount>4443</readcount><sigungucode>4</sigungucode><tel>064-796-2428</tel><title>카이 호스텔</title><zipcode>63011</zipcode></item><item><addr1>제주특별자치도 제주시 애월읍 장유길 49-43</addr1><areacode>39</areacode><cat1>B02</cat1><cat2>B0201</cat2><cat3>B02010700</cat3><contentid>2405466</contentid><contenttypeid>32</contenttypeid><createdtime>20160825170518</createdtime><firstimage>http://tong.visitkorea.or.kr/cms/resource/47/2405447_image2_1.jpg</firstimage><firstimage2>http://tong.visitkorea.or.kr/cms/resource/47/2405447_image2_1.jpg</firstimage2><mapx>126.4003238855</mapx><mapy>33.4491617714</mapy><mlevel>6</mlevel><modifiedtime>20211231102849</modifiedtime><readcount>2808</readcount><sigungucode>4</sigungucode><tel>010-7478-5707</tel><title>카이로스</title><zipcode>63055</zipcode></item><item><addr1>제주특별자치도 서귀포시 이어도로 684</addr1><areacode>39</areacode><cat1>A02</cat1><cat2>A0202</cat2><cat3>A02020200</cat3><contentid>137369</contentid><contenttypeid>32</contenttypeid><createdtime>20040422090000</createdtime><firstimage>http://tong.visitkorea.or.kr/cms/resource/40/1341140_image2_1.jpg</firstimage><firstimage2>http://tong.visitkorea.or.kr/cms/resource/40/1341140_image3_1.jpg</firstimage2><mapx>126.4890126926</mapx><mapy>33.2335425563</mapy><mlevel>6</mlevel><modifiedtime>20220722172516</modifiedtime><readcount>29196</readcount><sigungucode>3</sigungucode><tel>064-739-9001</tel><title>켄싱턴리조트 서귀포</title><zipcode>63564</zipcode></item><item><addr1>제주특별자치도 제주시 한림읍 한림해안로 530</addr1><areacode>39</areacode><cat1>B02</cat1><cat2>B0201</cat2><cat3>B02010500</cat3><contentid>137368</contentid><contenttypeid>32</contenttypeid><createdtime>20031229000000</createdtime><mapx>126.2744934632</mapx><mapy>33.4358195964</mapy><mlevel>6</mlevel><modifiedtime>20211020111745</modifiedtime><readcount>31666</readcount><sigungucode>4</sigungucode><tel>064-796-9600</tel><title>켄싱턴리조트 제주한림</title><zipcode>63024</zipcode></item><item><addr1>제주특별자치도 서귀포시 성산읍 일주동로4120번길 23-20</addr1><areacode>39</areacode><cat1>B02</cat1><cat2>B0201</cat2><cat3>B02010500</cat3><contentid>1882274</contentid><contenttypeid>32</contenttypeid><createdtime>20140106134049</createdtime><mapx>126.9101099660</mapx><mapy>33.4591021658</mapy><mlevel>6</mlevel><modifiedtime>20210707164437</modifiedtime><readcount>4766</readcount><sigungucode>3</sigungucode><tel>070-4548-2200</tel><title>코델리아리조트</title><zipcode>63639</zipcode></item><item><addr1>제주특별자치도 서귀포시 난산로 100</addr1><areacode>39</areacode><cat1>A05</cat1><cat2>B0201</cat2><contentid>2814169</contentid><contenttypeid>32</contenttypeid><createdtime>20220318171347</createdtime><firstimage>http://tong.visitkorea.or.kr/cms/resource/41/2811341_image2_1.jpg</firstimage><firstimage2>http://tong.visitkorea.or.kr/cms/resource/41/2811341_image2_1.jpg</firstimage2><mapx>126.8651429381</mapx><mapy>33.4026187891</mapy><mlevel>6</mlevel><modifiedtime>20220426100655</modifiedtime><readcount>0</readcount><sigungucode>3</sigungucode><tel>010-5347-8733</tel><title>쿠지홀리데이 [한국관광 품질인증/Korea Quality]</title><zipcode>63632</zipcode></item><item><addr1>제주특별자치도 제주시 애월읍 애월해안로 400-9</addr1><areacode>39</areacode><cat1>B02</cat1><cat2>B0201</cat2><cat3>B02010700</cat3><contentid>660876</contentid><contenttypeid>32</contenttypeid><createdtime>20081202143412</createdtime><firstimage>http://tong.visitkorea.or.kr/cms/resource/77/666077_image2_1.jpg</firstimage><firstimage2>http://tong.visitkorea.or.kr/cms/resource/77/666077_image3_1.jpg</firstimage2><mapx>126.3512637615</mapx><mapy>33.4714751921</mapy><mlevel>6</mlevel><modifiedtime>20211213142802</modifiedtime><readcount>31828</readcount><sigungucode>4</sigungucode><tel>064-799-2600</tel><title>클럽다인리조트</title><zipcode>63046</zipcode></item><item><addr1>제주특별자치도 서귀포시 성산읍 시흥상동로53번길 88-54</addr1><areacode>39</areacode><cat1>B02</cat1><cat2>B0201</cat2><cat3>B02010700</cat3><contentid>1882504</contentid><contenttypeid>32</contenttypeid><createdtime>20140106170258</createdtime><mapx>126.8866921967</mapx><mapy>33.4744889754</mapy><mlevel>6</mlevel><modifiedtime>20211129173646</modifiedtime><readcount>4430</readcount><sigungucode>3</sigungucode><tel>064-783-5026</tel><title>킴스캐빈</title><zipcode>63638</zipcode></item><item><addr1>제주특별자치도 제주시 애월읍 화전길 201</addr1><areacode>39</areacode><cat1>B02</cat1><cat2>B0201</cat2><cat3>B02010500</cat3><contentid>984562</contentid><contenttypeid>32</contenttypeid><createdtime>20100324112041</createdtime><mapx>126.3856635358</mapx><mapy>33.3482949189</mapy><mlevel>6</mlevel><modifiedtime>20211210105511</modifiedtime><readcount>18638</readcount><sigungucode>4</sigungucode><tel>064-793-0707</tel><title>타미우스골프&amp;빌리지</title><zipcode>63040</zipcode></item><item><addr1>제주특별자치도 제주시 애월읍 애월로1길 8</addr1><areacode>39</areacode><cat1>B02</cat1><cat2>B0201</cat2><cat3>B02010500</cat3><contentid>137476</contentid><contenttypeid>32</contenttypeid><createdtime>20040902000000</createdtime><firstimage>http://tong.visitkorea.or.kr/cms/resource/08/2650208_image2_1.jpg</firstimage><firstimage2>http://tong.visitkorea.or.kr/cms/resource/08/2650208_image2_1.jpg</firstimage2><mapx>126.3117312768</mapx><mapy>33.4631615996</mapy><mlevel>6</mlevel><modifiedtime>20210127095700</modifiedtime><readcount>59509</readcount><sigungucode>4</sigungucode><tel>064-799-4400</tel><title>토비스콘도 제주</title><zipcode>63043</zipcode></item><item><addr1>제주특별자치도 서귀포시 남원읍 서의로154번길 12</addr1><areacode>39</areacode><cat1>B02</cat1><cat2>B0201</cat2><cat3>B02010700</cat3><contentid>137957</contentid><contenttypeid>32</contenttypeid><createdtime>20040923090000</createdtime><mapx>126.7121889669</mapx><mapy>33.3050243273</mapy><mlevel>6</mlevel><modifiedtime>20220721170845</modifiedtime><readcount>20489</readcount><sigungucode>3</sigungucode><tel>064-764-9669</tel><title>티파니에서 아침을</title><zipcode>63618</zipcode></item><item><addr1>제주특별자치도 제주시 한경면 중산간서로 3367-1</addr1><areacode>39</areacode><cat1>B02</cat1><cat2>B0201</cat2><cat3>B02010700</cat3><contentid>2623579</contentid><contenttypeid>32</contenttypeid><createdtime>20191009003000</createdtime><firstimage>http://tong.visitkorea.or.kr/cms/resource/69/2811269_image2_1.JPG</firstimage><firstimage2>http://tong.visitkorea.or.kr/cms/resource/69/2811269_image2_1.JPG</firstimage2><mapx>126.2371217184</mapx><mapy>33.3109494910</mapy><modifiedtime>20220330175930</modifiedtime><readcount>0</readcount><sigungucode>4</sigungucode><tel>010-7628-0037</tel><title>틸다하우스  [한국관광 품질인증/Korea Quality]</title><zipcode>63007</zipcode></item><item><addr1>제주특별자치도 서귀포시 대포동서로 63-20</addr1><areacode>39</areacode><cat1>B02</cat1><cat2>B0201</cat2><cat3>B02011100</cat3><contentid>2626803</contentid><contenttypeid>32</contenttypeid><createdtime>20191017153736</createdtime><mapx>126.4380141699</mapx><mapy>33.2409825974</mapy><modifiedtime>20211129094153</modifiedtime><readcount>0</readcount><sigungucode>3</sigungucode><title>파밀리아</title><zipcode>63544</zipcode></item><item><addr1>제주특별자치도 서귀포시 중산간서로 193</addr1><addr2>(강정동)</addr2><areacode>39</areacode><cat1>B02</cat1><cat2>B0201</cat2><cat3>B02010100</cat3><contentid>2405964</contentid><contenttypeid>32</contenttypeid><createdtime>20160830003849</createdtime><mapx>126.4907675222</mapx><mapy>33.2591730893</mapy><mlevel>6</mlevel><modifiedtime>20220328141821</modifiedtime><readcount>2016</readcount><sigungucode>3</sigungucode><tel>064-738-0002, 064-738-7705</tel><title>팜밸리리조트</title><zipcode>63558</zipcode></item><item><addr1>제주특별자치도 서귀포시 논짓물로 50</addr1><addr2>(하예동)</addr2><areacode>39</areacode><cat1>B02</cat1><cat2>B0201</cat2><cat3>B02011100</cat3><contentid>2621969</contentid><contenttypeid>32</contenttypeid><createdtime>20190930172511</createdtime><mapx>126.3859881372</mapx><mapy>33.2405179405</mapy><modifiedtime>20191118151806</modifiedtime><readcount>0</readcount><sigungucode>3</sigungucode><tel>064-739-2564</tel><title>펜션연리</title><zipcode>63538</zipcode></item><item><addr1>제주특별자치도 서귀포시 성산읍 시흥하동로50번길 23</addr1><areacode>39</areacode><cat1>B02</cat1><cat2>B0201</cat2><cat3>B02010600</cat3><contentid>1893137</contentid><contenttypeid>32</contenttypeid><createdtime>20140211162426</createdtime><mapx>126.9081014524</mapx><mapy>33.4744809898</mapy><mlevel>6</mlevel><modifiedtime>20211129173202</modifiedtime><readcount>3619</readcount><sigungucode>3</sigungucode><tel>064-782-4003</tel><title>펠리스타운</title><zipcode>63638</zipcode></item><item><addr1>제주특별자치도 서귀포시 안덕면 산록남로 863</addr1><areacode>39</areacode><cat1>B02</cat1><cat2>B0201</cat2><cat3>B02010900</cat3><contentid>1894943</contentid><contenttypeid>32</contenttypeid><createdtime>20140214161459</createdtime><mapx>126.3900000445</mapx><mapy>33.3136960332</mapy><mlevel>6</mlevel><modifiedtime>20211213164605</modifiedtime><readcount>28990</readcount><sigungucode>3</sigungucode><tel>대표 064-792-5200&lt;br /&gt;예약 064-792-8000</tel><title>포도호텔</title><zipcode>63525</zipcode></item><item><addr1>제주특별자치도 제주시 한림읍 명월로 13</addr1><areacode>39</areacode><cat1>B02</cat1><cat2>B0201</cat2><cat3>B02010700</cat3><contentid>2623578</contentid><contenttypeid>32</contenttypeid><createdtime>20191008151721</createdtime><mapx>126.2647341855</mapx><mapy>33.3917604304</mapy><modifiedtime>20200331105330</modifiedtime><readcount>0</readcount><sigungucode>4</sigungucode><tel>010-8827-4101</tel><title>포에마</title><zipcode>63014</zipcode></item><item><addr1>제주특별자치도 서귀포시 성산읍 한도로 256</addr1><areacode>39</areacode><cat1>B02</cat1><cat2>B0201</cat2><cat3>B02010700</cat3><contentid>733902</contentid><contenttypeid>32</contenttypeid><createdtime>20090513165010</createdtime><firstimage>http://tong.visitkorea.or.kr/cms/resource/41/733341_image2_1.jpg</firstimage><firstimage2>http://tong.visitkorea.or.kr/cms/resource/41/733341_image3_1.jpg</firstimage2><mapx>126.9345132486</mapx><mapy>33.4659879111</mapy><mlevel>6</mlevel><modifiedtime>20211210112352</modifiedtime><readcount>26601</readcount><sigungucode>3</sigungucode><tel>064-783-4830</tel><title>푸른제주 펜션</title><zipcode>63643</zipcode></item><item><addr1>제주특별자치도 제주시 애월읍 유수암평화5길 34-29</addr1><areacode>39</areacode><cat1>B02</cat1><cat2>B0201</cat2><cat3>B02010700</cat3><contentid>1887546</contentid><contenttypeid>32</contenttypeid><createdtime>20140121134515</createdtime><mapx>126.4050490077</mapx><mapy>33.4254894659</mapy><mlevel>6</mlevel><modifiedtime>20211231132239</modifiedtime><readcount>6878</readcount><sigungucode>4</sigungucode><tel>010-9282-7042</tel><title>프레리아펜션</title><zipcode>63067</zipcode></item><item><addr1>제주특별자치도 서귀포시 성산읍 동류암로 20</addr1><areacode>39</areacode><cat1>B02</cat1><cat2>B0201</cat2><cat3>B02010500</cat3><contentid>2757210</contentid><contenttypeid>32</contenttypeid><createdtime>20211014193628</createdtime><firstimage>http://tong.visitkorea.or.kr/cms/resource/54/2642354_image2_1.jpg</firstimage><firstimage2>http://tong.visitkorea.or.kr/cms/resource/54/2642354_image3_1.jpg</firstimage2><mapx>126.9182122544</mapx><mapy>33.4498866488</mapy><mlevel>6</mlevel><modifiedtime>20220614173607</modifiedtime><readcount>0</readcount><sigungucode>3</sigungucode><title>플레이스 캠프 제주</title><zipcode>63640</zipcode></item><item><addr1>제주특별자치도 제주시 삼성로 10</addr1><addr2>(이도일동)</addr2><areacode>39</areacode><cat1>B02</cat1><cat2>B0201</cat2><cat3>B02010100</cat3><contentid>142971</contentid><contenttypeid>32</contenttypeid><createdtime>20030806090000</createdtime><firstimage>http://tong.visitkorea.or.kr/cms/resource/60/1339960_image2_1.jpg</firstimage><firstimage2>http://tong.visitkorea.or.kr/cms/resource/60/1339960_image3_1.jpg</firstimage2><mapx>126.5275532246</mapx><mapy>33.5051714812</mapy><mlevel>6</mlevel><modifiedtime>20220721155044</modifiedtime><readcount>27973</readcount><sigungucode>4</sigungucode><tel>064-758-4200</tel><title>하니크라운호텔</title><zipcode>63197</zipcode></item><item><addr1>제주특별자치도 서귀포시 표선면 민속해안로 351</addr1><areacode>39</areacode><cat1>B02</cat1><cat2>B0201</cat2><cat3>B02010700</cat3><contentid>1893993</contentid><contenttypeid>32</contenttypeid><createdtime>20140213011840</createdtime><mapx>126.8339727197</mapx><mapy>33.3115200069</mapy><mlevel>6</mlevel><modifiedtime>20220719135952</modifiedtime><readcount>4588</readcount><sigungucode>3</sigungucode><tel>010-3665-8201</tel><title>하얀언덕</title><zipcode>63629</zipcode></item><item><addr1>제주특별자치도 제주시 사장3길 32</addr1><areacode>39</areacode><cat1>B02</cat1><cat2>B0201</cat2><cat3>B02010100</cat3><contentid>142944</contentid><contenttypeid>32</contenttypeid><createdtime>20030806090000</createdtime><firstimage>http://tong.visitkorea.or.kr/cms/resource/80/1339980_image2_1.jpg</firstimage><firstimage2>http://tong.visitkorea.or.kr/cms/resource/80/1339980_image3_1.jpg</firstimage2><mapx>126.4914707498</mapx><mapy>33.4831344575</mapy><mlevel>6</mlevel><modifiedtime>20220713155954</modifiedtime><readcount>26021</readcount><sigungucode>4</sigungucode><tel>064-742-0061</tel><title>하와이관광호텔</title><zipcode>63136</zipcode></item><item><addr1>제주특별자치도 제주시 명림로 575-107</addr1><areacode>39</areacode><cat1>B02</cat1><cat2>B0201</cat2><cat3>B02010500</cat3><contentid>138195</contentid><contenttypeid>32</contenttypeid><createdtime>20051118000000</createdtime><firstimage>http://tong.visitkorea.or.kr/cms/resource/99/1180899_image2_1.jpg</firstimage><firstimage2>http://tong.visitkorea.or.kr/cms/resource/99/1180899_image3_1.jpg</firstimage2><mapx>126.6380671275</mapx><mapy>33.4488572540</mapy><mlevel>6</mlevel><modifiedtime>20211014133445</modifiedtime><readcount>40301</readcount><sigungucode>4</sigungucode><tel>064-725-9000</tel><title>한화리조트 제주</title><zipcode>63330</zipcode></item><item><addr1>제주특별자치도 제주시 조천읍 조함해안로 488</addr1><areacode>39</areacode><cat1>B02</cat1><cat2>B0201</cat2><cat3>B02010700</cat3><contentid>1882595</contentid><contenttypeid>32</contenttypeid><createdtime>20140107191006</createdtime><mapx>126.6649015424</mapx><mapy>33.5427778482</mapy><mlevel>6</mlevel><modifiedtime>20220310134835</modifiedtime><readcount>9237</readcount><sigungucode>4</sigungucode><tel>064-782-1700</tel><title>함덕삼다펜션</title><zipcode>63333</zipcode></item><item><addr1>제주특별자치도 서귀포시 성산읍 한도로 137</addr1><areacode>39</areacode><cat1>B02</cat1><cat2>B0201</cat2><cat3>B02010700</cat3><contentid>733924</contentid><contenttypeid>32</contenttypeid><createdtime>20090513165957</createdtime><firstimage>http://tong.visitkorea.or.kr/cms/resource/50/733350_image2_1.jpg</firstimage><firstimage2>http://tong.visitkorea.or.kr/cms/resource/50/733350_image3_1.jpg</firstimage2><mapx>126.9225419911</mapx><mapy>33.4691290372</mapy><mlevel>6</mlevel><modifiedtime>20211210112007</modifiedtime><readcount>21202</readcount><sigungucode>3</sigungucode><tel>064-784-8812</tel><title>해뜨는집 펜션</title><zipcode>63639</zipcode></item><item><addr1>제주특별자치도 서귀포시 표선면 민속해안로 537</addr1><areacode>39</areacode><cat1>B02</cat1><cat2>B0201</cat2><cat3>B02010500</cat3><contentid>138184</contentid><contenttypeid>32</contenttypeid><createdtime>20040615000000</createdtime><mapx>126.8447465590</mapx><mapy>33.3215135225</mapy><mlevel>6</mlevel><modifiedtime>20210616094830</modifiedtime><readcount>31407</readcount><sigungucode>3</sigungucode><title>해비치리조트</title><zipcode>63629</zipcode></item><item><addr1>제주특별자치도 서귀포시 표선면 민속해안로 537</addr1><areacode>39</areacode><cat1>B02</cat1><cat2>B0201</cat2><cat3>B02010100</cat3><contentid>551958</contentid><contenttypeid>32</contenttypeid><createdtime>20080422012814</createdtime><mapx>126.8447465590</mapx><mapy>33.3215135225</mapy><mlevel>6</mlevel><modifiedtime>20220519170817</modifiedtime><readcount>35268</readcount><sigungucode>3</sigungucode><title>해비치호텔</title><zipcode>63629</zipcode></item><item><addr1>제주특별자치도 서귀포시 천제연로 158-4</addr1><addr2>(중문동)</addr2><areacode>39</areacode><cat1>B02</cat1><cat2>B0201</cat2><cat3>B02011100</cat3><contentid>2626708</contentid><contenttypeid>32</contenttypeid><createdtime>20191017141845</createdtime><mapx>126.4213570284</mapx><mapy>33.2523116402</mapy><modifiedtime>20201214150539</modifiedtime><readcount>0</readcount><sigungucode>3</sigungucode><title>해성파크텔</title><zipcode>63546</zipcode></item><item><addr1>제주특별자치도 제주시 서부두2길 20</addr1><addr2>(건입동)</addr2><areacode>39</areacode><cat1>B02</cat1><cat2>B0201</cat2><cat3>B02010900</cat3><contentid>2411625</contentid><contenttypeid>32</contenttypeid><createdtime>20160907132404</createdtime><firstimage>http://tong.visitkorea.or.kr/cms/resource/16/2411516_image2_1.jpg</firstimage><firstimage2>http://tong.visitkorea.or.kr/cms/resource/16/2411516_image2_1.jpg</firstimage2><mapx>126.5266863526</mapx><mapy>33.5175395423</mapy><mlevel>6</mlevel><modifiedtime>20211206134719</modifiedtime><readcount>3215</readcount><sigungucode>4</sigungucode><tel>064-717-5000</tel><title>호텔 리젠트마린</title><zipcode>63276</zipcode></item><item><addr1>제주특별자치도 서귀포시 보목로64번길 178</addr1><addr2>(보목동)</addr2><areacode>39</areacode><cat1>B02</cat1><cat2>B0201</cat2><cat3>B02011100</cat3><contentid>2699863</contentid><contenttypeid>32</contenttypeid><createdtime>20201218151509</createdtime><mapx>126.5905592043</mapx><mapy>33.2444207422</mapy><modifiedtime>20201228154219</modifiedtime><readcount>0</readcount><sigungucode>3</sigungucode><title>호텔 서귀피안</title><zipcode>63599</zipcode></item><item><addr1>제주특별자치도 제주시 삼무로 14</addr1><addr2>(연동)</addr2><areacode>39</areacode><cat1>B02</cat1><cat2>B0201</cat2><cat3>B02010100</cat3><contentid>1979715</contentid><contenttypeid>32</contenttypeid><createdtime>20141226110508</createdtime><mapx>126.4882625456</mapx><mapy>33.4897531180</mapy><mlevel>6</mlevel><modifiedtime>20210512174316</modifiedtime><readcount>8819</readcount><sigungucode>4</sigungucode><tel>064-754-7000</tel><title>호텔레오</title><zipcode>63129</zipcode></item><item><addr1>제주특별자치도 제주시 삼무로1길 10-7</addr1><areacode>39</areacode><cat1>B02</cat1><cat2>B0201</cat2><cat3>B02010900</cat3><contentid>1898255</contentid><contenttypeid>32</contenttypeid><createdtime>20140221172431</createdtime><mapx>126.4887597098</mapx><mapy>33.4903974992</mapy><mlevel>6</mlevel><modifiedtime>20211129171157</modifiedtime><readcount>5252</readcount><sigungucode>4</sigungucode><tel>064-747-6767</tel><title>호텔제이엠(HotelJM)</title><zipcode>63125</zipcode></item><item><addr1>제주특별자치도 제주시 애월읍 부룡수길 38-24</addr1><areacode>39</areacode><cat1>B02</cat1><cat2>B0201</cat2><cat3>B02010700</cat3><contentid>2406279</contentid><contenttypeid>32</contenttypeid><createdtime>20160830185331</createdtime><mapx>126.3561355098</mapx><mapy>33.4736889128</mapy><mlevel>6</mlevel><modifiedtime>20220518104248</modifiedtime><readcount>4101</readcount><sigungucode>4</sigungucode><tel>064-799-1240/1241</tel><title>후아힌제주 풀빌라</title><zipcode>63047</zipcode></item><item><addr1>제주특별자치도 서귀포시 성산읍 섭지코지로 107</addr1><areacode>39</areacode><cat1>B02</cat1><cat2>B0201</cat2><cat3>B02010500</cat3><contentid>583141</contentid><contenttypeid>32</contenttypeid><createdtime>20080704183519</createdtime><firstimage>http://tong.visitkorea.or.kr/cms/resource/03/2660103_image2_1.jpg</firstimage><firstimage2>http://tong.visitkorea.or.kr/cms/resource/03/2660103_image3_1.jpg</firstimage2><mapx>126.9280674087</mapx><mapy>33.4302500880</mapy><mlevel>6</mlevel><modifiedtime>20220516132617</modifiedtime><readcount>49533</readcount><sigungucode>3</sigungucode><tel>064-731-7000~5</tel><title>휘닉스 제주 섭지코지</title><zipcode>63642</zipcode></item><item><addr1>제주특별자치도 서귀포시 예래해안로 542</addr1><areacode>39</areacode><cat1>B02</cat1><cat2>B0201</cat2><cat3>B02010100</cat3><contentid>2822959</contentid><contenttypeid>32</contenttypeid><createdtime>20220607173129</createdtime><firstimage>http://tong.visitkorea.or.kr/cms/resource/49/2822949_image2_1.jpg</firstimage><firstimage2>http://tong.visitkorea.or.kr/cms/resource/49/2822949_image3_1.jpg</firstimage2><mapx>126.4026058226</mapx><mapy>33.2547582966</mapy><mlevel>6</mlevel><modifiedtime>20220608133749</modifiedtime><readcount>0</readcount><sigungucode>3</sigungucode><title>히든 클리프 호텔 &amp; 네이쳐</title><zipcode>63536</zipcode></item><item><addr1>제주특별자치도 서귀포시 성산읍 중산간동로 4328-63</addr1><areacode>39</areacode><cat1>B02</cat1><cat2>B0201</cat2><cat3>B02010600</cat3><contentid>397643</contentid><contenttypeid>32</contenttypeid><createdtime>20080123152345</createdtime><firstimage>http://tong.visitkorea.or.kr/cms/resource/55/1933155_image2_1.jpg</firstimage><firstimage2>http://tong.visitkorea.or.kr/cms/resource/55/1933155_image3_1.jpg</firstimage2><mapx>126.8308461996</mapx><mapy>33.3899501906</mapy><mlevel>6</mlevel><modifiedtime>20211026133802</modifiedtime><readcount>25829</readcount><sigungucode>3</sigungucode><tel>064-784-7701</tel><title>C&amp;P리조트</title><zipcode>63635</zipcode></item><item><addr1>제주특별자치도 서귀포시 중산간서로 241</addr1><areacode>39</areacode><cat1>B02</cat1><cat2>B0201</cat2><cat3>B02010700</cat3><contentid>139856</contentid><contenttypeid>32</contenttypeid><createdtime>20070731090000</createdtime><firstimage>http://tong.visitkorea.or.kr/cms/resource/02/561502_image2_1.jpg</firstimage><firstimage2>http://tong.visitkorea.or.kr/cms/resource/02/561502_image3_1.jpg</firstimage2><mapx>126.4856512683</mapx><mapy>33.2605478564</mapy><mlevel>6</mlevel><modifiedtime>20220630141326</modifiedtime><readcount>16111</readcount><sigungucode>3</sigungucode><tel>064-739-7891</tel><title>JJ하우스</title><zipcode>63558</zipcode></item><item><addr1>제주특별자치도 서귀포시 문필로35번길 46</addr1><areacode>39</areacode><cat1>B02</cat1><cat2>B0201</cat2><cat3>B02010500</cat3><contentid>1905280</contentid><contenttypeid>32</contenttypeid><createdtime>20140313171912</createdtime><mapx>126.5934979109</mapx><mapy>33.2412266967</mapy><mlevel>6</mlevel><modifiedtime>20211215093328</modifiedtime><readcount>5330</readcount><sigungucode>3</sigungucode><tel>064-732-8500</tel><title>THE BAY 제주리조트 (더베이 제주리조트)</title><zipcode>63599</zipcode></item><item><addr1>제주특별자치도 서귀포시 1100로 453-95</addr1><addr2>(회수동)</addr2><areacode>39</areacode><cat1>B02</cat1><cat2>B0201</cat2><cat3>B02010100</cat3><contentid>2499031</contentid><contenttypeid>32</contenttypeid><createdtime>20170706134716</createdtime><firstimage>http://tong.visitkorea.or.kr/cms/resource/25/2499025_image2_1.jpg</firstimage><firstimage2>http://tong.visitkorea.or.kr/cms/resource/25/2499025_image2_1.jpg</firstimage2><mapx>126.4439404253</mapx><mapy>33.2860916001</mapy><mlevel>6</mlevel><modifiedtime>20210524142922</modifiedtime><readcount>2369</readcount><sigungucode>3</sigungucode><tel>064-730-1200</tel><title>WE호텔</title><zipcode>63551</zipcode></item></items><numofrows>250</numofrows><pageno>1</pageno><totalcount>211</totalcount></body></response>"
      ]
     },
     "execution_count": 77,
     "metadata": {},
     "output_type": "execute_result"
    }
   ],
   "source": [
    "result = requests.get(url)\n",
    "bs_obj=BeautifulSoup(result.content,'html.parser') # 'lxml'\n",
    "bs_obj"
   ]
  },
  {
   "cell_type": "code",
   "execution_count": 78,
   "metadata": {},
   "outputs": [
    {
     "data": {
      "text/plain": [
       "211"
      ]
     },
     "execution_count": 78,
     "metadata": {},
     "output_type": "execute_result"
    }
   ],
   "source": [
    "items=bs_obj.findAll('item')\n",
    "len(items)"
   ]
  },
  {
   "cell_type": "code",
   "execution_count": 79,
   "metadata": {},
   "outputs": [
    {
     "name": "stdout",
     "output_type": "stream",
     "text": [
      "가름게스트하우스,제주특별자치도 서귀포시 법환하로9번길 10,064-739-4499\n",
      "고망난돌민박,제주특별자치도 서귀포시 성산읍 일주동로 5464,064-787-1060\n",
      "관음사가는길펜션,제주특별자치도 제주시 산록북로 819,064-724-9931\n",
      "귤익는마을,제주특별자치도 서귀포시 성산읍 신천서로 11,064-787-0543\n",
      "그랜드 조선 제주,제주특별자치도 서귀포시 중문관광로72번길 60,No Data\n",
      "그린사이드,제주특별자치도 서귀포시 천제연로 51,064-738-0074\n",
      "그림리조트,제주특별자치도 제주시 서해안로 620-1,064-742-2080\n",
      "금호리조트 제주,제주특별자치도 서귀포시 남원읍 태위로 522-12,064-766-8000\n",
      "까델아스 리조트,제주특별자치도 제주시 애월읍 신엄9길 50,064-799-7996\n",
      "까사 데 비발디,제주특별자치도 서귀포시 안덕면 향교로 214,No Data\n",
      "꼬뜨도르 호텔,제주특별자치도 제주시 구좌읍 일주동로 1724,064-782-0800\n",
      "꿈꾸는 노마드 [한국관광 품질인증/Korea Quality],제주특별자치도 서귀포시 선반로 54,010-4574-4459\n",
      "끄라비 펜션,제주특별자치도 서귀포시 토평로148번길 28,064-733-3399\n",
      "나.미.송,제주특별자치도 제주시 애월읍 평화로 2476,010-8307-0531\n",
      "나이스호텔,제주특별자치도 제주시 논세길 96-38,No Data\n",
      "나인브릿지콘도,제주특별자치도 서귀포시 안덕면 광평로 34-156,064-793-9999\n",
      "나인스파빌,제주특별자치도 제주시 애월읍 하광로 518,064-727-1000\n",
      "남극노인성(남극노인성 전통한옥 휴양펜션),제주특별자치도 서귀포시 하신상로 216,064-733-8869\n",
      "노을담은뜨락,제주특별자치도 서귀포시 대정읍 노을해안로 416,010-5258-4993\n",
      "노인과바다 펜션,제주특별자치도 서귀포시 남원읍 남태해안로 11-12,064-764-9966\n",
      "뉴아일랜드 관광호텔,제주특별자치도 제주시 연동6길 17,064-712-1300\n",
      "다람쥐민박,제주특별자치도 제주시 조천읍 함덕14길 20-2,No Data\n",
      "담앤루리조트,제주특별자치도 서귀포시 이어도로343번길 63,064-739-6617\n",
      "더 세리 호스텔 [한국관광 품질인증/Korea Quality],제주특별자치도 서귀포시 법환상로2번길 97-17,064-739-9966\n",
      "더럭펜션,제주특별자치도 제주시 애월읍 상가북2길 14-3,010-2667-4735\n",
      "더쉼팡스파앤풀빌라,제주특별자치도 서귀포시 표선면 세성로 67-2,No Data\n",
      "도라미 휴양펜션(도라미 관광 휴양펜션),제주특별자치도 서귀포시 일주동로 8215,010-7565-3309\n",
      "돈내코힐 리조트,제주특별자치도 서귀포시 돈내코로 180,010-7277-1439\n",
      "동박생이,제주특별자치도 제주시 구좌읍 월정1길 89,010-3697-4191\n",
      "드림캐슬,제주특별자치도 서귀포시 남원읍 남태해안로 364,064-764-0871\n",
      "라마다프라자 제주호텔,제주특별자치도 제주시 탑동로 66,064-729-8100\n",
      "라사니아캐슬,제주특별자치도 서귀포시 성산읍 일주동로 5199,064-784-6027\n",
      "라오체리조트,제주특별자치도 서귀포시 선반로65번길 69,064-738-7575\n",
      "라온호텔 앤 리조트,제주특별자치도 제주시 한림읍 금능남로 127,064-795-3333, 3000\n",
      "라운지하우스 제주다,제주특별자치도 서귀포시 안덕면 사계남로50번길 60,064-792-5670\n",
      "라헨느리조트,제주특별자치도 제주시 명림로 384,064-754-9000\n",
      "랜딩관 제주신화월드 호텔 앤 리조트,제주특별자치도 서귀포시 안덕면 신화역사로304번길 38,1670-8800\n",
      "레이크힐스 제주리조트,제주특별자치도 서귀포시 존제로 24 레이크힐스,064-738-8778\n",
      "롯데시티호텔 제주,제주특별자치도 제주시 도령로 83,064-730-1000\n",
      "롯데호텔 제주,제주특별자치도 서귀포시 중문관광로72번길 35,064-731-1000\n",
      "롱비치펜션,제주특별자치도 서귀포시 남태해안로 11-16 롱비치펜션,064-764-9944\n",
      "루체빌리조트,제주특별자치도 서귀포시 안덕면 산록남로 786,064-805-0114\n",
      "마레보 비치호텔,제주특별자치도 제주시 곽지1길 23 마레보비치호텔,064-799-2345\n",
      "먼나머루휴양펜션(제주편백한옥펜션 먼나머루),제주특별자치도 제주시 조천읍 남조로 2528,010-9300-3363\n",
      "메리어트관 제주신화월드 호텔 앤 리조트,제주특별자치도 서귀포시 안덕면 신화역사로304번길 38,1670-8800\n",
      "메모리 인 제주,제주특별자치도 서귀포시 염돈로 95,064-738-8933\n",
      "메종글래드 제주,제주특별자치도 제주시 노연로 80,No Data\n",
      "물고기나무 게스트하우스,제주특별자치도 서귀포시 성산읍 중산간동로 4204-14,010-8566-1037\n",
      "미도모텔,제주특별자치도 서귀포시 성산읍 성산등용로 1,064-782-0820\n",
      "밀라노모텔,제주특별자치도 서귀포시 솔동산로10번길 2,064-733-5421\n",
      "밀레니엄빌,제주특별자치도 서귀포시 보목로64번길 196,064-751-9980\n",
      "바다에누워 펜션,제주특별자치도 서귀포시 남원읍 위미해안로 60,064-764-6800\n",
      "바다하우스,제주특별자치도 제주시 애월읍 애월해안로 218,064-799-6192\n",
      "바다해호텔,제주특별자치도 서귀포시 천지연로 3-1,064-762-5530\n",
      "백패커스홈,제주특별자치도 서귀포시 중정로 24-7,010-7552-4002\n",
      "베니키아 중문호텔,제주특별자치도 서귀포시 천제연로 166,064-802-8889\n",
      "베니키아 호텔 제주,제주특별자치도 제주시 애월읍 애월해안로 554-10,064-799-3544\n",
      "베니키아 홈 더 제주리조트,제주특별자치도 제주시 한림읍 협재로 226,064-796-2908\n",
      "베이힐풀앤빌라,제주특별자치도 서귀포시 예래로 424,No Data\n",
      "벤티모,제주특별자치도 제주시 연삼로 14,No Data\n",
      "볕들이펜션,제주특별자치도 서귀포시 성산읍 일출로 284-4,010-3408-6767\n",
      "보물섬펜션,제주특별자치도 서귀포시 성산읍 한도로242번길 10-11,064-784-0039\n",
      "뷰티풀하우스,제주특별자치도 서귀포시 이어도로253번길 2,1833-9306\n",
      "브릭216,제주특별자치도 서귀포시 이어도로 216,010-4382-0216\n",
      "블루스카이 펜션,제주특별자치도 서귀포시 색달로 60,064-738-7380\n",
      "비스타리조트,제주특별자치도 제주시 서해안로 74,No Data\n",
      "비울채울,제주특별자치도 서귀포시 검은여로130번길 73,064-732-0388\n",
      "비치스토리호텔 [한국관광 품질인증/Korea Quality],제주특별자치도 제주시 조천읍 조함해안로 492-5,010-3639-4011\n",
      "빌레리조트,제주특별자치도 제주시 애월읍 고내로13길 79,064-799-2002\n",
      "사조리조트 제주,제주특별자치도 제주시 조천읍 일주동로 1616-7,064-782-8600\n",
      "산들애풀하우스,제주특별자치도 서귀포시 성산읍 서성일로 689-8,064-784-1988\n",
      "샘모루펜션,제주특별자치도 서귀포시 염돈로28번길 11,064-739-9756\n",
      "샤뜰레 펜션,제주특별자치도 서귀포시 서호호근로46번길 68,064-738-9852\n",
      "샤론의집,제주특별자치도 서귀포시 성산읍 금백조로131번길 177-1,010-8676-5948\n",
      "샤이니호텔,제주특별자치도 제주시 구좌읍 송당4길 7,064-783-5089\n",
      "서귀포 귤림성,제주특별자치도 서귀포시 일주동로 8941,064-739-3331\n",
      "서귀포KAL호텔,제주특별자치도 서귀포시 칠십리로 242,064-733-2001\n",
      "서머셋 제주신화월드,제주특별자치도 서귀포시 안덕면 신화역사로304번길 89,1670-8800\n",
      "서툰가족,제주특별자치도 서귀포시 안덕면 사계중앙로 41-15,No Data\n",
      "소노벨 제주,제주특별자치도 제주시 신북로 577 대명리조트,1588-4888\n",
      "소노캄 제주(구 샤인빌 리조트),제주특별자치도 서귀포시 표선면 일주동로 6347-17,02-1588-4888\n",
      "소랑호젠,제주특별자치도 서귀포시 남원읍 태위로 545,064-764-8016\n",
      "솔바람풍경소리,제주특별자치도 서귀포시 남원읍 태수로143번길 132-37,064-764-6002\n",
      "솔트,제주특별자치도 제주시 애월읍 애월해안로 226,No Data\n",
      "숨 게스트하우스 제주공항점,제주특별자치도 제주시 서광로5길 2-2,No Data\n",
      "숲속의궁전,제주특별자치도 서귀포시 염돈로28번길 46,064-739-1915\n",
      "쉴띠 휴양펜션,제주특별자치도 서귀포시 안덕면 한창로 104,010-3697-6695, 010-4692-1104\n",
      "스타즈 호텔 제주 로베로(구 로베로호텔),제주특별자치도 제주시 관덕로 26,064-757-7111\n",
      "스테리나잇 제주 [한국관광 품질인증/Korea Quality],제주특별자치도 제주시 애월로 37,010-2419-0578\n",
      "스프링힐 리조트,제주특별자치도 서귀포시 천제연로 292,064-738-3077\n",
      "신라스테이 제주,제주특별자치도 제주시 노연로 100,064-717-9000\n",
      "신세계호텔,제주특별자치도 서귀포시 중앙로 2-2,064-732-5800\n",
      "썬랜드 호텔,제주특별자치도 제주시 신광로 92,064-744-1601~2\n",
      "씨에나펜션,제주특별자치도 서귀포시 예래로 267,064-739-6623\n",
      "씨에스 호텔&리조트,제주특별자치도 서귀포시 중문관광로 198,064-735-3000\n",
      "씨오르리조트,제주특별자치도 서귀포시 이어도로 989,064-739-0114\n",
      "아망뜨펜션(제주),제주특별자치도 서귀포시 표선면 민속해안로 11,064-787-0300\n",
      "아인스 호스텔,제주특별자치도 서귀포시 태평로 432,No Data\n",
      "아침의향기,제주특별자치도 서귀포시 색달중앙로 122,064-738-4679\n",
      "앙끄리에펜션,제주특별자치도 서귀포시 색달로61번길 59-8,064-739-2727\n",
      "애월해안누리(구 하얀둥지),제주특별자치도 제주시 애월읍 애월해안로 298,064-799-1600\n",
      "에덴호스텔,제주특별자치도 제주시 서해안로 456-12,No Data\n",
      "에코그린리조트,제주특별자치도 제주시 한림읍 귀덕6길 94,064-796-8333\n",
      "엘린호텔 [한국관광 품질인증/Korea Quality],제주특별자치도 제주시 은남1길 4,064-743-5600\n",
      "엠버리조트,제주특별자치도 제주시 1100로 2671-51,No Data\n",
      "엠제이호텔,제주특별자치도 제주시 신광로4길 16,No Data\n",
      "예래펜션,제주특별자치도 서귀포시 예래해안로 527,010-9744-7768\n",
      "예이츠 산장,제주특별자치도 서귀포시 남원읍 516로 918,064-767-3746\n",
      "오션그랜드호텔제주,제주특별자치도 제주시 조천읍 조함해안로 490,064-783-0007\n",
      "오션스위츠 제주호텔,제주특별자치도 제주시 탑동해안로 74,1577-9766, 064-720-6000\n",
      "오션하우스,제주특별자치도 서귀포시 안덕면 사계남로216번길 42,010-3693-4541\n",
      "오션힐스테이,제주특별자치도 서귀포시 안덕면 사계북로 208,No Data\n",
      "오투힐리조트,제주특별자치도 제주시 구좌읍 해맞이해안로 1590-6,No Data\n",
      "와이리조트 제주(Y RESORT JJ),제주특별자치도 서귀포시 안덕면 화순중앙로124번길 75,064-794-7007\n",
      "용산 제주유스호스텔,제주특별자치도 서귀포시 이어도로 297,064-738-9502~4\n",
      "월드와이드 유스호스텔,제주특별자치도 제주시 애월읍 광령평화2길 116-12,064-799-7759\n",
      "이어도성 펜션,제주특별자치도 서귀포시 천제연로 113,064-738-0452\n",
      "제이뷰호텔,제주특별자치도 서귀포시 중산간서로 935,064-739-5200\n",
      "제주 그랑빌펜션,제주특별자치도 서귀포시 중문관광로 17,064-739-9994\n",
      "제주 금강산콘도,제주특별자치도 제주시 한림읍 협재로 210-18,064-795-7800\n",
      "제주 뉴오션리조트,제주특별자치도 제주시 애월읍 고내로13길 59,064-799-0797\n",
      "제주 라임오렌지빌,제주특별자치도 서귀포시 칠십리로 332,064-767-3888\n",
      "제주 마리나,제주특별자치도 제주시 신대로 45 (연동),064-746-6161\n",
      "제주 메이플호텔 [한국관광 품질인증/Korea Quality],제주특별자치도 제주시 원노형3길 41,064-745-6775\n",
      "제주 블랙스톤 호텔,제주특별자치도 제주시 한림읍 한창로 925-122,064-795-2121\n",
      "제주 스위트호텔,제주특별자치도 서귀포시 중문관광로72번길 67,064-738-3800\n",
      "제주 스카브로호텔,제주특별자치도 서귀포시 예래해안로 15,064-738-1551\n",
      "제주 신신휴양펜션,제주특별자치도 서귀포시 안덕면 평화로319번길 133,010-9894-6411\n",
      "제주 써니데이,제주특별자치도 서귀포시 대포로 131,010-3808-5204\n",
      "제주 씨에코비치,제주특별자치도 제주시 조천읍 신흥관전길 89-5,064-782-4888~9\n",
      "제주 오리엔탈호텔,제주특별자치도 제주시 탑동로 47,064-752-8222\n",
      "제주 지삿개풍경,제주특별자치도 서귀포시 이어도로 150,064-738-5353\n",
      "제주 추억여행,제주특별자치도 서귀포시 태평로92번길 21,064-739-7999\n",
      "제주 칼 호텔,제주특별자치도 제주시 중앙로 151,064-724-2001\n",
      "제주 캐슬렉스 골프텔,제주특별자치도 서귀포시 안덕면 평화로 1241,064-793-6630\n",
      "제주 퍼시픽 호텔,제주특별자치도 제주시 서사로 20,064-758-2500\n",
      "제주 펄 관광호텔,제주특별자치도 제주시 신대로20길 49,064-742-8871\n",
      "제주 펜션 포시즌(Fourseason),제주특별자치도 서귀포시 칠십리로285번길 3,064-732-5222\n",
      "제주 하이랜드 펜션,제주특별자치도 서귀포시 이어도로 244,064-738-1944\n",
      "제주로얄호텔,제주특별자치도 제주시 신대로12길 45,064-743-2222\n",
      "제주마중,제주특별자치도 제주시 한림읍 금능9길 10-1,010-8326-9116\n",
      "제주메이더호텔,제주특별자치도 제주시 구좌읍 일주동로 1626,064-766-8888\n",
      "제주목화휴양펜션,제주특별자치도 서귀포시 남원읍 태위로 485,064-702-4334\n",
      "제주바다산책,제주특별자치도 서귀포시 남원읍 남태해안로 11-14,064-764-9955\n",
      "제주바닷가하우스,제주특별자치도 서귀포시 대정읍 형제해안로 254,064-794-0977\n",
      "제주브릭스,제주특별자치도 서귀포시 태평로 121,No Data\n",
      "제주스카이휴양펜션,제주특별자치도 서귀포시 표선면 세성로 352-32,010-5346-3039\n",
      "제주신라호텔,제주특별자치도 서귀포시 중문관광로72번길 75,064-735-5114\n",
      "제주썬레이크빌,제주특별자치도 서귀포시 성산읍 한도로 49,064-782-2277\n",
      "제주아이브리조트,제주특별자치도 서귀포시 산록남로 1966-34,No Data\n",
      "제주알(R)호텔 [한국관광 품질인증/Korea Quality],제주특별자치도 제주시 서광로14길 5,064-757-7734\n",
      "제주애 펜션,제주특별자치도 서귀포시 성산읍 일주동로 5047,010-3668-3045\n",
      "제주에코스위츠[한국관광 품질인증/Korea Quality],제주특별자치도 서귀포시 중문상로 207-13,064-738-9975\n",
      "제주오션팰리스호텔,제주특별자치도 서귀포시 중앙로 14,No Data\n",
      "제주올레하우스,제주특별자치도 제주시 구좌읍 덕행로 450-23,064-783-1152\n",
      "제주올리브,제주특별자치도 서귀포시 남원읍 태위로 604-13,064-764-0505\n",
      "제주이도펜션(구 제주펜트하우스),제주특별자치도 서귀포시 일주서로 166-61,064-738-4450<br />064-738-4460\n",
      "제주카사블랑카,제주특별자치도 서귀포시 학수암로 111,064-739-7739\n",
      "제주캐슬펜션,제주특별자치도 서귀포시 태평로92번길 36,064-739-6780\n",
      "제주팔레스호텔,제주특별자치도 제주시 탑동로 9,064-753-8811\n",
      "제주펜션 향림원,제주특별자치도 서귀포시 칠십리로394번길 8-3,064-733-5799\n",
      "제주해안휴양펜션,제주특별자치도 서귀포시 안덕면 사계남로 89,064-794-1886\n",
      "제주향,제주특별자치도 서귀포시 색달로61번길 57,064-739-5665\n",
      "조은리조트,제주특별자치도 서귀포시 이어도로 721,064-739-0640\n",
      "중문훼미리리조트,제주특별자치도 서귀포시 소보리당로164번길 83,064-738-7871\n",
      "천지연크리스탈호텔,제주특별자치도 서귀포시 천지연로 39,No Data\n",
      "청재설헌,제주특별자치도 서귀포시 인정오름로 135-18,064-732-2020\n",
      "취다선리조트(취다선 리조트 Tea&Meditation),제주특별자치도 서귀포시 성산읍 해맞이해안로 2688,010-5117-7552\n",
      "칠십리호텔,제주특별자치도 서귀포시 태평로353번길 22-3,No Data\n",
      "카이 호스텔,제주특별자치도 제주시 한림읍 협재2길 10,No Data\n",
      "카이 호스텔,제주특별자치도 제주시 한림읍 협재2길 10,064-796-2428\n",
      "카이로스,제주특별자치도 제주시 애월읍 장유길 49-43,010-7478-5707\n",
      "켄싱턴리조트 서귀포,제주특별자치도 서귀포시 이어도로 684,064-739-9001\n",
      "켄싱턴리조트 제주한림,제주특별자치도 제주시 한림읍 한림해안로 530,064-796-9600\n",
      "코델리아리조트,제주특별자치도 서귀포시 성산읍 일주동로4120번길 23-20,070-4548-2200\n",
      "쿠지홀리데이 [한국관광 품질인증/Korea Quality],제주특별자치도 서귀포시 난산로 100,010-5347-8733\n",
      "클럽다인리조트,제주특별자치도 제주시 애월읍 애월해안로 400-9,064-799-2600\n",
      "킴스캐빈,제주특별자치도 서귀포시 성산읍 시흥상동로53번길 88-54,064-783-5026\n",
      "타미우스골프&빌리지,제주특별자치도 제주시 애월읍 화전길 201,064-793-0707\n",
      "토비스콘도 제주,제주특별자치도 제주시 애월읍 애월로1길 8,064-799-4400\n",
      "티파니에서 아침을,제주특별자치도 서귀포시 남원읍 서의로154번길 12,064-764-9669\n",
      "틸다하우스  [한국관광 품질인증/Korea Quality],제주특별자치도 제주시 한경면 중산간서로 3367-1,010-7628-0037\n",
      "파밀리아,제주특별자치도 서귀포시 대포동서로 63-20,No Data\n",
      "팜밸리리조트,제주특별자치도 서귀포시 중산간서로 193,064-738-0002, 064-738-7705\n",
      "펜션연리,제주특별자치도 서귀포시 논짓물로 50,064-739-2564\n",
      "펠리스타운,제주특별자치도 서귀포시 성산읍 시흥하동로50번길 23,064-782-4003\n",
      "포도호텔,제주특별자치도 서귀포시 안덕면 산록남로 863,대표 064-792-5200<br />예약 064-792-8000\n",
      "포에마,제주특별자치도 제주시 한림읍 명월로 13,010-8827-4101\n",
      "푸른제주 펜션,제주특별자치도 서귀포시 성산읍 한도로 256,064-783-4830\n",
      "프레리아펜션,제주특별자치도 제주시 애월읍 유수암평화5길 34-29,010-9282-7042\n",
      "플레이스 캠프 제주,제주특별자치도 서귀포시 성산읍 동류암로 20,No Data\n",
      "하니크라운호텔,제주특별자치도 제주시 삼성로 10,064-758-4200\n",
      "하얀언덕,제주특별자치도 서귀포시 표선면 민속해안로 351,010-3665-8201\n",
      "하와이관광호텔,제주특별자치도 제주시 사장3길 32,064-742-0061\n",
      "한화리조트 제주,제주특별자치도 제주시 명림로 575-107,064-725-9000\n",
      "함덕삼다펜션,제주특별자치도 제주시 조천읍 조함해안로 488,064-782-1700\n",
      "해뜨는집 펜션,제주특별자치도 서귀포시 성산읍 한도로 137,064-784-8812\n",
      "해비치리조트,제주특별자치도 서귀포시 표선면 민속해안로 537,No Data\n",
      "해비치호텔,제주특별자치도 서귀포시 표선면 민속해안로 537,No Data\n",
      "해성파크텔,제주특별자치도 서귀포시 천제연로 158-4,No Data\n",
      "호텔 리젠트마린,제주특별자치도 제주시 서부두2길 20,064-717-5000\n",
      "호텔 서귀피안,제주특별자치도 서귀포시 보목로64번길 178,No Data\n",
      "호텔레오,제주특별자치도 제주시 삼무로 14,064-754-7000\n",
      "호텔제이엠(HotelJM),제주특별자치도 제주시 삼무로1길 10-7,064-747-6767\n",
      "후아힌제주 풀빌라,제주특별자치도 제주시 애월읍 부룡수길 38-24,064-799-1240/1241\n",
      "휘닉스 제주 섭지코지,제주특별자치도 서귀포시 성산읍 섭지코지로 107,064-731-7000~5\n",
      "히든 클리프 호텔 & 네이쳐,제주특별자치도 서귀포시 예래해안로 542,No Data\n",
      "C&P리조트,제주특별자치도 서귀포시 성산읍 중산간동로 4328-63,064-784-7701\n",
      "JJ하우스,제주특별자치도 서귀포시 중산간서로 241,064-739-7891\n",
      "THE BAY 제주리조트 (더베이 제주리조트),제주특별자치도 서귀포시 문필로35번길 46,064-732-8500\n",
      "WE호텔,제주특별자치도 서귀포시 1100로 453-95,064-730-1200\n"
     ]
    }
   ],
   "source": [
    "for item in items :\n",
    "    try : \n",
    "        print(item.find('title').text, end=\",\")\n",
    "        print(item.find('addr1').text, end=\",\")\n",
    "        print(item.find('tel').text)\n",
    "    except :\n",
    "        print('No Data')"
   ]
  },
  {
   "cell_type": "markdown",
   "metadata": {},
   "source": [
    "### 연습문제\n",
    "- 광역시도별 국립공원 데이터를 추출해서 df로 생성\n",
    "    - 함수로 만들고 코드를 반복해서 넣어서 만들기"
   ]
  },
  {
   "cell_type": "code",
   "execution_count": null,
   "metadata": {},
   "outputs": [],
   "source": []
  },
  {
   "cell_type": "code",
   "execution_count": null,
   "metadata": {},
   "outputs": [],
   "source": []
  },
  {
   "cell_type": "code",
   "execution_count": null,
   "metadata": {},
   "outputs": [],
   "source": []
  },
  {
   "cell_type": "code",
   "execution_count": null,
   "metadata": {},
   "outputs": [],
   "source": []
  },
  {
   "cell_type": "code",
   "execution_count": null,
   "metadata": {},
   "outputs": [],
   "source": []
  },
  {
   "cell_type": "code",
   "execution_count": null,
   "metadata": {},
   "outputs": [],
   "source": []
  },
  {
   "cell_type": "code",
   "execution_count": null,
   "metadata": {},
   "outputs": [],
   "source": []
  },
  {
   "cell_type": "code",
   "execution_count": null,
   "metadata": {},
   "outputs": [],
   "source": []
  }
 ],
 "metadata": {
  "kernelspec": {
   "display_name": "Python 3",
   "language": "python",
   "name": "python3"
  },
  "language_info": {
   "codemirror_mode": {
    "name": "ipython",
    "version": 3
   },
   "file_extension": ".py",
   "mimetype": "text/x-python",
   "name": "python",
   "nbconvert_exporter": "python",
   "pygments_lexer": "ipython3",
   "version": "3.8.3"
  }
 },
 "nbformat": 4,
 "nbformat_minor": 4
}
