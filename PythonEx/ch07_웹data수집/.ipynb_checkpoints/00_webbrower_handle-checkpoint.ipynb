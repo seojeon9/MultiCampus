{
 "cells": [
  {
   "cell_type": "markdown",
   "metadata": {},
   "source": [
    "- 웹 크롤링은 웹 브라우저를 통해 진행 됨\n",
    "    - 웹 브라우저를 컨트롤 할 수 있어야 함\n",
    "    - 관련 패키지 : webbrowser\n"
   ]
  },
  {
   "cell_type": "code",
   "execution_count": 1,
   "metadata": {},
   "outputs": [],
   "source": [
    "# 브라우저 컨트롤 모듈 import\n",
    "import webbrowser"
   ]
  },
  {
   "cell_type": "markdown",
   "metadata": {},
   "source": [
    "### 브라우저 실행 : webbrowser.open\n",
    "- 매개변수 : url을 전달(접속하고자 하는 웹 사이트)\n",
    "    - url은 파라미터를 포함 할 수 있음\n",
    "    - https://search.naver.com/search.naver?where=nexearch&sm=top_hty&fbm=0&ie=utf8&query=python\n",
    "    - https://search.naver.com/search.naver?   : 검색을 위한 필수 주소\n",
    "    - where=nexearch&sm=top_hty&fbm=0&ie=utf8&query=python   : 서버에 전달되는 파라미터 (query=검색어)\n",
    "- 반환값이 True면 브라우저 실행이 정상 완료"
   ]
  },
  {
   "cell_type": "code",
   "execution_count": 3,
   "metadata": {},
   "outputs": [
    {
     "data": {
      "text/plain": [
       "True"
      ]
     },
     "execution_count": 3,
     "metadata": {},
     "output_type": "execute_result"
    }
   ],
   "source": [
    "# 네이버 사이트 브라우저 함수로 접속하기\n",
    "url = 'www.naver.com' # 네이버 도메인\n",
    "webbrowser.open(url)"
   ]
  },
  {
   "cell_type": "code",
   "execution_count": 4,
   "metadata": {},
   "outputs": [
    {
     "data": {
      "text/plain": [
       "'https://search.naver.com/search.naver?query=django'"
      ]
     },
     "execution_count": 4,
     "metadata": {},
     "output_type": "execute_result"
    }
   ],
   "source": [
    "# 검색어 적용\n",
    "search_url = 'https://search.naver.com/search.naver?'\n",
    "search = 'query=django'\n",
    "url = search_url + search\n",
    "url"
   ]
  },
  {
   "cell_type": "code",
   "execution_count": 5,
   "metadata": {},
   "outputs": [
    {
     "data": {
      "text/plain": [
       "True"
      ]
     },
     "execution_count": 5,
     "metadata": {},
     "output_type": "execute_result"
    }
   ],
   "source": [
    "webbrowser.open(url)"
   ]
  },
  {
   "cell_type": "markdown",
   "metadata": {},
   "source": [
    "### 단, 검색어를 url에 적용시키는 방법을 site마다 다르다\n",
    "- 구글 검색 url : https://www.google.com/search?q=python&oq=python&aqs=chrome..69i57j69i59j0i131i433i512l2j0i3j0i131i433i512j0i3j69i65.2958j0j7&sourceid=chrome&ie=UTF-8\n",
    "- 기본 url : https://www.google.com/search?\n",
    "- 검색파라미터 : q=검색어"
   ]
  },
  {
   "cell_type": "code",
   "execution_count": 6,
   "metadata": {},
   "outputs": [
    {
     "data": {
      "text/plain": [
       "'https://www.google.com/search?q=django'"
      ]
     },
     "execution_count": 6,
     "metadata": {},
     "output_type": "execute_result"
    }
   ],
   "source": [
    "# 구글 site에 검색어 전송\n",
    "google_url = \"https://www.google.com/search?\"\n",
    "search = 'q=django'\n",
    "url = google_url + search\n",
    "url"
   ]
  },
  {
   "cell_type": "code",
   "execution_count": 7,
   "metadata": {},
   "outputs": [
    {
     "data": {
      "text/plain": [
       "True"
      ]
     },
     "execution_count": 7,
     "metadata": {},
     "output_type": "execute_result"
    }
   ],
   "source": [
    "webbrowser.open(url)"
   ]
  },
  {
   "cell_type": "code",
   "execution_count": 8,
   "metadata": {},
   "outputs": [
    {
     "data": {
      "text/plain": [
       "True"
      ]
     },
     "execution_count": 8,
     "metadata": {},
     "output_type": "execute_result"
    }
   ],
   "source": [
    "# 새탭을 생성 # 근데 그냥 open도 새탭 생성\n",
    "webbrowser.open_new(url)"
   ]
  },
  {
   "cell_type": "code",
   "execution_count": 9,
   "metadata": {},
   "outputs": [],
   "source": [
    "# 여러 url에 접속하기 - url list 사용\n",
    "urls = ['www.naver.com','www.daum.net','www.google.com']\n",
    "\n",
    "for url in urls :\n",
    "    webbrowser.open(url)"
   ]
  },
  {
   "cell_type": "code",
   "execution_count": null,
   "metadata": {},
   "outputs": [],
   "source": []
  },
  {
   "cell_type": "code",
   "execution_count": null,
   "metadata": {},
   "outputs": [],
   "source": []
  },
  {
   "cell_type": "code",
   "execution_count": null,
   "metadata": {},
   "outputs": [],
   "source": []
  },
  {
   "cell_type": "code",
   "execution_count": null,
   "metadata": {},
   "outputs": [],
   "source": []
  },
  {
   "cell_type": "code",
   "execution_count": null,
   "metadata": {},
   "outputs": [],
   "source": []
  }
 ],
 "metadata": {
  "kernelspec": {
   "display_name": "Python 3",
   "language": "python",
   "name": "python3"
  },
  "language_info": {
   "codemirror_mode": {
    "name": "ipython",
    "version": 3
   },
   "file_extension": ".py",
   "mimetype": "text/x-python",
   "name": "python",
   "nbconvert_exporter": "python",
   "pygments_lexer": "ipython3",
   "version": "3.8.3"
  }
 },
 "nbformat": 4,
 "nbformat_minor": 4
}
