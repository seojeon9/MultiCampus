{
 "cells": [
  {
   "cell_type": "markdown",
   "metadata": {},
   "source": [
    "## 공공데이터 API\n",
    "\n",
    "- 제공하는 지자체, 정부부처마다 접근 url등이 상이함\n",
    "    - 데이터 별로 필요 내용 확인\n",
    "    - 요청변수 확인\n",
    "    - 요청 url : 신청한 데이터의 상세설명에서 제공하고 있음\n"
   ]
  },
  {
   "cell_type": "code",
   "execution_count": 1,
   "metadata": {},
   "outputs": [],
   "source": [
    "# 필요 모듈\n",
    "import requests\n",
    "from bs4 import BeautifulSoup\n",
    "import pandas as pd\n"
   ]
  },
  {
   "cell_type": "markdown",
   "metadata": {},
   "source": [
    "### 지역코드 조회 서비스"
   ]
  },
  {
   "cell_type": "code",
   "execution_count": 33,
   "metadata": {},
   "outputs": [],
   "source": [
    "# 내 인증키\n",
    "# key = 'NJZf0IxXtTO8vlgpcZ8TbyYzgziNOLkFbn8dWmvTRbx4AYWTjdPnpNd2nbroAcineXLi971rvGbpoy23qSMPmQ%3D%3D' # 인코딩 키\n",
    "key = 'NJZf0IxXtTO8vlgpcZ8TbyYzgziNOLkFbn8dWmvTRbx4AYWTjdPnpNd2nbroAcineXLi971rvGbpoy23qSMPmQ==' # 디코딩 키\n",
    "# key = 'vZMb5IJrlcFMcDN%2FjgtYVW%2FyM3AXwucnDgLoQWAK1%2B53coBmAlhC45jFsiKrWBHXg7zQ9pV6ARAiKCPUPN29%2Bw%3D%3D' # 강사님 키\n"
   ]
  },
  {
   "cell_type": "code",
   "execution_count": 34,
   "metadata": {},
   "outputs": [],
   "source": [
    "m_os = 'ETC'\n",
    "m_ap = 'AppTest'"
   ]
  },
  {
   "cell_type": "code",
   "execution_count": 39,
   "metadata": {},
   "outputs": [
    {
     "data": {
      "text/plain": [
       "'http://api.visitkorea.or.kr/openapi/service/rest/KorService/areaCode?ServiceKey=NJZf0IxXtTO8vlgpcZ8TbyYzgziNOLkFbn8dWmvTRbx4AYWTjdPnpNd2nbroAcineXLi971rvGbpoy23qSMPmQ==&MobileOS=ETC&MobileApp=AppTest&numOfRows=20'"
      ]
     },
     "execution_count": 39,
     "metadata": {},
     "output_type": "execute_result"
    }
   ],
   "source": [
    "# 요청 URL\n",
    "endpoint = 'http://api.visitkorea.or.kr/openapi/service/rest/KorService/areaCode?'\n",
    "skey = 'ServiceKey=' + key\n",
    "param = '&MobileOS=' + m_os + '&MobileApp=' + m_ap + '&numOfRows=' + str(20)\n",
    "\n",
    "url = endpoint + skey + param\n",
    "url"
   ]
  },
  {
   "cell_type": "code",
   "execution_count": 40,
   "metadata": {},
   "outputs": [],
   "source": [
    "result = requests.get(url)"
   ]
  },
  {
   "cell_type": "code",
   "execution_count": 37,
   "metadata": {},
   "outputs": [
    {
     "data": {
      "text/plain": [
       "<Response [200]>"
      ]
     },
     "execution_count": 37,
     "metadata": {},
     "output_type": "execute_result"
    }
   ],
   "source": [
    "result"
   ]
  },
  {
   "cell_type": "code",
   "execution_count": 41,
   "metadata": {},
   "outputs": [
    {
     "data": {
      "text/plain": [
       "<?xml version=\"1.0\" encoding=\"UTF-8\" standalone=\"yes\"?><response><header><resultcode>0000</resultcode><resultmsg>OK</resultmsg></header><body><items><item><code>1</code><name>서울</name><rnum>1</rnum></item><item><code>2</code><name>인천</name><rnum>2</rnum></item><item><code>3</code><name>대전</name><rnum>3</rnum></item><item><code>4</code><name>대구</name><rnum>4</rnum></item><item><code>5</code><name>광주</name><rnum>5</rnum></item><item><code>6</code><name>부산</name><rnum>6</rnum></item><item><code>7</code><name>울산</name><rnum>7</rnum></item><item><code>8</code><name>세종특별자치시</name><rnum>8</rnum></item><item><code>31</code><name>경기도</name><rnum>9</rnum></item><item><code>32</code><name>강원도</name><rnum>10</rnum></item><item><code>33</code><name>충청북도</name><rnum>11</rnum></item><item><code>34</code><name>충청남도</name><rnum>12</rnum></item><item><code>35</code><name>경상북도</name><rnum>13</rnum></item><item><code>36</code><name>경상남도</name><rnum>14</rnum></item><item><code>37</code><name>전라북도</name><rnum>15</rnum></item><item><code>38</code><name>전라남도</name><rnum>16</rnum></item><item><code>39</code><name>제주도</name><rnum>17</rnum></item></items><numofrows>20</numofrows><pageno>1</pageno><totalcount>17</totalcount></body></response>"
      ]
     },
     "execution_count": 41,
     "metadata": {},
     "output_type": "execute_result"
    }
   ],
   "source": [
    "result.content\n",
    "bs_obj = BeautifulSoup(result.content, \"html.parser\")\n",
    "bs_obj"
   ]
  },
  {
   "cell_type": "code",
   "execution_count": 46,
   "metadata": {},
   "outputs": [
    {
     "data": {
      "text/plain": [
       "[<item><code>1</code><name>서울</name><rnum>1</rnum></item>,\n",
       " <item><code>2</code><name>인천</name><rnum>2</rnum></item>,\n",
       " <item><code>3</code><name>대전</name><rnum>3</rnum></item>,\n",
       " <item><code>4</code><name>대구</name><rnum>4</rnum></item>,\n",
       " <item><code>5</code><name>광주</name><rnum>5</rnum></item>,\n",
       " <item><code>6</code><name>부산</name><rnum>6</rnum></item>,\n",
       " <item><code>7</code><name>울산</name><rnum>7</rnum></item>,\n",
       " <item><code>8</code><name>세종특별자치시</name><rnum>8</rnum></item>,\n",
       " <item><code>31</code><name>경기도</name><rnum>9</rnum></item>,\n",
       " <item><code>32</code><name>강원도</name><rnum>10</rnum></item>,\n",
       " <item><code>33</code><name>충청북도</name><rnum>11</rnum></item>,\n",
       " <item><code>34</code><name>충청남도</name><rnum>12</rnum></item>,\n",
       " <item><code>35</code><name>경상북도</name><rnum>13</rnum></item>,\n",
       " <item><code>36</code><name>경상남도</name><rnum>14</rnum></item>,\n",
       " <item><code>37</code><name>전라북도</name><rnum>15</rnum></item>,\n",
       " <item><code>38</code><name>전라남도</name><rnum>16</rnum></item>,\n",
       " <item><code>39</code><name>제주도</name><rnum>17</rnum></item>]"
      ]
     },
     "execution_count": 46,
     "metadata": {},
     "output_type": "execute_result"
    }
   ],
   "source": [
    "items = bs_obj.find('items')\n",
    "item = items.findAll('item')\n",
    "item"
   ]
  },
  {
   "cell_type": "code",
   "execution_count": 50,
   "metadata": {},
   "outputs": [
    {
     "data": {
      "text/plain": [
       "'서울'"
      ]
     },
     "execution_count": 50,
     "metadata": {},
     "output_type": "execute_result"
    }
   ],
   "source": [
    "item[0]\n",
    "item[0].code.text\n",
    "item[0].name # name이 태그 객체의 속성명이므로 . 로 접근 불가\n",
    "item[0].find('name').text"
   ]
  },
  {
   "cell_type": "code",
   "execution_count": 51,
   "metadata": {},
   "outputs": [
    {
     "data": {
      "text/plain": [
       "['1',\n",
       " '2',\n",
       " '3',\n",
       " '4',\n",
       " '5',\n",
       " '6',\n",
       " '7',\n",
       " '8',\n",
       " '31',\n",
       " '32',\n",
       " '33',\n",
       " '34',\n",
       " '35',\n",
       " '36',\n",
       " '37',\n",
       " '38',\n",
       " '39']"
      ]
     },
     "execution_count": 51,
     "metadata": {},
     "output_type": "execute_result"
    }
   ],
   "source": [
    "area_code = [ i.code.text for i in item]\n",
    "area_code"
   ]
  },
  {
   "cell_type": "code",
   "execution_count": 52,
   "metadata": {},
   "outputs": [
    {
     "data": {
      "text/plain": [
       "['서울',\n",
       " '인천',\n",
       " '대전',\n",
       " '대구',\n",
       " '광주',\n",
       " '부산',\n",
       " '울산',\n",
       " '세종특별자치시',\n",
       " '경기도',\n",
       " '강원도',\n",
       " '충청북도',\n",
       " '충청남도',\n",
       " '경상북도',\n",
       " '경상남도',\n",
       " '전라북도',\n",
       " '전라남도',\n",
       " '제주도']"
      ]
     },
     "execution_count": 52,
     "metadata": {},
     "output_type": "execute_result"
    }
   ],
   "source": [
    "area_name = [ i.find('name').text for i in item]\n",
    "area_name"
   ]
  },
  {
   "cell_type": "code",
   "execution_count": 53,
   "metadata": {},
   "outputs": [
    {
     "data": {
      "text/html": [
       "<div>\n",
       "<style scoped>\n",
       "    .dataframe tbody tr th:only-of-type {\n",
       "        vertical-align: middle;\n",
       "    }\n",
       "\n",
       "    .dataframe tbody tr th {\n",
       "        vertical-align: top;\n",
       "    }\n",
       "\n",
       "    .dataframe thead th {\n",
       "        text-align: right;\n",
       "    }\n",
       "</style>\n",
       "<table border=\"1\" class=\"dataframe\">\n",
       "  <thead>\n",
       "    <tr style=\"text-align: right;\">\n",
       "      <th></th>\n",
       "      <th>광역시도코드</th>\n",
       "      <th>광역시도명</th>\n",
       "    </tr>\n",
       "  </thead>\n",
       "  <tbody>\n",
       "    <tr>\n",
       "      <th>0</th>\n",
       "      <td>1</td>\n",
       "      <td>서울</td>\n",
       "    </tr>\n",
       "    <tr>\n",
       "      <th>1</th>\n",
       "      <td>2</td>\n",
       "      <td>인천</td>\n",
       "    </tr>\n",
       "    <tr>\n",
       "      <th>2</th>\n",
       "      <td>3</td>\n",
       "      <td>대전</td>\n",
       "    </tr>\n",
       "    <tr>\n",
       "      <th>3</th>\n",
       "      <td>4</td>\n",
       "      <td>대구</td>\n",
       "    </tr>\n",
       "    <tr>\n",
       "      <th>4</th>\n",
       "      <td>5</td>\n",
       "      <td>광주</td>\n",
       "    </tr>\n",
       "    <tr>\n",
       "      <th>5</th>\n",
       "      <td>6</td>\n",
       "      <td>부산</td>\n",
       "    </tr>\n",
       "    <tr>\n",
       "      <th>6</th>\n",
       "      <td>7</td>\n",
       "      <td>울산</td>\n",
       "    </tr>\n",
       "    <tr>\n",
       "      <th>7</th>\n",
       "      <td>8</td>\n",
       "      <td>세종특별자치시</td>\n",
       "    </tr>\n",
       "    <tr>\n",
       "      <th>8</th>\n",
       "      <td>31</td>\n",
       "      <td>경기도</td>\n",
       "    </tr>\n",
       "    <tr>\n",
       "      <th>9</th>\n",
       "      <td>32</td>\n",
       "      <td>강원도</td>\n",
       "    </tr>\n",
       "    <tr>\n",
       "      <th>10</th>\n",
       "      <td>33</td>\n",
       "      <td>충청북도</td>\n",
       "    </tr>\n",
       "    <tr>\n",
       "      <th>11</th>\n",
       "      <td>34</td>\n",
       "      <td>충청남도</td>\n",
       "    </tr>\n",
       "    <tr>\n",
       "      <th>12</th>\n",
       "      <td>35</td>\n",
       "      <td>경상북도</td>\n",
       "    </tr>\n",
       "    <tr>\n",
       "      <th>13</th>\n",
       "      <td>36</td>\n",
       "      <td>경상남도</td>\n",
       "    </tr>\n",
       "    <tr>\n",
       "      <th>14</th>\n",
       "      <td>37</td>\n",
       "      <td>전라북도</td>\n",
       "    </tr>\n",
       "    <tr>\n",
       "      <th>15</th>\n",
       "      <td>38</td>\n",
       "      <td>전라남도</td>\n",
       "    </tr>\n",
       "    <tr>\n",
       "      <th>16</th>\n",
       "      <td>39</td>\n",
       "      <td>제주도</td>\n",
       "    </tr>\n",
       "  </tbody>\n",
       "</table>\n",
       "</div>"
      ],
      "text/plain": [
       "   광역시도코드    광역시도명\n",
       "0       1       서울\n",
       "1       2       인천\n",
       "2       3       대전\n",
       "3       4       대구\n",
       "4       5       광주\n",
       "5       6       부산\n",
       "6       7       울산\n",
       "7       8  세종특별자치시\n",
       "8      31      경기도\n",
       "9      32      강원도\n",
       "10     33     충청북도\n",
       "11     34     충청남도\n",
       "12     35     경상북도\n",
       "13     36     경상남도\n",
       "14     37     전라북도\n",
       "15     38     전라남도\n",
       "16     39      제주도"
      ]
     },
     "execution_count": 53,
     "metadata": {},
     "output_type": "execute_result"
    }
   ],
   "source": [
    "a_code = pd.DataFrame({'광역시도코드':area_code,\n",
    "                      '광역시도명':area_name})\n",
    "a_code"
   ]
  },
  {
   "cell_type": "code",
   "execution_count": null,
   "metadata": {},
   "outputs": [],
   "source": []
  },
  {
   "cell_type": "code",
   "execution_count": null,
   "metadata": {},
   "outputs": [],
   "source": []
  },
  {
   "cell_type": "code",
   "execution_count": null,
   "metadata": {},
   "outputs": [],
   "source": []
  },
  {
   "cell_type": "code",
   "execution_count": null,
   "metadata": {},
   "outputs": [],
   "source": []
  }
 ],
 "metadata": {
  "kernelspec": {
   "display_name": "Python 3",
   "language": "python",
   "name": "python3"
  },
  "language_info": {
   "codemirror_mode": {
    "name": "ipython",
    "version": 3
   },
   "file_extension": ".py",
   "mimetype": "text/x-python",
   "name": "python",
   "nbconvert_exporter": "python",
   "pygments_lexer": "ipython3",
   "version": "3.8.3"
  }
 },
 "nbformat": 4,
 "nbformat_minor": 4
}
