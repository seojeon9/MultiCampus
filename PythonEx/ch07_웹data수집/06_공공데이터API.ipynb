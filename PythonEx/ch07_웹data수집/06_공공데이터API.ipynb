{
 "cells": [
  {
   "cell_type": "markdown",
   "metadata": {},
   "source": [
    "## 공공데이터 API\n",
    "\n",
    "- 제공하는 지자체, 정부부처마다 접근 url등이 상이함\n",
    "    - 데이터 별로 필요 내용 확인\n",
    "    - 요청변수 확인\n",
    "    - 요청 url : 신청한 데이터의 상세설명에서 제공하고 있음\n"
   ]
  },
  {
   "cell_type": "code",
   "execution_count": 1,
   "metadata": {},
   "outputs": [],
   "source": [
    "# 필요 모듈\n",
    "import requests\n",
    "from bs4 import BeautifulSoup\n",
    "import pandas as pd\n"
   ]
  },
  {
   "cell_type": "markdown",
   "metadata": {},
   "source": [
    "### 지역코드 조회 서비스"
   ]
  },
  {
   "cell_type": "code",
   "execution_count": 33,
   "metadata": {},
   "outputs": [],
   "source": [
    "# 내 인증키\n",
    "# key = 'NJZf0IxXtTO8vlgpcZ8TbyYzgziNOLkFbn8dWmvTRbx4AYWTjdPnpNd2nbroAcineXLi971rvGbpoy23qSMPmQ%3D%3D' # 인코딩 키\n",
    "key = 'NJZf0IxXtTO8vlgpcZ8TbyYzgziNOLkFbn8dWmvTRbx4AYWTjdPnpNd2nbroAcineXLi971rvGbpoy23qSMPmQ==' # 디코딩 키\n",
    "# key = 'vZMb5IJrlcFMcDN%2FjgtYVW%2FyM3AXwucnDgLoQWAK1%2B53coBmAlhC45jFsiKrWBHXg7zQ9pV6ARAiKCPUPN29%2Bw%3D%3D' # 강사님 키\n"
   ]
  },
  {
   "cell_type": "code",
   "execution_count": 34,
   "metadata": {},
   "outputs": [],
   "source": [
    "m_os = 'ETC'\n",
    "m_ap = 'AppTest'"
   ]
  },
  {
   "cell_type": "code",
   "execution_count": 39,
   "metadata": {},
   "outputs": [
    {
     "data": {
      "text/plain": [
       "'http://api.visitkorea.or.kr/openapi/service/rest/KorService/areaCode?ServiceKey=NJZf0IxXtTO8vlgpcZ8TbyYzgziNOLkFbn8dWmvTRbx4AYWTjdPnpNd2nbroAcineXLi971rvGbpoy23qSMPmQ==&MobileOS=ETC&MobileApp=AppTest&numOfRows=20'"
      ]
     },
     "execution_count": 39,
     "metadata": {},
     "output_type": "execute_result"
    }
   ],
   "source": [
    "# 요청 URL\n",
    "endpoint = 'http://api.visitkorea.or.kr/openapi/service/rest/KorService/areaCode?'\n",
    "skey = 'ServiceKey=' + key\n",
    "param = '&MobileOS=' + m_os + '&MobileApp=' + m_ap + '&numOfRows=' + str(20)\n",
    "\n",
    "url = endpoint + skey + param\n",
    "url"
   ]
  },
  {
   "cell_type": "code",
   "execution_count": 40,
   "metadata": {},
   "outputs": [],
   "source": [
    "result = requests.get(url)"
   ]
  },
  {
   "cell_type": "code",
   "execution_count": 37,
   "metadata": {},
   "outputs": [
    {
     "data": {
      "text/plain": [
       "<Response [200]>"
      ]
     },
     "execution_count": 37,
     "metadata": {},
     "output_type": "execute_result"
    }
   ],
   "source": [
    "result"
   ]
  },
  {
   "cell_type": "code",
   "execution_count": 41,
   "metadata": {},
   "outputs": [
    {
     "data": {
      "text/plain": [
       "<?xml version=\"1.0\" encoding=\"UTF-8\" standalone=\"yes\"?><response><header><resultcode>0000</resultcode><resultmsg>OK</resultmsg></header><body><items><item><code>1</code><name>서울</name><rnum>1</rnum></item><item><code>2</code><name>인천</name><rnum>2</rnum></item><item><code>3</code><name>대전</name><rnum>3</rnum></item><item><code>4</code><name>대구</name><rnum>4</rnum></item><item><code>5</code><name>광주</name><rnum>5</rnum></item><item><code>6</code><name>부산</name><rnum>6</rnum></item><item><code>7</code><name>울산</name><rnum>7</rnum></item><item><code>8</code><name>세종특별자치시</name><rnum>8</rnum></item><item><code>31</code><name>경기도</name><rnum>9</rnum></item><item><code>32</code><name>강원도</name><rnum>10</rnum></item><item><code>33</code><name>충청북도</name><rnum>11</rnum></item><item><code>34</code><name>충청남도</name><rnum>12</rnum></item><item><code>35</code><name>경상북도</name><rnum>13</rnum></item><item><code>36</code><name>경상남도</name><rnum>14</rnum></item><item><code>37</code><name>전라북도</name><rnum>15</rnum></item><item><code>38</code><name>전라남도</name><rnum>16</rnum></item><item><code>39</code><name>제주도</name><rnum>17</rnum></item></items><numofrows>20</numofrows><pageno>1</pageno><totalcount>17</totalcount></body></response>"
      ]
     },
     "execution_count": 41,
     "metadata": {},
     "output_type": "execute_result"
    }
   ],
   "source": [
    "result.content\n",
    "bs_obj = BeautifulSoup(result.content, \"html.parser\")\n",
    "bs_obj"
   ]
  },
  {
   "cell_type": "code",
   "execution_count": 46,
   "metadata": {},
   "outputs": [
    {
     "data": {
      "text/plain": [
       "[<item><code>1</code><name>서울</name><rnum>1</rnum></item>,\n",
       " <item><code>2</code><name>인천</name><rnum>2</rnum></item>,\n",
       " <item><code>3</code><name>대전</name><rnum>3</rnum></item>,\n",
       " <item><code>4</code><name>대구</name><rnum>4</rnum></item>,\n",
       " <item><code>5</code><name>광주</name><rnum>5</rnum></item>,\n",
       " <item><code>6</code><name>부산</name><rnum>6</rnum></item>,\n",
       " <item><code>7</code><name>울산</name><rnum>7</rnum></item>,\n",
       " <item><code>8</code><name>세종특별자치시</name><rnum>8</rnum></item>,\n",
       " <item><code>31</code><name>경기도</name><rnum>9</rnum></item>,\n",
       " <item><code>32</code><name>강원도</name><rnum>10</rnum></item>,\n",
       " <item><code>33</code><name>충청북도</name><rnum>11</rnum></item>,\n",
       " <item><code>34</code><name>충청남도</name><rnum>12</rnum></item>,\n",
       " <item><code>35</code><name>경상북도</name><rnum>13</rnum></item>,\n",
       " <item><code>36</code><name>경상남도</name><rnum>14</rnum></item>,\n",
       " <item><code>37</code><name>전라북도</name><rnum>15</rnum></item>,\n",
       " <item><code>38</code><name>전라남도</name><rnum>16</rnum></item>,\n",
       " <item><code>39</code><name>제주도</name><rnum>17</rnum></item>]"
      ]
     },
     "execution_count": 46,
     "metadata": {},
     "output_type": "execute_result"
    }
   ],
   "source": [
    "items = bs_obj.find('items')\n",
    "item = items.findAll('item')\n",
    "item"
   ]
  },
  {
   "cell_type": "code",
   "execution_count": 50,
   "metadata": {},
   "outputs": [
    {
     "data": {
      "text/plain": [
       "'서울'"
      ]
     },
     "execution_count": 50,
     "metadata": {},
     "output_type": "execute_result"
    }
   ],
   "source": [
    "item[0]\n",
    "item[0].code.text\n",
    "item[0].name # name이 태그 객체의 속성명이므로 . 로 접근 불가\n",
    "item[0].find('name').text"
   ]
  },
  {
   "cell_type": "code",
   "execution_count": 51,
   "metadata": {},
   "outputs": [
    {
     "data": {
      "text/plain": [
       "['1',\n",
       " '2',\n",
       " '3',\n",
       " '4',\n",
       " '5',\n",
       " '6',\n",
       " '7',\n",
       " '8',\n",
       " '31',\n",
       " '32',\n",
       " '33',\n",
       " '34',\n",
       " '35',\n",
       " '36',\n",
       " '37',\n",
       " '38',\n",
       " '39']"
      ]
     },
     "execution_count": 51,
     "metadata": {},
     "output_type": "execute_result"
    }
   ],
   "source": [
    "area_code = [ i.code.text for i in item]\n",
    "area_code"
   ]
  },
  {
   "cell_type": "code",
   "execution_count": 52,
   "metadata": {},
   "outputs": [
    {
     "data": {
      "text/plain": [
       "['서울',\n",
       " '인천',\n",
       " '대전',\n",
       " '대구',\n",
       " '광주',\n",
       " '부산',\n",
       " '울산',\n",
       " '세종특별자치시',\n",
       " '경기도',\n",
       " '강원도',\n",
       " '충청북도',\n",
       " '충청남도',\n",
       " '경상북도',\n",
       " '경상남도',\n",
       " '전라북도',\n",
       " '전라남도',\n",
       " '제주도']"
      ]
     },
     "execution_count": 52,
     "metadata": {},
     "output_type": "execute_result"
    }
   ],
   "source": [
    "area_name = [ i.find('name').text for i in item]\n",
    "area_name"
   ]
  },
  {
   "cell_type": "code",
   "execution_count": 53,
   "metadata": {},
   "outputs": [
    {
     "data": {
      "text/html": [
       "<div>\n",
       "<style scoped>\n",
       "    .dataframe tbody tr th:only-of-type {\n",
       "        vertical-align: middle;\n",
       "    }\n",
       "\n",
       "    .dataframe tbody tr th {\n",
       "        vertical-align: top;\n",
       "    }\n",
       "\n",
       "    .dataframe thead th {\n",
       "        text-align: right;\n",
       "    }\n",
       "</style>\n",
       "<table border=\"1\" class=\"dataframe\">\n",
       "  <thead>\n",
       "    <tr style=\"text-align: right;\">\n",
       "      <th></th>\n",
       "      <th>광역시도코드</th>\n",
       "      <th>광역시도명</th>\n",
       "    </tr>\n",
       "  </thead>\n",
       "  <tbody>\n",
       "    <tr>\n",
       "      <th>0</th>\n",
       "      <td>1</td>\n",
       "      <td>서울</td>\n",
       "    </tr>\n",
       "    <tr>\n",
       "      <th>1</th>\n",
       "      <td>2</td>\n",
       "      <td>인천</td>\n",
       "    </tr>\n",
       "    <tr>\n",
       "      <th>2</th>\n",
       "      <td>3</td>\n",
       "      <td>대전</td>\n",
       "    </tr>\n",
       "    <tr>\n",
       "      <th>3</th>\n",
       "      <td>4</td>\n",
       "      <td>대구</td>\n",
       "    </tr>\n",
       "    <tr>\n",
       "      <th>4</th>\n",
       "      <td>5</td>\n",
       "      <td>광주</td>\n",
       "    </tr>\n",
       "    <tr>\n",
       "      <th>5</th>\n",
       "      <td>6</td>\n",
       "      <td>부산</td>\n",
       "    </tr>\n",
       "    <tr>\n",
       "      <th>6</th>\n",
       "      <td>7</td>\n",
       "      <td>울산</td>\n",
       "    </tr>\n",
       "    <tr>\n",
       "      <th>7</th>\n",
       "      <td>8</td>\n",
       "      <td>세종특별자치시</td>\n",
       "    </tr>\n",
       "    <tr>\n",
       "      <th>8</th>\n",
       "      <td>31</td>\n",
       "      <td>경기도</td>\n",
       "    </tr>\n",
       "    <tr>\n",
       "      <th>9</th>\n",
       "      <td>32</td>\n",
       "      <td>강원도</td>\n",
       "    </tr>\n",
       "    <tr>\n",
       "      <th>10</th>\n",
       "      <td>33</td>\n",
       "      <td>충청북도</td>\n",
       "    </tr>\n",
       "    <tr>\n",
       "      <th>11</th>\n",
       "      <td>34</td>\n",
       "      <td>충청남도</td>\n",
       "    </tr>\n",
       "    <tr>\n",
       "      <th>12</th>\n",
       "      <td>35</td>\n",
       "      <td>경상북도</td>\n",
       "    </tr>\n",
       "    <tr>\n",
       "      <th>13</th>\n",
       "      <td>36</td>\n",
       "      <td>경상남도</td>\n",
       "    </tr>\n",
       "    <tr>\n",
       "      <th>14</th>\n",
       "      <td>37</td>\n",
       "      <td>전라북도</td>\n",
       "    </tr>\n",
       "    <tr>\n",
       "      <th>15</th>\n",
       "      <td>38</td>\n",
       "      <td>전라남도</td>\n",
       "    </tr>\n",
       "    <tr>\n",
       "      <th>16</th>\n",
       "      <td>39</td>\n",
       "      <td>제주도</td>\n",
       "    </tr>\n",
       "  </tbody>\n",
       "</table>\n",
       "</div>"
      ],
      "text/plain": [
       "   광역시도코드    광역시도명\n",
       "0       1       서울\n",
       "1       2       인천\n",
       "2       3       대전\n",
       "3       4       대구\n",
       "4       5       광주\n",
       "5       6       부산\n",
       "6       7       울산\n",
       "7       8  세종특별자치시\n",
       "8      31      경기도\n",
       "9      32      강원도\n",
       "10     33     충청북도\n",
       "11     34     충청남도\n",
       "12     35     경상북도\n",
       "13     36     경상남도\n",
       "14     37     전라북도\n",
       "15     38     전라남도\n",
       "16     39      제주도"
      ]
     },
     "execution_count": 53,
     "metadata": {},
     "output_type": "execute_result"
    }
   ],
   "source": [
    "a_code = pd.DataFrame({'광역시도코드':area_code,\n",
    "                      '광역시도명':area_name})\n",
    "a_code"
   ]
  },
  {
   "cell_type": "code",
   "execution_count": 54,
   "metadata": {},
   "outputs": [],
   "source": [
    "a_code.to_csv('./crawl_data/광역시도코드_관광공사.csv')"
   ]
  },
  {
   "cell_type": "markdown",
   "metadata": {},
   "source": [
    "### 지역기반 행사 조회 서비스"
   ]
  },
  {
   "cell_type": "code",
   "execution_count": 59,
   "metadata": {},
   "outputs": [],
   "source": [
    "endpoint = 'http://api.visitkorea.or.kr/openapi/service/rest/KorService/searchFestival?'\n",
    "skey = key"
   ]
  },
  {
   "cell_type": "code",
   "execution_count": 56,
   "metadata": {},
   "outputs": [],
   "source": [
    "MobileOS = 'ETC'\n",
    "MobileApp = 'AppTest'\n",
    "numOfRows = '50'\n",
    "arrange = 'A'\n",
    "listYN = \"Y\"\n",
    "areaCode = \"1\"\n",
    "sigunguCode= \"4\"\n",
    "eventStartDate = '20220101'"
   ]
  },
  {
   "cell_type": "markdown",
   "metadata": {},
   "source": [
    "### 서울시 지역 행사 조회(20220101 이후 개최된 행사정보)"
   ]
  },
  {
   "cell_type": "code",
   "execution_count": 57,
   "metadata": {},
   "outputs": [],
   "source": [
    "paramset = 'serviceKey=' + skey + '&' \\\n",
    "+ 'MobileOS=' + MobileOS + \"&\" \\\n",
    "+ 'MobileApp=' + MobileApp + \"&\" \\\n",
    "+ 'numOfRows=' + numOfRows + '&' \\\n",
    "+ 'arrange=' + arrange + '&' \\\n",
    "+ 'listYN=' + listYN + '&' \\\n",
    "+ 'areaCode=' + areaCode + '&' \\\n",
    "+ 'eventStartDate=' + eventStartDate"
   ]
  },
  {
   "cell_type": "code",
   "execution_count": 60,
   "metadata": {},
   "outputs": [
    {
     "data": {
      "text/plain": [
       "'http://api.visitkorea.or.kr/openapi/service/rest/KorService/searchFestival?serviceKey=NJZf0IxXtTO8vlgpcZ8TbyYzgziNOLkFbn8dWmvTRbx4AYWTjdPnpNd2nbroAcineXLi971rvGbpoy23qSMPmQ==&MobileOS=ETC&MobileApp=AppTest&numOfRows=50&arrange=A&listYN=Y&areaCode=1&eventStartDate=20220101'"
      ]
     },
     "execution_count": 60,
     "metadata": {},
     "output_type": "execute_result"
    }
   ],
   "source": [
    "url = endpoint+paramset\n",
    "url"
   ]
  },
  {
   "cell_type": "code",
   "execution_count": 61,
   "metadata": {},
   "outputs": [
    {
     "data": {
      "text/plain": [
       "<Response [200]>"
      ]
     },
     "execution_count": 61,
     "metadata": {},
     "output_type": "execute_result"
    }
   ],
   "source": [
    "result = requests.get(url)\n",
    "result"
   ]
  },
  {
   "cell_type": "code",
   "execution_count": 62,
   "metadata": {},
   "outputs": [
    {
     "data": {
      "text/plain": [
       "<?xml version=\"1.0\" encoding=\"UTF-8\" standalone=\"yes\"?><response><header><resultcode>0000</resultcode><resultmsg>OK</resultmsg></header><body><items><item><addr1>서울특별시 종로구 삼청로 30</addr1><addr2>(소격동)</addr2><areacode>1</areacode><cat1>A02</cat1><cat2>A0208</cat2><cat3>A02080500</cat3><contentid>2733528</contentid><contenttypeid>15</contenttypeid><createdtime>20210813014105</createdtime><eventenddate>20220606</eventenddate><eventstartdate>20210721</eventstartdate><firstimage>http://tong.visitkorea.or.kr/cms/resource/27/2733527_image2_1.jpg</firstimage><firstimage2>http://tong.visitkorea.or.kr/cms/resource/27/2733527_image2_1.jpg</firstimage2><mapx>126.9800649747</mapx><mapy>37.5788361778</mapy><mlevel>6</mlevel><modifiedtime>20220603161322</modifiedtime><readcount>0</readcount><sigungucode>23</sigungucode><tel>02-3701-9500</tel><title>《MMCA 이건희컬렉션 특별전: 한국미술명작》</title></item><item><addr1>서울특별시 강남구 논현동</addr1><addr2>논현동 가구거리</addr2><areacode>1</areacode><cat1>A02</cat1><cat2>A0208</cat2><cat3>A02080600</cat3><contentid>2819403</contentid><contenttypeid>15</contenttypeid><createdtime>20220511162910</createdtime><eventenddate>20220904</eventenddate><eventstartdate>20220826</eventstartdate><firstimage>http://tong.visitkorea.or.kr/cms/resource/96/2819396_image2_1.jpg</firstimage><firstimage2>http://tong.visitkorea.or.kr/cms/resource/96/2819396_image2_1.jpg</firstimage2><mapx>127.0225157989</mapx><mapy>37.5112531257</mapy><mlevel>6</mlevel><modifiedtime>20220511163759</modifiedtime><readcount>0</readcount><sigungucode>1</sigungucode><tel>02-3423-5532</tel><title>강남인테리어디자인위크</title></item><item><addr1>서울특별시 중구 을지로 281</addr1><areacode>1</areacode><cat1>A02</cat1><cat2>A0207</cat2><cat3>A02070200</cat3><contentid>2735376</contentid><contenttypeid>15</contenttypeid><createdtime>20210820001835</createdtime><eventenddate>20220522</eventenddate><eventstartdate>20220423</eventstartdate><firstimage>http://tong.visitkorea.or.kr/cms/resource/90/2816490_image2_1.jpg</firstimage><firstimage2>http://tong.visitkorea.or.kr/cms/resource/90/2816490_image2_1.jpg</firstimage2><mapx>127.0095709797</mapx><mapy>37.5661076320</mapy><mlevel>6</mlevel><modifiedtime>20220418113955</modifiedtime><readcount>0</readcount><sigungucode>6</sigungucode><tel>02-3437-0059</tel><title>거리예술 캬라반 ‘봄’</title></item><item><addr1>서울특별시 강서구 양천로47길 36</addr1><areacode>1</areacode><cat1>A02</cat1><cat2>A0207</cat2><cat3>A02070200</cat3><contentid>2490376</contentid><contenttypeid>15</contenttypeid><createdtime>20170418024520</createdtime><eventenddate>20220611</eventenddate><eventstartdate>20220611</eventstartdate><firstimage>http://tong.visitkorea.or.kr/cms/resource/45/2819745_image2_1.jpg</firstimage><firstimage2>http://tong.visitkorea.or.kr/cms/resource/45/2819745_image2_1.jpg</firstimage2><mapx>126.8383836374</mapx><mapy>37.5722066362</mapy><mlevel>6</mlevel><modifiedtime>20220513141205</modifiedtime><readcount>3937</readcount><sigungucode>4</sigungucode><tel>02-2659-2206</tel><title>겸재문화예술제</title></item><item><addr1>서울특별시 종로구 사직로 161</addr1><areacode>1</areacode><cat1>A02</cat1><cat2>A0207</cat2><cat3>A02070200</cat3><contentid>2648460</contentid><contenttypeid>15</contenttypeid><createdtime>20200224192834</createdtime><eventenddate>20220529</eventenddate><eventstartdate>20220518</eventstartdate><firstimage>http://tong.visitkorea.or.kr/cms/resource/50/2818650_image2_1.jpg</firstimage><firstimage2>http://tong.visitkorea.or.kr/cms/resource/50/2818650_image2_1.jpg</firstimage2><mapx>126.9770319156</mapx><mapy>37.5788944508</mapy><mlevel>6</mlevel><modifiedtime>20220504170235</modifiedtime><readcount>0</readcount><sigungucode>23</sigungucode><tel>02-3210-4633</tel><title>경복궁 별빛야행</title></item><item><addr1>서울특별시 종로구 사직로 161</addr1><areacode>1</areacode><cat1>A02</cat1><cat2>A0207</cat2><cat3>A02070200</cat3><contentid>2601364</contentid><contenttypeid>15</contenttypeid><createdtime>20190511024353</createdtime><eventenddate>20220620</eventenddate><eventstartdate>20220608</eventstartdate><firstimage>http://tong.visitkorea.or.kr/cms/resource/65/2821665_image2_1.png</firstimage><firstimage2>http://tong.visitkorea.or.kr/cms/resource/65/2821665_image3_1.png</firstimage2><mapx>126.9748959222</mapx><mapy>37.5816246501</mapy><mlevel>6</mlevel><modifiedtime>20220526100256</modifiedtime><readcount>40</readcount><sigungucode>23</sigungucode><tel>02-3210-0778</tel><title>경복궁 수라간 시식공감</title></item><item><addr1>서울특별시 관악구</addr1><addr2>(봉천동)</addr2><areacode>1</areacode><cat1>A02</cat1><cat2>A0207</cat2><cat3>A02070200</cat3><contentid>2612274</contentid><contenttypeid>15</contenttypeid><createdtime>20190722184803</createdtime><eventenddate>20221016</eventenddate><eventstartdate>20221014</eventstartdate><firstimage>http://tong.visitkorea.or.kr/cms/resource/16/2667216_image2_1.jpg</firstimage><firstimage2>http://tong.visitkorea.or.kr/cms/resource/16/2667216_image2_1.jpg</firstimage2><mapx>126.9514981970</mapx><mapy>37.4782084678</mapy><mlevel>6</mlevel><modifiedtime>20220413140534</modifiedtime><readcount>0</readcount><sigungucode>5</sigungucode><tel>02) 828-5763</tel><title>관악강감찬축제</title></item><item><addr1>서울특별시 관악구 호암로22길 51</addr1><areacode>1</areacode><cat1>A02</cat1><cat2>A0208</cat2><cat3>A02081100</cat3><contentid>2819336</contentid><contenttypeid>15</contenttypeid><createdtime>20220511153614</createdtime><eventenddate>20221127</eventenddate><eventstartdate>20220424</eventstartdate><firstimage>http://tong.visitkorea.or.kr/cms/resource/52/2819252_image2_1.jpg</firstimage><firstimage2>http://tong.visitkorea.or.kr/cms/resource/52/2819252_image2_1.jpg</firstimage2><mapx>126.9356471260</mapx><mapy>37.4688426049</mapy><mlevel>6</mlevel><modifiedtime>20220512131429</modifiedtime><readcount>0</readcount><sigungucode>5</sigungucode><tel>&lt;a href=\"https://www.instagram.com/p/CdLEB4DrDBb/?igshid=YmMyMTA2M2Y=\" target=\"_blank\" title=\"새창 : 광태소극장 독립영화관 2022 감독전\"&gt;www.instagram.com&lt;/a&gt;</tel><title>광태소극장 독립영화관 2022 감독전</title></item><item><addr1>서울특별시 종로구 사직로 130 3호선 경복궁역</addr1><areacode>1</areacode><cat1>A02</cat1><cat2>A0208</cat2><cat3>A02080500</cat3><contentid>2824778</contentid><contenttypeid>15</contenttypeid><createdtime>20220621181113</createdtime><eventenddate>20231231</eventenddate><eventstartdate>20220114</eventstartdate><firstimage>http://tong.visitkorea.or.kr/cms/resource/67/2824867_image2_1.jpg</firstimage><firstimage2>http://tong.visitkorea.or.kr/cms/resource/67/2824867_image3_1.jpg</firstimage2><mapx>126.9730879153</mapx><mapy>37.5759169480</mapy><mlevel>6</mlevel><modifiedtime>20220627142221</modifiedtime><readcount>0</readcount><sigungucode>23</sigungucode><tel>02-2068-1176</tel><title>광화원 도심 속 미디어 정원</title></item><item><addr1>서울특별시 종로구 삼청로 37</addr1><addr2>(세종로)</addr2><areacode>1</areacode><cat1>A02</cat1><cat2>A0207</cat2><cat3>A02070200</cat3><contentid>679482</contentid><contenttypeid>15</contenttypeid><createdtime>20090115000631</createdtime><eventenddate>20220507</eventenddate><eventstartdate>20220505</eventstartdate><mapx>126.9789372085</mapx><mapy>37.5820413408</mapy><mlevel>6</mlevel><modifiedtime>20220503132156</modifiedtime><readcount>25449</readcount><sigungucode>23</sigungucode><tel>본관: 02-3704-3114&lt;br&gt;파주관: 031-580-5800</tel><title>국립민속박물관 어린이날 한마당</title></item><item><addr1>서울특별시 종로구 삼청로 37</addr1><addr2>(세종로)</addr2><areacode>1</areacode><cat1>A02</cat1><cat2>A0208</cat2><cat3>A02080100</cat3><contentid>140660</contentid><contenttypeid>15</contenttypeid><createdtime>20040311000000</createdtime><eventenddate>20221224</eventenddate><eventstartdate>20210101</eventstartdate><mapx>126.9788705506</mapx><mapy>37.5819663482</mapy><mlevel>6</mlevel><modifiedtime>20211221161229</modifiedtime><readcount>22182</readcount><sigungucode>23</sigungucode><tel>02-3704-3114</tel><title>국립민속박물관 우리민속한마당</title></item><item><addr1>서울특별시 종로구 삼청로 37</addr1><addr2>(세종로)</addr2><areacode>1</areacode><cat1>A02</cat1><cat2>A0207</cat2><cat3>A02070200</cat3><contentid>1204941</contentid><contenttypeid>15</contenttypeid><createdtime>20110216000050</createdtime><eventenddate>20220215</eventenddate><eventstartdate>20220212</eventstartdate><mapx>126.9788594400</mapx><mapy>37.5819774581</mapy><mlevel>6</mlevel><modifiedtime>20220211122743</modifiedtime><readcount>9540</readcount><sigungucode>23</sigungucode><tel>본관: 02-3704-3114&lt;br&gt;파주관: 031-580-5800</tel><title>국립민속박물관 정월대보름 한마당</title></item><item><addr1>서울특별시 강남구 영동대로 513</addr1><addr2>(삼성동)</addr2><areacode>1</areacode><cat1>A02</cat1><cat2>A0208</cat2><cat3>A02080600</cat3><contentid>1276136</contentid><contenttypeid>15</contenttypeid><createdtime>20110512192643</createdtime><eventenddate>20220605</eventenddate><eventstartdate>20220602</eventstartdate><mapx>127.0594124394</mapx><mapy>37.5112648981</mapy><mlevel>6</mlevel><modifiedtime>20220614170520</modifiedtime><readcount>31761</readcount><sigungucode>1</sigungucode><tel>02-6000-8000</tel><title>국제차문화대전</title></item><item><addr1>서울특별시 서초구 강남대로 27 AT센터</addr1><areacode>1</areacode><cat1>A02</cat1><cat2>A0207</cat2><cat3>A02070200</cat3><contentid>2659596</contentid><contenttypeid>15</contenttypeid><createdtime>20200612200502</createdtime><eventenddate>20220619</eventenddate><eventstartdate>20220617</eventstartdate><firstimage>http://tong.visitkorea.or.kr/cms/resource/39/2722939_image2_1.png</firstimage><firstimage2>http://tong.visitkorea.or.kr/cms/resource/39/2722939_image2_1.png</firstimage2><mapx>127.0407514903</mapx><mapy>37.4673918780</mapy><mlevel>6</mlevel><modifiedtime>20220613164952</modifiedtime><readcount>0</readcount><sigungucode>15</sigungucode><tel>070-8866-6668</tel><title>궁디팡팡 캣페스타</title></item><item><addr1>서울특별시 종로구 사직로 161</addr1><areacode>1</areacode><cat1>A02</cat1><cat2>A0207</cat2><cat3>A02070200</cat3><contentid>1998564</contentid><contenttypeid>15</contenttypeid><createdtime>20150421185827</createdtime><eventenddate>20221009</eventenddate><eventstartdate>20221001</eventstartdate><firstimage>http://tong.visitkorea.or.kr/cms/resource/07/2718907_image2_1.png</firstimage><firstimage2>http://tong.visitkorea.or.kr/cms/resource/07/2718907_image2_1.png</firstimage2><mapx>126.9769930325</mapx><mapy>37.5788222356</mapy><mlevel>6</mlevel><modifiedtime>20220620165404</modifiedtime><readcount>65553</readcount><sigungucode>23</sigungucode><tel>02-3210-4683</tel><title>궁중문화축전</title></item><item><addr1>서울특별시 강북구 삼양로 561</addr1><addr2>(우이동)</addr2><areacode>1</areacode><cat1>A02</cat1><cat2>A0208</cat2><cat3>A02081300</cat3><contentid>2592414</contentid><contenttypeid>15</contenttypeid><createdtime>20190319004141</createdtime><eventenddate>20221231</eventenddate><eventstartdate>20220423</eventstartdate><firstimage>http://tong.visitkorea.or.kr/cms/resource/20/2752920_image2_1.png</firstimage><firstimage2>http://tong.visitkorea.or.kr/cms/resource/20/2752920_image2_1.png</firstimage2><mapx>127.0122877055</mapx><mapy>37.6530781245</mapy><mlevel>6</mlevel><modifiedtime>20220428135113</modifiedtime><readcount>50</readcount><sigungucode>3</sigungucode><tel>02-901-6213</tel><title>근현대사 추리여행, '사라진 열쇠를 찾아라'</title></item><item><addr1>서울특별시 중구 세종대로 99 덕수궁</addr1><areacode>1</areacode><cat1>A02</cat1><cat2>A0208</cat2><cat3>A02081300</cat3><contentid>2829873</contentid><contenttypeid>15</contenttypeid><createdtime>20220727183605</createdtime><eventenddate>20220814</eventenddate><eventstartdate>20220809</eventstartdate><firstimage>http://tong.visitkorea.or.kr/cms/resource/67/2829867_image2_1.jpg</firstimage><firstimage2>http://tong.visitkorea.or.kr/cms/resource/67/2829867_image3_1.jpg</firstimage2><mapx>126.9765906796</mapx><mapy>37.5651071556</mapy><mlevel>6</mlevel><modifiedtime>20220727183614</modifiedtime><sigungucode>24</sigungucode><title>나이트 수문장 주간</title></item><item><addr1>서울특별시 중구 명동길 26</addr1><addr2>(명동2가)</addr2><areacode>1</areacode><cat1>A02</cat1><cat2>A0208</cat2><cat3>A02080300</cat3><contentid>406745</contentid><contenttypeid>15</contenttypeid><createdtime>20080118180330</createdtime><eventenddate>20220228</eventenddate><eventstartdate>20211202</eventstartdate><firstimage>http://tong.visitkorea.or.kr/cms/resource/86/2034286_image2_1.jpg</firstimage><firstimage2>http://tong.visitkorea.or.kr/cms/resource/86/2034286_image3_1.jpg</firstimage2><mapx>126.9837456304</mapx><mapy>37.5634463660</mapy><mlevel>6</mlevel><modifiedtime>20211221164759</modifiedtime><readcount>44442</readcount><sigungucode>24</sigungucode><tel>02-739-8288</tel><title>난타 (명동)</title></item><item><addr1>서울특별시 중구 퇴계로34길 28 남산골한옥마을</addr1><areacode>1</areacode><cat1>A02</cat1><cat2>A0207</cat2><cat3>A02070200</cat3><contentid>2819167</contentid><contenttypeid>15</contenttypeid><createdtime>20220510165402</createdtime><eventenddate>20220925</eventenddate><eventstartdate>20220922</eventstartdate><firstimage>http://tong.visitkorea.or.kr/cms/resource/64/2819164_image2_1.jpg</firstimage><firstimage2>http://tong.visitkorea.or.kr/cms/resource/64/2819164_image2_1.jpg</firstimage2><mapx>126.9932865315</mapx><mapy>37.5597775194</mapy><mlevel>6</mlevel><modifiedtime>20220510165412</modifiedtime><readcount>0</readcount><sigungucode>24</sigungucode><tel>02-2000-5806</tel><title>남산 한국의 맛 축제</title></item><item><addr1>서울특별시 종로구 종로 54 보신각</addr1><areacode>1</areacode><cat1>A02</cat1><cat2>A0208</cat2><cat3>A02080100</cat3><contentid>2809535</contentid><contenttypeid>15</contenttypeid><createdtime>20220307144537</createdtime><eventenddate>20221231</eventenddate><eventstartdate>20220101</eventstartdate><firstimage>http://tong.visitkorea.or.kr/cms/resource/29/2809529_image2_1.jpg</firstimage><firstimage2>http://tong.visitkorea.or.kr/cms/resource/29/2809529_image2_1.jpg</firstimage2><mapx>126.9836898995</mapx><mapy>37.5698206245</mapy><mlevel>6</mlevel><modifiedtime>20220315130954</modifiedtime><readcount>0</readcount><sigungucode>23</sigungucode><tel>02-120</tel><title>남산봉수의식 등 전통문화 재현행사</title></item><item><addr1>서울특별시 강남구 영동대로 513 코엑스</addr1><areacode>1</areacode><cat1>A02</cat1><cat2>A0208</cat2><cat3>A02080600</cat3><contentid>2827820</contentid><contenttypeid>15</contenttypeid><createdtime>20220714133530</createdtime><eventenddate>20220917</eventenddate><eventstartdate>20220915</eventstartdate><firstimage>http://tong.visitkorea.or.kr/cms/resource/19/2827819_image2_1.jpg</firstimage><firstimage2>http://tong.visitkorea.or.kr/cms/resource/19/2827819_image3_1.jpg</firstimage2><mapx>127.0592179950</mapx><mapy>37.5119175967</mapy><mlevel>6</mlevel><modifiedtime>20220714133544</modifiedtime><readcount>0</readcount><sigungucode>1</sigungucode><tel>02-6000-4290</tel><title>대한민국 4차산업혁명 페스티벌 2022</title></item><item><addr1>서울특별시 영등포구 여의대로 108 파크원</addr1><areacode>1</areacode><cat1>A02</cat1><cat2>A0207</cat2><cat3>A02070200</cat3><contentid>2816226</contentid><contenttypeid>15</contenttypeid><createdtime>20220414113923</createdtime><eventenddate>20220803</eventenddate><eventstartdate>20220728</eventstartdate><firstimage>http://tong.visitkorea.or.kr/cms/resource/06/2828506_image2_1.png</firstimage><firstimage2>http://tong.visitkorea.or.kr/cms/resource/06/2828506_image3_1.png</firstimage2><mapx>126.9273156868</mapx><mapy>37.5271495732</mapy><mlevel>6</mlevel><modifiedtime>20220721155355</modifiedtime><readcount>0</readcount><sigungucode>20</sigungucode><tel>02-337-2583</tel><title>디지털노마드페스티벌(DIGITAL NOMAD FESTIVAL)</title></item><item><addr1>온라인개최</addr1><areacode>1</areacode><cat1>A02</cat1><cat2>A0207</cat2><cat3>A02070200</cat3><contentid>2383974</contentid><contenttypeid>15</contenttypeid><createdtime>20160516200321</createdtime><eventenddate>20220525</eventenddate><eventstartdate>20220507</eventstartdate><mapx>126.9778738825</mapx><mapy>37.5656098983</mapy><mlevel>6</mlevel><modifiedtime>20220511134730</modifiedtime><readcount>5243</readcount><sigungucode>23</sigungucode><tel>02-861-3020</tel><title>모두하나대축제</title></item><item><addr1>서울특별시 강남구  논현로 (134, 연산MS)</addr1><areacode>1</areacode><cat1>A02</cat1><cat2>A0208</cat2><cat3>A02081300</cat3><contentid>2804687</contentid><contenttypeid>15</contenttypeid><createdtime>20220117174057</createdtime><eventenddate>20220312</eventenddate><eventstartdate>20220312</eventstartdate><mapx>127.0433813981</mapx><mapy>37.4818569134</mapy><mlevel>6</mlevel><modifiedtime>20220208163537</modifiedtime><readcount>0</readcount><sigungucode>1</sigungucode><tel>070-8892-9645</tel><title>무브컬쳐 축제학교 시즌2: 우리의 문화기획 스토리</title></item><item><addr1>서울특별시 용산구 양녕로 445</addr1><areacode>1</areacode><cat1>A02</cat1><cat2>A0207</cat2><cat3>A02070200</cat3><contentid>2598331</contentid><contenttypeid>15</contenttypeid><createdtime>20190420005447</createdtime><eventenddate>20221231</eventenddate><eventstartdate>20220528</eventstartdate><firstimage>http://tong.visitkorea.or.kr/cms/resource/64/2821264_image2_1.jpg</firstimage><firstimage2>http://tong.visitkorea.or.kr/cms/resource/64/2821264_image3_1.jpg</firstimage2><mapx>126.9580520415</mapx><mapy>37.5177178854</mapy><mlevel>6</mlevel><modifiedtime>20220602102429</modifiedtime><readcount>55</readcount><sigungucode>21</sigungucode><tel>02-786-0610</tel><title>문화가 흐르는 예술마당</title></item><item><addr1>서울특별시 종로구 이화장길 26</addr1><addr2>(이화동)</addr2><areacode>1</areacode><cat1>A02</cat1><cat2>A0208</cat2><cat3>A02080300</cat3><contentid>1394326</contentid><contenttypeid>15</contenttypeid><createdtime>20110930145126</createdtime><eventenddate>20221231</eventenddate><eventstartdate>20211029</eventstartdate><firstimage>http://tong.visitkorea.or.kr/cms/resource/72/2489672_image2_1.jpg</firstimage><firstimage2>http://tong.visitkorea.or.kr/cms/resource/72/2489672_image2_1.jpg</firstimage2><mapx>127.0039128630</mapx><mapy>37.5766424167</mapy><mlevel>6</mlevel><modifiedtime>20211222155833</modifiedtime><readcount>23320</readcount><sigungucode>23</sigungucode><tel>070-8245-2602</tel><title>뮤직드라마 당신만이</title></item><item><addr1>서울특별시 강남구 남부순환로 3104</addr1><addr2>(대치동)</addr2><areacode>1</areacode><cat1>A02</cat1><cat2>A0207</cat2><cat3>A02070200</cat3><contentid>2658426</contentid><contenttypeid>15</contenttypeid><createdtime>20200604103329</createdtime><eventenddate>20210220</eventenddate><eventstartdate>20220218</eventstartdate><firstimage>http://tong.visitkorea.or.kr/cms/resource/23/2658423_image2_1.jpg</firstimage><firstimage2>http://tong.visitkorea.or.kr/cms/resource/23/2658423_image2_1.jpg</firstimage2><mapx>127.0719811806</mapx><mapy>37.4957363721</mapy><mlevel>6</mlevel><modifiedtime>20210831130053</modifiedtime><readcount>0</readcount><sigungucode>1</sigungucode><tel>02-2223-1853</tel><title>비건페스타</title></item><item><addr1>서울특별시 중랑구 망우로91길 2</addr1><areacode>1</areacode><cat1>A02</cat1><cat2>A0208</cat2><cat3>A02081300</cat3><contentid>2822295</contentid><contenttypeid>15</contenttypeid><createdtime>20220531092053</createdtime><eventenddate>20221203</eventenddate><eventstartdate>20220123</eventstartdate><firstimage>http://tong.visitkorea.or.kr/cms/resource/92/2822292_image2_1.jpg</firstimage><firstimage2>http://tong.visitkorea.or.kr/cms/resource/92/2822292_image3_1.jpg</firstimage2><mapx>127.1143993819</mapx><mapy>37.5990306940</mapy><mlevel>6</mlevel><modifiedtime>20220607100800</modifiedtime><readcount>0</readcount><sigungucode>25</sigungucode><tel>010-8465-1945</tel><title>생생문화재 중랑구 체험학습</title></item><item><addr1>서울특별시 중구 퇴계로34길 28</addr1><addr2>(필동2가)</addr2><areacode>1</areacode><cat1>A02</cat1><cat2>A0208</cat2><cat3>A02081300</cat3><contentid>2384776</contentid><contenttypeid>15</contenttypeid><createdtime>20160523234009</createdtime><eventenddate>20220912</eventenddate><eventstartdate>20220423</eventstartdate><mapx>126.9935365470</mapx><mapy>37.5584387906</mapy><mlevel>6</mlevel><modifiedtime>20220411110015</modifiedtime><readcount>14637</readcount><tel>02-490-2778</tel><title>서울 명산트레킹</title></item><item><addr1>서울특별시 강남구 영동대로 513 코엑스</addr1><areacode>1</areacode><cat1>A02</cat1><cat2>A0208</cat2><cat3>A02080600</cat3><contentid>1024038</contentid><contenttypeid>15</contenttypeid><createdtime>20100518222522</createdtime><eventenddate>20220626</eventenddate><eventstartdate>20220623</eventstartdate><mapx>127.0592179950</mapx><mapy>37.5119175967</mapy><mlevel>6</mlevel><modifiedtime>20220526175014</modifiedtime><readcount>16099</readcount><sigungucode>1</sigungucode><tel>02-757-6161</tel><title>서울국제관광전</title></item><item><addr1>서울특별시 강남구  영동대로 (513, 코엑스)</addr1><areacode>1</areacode><cat1>A02</cat1><cat2>A0208</cat2><cat3>A02080500</cat3><contentid>228985</contentid><contenttypeid>15</contenttypeid><createdtime>20070529090000</createdtime><eventenddate>20220605</eventenddate><eventstartdate>20220601</eventstartdate><firstimage>http://tong.visitkorea.or.kr/cms/resource/56/2639256_image2_1.JPG</firstimage><firstimage2>http://tong.visitkorea.or.kr/cms/resource/56/2639256_image2_1.JPG</firstimage2><mapx>127.0594429796</mapx><mapy>37.5117148467</mapy><mlevel>6</mlevel><modifiedtime>20220125101545</modifiedtime><readcount>165277</readcount><sigungucode>1</sigungucode><tel>02-7333-8402</tel><title>서울국제도서전</title></item><item><addr1>서울특별시 마포구 양화로 72</addr1><areacode>1</areacode><cat1>A02</cat1><cat2>A0207</cat2><cat3>A02070200</cat3><contentid>1018469</contentid><contenttypeid>15</contenttypeid><createdtime>20100511192951</createdtime><eventenddate>20220930</eventenddate><eventstartdate>20220923</eventstartdate><firstimage>http://tong.visitkorea.or.kr/cms/resource/28/2822428_image2_1.png</firstimage><firstimage2>http://tong.visitkorea.or.kr/cms/resource/28/2822428_image3_1.png</firstimage2><mapx>126.9167298722</mapx><mapy>37.5508549625</mapy><mlevel>6</mlevel><modifiedtime>20220614152958</modifiedtime><readcount>1591</readcount><sigungucode>13</sigungucode><tel>siwf@klti.or.kr</tel><title>서울국제작가축제(Seoul International Writers' Festival)</title></item><item><addr1>서울특별시 강북구 월계로 173 북서울꿈의숲</addr1><areacode>1</areacode><cat1>A02</cat1><cat2>A0208</cat2><cat3>A02080600</cat3><contentid>2787200</contentid><contenttypeid>15</contenttypeid><createdtime>20211207185552</createdtime><eventenddate>20221006</eventenddate><eventstartdate>20220930</eventstartdate><firstimage>http://tong.visitkorea.or.kr/cms/resource/37/2791037_image2_1.jpg</firstimage><firstimage2>http://tong.visitkorea.or.kr/cms/resource/37/2791037_image2_1.jpg</firstimage2><mapx>127.0445440464</mapx><mapy>37.6197242510</mapy><mlevel>6</mlevel><modifiedtime>20220620110557</modifiedtime><readcount>0</readcount><sigungucode>3</sigungucode><title>서울국제정원박람회</title></item><item><addr1>서울특별시 강남구 영동대로 513 코엑스 B홀</addr1><areacode>1</areacode><cat1>A02</cat1><cat2>A0208</cat2><cat3>A02081300</cat3><contentid>1778398</contentid><contenttypeid>15</contenttypeid><createdtime>20130110175909</createdtime><eventenddate>20220702</eventenddate><eventstartdate>20220630</eventstartdate><firstimage>http://tong.visitkorea.or.kr/cms/resource/65/2775865_image2_1.jpg</firstimage><firstimage2>http://tong.visitkorea.or.kr/cms/resource/65/2775865_image2_1.jpg</firstimage2><mapx>127.0591874466</mapx><mapy>37.5117592813</mapy><mlevel>6</mlevel><modifiedtime>20211229135531</modifiedtime><readcount>2095</readcount><sigungucode>1</sigungucode><tel>02-761-2516</tel><title>서울국제주류&amp;와인박람회</title></item><item><addr1>서울특별시 종로구 대학로10길 17</addr1><areacode>1</areacode><cat1>A02</cat1><cat2>A0207</cat2><cat3>A02070200</cat3><contentid>141890</contentid><contenttypeid>15</contenttypeid><createdtime>20130221233835</createdtime><eventenddate>20220529</eventenddate><eventstartdate>20220525</eventstartdate><firstimage>http://tong.visitkorea.or.kr/cms/resource/65/2818365_image2_1.jpg</firstimage><firstimage2>http://tong.visitkorea.or.kr/cms/resource/65/2818365_image2_1.jpg</firstimage2><mapx>127.0029767101</mapx><mapy>37.5811335446</mapy><mlevel>6</mlevel><modifiedtime>20220502112858</modifiedtime><readcount>20914</readcount><sigungucode>23</sigungucode><tel>02)3674-2210</tel><title>서울국제즉흥춤축제</title></item><item><addr1>온라인개최</addr1><areacode>1</areacode><cat1>A02</cat1><cat2>A0207</cat2><cat3>A02070200</cat3><contentid>2455073</contentid><contenttypeid>15</contenttypeid><createdtime>20161213152654</createdtime><eventenddate>20220106</eventenddate><eventstartdate>20220106</eventstartdate><firstimage>http://tong.visitkorea.or.kr/cms/resource/56/2801156_image2_1.jpg</firstimage><firstimage2>http://tong.visitkorea.or.kr/cms/resource/56/2801156_image2_1.jpg</firstimage2><mapx>126.9783710306</mapx><mapy>37.5665986816</mapy><mlevel>6</mlevel><modifiedtime>20211227103222</modifiedtime><readcount>3903</readcount><sigungucode>24</sigungucode><tel>02-3447-0101</tel><title>서울영상광고제</title></item><item><addr1>서울특별시 강남구 봉은사로63길 35</addr1><addr2>(삼성동)</addr2><areacode>1</areacode><cat1>A02</cat1><cat2>A0208</cat2><cat3>A02080500</cat3><contentid>2718984</contentid><contenttypeid>15</contenttypeid><createdtime>20210601221819</createdtime><eventenddate>20220710</eventenddate><eventstartdate>20220707</eventstartdate><firstimage>http://tong.visitkorea.or.kr/cms/resource/14/2814214_image2_1.jpg</firstimage><firstimage2>http://tong.visitkorea.or.kr/cms/resource/14/2814214_image2_1.jpg</firstimage2><mapx>127.0462413481</mapx><mapy>37.5136810472</mapy><mlevel>6</mlevel><modifiedtime>20220329131812</modifiedtime><readcount>0</readcount><sigungucode>1</sigungucode><tel>support@seoulillustrationfair.co.kr</tel><title>서울일러스트레이션페어V.13</title></item><item><addr1>서울특별시 송파구 올림픽로 424</addr1><addr2>(방이동)</addr2><areacode>1</areacode><cat1>A02</cat1><cat2>A0207</cat2><cat3>A02070200</cat3><contentid>713654</contentid><contenttypeid>15</contenttypeid><createdtime>20090330224926</createdtime><eventenddate>20220529</eventenddate><eventstartdate>20220527</eventstartdate><mapx>127.1224425827</mapx><mapy>37.5194456386</mapy><mlevel>6</mlevel><modifiedtime>20220518091928</modifiedtime><readcount>23540</readcount><sigungucode>18</sigungucode><tel>02-563-0595</tel><title>서울재즈페스티벌 (SJF)</title></item><item><addr1>서울특별시 종로구 대학로 144 중원빌딩</addr1><areacode>1</areacode><cat1>A02</cat1><cat2>A0207</cat2><cat3>A02070200</cat3><contentid>1937544</contentid><contenttypeid>15</contenttypeid><createdtime>20140728232434</createdtime><eventenddate>20220813</eventenddate><eventstartdate>20220802</eventstartdate><firstimage>http://tong.visitkorea.or.kr/cms/resource/67/2825467_image2_1.jpg</firstimage><firstimage2>http://tong.visitkorea.or.kr/cms/resource/67/2825467_image3_1.jpg</firstimage2><mapx>127.0020739322</mapx><mapy>37.5840387460</mapy><mlevel>6</mlevel><modifiedtime>20220628161353</modifiedtime><readcount>8386</readcount><sigungucode>23</sigungucode><tel>02-765-7500</tel><title>서울청소년연극축제</title></item><item><addr1>서울특별시 송파구 올림픽로 25 서울종합운동장</addr1><areacode>1</areacode><cat1>A02</cat1><cat2>A0207</cat2><cat3>A02070200</cat3><contentid>2828328</contentid><contenttypeid>15</contenttypeid><createdtime>20220720102529</createdtime><eventenddate>20220814</eventenddate><eventstartdate>20220810</eventstartdate><firstimage>http://tong.visitkorea.or.kr/cms/resource/27/2828327_image2_1.jpg</firstimage><firstimage2>http://tong.visitkorea.or.kr/cms/resource/27/2828327_image3_1.jpg</firstimage2><mapx>127.0735805889</mapx><mapy>37.5114817947</mapy><mlevel>6</mlevel><modifiedtime>20220722164036</modifiedtime><readcount>0</readcount><sigungucode>18</sigungucode><tel>festa0810@gmail.com</tel><title>서울페스타 2022</title></item><item><addr1>서울특별시 마포구 증산로 87</addr1><addr2>(성산동)</addr2><areacode>1</areacode><cat1>A02</cat1><cat2>A0207</cat2><cat3>A02070200</cat3><contentid>142193</contentid><contenttypeid>15</contenttypeid><createdtime>20070813090000</createdtime><eventenddate>20220828</eventenddate><eventstartdate>20220811</eventstartdate><firstimage>http://tong.visitkorea.or.kr/cms/resource/94/2818894_image2_1.JPG</firstimage><firstimage2>http://tong.visitkorea.or.kr/cms/resource/94/2818894_image2_1.JPG</firstimage2><mapx>126.8929203036</mapx><mapy>37.5731297249</mapy><mlevel>6</mlevel><modifiedtime>20220509153113</modifiedtime><readcount>50969</readcount><sigungucode>13</sigungucode><tel>02-325-8250</tel><title>서울프린지페스티벌</title></item><item><addr1>서울특별시 마포구 증산로 87</addr1><areacode>1</areacode><cat1>A02</cat1><cat2>A0208</cat2><cat3>A02081100</cat3><contentid>2816502</contentid><contenttypeid>15</contenttypeid><createdtime>20220418143021</createdtime><eventenddate>20220508</eventenddate><eventstartdate>20220505</eventstartdate><firstimage>http://tong.visitkorea.or.kr/cms/resource/01/2816501_image2_1.jpg</firstimage><firstimage2>http://tong.visitkorea.or.kr/cms/resource/01/2816501_image2_1.jpg</firstimage2><mapx>126.8951646315</mapx><mapy>37.5699856862</mapy><mlevel>6</mlevel><modifiedtime>20220418145223</modifiedtime><readcount>0</readcount><sigungucode>13</sigungucode><tel>02-3437-0095</tel><title>서커스 캬라반 ‘봄’</title></item><item><addr1>서울특별시 용산구 양녕로 445</addr1><areacode>1</areacode><cat1>A02</cat1><cat2>A0208</cat2><cat3>A02081300</cat3><contentid>2825852</contentid><contenttypeid>15</contenttypeid><createdtime>20220630113732</createdtime><eventenddate>20220731</eventenddate><eventstartdate>20220727</eventstartdate><firstimage>http://tong.visitkorea.or.kr/cms/resource/59/2828659_image2_1.jpg</firstimage><firstimage2>http://tong.visitkorea.or.kr/cms/resource/59/2828659_image3_1.jpg</firstimage2><mapx>126.9580520415</mapx><mapy>37.5177178854</mapy><mlevel>6</mlevel><modifiedtime>20220722133749</modifiedtime><readcount>0</readcount><sigungucode>21</sigungucode><tel>044-864-6149</tel><title>손에손에 뮤직페스타 in 서울</title></item><item><addr1>서울특별시 송파구 올림픽로 326 송파구청</addr1><areacode>1</areacode><cat1>A02</cat1><cat2>A0207</cat2><cat3>A02070200</cat3><contentid>2808963</contentid><contenttypeid>15</contenttypeid><createdtime>20220302113549</createdtime><eventenddate>20220403</eventenddate><eventstartdate>20220325</eventstartdate><firstimage>http://tong.visitkorea.or.kr/cms/resource/50/2808950_image2_1.JPG</firstimage><firstimage2>http://tong.visitkorea.or.kr/cms/resource/50/2808950_image2_1.JPG</firstimage2><mapx>127.1066830358</mapx><mapy>37.5148625533</mapy><mlevel>6</mlevel><modifiedtime>20220304163347</modifiedtime><readcount>0</readcount><sigungucode>18</sigungucode><tel>02-2147-2800</tel><title>송파둘레길 벚꽃나들이</title></item><item><addr1>서울특별시 종로구 사직로 161</addr1><addr2>(세종로)</addr2><areacode>1</areacode><cat1>A02</cat1><cat2>A0208</cat2><cat3>A02080100</cat3><contentid>141661</contentid><contenttypeid>15</contenttypeid><createdtime>20070322090000</createdtime><eventenddate>20221231</eventenddate><eventstartdate>20220101</eventstartdate><firstimage>http://tong.visitkorea.or.kr/cms/resource/96/868696_image2_1.jpg</firstimage><firstimage2>http://tong.visitkorea.or.kr/cms/resource/96/868696_image3_1.jpg</firstimage2><mapx>126.9767235747</mapx><mapy>37.5801859611</mapy><mlevel>6</mlevel><modifiedtime>20220509151916</modifiedtime><readcount>25682</readcount><sigungucode>23</sigungucode><tel>02-3210-1645</tel><title>수문장 교대의식</title></item><item><addr1>서울특별시 마포구 와우산로 94</addr1><areacode>1</areacode><cat1>A02</cat1><cat2>A0207</cat2><cat3>A02070200</cat3><contentid>1829696</contentid><contenttypeid>15</contenttypeid><createdtime>20130723181937</createdtime><eventenddate>20220821</eventenddate><eventstartdate>20220726</eventstartdate><firstimage>http://tong.visitkorea.or.kr/cms/resource/17/2824917_image2_1.jpg</firstimage><firstimage2>http://tong.visitkorea.or.kr/cms/resource/17/2824917_image3_1.jpg</firstimage2><mapx>126.9255540555</mapx><mapy>37.5512772937</mapy><mlevel>6</mlevel><modifiedtime>20220622162007</modifiedtime><readcount>27293</readcount><sigungucode>13</sigungucode><tel>02-724-6324</tel><title>아시아프</title></item><item><addr1>온라인개최</addr1><addr2>(상암동)</addr2><areacode>1</areacode><cat1>A02</cat1><cat2>A0208</cat2><cat3>A02081200</cat3><contentid>2487911</contentid><contenttypeid>15</contenttypeid><createdtime>20170329192930</createdtime><eventenddate>20220417</eventenddate><eventstartdate>20220321</eventstartdate><firstimage>http://tong.visitkorea.or.kr/cms/resource/08/2487908_image2_1.jpg</firstimage><firstimage2>http://tong.visitkorea.or.kr/cms/resource/08/2487908_image2_1.jpg</firstimage2><mlevel>6</mlevel><modifiedtime>20220411150108</modifiedtime><readcount>2006</readcount><sigungucode>13</sigungucode><tel>02-2036-9214</tel><title>여성마라톤대회</title></item><item><addr1>서울특별시 종로구 우정국로 55</addr1><areacode>1</areacode><cat1>A02</cat1><cat2>A0207</cat2><cat3>A02070200</cat3><contentid>531460</contentid><contenttypeid>15</contenttypeid><createdtime>20080415015603</createdtime><eventenddate>20220501</eventenddate><eventstartdate>20220429</eventstartdate><firstimage>http://tong.visitkorea.or.kr/cms/resource/22/2811822_image2_1.jpg</firstimage><firstimage2>http://tong.visitkorea.or.kr/cms/resource/22/2811822_image2_1.jpg</firstimage2><mapx>126.9815038890</mapx><mapy>37.5733035136</mapy><mlevel>6</mlevel><modifiedtime>20220322173219</modifiedtime><readcount>128875</readcount><sigungucode>23</sigungucode><tel>02-2011-1744~1747</tel><title>연등회</title></item><item><addr1>서울특별시 영등포구 신길로 275</addr1><addr2>(영등포동)</addr2><areacode>1</areacode><cat1>A02</cat1><cat2>A0207</cat2><cat3>A02070200</cat3><contentid>1634590</contentid><contenttypeid>15</contenttypeid><createdtime>20120531020909</createdtime><eventenddate>20220603</eventenddate><eventstartdate>20220603</eventstartdate><firstimage>http://tong.visitkorea.or.kr/cms/resource/29/2492729_image2_1.jpg</firstimage><firstimage2>http://tong.visitkorea.or.kr/cms/resource/29/2492729_image2_1.jpg</firstimage2><mapx>126.9121007163</mapx><mapy>37.5161700211</mapy><mlevel>6</mlevel><modifiedtime>20220526112909</modifiedtime><readcount>9400</readcount><sigungucode>20</sigungucode><tel>영등포문화원 02-846-0155~6</tel><title>영등포 단오축제</title></item><item><addr1>서울특별시 중구 퇴계로34길 28 남산골한옥마을</addr1><areacode>1</areacode><cat1>A02</cat1><cat2>A0208</cat2><cat3>A02080100</cat3><contentid>2821777</contentid><contenttypeid>15</contenttypeid><createdtime>20220526145409</createdtime><eventenddate>20231231</eventenddate><eventstartdate>20220501</eventstartdate><firstimage>http://tong.visitkorea.or.kr/cms/resource/67/2821767_image2_1.jpg</firstimage><firstimage2>http://tong.visitkorea.or.kr/cms/resource/67/2821767_image3_1.jpg</firstimage2><mapx>126.9932865315</mapx><mapy>37.5597775194</mapy><mlevel>6</mlevel><modifiedtime>20220527151508</modifiedtime><readcount>0</readcount><sigungucode>24</sigungucode><title>영재국악회 국악공연</title></item></items><numofrows>50</numofrows><pageno>1</pageno><totalcount>140</totalcount></body></response>"
      ]
     },
     "execution_count": 62,
     "metadata": {},
     "output_type": "execute_result"
    }
   ],
   "source": [
    "bs_obj = BeautifulSoup(result.content,'html.parser')\n",
    "bs_obj"
   ]
  },
  {
   "cell_type": "code",
   "execution_count": null,
   "metadata": {},
   "outputs": [],
   "source": []
  },
  {
   "cell_type": "code",
   "execution_count": null,
   "metadata": {},
   "outputs": [],
   "source": []
  },
  {
   "cell_type": "code",
   "execution_count": null,
   "metadata": {},
   "outputs": [],
   "source": []
  },
  {
   "cell_type": "code",
   "execution_count": null,
   "metadata": {},
   "outputs": [],
   "source": []
  }
 ],
 "metadata": {
  "kernelspec": {
   "display_name": "Python 3",
   "language": "python",
   "name": "python3"
  },
  "language_info": {
   "codemirror_mode": {
    "name": "ipython",
    "version": 3
   },
   "file_extension": ".py",
   "mimetype": "text/x-python",
   "name": "python",
   "nbconvert_exporter": "python",
   "pygments_lexer": "ipython3",
   "version": "3.8.3"
  }
 },
 "nbformat": 4,
 "nbformat_minor": 4
}
