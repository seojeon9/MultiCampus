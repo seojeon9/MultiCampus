{
 "cells": [
  {
   "cell_type": "code",
   "execution_count": 74,
   "metadata": {},
   "outputs": [],
   "source": [
    "# 패키지 임포트\n",
    "import selenium\n",
    "from selenium import webdriver\n",
    "import pandas as pd\n",
    "import numpy as np\n",
    "from bs4 import BeautifulSoup\n",
    "from selenium.webdriver.common.by import By\n",
    "import time"
   ]
  },
  {
   "cell_type": "code",
   "execution_count": 2,
   "metadata": {},
   "outputs": [
    {
     "data": {
      "text/html": [
       "<div>\n",
       "<style scoped>\n",
       "    .dataframe tbody tr th:only-of-type {\n",
       "        vertical-align: middle;\n",
       "    }\n",
       "\n",
       "    .dataframe tbody tr th {\n",
       "        vertical-align: top;\n",
       "    }\n",
       "\n",
       "    .dataframe thead th {\n",
       "        text-align: right;\n",
       "    }\n",
       "</style>\n",
       "<table border=\"1\" class=\"dataframe\">\n",
       "  <thead>\n",
       "    <tr style=\"text-align: right;\">\n",
       "      <th></th>\n",
       "      <th>업소아이디</th>\n",
       "      <th>업소명</th>\n",
       "      <th>분류코드</th>\n",
       "      <th>분류코드명</th>\n",
       "      <th>업소 주소</th>\n",
       "      <th>업소 전화번호</th>\n",
       "      <th>추천수</th>\n",
       "      <th>상품명</th>\n",
       "      <th>상품가격(일반)(원)</th>\n",
       "    </tr>\n",
       "  </thead>\n",
       "  <tbody>\n",
       "    <tr>\n",
       "      <th>0</th>\n",
       "      <td>9635</td>\n",
       "      <td>박연헤어</td>\n",
       "      <td>5</td>\n",
       "      <td>이 미용업</td>\n",
       "      <td>서울특별시 서울 도봉구 도봉로136길 111(창동)</td>\n",
       "      <td>02-900-0838</td>\n",
       "      <td>0</td>\n",
       "      <td>커트</td>\n",
       "      <td>8000.0</td>\n",
       "    </tr>\n",
       "    <tr>\n",
       "      <th>1</th>\n",
       "      <td>9635</td>\n",
       "      <td>박연헤어</td>\n",
       "      <td>5</td>\n",
       "      <td>이 미용업</td>\n",
       "      <td>서울특별시 서울 도봉구 도봉로136길 111(창동)</td>\n",
       "      <td>02-900-0838</td>\n",
       "      <td>0</td>\n",
       "      <td>파마</td>\n",
       "      <td>30000.0</td>\n",
       "    </tr>\n",
       "    <tr>\n",
       "      <th>2</th>\n",
       "      <td>9634</td>\n",
       "      <td>블루컷트</td>\n",
       "      <td>5</td>\n",
       "      <td>이 미용업</td>\n",
       "      <td>서울특별시 서울 도봉구 해등로 255(쌍문동)</td>\n",
       "      <td>02-999-6922</td>\n",
       "      <td>0</td>\n",
       "      <td>염색</td>\n",
       "      <td>7000.0</td>\n",
       "    </tr>\n",
       "    <tr>\n",
       "      <th>3</th>\n",
       "      <td>9634</td>\n",
       "      <td>블루컷트</td>\n",
       "      <td>5</td>\n",
       "      <td>이 미용업</td>\n",
       "      <td>서울특별시 서울 도봉구 해등로 255(쌍문동)</td>\n",
       "      <td>02-999-6922</td>\n",
       "      <td>0</td>\n",
       "      <td>커트</td>\n",
       "      <td>5000.0</td>\n",
       "    </tr>\n",
       "    <tr>\n",
       "      <th>4</th>\n",
       "      <td>9633</td>\n",
       "      <td>우이목장</td>\n",
       "      <td>1</td>\n",
       "      <td>한식</td>\n",
       "      <td>서울특별시 서울 도봉구 우이천로 298(쌍문동)</td>\n",
       "      <td>02-904-3070</td>\n",
       "      <td>0</td>\n",
       "      <td>갈비탕</td>\n",
       "      <td>11000.0</td>\n",
       "    </tr>\n",
       "    <tr>\n",
       "      <th>...</th>\n",
       "      <td>...</td>\n",
       "      <td>...</td>\n",
       "      <td>...</td>\n",
       "      <td>...</td>\n",
       "      <td>...</td>\n",
       "      <td>...</td>\n",
       "      <td>...</td>\n",
       "      <td>...</td>\n",
       "      <td>...</td>\n",
       "    </tr>\n",
       "    <tr>\n",
       "      <th>2302</th>\n",
       "      <td>272</td>\n",
       "      <td>홍노래방</td>\n",
       "      <td>13</td>\n",
       "      <td>기타서비스업종</td>\n",
       "      <td>서울특별시 마포구 홍익로 1 (서교동)</td>\n",
       "      <td>3142-1551</td>\n",
       "      <td>7</td>\n",
       "      <td>노래방이용료(3인)</td>\n",
       "      <td>15000.0</td>\n",
       "    </tr>\n",
       "    <tr>\n",
       "      <th>2303</th>\n",
       "      <td>272</td>\n",
       "      <td>홍노래방</td>\n",
       "      <td>13</td>\n",
       "      <td>기타서비스업종</td>\n",
       "      <td>서울특별시 마포구 홍익로 1 (서교동)</td>\n",
       "      <td>3142-1551</td>\n",
       "      <td>7</td>\n",
       "      <td>노래방이용료(2인)</td>\n",
       "      <td>15000.0</td>\n",
       "    </tr>\n",
       "    <tr>\n",
       "      <th>2304</th>\n",
       "      <td>272</td>\n",
       "      <td>홍노래방</td>\n",
       "      <td>13</td>\n",
       "      <td>기타서비스업종</td>\n",
       "      <td>서울특별시 마포구 홍익로 1 (서교동)</td>\n",
       "      <td>3142-1551</td>\n",
       "      <td>7</td>\n",
       "      <td>노래방이용료</td>\n",
       "      <td>15000.0</td>\n",
       "    </tr>\n",
       "    <tr>\n",
       "      <th>2305</th>\n",
       "      <td>263</td>\n",
       "      <td>장미미용실</td>\n",
       "      <td>5</td>\n",
       "      <td>이 미용업</td>\n",
       "      <td>서울특별시 서울 중랑구 용마산로129길 61-4</td>\n",
       "      <td>NaN</td>\n",
       "      <td>137</td>\n",
       "      <td>미용료(파마)</td>\n",
       "      <td>20000.0</td>\n",
       "    </tr>\n",
       "    <tr>\n",
       "      <th>2306</th>\n",
       "      <td>263</td>\n",
       "      <td>장미미용실</td>\n",
       "      <td>5</td>\n",
       "      <td>이 미용업</td>\n",
       "      <td>서울특별시 서울 중랑구 용마산로129길 61-4</td>\n",
       "      <td>NaN</td>\n",
       "      <td>137</td>\n",
       "      <td>커트</td>\n",
       "      <td>10000.0</td>\n",
       "    </tr>\n",
       "  </tbody>\n",
       "</table>\n",
       "<p>2307 rows × 9 columns</p>\n",
       "</div>"
      ],
      "text/plain": [
       "      업소아이디    업소명  분류코드    분류코드명                         업소 주소  \\\n",
       "0      9635   박연헤어     5    이 미용업  서울특별시 서울 도봉구 도봉로136길 111(창동)   \n",
       "1      9635   박연헤어     5    이 미용업  서울특별시 서울 도봉구 도봉로136길 111(창동)   \n",
       "2      9634   블루컷트     5    이 미용업     서울특별시 서울 도봉구 해등로 255(쌍문동)   \n",
       "3      9634   블루컷트     5    이 미용업     서울특별시 서울 도봉구 해등로 255(쌍문동)   \n",
       "4      9633   우이목장     1       한식    서울특별시 서울 도봉구 우이천로 298(쌍문동)   \n",
       "...     ...    ...   ...      ...                           ...   \n",
       "2302    272   홍노래방    13  기타서비스업종         서울특별시 마포구 홍익로 1 (서교동)   \n",
       "2303    272   홍노래방    13  기타서비스업종         서울특별시 마포구 홍익로 1 (서교동)   \n",
       "2304    272   홍노래방    13  기타서비스업종         서울특별시 마포구 홍익로 1 (서교동)   \n",
       "2305    263  장미미용실     5    이 미용업    서울특별시 서울 중랑구 용마산로129길 61-4   \n",
       "2306    263  장미미용실     5    이 미용업    서울특별시 서울 중랑구 용마산로129길 61-4   \n",
       "\n",
       "               업소 전화번호  추천수         상품명  상품가격(일반)(원)  \n",
       "0          02-900-0838    0          커트       8000.0  \n",
       "1          02-900-0838    0          파마      30000.0  \n",
       "2          02-999-6922    0          염색       7000.0  \n",
       "3          02-999-6922    0          커트       5000.0  \n",
       "4          02-904-3070    0         갈비탕      11000.0  \n",
       "...                ...  ...         ...          ...  \n",
       "2302  3142-1551           7  노래방이용료(3인)      15000.0  \n",
       "2303  3142-1551           7  노래방이용료(2인)      15000.0  \n",
       "2304  3142-1551           7      노래방이용료      15000.0  \n",
       "2305               NaN  137     미용료(파마)      20000.0  \n",
       "2306               NaN  137          커트      10000.0  \n",
       "\n",
       "[2307 rows x 9 columns]"
      ]
     },
     "execution_count": 2,
     "metadata": {},
     "output_type": "execute_result"
    }
   ],
   "source": [
    "df1 = pd.read_csv(\"./datas/seoul.csv\", encoding=\"cp949\")\n",
    "df1"
   ]
  },
  {
   "cell_type": "code",
   "execution_count": 3,
   "metadata": {},
   "outputs": [],
   "source": [
    "df2 = df1[[\"업소명\",\"분류코드\",\"업소 주소\",\"업소 전화번호\"]]\n",
    "df3=df2[df2[\"분류코드\"]<=4].reset_index()"
   ]
  },
  {
   "cell_type": "code",
   "execution_count": 4,
   "metadata": {},
   "outputs": [],
   "source": [
    "df4 = df3[[\"업소명\",\"업소 주소\",\"업소 전화번호\"]]"
   ]
  },
  {
   "cell_type": "code",
   "execution_count": 5,
   "metadata": {},
   "outputs": [
    {
     "data": {
      "text/html": [
       "<div>\n",
       "<style scoped>\n",
       "    .dataframe tbody tr th:only-of-type {\n",
       "        vertical-align: middle;\n",
       "    }\n",
       "\n",
       "    .dataframe tbody tr th {\n",
       "        vertical-align: top;\n",
       "    }\n",
       "\n",
       "    .dataframe thead th {\n",
       "        text-align: right;\n",
       "    }\n",
       "</style>\n",
       "<table border=\"1\" class=\"dataframe\">\n",
       "  <thead>\n",
       "    <tr style=\"text-align: right;\">\n",
       "      <th></th>\n",
       "      <th>업소명</th>\n",
       "      <th>업소 주소</th>\n",
       "      <th>업소 전화번호</th>\n",
       "    </tr>\n",
       "  </thead>\n",
       "  <tbody>\n",
       "    <tr>\n",
       "      <th>0</th>\n",
       "      <td>우이목장</td>\n",
       "      <td>서울특별시 서울 도봉구 우이천로 298(쌍문동)</td>\n",
       "      <td>02-904-3070</td>\n",
       "    </tr>\n",
       "    <tr>\n",
       "      <th>1</th>\n",
       "      <td>착한부대찌개</td>\n",
       "      <td>서울특별시 서울 도봉구 도봉로109길 46 2층(쌍문동)</td>\n",
       "      <td>02-902-0191</td>\n",
       "    </tr>\n",
       "    <tr>\n",
       "      <th>2</th>\n",
       "      <td>착한부대찌개</td>\n",
       "      <td>서울특별시 서울 도봉구 도봉로109길 46 2층(쌍문동)</td>\n",
       "      <td>02-902-0191</td>\n",
       "    </tr>\n",
       "    <tr>\n",
       "      <th>3</th>\n",
       "      <td>홍방원</td>\n",
       "      <td>서울특별시 서울 도봉구 도봉로169나길 47(도봉동)</td>\n",
       "      <td>02-954-0719</td>\n",
       "    </tr>\n",
       "    <tr>\n",
       "      <th>4</th>\n",
       "      <td>홍방원</td>\n",
       "      <td>서울특별시 서울 도봉구 도봉로169나길 47(도봉동)</td>\n",
       "      <td>02-954-0719</td>\n",
       "    </tr>\n",
       "    <tr>\n",
       "      <th>...</th>\n",
       "      <td>...</td>\n",
       "      <td>...</td>\n",
       "      <td>...</td>\n",
       "    </tr>\n",
       "    <tr>\n",
       "      <th>1638</th>\n",
       "      <td>감베로니</td>\n",
       "      <td>서울특별시 용산구 한강대로81길 5 (갈월동)</td>\n",
       "      <td>3273-1791</td>\n",
       "    </tr>\n",
       "    <tr>\n",
       "      <th>1639</th>\n",
       "      <td>감베로니</td>\n",
       "      <td>서울특별시 용산구 한강대로81길 5 (갈월동)</td>\n",
       "      <td>3273-1791</td>\n",
       "    </tr>\n",
       "    <tr>\n",
       "      <th>1640</th>\n",
       "      <td>장수설렁탕</td>\n",
       "      <td>서울특별시 송파구 백제고분로 148 (잠실동)</td>\n",
       "      <td>415-1472</td>\n",
       "    </tr>\n",
       "    <tr>\n",
       "      <th>1641</th>\n",
       "      <td>장수설렁탕</td>\n",
       "      <td>서울특별시 송파구 백제고분로 148 (잠실동)</td>\n",
       "      <td>415-1472</td>\n",
       "    </tr>\n",
       "    <tr>\n",
       "      <th>1642</th>\n",
       "      <td>무진장</td>\n",
       "      <td>서울특별시 용산구 원효로 212 (원효로2가)</td>\n",
       "      <td>712-8814</td>\n",
       "    </tr>\n",
       "  </tbody>\n",
       "</table>\n",
       "<p>1643 rows × 3 columns</p>\n",
       "</div>"
      ],
      "text/plain": [
       "         업소명                            업소 주소           업소 전화번호\n",
       "0       우이목장       서울특별시 서울 도봉구 우이천로 298(쌍문동)       02-904-3070\n",
       "1     착한부대찌개  서울특별시 서울 도봉구 도봉로109길 46 2층(쌍문동)       02-902-0191\n",
       "2     착한부대찌개  서울특별시 서울 도봉구 도봉로109길 46 2층(쌍문동)       02-902-0191\n",
       "3        홍방원    서울특별시 서울 도봉구 도봉로169나길 47(도봉동)       02-954-0719\n",
       "4        홍방원    서울특별시 서울 도봉구 도봉로169나길 47(도봉동)       02-954-0719\n",
       "...      ...                              ...               ...\n",
       "1638    감베로니        서울특별시 용산구 한강대로81길 5 (갈월동)  3273-1791       \n",
       "1639    감베로니        서울특별시 용산구 한강대로81길 5 (갈월동)  3273-1791       \n",
       "1640   장수설렁탕        서울특별시 송파구 백제고분로 148 (잠실동)  415-1472        \n",
       "1641   장수설렁탕        서울특별시 송파구 백제고분로 148 (잠실동)  415-1472        \n",
       "1642     무진장        서울특별시 용산구 원효로 212 (원효로2가)  712-8814        \n",
       "\n",
       "[1643 rows x 3 columns]"
      ]
     },
     "execution_count": 5,
     "metadata": {},
     "output_type": "execute_result"
    }
   ],
   "source": [
    "df4"
   ]
  },
  {
   "cell_type": "code",
   "execution_count": 6,
   "metadata": {},
   "outputs": [
    {
     "name": "stderr",
     "output_type": "stream",
     "text": [
      "<ipython-input-6-5e33b39bf567>:1: SettingWithCopyWarning: \n",
      "A value is trying to be set on a copy of a slice from a DataFrame\n",
      "\n",
      "See the caveats in the documentation: https://pandas.pydata.org/pandas-docs/stable/user_guide/indexing.html#returning-a-view-versus-a-copy\n",
      "  df4.drop_duplicates(inplace = True)\n"
     ]
    }
   ],
   "source": [
    "df4.drop_duplicates(inplace = True)\n",
    "df4.reset_index(inplace=True)\n",
    "df5 = df4[[\"업소명\",\"업소 주소\",\"업소 전화번호\"]]"
   ]
  },
  {
   "cell_type": "code",
   "execution_count": 7,
   "metadata": {},
   "outputs": [
    {
     "data": {
      "text/html": [
       "<div>\n",
       "<style scoped>\n",
       "    .dataframe tbody tr th:only-of-type {\n",
       "        vertical-align: middle;\n",
       "    }\n",
       "\n",
       "    .dataframe tbody tr th {\n",
       "        vertical-align: top;\n",
       "    }\n",
       "\n",
       "    .dataframe thead th {\n",
       "        text-align: right;\n",
       "    }\n",
       "</style>\n",
       "<table border=\"1\" class=\"dataframe\">\n",
       "  <thead>\n",
       "    <tr style=\"text-align: right;\">\n",
       "      <th></th>\n",
       "      <th>업소명</th>\n",
       "      <th>업소 주소</th>\n",
       "      <th>업소 전화번호</th>\n",
       "    </tr>\n",
       "  </thead>\n",
       "  <tbody>\n",
       "    <tr>\n",
       "      <th>0</th>\n",
       "      <td>우이목장</td>\n",
       "      <td>서울특별시 서울 도봉구 우이천로 298(쌍문동)</td>\n",
       "      <td>02-904-3070</td>\n",
       "    </tr>\n",
       "    <tr>\n",
       "      <th>1</th>\n",
       "      <td>착한부대찌개</td>\n",
       "      <td>서울특별시 서울 도봉구 도봉로109길 46 2층(쌍문동)</td>\n",
       "      <td>02-902-0191</td>\n",
       "    </tr>\n",
       "    <tr>\n",
       "      <th>2</th>\n",
       "      <td>홍방원</td>\n",
       "      <td>서울특별시 서울 도봉구 도봉로169나길 47(도봉동)</td>\n",
       "      <td>02-954-0719</td>\n",
       "    </tr>\n",
       "    <tr>\n",
       "      <th>3</th>\n",
       "      <td>오늘우리집비어</td>\n",
       "      <td>서울특별시 서울 중랑구 용마산로115길 109 지1층</td>\n",
       "      <td>0507-1469-0613</td>\n",
       "    </tr>\n",
       "    <tr>\n",
       "      <th>4</th>\n",
       "      <td>은평닭곰탕</td>\n",
       "      <td>서울특별시 은평구 연서로3길 5(역촌동)</td>\n",
       "      <td>NaN</td>\n",
       "    </tr>\n",
       "    <tr>\n",
       "      <th>...</th>\n",
       "      <td>...</td>\n",
       "      <td>...</td>\n",
       "      <td>...</td>\n",
       "    </tr>\n",
       "    <tr>\n",
       "      <th>727</th>\n",
       "      <td>원조막국수</td>\n",
       "      <td>서울특별시 강북구 노해로33길 49 (수유동)</td>\n",
       "      <td>991-5215</td>\n",
       "    </tr>\n",
       "    <tr>\n",
       "      <th>728</th>\n",
       "      <td>해주냉면</td>\n",
       "      <td>서울특별시 송파구 올림픽로12길 5-22 (잠실동)</td>\n",
       "      <td>424-7192</td>\n",
       "    </tr>\n",
       "    <tr>\n",
       "      <th>729</th>\n",
       "      <td>감베로니</td>\n",
       "      <td>서울특별시 용산구 한강대로81길 5 (갈월동)</td>\n",
       "      <td>3273-1791</td>\n",
       "    </tr>\n",
       "    <tr>\n",
       "      <th>730</th>\n",
       "      <td>장수설렁탕</td>\n",
       "      <td>서울특별시 송파구 백제고분로 148 (잠실동)</td>\n",
       "      <td>415-1472</td>\n",
       "    </tr>\n",
       "    <tr>\n",
       "      <th>731</th>\n",
       "      <td>무진장</td>\n",
       "      <td>서울특별시 용산구 원효로 212 (원효로2가)</td>\n",
       "      <td>712-8814</td>\n",
       "    </tr>\n",
       "  </tbody>\n",
       "</table>\n",
       "<p>732 rows × 3 columns</p>\n",
       "</div>"
      ],
      "text/plain": [
       "         업소명                            업소 주소           업소 전화번호\n",
       "0       우이목장       서울특별시 서울 도봉구 우이천로 298(쌍문동)       02-904-3070\n",
       "1     착한부대찌개  서울특별시 서울 도봉구 도봉로109길 46 2층(쌍문동)       02-902-0191\n",
       "2        홍방원    서울특별시 서울 도봉구 도봉로169나길 47(도봉동)       02-954-0719\n",
       "3    오늘우리집비어    서울특별시 서울 중랑구 용마산로115길 109 지1층    0507-1469-0613\n",
       "4      은평닭곰탕           서울특별시 은평구 연서로3길 5(역촌동)               NaN\n",
       "..       ...                              ...               ...\n",
       "727    원조막국수        서울특별시 강북구 노해로33길 49 (수유동)  991-5215        \n",
       "728     해주냉면     서울특별시 송파구 올림픽로12길 5-22 (잠실동)  424-7192        \n",
       "729     감베로니        서울특별시 용산구 한강대로81길 5 (갈월동)  3273-1791       \n",
       "730    장수설렁탕        서울특별시 송파구 백제고분로 148 (잠실동)  415-1472        \n",
       "731      무진장        서울특별시 용산구 원효로 212 (원효로2가)  712-8814        \n",
       "\n",
       "[732 rows x 3 columns]"
      ]
     },
     "execution_count": 7,
     "metadata": {},
     "output_type": "execute_result"
    }
   ],
   "source": [
    "df5 = df4[[\"업소명\",\"업소 주소\",\"업소 전화번호\"]]\n",
    "df5"
   ]
  },
  {
   "cell_type": "code",
   "execution_count": 8,
   "metadata": {},
   "outputs": [],
   "source": [
    "df5.to_csv('./datas/seoul_res.csv')"
   ]
  },
  {
   "cell_type": "code",
   "execution_count": null,
   "metadata": {},
   "outputs": [],
   "source": [
    "res_table = pd.read_csv('./datas/seoul_res.csv', encoding='cp949')"
   ]
  },
  {
   "cell_type": "code",
   "execution_count": 9,
   "metadata": {},
   "outputs": [],
   "source": [
    "url='https://www.naver.com'"
   ]
  },
  {
   "cell_type": "code",
   "execution_count": 66,
   "metadata": {},
   "outputs": [
    {
     "name": "stderr",
     "output_type": "stream",
     "text": [
      "<ipython-input-66-bbcc174386ed>:1: DeprecationWarning: executable_path has been deprecated, please pass in a Service object\n",
      "  driver = webdriver.Chrome('./driver/chromedriver')\n"
     ]
    }
   ],
   "source": [
    "driver = webdriver.Chrome('./driver/chromedriver')\n",
    "driver.get(url)\n",
    "time.sleep(2)"
   ]
  },
  {
   "cell_type": "code",
   "execution_count": 69,
   "metadata": {},
   "outputs": [],
   "source": [
    "more_xpath = '//*[@id=\"place-main-section-root\"]/div/section/div/div[5]/a'\n",
    "more = driver.find_element(By.XPATH, more_xpath)\n",
    "link = more.get_attribute(\"href\")\n",
    "driver.execute_script(\"arguments[0].click();\",more)"
   ]
  },
  {
   "cell_type": "code",
   "execution_count": 70,
   "metadata": {},
   "outputs": [],
   "source": [
    "driver.switch_to.window(driver.window_handles[-1])  #새로 연 탭으로 이동\n",
    "driver.get(link)"
   ]
  },
  {
   "cell_type": "code",
   "execution_count": 71,
   "metadata": {
    "collapsed": true
   },
   "outputs": [
    {
     "ename": "NoSuchElementException",
     "evalue": "Message: no such element: Unable to locate element: {\"method\":\"xpath\",\"selector\":\"//*[@id=\"_title\"]\"}\n  (Session info: chrome=104.0.5112.81)\nStacktrace:\nBacktrace:\n\tOrdinal0 [0x00D75FD3+2187219]\n\tOrdinal0 [0x00D0E6D1+1763025]\n\tOrdinal0 [0x00C23E78+802424]\n\tOrdinal0 [0x00C51C10+990224]\n\tOrdinal0 [0x00C51EAB+990891]\n\tOrdinal0 [0x00C7EC92+1174674]\n\tOrdinal0 [0x00C6CBD4+1100756]\n\tOrdinal0 [0x00C7CFC2+1167298]\n\tOrdinal0 [0x00C6C9A6+1100198]\n\tOrdinal0 [0x00C46F80+946048]\n\tOrdinal0 [0x00C47E76+949878]\n\tGetHandleVerifier [0x010190C2+2721218]\n\tGetHandleVerifier [0x0100AAF0+2662384]\n\tGetHandleVerifier [0x00E0137A+526458]\n\tGetHandleVerifier [0x00E00416+522518]\n\tOrdinal0 [0x00D14EAB+1789611]\n\tOrdinal0 [0x00D197A8+1808296]\n\tOrdinal0 [0x00D19895+1808533]\n\tOrdinal0 [0x00D226C1+1844929]\n\tBaseThreadInitThunk [0x7604FA29+25]\n\tRtlGetAppContainerNamedObjectPath [0x77C37A9E+286]\n\tRtlGetAppContainerNamedObjectPath [0x77C37A6E+238]\n",
     "output_type": "error",
     "traceback": [
      "\u001b[1;31m---------------------------------------------------------------------------\u001b[0m",
      "\u001b[1;31mNoSuchElementException\u001b[0m                    Traceback (most recent call last)",
      "\u001b[1;32m<ipython-input-71-7d815dfc2a8b>\u001b[0m in \u001b[0;36m<module>\u001b[1;34m\u001b[0m\n\u001b[0;32m      1\u001b[0m \u001b[0mtitle_xpath\u001b[0m \u001b[1;33m=\u001b[0m \u001b[1;34m'//*[@id=\"_title\"]'\u001b[0m\u001b[1;33m\u001b[0m\u001b[1;33m\u001b[0m\u001b[0m\n\u001b[1;32m----> 2\u001b[1;33m \u001b[0mtitle\u001b[0m \u001b[1;33m=\u001b[0m \u001b[0mdriver\u001b[0m\u001b[1;33m.\u001b[0m\u001b[0mfind_element\u001b[0m\u001b[1;33m(\u001b[0m\u001b[0mBy\u001b[0m\u001b[1;33m.\u001b[0m\u001b[0mXPATH\u001b[0m\u001b[1;33m,\u001b[0m\u001b[0mtitle_xpath\u001b[0m\u001b[1;33m)\u001b[0m\u001b[1;33m\u001b[0m\u001b[1;33m\u001b[0m\u001b[0m\n\u001b[0m\u001b[0;32m      3\u001b[0m \u001b[0mtitle\u001b[0m\u001b[1;33m\u001b[0m\u001b[1;33m\u001b[0m\u001b[0m\n",
      "\u001b[1;32m~\\AppData\\Roaming\\Python\\Python38\\site-packages\\selenium\\webdriver\\remote\\webdriver.py\u001b[0m in \u001b[0;36mfind_element\u001b[1;34m(self, by, value)\u001b[0m\n\u001b[0;32m    855\u001b[0m             \u001b[0mvalue\u001b[0m \u001b[1;33m=\u001b[0m \u001b[1;34m'[name=\"%s\"]'\u001b[0m \u001b[1;33m%\u001b[0m \u001b[0mvalue\u001b[0m\u001b[1;33m\u001b[0m\u001b[1;33m\u001b[0m\u001b[0m\n\u001b[0;32m    856\u001b[0m \u001b[1;33m\u001b[0m\u001b[0m\n\u001b[1;32m--> 857\u001b[1;33m         return self.execute(Command.FIND_ELEMENT, {\n\u001b[0m\u001b[0;32m    858\u001b[0m             \u001b[1;34m'using'\u001b[0m\u001b[1;33m:\u001b[0m \u001b[0mby\u001b[0m\u001b[1;33m,\u001b[0m\u001b[1;33m\u001b[0m\u001b[1;33m\u001b[0m\u001b[0m\n\u001b[0;32m    859\u001b[0m             'value': value})['value']\n",
      "\u001b[1;32m~\\AppData\\Roaming\\Python\\Python38\\site-packages\\selenium\\webdriver\\remote\\webdriver.py\u001b[0m in \u001b[0;36mexecute\u001b[1;34m(self, driver_command, params)\u001b[0m\n\u001b[0;32m    433\u001b[0m         \u001b[0mresponse\u001b[0m \u001b[1;33m=\u001b[0m \u001b[0mself\u001b[0m\u001b[1;33m.\u001b[0m\u001b[0mcommand_executor\u001b[0m\u001b[1;33m.\u001b[0m\u001b[0mexecute\u001b[0m\u001b[1;33m(\u001b[0m\u001b[0mdriver_command\u001b[0m\u001b[1;33m,\u001b[0m \u001b[0mparams\u001b[0m\u001b[1;33m)\u001b[0m\u001b[1;33m\u001b[0m\u001b[1;33m\u001b[0m\u001b[0m\n\u001b[0;32m    434\u001b[0m         \u001b[1;32mif\u001b[0m \u001b[0mresponse\u001b[0m\u001b[1;33m:\u001b[0m\u001b[1;33m\u001b[0m\u001b[1;33m\u001b[0m\u001b[0m\n\u001b[1;32m--> 435\u001b[1;33m             \u001b[0mself\u001b[0m\u001b[1;33m.\u001b[0m\u001b[0merror_handler\u001b[0m\u001b[1;33m.\u001b[0m\u001b[0mcheck_response\u001b[0m\u001b[1;33m(\u001b[0m\u001b[0mresponse\u001b[0m\u001b[1;33m)\u001b[0m\u001b[1;33m\u001b[0m\u001b[1;33m\u001b[0m\u001b[0m\n\u001b[0m\u001b[0;32m    436\u001b[0m             response['value'] = self._unwrap_value(\n\u001b[0;32m    437\u001b[0m                 response.get('value', None))\n",
      "\u001b[1;32m~\\AppData\\Roaming\\Python\\Python38\\site-packages\\selenium\\webdriver\\remote\\errorhandler.py\u001b[0m in \u001b[0;36mcheck_response\u001b[1;34m(self, response)\u001b[0m\n\u001b[0;32m    245\u001b[0m                 \u001b[0malert_text\u001b[0m \u001b[1;33m=\u001b[0m \u001b[0mvalue\u001b[0m\u001b[1;33m[\u001b[0m\u001b[1;34m'alert'\u001b[0m\u001b[1;33m]\u001b[0m\u001b[1;33m.\u001b[0m\u001b[0mget\u001b[0m\u001b[1;33m(\u001b[0m\u001b[1;34m'text'\u001b[0m\u001b[1;33m)\u001b[0m\u001b[1;33m\u001b[0m\u001b[1;33m\u001b[0m\u001b[0m\n\u001b[0;32m    246\u001b[0m             \u001b[1;32mraise\u001b[0m \u001b[0mexception_class\u001b[0m\u001b[1;33m(\u001b[0m\u001b[0mmessage\u001b[0m\u001b[1;33m,\u001b[0m \u001b[0mscreen\u001b[0m\u001b[1;33m,\u001b[0m \u001b[0mstacktrace\u001b[0m\u001b[1;33m,\u001b[0m \u001b[0malert_text\u001b[0m\u001b[1;33m)\u001b[0m  \u001b[1;31m# type: ignore[call-arg]  # mypy is not smart enough here\u001b[0m\u001b[1;33m\u001b[0m\u001b[1;33m\u001b[0m\u001b[0m\n\u001b[1;32m--> 247\u001b[1;33m         \u001b[1;32mraise\u001b[0m \u001b[0mexception_class\u001b[0m\u001b[1;33m(\u001b[0m\u001b[0mmessage\u001b[0m\u001b[1;33m,\u001b[0m \u001b[0mscreen\u001b[0m\u001b[1;33m,\u001b[0m \u001b[0mstacktrace\u001b[0m\u001b[1;33m)\u001b[0m\u001b[1;33m\u001b[0m\u001b[1;33m\u001b[0m\u001b[0m\n\u001b[0m\u001b[0;32m    248\u001b[0m \u001b[1;33m\u001b[0m\u001b[0m\n\u001b[0;32m    249\u001b[0m     \u001b[1;32mdef\u001b[0m \u001b[0m_value_or_default\u001b[0m\u001b[1;33m(\u001b[0m\u001b[0mself\u001b[0m\u001b[1;33m,\u001b[0m \u001b[0mobj\u001b[0m\u001b[1;33m:\u001b[0m \u001b[0mMapping\u001b[0m\u001b[1;33m[\u001b[0m\u001b[0m_KT\u001b[0m\u001b[1;33m,\u001b[0m \u001b[0m_VT\u001b[0m\u001b[1;33m]\u001b[0m\u001b[1;33m,\u001b[0m \u001b[0mkey\u001b[0m\u001b[1;33m:\u001b[0m \u001b[0m_KT\u001b[0m\u001b[1;33m,\u001b[0m \u001b[0mdefault\u001b[0m\u001b[1;33m:\u001b[0m \u001b[0m_VT\u001b[0m\u001b[1;33m)\u001b[0m \u001b[1;33m->\u001b[0m \u001b[0m_VT\u001b[0m\u001b[1;33m:\u001b[0m\u001b[1;33m\u001b[0m\u001b[1;33m\u001b[0m\u001b[0m\n",
      "\u001b[1;31mNoSuchElementException\u001b[0m: Message: no such element: Unable to locate element: {\"method\":\"xpath\",\"selector\":\"//*[@id=\"_title\"]\"}\n  (Session info: chrome=104.0.5112.81)\nStacktrace:\nBacktrace:\n\tOrdinal0 [0x00D75FD3+2187219]\n\tOrdinal0 [0x00D0E6D1+1763025]\n\tOrdinal0 [0x00C23E78+802424]\n\tOrdinal0 [0x00C51C10+990224]\n\tOrdinal0 [0x00C51EAB+990891]\n\tOrdinal0 [0x00C7EC92+1174674]\n\tOrdinal0 [0x00C6CBD4+1100756]\n\tOrdinal0 [0x00C7CFC2+1167298]\n\tOrdinal0 [0x00C6C9A6+1100198]\n\tOrdinal0 [0x00C46F80+946048]\n\tOrdinal0 [0x00C47E76+949878]\n\tGetHandleVerifier [0x010190C2+2721218]\n\tGetHandleVerifier [0x0100AAF0+2662384]\n\tGetHandleVerifier [0x00E0137A+526458]\n\tGetHandleVerifier [0x00E00416+522518]\n\tOrdinal0 [0x00D14EAB+1789611]\n\tOrdinal0 [0x00D197A8+1808296]\n\tOrdinal0 [0x00D19895+1808533]\n\tOrdinal0 [0x00D226C1+1844929]\n\tBaseThreadInitThunk [0x7604FA29+25]\n\tRtlGetAppContainerNamedObjectPath [0x77C37A9E+286]\n\tRtlGetAppContainerNamedObjectPath [0x77C37A6E+238]\n"
     ]
    }
   ],
   "source": [
    "title_xpath = '//*[@id=\"_title\"]'\n",
    "title = driver.find_element(By.XPATH,title_xpath)\n",
    "title"
   ]
  },
  {
   "cell_type": "code",
   "execution_count": 73,
   "metadata": {},
   "outputs": [
    {
     "ename": "NoSuchElementException",
     "evalue": "Message: no such element: Unable to locate element: {\"method\":\"xpath\",\"selector\":\"_3aXen\"}\n  (Session info: chrome=104.0.5112.81)\nStacktrace:\nBacktrace:\n\tOrdinal0 [0x00D75FD3+2187219]\n\tOrdinal0 [0x00D0E6D1+1763025]\n\tOrdinal0 [0x00C23E78+802424]\n\tOrdinal0 [0x00C51C10+990224]\n\tOrdinal0 [0x00C51EAB+990891]\n\tOrdinal0 [0x00C7EC92+1174674]\n\tOrdinal0 [0x00C6CBD4+1100756]\n\tOrdinal0 [0x00C7CFC2+1167298]\n\tOrdinal0 [0x00C6C9A6+1100198]\n\tOrdinal0 [0x00C46F80+946048]\n\tOrdinal0 [0x00C47E76+949878]\n\tGetHandleVerifier [0x010190C2+2721218]\n\tGetHandleVerifier [0x0100AAF0+2662384]\n\tGetHandleVerifier [0x00E0137A+526458]\n\tGetHandleVerifier [0x00E00416+522518]\n\tOrdinal0 [0x00D14EAB+1789611]\n\tOrdinal0 [0x00D197A8+1808296]\n\tOrdinal0 [0x00D19895+1808533]\n\tOrdinal0 [0x00D226C1+1844929]\n\tBaseThreadInitThunk [0x7604FA29+25]\n\tRtlGetAppContainerNamedObjectPath [0x77C37A9E+286]\n\tRtlGetAppContainerNamedObjectPath [0x77C37A6E+238]\n",
     "output_type": "error",
     "traceback": [
      "\u001b[1;31m---------------------------------------------------------------------------\u001b[0m",
      "\u001b[1;31mNoSuchElementException\u001b[0m                    Traceback (most recent call last)",
      "\u001b[1;32m<ipython-input-73-65064b227166>\u001b[0m in \u001b[0;36m<module>\u001b[1;34m\u001b[0m\n\u001b[0;32m      1\u001b[0m \u001b[1;31m# star_xpath = '//*[@id=\"app-root\"]/div/div/div/div[5]/div/div/div/div/a[3]/span'\u001b[0m\u001b[1;33m\u001b[0m\u001b[1;33m\u001b[0m\u001b[1;33m\u001b[0m\u001b[0m\n\u001b[0;32m      2\u001b[0m \u001b[0mstar_class\u001b[0m \u001b[1;33m=\u001b[0m \u001b[1;34m'_3aXen'\u001b[0m\u001b[1;33m\u001b[0m\u001b[1;33m\u001b[0m\u001b[0m\n\u001b[1;32m----> 3\u001b[1;33m \u001b[0mstar\u001b[0m \u001b[1;33m=\u001b[0m \u001b[0mdriver\u001b[0m\u001b[1;33m.\u001b[0m\u001b[0mfind_element\u001b[0m\u001b[1;33m(\u001b[0m\u001b[0mBy\u001b[0m\u001b[1;33m.\u001b[0m\u001b[0mXPATH\u001b[0m\u001b[1;33m,\u001b[0m \u001b[0mstar_class\u001b[0m\u001b[1;33m)\u001b[0m\u001b[1;33m\u001b[0m\u001b[1;33m\u001b[0m\u001b[0m\n\u001b[0m\u001b[0;32m      4\u001b[0m \u001b[0mdriver\u001b[0m\u001b[1;33m.\u001b[0m\u001b[0mexecute_script\u001b[0m\u001b[1;33m(\u001b[0m\u001b[1;34m\"arguments[0].click();\"\u001b[0m\u001b[1;33m,\u001b[0m\u001b[0mstar\u001b[0m\u001b[1;33m)\u001b[0m\u001b[1;33m\u001b[0m\u001b[1;33m\u001b[0m\u001b[0m\n",
      "\u001b[1;32m~\\AppData\\Roaming\\Python\\Python38\\site-packages\\selenium\\webdriver\\remote\\webdriver.py\u001b[0m in \u001b[0;36mfind_element\u001b[1;34m(self, by, value)\u001b[0m\n\u001b[0;32m    855\u001b[0m             \u001b[0mvalue\u001b[0m \u001b[1;33m=\u001b[0m \u001b[1;34m'[name=\"%s\"]'\u001b[0m \u001b[1;33m%\u001b[0m \u001b[0mvalue\u001b[0m\u001b[1;33m\u001b[0m\u001b[1;33m\u001b[0m\u001b[0m\n\u001b[0;32m    856\u001b[0m \u001b[1;33m\u001b[0m\u001b[0m\n\u001b[1;32m--> 857\u001b[1;33m         return self.execute(Command.FIND_ELEMENT, {\n\u001b[0m\u001b[0;32m    858\u001b[0m             \u001b[1;34m'using'\u001b[0m\u001b[1;33m:\u001b[0m \u001b[0mby\u001b[0m\u001b[1;33m,\u001b[0m\u001b[1;33m\u001b[0m\u001b[1;33m\u001b[0m\u001b[0m\n\u001b[0;32m    859\u001b[0m             'value': value})['value']\n",
      "\u001b[1;32m~\\AppData\\Roaming\\Python\\Python38\\site-packages\\selenium\\webdriver\\remote\\webdriver.py\u001b[0m in \u001b[0;36mexecute\u001b[1;34m(self, driver_command, params)\u001b[0m\n\u001b[0;32m    433\u001b[0m         \u001b[0mresponse\u001b[0m \u001b[1;33m=\u001b[0m \u001b[0mself\u001b[0m\u001b[1;33m.\u001b[0m\u001b[0mcommand_executor\u001b[0m\u001b[1;33m.\u001b[0m\u001b[0mexecute\u001b[0m\u001b[1;33m(\u001b[0m\u001b[0mdriver_command\u001b[0m\u001b[1;33m,\u001b[0m \u001b[0mparams\u001b[0m\u001b[1;33m)\u001b[0m\u001b[1;33m\u001b[0m\u001b[1;33m\u001b[0m\u001b[0m\n\u001b[0;32m    434\u001b[0m         \u001b[1;32mif\u001b[0m \u001b[0mresponse\u001b[0m\u001b[1;33m:\u001b[0m\u001b[1;33m\u001b[0m\u001b[1;33m\u001b[0m\u001b[0m\n\u001b[1;32m--> 435\u001b[1;33m             \u001b[0mself\u001b[0m\u001b[1;33m.\u001b[0m\u001b[0merror_handler\u001b[0m\u001b[1;33m.\u001b[0m\u001b[0mcheck_response\u001b[0m\u001b[1;33m(\u001b[0m\u001b[0mresponse\u001b[0m\u001b[1;33m)\u001b[0m\u001b[1;33m\u001b[0m\u001b[1;33m\u001b[0m\u001b[0m\n\u001b[0m\u001b[0;32m    436\u001b[0m             response['value'] = self._unwrap_value(\n\u001b[0;32m    437\u001b[0m                 response.get('value', None))\n",
      "\u001b[1;32m~\\AppData\\Roaming\\Python\\Python38\\site-packages\\selenium\\webdriver\\remote\\errorhandler.py\u001b[0m in \u001b[0;36mcheck_response\u001b[1;34m(self, response)\u001b[0m\n\u001b[0;32m    245\u001b[0m                 \u001b[0malert_text\u001b[0m \u001b[1;33m=\u001b[0m \u001b[0mvalue\u001b[0m\u001b[1;33m[\u001b[0m\u001b[1;34m'alert'\u001b[0m\u001b[1;33m]\u001b[0m\u001b[1;33m.\u001b[0m\u001b[0mget\u001b[0m\u001b[1;33m(\u001b[0m\u001b[1;34m'text'\u001b[0m\u001b[1;33m)\u001b[0m\u001b[1;33m\u001b[0m\u001b[1;33m\u001b[0m\u001b[0m\n\u001b[0;32m    246\u001b[0m             \u001b[1;32mraise\u001b[0m \u001b[0mexception_class\u001b[0m\u001b[1;33m(\u001b[0m\u001b[0mmessage\u001b[0m\u001b[1;33m,\u001b[0m \u001b[0mscreen\u001b[0m\u001b[1;33m,\u001b[0m \u001b[0mstacktrace\u001b[0m\u001b[1;33m,\u001b[0m \u001b[0malert_text\u001b[0m\u001b[1;33m)\u001b[0m  \u001b[1;31m# type: ignore[call-arg]  # mypy is not smart enough here\u001b[0m\u001b[1;33m\u001b[0m\u001b[1;33m\u001b[0m\u001b[0m\n\u001b[1;32m--> 247\u001b[1;33m         \u001b[1;32mraise\u001b[0m \u001b[0mexception_class\u001b[0m\u001b[1;33m(\u001b[0m\u001b[0mmessage\u001b[0m\u001b[1;33m,\u001b[0m \u001b[0mscreen\u001b[0m\u001b[1;33m,\u001b[0m \u001b[0mstacktrace\u001b[0m\u001b[1;33m)\u001b[0m\u001b[1;33m\u001b[0m\u001b[1;33m\u001b[0m\u001b[0m\n\u001b[0m\u001b[0;32m    248\u001b[0m \u001b[1;33m\u001b[0m\u001b[0m\n\u001b[0;32m    249\u001b[0m     \u001b[1;32mdef\u001b[0m \u001b[0m_value_or_default\u001b[0m\u001b[1;33m(\u001b[0m\u001b[0mself\u001b[0m\u001b[1;33m,\u001b[0m \u001b[0mobj\u001b[0m\u001b[1;33m:\u001b[0m \u001b[0mMapping\u001b[0m\u001b[1;33m[\u001b[0m\u001b[0m_KT\u001b[0m\u001b[1;33m,\u001b[0m \u001b[0m_VT\u001b[0m\u001b[1;33m]\u001b[0m\u001b[1;33m,\u001b[0m \u001b[0mkey\u001b[0m\u001b[1;33m:\u001b[0m \u001b[0m_KT\u001b[0m\u001b[1;33m,\u001b[0m \u001b[0mdefault\u001b[0m\u001b[1;33m:\u001b[0m \u001b[0m_VT\u001b[0m\u001b[1;33m)\u001b[0m \u001b[1;33m->\u001b[0m \u001b[0m_VT\u001b[0m\u001b[1;33m:\u001b[0m\u001b[1;33m\u001b[0m\u001b[1;33m\u001b[0m\u001b[0m\n",
      "\u001b[1;31mNoSuchElementException\u001b[0m: Message: no such element: Unable to locate element: {\"method\":\"xpath\",\"selector\":\"_3aXen\"}\n  (Session info: chrome=104.0.5112.81)\nStacktrace:\nBacktrace:\n\tOrdinal0 [0x00D75FD3+2187219]\n\tOrdinal0 [0x00D0E6D1+1763025]\n\tOrdinal0 [0x00C23E78+802424]\n\tOrdinal0 [0x00C51C10+990224]\n\tOrdinal0 [0x00C51EAB+990891]\n\tOrdinal0 [0x00C7EC92+1174674]\n\tOrdinal0 [0x00C6CBD4+1100756]\n\tOrdinal0 [0x00C7CFC2+1167298]\n\tOrdinal0 [0x00C6C9A6+1100198]\n\tOrdinal0 [0x00C46F80+946048]\n\tOrdinal0 [0x00C47E76+949878]\n\tGetHandleVerifier [0x010190C2+2721218]\n\tGetHandleVerifier [0x0100AAF0+2662384]\n\tGetHandleVerifier [0x00E0137A+526458]\n\tGetHandleVerifier [0x00E00416+522518]\n\tOrdinal0 [0x00D14EAB+1789611]\n\tOrdinal0 [0x00D197A8+1808296]\n\tOrdinal0 [0x00D19895+1808533]\n\tOrdinal0 [0x00D226C1+1844929]\n\tBaseThreadInitThunk [0x7604FA29+25]\n\tRtlGetAppContainerNamedObjectPath [0x77C37A9E+286]\n\tRtlGetAppContainerNamedObjectPath [0x77C37A6E+238]\n"
     ]
    }
   ],
   "source": [
    "# star_xpath = '//*[@id=\"app-root\"]/div/div/div/div[5]/div/div/div/div/a[3]/span'\n",
    "star_class = '_3aXen'\n",
    "star = driver.find_element(By.XPATH, star_class)\n",
    "driver.execute_script(\"arguments[0].click();\",star)"
   ]
  },
  {
   "cell_type": "code",
   "execution_count": null,
   "metadata": {},
   "outputs": [],
   "source": []
  },
  {
   "cell_type": "code",
   "execution_count": null,
   "metadata": {},
   "outputs": [],
   "source": []
  },
  {
   "cell_type": "code",
   "execution_count": null,
   "metadata": {},
   "outputs": [],
   "source": []
  },
  {
   "cell_type": "code",
   "execution_count": 53,
   "metadata": {},
   "outputs": [
    {
     "name": "stderr",
     "output_type": "stream",
     "text": [
      "<ipython-input-53-2a79d7ff5841>:1: DeprecationWarning: executable_path has been deprecated, please pass in a Service object\n",
      "  driver = webdriver.Chrome('./driver/chromedriver')\n"
     ]
    }
   ],
   "source": [
    "# driver = webdriver.Chrome('./driver/chromedriver')\n",
    "# driver.get('https://map.naver.com/v5/search/%EC%9A%B0%EC%9D%B4%EB%AA%A9%EC%9E%A5/place/38431899?c=14140389.8216518,4529301.4861773,15,0,0,0,dh&isCorrectAnswer=true')\n"
   ]
  },
  {
   "cell_type": "code",
   "execution_count": 64,
   "metadata": {},
   "outputs": [
    {
     "ename": "InvalidSelectorException",
     "evalue": "Message: invalid selector: Unable to locate an element with the xpath expression //*[@class,\"flicking-camera\"] because of the following error:\nSyntaxError: Failed to execute 'evaluate' on 'Document': The string '//*[@class,\"flicking-camera\"]' is not a valid XPath expression.\n  (Session info: chrome=104.0.5112.81)\nStacktrace:\nBacktrace:\n\tOrdinal0 [0x00D75FD3+2187219]\n\tOrdinal0 [0x00D0E6D1+1763025]\n\tOrdinal0 [0x00C23E78+802424]\n\tOrdinal0 [0x00C26854+813140]\n\tOrdinal0 [0x00C26712+812818]\n\tOrdinal0 [0x00C269A0+813472]\n\tOrdinal0 [0x00C51925+989477]\n\tOrdinal0 [0x00C51EAB+990891]\n\tOrdinal0 [0x00C7EC92+1174674]\n\tOrdinal0 [0x00C6CBD4+1100756]\n\tOrdinal0 [0x00C7CFC2+1167298]\n\tOrdinal0 [0x00C6C9A6+1100198]\n\tOrdinal0 [0x00C46F80+946048]\n\tOrdinal0 [0x00C47E76+949878]\n\tGetHandleVerifier [0x010190C2+2721218]\n\tGetHandleVerifier [0x0100AAF0+2662384]\n\tGetHandleVerifier [0x00E0137A+526458]\n\tGetHandleVerifier [0x00E00416+522518]\n\tOrdinal0 [0x00D14EAB+1789611]\n\tOrdinal0 [0x00D197A8+1808296]\n\tOrdinal0 [0x00D19895+1808533]\n\tOrdinal0 [0x00D226C1+1844929]\n\tBaseThreadInitThunk [0x7604FA29+25]\n\tRtlGetAppContainerNamedObjectPath [0x77C37A9E+286]\n\tRtlGetAppContainerNamedObjectPath [0x77C37A6E+238]\n",
     "output_type": "error",
     "traceback": [
      "\u001b[1;31m---------------------------------------------------------------------------\u001b[0m",
      "\u001b[1;31mInvalidSelectorException\u001b[0m                  Traceback (most recent call last)",
      "\u001b[1;32m<ipython-input-64-bcc7f11d39db>\u001b[0m in \u001b[0;36m<module>\u001b[1;34m\u001b[0m\n\u001b[0;32m      1\u001b[0m \u001b[1;31m# star_xpath = '#app-root > div > div > div > div.place_fixed_maintab.place_stuck.place_tab_shadow > div > div > div > div > a:nth-child(3) > span'\u001b[0m\u001b[1;33m\u001b[0m\u001b[1;33m\u001b[0m\u001b[1;33m\u001b[0m\u001b[0m\n\u001b[1;32m----> 2\u001b[1;33m \u001b[0mstar\u001b[0m \u001b[1;33m=\u001b[0m \u001b[0mdriver\u001b[0m\u001b[1;33m.\u001b[0m\u001b[0mfind_element\u001b[0m\u001b[1;33m(\u001b[0m\u001b[0mBy\u001b[0m\u001b[1;33m.\u001b[0m\u001b[0mXPATH\u001b[0m\u001b[1;33m,\u001b[0m \u001b[1;34m'//*[@class,\"flicking-camera\"]'\u001b[0m\u001b[1;33m)\u001b[0m\u001b[1;33m\u001b[0m\u001b[1;33m\u001b[0m\u001b[0m\n\u001b[0m\u001b[0;32m      3\u001b[0m \u001b[1;31m# driver.execute_script(\"arguments[0].click();\",star)\u001b[0m\u001b[1;33m\u001b[0m\u001b[1;33m\u001b[0m\u001b[1;33m\u001b[0m\u001b[0m\n",
      "\u001b[1;32m~\\AppData\\Roaming\\Python\\Python38\\site-packages\\selenium\\webdriver\\remote\\webdriver.py\u001b[0m in \u001b[0;36mfind_element\u001b[1;34m(self, by, value)\u001b[0m\n\u001b[0;32m    855\u001b[0m             \u001b[0mvalue\u001b[0m \u001b[1;33m=\u001b[0m \u001b[1;34m'[name=\"%s\"]'\u001b[0m \u001b[1;33m%\u001b[0m \u001b[0mvalue\u001b[0m\u001b[1;33m\u001b[0m\u001b[1;33m\u001b[0m\u001b[0m\n\u001b[0;32m    856\u001b[0m \u001b[1;33m\u001b[0m\u001b[0m\n\u001b[1;32m--> 857\u001b[1;33m         return self.execute(Command.FIND_ELEMENT, {\n\u001b[0m\u001b[0;32m    858\u001b[0m             \u001b[1;34m'using'\u001b[0m\u001b[1;33m:\u001b[0m \u001b[0mby\u001b[0m\u001b[1;33m,\u001b[0m\u001b[1;33m\u001b[0m\u001b[1;33m\u001b[0m\u001b[0m\n\u001b[0;32m    859\u001b[0m             'value': value})['value']\n",
      "\u001b[1;32m~\\AppData\\Roaming\\Python\\Python38\\site-packages\\selenium\\webdriver\\remote\\webdriver.py\u001b[0m in \u001b[0;36mexecute\u001b[1;34m(self, driver_command, params)\u001b[0m\n\u001b[0;32m    433\u001b[0m         \u001b[0mresponse\u001b[0m \u001b[1;33m=\u001b[0m \u001b[0mself\u001b[0m\u001b[1;33m.\u001b[0m\u001b[0mcommand_executor\u001b[0m\u001b[1;33m.\u001b[0m\u001b[0mexecute\u001b[0m\u001b[1;33m(\u001b[0m\u001b[0mdriver_command\u001b[0m\u001b[1;33m,\u001b[0m \u001b[0mparams\u001b[0m\u001b[1;33m)\u001b[0m\u001b[1;33m\u001b[0m\u001b[1;33m\u001b[0m\u001b[0m\n\u001b[0;32m    434\u001b[0m         \u001b[1;32mif\u001b[0m \u001b[0mresponse\u001b[0m\u001b[1;33m:\u001b[0m\u001b[1;33m\u001b[0m\u001b[1;33m\u001b[0m\u001b[0m\n\u001b[1;32m--> 435\u001b[1;33m             \u001b[0mself\u001b[0m\u001b[1;33m.\u001b[0m\u001b[0merror_handler\u001b[0m\u001b[1;33m.\u001b[0m\u001b[0mcheck_response\u001b[0m\u001b[1;33m(\u001b[0m\u001b[0mresponse\u001b[0m\u001b[1;33m)\u001b[0m\u001b[1;33m\u001b[0m\u001b[1;33m\u001b[0m\u001b[0m\n\u001b[0m\u001b[0;32m    436\u001b[0m             response['value'] = self._unwrap_value(\n\u001b[0;32m    437\u001b[0m                 response.get('value', None))\n",
      "\u001b[1;32m~\\AppData\\Roaming\\Python\\Python38\\site-packages\\selenium\\webdriver\\remote\\errorhandler.py\u001b[0m in \u001b[0;36mcheck_response\u001b[1;34m(self, response)\u001b[0m\n\u001b[0;32m    245\u001b[0m                 \u001b[0malert_text\u001b[0m \u001b[1;33m=\u001b[0m \u001b[0mvalue\u001b[0m\u001b[1;33m[\u001b[0m\u001b[1;34m'alert'\u001b[0m\u001b[1;33m]\u001b[0m\u001b[1;33m.\u001b[0m\u001b[0mget\u001b[0m\u001b[1;33m(\u001b[0m\u001b[1;34m'text'\u001b[0m\u001b[1;33m)\u001b[0m\u001b[1;33m\u001b[0m\u001b[1;33m\u001b[0m\u001b[0m\n\u001b[0;32m    246\u001b[0m             \u001b[1;32mraise\u001b[0m \u001b[0mexception_class\u001b[0m\u001b[1;33m(\u001b[0m\u001b[0mmessage\u001b[0m\u001b[1;33m,\u001b[0m \u001b[0mscreen\u001b[0m\u001b[1;33m,\u001b[0m \u001b[0mstacktrace\u001b[0m\u001b[1;33m,\u001b[0m \u001b[0malert_text\u001b[0m\u001b[1;33m)\u001b[0m  \u001b[1;31m# type: ignore[call-arg]  # mypy is not smart enough here\u001b[0m\u001b[1;33m\u001b[0m\u001b[1;33m\u001b[0m\u001b[0m\n\u001b[1;32m--> 247\u001b[1;33m         \u001b[1;32mraise\u001b[0m \u001b[0mexception_class\u001b[0m\u001b[1;33m(\u001b[0m\u001b[0mmessage\u001b[0m\u001b[1;33m,\u001b[0m \u001b[0mscreen\u001b[0m\u001b[1;33m,\u001b[0m \u001b[0mstacktrace\u001b[0m\u001b[1;33m)\u001b[0m\u001b[1;33m\u001b[0m\u001b[1;33m\u001b[0m\u001b[0m\n\u001b[0m\u001b[0;32m    248\u001b[0m \u001b[1;33m\u001b[0m\u001b[0m\n\u001b[0;32m    249\u001b[0m     \u001b[1;32mdef\u001b[0m \u001b[0m_value_or_default\u001b[0m\u001b[1;33m(\u001b[0m\u001b[0mself\u001b[0m\u001b[1;33m,\u001b[0m \u001b[0mobj\u001b[0m\u001b[1;33m:\u001b[0m \u001b[0mMapping\u001b[0m\u001b[1;33m[\u001b[0m\u001b[0m_KT\u001b[0m\u001b[1;33m,\u001b[0m \u001b[0m_VT\u001b[0m\u001b[1;33m]\u001b[0m\u001b[1;33m,\u001b[0m \u001b[0mkey\u001b[0m\u001b[1;33m:\u001b[0m \u001b[0m_KT\u001b[0m\u001b[1;33m,\u001b[0m \u001b[0mdefault\u001b[0m\u001b[1;33m:\u001b[0m \u001b[0m_VT\u001b[0m\u001b[1;33m)\u001b[0m \u001b[1;33m->\u001b[0m \u001b[0m_VT\u001b[0m\u001b[1;33m:\u001b[0m\u001b[1;33m\u001b[0m\u001b[1;33m\u001b[0m\u001b[0m\n",
      "\u001b[1;31mInvalidSelectorException\u001b[0m: Message: invalid selector: Unable to locate an element with the xpath expression //*[@class,\"flicking-camera\"] because of the following error:\nSyntaxError: Failed to execute 'evaluate' on 'Document': The string '//*[@class,\"flicking-camera\"]' is not a valid XPath expression.\n  (Session info: chrome=104.0.5112.81)\nStacktrace:\nBacktrace:\n\tOrdinal0 [0x00D75FD3+2187219]\n\tOrdinal0 [0x00D0E6D1+1763025]\n\tOrdinal0 [0x00C23E78+802424]\n\tOrdinal0 [0x00C26854+813140]\n\tOrdinal0 [0x00C26712+812818]\n\tOrdinal0 [0x00C269A0+813472]\n\tOrdinal0 [0x00C51925+989477]\n\tOrdinal0 [0x00C51EAB+990891]\n\tOrdinal0 [0x00C7EC92+1174674]\n\tOrdinal0 [0x00C6CBD4+1100756]\n\tOrdinal0 [0x00C7CFC2+1167298]\n\tOrdinal0 [0x00C6C9A6+1100198]\n\tOrdinal0 [0x00C46F80+946048]\n\tOrdinal0 [0x00C47E76+949878]\n\tGetHandleVerifier [0x010190C2+2721218]\n\tGetHandleVerifier [0x0100AAF0+2662384]\n\tGetHandleVerifier [0x00E0137A+526458]\n\tGetHandleVerifier [0x00E00416+522518]\n\tOrdinal0 [0x00D14EAB+1789611]\n\tOrdinal0 [0x00D197A8+1808296]\n\tOrdinal0 [0x00D19895+1808533]\n\tOrdinal0 [0x00D226C1+1844929]\n\tBaseThreadInitThunk [0x7604FA29+25]\n\tRtlGetAppContainerNamedObjectPath [0x77C37A9E+286]\n\tRtlGetAppContainerNamedObjectPath [0x77C37A6E+238]\n"
     ]
    }
   ],
   "source": [
    "# star_xpath = '#app-root > div > div > div > div.place_fixed_maintab.place_stuck.place_tab_shadow > div > div > div > div > a:nth-child(3) > span'\n",
    "star = driver.find_element(By.XPATH, '//*[@class,\"flicking-camera\"]')\n",
    "# driver.execute_script(\"arguments[0].click();\",star)\n"
   ]
  },
  {
   "cell_type": "code",
   "execution_count": null,
   "metadata": {},
   "outputs": [],
   "source": []
  },
  {
   "cell_type": "code",
   "execution_count": null,
   "metadata": {},
   "outputs": [],
   "source": []
  }
 ],
 "metadata": {
  "kernelspec": {
   "display_name": "Python 3",
   "language": "python",
   "name": "python3"
  },
  "language_info": {
   "codemirror_mode": {
    "name": "ipython",
    "version": 3
   },
   "file_extension": ".py",
   "mimetype": "text/x-python",
   "name": "python",
   "nbconvert_exporter": "python",
   "pygments_lexer": "ipython3",
   "version": "3.8.3"
  }
 },
 "nbformat": 4,
 "nbformat_minor": 4
}
