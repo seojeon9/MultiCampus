{
 "cells": [
  {
   "cell_type": "code",
   "execution_count": 1,
   "metadata": {},
   "outputs": [],
   "source": [
    "import pandas as pd\n",
    "import numpy as np"
   ]
  },
  {
   "cell_type": "code",
   "execution_count": 3,
   "metadata": {},
   "outputs": [
    {
     "data": {
      "text/html": [
       "<div>\n",
       "<style scoped>\n",
       "    .dataframe tbody tr th:only-of-type {\n",
       "        vertical-align: middle;\n",
       "    }\n",
       "\n",
       "    .dataframe tbody tr th {\n",
       "        vertical-align: top;\n",
       "    }\n",
       "\n",
       "    .dataframe thead th {\n",
       "        text-align: right;\n",
       "    }\n",
       "</style>\n",
       "<table border=\"1\" class=\"dataframe\">\n",
       "  <thead>\n",
       "    <tr style=\"text-align: right;\">\n",
       "      <th></th>\n",
       "      <th>업소아이디</th>\n",
       "      <th>총개수</th>\n",
       "      <th>키워드1</th>\n",
       "      <th>개수1</th>\n",
       "      <th>키워드2</th>\n",
       "      <th>개수2</th>\n",
       "      <th>키워드3</th>\n",
       "      <th>개수3</th>\n",
       "      <th>키워드4</th>\n",
       "      <th>개수4</th>\n",
       "      <th>키워드5</th>\n",
       "      <th>개수5</th>\n",
       "      <th>URL</th>\n",
       "    </tr>\n",
       "  </thead>\n",
       "  <tbody>\n",
       "    <tr>\n",
       "      <th>0</th>\n",
       "      <td>1739</td>\n",
       "      <td>62</td>\n",
       "      <td>음식이 맛있어요</td>\n",
       "      <td>47</td>\n",
       "      <td>가성비가 좋아요</td>\n",
       "      <td>21</td>\n",
       "      <td>재료가 신선해요</td>\n",
       "      <td>15</td>\n",
       "      <td>친절해요</td>\n",
       "      <td>12</td>\n",
       "      <td>양이 많아요</td>\n",
       "      <td>8</td>\n",
       "      <td>21025096</td>\n",
       "    </tr>\n",
       "    <tr>\n",
       "      <th>1</th>\n",
       "      <td>4325</td>\n",
       "      <td>0</td>\n",
       "      <td>0</td>\n",
       "      <td>0</td>\n",
       "      <td>0</td>\n",
       "      <td>0</td>\n",
       "      <td>0</td>\n",
       "      <td>0</td>\n",
       "      <td>0</td>\n",
       "      <td>0</td>\n",
       "      <td>0</td>\n",
       "      <td>0</td>\n",
       "      <td>-</td>\n",
       "    </tr>\n",
       "    <tr>\n",
       "      <th>2</th>\n",
       "      <td>7851</td>\n",
       "      <td>68</td>\n",
       "      <td>가성비가 좋아요</td>\n",
       "      <td>32</td>\n",
       "      <td>음식이 맛있어요</td>\n",
       "      <td>26</td>\n",
       "      <td>혼밥하기 좋아요</td>\n",
       "      <td>25</td>\n",
       "      <td>친절해요</td>\n",
       "      <td>16</td>\n",
       "      <td>양이 많아요</td>\n",
       "      <td>10</td>\n",
       "      <td>13153220</td>\n",
       "    </tr>\n",
       "    <tr>\n",
       "      <th>3</th>\n",
       "      <td>6764</td>\n",
       "      <td>109</td>\n",
       "      <td>음식이 맛있어요</td>\n",
       "      <td>83</td>\n",
       "      <td>친절해요</td>\n",
       "      <td>32</td>\n",
       "      <td>양이 많아요</td>\n",
       "      <td>24</td>\n",
       "      <td>가성비가 좋아요</td>\n",
       "      <td>24</td>\n",
       "      <td>재료가 신선해요</td>\n",
       "      <td>19</td>\n",
       "      <td>20829543</td>\n",
       "    </tr>\n",
       "    <tr>\n",
       "      <th>4</th>\n",
       "      <td>3986</td>\n",
       "      <td>1,279</td>\n",
       "      <td>음식이 맛있어요</td>\n",
       "      <td>732</td>\n",
       "      <td>가성비가 좋아요</td>\n",
       "      <td>654</td>\n",
       "      <td>양이 많아요</td>\n",
       "      <td>381</td>\n",
       "      <td>혼밥하기 좋아요</td>\n",
       "      <td>283</td>\n",
       "      <td>친절해요</td>\n",
       "      <td>141</td>\n",
       "      <td>36004335</td>\n",
       "    </tr>\n",
       "    <tr>\n",
       "      <th>...</th>\n",
       "      <td>...</td>\n",
       "      <td>...</td>\n",
       "      <td>...</td>\n",
       "      <td>...</td>\n",
       "      <td>...</td>\n",
       "      <td>...</td>\n",
       "      <td>...</td>\n",
       "      <td>...</td>\n",
       "      <td>...</td>\n",
       "      <td>...</td>\n",
       "      <td>...</td>\n",
       "      <td>...</td>\n",
       "      <td>...</td>\n",
       "    </tr>\n",
       "    <tr>\n",
       "      <th>728</th>\n",
       "      <td>9156</td>\n",
       "      <td>79</td>\n",
       "      <td>음식이 맛있어요</td>\n",
       "      <td>60</td>\n",
       "      <td>가성비가 좋아요</td>\n",
       "      <td>33</td>\n",
       "      <td>친절해요</td>\n",
       "      <td>25</td>\n",
       "      <td>양이 많아요</td>\n",
       "      <td>14</td>\n",
       "      <td>재료가 신선해요</td>\n",
       "      <td>13</td>\n",
       "      <td>18797155</td>\n",
       "    </tr>\n",
       "    <tr>\n",
       "      <th>729</th>\n",
       "      <td>9101</td>\n",
       "      <td>0</td>\n",
       "      <td>0</td>\n",
       "      <td>0</td>\n",
       "      <td>0</td>\n",
       "      <td>0</td>\n",
       "      <td>0</td>\n",
       "      <td>0</td>\n",
       "      <td>0</td>\n",
       "      <td>0</td>\n",
       "      <td>0</td>\n",
       "      <td>0</td>\n",
       "      <td>13468661</td>\n",
       "    </tr>\n",
       "    <tr>\n",
       "      <th>730</th>\n",
       "      <td>9315</td>\n",
       "      <td>130</td>\n",
       "      <td>음식이 맛있어요</td>\n",
       "      <td>71</td>\n",
       "      <td>가성비가 좋아요</td>\n",
       "      <td>37</td>\n",
       "      <td>양이 많아요</td>\n",
       "      <td>25</td>\n",
       "      <td>친절해요</td>\n",
       "      <td>21</td>\n",
       "      <td>혼밥하기 좋아요</td>\n",
       "      <td>11</td>\n",
       "      <td>19763907</td>\n",
       "    </tr>\n",
       "    <tr>\n",
       "      <th>731</th>\n",
       "      <td>9279</td>\n",
       "      <td>51</td>\n",
       "      <td>음식이 맛있어요</td>\n",
       "      <td>18</td>\n",
       "      <td>가성비가 좋아요</td>\n",
       "      <td>13</td>\n",
       "      <td>친절해요</td>\n",
       "      <td>11</td>\n",
       "      <td>반찬이 잘 나와요</td>\n",
       "      <td>8</td>\n",
       "      <td>재료가 신선해요</td>\n",
       "      <td>6</td>\n",
       "      <td>20874132</td>\n",
       "    </tr>\n",
       "    <tr>\n",
       "      <th>732</th>\n",
       "      <td>9069</td>\n",
       "      <td>219</td>\n",
       "      <td>음식이 맛있어요</td>\n",
       "      <td>174</td>\n",
       "      <td>친절해요</td>\n",
       "      <td>31</td>\n",
       "      <td>재료가 신선해요</td>\n",
       "      <td>22</td>\n",
       "      <td>양이 많아요</td>\n",
       "      <td>20</td>\n",
       "      <td>가성비가 좋아요</td>\n",
       "      <td>19</td>\n",
       "      <td>34353503</td>\n",
       "    </tr>\n",
       "  </tbody>\n",
       "</table>\n",
       "<p>733 rows × 13 columns</p>\n",
       "</div>"
      ],
      "text/plain": [
       "     업소아이디    총개수      키워드1  개수1      키워드2  개수2      키워드3  개수3       키워드4  \\\n",
       "0     1739     62  음식이 맛있어요   47  가성비가 좋아요   21  재료가 신선해요   15       친절해요   \n",
       "1     4325      0         0    0         0    0         0    0          0   \n",
       "2     7851     68  가성비가 좋아요   32  음식이 맛있어요   26  혼밥하기 좋아요   25       친절해요   \n",
       "3     6764    109  음식이 맛있어요   83      친절해요   32    양이 많아요   24   가성비가 좋아요   \n",
       "4     3986  1,279  음식이 맛있어요  732  가성비가 좋아요  654    양이 많아요  381   혼밥하기 좋아요   \n",
       "..     ...    ...       ...  ...       ...  ...       ...  ...        ...   \n",
       "728   9156     79  음식이 맛있어요   60  가성비가 좋아요   33      친절해요   25     양이 많아요   \n",
       "729   9101      0         0    0         0    0         0    0          0   \n",
       "730   9315    130  음식이 맛있어요   71  가성비가 좋아요   37    양이 많아요   25       친절해요   \n",
       "731   9279     51  음식이 맛있어요   18  가성비가 좋아요   13      친절해요   11  반찬이 잘 나와요   \n",
       "732   9069    219  음식이 맛있어요  174      친절해요   31  재료가 신선해요   22     양이 많아요   \n",
       "\n",
       "     개수4      키워드5  개수5       URL  \n",
       "0     12    양이 많아요    8  21025096  \n",
       "1      0         0    0         -  \n",
       "2     16    양이 많아요   10  13153220  \n",
       "3     24  재료가 신선해요   19  20829543  \n",
       "4    283      친절해요  141  36004335  \n",
       "..   ...       ...  ...       ...  \n",
       "728   14  재료가 신선해요   13  18797155  \n",
       "729    0         0    0  13468661  \n",
       "730   21  혼밥하기 좋아요   11  19763907  \n",
       "731    8  재료가 신선해요    6  20874132  \n",
       "732   20  가성비가 좋아요   19  34353503  \n",
       "\n",
       "[733 rows x 13 columns]"
      ]
     },
     "execution_count": 3,
     "metadata": {},
     "output_type": "execute_result"
    }
   ],
   "source": [
    "table = pd.read_csv('./datas/서울시 착한가격음식점(방문자리뷰 TOP5).csv', encoding='CP949', index_col=0)\n",
    "table"
   ]
  },
  {
   "cell_type": "code",
   "execution_count": 17,
   "metadata": {},
   "outputs": [
    {
     "data": {
      "text/plain": [
       "array(['음식이 맛있어요', '0', '가성비가 좋아요', '친절해요', '양이 많아요', '커피가 맛있어요',\n",
       "       '재료가 신선해요', '음료가 맛있어요', '혼밥하기 좋아요', '빵이 맛있어요', '디저트가 맛있어요'],\n",
       "      dtype=object)"
      ]
     },
     "execution_count": 17,
     "metadata": {},
     "output_type": "execute_result"
    }
   ],
   "source": [
    "table['키워드1'].unique()"
   ]
  },
  {
   "cell_type": "code",
   "execution_count": 18,
   "metadata": {},
   "outputs": [
    {
     "data": {
      "text/plain": [
       "array(['가성비가 좋아요', '0', '음식이 맛있어요', '친절해요', '특별한 메뉴가 있어요', '재료가 신선해요',\n",
       "       '양이 많아요', '매장이 넓어요', '혼밥하기 좋아요', '인테리어가 멋져요', '디저트가 맛있어요',\n",
       "       '음료가 맛있어요', '선물하기 좋아요', '커피가 맛있어요', '매장이 청결해요'], dtype=object)"
      ]
     },
     "execution_count": 18,
     "metadata": {},
     "output_type": "execute_result"
    }
   ],
   "source": [
    "table['키워드2'].unique()"
   ]
  },
  {
   "cell_type": "code",
   "execution_count": 6,
   "metadata": {},
   "outputs": [
    {
     "data": {
      "text/plain": [
       "array(['재료가 신선해요', '0', '혼밥하기 좋아요', '양이 많아요', '친절해요', '가성비가 좋아요',\n",
       "       '주차하기 편해요', '매장이 넓어요', '단체모임 하기 좋아요', '매장이 청결해요', '음료가 맛있어요',\n",
       "       '특별한 메뉴가 있어요', '음식이 맛있어요', '반찬이 잘 나와요', '기본 안주가 좋아요', '인테리어가 멋져요'],\n",
       "      dtype=object)"
      ]
     },
     "execution_count": 6,
     "metadata": {},
     "output_type": "execute_result"
    }
   ],
   "source": [
    "table['키워드3'].unique()"
   ]
  },
  {
   "cell_type": "code",
   "execution_count": 7,
   "metadata": {},
   "outputs": [
    {
     "data": {
      "text/plain": [
       "array(['친절해요', '0', '가성비가 좋아요', '혼밥하기 좋아요', '재료가 신선해요', '양이 많아요',\n",
       "       '특별한 메뉴가 있어요', '매장이 넓어요', '매장이 청결해요', '단체모임 하기 좋아요', '인테리어가 멋져요',\n",
       "       '음식이 맛있어요', '커피가 맛있어요', '음료가 맛있어요', '기본 안주가 좋아요', '가격이 합리적이에요',\n",
       "       '위생적이에요', '대화하기 좋아요', '집중하기 좋아요', '디저트가 맛있어요', '반찬이 잘 나와요'],\n",
       "      dtype=object)"
      ]
     },
     "execution_count": 7,
     "metadata": {},
     "output_type": "execute_result"
    }
   ],
   "source": [
    "table['키워드4'].unique()"
   ]
  },
  {
   "cell_type": "code",
   "execution_count": 8,
   "metadata": {},
   "outputs": [
    {
     "data": {
      "text/plain": [
       "array(['양이 많아요', '0', '재료가 신선해요', '친절해요', '가성비가 좋아요', '혼밥하기 좋아요',\n",
       "       '단체모임 하기 좋아요', '매장이 넓어요', '인테리어가 멋져요', '매장이 청결해요', '특별한 메뉴가 있어요',\n",
       "       '화장실이 깨끗해요', '대화하기 좋아요', '메뉴 구성이 알차요', '커피가 맛있어요', '반찬이 잘 나와요',\n",
       "       '기본 안주가 좋아요', '주차하기 편해요', '선물하기 좋아요', '포장이 깔끔해요', '음료가 맛있어요',\n",
       "       '디저트가 맛있어요'], dtype=object)"
      ]
     },
     "execution_count": 8,
     "metadata": {},
     "output_type": "execute_result"
    }
   ],
   "source": [
    "table['키워드5'].unique()"
   ]
  },
  {
   "cell_type": "code",
   "execution_count": 21,
   "metadata": {},
   "outputs": [],
   "source": [
    "list = [['음식이 맛있어요', '0', '가성비가 좋아요', '친절해요', '양이 많아요', '커피가 맛있어요',\n",
    "       '재료가 신선해요', '음료가 맛있어요', '혼밥하기 좋아요', '빵이 맛있어요', '디저트가 맛있어요','가성비가 좋아요', '0', '음식이 맛있어요', '친절해요', '특별한 메뉴가 있어요', '재료가 신선해요',\n",
    "       '양이 많아요', '매장이 넓어요', '혼밥하기 좋아요', '인테리어가 멋져요', '디저트가 맛있어요',\n",
    "       '음료가 맛있어요', '선물하기 좋아요', '커피가 맛있어요', '매장이 청결해요','재료가 신선해요', '0', '혼밥하기 좋아요', '양이 많아요', '친절해요', '가성비가 좋아요',\n",
    "       '주차하기 편해요', '매장이 넓어요', '단체모임 하기 좋아요', '매장이 청결해요', '음료가 맛있어요',\n",
    "       '특별한 메뉴가 있어요', '음식이 맛있어요', '반찬이 잘 나와요', '기본 안주가 좋아요', '인테리어가 멋져요','친절해요', '0', '가성비가 좋아요', '혼밥하기 좋아요', '재료가 신선해요', '양이 많아요',\n",
    "       '특별한 메뉴가 있어요', '매장이 넓어요', '매장이 청결해요', '단체모임 하기 좋아요', '인테리어가 멋져요',\n",
    "       '음식이 맛있어요', '커피가 맛있어요', '음료가 맛있어요', '기본 안주가 좋아요', '가격이 합리적이에요',\n",
    "       '위생적이에요', '대화하기 좋아요', '집중하기 좋아요', '디저트가 맛있어요', '반찬이 잘 나와요','양이 많아요', '0', '재료가 신선해요', '친절해요', '가성비가 좋아요', '혼밥하기 좋아요',\n",
    "       '단체모임 하기 좋아요', '매장이 넓어요', '인테리어가 멋져요', '매장이 청결해요', '특별한 메뉴가 있어요',\n",
    "       '화장실이 깨끗해요', '대화하기 좋아요', '메뉴 구성이 알차요', '커피가 맛있어요', '반찬이 잘 나와요',\n",
    "       '기본 안주가 좋아요', '주차하기 편해요', '선물하기 좋아요', '포장이 깔끔해요', '음료가 맛있어요',\n",
    "       '디저트가 맛있어요']]"
   ]
  },
  {
   "cell_type": "code",
   "execution_count": 22,
   "metadata": {
    "scrolled": true
   },
   "outputs": [
    {
     "ename": "AttributeError",
     "evalue": "'list' object has no attribute 'unique'",
     "output_type": "error",
     "traceback": [
      "\u001b[1;31m---------------------------------------------------------------------------\u001b[0m",
      "\u001b[1;31mAttributeError\u001b[0m                            Traceback (most recent call last)",
      "\u001b[1;32m<ipython-input-22-0721ed3abe9c>\u001b[0m in \u001b[0;36m<module>\u001b[1;34m\u001b[0m\n\u001b[1;32m----> 1\u001b[1;33m \u001b[0mlist\u001b[0m\u001b[1;33m.\u001b[0m\u001b[0munique\u001b[0m\u001b[1;33m(\u001b[0m\u001b[1;33m)\u001b[0m\u001b[1;33m\u001b[0m\u001b[1;33m\u001b[0m\u001b[0m\n\u001b[0m",
      "\u001b[1;31mAttributeError\u001b[0m: 'list' object has no attribute 'unique'"
     ]
    }
   ],
   "source": [
    "list.unique()"
   ]
  },
  {
   "cell_type": "code",
   "execution_count": 23,
   "metadata": {},
   "outputs": [
    {
     "data": {
      "text/plain": [
       "0       음식이 맛있어요\n",
       "1              0\n",
       "2       가성비가 좋아요\n",
       "3       음식이 맛있어요\n",
       "4       음식이 맛있어요\n",
       "          ...   \n",
       "1461    가성비가 좋아요\n",
       "1462           0\n",
       "1463    가성비가 좋아요\n",
       "1464    가성비가 좋아요\n",
       "1465        친절해요\n",
       "Length: 1466, dtype: object"
      ]
     },
     "execution_count": 23,
     "metadata": {},
     "output_type": "execute_result"
    }
   ],
   "source": [
    "data = pd.concat([table['키워드1'], table['키워드2']], ignore_index=True)\n",
    "data"
   ]
  },
  {
   "cell_type": "code",
   "execution_count": 24,
   "metadata": {},
   "outputs": [
    {
     "data": {
      "text/plain": [
       "0       음식이 맛있어요\n",
       "1              0\n",
       "2       가성비가 좋아요\n",
       "3       음식이 맛있어요\n",
       "4       음식이 맛있어요\n",
       "          ...   \n",
       "2194        친절해요\n",
       "2195           0\n",
       "2196      양이 많아요\n",
       "2197        친절해요\n",
       "2198    재료가 신선해요\n",
       "Length: 2199, dtype: object"
      ]
     },
     "execution_count": 24,
     "metadata": {},
     "output_type": "execute_result"
    }
   ],
   "source": [
    "data = pd.concat([data, table['키워드3']], ignore_index=True)\n",
    "data"
   ]
  },
  {
   "cell_type": "code",
   "execution_count": 25,
   "metadata": {},
   "outputs": [
    {
     "data": {
      "text/plain": [
       "0        음식이 맛있어요\n",
       "1               0\n",
       "2        가성비가 좋아요\n",
       "3        음식이 맛있어요\n",
       "4        음식이 맛있어요\n",
       "          ...    \n",
       "2927       양이 많아요\n",
       "2928            0\n",
       "2929         친절해요\n",
       "2930    반찬이 잘 나와요\n",
       "2931       양이 많아요\n",
       "Length: 2932, dtype: object"
      ]
     },
     "execution_count": 25,
     "metadata": {},
     "output_type": "execute_result"
    }
   ],
   "source": [
    "data = pd.concat([data, table['키워드4']], ignore_index=True)\n",
    "data"
   ]
  },
  {
   "cell_type": "code",
   "execution_count": 28,
   "metadata": {},
   "outputs": [
    {
     "data": {
      "text/plain": [
       "0    음식이 맛있어요\n",
       "1           0\n",
       "2    가성비가 좋아요\n",
       "3    음식이 맛있어요\n",
       "4    음식이 맛있어요\n",
       "5    음식이 맛있어요\n",
       "6    음식이 맛있어요\n",
       "7    음식이 맛있어요\n",
       "8    음식이 맛있어요\n",
       "9    음식이 맛있어요\n",
       "dtype: object"
      ]
     },
     "execution_count": 28,
     "metadata": {},
     "output_type": "execute_result"
    }
   ],
   "source": [
    "data = pd.concat([data, table['키워드5']], ignore_index=True)\n",
    "data"
   ]
  },
  {
   "cell_type": "code",
   "execution_count": 27,
   "metadata": {},
   "outputs": [
    {
     "data": {
      "text/plain": [
       "array(['음식이 맛있어요', '0', '가성비가 좋아요', '친절해요', '양이 많아요', '커피가 맛있어요',\n",
       "       '재료가 신선해요', '음료가 맛있어요', '혼밥하기 좋아요', '빵이 맛있어요', '디저트가 맛있어요',\n",
       "       '특별한 메뉴가 있어요', '매장이 넓어요', '인테리어가 멋져요', '선물하기 좋아요', '매장이 청결해요',\n",
       "       '주차하기 편해요', '단체모임 하기 좋아요', '반찬이 잘 나와요', '기본 안주가 좋아요', '가격이 합리적이에요',\n",
       "       '위생적이에요', '대화하기 좋아요', '집중하기 좋아요', '화장실이 깨끗해요', '메뉴 구성이 알차요',\n",
       "       '포장이 깔끔해요'], dtype=object)"
      ]
     },
     "execution_count": 27,
     "metadata": {},
     "output_type": "execute_result"
    }
   ],
   "source": [
    "data.unique()"
   ]
  }
 ],
 "metadata": {
  "kernelspec": {
   "display_name": "Python 3",
   "language": "python",
   "name": "python3"
  },
  "language_info": {
   "codemirror_mode": {
    "name": "ipython",
    "version": 3
   },
   "file_extension": ".py",
   "mimetype": "text/x-python",
   "name": "python",
   "nbconvert_exporter": "python",
   "pygments_lexer": "ipython3",
   "version": "3.8.3"
  }
 },
 "nbformat": 4,
 "nbformat_minor": 4
}
