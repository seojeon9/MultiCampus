{
 "cells": [
  {
   "cell_type": "code",
   "execution_count": 1,
   "metadata": {},
   "outputs": [
    {
     "name": "stderr",
     "output_type": "stream",
     "text": [
      "C:\\ProgramData\\Anaconda3\\lib\\site-packages\\requests\\__init__.py:89: RequestsDependencyWarning: urllib3 (1.26.11) or chardet (3.0.4) doesn't match a supported version!\n",
      "  warnings.warn(\"urllib3 ({}) or chardet ({}) doesn't match a supported \"\n"
     ]
    }
   ],
   "source": [
    "from urllib.parse import urlparse\n",
    "import urllib\n",
    "import pandas as pd\n",
    "import requests\n",
    "import json"
   ]
  },
  {
   "cell_type": "code",
   "execution_count": 2,
   "metadata": {},
   "outputs": [
    {
     "name": "stdout",
     "output_type": "stream",
     "text": [
      "{'documents': [], 'meta': {'is_end': True, 'pageable_count': 0, 'total_count': 0}}\n"
     ]
    }
   ],
   "source": [
    "address = \"서울특별시 송파구 올림픽로12길 5-22\"\n",
    "url = f\"https://dapi.kakao.com/v2/local/search/address.json?query={address}\"\n",
    "result = requests.get(urlparse(url).geturl(), headers={\"Authorization\":\"KakaoAK 7880cc9dfabd083df48445c16d075a26\"}).json()\n",
    "\n",
    "print(result)"
   ]
  },
  {
   "cell_type": "code",
   "execution_count": 5,
   "metadata": {},
   "outputs": [
    {
     "ename": "UnicodeDecodeError",
     "evalue": "'cp949' codec can't decode byte 0xec in position 1: illegal multibyte sequence",
     "output_type": "error",
     "traceback": [
      "\u001b[1;31m---------------------------------------------------------------------------\u001b[0m",
      "\u001b[1;31mUnicodeDecodeError\u001b[0m                        Traceback (most recent call last)",
      "\u001b[1;32m<ipython-input-5-8e7bb43aa08b>\u001b[0m in \u001b[0;36m<module>\u001b[1;34m\u001b[0m\n\u001b[1;32m----> 1\u001b[1;33m \u001b[0mdf\u001b[0m \u001b[1;33m=\u001b[0m \u001b[0mpd\u001b[0m\u001b[1;33m.\u001b[0m\u001b[0mread_csv\u001b[0m\u001b[1;33m(\u001b[0m\u001b[1;34m\"./datas/seoul_name.csv\"\u001b[0m\u001b[1;33m,\u001b[0m \u001b[0mencoding\u001b[0m\u001b[1;33m=\u001b[0m\u001b[1;34m'cp949'\u001b[0m\u001b[1;33m)\u001b[0m\u001b[1;33m\u001b[0m\u001b[1;33m\u001b[0m\u001b[0m\n\u001b[0m",
      "\u001b[1;32m~\\AppData\\Roaming\\Python\\Python38\\site-packages\\pandas\\util\\_decorators.py\u001b[0m in \u001b[0;36mwrapper\u001b[1;34m(*args, **kwargs)\u001b[0m\n\u001b[0;32m    309\u001b[0m                     \u001b[0mstacklevel\u001b[0m\u001b[1;33m=\u001b[0m\u001b[0mstacklevel\u001b[0m\u001b[1;33m,\u001b[0m\u001b[1;33m\u001b[0m\u001b[1;33m\u001b[0m\u001b[0m\n\u001b[0;32m    310\u001b[0m                 )\n\u001b[1;32m--> 311\u001b[1;33m             \u001b[1;32mreturn\u001b[0m \u001b[0mfunc\u001b[0m\u001b[1;33m(\u001b[0m\u001b[1;33m*\u001b[0m\u001b[0margs\u001b[0m\u001b[1;33m,\u001b[0m \u001b[1;33m**\u001b[0m\u001b[0mkwargs\u001b[0m\u001b[1;33m)\u001b[0m\u001b[1;33m\u001b[0m\u001b[1;33m\u001b[0m\u001b[0m\n\u001b[0m\u001b[0;32m    312\u001b[0m \u001b[1;33m\u001b[0m\u001b[0m\n\u001b[0;32m    313\u001b[0m         \u001b[1;32mreturn\u001b[0m \u001b[0mwrapper\u001b[0m\u001b[1;33m\u001b[0m\u001b[1;33m\u001b[0m\u001b[0m\n",
      "\u001b[1;32m~\\AppData\\Roaming\\Python\\Python38\\site-packages\\pandas\\io\\parsers\\readers.py\u001b[0m in \u001b[0;36mread_csv\u001b[1;34m(filepath_or_buffer, sep, delimiter, header, names, index_col, usecols, squeeze, prefix, mangle_dupe_cols, dtype, engine, converters, true_values, false_values, skipinitialspace, skiprows, skipfooter, nrows, na_values, keep_default_na, na_filter, verbose, skip_blank_lines, parse_dates, infer_datetime_format, keep_date_col, date_parser, dayfirst, cache_dates, iterator, chunksize, compression, thousands, decimal, lineterminator, quotechar, quoting, doublequote, escapechar, comment, encoding, encoding_errors, dialect, error_bad_lines, warn_bad_lines, on_bad_lines, delim_whitespace, low_memory, memory_map, float_precision, storage_options)\u001b[0m\n\u001b[0;32m    678\u001b[0m     \u001b[0mkwds\u001b[0m\u001b[1;33m.\u001b[0m\u001b[0mupdate\u001b[0m\u001b[1;33m(\u001b[0m\u001b[0mkwds_defaults\u001b[0m\u001b[1;33m)\u001b[0m\u001b[1;33m\u001b[0m\u001b[1;33m\u001b[0m\u001b[0m\n\u001b[0;32m    679\u001b[0m \u001b[1;33m\u001b[0m\u001b[0m\n\u001b[1;32m--> 680\u001b[1;33m     \u001b[1;32mreturn\u001b[0m \u001b[0m_read\u001b[0m\u001b[1;33m(\u001b[0m\u001b[0mfilepath_or_buffer\u001b[0m\u001b[1;33m,\u001b[0m \u001b[0mkwds\u001b[0m\u001b[1;33m)\u001b[0m\u001b[1;33m\u001b[0m\u001b[1;33m\u001b[0m\u001b[0m\n\u001b[0m\u001b[0;32m    681\u001b[0m \u001b[1;33m\u001b[0m\u001b[0m\n\u001b[0;32m    682\u001b[0m \u001b[1;33m\u001b[0m\u001b[0m\n",
      "\u001b[1;32m~\\AppData\\Roaming\\Python\\Python38\\site-packages\\pandas\\io\\parsers\\readers.py\u001b[0m in \u001b[0;36m_read\u001b[1;34m(filepath_or_buffer, kwds)\u001b[0m\n\u001b[0;32m    573\u001b[0m \u001b[1;33m\u001b[0m\u001b[0m\n\u001b[0;32m    574\u001b[0m     \u001b[1;31m# Create the parser.\u001b[0m\u001b[1;33m\u001b[0m\u001b[1;33m\u001b[0m\u001b[1;33m\u001b[0m\u001b[0m\n\u001b[1;32m--> 575\u001b[1;33m     \u001b[0mparser\u001b[0m \u001b[1;33m=\u001b[0m \u001b[0mTextFileReader\u001b[0m\u001b[1;33m(\u001b[0m\u001b[0mfilepath_or_buffer\u001b[0m\u001b[1;33m,\u001b[0m \u001b[1;33m**\u001b[0m\u001b[0mkwds\u001b[0m\u001b[1;33m)\u001b[0m\u001b[1;33m\u001b[0m\u001b[1;33m\u001b[0m\u001b[0m\n\u001b[0m\u001b[0;32m    576\u001b[0m \u001b[1;33m\u001b[0m\u001b[0m\n\u001b[0;32m    577\u001b[0m     \u001b[1;32mif\u001b[0m \u001b[0mchunksize\u001b[0m \u001b[1;32mor\u001b[0m \u001b[0miterator\u001b[0m\u001b[1;33m:\u001b[0m\u001b[1;33m\u001b[0m\u001b[1;33m\u001b[0m\u001b[0m\n",
      "\u001b[1;32m~\\AppData\\Roaming\\Python\\Python38\\site-packages\\pandas\\io\\parsers\\readers.py\u001b[0m in \u001b[0;36m__init__\u001b[1;34m(self, f, engine, **kwds)\u001b[0m\n\u001b[0;32m    932\u001b[0m \u001b[1;33m\u001b[0m\u001b[0m\n\u001b[0;32m    933\u001b[0m         \u001b[0mself\u001b[0m\u001b[1;33m.\u001b[0m\u001b[0mhandles\u001b[0m\u001b[1;33m:\u001b[0m \u001b[0mIOHandles\u001b[0m \u001b[1;33m|\u001b[0m \u001b[1;32mNone\u001b[0m \u001b[1;33m=\u001b[0m \u001b[1;32mNone\u001b[0m\u001b[1;33m\u001b[0m\u001b[1;33m\u001b[0m\u001b[0m\n\u001b[1;32m--> 934\u001b[1;33m         \u001b[0mself\u001b[0m\u001b[1;33m.\u001b[0m\u001b[0m_engine\u001b[0m \u001b[1;33m=\u001b[0m \u001b[0mself\u001b[0m\u001b[1;33m.\u001b[0m\u001b[0m_make_engine\u001b[0m\u001b[1;33m(\u001b[0m\u001b[0mf\u001b[0m\u001b[1;33m,\u001b[0m \u001b[0mself\u001b[0m\u001b[1;33m.\u001b[0m\u001b[0mengine\u001b[0m\u001b[1;33m)\u001b[0m\u001b[1;33m\u001b[0m\u001b[1;33m\u001b[0m\u001b[0m\n\u001b[0m\u001b[0;32m    935\u001b[0m \u001b[1;33m\u001b[0m\u001b[0m\n\u001b[0;32m    936\u001b[0m     \u001b[1;32mdef\u001b[0m \u001b[0mclose\u001b[0m\u001b[1;33m(\u001b[0m\u001b[0mself\u001b[0m\u001b[1;33m)\u001b[0m\u001b[1;33m:\u001b[0m\u001b[1;33m\u001b[0m\u001b[1;33m\u001b[0m\u001b[0m\n",
      "\u001b[1;32m~\\AppData\\Roaming\\Python\\Python38\\site-packages\\pandas\\io\\parsers\\readers.py\u001b[0m in \u001b[0;36m_make_engine\u001b[1;34m(self, f, engine)\u001b[0m\n\u001b[0;32m   1234\u001b[0m \u001b[1;33m\u001b[0m\u001b[0m\n\u001b[0;32m   1235\u001b[0m         \u001b[1;32mtry\u001b[0m\u001b[1;33m:\u001b[0m\u001b[1;33m\u001b[0m\u001b[1;33m\u001b[0m\u001b[0m\n\u001b[1;32m-> 1236\u001b[1;33m             \u001b[1;32mreturn\u001b[0m \u001b[0mmapping\u001b[0m\u001b[1;33m[\u001b[0m\u001b[0mengine\u001b[0m\u001b[1;33m]\u001b[0m\u001b[1;33m(\u001b[0m\u001b[0mf\u001b[0m\u001b[1;33m,\u001b[0m \u001b[1;33m**\u001b[0m\u001b[0mself\u001b[0m\u001b[1;33m.\u001b[0m\u001b[0moptions\u001b[0m\u001b[1;33m)\u001b[0m\u001b[1;33m\u001b[0m\u001b[1;33m\u001b[0m\u001b[0m\n\u001b[0m\u001b[0;32m   1237\u001b[0m         \u001b[1;32mexcept\u001b[0m \u001b[0mException\u001b[0m\u001b[1;33m:\u001b[0m\u001b[1;33m\u001b[0m\u001b[1;33m\u001b[0m\u001b[0m\n\u001b[0;32m   1238\u001b[0m             \u001b[1;32mif\u001b[0m \u001b[0mself\u001b[0m\u001b[1;33m.\u001b[0m\u001b[0mhandles\u001b[0m \u001b[1;32mis\u001b[0m \u001b[1;32mnot\u001b[0m \u001b[1;32mNone\u001b[0m\u001b[1;33m:\u001b[0m\u001b[1;33m\u001b[0m\u001b[1;33m\u001b[0m\u001b[0m\n",
      "\u001b[1;32m~\\AppData\\Roaming\\Python\\Python38\\site-packages\\pandas\\io\\parsers\\c_parser_wrapper.py\u001b[0m in \u001b[0;36m__init__\u001b[1;34m(self, src, **kwds)\u001b[0m\n\u001b[0;32m     73\u001b[0m \u001b[1;33m\u001b[0m\u001b[0m\n\u001b[0;32m     74\u001b[0m         \u001b[0mkwds\u001b[0m\u001b[1;33m[\u001b[0m\u001b[1;34m\"dtype\"\u001b[0m\u001b[1;33m]\u001b[0m \u001b[1;33m=\u001b[0m \u001b[0mensure_dtype_objs\u001b[0m\u001b[1;33m(\u001b[0m\u001b[0mkwds\u001b[0m\u001b[1;33m.\u001b[0m\u001b[0mget\u001b[0m\u001b[1;33m(\u001b[0m\u001b[1;34m\"dtype\"\u001b[0m\u001b[1;33m,\u001b[0m \u001b[1;32mNone\u001b[0m\u001b[1;33m)\u001b[0m\u001b[1;33m)\u001b[0m\u001b[1;33m\u001b[0m\u001b[1;33m\u001b[0m\u001b[0m\n\u001b[1;32m---> 75\u001b[1;33m         \u001b[0mself\u001b[0m\u001b[1;33m.\u001b[0m\u001b[0m_reader\u001b[0m \u001b[1;33m=\u001b[0m \u001b[0mparsers\u001b[0m\u001b[1;33m.\u001b[0m\u001b[0mTextReader\u001b[0m\u001b[1;33m(\u001b[0m\u001b[0msrc\u001b[0m\u001b[1;33m,\u001b[0m \u001b[1;33m**\u001b[0m\u001b[0mkwds\u001b[0m\u001b[1;33m)\u001b[0m\u001b[1;33m\u001b[0m\u001b[1;33m\u001b[0m\u001b[0m\n\u001b[0m\u001b[0;32m     76\u001b[0m \u001b[1;33m\u001b[0m\u001b[0m\n\u001b[0;32m     77\u001b[0m         \u001b[0mself\u001b[0m\u001b[1;33m.\u001b[0m\u001b[0munnamed_cols\u001b[0m \u001b[1;33m=\u001b[0m \u001b[0mself\u001b[0m\u001b[1;33m.\u001b[0m\u001b[0m_reader\u001b[0m\u001b[1;33m.\u001b[0m\u001b[0munnamed_cols\u001b[0m\u001b[1;33m\u001b[0m\u001b[1;33m\u001b[0m\u001b[0m\n",
      "\u001b[1;32m~\\AppData\\Roaming\\Python\\Python38\\site-packages\\pandas\\_libs\\parsers.pyx\u001b[0m in \u001b[0;36mpandas._libs.parsers.TextReader.__cinit__\u001b[1;34m()\u001b[0m\n",
      "\u001b[1;32m~\\AppData\\Roaming\\Python\\Python38\\site-packages\\pandas\\_libs\\parsers.pyx\u001b[0m in \u001b[0;36mpandas._libs.parsers.TextReader._get_header\u001b[1;34m()\u001b[0m\n",
      "\u001b[1;32m~\\AppData\\Roaming\\Python\\Python38\\site-packages\\pandas\\_libs\\parsers.pyx\u001b[0m in \u001b[0;36mpandas._libs.parsers.TextReader._tokenize_rows\u001b[1;34m()\u001b[0m\n",
      "\u001b[1;32m~\\AppData\\Roaming\\Python\\Python38\\site-packages\\pandas\\_libs\\parsers.pyx\u001b[0m in \u001b[0;36mpandas._libs.parsers.raise_parser_error\u001b[1;34m()\u001b[0m\n",
      "\u001b[1;31mUnicodeDecodeError\u001b[0m: 'cp949' codec can't decode byte 0xec in position 1: illegal multibyte sequence"
     ]
    }
   ],
   "source": [
    "df = pd.read_csv(\"./서울시 착한가격업소 현황.csv\", encoding='cp949')"
   ]
  },
  {
   "cell_type": "code",
   "execution_count": 4,
   "metadata": {},
   "outputs": [
    {
     "data": {
      "text/html": [
       "<div>\n",
       "<style scoped>\n",
       "    .dataframe tbody tr th:only-of-type {\n",
       "        vertical-align: middle;\n",
       "    }\n",
       "\n",
       "    .dataframe tbody tr th {\n",
       "        vertical-align: top;\n",
       "    }\n",
       "\n",
       "    .dataframe thead th {\n",
       "        text-align: right;\n",
       "    }\n",
       "</style>\n",
       "<table border=\"1\" class=\"dataframe\">\n",
       "  <thead>\n",
       "    <tr style=\"text-align: right;\">\n",
       "      <th></th>\n",
       "      <th>업소아이디</th>\n",
       "      <th>업소명</th>\n",
       "      <th>분류코드</th>\n",
       "      <th>분류코드명</th>\n",
       "      <th>업소 주소</th>\n",
       "      <th>업소 전화번호</th>\n",
       "      <th>추천수</th>\n",
       "      <th>상품명</th>\n",
       "      <th>상품가격(일반)(원)</th>\n",
       "    </tr>\n",
       "  </thead>\n",
       "  <tbody>\n",
       "    <tr>\n",
       "      <th>0</th>\n",
       "      <td>9635</td>\n",
       "      <td>박연헤어</td>\n",
       "      <td>5</td>\n",
       "      <td>이 미용업</td>\n",
       "      <td>서울특별시 서울 도봉구 도봉로136길 111(창동)</td>\n",
       "      <td>02-900-0838</td>\n",
       "      <td>0</td>\n",
       "      <td>커트</td>\n",
       "      <td>8000.0</td>\n",
       "    </tr>\n",
       "    <tr>\n",
       "      <th>1</th>\n",
       "      <td>9635</td>\n",
       "      <td>박연헤어</td>\n",
       "      <td>5</td>\n",
       "      <td>이 미용업</td>\n",
       "      <td>서울특별시 서울 도봉구 도봉로136길 111(창동)</td>\n",
       "      <td>02-900-0838</td>\n",
       "      <td>0</td>\n",
       "      <td>파마</td>\n",
       "      <td>30000.0</td>\n",
       "    </tr>\n",
       "    <tr>\n",
       "      <th>2</th>\n",
       "      <td>9634</td>\n",
       "      <td>블루컷트</td>\n",
       "      <td>5</td>\n",
       "      <td>이 미용업</td>\n",
       "      <td>서울특별시 서울 도봉구 해등로 255(쌍문동)</td>\n",
       "      <td>02-999-6922</td>\n",
       "      <td>0</td>\n",
       "      <td>염색</td>\n",
       "      <td>7000.0</td>\n",
       "    </tr>\n",
       "    <tr>\n",
       "      <th>3</th>\n",
       "      <td>9634</td>\n",
       "      <td>블루컷트</td>\n",
       "      <td>5</td>\n",
       "      <td>이 미용업</td>\n",
       "      <td>서울특별시 서울 도봉구 해등로 255(쌍문동)</td>\n",
       "      <td>02-999-6922</td>\n",
       "      <td>0</td>\n",
       "      <td>커트</td>\n",
       "      <td>5000.0</td>\n",
       "    </tr>\n",
       "    <tr>\n",
       "      <th>4</th>\n",
       "      <td>9633</td>\n",
       "      <td>우이목장</td>\n",
       "      <td>1</td>\n",
       "      <td>한식</td>\n",
       "      <td>서울특별시 서울 도봉구 우이천로 298(쌍문동)</td>\n",
       "      <td>02-904-3070</td>\n",
       "      <td>0</td>\n",
       "      <td>갈비탕</td>\n",
       "      <td>11000.0</td>\n",
       "    </tr>\n",
       "  </tbody>\n",
       "</table>\n",
       "</div>"
      ],
      "text/plain": [
       "   업소아이디   업소명  분류코드  분류코드명                         업소 주소      업소 전화번호  추천수  \\\n",
       "0   9635  박연헤어     5  이 미용업  서울특별시 서울 도봉구 도봉로136길 111(창동)  02-900-0838    0   \n",
       "1   9635  박연헤어     5  이 미용업  서울특별시 서울 도봉구 도봉로136길 111(창동)  02-900-0838    0   \n",
       "2   9634  블루컷트     5  이 미용업     서울특별시 서울 도봉구 해등로 255(쌍문동)  02-999-6922    0   \n",
       "3   9634  블루컷트     5  이 미용업     서울특별시 서울 도봉구 해등로 255(쌍문동)  02-999-6922    0   \n",
       "4   9633  우이목장     1     한식    서울특별시 서울 도봉구 우이천로 298(쌍문동)  02-904-3070    0   \n",
       "\n",
       "   상품명  상품가격(일반)(원)  \n",
       "0   커트       8000.0  \n",
       "1   파마      30000.0  \n",
       "2   염색       7000.0  \n",
       "3   커트       5000.0  \n",
       "4  갈비탕      11000.0  "
      ]
     },
     "execution_count": 4,
     "metadata": {},
     "output_type": "execute_result"
    }
   ],
   "source": [
    "df.head()"
   ]
  },
  {
   "cell_type": "code",
   "execution_count": 75,
   "metadata": {},
   "outputs": [],
   "source": [
    "df.drop(index=df[df['분류코드명']=='이 미용업'].index, inplace=True)\n",
    "df.drop(index=df[df['분류코드명']=='세탁업'].index, inplace=True)\n",
    "df.drop(index=df[df['분류코드명']=='기타서비스업종'].index, inplace=True)\n",
    "df.drop(index=df[df['분류코드명']=='숙박업(호텔여관)'].index, inplace=True)\n",
    "df.drop(index=df[df['분류코드명']=='목욕업'].index, inplace=True)\n",
    "df.drop(index=df[df['분류코드명']=='영화관람'].index, inplace=True)\n",
    "df.to_csv(\"./서울시 착한가격업소(음식점).csv\")"
   ]
  },
  {
   "cell_type": "code",
   "execution_count": 91,
   "metadata": {},
   "outputs": [],
   "source": [
    "def get_location() :\n",
    "    latitude_list=[]\n",
    "    longitude_list=[]\n",
    "    base_url = \"https://dapi.kakao.com/v2/local/search/address.json?query=\"\n",
    "    for address in df['업소 주소'] :\n",
    "        try :\n",
    "            result = requests.get(urlparse(base_url+address).geturl(), headers={\"Authorization\":\"KakaoAK 7880cc9dfabd083df48445c16d075a26\"}).json()\n",
    "            latitude_list.append(result[\"documents\"][0][\"y\"])\n",
    "            longitude_list.append(result[\"documents\"][0][\"x\"])\n",
    "        except :\n",
    "            latitude_list.append('NaN')\n",
    "            longitude_list.append('NaN')\n",
    "    df['위도'] = latitude_list\n",
    "    df['경도'] = longitude_list\n",
    "    return df.head()"
   ]
  },
  {
   "cell_type": "code",
   "execution_count": 92,
   "metadata": {},
   "outputs": [
    {
     "data": {
      "text/html": [
       "<div>\n",
       "<style scoped>\n",
       "    .dataframe tbody tr th:only-of-type {\n",
       "        vertical-align: middle;\n",
       "    }\n",
       "\n",
       "    .dataframe tbody tr th {\n",
       "        vertical-align: top;\n",
       "    }\n",
       "\n",
       "    .dataframe thead th {\n",
       "        text-align: right;\n",
       "    }\n",
       "</style>\n",
       "<table border=\"1\" class=\"dataframe\">\n",
       "  <thead>\n",
       "    <tr style=\"text-align: right;\">\n",
       "      <th></th>\n",
       "      <th>업소아이디</th>\n",
       "      <th>업소명</th>\n",
       "      <th>분류코드</th>\n",
       "      <th>분류코드명</th>\n",
       "      <th>업소 주소</th>\n",
       "      <th>업소 전화번호</th>\n",
       "      <th>찾아오시는 길</th>\n",
       "      <th>업소정보</th>\n",
       "      <th>자랑거리</th>\n",
       "      <th>추천수</th>\n",
       "      <th>기준년월</th>\n",
       "      <th>업소 사진</th>\n",
       "      <th>위도</th>\n",
       "      <th>경도</th>\n",
       "    </tr>\n",
       "  </thead>\n",
       "  <tbody>\n",
       "    <tr>\n",
       "      <th>6</th>\n",
       "      <td>1739</td>\n",
       "      <td>목우촌부추삼겹살</td>\n",
       "      <td>1</td>\n",
       "      <td>한식</td>\n",
       "      <td>서울특별시 관악구 남현1길 68-10 (남현동)</td>\n",
       "      <td>588-7399</td>\n",
       "      <td>전철 2호선 4호선 사당역에서 5번출구로 나오시면 (구)관악등기소쪽 먹자골목으로 5...</td>\n",
       "      <td>영업시간 : 오전 10시 ~ 오후 11시 30분 좌석수 : 44석 휴무일 : 연중무...</td>\n",
       "      <td>▷사당역 먹자골목에 위치 ▷김치찌개된장찌개 2010년부터 가격 동결 ▷친절업소</td>\n",
       "      <td>257</td>\n",
       "      <td>21-2</td>\n",
       "      <td>http://tearstop.seoul.go.kr/mulga/photo/201501...</td>\n",
       "      <td>37.475339578085</td>\n",
       "      <td>126.981089942431</td>\n",
       "    </tr>\n",
       "    <tr>\n",
       "      <th>7</th>\n",
       "      <td>4325</td>\n",
       "      <td>청진동해장국</td>\n",
       "      <td>1</td>\n",
       "      <td>한식</td>\n",
       "      <td>서울특별시 관악구 관악로 105 (봉천동) 동산빌딩1층</td>\n",
       "      <td>875-9882</td>\n",
       "      <td>지하철 2호선 서울대입구역 3번 출구로 나와서 서울대학교 쪽으로 직진 도보10분 관...</td>\n",
       "      <td>영업시간 : 24시간 좌석수 : 80석 휴무일 : 연중무휴  배달 : 불가 예약 :...</td>\n",
       "      <td>관악구 평균가격(5000원) 보다 10% 저렴 김치 깍두기 등 직접 만들어 신선함.</td>\n",
       "      <td>252</td>\n",
       "      <td>21-2</td>\n",
       "      <td>http://tearstop.seoul.go.kr/mulga/photo/202207...</td>\n",
       "      <td>37.474629606862</td>\n",
       "      <td>126.952599252174</td>\n",
       "    </tr>\n",
       "    <tr>\n",
       "      <th>9</th>\n",
       "      <td>7851</td>\n",
       "      <td>오백냥분식</td>\n",
       "      <td>1</td>\n",
       "      <td>한식</td>\n",
       "      <td>서울특별시 송파구 가락로 112 (석촌동)</td>\n",
       "      <td>414-2261</td>\n",
       "      <td>전철노선: 8호선 송파역 4번출구 중동빌딩 버스노서 : 3417.3418.3422....</td>\n",
       "      <td>영업시간:08:00~21:00 휴무일:연중무휴 좌  석:20석 주  차:가능\\t 배...</td>\n",
       "      <td>저렴한 가격으로 국내산 재료 취급함 친절한 고객 서비스</td>\n",
       "      <td>236</td>\n",
       "      <td>21-2</td>\n",
       "      <td>http://tearstop.seoul.go.kr/mulga/photo/201207...</td>\n",
       "      <td>37.5012719988373</td>\n",
       "      <td>127.108509506025</td>\n",
       "    </tr>\n",
       "    <tr>\n",
       "      <th>10</th>\n",
       "      <td>6764</td>\n",
       "      <td>토방 닭 한마리</td>\n",
       "      <td>1</td>\n",
       "      <td>한식</td>\n",
       "      <td>서울특별시 관악구 신림로22길 5 (신림동)</td>\n",
       "      <td>874-6895</td>\n",
       "      <td>신성부동산 건물 바로 뒷건물</td>\n",
       "      <td>영업시간 : 오전 10시 ~ 오후 10시 좌석수 : 50석 예약 : 가능 카드 : ...</td>\n",
       "      <td>▷관악구 평균가격보다 10% 저렴 ▷반찬을 여러가지 하지 않고 김치와 깍두기 두가지...</td>\n",
       "      <td>214</td>\n",
       "      <td>21-2</td>\n",
       "      <td>http://tearstop.seoul.go.kr/mulga/photo/202207...</td>\n",
       "      <td>37.4716466293968</td>\n",
       "      <td>126.935306320424</td>\n",
       "    </tr>\n",
       "    <tr>\n",
       "      <th>15</th>\n",
       "      <td>3986</td>\n",
       "      <td>왕세숫대야냉면(행복을파는집)</td>\n",
       "      <td>1</td>\n",
       "      <td>한식</td>\n",
       "      <td>서울특별시 강서구 공항대로 423(등촌동)</td>\n",
       "      <td>02-2668-3608</td>\n",
       "      <td>화진코스메틱에서 강서구청4거리쪽으로 조금만 올라오세요~</td>\n",
       "      <td>영업시간 : 24시간 좌석수 : 30개 휴무일 : 미정 배달 : 불가 카드 : 가능...</td>\n",
       "      <td>많이 판매가 되므로 저렴한 가격유지 그날그날 신선한 재료사용하여 조리합니다.</td>\n",
       "      <td>163</td>\n",
       "      <td>21-2</td>\n",
       "      <td>http://tearstop.seoul.go.kr/mulga/photo/000039...</td>\n",
       "      <td>37.555567479084</td>\n",
       "      <td>126.854371723846</td>\n",
       "    </tr>\n",
       "  </tbody>\n",
       "</table>\n",
       "</div>"
      ],
      "text/plain": [
       "    업소아이디              업소명  분류코드 분류코드명                           업소 주소  \\\n",
       "6    1739         목우촌부추삼겹살     1    한식      서울특별시 관악구 남현1길 68-10 (남현동)   \n",
       "7    4325           청진동해장국     1    한식  서울특별시 관악구 관악로 105 (봉천동) 동산빌딩1층   \n",
       "9    7851            오백냥분식     1    한식         서울특별시 송파구 가락로 112 (석촌동)   \n",
       "10   6764         토방 닭 한마리     1    한식        서울특별시 관악구 신림로22길 5 (신림동)   \n",
       "15   3986  왕세숫대야냉면(행복을파는집)     1    한식         서울특별시 강서구 공항대로 423(등촌동)   \n",
       "\n",
       "             업소 전화번호                                            찾아오시는 길  \\\n",
       "6   588-7399          전철 2호선 4호선 사당역에서 5번출구로 나오시면 (구)관악등기소쪽 먹자골목으로 5...   \n",
       "7   875-9882          지하철 2호선 서울대입구역 3번 출구로 나와서 서울대학교 쪽으로 직진 도보10분 관...   \n",
       "9           414-2261  전철노선: 8호선 송파역 4번출구 중동빌딩 버스노서 : 3417.3418.3422....   \n",
       "10  874-6895                                            신성부동산 건물 바로 뒷건물   \n",
       "15      02-2668-3608                     화진코스메틱에서 강서구청4거리쪽으로 조금만 올라오세요~   \n",
       "\n",
       "                                                 업소정보  \\\n",
       "6   영업시간 : 오전 10시 ~ 오후 11시 30분 좌석수 : 44석 휴무일 : 연중무...   \n",
       "7   영업시간 : 24시간 좌석수 : 80석 휴무일 : 연중무휴  배달 : 불가 예약 :...   \n",
       "9   영업시간:08:00~21:00 휴무일:연중무휴 좌  석:20석 주  차:가능\\t 배...   \n",
       "10  영업시간 : 오전 10시 ~ 오후 10시 좌석수 : 50석 예약 : 가능 카드 : ...   \n",
       "15  영업시간 : 24시간 좌석수 : 30개 휴무일 : 미정 배달 : 불가 카드 : 가능...   \n",
       "\n",
       "                                                 자랑거리  추천수  기준년월  \\\n",
       "6         ▷사당역 먹자골목에 위치 ▷김치찌개된장찌개 2010년부터 가격 동결 ▷친절업소  257  21-2   \n",
       "7      관악구 평균가격(5000원) 보다 10% 저렴 김치 깍두기 등 직접 만들어 신선함.  252  21-2   \n",
       "9                     저렴한 가격으로 국내산 재료 취급함 친절한 고객 서비스   236  21-2   \n",
       "10  ▷관악구 평균가격보다 10% 저렴 ▷반찬을 여러가지 하지 않고 김치와 깍두기 두가지...  214  21-2   \n",
       "15         많이 판매가 되므로 저렴한 가격유지 그날그날 신선한 재료사용하여 조리합니다.  163  21-2   \n",
       "\n",
       "                                                업소 사진                위도  \\\n",
       "6   http://tearstop.seoul.go.kr/mulga/photo/201501...   37.475339578085   \n",
       "7   http://tearstop.seoul.go.kr/mulga/photo/202207...   37.474629606862   \n",
       "9   http://tearstop.seoul.go.kr/mulga/photo/201207...  37.5012719988373   \n",
       "10  http://tearstop.seoul.go.kr/mulga/photo/202207...  37.4716466293968   \n",
       "15  http://tearstop.seoul.go.kr/mulga/photo/000039...   37.555567479084   \n",
       "\n",
       "                  경도  \n",
       "6   126.981089942431  \n",
       "7   126.952599252174  \n",
       "9   127.108509506025  \n",
       "10  126.935306320424  \n",
       "15  126.854371723846  "
      ]
     },
     "execution_count": 92,
     "metadata": {},
     "output_type": "execute_result"
    }
   ],
   "source": [
    "get_location()"
   ]
  },
  {
   "cell_type": "code",
   "execution_count": 99,
   "metadata": {},
   "outputs": [
    {
     "name": "stdout",
     "output_type": "stream",
     "text": [
      "<class 'pandas.core.frame.DataFrame'>\n",
      "Int64Index: 734 entries, 6 to 1094\n",
      "Data columns (total 14 columns):\n",
      " #   Column   Non-Null Count  Dtype \n",
      "---  ------   --------------  ----- \n",
      " 0   업소아이디    734 non-null    int64 \n",
      " 1   업소명      734 non-null    object\n",
      " 2   분류코드     734 non-null    int64 \n",
      " 3   분류코드명    734 non-null    object\n",
      " 4   업소 주소    734 non-null    object\n",
      " 5   업소 전화번호  718 non-null    object\n",
      " 6   찾아오시는 길  362 non-null    object\n",
      " 7   업소정보     726 non-null    object\n",
      " 8   자랑거리     551 non-null    object\n",
      " 9   추천수      734 non-null    int64 \n",
      " 10  기준년월     734 non-null    object\n",
      " 11  업소 사진    734 non-null    object\n",
      " 12  위도       734 non-null    object\n",
      " 13  경도       734 non-null    object\n",
      "dtypes: int64(3), object(11)\n",
      "memory usage: 86.0+ KB\n"
     ]
    }
   ],
   "source": [
    "df.info()"
   ]
  },
  {
   "cell_type": "code",
   "execution_count": null,
   "metadata": {},
   "outputs": [],
   "source": [
    "for address in df['업소 주소'] :\n",
    "    get_location"
   ]
  },
  {
   "cell_type": "code",
   "execution_count": 11,
   "metadata": {},
   "outputs": [],
   "source": [
    "from selenium import webdriver"
   ]
  },
  {
   "cell_type": "code",
   "execution_count": 14,
   "metadata": {},
   "outputs": [
    {
     "name": "stderr",
     "output_type": "stream",
     "text": [
      "C:\\Users\\User\\AppData\\Local\\Temp\\ipykernel_26092\\4139024571.py:1: DeprecationWarning: executable_path has been deprecated, please pass in a Service object\n",
      "  driver = webdriver.Chrome('./driver/chromedriver')\n"
     ]
    }
   ],
   "source": [
    "driver = webdriver.Chrome('./driver/chromedriver')"
   ]
  },
  {
   "cell_type": "code",
   "execution_count": 20,
   "metadata": {},
   "outputs": [],
   "source": [
    "url = \"https://map.naver.com/v5/search/\"\n",
    "store = '서울시 강남구 여신김밥'"
   ]
  },
  {
   "cell_type": "code",
   "execution_count": 21,
   "metadata": {},
   "outputs": [],
   "source": [
    "driver.get(url+store)"
   ]
  },
  {
   "cell_type": "code",
   "execution_count": null,
   "metadata": {},
   "outputs": [],
   "source": []
  }
 ],
 "metadata": {
  "kernelspec": {
   "display_name": "Python 3",
   "language": "python",
   "name": "python3"
  },
  "language_info": {
   "codemirror_mode": {
    "name": "ipython",
    "version": 3
   },
   "file_extension": ".py",
   "mimetype": "text/x-python",
   "name": "python",
   "nbconvert_exporter": "python",
   "pygments_lexer": "ipython3",
   "version": "3.8.3"
  }
 },
 "nbformat": 4,
 "nbformat_minor": 5
}
