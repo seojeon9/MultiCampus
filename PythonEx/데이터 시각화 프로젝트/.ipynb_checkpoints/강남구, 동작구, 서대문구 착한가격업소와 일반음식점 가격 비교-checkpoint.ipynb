{
 "cells": [
  {
   "cell_type": "markdown",
   "metadata": {},
   "source": [
    "- 강남구/동작구/서대문구 착한가격음식점이랑 일반음식점이랑 외식비가격 비교하기\n",
    "- : 일반음식점의 가격이 외식비가격의 평균보다 낮다면 어느정도 물가안정에 도움이 된다고 판단\n",
    "-     그게 아니라면 큰 의미는 없다고 판단"
   ]
  },
  {
   "cell_type": "code",
   "execution_count": 1,
   "metadata": {},
   "outputs": [],
   "source": [
    "import pandas as pd\n",
    "import numpy as np"
   ]
  },
  {
   "cell_type": "code",
   "execution_count": 20,
   "metadata": {},
   "outputs": [],
   "source": [
    "import matplotlib.pyplot as plt #그래프 패키지 모듈 등록\n",
    "%matplotlib inline \n",
    "#그래프는 show()함수를 통해서 독립창에서 실행되는 것이 원칙\n",
    "#그래프를 콘솔에서 바로 작도되록 하는 설정"
   ]
  },
  {
   "cell_type": "code",
   "execution_count": 15,
   "metadata": {},
   "outputs": [
    {
     "data": {
      "text/plain": [
       "Index(['업소명', '분류코드', '분류코드명', '업소 주소', '업소 전화번호', '찾아오시는 길', '업소정보', '자랑거리',\n",
       "       '추천수', '기준년월', '업소 사진', '위도', '경도', '행정구', '행정동', '검색명', '식당아이디', '별점',\n",
       "       '상품명', '상품가격(일반)(원)', '메뉴라벨링', '외식비'],\n",
       "      dtype='object')"
      ]
     },
     "execution_count": 15,
     "metadata": {},
     "output_type": "execute_result"
    }
   ],
   "source": [
    "kind_table = pd.read_csv('./datas/서울시 착한가격음식점(라벨링).csv', encoding='cp949',index_col=0)\n",
    "kind_table.columns"
   ]
  },
  {
   "cell_type": "code",
   "execution_count": 17,
   "metadata": {},
   "outputs": [],
   "source": [
    "k_kind_table = kind_table[kind_table['행정구']=='강남구']\n",
    "d_kind_table = kind_table[kind_table['행정구']=='동작구']\n",
    "s_kind_table = kind_table[kind_table['행정구']=='서대문구']"
   ]
  },
  {
   "cell_type": "code",
   "execution_count": 18,
   "metadata": {},
   "outputs": [],
   "source": [
    "k_kind_table.index = [i for i in range(len(k_kind_table))]\n",
    "d_kind_table.index = [i for i in range(len(d_kind_table))]\n",
    "s_kind_table.index = [i for i in range(len(s_kind_table))]"
   ]
  },
  {
   "cell_type": "markdown",
   "metadata": {},
   "source": [
    "- 착한가격음식점 메뉴별 가격평균"
   ]
  },
  {
   "cell_type": "code",
   "execution_count": 70,
   "metadata": {},
   "outputs": [],
   "source": [
    "k_kind_table = k_kind_table[['업소명','메뉴라벨링','상품가격(일반)(원)']]"
   ]
  },
  {
   "cell_type": "code",
   "execution_count": 71,
   "metadata": {},
   "outputs": [],
   "source": [
    "d_kind_table = d_kind_table[['업소명','메뉴라벨링','상품가격(일반)(원)']]\n",
    "s_kind_table = s_kind_table[['업소명','메뉴라벨링','상품가격(일반)(원)']]"
   ]
  },
  {
   "cell_type": "code",
   "execution_count": 72,
   "metadata": {},
   "outputs": [],
   "source": [
    "k_kind_table.rename(columns={'상품가격(일반)(원)':'가격정보'},inplace=True)\n",
    "d_kind_table.rename(columns={'상품가격(일반)(원)':'가격정보'},inplace=True)\n",
    "s_kind_table.rename(columns={'상품가격(일반)(원)':'가격정보'},inplace=True)"
   ]
  },
  {
   "cell_type": "code",
   "execution_count": 73,
   "metadata": {},
   "outputs": [],
   "source": [
    "k_kind_pivot_table = k_kind_table.pivot_table(\"가격정보\",index=\"메뉴라벨링\")\n",
    "d_kind_pivot_table = d_kind_table.pivot_table(\"가격정보\",index=\"메뉴라벨링\")\n",
    "s_kind_pivot_table = s_kind_table.pivot_table(\"가격정보\",index=\"메뉴라벨링\")"
   ]
  },
  {
   "cell_type": "code",
   "execution_count": 74,
   "metadata": {},
   "outputs": [
    {
     "data": {
      "text/html": [
       "<div>\n",
       "<style scoped>\n",
       "    .dataframe tbody tr th:only-of-type {\n",
       "        vertical-align: middle;\n",
       "    }\n",
       "\n",
       "    .dataframe tbody tr th {\n",
       "        vertical-align: top;\n",
       "    }\n",
       "\n",
       "    .dataframe thead th {\n",
       "        text-align: right;\n",
       "    }\n",
       "</style>\n",
       "<table border=\"1\" class=\"dataframe\">\n",
       "  <thead>\n",
       "    <tr style=\"text-align: right;\">\n",
       "      <th></th>\n",
       "      <th>가격정보</th>\n",
       "    </tr>\n",
       "    <tr>\n",
       "      <th>메뉴라벨링</th>\n",
       "      <th></th>\n",
       "    </tr>\n",
       "  </thead>\n",
       "  <tbody>\n",
       "    <tr>\n",
       "      <th>김밥</th>\n",
       "      <td>1000.0</td>\n",
       "    </tr>\n",
       "    <tr>\n",
       "      <th>김치찌개백반</th>\n",
       "      <td>4800.0</td>\n",
       "    </tr>\n",
       "    <tr>\n",
       "      <th>냉면</th>\n",
       "      <td>4500.0</td>\n",
       "    </tr>\n",
       "    <tr>\n",
       "      <th>비빔밥</th>\n",
       "      <td>4250.0</td>\n",
       "    </tr>\n",
       "    <tr>\n",
       "      <th>삼겹살</th>\n",
       "      <td>8150.0</td>\n",
       "    </tr>\n",
       "    <tr>\n",
       "      <th>자장면</th>\n",
       "      <td>3000.0</td>\n",
       "    </tr>\n",
       "    <tr>\n",
       "      <th>칼국수</th>\n",
       "      <td>4250.0</td>\n",
       "    </tr>\n",
       "  </tbody>\n",
       "</table>\n",
       "</div>"
      ],
      "text/plain": [
       "          가격정보\n",
       "메뉴라벨링         \n",
       "김밥      1000.0\n",
       "김치찌개백반  4800.0\n",
       "냉면      4500.0\n",
       "비빔밥     4250.0\n",
       "삼겹살     8150.0\n",
       "자장면     3000.0\n",
       "칼국수     4250.0"
      ]
     },
     "execution_count": 74,
     "metadata": {},
     "output_type": "execute_result"
    }
   ],
   "source": [
    "s_kind_pivot_table"
   ]
  },
  {
   "cell_type": "markdown",
   "metadata": {},
   "source": [
    "- 일반음식점 메뉴별 가격평균"
   ]
  },
  {
   "cell_type": "code",
   "execution_count": 32,
   "metadata": {},
   "outputs": [],
   "source": [
    "k_general_table = pd.read_csv('./datas/강남구 표본(메뉴라벨링).csv', encoding='cp949')\n",
    "d_general_table = pd.read_csv('./datas/동작구 표본(메뉴라벨링).csv', encoding='cp949')\n",
    "s_general_table = pd.read_csv('./datas/서대문구 표본(메뉴라벨링).csv', encoding='cp949')"
   ]
  },
  {
   "cell_type": "code",
   "execution_count": 33,
   "metadata": {},
   "outputs": [],
   "source": [
    "k_general_table.rename(columns={'메뉴 라벨링':'메뉴라벨링'},inplace=True)"
   ]
  },
  {
   "cell_type": "code",
   "execution_count": 35,
   "metadata": {
    "collapsed": true
   },
   "outputs": [
    {
     "data": {
      "text/html": [
       "<div>\n",
       "<style scoped>\n",
       "    .dataframe tbody tr th:only-of-type {\n",
       "        vertical-align: middle;\n",
       "    }\n",
       "\n",
       "    .dataframe tbody tr th {\n",
       "        vertical-align: top;\n",
       "    }\n",
       "\n",
       "    .dataframe thead th {\n",
       "        text-align: right;\n",
       "    }\n",
       "</style>\n",
       "<table border=\"1\" class=\"dataframe\">\n",
       "  <thead>\n",
       "    <tr style=\"text-align: right;\">\n",
       "      <th></th>\n",
       "      <th>상세영업상태명</th>\n",
       "      <th>전화번호</th>\n",
       "      <th>소재지면적</th>\n",
       "      <th>소재지우편번호</th>\n",
       "      <th>지번주소</th>\n",
       "      <th>도로명주소</th>\n",
       "      <th>도로명우편번호</th>\n",
       "      <th>사업장명</th>\n",
       "      <th>최종수정일자</th>\n",
       "      <th>데이터갱신구분</th>\n",
       "      <th>데이터갱신일자</th>\n",
       "      <th>업태구분명</th>\n",
       "      <th>좌표정보(X)</th>\n",
       "      <th>좌표정보(Y)</th>\n",
       "      <th>위생업태명</th>\n",
       "      <th>업소URL</th>\n",
       "      <th>대표메뉴</th>\n",
       "      <th>가격정보</th>\n",
       "      <th>메뉴라벨링</th>\n",
       "    </tr>\n",
       "  </thead>\n",
       "  <tbody>\n",
       "    <tr>\n",
       "      <th>0</th>\n",
       "      <td>영업</td>\n",
       "      <td>5183692</td>\n",
       "      <td>21.00</td>\n",
       "      <td>135838.0</td>\n",
       "      <td>서울특별시 강남구 대치동 626-0번지 지하1층 38호</td>\n",
       "      <td>서울특별시 강남구 남부순환로 2917 (대치동지하1층 38호)</td>\n",
       "      <td>6280.0</td>\n",
       "      <td>청실식당</td>\n",
       "      <td>2.010000e+13</td>\n",
       "      <td>I</td>\n",
       "      <td>2018-08-31 23:59</td>\n",
       "      <td>한식</td>\n",
       "      <td>205154.6381</td>\n",
       "      <td>443439.9816</td>\n",
       "      <td>한식</td>\n",
       "      <td>3.600399e+07</td>\n",
       "      <td>김치찌개</td>\n",
       "      <td>7,000원</td>\n",
       "      <td>김치찌개</td>\n",
       "    </tr>\n",
       "    <tr>\n",
       "      <th>1</th>\n",
       "      <td>영업</td>\n",
       "      <td>NaN</td>\n",
       "      <td>29.02</td>\n",
       "      <td>135840.0</td>\n",
       "      <td>서울특별시 강남구 대치동 894</td>\n",
       "      <td>서울특별시 강남구 삼성로85길 33 지상1층 107호 (대치동)</td>\n",
       "      <td>6196.0</td>\n",
       "      <td>면전</td>\n",
       "      <td>2.020000e+13</td>\n",
       "      <td>I</td>\n",
       "      <td>2021-03-20 0:22</td>\n",
       "      <td>한식</td>\n",
       "      <td>204776.5483</td>\n",
       "      <td>444677.6430</td>\n",
       "      <td>한식</td>\n",
       "      <td>1.828930e+09</td>\n",
       "      <td>물총조개칼국수</td>\n",
       "      <td>9,000원</td>\n",
       "      <td>칼국수</td>\n",
       "    </tr>\n",
       "    <tr>\n",
       "      <th>2</th>\n",
       "      <td>영업</td>\n",
       "      <td>NaN</td>\n",
       "      <td>30.00</td>\n",
       "      <td>135822.0</td>\n",
       "      <td>서울특별시 강남구 논현동 140-3번지</td>\n",
       "      <td>서울특별시 강남구 강남대로128길 22 1층 102호 (논현동)</td>\n",
       "      <td>6114.0</td>\n",
       "      <td>청량리 광주냉면</td>\n",
       "      <td>2.010000e+13</td>\n",
       "      <td>I</td>\n",
       "      <td>2018-08-31 23:59</td>\n",
       "      <td>한식</td>\n",
       "      <td>202062.6380</td>\n",
       "      <td>445318.2373</td>\n",
       "      <td>한식</td>\n",
       "      <td>1.054384e+09</td>\n",
       "      <td>열무냉면</td>\n",
       "      <td>6,000원</td>\n",
       "      <td>냉면</td>\n",
       "    </tr>\n",
       "    <tr>\n",
       "      <th>3</th>\n",
       "      <td>영업</td>\n",
       "      <td>2</td>\n",
       "      <td>129.37</td>\n",
       "      <td>135998.0</td>\n",
       "      <td>서울특별시 강남구 대치동 937-0번지 롯데백화점 지하1층</td>\n",
       "      <td>서울특별시 강남구 도곡로 401 (대치동롯데백화점 지하1층)</td>\n",
       "      <td>6206.0</td>\n",
       "      <td>예촌</td>\n",
       "      <td>2.010000e+13</td>\n",
       "      <td>I</td>\n",
       "      <td>2018-08-31 23:59</td>\n",
       "      <td>한식</td>\n",
       "      <td>204669.5434</td>\n",
       "      <td>443873.6212</td>\n",
       "      <td>한식</td>\n",
       "      <td>3.671174e+07</td>\n",
       "      <td>전주비빔밥</td>\n",
       "      <td>11,000원</td>\n",
       "      <td>비빔밥</td>\n",
       "    </tr>\n",
       "    <tr>\n",
       "      <th>4</th>\n",
       "      <td>영업</td>\n",
       "      <td>NaN</td>\n",
       "      <td>40.04</td>\n",
       "      <td>135190.0</td>\n",
       "      <td>서울특별시 강남구 세곡동 587번지</td>\n",
       "      <td>서울특별시 강남구 헌릉로569길 9 지상1층 106호 (세곡동 강남 지웰파인즈)</td>\n",
       "      <td>6376.0</td>\n",
       "      <td>본죽앤 비빔밥</td>\n",
       "      <td>2.020000e+13</td>\n",
       "      <td>U</td>\n",
       "      <td>2020-02-19 2:40</td>\n",
       "      <td>한식</td>\n",
       "      <td>208859.4800</td>\n",
       "      <td>440518.1100</td>\n",
       "      <td>한식</td>\n",
       "      <td>1.297284e+07</td>\n",
       "      <td>해물 약고추장비빔밥</td>\n",
       "      <td>10,000원</td>\n",
       "      <td>비빔밥</td>\n",
       "    </tr>\n",
       "  </tbody>\n",
       "</table>\n",
       "</div>"
      ],
      "text/plain": [
       "  상세영업상태명     전화번호   소재지면적   소재지우편번호                               지번주소  \\\n",
       "0      영업  5183692   21.00  135838.0    서울특별시 강남구 대치동 626-0번지 지하1층 38호    \n",
       "1      영업      NaN   29.02  135840.0                 서울특별시 강남구 대치동 894    \n",
       "2      영업      NaN   30.00  135822.0             서울특별시 강남구 논현동 140-3번지    \n",
       "3      영업        2  129.37  135998.0  서울특별시 강남구 대치동 937-0번지 롯데백화점 지하1층    \n",
       "4      영업      NaN   40.04  135190.0               서울특별시 강남구 세곡동 587번지    \n",
       "\n",
       "                                          도로명주소  도로명우편번호      사업장명  \\\n",
       "0            서울특별시 강남구 남부순환로 2917 (대치동지하1층 38호)   6280.0      청실식당   \n",
       "1           서울특별시 강남구 삼성로85길 33 지상1층 107호 (대치동)   6196.0        면전   \n",
       "2           서울특별시 강남구 강남대로128길 22 1층 102호 (논현동)   6114.0  청량리 광주냉면   \n",
       "3             서울특별시 강남구 도곡로 401 (대치동롯데백화점 지하1층)   6206.0        예촌   \n",
       "4  서울특별시 강남구 헌릉로569길 9 지상1층 106호 (세곡동 강남 지웰파인즈)   6376.0   본죽앤 비빔밥   \n",
       "\n",
       "         최종수정일자 데이터갱신구분           데이터갱신일자 업태구분명      좌표정보(X)      좌표정보(Y)  \\\n",
       "0  2.010000e+13       I  2018-08-31 23:59    한식  205154.6381  443439.9816   \n",
       "1  2.020000e+13       I   2021-03-20 0:22    한식  204776.5483  444677.6430   \n",
       "2  2.010000e+13       I  2018-08-31 23:59    한식  202062.6380  445318.2373   \n",
       "3  2.010000e+13       I  2018-08-31 23:59    한식  204669.5434  443873.6212   \n",
       "4  2.020000e+13       U   2020-02-19 2:40    한식  208859.4800  440518.1100   \n",
       "\n",
       "  위생업태명         업소URL        대표메뉴     가격정보 메뉴라벨링  \n",
       "0    한식  3.600399e+07        김치찌개   7,000원  김치찌개  \n",
       "1    한식  1.828930e+09     물총조개칼국수   9,000원   칼국수  \n",
       "2    한식  1.054384e+09        열무냉면   6,000원    냉면  \n",
       "3    한식  3.671174e+07       전주비빔밥  11,000원   비빔밥  \n",
       "4    한식  1.297284e+07  해물 약고추장비빔밥  10,000원   비빔밥  "
      ]
     },
     "execution_count": 35,
     "metadata": {},
     "output_type": "execute_result"
    }
   ],
   "source": [
    "k_general_table.head()"
   ]
  },
  {
   "cell_type": "code",
   "execution_count": 38,
   "metadata": {
    "collapsed": true
   },
   "outputs": [
    {
     "data": {
      "text/html": [
       "<div>\n",
       "<style scoped>\n",
       "    .dataframe tbody tr th:only-of-type {\n",
       "        vertical-align: middle;\n",
       "    }\n",
       "\n",
       "    .dataframe tbody tr th {\n",
       "        vertical-align: top;\n",
       "    }\n",
       "\n",
       "    .dataframe thead th {\n",
       "        text-align: right;\n",
       "    }\n",
       "</style>\n",
       "<table border=\"1\" class=\"dataframe\">\n",
       "  <thead>\n",
       "    <tr style=\"text-align: right;\">\n",
       "      <th></th>\n",
       "      <th>사업장명</th>\n",
       "      <th>메뉴라벨링</th>\n",
       "      <th>가격정보</th>\n",
       "    </tr>\n",
       "  </thead>\n",
       "  <tbody>\n",
       "    <tr>\n",
       "      <th>0</th>\n",
       "      <td>청실식당</td>\n",
       "      <td>김치찌개</td>\n",
       "      <td>7,000원</td>\n",
       "    </tr>\n",
       "    <tr>\n",
       "      <th>1</th>\n",
       "      <td>면전</td>\n",
       "      <td>칼국수</td>\n",
       "      <td>9,000원</td>\n",
       "    </tr>\n",
       "    <tr>\n",
       "      <th>2</th>\n",
       "      <td>청량리 광주냉면</td>\n",
       "      <td>냉면</td>\n",
       "      <td>6,000원</td>\n",
       "    </tr>\n",
       "    <tr>\n",
       "      <th>3</th>\n",
       "      <td>예촌</td>\n",
       "      <td>비빔밥</td>\n",
       "      <td>11,000원</td>\n",
       "    </tr>\n",
       "    <tr>\n",
       "      <th>4</th>\n",
       "      <td>본죽앤 비빔밥</td>\n",
       "      <td>비빔밥</td>\n",
       "      <td>10,000원</td>\n",
       "    </tr>\n",
       "    <tr>\n",
       "      <th>...</th>\n",
       "      <td>...</td>\n",
       "      <td>...</td>\n",
       "      <td>...</td>\n",
       "    </tr>\n",
       "    <tr>\n",
       "      <th>75</th>\n",
       "      <td>청담동장독대김치찌개</td>\n",
       "      <td>김치찌개</td>\n",
       "      <td>9,000원</td>\n",
       "    </tr>\n",
       "    <tr>\n",
       "      <th>76</th>\n",
       "      <td>행복한 김치찌개</td>\n",
       "      <td>김치찌개</td>\n",
       "      <td>7,000원</td>\n",
       "    </tr>\n",
       "    <tr>\n",
       "      <th>77</th>\n",
       "      <td>초가집 삼계탕</td>\n",
       "      <td>삼계탕</td>\n",
       "      <td>15,000원</td>\n",
       "    </tr>\n",
       "    <tr>\n",
       "      <th>78</th>\n",
       "      <td>상황버섯삼계탕</td>\n",
       "      <td>삼계탕</td>\n",
       "      <td>15,000원</td>\n",
       "    </tr>\n",
       "    <tr>\n",
       "      <th>79</th>\n",
       "      <td>영양센타 대치동점</td>\n",
       "      <td>삼계탕</td>\n",
       "      <td>18,500원</td>\n",
       "    </tr>\n",
       "  </tbody>\n",
       "</table>\n",
       "<p>80 rows × 3 columns</p>\n",
       "</div>"
      ],
      "text/plain": [
       "          사업장명 메뉴라벨링     가격정보\n",
       "0         청실식당  김치찌개   7,000원\n",
       "1           면전   칼국수   9,000원\n",
       "2     청량리 광주냉면    냉면   6,000원\n",
       "3           예촌   비빔밥  11,000원\n",
       "4      본죽앤 비빔밥   비빔밥  10,000원\n",
       "..         ...   ...      ...\n",
       "75  청담동장독대김치찌개  김치찌개   9,000원\n",
       "76    행복한 김치찌개  김치찌개   7,000원\n",
       "77     초가집 삼계탕   삼계탕  15,000원\n",
       "78     상황버섯삼계탕   삼계탕  15,000원\n",
       "79   영양센타 대치동점   삼계탕  18,500원\n",
       "\n",
       "[80 rows x 3 columns]"
      ]
     },
     "execution_count": 38,
     "metadata": {},
     "output_type": "execute_result"
    }
   ],
   "source": [
    "k_general_table = k_general_table[['사업장명','메뉴라벨링','가격정보']]\n",
    "k_general_table"
   ]
  },
  {
   "cell_type": "code",
   "execution_count": 39,
   "metadata": {},
   "outputs": [],
   "source": [
    "d_general_table = k_general_table[['사업장명','메뉴라벨링','가격정보']]\n",
    "s_general_table = k_general_table[['사업장명','메뉴라벨링','가격정보']]"
   ]
  },
  {
   "cell_type": "code",
   "execution_count": 53,
   "metadata": {},
   "outputs": [
    {
     "data": {
      "text/plain": [
       "7000"
      ]
     },
     "execution_count": 53,
     "metadata": {},
     "output_type": "execute_result"
    }
   ],
   "source": [
    "# 7,000원 숫자 7000으로 만드는 코드\n",
    "int(\"\".join(k_general_table['가격정보'][0][:-1].split(',')))"
   ]
  },
  {
   "cell_type": "code",
   "execution_count": 64,
   "metadata": {},
   "outputs": [],
   "source": [
    "price_list = []\n",
    "for price in s_general_table['가격정보'] :\n",
    "    price_list.append(int(\"\".join(price[:-1].split(','))))"
   ]
  },
  {
   "cell_type": "code",
   "execution_count": 65,
   "metadata": {},
   "outputs": [],
   "source": [
    "s_general_table['가격정보'] = price_list"
   ]
  },
  {
   "cell_type": "code",
   "execution_count": 61,
   "metadata": {
    "scrolled": true
   },
   "outputs": [
    {
     "data": {
      "text/html": [
       "<div>\n",
       "<style scoped>\n",
       "    .dataframe tbody tr th:only-of-type {\n",
       "        vertical-align: middle;\n",
       "    }\n",
       "\n",
       "    .dataframe tbody tr th {\n",
       "        vertical-align: top;\n",
       "    }\n",
       "\n",
       "    .dataframe thead th {\n",
       "        text-align: right;\n",
       "    }\n",
       "</style>\n",
       "<table border=\"1\" class=\"dataframe\">\n",
       "  <thead>\n",
       "    <tr style=\"text-align: right;\">\n",
       "      <th></th>\n",
       "      <th>사업장명</th>\n",
       "      <th>메뉴라벨링</th>\n",
       "      <th>가격정보</th>\n",
       "    </tr>\n",
       "  </thead>\n",
       "  <tbody>\n",
       "    <tr>\n",
       "      <th>0</th>\n",
       "      <td>청실식당</td>\n",
       "      <td>김치찌개</td>\n",
       "      <td>7000</td>\n",
       "    </tr>\n",
       "    <tr>\n",
       "      <th>1</th>\n",
       "      <td>면전</td>\n",
       "      <td>칼국수</td>\n",
       "      <td>9000</td>\n",
       "    </tr>\n",
       "    <tr>\n",
       "      <th>2</th>\n",
       "      <td>청량리 광주냉면</td>\n",
       "      <td>냉면</td>\n",
       "      <td>6000</td>\n",
       "    </tr>\n",
       "    <tr>\n",
       "      <th>3</th>\n",
       "      <td>예촌</td>\n",
       "      <td>비빔밥</td>\n",
       "      <td>11000</td>\n",
       "    </tr>\n",
       "    <tr>\n",
       "      <th>4</th>\n",
       "      <td>본죽앤 비빔밥</td>\n",
       "      <td>비빔밥</td>\n",
       "      <td>10000</td>\n",
       "    </tr>\n",
       "    <tr>\n",
       "      <th>...</th>\n",
       "      <td>...</td>\n",
       "      <td>...</td>\n",
       "      <td>...</td>\n",
       "    </tr>\n",
       "    <tr>\n",
       "      <th>75</th>\n",
       "      <td>청담동장독대김치찌개</td>\n",
       "      <td>김치찌개</td>\n",
       "      <td>9000</td>\n",
       "    </tr>\n",
       "    <tr>\n",
       "      <th>76</th>\n",
       "      <td>행복한 김치찌개</td>\n",
       "      <td>김치찌개</td>\n",
       "      <td>7000</td>\n",
       "    </tr>\n",
       "    <tr>\n",
       "      <th>77</th>\n",
       "      <td>초가집 삼계탕</td>\n",
       "      <td>삼계탕</td>\n",
       "      <td>15000</td>\n",
       "    </tr>\n",
       "    <tr>\n",
       "      <th>78</th>\n",
       "      <td>상황버섯삼계탕</td>\n",
       "      <td>삼계탕</td>\n",
       "      <td>15000</td>\n",
       "    </tr>\n",
       "    <tr>\n",
       "      <th>79</th>\n",
       "      <td>영양센타 대치동점</td>\n",
       "      <td>삼계탕</td>\n",
       "      <td>18500</td>\n",
       "    </tr>\n",
       "  </tbody>\n",
       "</table>\n",
       "<p>80 rows × 3 columns</p>\n",
       "</div>"
      ],
      "text/plain": [
       "          사업장명 메뉴라벨링   가격정보\n",
       "0         청실식당  김치찌개   7000\n",
       "1           면전   칼국수   9000\n",
       "2     청량리 광주냉면    냉면   6000\n",
       "3           예촌   비빔밥  11000\n",
       "4      본죽앤 비빔밥   비빔밥  10000\n",
       "..         ...   ...    ...\n",
       "75  청담동장독대김치찌개  김치찌개   9000\n",
       "76    행복한 김치찌개  김치찌개   7000\n",
       "77     초가집 삼계탕   삼계탕  15000\n",
       "78     상황버섯삼계탕   삼계탕  15000\n",
       "79   영양센타 대치동점   삼계탕  18500\n",
       "\n",
       "[80 rows x 3 columns]"
      ]
     },
     "execution_count": 61,
     "metadata": {},
     "output_type": "execute_result"
    }
   ],
   "source": [
    "k_general_table"
   ]
  },
  {
   "cell_type": "code",
   "execution_count": 66,
   "metadata": {},
   "outputs": [
    {
     "data": {
      "text/plain": [
       "numpy.int64"
      ]
     },
     "execution_count": 66,
     "metadata": {},
     "output_type": "execute_result"
    }
   ],
   "source": [
    "type(s_general_table['가격정보'][0])"
   ]
  },
  {
   "cell_type": "code",
   "execution_count": 67,
   "metadata": {},
   "outputs": [
    {
     "data": {
      "text/html": [
       "<div>\n",
       "<style scoped>\n",
       "    .dataframe tbody tr th:only-of-type {\n",
       "        vertical-align: middle;\n",
       "    }\n",
       "\n",
       "    .dataframe tbody tr th {\n",
       "        vertical-align: top;\n",
       "    }\n",
       "\n",
       "    .dataframe thead th {\n",
       "        text-align: right;\n",
       "    }\n",
       "</style>\n",
       "<table border=\"1\" class=\"dataframe\">\n",
       "  <thead>\n",
       "    <tr style=\"text-align: right;\">\n",
       "      <th></th>\n",
       "      <th>가격정보</th>\n",
       "    </tr>\n",
       "    <tr>\n",
       "      <th>메뉴라벨링</th>\n",
       "      <th></th>\n",
       "    </tr>\n",
       "  </thead>\n",
       "  <tbody>\n",
       "    <tr>\n",
       "      <th>김밥</th>\n",
       "      <td>3280.000000</td>\n",
       "    </tr>\n",
       "    <tr>\n",
       "      <th>김치찌개</th>\n",
       "      <td>8045.454545</td>\n",
       "    </tr>\n",
       "    <tr>\n",
       "      <th>냉면</th>\n",
       "      <td>10772.727273</td>\n",
       "    </tr>\n",
       "    <tr>\n",
       "      <th>비빔밥</th>\n",
       "      <td>11100.000000</td>\n",
       "    </tr>\n",
       "    <tr>\n",
       "      <th>삼계탕</th>\n",
       "      <td>16045.454545</td>\n",
       "    </tr>\n",
       "    <tr>\n",
       "      <th>자장면</th>\n",
       "      <td>6545.454545</td>\n",
       "    </tr>\n",
       "    <tr>\n",
       "      <th>칼국수</th>\n",
       "      <td>9062.500000</td>\n",
       "    </tr>\n",
       "  </tbody>\n",
       "</table>\n",
       "</div>"
      ],
      "text/plain": [
       "               가격정보\n",
       "메뉴라벨링              \n",
       "김밥      3280.000000\n",
       "김치찌개    8045.454545\n",
       "냉면     10772.727273\n",
       "비빔밥    11100.000000\n",
       "삼계탕    16045.454545\n",
       "자장면     6545.454545\n",
       "칼국수     9062.500000"
      ]
     },
     "execution_count": 67,
     "metadata": {},
     "output_type": "execute_result"
    }
   ],
   "source": [
    "k_general_pivot_table = k_general_table.pivot_table(\"가격정보\",index=\"메뉴라벨링\")\n",
    "k_general_pivot_table"
   ]
  },
  {
   "cell_type": "code",
   "execution_count": 68,
   "metadata": {},
   "outputs": [],
   "source": [
    "d_general_pivot_table = d_general_table.pivot_table(\"가격정보\",index=\"메뉴라벨링\")\n",
    "s_general_pivot_table = s_general_table.pivot_table(\"가격정보\",index=\"메뉴라벨링\")"
   ]
  },
  {
   "cell_type": "code",
   "execution_count": 96,
   "metadata": {
    "scrolled": true
   },
   "outputs": [
    {
     "data": {
      "text/html": [
       "<div>\n",
       "<style scoped>\n",
       "    .dataframe tbody tr th:only-of-type {\n",
       "        vertical-align: middle;\n",
       "    }\n",
       "\n",
       "    .dataframe tbody tr th {\n",
       "        vertical-align: top;\n",
       "    }\n",
       "\n",
       "    .dataframe thead th {\n",
       "        text-align: right;\n",
       "    }\n",
       "</style>\n",
       "<table border=\"1\" class=\"dataframe\">\n",
       "  <thead>\n",
       "    <tr style=\"text-align: right;\">\n",
       "      <th></th>\n",
       "      <th>번호</th>\n",
       "      <th>지역</th>\n",
       "      <th>냉면</th>\n",
       "      <th>비빔밥</th>\n",
       "      <th>김치찌개백반</th>\n",
       "      <th>삼겹살(환산전)</th>\n",
       "      <th>삼겹살(환산후)</th>\n",
       "      <th>자장면</th>\n",
       "      <th>삼계탕</th>\n",
       "      <th>칼국수</th>\n",
       "      <th>김밥</th>\n",
       "    </tr>\n",
       "  </thead>\n",
       "  <tbody>\n",
       "    <tr>\n",
       "      <th>0</th>\n",
       "      <td>1</td>\n",
       "      <td>서울</td>\n",
       "      <td>10423</td>\n",
       "      <td>9654</td>\n",
       "      <td>7423</td>\n",
       "      <td>15231</td>\n",
       "      <td>18056</td>\n",
       "      <td>6300</td>\n",
       "      <td>15385</td>\n",
       "      <td>8385</td>\n",
       "      <td>2969</td>\n",
       "    </tr>\n",
       "    <tr>\n",
       "      <th>1</th>\n",
       "      <td>2</td>\n",
       "      <td>광주</td>\n",
       "      <td>9100</td>\n",
       "      <td>8700</td>\n",
       "      <td>7800</td>\n",
       "      <td>13600</td>\n",
       "      <td>14244</td>\n",
       "      <td>6100</td>\n",
       "      <td>15000</td>\n",
       "      <td>8000</td>\n",
       "      <td>2900</td>\n",
       "    </tr>\n",
       "    <tr>\n",
       "      <th>2</th>\n",
       "      <td>3</td>\n",
       "      <td>대구</td>\n",
       "      <td>10167</td>\n",
       "      <td>8717</td>\n",
       "      <td>7167</td>\n",
       "      <td>10917</td>\n",
       "      <td>14932</td>\n",
       "      <td>6083</td>\n",
       "      <td>15000</td>\n",
       "      <td>6500</td>\n",
       "      <td>2500</td>\n",
       "    </tr>\n",
       "    <tr>\n",
       "      <th>3</th>\n",
       "      <td>4</td>\n",
       "      <td>대전</td>\n",
       "      <td>9000</td>\n",
       "      <td>9700</td>\n",
       "      <td>7000</td>\n",
       "      <td>13800</td>\n",
       "      <td>17383</td>\n",
       "      <td>5800</td>\n",
       "      <td>14200</td>\n",
       "      <td>7400</td>\n",
       "      <td>2800</td>\n",
       "    </tr>\n",
       "    <tr>\n",
       "      <th>4</th>\n",
       "      <td>5</td>\n",
       "      <td>부산</td>\n",
       "      <td>10143</td>\n",
       "      <td>8071</td>\n",
       "      <td>7000</td>\n",
       "      <td>10786</td>\n",
       "      <td>15429</td>\n",
       "      <td>6000</td>\n",
       "      <td>15000</td>\n",
       "      <td>6571</td>\n",
       "      <td>2714</td>\n",
       "    </tr>\n",
       "    <tr>\n",
       "      <th>5</th>\n",
       "      <td>6</td>\n",
       "      <td>울산</td>\n",
       "      <td>8900</td>\n",
       "      <td>8600</td>\n",
       "      <td>7400</td>\n",
       "      <td>9600</td>\n",
       "      <td>16344</td>\n",
       "      <td>6300</td>\n",
       "      <td>14200</td>\n",
       "      <td>8100</td>\n",
       "      <td>2800</td>\n",
       "    </tr>\n",
       "    <tr>\n",
       "      <th>6</th>\n",
       "      <td>7</td>\n",
       "      <td>인천</td>\n",
       "      <td>9667</td>\n",
       "      <td>8150</td>\n",
       "      <td>7333</td>\n",
       "      <td>14650</td>\n",
       "      <td>16200</td>\n",
       "      <td>6000</td>\n",
       "      <td>14667</td>\n",
       "      <td>7917</td>\n",
       "      <td>2800</td>\n",
       "    </tr>\n",
       "    <tr>\n",
       "      <th>7</th>\n",
       "      <td>8</td>\n",
       "      <td>강원</td>\n",
       "      <td>8889</td>\n",
       "      <td>8944</td>\n",
       "      <td>7667</td>\n",
       "      <td>14667</td>\n",
       "      <td>14877</td>\n",
       "      <td>5889</td>\n",
       "      <td>14778</td>\n",
       "      <td>8333</td>\n",
       "      <td>2867</td>\n",
       "    </tr>\n",
       "    <tr>\n",
       "      <th>8</th>\n",
       "      <td>9</td>\n",
       "      <td>경기</td>\n",
       "      <td>9414</td>\n",
       "      <td>8241</td>\n",
       "      <td>7431</td>\n",
       "      <td>15034</td>\n",
       "      <td>16874</td>\n",
       "      <td>6241</td>\n",
       "      <td>15345</td>\n",
       "      <td>8103</td>\n",
       "      <td>2966</td>\n",
       "    </tr>\n",
       "    <tr>\n",
       "      <th>9</th>\n",
       "      <td>10</td>\n",
       "      <td>경남</td>\n",
       "      <td>9385</td>\n",
       "      <td>8077</td>\n",
       "      <td>7577</td>\n",
       "      <td>10677</td>\n",
       "      <td>16506</td>\n",
       "      <td>5615</td>\n",
       "      <td>15154</td>\n",
       "      <td>6885</td>\n",
       "      <td>3177</td>\n",
       "    </tr>\n",
       "    <tr>\n",
       "      <th>10</th>\n",
       "      <td>11</td>\n",
       "      <td>경북</td>\n",
       "      <td>9038</td>\n",
       "      <td>8338</td>\n",
       "      <td>7577</td>\n",
       "      <td>9769</td>\n",
       "      <td>15213</td>\n",
       "      <td>5846</td>\n",
       "      <td>14231</td>\n",
       "      <td>7192</td>\n",
       "      <td>2769</td>\n",
       "    </tr>\n",
       "    <tr>\n",
       "      <th>11</th>\n",
       "      <td>12</td>\n",
       "      <td>전남</td>\n",
       "      <td>8444</td>\n",
       "      <td>8333</td>\n",
       "      <td>7167</td>\n",
       "      <td>13778</td>\n",
       "      <td>16707</td>\n",
       "      <td>6611</td>\n",
       "      <td>15333</td>\n",
       "      <td>8000</td>\n",
       "      <td>2278</td>\n",
       "    </tr>\n",
       "    <tr>\n",
       "      <th>12</th>\n",
       "      <td>13</td>\n",
       "      <td>전북</td>\n",
       "      <td>8600</td>\n",
       "      <td>10250</td>\n",
       "      <td>7900</td>\n",
       "      <td>13750</td>\n",
       "      <td>15563</td>\n",
       "      <td>6100</td>\n",
       "      <td>15500</td>\n",
       "      <td>7950</td>\n",
       "      <td>2730</td>\n",
       "    </tr>\n",
       "    <tr>\n",
       "      <th>13</th>\n",
       "      <td>14</td>\n",
       "      <td>충남</td>\n",
       "      <td>8900</td>\n",
       "      <td>8750</td>\n",
       "      <td>7700</td>\n",
       "      <td>14700</td>\n",
       "      <td>15831</td>\n",
       "      <td>6100</td>\n",
       "      <td>14400</td>\n",
       "      <td>7700</td>\n",
       "      <td>2620</td>\n",
       "    </tr>\n",
       "    <tr>\n",
       "      <th>14</th>\n",
       "      <td>15</td>\n",
       "      <td>충북</td>\n",
       "      <td>8286</td>\n",
       "      <td>8400</td>\n",
       "      <td>7843</td>\n",
       "      <td>13857</td>\n",
       "      <td>13651</td>\n",
       "      <td>5571</td>\n",
       "      <td>13857</td>\n",
       "      <td>7286</td>\n",
       "      <td>2500</td>\n",
       "    </tr>\n",
       "    <tr>\n",
       "      <th>15</th>\n",
       "      <td>16</td>\n",
       "      <td>제주</td>\n",
       "      <td>9000</td>\n",
       "      <td>8750</td>\n",
       "      <td>8125</td>\n",
       "      <td>15750</td>\n",
       "      <td>16194</td>\n",
       "      <td>6625</td>\n",
       "      <td>13750</td>\n",
       "      <td>8625</td>\n",
       "      <td>2875</td>\n",
       "    </tr>\n",
       "  </tbody>\n",
       "</table>\n",
       "</div>"
      ],
      "text/plain": [
       "    번호  지역     냉면    비빔밥  김치찌개백반  삼겹살(환산전)  삼겹살(환산후)   자장면    삼계탕   칼국수    김밥\n",
       "0    1  서울  10423   9654    7423     15231     18056  6300  15385  8385  2969\n",
       "1    2  광주   9100   8700    7800     13600     14244  6100  15000  8000  2900\n",
       "2    3  대구  10167   8717    7167     10917     14932  6083  15000  6500  2500\n",
       "3    4  대전   9000   9700    7000     13800     17383  5800  14200  7400  2800\n",
       "4    5  부산  10143   8071    7000     10786     15429  6000  15000  6571  2714\n",
       "5    6  울산   8900   8600    7400      9600     16344  6300  14200  8100  2800\n",
       "6    7  인천   9667   8150    7333     14650     16200  6000  14667  7917  2800\n",
       "7    8  강원   8889   8944    7667     14667     14877  5889  14778  8333  2867\n",
       "8    9  경기   9414   8241    7431     15034     16874  6241  15345  8103  2966\n",
       "9   10  경남   9385   8077    7577     10677     16506  5615  15154  6885  3177\n",
       "10  11  경북   9038   8338    7577      9769     15213  5846  14231  7192  2769\n",
       "11  12  전남   8444   8333    7167     13778     16707  6611  15333  8000  2278\n",
       "12  13  전북   8600  10250    7900     13750     15563  6100  15500  7950  2730\n",
       "13  14  충남   8900   8750    7700     14700     15831  6100  14400  7700  2620\n",
       "14  15  충북   8286   8400    7843     13857     13651  5571  13857  7286  2500\n",
       "15  16  제주   9000   8750    8125     15750     16194  6625  13750  8625  2875"
      ]
     },
     "execution_count": 96,
     "metadata": {},
     "output_type": "execute_result"
    }
   ],
   "source": [
    "eating = pd.read_csv('./datas/외식비(22년 7월)(한국소비자원).csv' , encoding='cp949')\n",
    "eating"
   ]
  },
  {
   "cell_type": "code",
   "execution_count": 103,
   "metadata": {},
   "outputs": [],
   "source": [
    "# s = eating.loc[0]"
   ]
  },
  {
   "cell_type": "code",
   "execution_count": 106,
   "metadata": {},
   "outputs": [
    {
     "data": {
      "text/html": [
       "<div>\n",
       "<style scoped>\n",
       "    .dataframe tbody tr th:only-of-type {\n",
       "        vertical-align: middle;\n",
       "    }\n",
       "\n",
       "    .dataframe tbody tr th {\n",
       "        vertical-align: top;\n",
       "    }\n",
       "\n",
       "    .dataframe thead th {\n",
       "        text-align: right;\n",
       "    }\n",
       "</style>\n",
       "<table border=\"1\" class=\"dataframe\">\n",
       "  <thead>\n",
       "    <tr style=\"text-align: right;\">\n",
       "      <th></th>\n",
       "      <th>가격정보</th>\n",
       "    </tr>\n",
       "  </thead>\n",
       "  <tbody>\n",
       "    <tr>\n",
       "      <th>번호</th>\n",
       "      <td>1</td>\n",
       "    </tr>\n",
       "    <tr>\n",
       "      <th>지역</th>\n",
       "      <td>서울</td>\n",
       "    </tr>\n",
       "    <tr>\n",
       "      <th>냉면</th>\n",
       "      <td>10423</td>\n",
       "    </tr>\n",
       "    <tr>\n",
       "      <th>비빔밥</th>\n",
       "      <td>9654</td>\n",
       "    </tr>\n",
       "    <tr>\n",
       "      <th>김치찌개백반</th>\n",
       "      <td>7423</td>\n",
       "    </tr>\n",
       "    <tr>\n",
       "      <th>삼겹살(환산전)</th>\n",
       "      <td>15231</td>\n",
       "    </tr>\n",
       "    <tr>\n",
       "      <th>삼겹살(환산후)</th>\n",
       "      <td>18056</td>\n",
       "    </tr>\n",
       "    <tr>\n",
       "      <th>자장면</th>\n",
       "      <td>6300</td>\n",
       "    </tr>\n",
       "    <tr>\n",
       "      <th>삼계탕</th>\n",
       "      <td>15385</td>\n",
       "    </tr>\n",
       "    <tr>\n",
       "      <th>칼국수</th>\n",
       "      <td>8385</td>\n",
       "    </tr>\n",
       "    <tr>\n",
       "      <th>김밥</th>\n",
       "      <td>2969</td>\n",
       "    </tr>\n",
       "  </tbody>\n",
       "</table>\n",
       "</div>"
      ],
      "text/plain": [
       "           가격정보\n",
       "번호            1\n",
       "지역           서울\n",
       "냉면        10423\n",
       "비빔밥        9654\n",
       "김치찌개백반     7423\n",
       "삼겹살(환산전)  15231\n",
       "삼겹살(환산후)  18056\n",
       "자장면        6300\n",
       "삼계탕       15385\n",
       "칼국수        8385\n",
       "김밥         2969"
      ]
     },
     "execution_count": 106,
     "metadata": {},
     "output_type": "execute_result"
    }
   ],
   "source": [
    "# s.to_frame(name='가격정보')"
   ]
  },
  {
   "cell_type": "code",
   "execution_count": 107,
   "metadata": {},
   "outputs": [],
   "source": [
    "eating = eating.loc[[0]]"
   ]
  },
  {
   "cell_type": "code",
   "execution_count": 108,
   "metadata": {},
   "outputs": [
    {
     "data": {
      "text/html": [
       "<div>\n",
       "<style scoped>\n",
       "    .dataframe tbody tr th:only-of-type {\n",
       "        vertical-align: middle;\n",
       "    }\n",
       "\n",
       "    .dataframe tbody tr th {\n",
       "        vertical-align: top;\n",
       "    }\n",
       "\n",
       "    .dataframe thead th {\n",
       "        text-align: right;\n",
       "    }\n",
       "</style>\n",
       "<table border=\"1\" class=\"dataframe\">\n",
       "  <thead>\n",
       "    <tr style=\"text-align: right;\">\n",
       "      <th></th>\n",
       "      <th>번호</th>\n",
       "      <th>지역</th>\n",
       "      <th>냉면</th>\n",
       "      <th>비빔밥</th>\n",
       "      <th>김치찌개백반</th>\n",
       "      <th>삼겹살(환산전)</th>\n",
       "      <th>삼겹살(환산후)</th>\n",
       "      <th>자장면</th>\n",
       "      <th>삼계탕</th>\n",
       "      <th>칼국수</th>\n",
       "      <th>김밥</th>\n",
       "    </tr>\n",
       "  </thead>\n",
       "  <tbody>\n",
       "    <tr>\n",
       "      <th>0</th>\n",
       "      <td>1</td>\n",
       "      <td>서울</td>\n",
       "      <td>10423</td>\n",
       "      <td>9654</td>\n",
       "      <td>7423</td>\n",
       "      <td>15231</td>\n",
       "      <td>18056</td>\n",
       "      <td>6300</td>\n",
       "      <td>15385</td>\n",
       "      <td>8385</td>\n",
       "      <td>2969</td>\n",
       "    </tr>\n",
       "  </tbody>\n",
       "</table>\n",
       "</div>"
      ],
      "text/plain": [
       "   번호  지역     냉면   비빔밥  김치찌개백반  삼겹살(환산전)  삼겹살(환산후)   자장면    삼계탕   칼국수    김밥\n",
       "0   1  서울  10423  9654    7423     15231     18056  6300  15385  8385  2969"
      ]
     },
     "execution_count": 108,
     "metadata": {},
     "output_type": "execute_result"
    }
   ],
   "source": [
    "eating"
   ]
  },
  {
   "cell_type": "code",
   "execution_count": 124,
   "metadata": {},
   "outputs": [],
   "source": [
    "e = eating[['냉면','비빔밥','김치찌개백반','삼겹살(환산후)','자장면','삼계탕','칼국수','김밥']]"
   ]
  },
  {
   "cell_type": "code",
   "execution_count": 125,
   "metadata": {},
   "outputs": [
    {
     "name": "stderr",
     "output_type": "stream",
     "text": [
      "<ipython-input-125-d3dbc349a368>:1: SettingWithCopyWarning: \n",
      "A value is trying to be set on a copy of a slice from a DataFrame\n",
      "\n",
      "See the caveats in the documentation: https://pandas.pydata.org/pandas-docs/stable/user_guide/indexing.html#returning-a-view-versus-a-copy\n",
      "  e.rename(columns={'삼겹살(환산후)':'삼겹살'},inplace=True)\n"
     ]
    }
   ],
   "source": [
    "e.rename(columns={'삼겹살(환산후)':'삼겹살'},inplace=True)"
   ]
  },
  {
   "cell_type": "code",
   "execution_count": 126,
   "metadata": {},
   "outputs": [],
   "source": [
    "e = e.T"
   ]
  },
  {
   "cell_type": "markdown",
   "metadata": {},
   "source": [
    "- 착한가격음식점, 일반음식점, 외식비 비교 그래프 그리기"
   ]
  },
  {
   "cell_type": "code",
   "execution_count": 127,
   "metadata": {
    "collapsed": true
   },
   "outputs": [
    {
     "data": {
      "text/html": [
       "<div>\n",
       "<style scoped>\n",
       "    .dataframe tbody tr th:only-of-type {\n",
       "        vertical-align: middle;\n",
       "    }\n",
       "\n",
       "    .dataframe tbody tr th {\n",
       "        vertical-align: top;\n",
       "    }\n",
       "\n",
       "    .dataframe thead th {\n",
       "        text-align: right;\n",
       "    }\n",
       "</style>\n",
       "<table border=\"1\" class=\"dataframe\">\n",
       "  <thead>\n",
       "    <tr style=\"text-align: right;\">\n",
       "      <th></th>\n",
       "      <th>0</th>\n",
       "    </tr>\n",
       "  </thead>\n",
       "  <tbody>\n",
       "    <tr>\n",
       "      <th>냉면</th>\n",
       "      <td>10423</td>\n",
       "    </tr>\n",
       "    <tr>\n",
       "      <th>비빔밥</th>\n",
       "      <td>9654</td>\n",
       "    </tr>\n",
       "    <tr>\n",
       "      <th>김치찌개백반</th>\n",
       "      <td>7423</td>\n",
       "    </tr>\n",
       "    <tr>\n",
       "      <th>삼겹살</th>\n",
       "      <td>18056</td>\n",
       "    </tr>\n",
       "    <tr>\n",
       "      <th>자장면</th>\n",
       "      <td>6300</td>\n",
       "    </tr>\n",
       "    <tr>\n",
       "      <th>삼계탕</th>\n",
       "      <td>15385</td>\n",
       "    </tr>\n",
       "    <tr>\n",
       "      <th>칼국수</th>\n",
       "      <td>8385</td>\n",
       "    </tr>\n",
       "    <tr>\n",
       "      <th>김밥</th>\n",
       "      <td>2969</td>\n",
       "    </tr>\n",
       "  </tbody>\n",
       "</table>\n",
       "</div>"
      ],
      "text/plain": [
       "            0\n",
       "냉면      10423\n",
       "비빔밥      9654\n",
       "김치찌개백반   7423\n",
       "삼겹살     18056\n",
       "자장면      6300\n",
       "삼계탕     15385\n",
       "칼국수      8385\n",
       "김밥       2969"
      ]
     },
     "execution_count": 127,
     "metadata": {},
     "output_type": "execute_result"
    }
   ],
   "source": [
    "k_kind_pivot_table\n",
    "d_kind_pivot_table\n",
    "s_kind_pivot_table\n",
    "k_general_pivot_table\n",
    "d_general_pivot_table\n",
    "s_general_pivot_table\n",
    "e"
   ]
  },
  {
   "cell_type": "code",
   "execution_count": 154,
   "metadata": {},
   "outputs": [
    {
     "name": "stdout",
     "output_type": "stream",
     "text": [
      "7\n",
      "7\n",
      "8\n"
     ]
    }
   ],
   "source": [
    "print(len(k_kind_pivot_table))\n",
    "print(len(k_general_pivot_table))\n",
    "print(len(e))"
   ]
  },
  {
   "cell_type": "code",
   "execution_count": 155,
   "metadata": {},
   "outputs": [
    {
     "data": {
      "text/html": [
       "<div>\n",
       "<style scoped>\n",
       "    .dataframe tbody tr th:only-of-type {\n",
       "        vertical-align: middle;\n",
       "    }\n",
       "\n",
       "    .dataframe tbody tr th {\n",
       "        vertical-align: top;\n",
       "    }\n",
       "\n",
       "    .dataframe thead th {\n",
       "        text-align: right;\n",
       "    }\n",
       "</style>\n",
       "<table border=\"1\" class=\"dataframe\">\n",
       "  <thead>\n",
       "    <tr style=\"text-align: right;\">\n",
       "      <th></th>\n",
       "      <th>가격정보</th>\n",
       "    </tr>\n",
       "    <tr>\n",
       "      <th>메뉴라벨링</th>\n",
       "      <th></th>\n",
       "    </tr>\n",
       "  </thead>\n",
       "  <tbody>\n",
       "    <tr>\n",
       "      <th>김밥</th>\n",
       "      <td>2750.000000</td>\n",
       "    </tr>\n",
       "    <tr>\n",
       "      <th>김치찌개백반</th>\n",
       "      <td>6078.947368</td>\n",
       "    </tr>\n",
       "    <tr>\n",
       "      <th>냉면</th>\n",
       "      <td>7000.000000</td>\n",
       "    </tr>\n",
       "    <tr>\n",
       "      <th>비빔밥</th>\n",
       "      <td>6068.965517</td>\n",
       "    </tr>\n",
       "    <tr>\n",
       "      <th>삼겹살</th>\n",
       "      <td>11833.333333</td>\n",
       "    </tr>\n",
       "    <tr>\n",
       "      <th>자장면</th>\n",
       "      <td>4916.666667</td>\n",
       "    </tr>\n",
       "    <tr>\n",
       "      <th>칼국수</th>\n",
       "      <td>6192.307692</td>\n",
       "    </tr>\n",
       "  </tbody>\n",
       "</table>\n",
       "</div>"
      ],
      "text/plain": [
       "                가격정보\n",
       "메뉴라벨링               \n",
       "김밥       2750.000000\n",
       "김치찌개백반   6078.947368\n",
       "냉면       7000.000000\n",
       "비빔밥      6068.965517\n",
       "삼겹살     11833.333333\n",
       "자장면      4916.666667\n",
       "칼국수      6192.307692"
      ]
     },
     "execution_count": 155,
     "metadata": {},
     "output_type": "execute_result"
    }
   ],
   "source": [
    "k_kind_pivot_table"
   ]
  },
  {
   "cell_type": "code",
   "execution_count": 157,
   "metadata": {},
   "outputs": [
    {
     "data": {
      "text/html": [
       "<div>\n",
       "<style scoped>\n",
       "    .dataframe tbody tr th:only-of-type {\n",
       "        vertical-align: middle;\n",
       "    }\n",
       "\n",
       "    .dataframe tbody tr th {\n",
       "        vertical-align: top;\n",
       "    }\n",
       "\n",
       "    .dataframe thead th {\n",
       "        text-align: right;\n",
       "    }\n",
       "</style>\n",
       "<table border=\"1\" class=\"dataframe\">\n",
       "  <thead>\n",
       "    <tr style=\"text-align: right;\">\n",
       "      <th></th>\n",
       "      <th>가격정보</th>\n",
       "    </tr>\n",
       "    <tr>\n",
       "      <th>메뉴라벨링</th>\n",
       "      <th></th>\n",
       "    </tr>\n",
       "  </thead>\n",
       "  <tbody>\n",
       "    <tr>\n",
       "      <th>김밥</th>\n",
       "      <td>3280.000000</td>\n",
       "    </tr>\n",
       "    <tr>\n",
       "      <th>김치찌개</th>\n",
       "      <td>8045.454545</td>\n",
       "    </tr>\n",
       "    <tr>\n",
       "      <th>냉면</th>\n",
       "      <td>10772.727273</td>\n",
       "    </tr>\n",
       "    <tr>\n",
       "      <th>비빔밥</th>\n",
       "      <td>11100.000000</td>\n",
       "    </tr>\n",
       "    <tr>\n",
       "      <th>삼계탕</th>\n",
       "      <td>16045.454545</td>\n",
       "    </tr>\n",
       "    <tr>\n",
       "      <th>자장면</th>\n",
       "      <td>6545.454545</td>\n",
       "    </tr>\n",
       "    <tr>\n",
       "      <th>칼국수</th>\n",
       "      <td>9062.500000</td>\n",
       "    </tr>\n",
       "  </tbody>\n",
       "</table>\n",
       "</div>"
      ],
      "text/plain": [
       "               가격정보\n",
       "메뉴라벨링              \n",
       "김밥      3280.000000\n",
       "김치찌개    8045.454545\n",
       "냉면     10772.727273\n",
       "비빔밥    11100.000000\n",
       "삼계탕    16045.454545\n",
       "자장면     6545.454545\n",
       "칼국수     9062.500000"
      ]
     },
     "execution_count": 157,
     "metadata": {},
     "output_type": "execute_result"
    }
   ],
   "source": [
    "k_general_pivot_table"
   ]
  },
  {
   "cell_type": "code",
   "execution_count": 156,
   "metadata": {},
   "outputs": [
    {
     "data": {
      "text/html": [
       "<div>\n",
       "<style scoped>\n",
       "    .dataframe tbody tr th:only-of-type {\n",
       "        vertical-align: middle;\n",
       "    }\n",
       "\n",
       "    .dataframe tbody tr th {\n",
       "        vertical-align: top;\n",
       "    }\n",
       "\n",
       "    .dataframe thead th {\n",
       "        text-align: right;\n",
       "    }\n",
       "</style>\n",
       "<table border=\"1\" class=\"dataframe\">\n",
       "  <thead>\n",
       "    <tr style=\"text-align: right;\">\n",
       "      <th></th>\n",
       "      <th>가격정보</th>\n",
       "    </tr>\n",
       "  </thead>\n",
       "  <tbody>\n",
       "    <tr>\n",
       "      <th>김밥</th>\n",
       "      <td>2969</td>\n",
       "    </tr>\n",
       "    <tr>\n",
       "      <th>김치찌개백반</th>\n",
       "      <td>7423</td>\n",
       "    </tr>\n",
       "    <tr>\n",
       "      <th>냉면</th>\n",
       "      <td>10423</td>\n",
       "    </tr>\n",
       "    <tr>\n",
       "      <th>비빔밥</th>\n",
       "      <td>9654</td>\n",
       "    </tr>\n",
       "    <tr>\n",
       "      <th>삼겹살</th>\n",
       "      <td>18056</td>\n",
       "    </tr>\n",
       "    <tr>\n",
       "      <th>삼계탕</th>\n",
       "      <td>15385</td>\n",
       "    </tr>\n",
       "    <tr>\n",
       "      <th>자장면</th>\n",
       "      <td>6300</td>\n",
       "    </tr>\n",
       "    <tr>\n",
       "      <th>칼국수</th>\n",
       "      <td>8385</td>\n",
       "    </tr>\n",
       "  </tbody>\n",
       "</table>\n",
       "</div>"
      ],
      "text/plain": [
       "         가격정보\n",
       "김밥       2969\n",
       "김치찌개백반   7423\n",
       "냉면      10423\n",
       "비빔밥      9654\n",
       "삼겹살     18056\n",
       "삼계탕     15385\n",
       "자장면      6300\n",
       "칼국수      8385"
      ]
     },
     "execution_count": 156,
     "metadata": {},
     "output_type": "execute_result"
    }
   ],
   "source": [
    "e"
   ]
  },
  {
   "cell_type": "code",
   "execution_count": 128,
   "metadata": {
    "collapsed": true
   },
   "outputs": [
    {
     "data": {
      "text/html": [
       "<div>\n",
       "<style scoped>\n",
       "    .dataframe tbody tr th:only-of-type {\n",
       "        vertical-align: middle;\n",
       "    }\n",
       "\n",
       "    .dataframe tbody tr th {\n",
       "        vertical-align: top;\n",
       "    }\n",
       "\n",
       "    .dataframe thead th {\n",
       "        text-align: right;\n",
       "    }\n",
       "</style>\n",
       "<table border=\"1\" class=\"dataframe\">\n",
       "  <thead>\n",
       "    <tr style=\"text-align: right;\">\n",
       "      <th></th>\n",
       "      <th>0</th>\n",
       "    </tr>\n",
       "  </thead>\n",
       "  <tbody>\n",
       "    <tr>\n",
       "      <th>김밥</th>\n",
       "      <td>2969</td>\n",
       "    </tr>\n",
       "    <tr>\n",
       "      <th>김치찌개백반</th>\n",
       "      <td>7423</td>\n",
       "    </tr>\n",
       "    <tr>\n",
       "      <th>냉면</th>\n",
       "      <td>10423</td>\n",
       "    </tr>\n",
       "    <tr>\n",
       "      <th>비빔밥</th>\n",
       "      <td>9654</td>\n",
       "    </tr>\n",
       "    <tr>\n",
       "      <th>삼겹살</th>\n",
       "      <td>18056</td>\n",
       "    </tr>\n",
       "    <tr>\n",
       "      <th>삼계탕</th>\n",
       "      <td>15385</td>\n",
       "    </tr>\n",
       "    <tr>\n",
       "      <th>자장면</th>\n",
       "      <td>6300</td>\n",
       "    </tr>\n",
       "    <tr>\n",
       "      <th>칼국수</th>\n",
       "      <td>8385</td>\n",
       "    </tr>\n",
       "  </tbody>\n",
       "</table>\n",
       "</div>"
      ],
      "text/plain": [
       "            0\n",
       "김밥       2969\n",
       "김치찌개백반   7423\n",
       "냉면      10423\n",
       "비빔밥      9654\n",
       "삼겹살     18056\n",
       "삼계탕     15385\n",
       "자장면      6300\n",
       "칼국수      8385"
      ]
     },
     "execution_count": 128,
     "metadata": {},
     "output_type": "execute_result"
    }
   ],
   "source": [
    "e = e.sort_index()\n",
    "e"
   ]
  },
  {
   "cell_type": "code",
   "execution_count": 94,
   "metadata": {
    "collapsed": true
   },
   "outputs": [
    {
     "data": {
      "text/html": [
       "<div>\n",
       "<style scoped>\n",
       "    .dataframe tbody tr th:only-of-type {\n",
       "        vertical-align: middle;\n",
       "    }\n",
       "\n",
       "    .dataframe tbody tr th {\n",
       "        vertical-align: top;\n",
       "    }\n",
       "\n",
       "    .dataframe thead th {\n",
       "        text-align: right;\n",
       "    }\n",
       "</style>\n",
       "<table border=\"1\" class=\"dataframe\">\n",
       "  <thead>\n",
       "    <tr style=\"text-align: right;\">\n",
       "      <th></th>\n",
       "      <th>가격정보</th>\n",
       "    </tr>\n",
       "    <tr>\n",
       "      <th>메뉴라벨링</th>\n",
       "      <th></th>\n",
       "    </tr>\n",
       "  </thead>\n",
       "  <tbody>\n",
       "    <tr>\n",
       "      <th>김밥</th>\n",
       "      <td>2750.000000</td>\n",
       "    </tr>\n",
       "    <tr>\n",
       "      <th>김치찌개백반</th>\n",
       "      <td>6078.947368</td>\n",
       "    </tr>\n",
       "    <tr>\n",
       "      <th>냉면</th>\n",
       "      <td>7000.000000</td>\n",
       "    </tr>\n",
       "    <tr>\n",
       "      <th>비빔밥</th>\n",
       "      <td>6068.965517</td>\n",
       "    </tr>\n",
       "    <tr>\n",
       "      <th>삼겹살</th>\n",
       "      <td>11833.333333</td>\n",
       "    </tr>\n",
       "    <tr>\n",
       "      <th>자장면</th>\n",
       "      <td>4916.666667</td>\n",
       "    </tr>\n",
       "    <tr>\n",
       "      <th>칼국수</th>\n",
       "      <td>6192.307692</td>\n",
       "    </tr>\n",
       "  </tbody>\n",
       "</table>\n",
       "</div>"
      ],
      "text/plain": [
       "                가격정보\n",
       "메뉴라벨링               \n",
       "김밥       2750.000000\n",
       "김치찌개백반   6078.947368\n",
       "냉면       7000.000000\n",
       "비빔밥      6068.965517\n",
       "삼겹살     11833.333333\n",
       "자장면      4916.666667\n",
       "칼국수      6192.307692"
      ]
     },
     "execution_count": 94,
     "metadata": {},
     "output_type": "execute_result"
    }
   ],
   "source": [
    "k_kind_pivot_table.sort_index()"
   ]
  },
  {
   "cell_type": "code",
   "execution_count": 123,
   "metadata": {
    "collapsed": true
   },
   "outputs": [
    {
     "data": {
      "text/html": [
       "<div>\n",
       "<style scoped>\n",
       "    .dataframe tbody tr th:only-of-type {\n",
       "        vertical-align: middle;\n",
       "    }\n",
       "\n",
       "    .dataframe tbody tr th {\n",
       "        vertical-align: top;\n",
       "    }\n",
       "\n",
       "    .dataframe thead th {\n",
       "        text-align: right;\n",
       "    }\n",
       "</style>\n",
       "<table border=\"1\" class=\"dataframe\">\n",
       "  <thead>\n",
       "    <tr style=\"text-align: right;\">\n",
       "      <th></th>\n",
       "      <th>가격정보</th>\n",
       "    </tr>\n",
       "    <tr>\n",
       "      <th>메뉴라벨링</th>\n",
       "      <th></th>\n",
       "    </tr>\n",
       "  </thead>\n",
       "  <tbody>\n",
       "    <tr>\n",
       "      <th>김밥</th>\n",
       "      <td>1000.0</td>\n",
       "    </tr>\n",
       "    <tr>\n",
       "      <th>김치찌개백반</th>\n",
       "      <td>4800.0</td>\n",
       "    </tr>\n",
       "    <tr>\n",
       "      <th>냉면</th>\n",
       "      <td>4500.0</td>\n",
       "    </tr>\n",
       "    <tr>\n",
       "      <th>비빔밥</th>\n",
       "      <td>4250.0</td>\n",
       "    </tr>\n",
       "    <tr>\n",
       "      <th>삼겹살</th>\n",
       "      <td>8150.0</td>\n",
       "    </tr>\n",
       "    <tr>\n",
       "      <th>자장면</th>\n",
       "      <td>3000.0</td>\n",
       "    </tr>\n",
       "    <tr>\n",
       "      <th>칼국수</th>\n",
       "      <td>4250.0</td>\n",
       "    </tr>\n",
       "  </tbody>\n",
       "</table>\n",
       "</div>"
      ],
      "text/plain": [
       "          가격정보\n",
       "메뉴라벨링         \n",
       "김밥      1000.0\n",
       "김치찌개백반  4800.0\n",
       "냉면      4500.0\n",
       "비빔밥     4250.0\n",
       "삼겹살     8150.0\n",
       "자장면     3000.0\n",
       "칼국수     4250.0"
      ]
     },
     "execution_count": 123,
     "metadata": {},
     "output_type": "execute_result"
    }
   ],
   "source": [
    "s_kind_pivot_table"
   ]
  },
  {
   "cell_type": "code",
   "execution_count": 130,
   "metadata": {},
   "outputs": [
    {
     "data": {
      "text/plain": [
       "Int64Index([0], dtype='int64')"
      ]
     },
     "execution_count": 130,
     "metadata": {},
     "output_type": "execute_result"
    }
   ],
   "source": [
    "e.columns"
   ]
  },
  {
   "cell_type": "code",
   "execution_count": 133,
   "metadata": {},
   "outputs": [],
   "source": [
    "e.rename(columns={0:'가격정보'},inplace=True)"
   ]
  },
  {
   "cell_type": "code",
   "execution_count": 134,
   "metadata": {},
   "outputs": [
    {
     "data": {
      "text/plain": [
       "Index(['가격정보'], dtype='object')"
      ]
     },
     "execution_count": 134,
     "metadata": {},
     "output_type": "execute_result"
    }
   ],
   "source": [
    "e.columns"
   ]
  },
  {
   "cell_type": "code",
   "execution_count": 147,
   "metadata": {
    "scrolled": true
   },
   "outputs": [
    {
     "data": {
      "text/plain": [
       "2750.0"
      ]
     },
     "execution_count": 147,
     "metadata": {},
     "output_type": "execute_result"
    }
   ],
   "source": [
    "k_kind_pivot_table.to_numpy()[0][0]"
   ]
  },
  {
   "cell_type": "code",
   "execution_count": 151,
   "metadata": {},
   "outputs": [
    {
     "data": {
      "text/plain": [
       "2750.0"
      ]
     },
     "execution_count": 151,
     "metadata": {},
     "output_type": "execute_result"
    }
   ],
   "source": [
    "k_kind_pivot_table['가격정보'].values"
   ]
  },
  {
   "cell_type": "code",
   "execution_count": 153,
   "metadata": {},
   "outputs": [
    {
     "ename": "ValueError",
     "evalue": "All arrays must be of the same length",
     "output_type": "error",
     "traceback": [
      "\u001b[1;31m---------------------------------------------------------------------------\u001b[0m",
      "\u001b[1;31mValueError\u001b[0m                                Traceback (most recent call last)",
      "\u001b[1;32m<ipython-input-153-b0bfdc720294>\u001b[0m in \u001b[0;36m<module>\u001b[1;34m\u001b[0m\n\u001b[1;32m----> 1\u001b[1;33m k_compare = pd.DataFrame({\n\u001b[0m\u001b[0;32m      2\u001b[0m     \u001b[1;34m'착한가격업소'\u001b[0m\u001b[1;33m:\u001b[0m \u001b[0mk_kind_pivot_table\u001b[0m\u001b[1;33m[\u001b[0m\u001b[1;34m'가격정보'\u001b[0m\u001b[1;33m]\u001b[0m\u001b[1;33m.\u001b[0m\u001b[0mvalues\u001b[0m\u001b[1;33m,\u001b[0m\u001b[1;33m\u001b[0m\u001b[1;33m\u001b[0m\u001b[0m\n\u001b[0;32m      3\u001b[0m     \u001b[1;34m'일방음식점'\u001b[0m \u001b[1;33m:\u001b[0m \u001b[0mk_general_pivot_table\u001b[0m\u001b[1;33m[\u001b[0m\u001b[1;34m'가격정보'\u001b[0m\u001b[1;33m]\u001b[0m\u001b[1;33m.\u001b[0m\u001b[0mvalues\u001b[0m\u001b[1;33m,\u001b[0m\u001b[1;33m\u001b[0m\u001b[1;33m\u001b[0m\u001b[0m\n\u001b[0;32m      4\u001b[0m     \u001b[1;34m'외식비'\u001b[0m\u001b[1;33m:\u001b[0m\u001b[0me\u001b[0m\u001b[1;33m[\u001b[0m\u001b[1;34m'가격정보'\u001b[0m\u001b[1;33m]\u001b[0m\u001b[1;33m.\u001b[0m\u001b[0mvalues\u001b[0m\u001b[1;33m\u001b[0m\u001b[1;33m\u001b[0m\u001b[0m\n\u001b[0;32m      5\u001b[0m })\n",
      "\u001b[1;32m~\\AppData\\Roaming\\Python\\Python38\\site-packages\\pandas\\core\\frame.py\u001b[0m in \u001b[0;36m__init__\u001b[1;34m(self, data, index, columns, dtype, copy)\u001b[0m\n\u001b[0;32m    634\u001b[0m         \u001b[1;32melif\u001b[0m \u001b[0misinstance\u001b[0m\u001b[1;33m(\u001b[0m\u001b[0mdata\u001b[0m\u001b[1;33m,\u001b[0m \u001b[0mdict\u001b[0m\u001b[1;33m)\u001b[0m\u001b[1;33m:\u001b[0m\u001b[1;33m\u001b[0m\u001b[1;33m\u001b[0m\u001b[0m\n\u001b[0;32m    635\u001b[0m             \u001b[1;31m# GH#38939 de facto copy defaults to False only in non-dict cases\u001b[0m\u001b[1;33m\u001b[0m\u001b[1;33m\u001b[0m\u001b[1;33m\u001b[0m\u001b[0m\n\u001b[1;32m--> 636\u001b[1;33m             \u001b[0mmgr\u001b[0m \u001b[1;33m=\u001b[0m \u001b[0mdict_to_mgr\u001b[0m\u001b[1;33m(\u001b[0m\u001b[0mdata\u001b[0m\u001b[1;33m,\u001b[0m \u001b[0mindex\u001b[0m\u001b[1;33m,\u001b[0m \u001b[0mcolumns\u001b[0m\u001b[1;33m,\u001b[0m \u001b[0mdtype\u001b[0m\u001b[1;33m=\u001b[0m\u001b[0mdtype\u001b[0m\u001b[1;33m,\u001b[0m \u001b[0mcopy\u001b[0m\u001b[1;33m=\u001b[0m\u001b[0mcopy\u001b[0m\u001b[1;33m,\u001b[0m \u001b[0mtyp\u001b[0m\u001b[1;33m=\u001b[0m\u001b[0mmanager\u001b[0m\u001b[1;33m)\u001b[0m\u001b[1;33m\u001b[0m\u001b[1;33m\u001b[0m\u001b[0m\n\u001b[0m\u001b[0;32m    637\u001b[0m         \u001b[1;32melif\u001b[0m \u001b[0misinstance\u001b[0m\u001b[1;33m(\u001b[0m\u001b[0mdata\u001b[0m\u001b[1;33m,\u001b[0m \u001b[0mma\u001b[0m\u001b[1;33m.\u001b[0m\u001b[0mMaskedArray\u001b[0m\u001b[1;33m)\u001b[0m\u001b[1;33m:\u001b[0m\u001b[1;33m\u001b[0m\u001b[1;33m\u001b[0m\u001b[0m\n\u001b[0;32m    638\u001b[0m             \u001b[1;32mimport\u001b[0m \u001b[0mnumpy\u001b[0m\u001b[1;33m.\u001b[0m\u001b[0mma\u001b[0m\u001b[1;33m.\u001b[0m\u001b[0mmrecords\u001b[0m \u001b[1;32mas\u001b[0m \u001b[0mmrecords\u001b[0m\u001b[1;33m\u001b[0m\u001b[1;33m\u001b[0m\u001b[0m\n",
      "\u001b[1;32m~\\AppData\\Roaming\\Python\\Python38\\site-packages\\pandas\\core\\internals\\construction.py\u001b[0m in \u001b[0;36mdict_to_mgr\u001b[1;34m(data, index, columns, dtype, typ, copy)\u001b[0m\n\u001b[0;32m    500\u001b[0m         \u001b[1;31m# TODO: can we get rid of the dt64tz special case above?\u001b[0m\u001b[1;33m\u001b[0m\u001b[1;33m\u001b[0m\u001b[1;33m\u001b[0m\u001b[0m\n\u001b[0;32m    501\u001b[0m \u001b[1;33m\u001b[0m\u001b[0m\n\u001b[1;32m--> 502\u001b[1;33m     \u001b[1;32mreturn\u001b[0m \u001b[0marrays_to_mgr\u001b[0m\u001b[1;33m(\u001b[0m\u001b[0marrays\u001b[0m\u001b[1;33m,\u001b[0m \u001b[0mcolumns\u001b[0m\u001b[1;33m,\u001b[0m \u001b[0mindex\u001b[0m\u001b[1;33m,\u001b[0m \u001b[0mdtype\u001b[0m\u001b[1;33m=\u001b[0m\u001b[0mdtype\u001b[0m\u001b[1;33m,\u001b[0m \u001b[0mtyp\u001b[0m\u001b[1;33m=\u001b[0m\u001b[0mtyp\u001b[0m\u001b[1;33m,\u001b[0m \u001b[0mconsolidate\u001b[0m\u001b[1;33m=\u001b[0m\u001b[0mcopy\u001b[0m\u001b[1;33m)\u001b[0m\u001b[1;33m\u001b[0m\u001b[1;33m\u001b[0m\u001b[0m\n\u001b[0m\u001b[0;32m    503\u001b[0m \u001b[1;33m\u001b[0m\u001b[0m\n\u001b[0;32m    504\u001b[0m \u001b[1;33m\u001b[0m\u001b[0m\n",
      "\u001b[1;32m~\\AppData\\Roaming\\Python\\Python38\\site-packages\\pandas\\core\\internals\\construction.py\u001b[0m in \u001b[0;36marrays_to_mgr\u001b[1;34m(arrays, columns, index, dtype, verify_integrity, typ, consolidate)\u001b[0m\n\u001b[0;32m    118\u001b[0m         \u001b[1;31m# figure out the index, if necessary\u001b[0m\u001b[1;33m\u001b[0m\u001b[1;33m\u001b[0m\u001b[1;33m\u001b[0m\u001b[0m\n\u001b[0;32m    119\u001b[0m         \u001b[1;32mif\u001b[0m \u001b[0mindex\u001b[0m \u001b[1;32mis\u001b[0m \u001b[1;32mNone\u001b[0m\u001b[1;33m:\u001b[0m\u001b[1;33m\u001b[0m\u001b[1;33m\u001b[0m\u001b[0m\n\u001b[1;32m--> 120\u001b[1;33m             \u001b[0mindex\u001b[0m \u001b[1;33m=\u001b[0m \u001b[0m_extract_index\u001b[0m\u001b[1;33m(\u001b[0m\u001b[0marrays\u001b[0m\u001b[1;33m)\u001b[0m\u001b[1;33m\u001b[0m\u001b[1;33m\u001b[0m\u001b[0m\n\u001b[0m\u001b[0;32m    121\u001b[0m         \u001b[1;32melse\u001b[0m\u001b[1;33m:\u001b[0m\u001b[1;33m\u001b[0m\u001b[1;33m\u001b[0m\u001b[0m\n\u001b[0;32m    122\u001b[0m             \u001b[0mindex\u001b[0m \u001b[1;33m=\u001b[0m \u001b[0mensure_index\u001b[0m\u001b[1;33m(\u001b[0m\u001b[0mindex\u001b[0m\u001b[1;33m)\u001b[0m\u001b[1;33m\u001b[0m\u001b[1;33m\u001b[0m\u001b[0m\n",
      "\u001b[1;32m~\\AppData\\Roaming\\Python\\Python38\\site-packages\\pandas\\core\\internals\\construction.py\u001b[0m in \u001b[0;36m_extract_index\u001b[1;34m(data)\u001b[0m\n\u001b[0;32m    672\u001b[0m             \u001b[0mlengths\u001b[0m \u001b[1;33m=\u001b[0m \u001b[0mlist\u001b[0m\u001b[1;33m(\u001b[0m\u001b[0mset\u001b[0m\u001b[1;33m(\u001b[0m\u001b[0mraw_lengths\u001b[0m\u001b[1;33m)\u001b[0m\u001b[1;33m)\u001b[0m\u001b[1;33m\u001b[0m\u001b[1;33m\u001b[0m\u001b[0m\n\u001b[0;32m    673\u001b[0m             \u001b[1;32mif\u001b[0m \u001b[0mlen\u001b[0m\u001b[1;33m(\u001b[0m\u001b[0mlengths\u001b[0m\u001b[1;33m)\u001b[0m \u001b[1;33m>\u001b[0m \u001b[1;36m1\u001b[0m\u001b[1;33m:\u001b[0m\u001b[1;33m\u001b[0m\u001b[1;33m\u001b[0m\u001b[0m\n\u001b[1;32m--> 674\u001b[1;33m                 \u001b[1;32mraise\u001b[0m \u001b[0mValueError\u001b[0m\u001b[1;33m(\u001b[0m\u001b[1;34m\"All arrays must be of the same length\"\u001b[0m\u001b[1;33m)\u001b[0m\u001b[1;33m\u001b[0m\u001b[1;33m\u001b[0m\u001b[0m\n\u001b[0m\u001b[0;32m    675\u001b[0m \u001b[1;33m\u001b[0m\u001b[0m\n\u001b[0;32m    676\u001b[0m             \u001b[1;32mif\u001b[0m \u001b[0mhave_dicts\u001b[0m\u001b[1;33m:\u001b[0m\u001b[1;33m\u001b[0m\u001b[1;33m\u001b[0m\u001b[0m\n",
      "\u001b[1;31mValueError\u001b[0m: All arrays must be of the same length"
     ]
    }
   ],
   "source": [
    "k_compare = pd.DataFrame({\n",
    "    '착한가격업소': k_kind_pivot_table['가격정보'].values,\n",
    "    '일방음식점' : k_general_pivot_table['가격정보'].values,\n",
    "    '외식비':e['가격정보'].values\n",
    "},columns=e.index)\n",
    "k_compare"
   ]
  },
  {
   "cell_type": "code",
   "execution_count": 143,
   "metadata": {},
   "outputs": [
    {
     "data": {
      "text/html": [
       "<div>\n",
       "<style scoped>\n",
       "    .dataframe tbody tr th:only-of-type {\n",
       "        vertical-align: middle;\n",
       "    }\n",
       "\n",
       "    .dataframe tbody tr th {\n",
       "        vertical-align: top;\n",
       "    }\n",
       "\n",
       "    .dataframe thead th {\n",
       "        text-align: right;\n",
       "    }\n",
       "</style>\n",
       "<table border=\"1\" class=\"dataframe\">\n",
       "  <thead>\n",
       "    <tr style=\"text-align: right;\">\n",
       "      <th></th>\n",
       "      <th>김밥</th>\n",
       "      <th>김치찌개백반</th>\n",
       "      <th>냉면</th>\n",
       "      <th>비빔밥</th>\n",
       "      <th>삼겹살</th>\n",
       "      <th>삼계탕</th>\n",
       "      <th>자장면</th>\n",
       "      <th>칼국수</th>\n",
       "    </tr>\n",
       "  </thead>\n",
       "  <tbody>\n",
       "  </tbody>\n",
       "</table>\n",
       "</div>"
      ],
      "text/plain": [
       "Empty DataFrame\n",
       "Columns: [김밥, 김치찌개백반, 냉면, 비빔밥, 삼겹살, 삼계탕, 자장면, 칼국수]\n",
       "Index: []"
      ]
     },
     "execution_count": 143,
     "metadata": {},
     "output_type": "execute_result"
    }
   ],
   "source": [
    "k_compare"
   ]
  },
  {
   "cell_type": "code",
   "execution_count": null,
   "metadata": {},
   "outputs": [],
   "source": [
    "x=[0,1,2,3,4,5,6,7] #xticks 시 위치 표시에 사용할 변수\n",
    "\n",
    "#df로 막대그래프 그리기 첫번째 방법\n",
    "df1.plot(kind='bar',grid=True,figsize=(10,10))\n",
    "plt.xticks(x,df1.이름,rotation='horizontal')"
   ]
  }
 ],
 "metadata": {
  "kernelspec": {
   "display_name": "Python 3",
   "language": "python",
   "name": "python3"
  },
  "language_info": {
   "codemirror_mode": {
    "name": "ipython",
    "version": 3
   },
   "file_extension": ".py",
   "mimetype": "text/x-python",
   "name": "python",
   "nbconvert_exporter": "python",
   "pygments_lexer": "ipython3",
   "version": "3.8.3"
  }
 },
 "nbformat": 4,
 "nbformat_minor": 4
}
