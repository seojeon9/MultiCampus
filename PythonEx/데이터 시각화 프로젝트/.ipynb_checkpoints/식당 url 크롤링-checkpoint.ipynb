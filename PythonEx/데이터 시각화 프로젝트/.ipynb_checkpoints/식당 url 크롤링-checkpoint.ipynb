{
 "cells": [
  {
   "cell_type": "code",
   "execution_count": 1,
   "metadata": {},
   "outputs": [],
   "source": [
    "# 패키지 임포트\n",
    "import selenium\n",
    "from selenium import webdriver\n",
    "import pandas as pd\n",
    "import numpy as np\n",
    "from bs4 import BeautifulSoup\n",
    "from selenium.webdriver.common.by import By\n",
    "import time\n",
    "from tqdm import tqdm_notebook"
   ]
  },
  {
   "cell_type": "code",
   "execution_count": 2,
   "metadata": {
    "scrolled": true
   },
   "outputs": [
    {
     "data": {
      "text/html": [
       "<div>\n",
       "<style scoped>\n",
       "    .dataframe tbody tr th:only-of-type {\n",
       "        vertical-align: middle;\n",
       "    }\n",
       "\n",
       "    .dataframe tbody tr th {\n",
       "        vertical-align: top;\n",
       "    }\n",
       "\n",
       "    .dataframe thead th {\n",
       "        text-align: right;\n",
       "    }\n",
       "</style>\n",
       "<table border=\"1\" class=\"dataframe\">\n",
       "  <thead>\n",
       "    <tr style=\"text-align: right;\">\n",
       "      <th></th>\n",
       "      <th>Unnamed: 0</th>\n",
       "      <th>업소아이디</th>\n",
       "      <th>업소명</th>\n",
       "      <th>분류코드</th>\n",
       "      <th>업소 주소</th>\n",
       "      <th>업소 전화번호</th>\n",
       "      <th>추천수</th>\n",
       "      <th>검색명</th>\n",
       "    </tr>\n",
       "  </thead>\n",
       "  <tbody>\n",
       "    <tr>\n",
       "      <th>0</th>\n",
       "      <td>0</td>\n",
       "      <td>9633</td>\n",
       "      <td>우이목장</td>\n",
       "      <td>1</td>\n",
       "      <td>서울특별시 서울 도봉구 우이천로 298(쌍문동)</td>\n",
       "      <td>02-904-3070</td>\n",
       "      <td>0</td>\n",
       "      <td>서울특별시 서울 우이목장</td>\n",
       "    </tr>\n",
       "    <tr>\n",
       "      <th>1</th>\n",
       "      <td>1</td>\n",
       "      <td>9632</td>\n",
       "      <td>착한부대찌개</td>\n",
       "      <td>1</td>\n",
       "      <td>서울특별시 서울 도봉구 도봉로109길 46 2층(쌍문동)</td>\n",
       "      <td>02-902-0191</td>\n",
       "      <td>0</td>\n",
       "      <td>서울특별시 서울 착한부대찌개</td>\n",
       "    </tr>\n",
       "    <tr>\n",
       "      <th>2</th>\n",
       "      <td>2</td>\n",
       "      <td>9631</td>\n",
       "      <td>홍방원</td>\n",
       "      <td>2</td>\n",
       "      <td>서울특별시 서울 도봉구 도봉로169나길 47(도봉동)</td>\n",
       "      <td>02-954-0719</td>\n",
       "      <td>0</td>\n",
       "      <td>서울특별시 서울 홍방원</td>\n",
       "    </tr>\n",
       "    <tr>\n",
       "      <th>3</th>\n",
       "      <td>3</td>\n",
       "      <td>9628</td>\n",
       "      <td>오늘우리집비어</td>\n",
       "      <td>1</td>\n",
       "      <td>서울특별시 서울 중랑구 용마산로115길 109 지1층</td>\n",
       "      <td>0507-1469-0613</td>\n",
       "      <td>0</td>\n",
       "      <td>서울특별시 서울 오늘우리집비어</td>\n",
       "    </tr>\n",
       "    <tr>\n",
       "      <th>4</th>\n",
       "      <td>4</td>\n",
       "      <td>9626</td>\n",
       "      <td>은평닭곰탕</td>\n",
       "      <td>1</td>\n",
       "      <td>서울특별시 은평구 연서로3길 5(역촌동)</td>\n",
       "      <td>NaN</td>\n",
       "      <td>0</td>\n",
       "      <td>서울특별시 은평구 은평닭곰탕</td>\n",
       "    </tr>\n",
       "    <tr>\n",
       "      <th>...</th>\n",
       "      <td>...</td>\n",
       "      <td>...</td>\n",
       "      <td>...</td>\n",
       "      <td>...</td>\n",
       "      <td>...</td>\n",
       "      <td>...</td>\n",
       "      <td>...</td>\n",
       "      <td>...</td>\n",
       "    </tr>\n",
       "    <tr>\n",
       "      <th>729</th>\n",
       "      <td>729</td>\n",
       "      <td>1145</td>\n",
       "      <td>원조막국수</td>\n",
       "      <td>1</td>\n",
       "      <td>서울특별시 강북구 노해로33길 49 (수유동)</td>\n",
       "      <td>991-5215</td>\n",
       "      <td>8</td>\n",
       "      <td>서울특별시 강북구 원조막국수</td>\n",
       "    </tr>\n",
       "    <tr>\n",
       "      <th>730</th>\n",
       "      <td>730</td>\n",
       "      <td>1113</td>\n",
       "      <td>해주냉면</td>\n",
       "      <td>1</td>\n",
       "      <td>서울특별시 송파구 올림픽로12길 5-22 (잠실동)</td>\n",
       "      <td>424-7192</td>\n",
       "      <td>60</td>\n",
       "      <td>서울특별시 송파구 해주냉면</td>\n",
       "    </tr>\n",
       "    <tr>\n",
       "      <th>731</th>\n",
       "      <td>731</td>\n",
       "      <td>879</td>\n",
       "      <td>감베로니</td>\n",
       "      <td>3</td>\n",
       "      <td>서울특별시 용산구 한강대로81길 5 (갈월동)</td>\n",
       "      <td>3273-1791</td>\n",
       "      <td>7</td>\n",
       "      <td>서울특별시 용산구 감베로니</td>\n",
       "    </tr>\n",
       "    <tr>\n",
       "      <th>732</th>\n",
       "      <td>732</td>\n",
       "      <td>736</td>\n",
       "      <td>장수설렁탕</td>\n",
       "      <td>1</td>\n",
       "      <td>서울특별시 송파구 백제고분로 148 (잠실동)</td>\n",
       "      <td>415-1472</td>\n",
       "      <td>56</td>\n",
       "      <td>서울특별시 송파구 장수설렁탕</td>\n",
       "    </tr>\n",
       "    <tr>\n",
       "      <th>733</th>\n",
       "      <td>733</td>\n",
       "      <td>443</td>\n",
       "      <td>무진장</td>\n",
       "      <td>3</td>\n",
       "      <td>서울특별시 용산구 원효로 212 (원효로2가)</td>\n",
       "      <td>712-8814</td>\n",
       "      <td>6</td>\n",
       "      <td>서울특별시 용산구 무진장</td>\n",
       "    </tr>\n",
       "  </tbody>\n",
       "</table>\n",
       "<p>734 rows × 8 columns</p>\n",
       "</div>"
      ],
      "text/plain": [
       "     Unnamed: 0  업소아이디      업소명  분류코드                            업소 주소  \\\n",
       "0             0   9633     우이목장     1       서울특별시 서울 도봉구 우이천로 298(쌍문동)   \n",
       "1             1   9632   착한부대찌개     1  서울특별시 서울 도봉구 도봉로109길 46 2층(쌍문동)   \n",
       "2             2   9631      홍방원     2    서울특별시 서울 도봉구 도봉로169나길 47(도봉동)   \n",
       "3             3   9628  오늘우리집비어     1    서울특별시 서울 중랑구 용마산로115길 109 지1층   \n",
       "4             4   9626    은평닭곰탕     1           서울특별시 은평구 연서로3길 5(역촌동)   \n",
       "..          ...    ...      ...   ...                              ...   \n",
       "729         729   1145    원조막국수     1        서울특별시 강북구 노해로33길 49 (수유동)   \n",
       "730         730   1113     해주냉면     1     서울특별시 송파구 올림픽로12길 5-22 (잠실동)   \n",
       "731         731    879     감베로니     3        서울특별시 용산구 한강대로81길 5 (갈월동)   \n",
       "732         732    736    장수설렁탕     1        서울특별시 송파구 백제고분로 148 (잠실동)   \n",
       "733         733    443      무진장     3        서울특별시 용산구 원효로 212 (원효로2가)   \n",
       "\n",
       "              업소 전화번호  추천수               검색명  \n",
       "0         02-904-3070    0     서울특별시 서울 우이목장  \n",
       "1         02-902-0191    0   서울특별시 서울 착한부대찌개  \n",
       "2         02-954-0719    0      서울특별시 서울 홍방원  \n",
       "3      0507-1469-0613    0  서울특별시 서울 오늘우리집비어  \n",
       "4                 NaN    0   서울특별시 은평구 은평닭곰탕  \n",
       "..                ...  ...               ...  \n",
       "729  991-5215            8   서울특별시 강북구 원조막국수  \n",
       "730  424-7192           60    서울특별시 송파구 해주냉면  \n",
       "731  3273-1791           7    서울특별시 용산구 감베로니  \n",
       "732  415-1472           56   서울특별시 송파구 장수설렁탕  \n",
       "733  712-8814            6     서울특별시 용산구 무진장  \n",
       "\n",
       "[734 rows x 8 columns]"
      ]
     },
     "execution_count": 2,
     "metadata": {},
     "output_type": "execute_result"
    }
   ],
   "source": [
    "res_table = pd.read_csv(\"./datas/seoul_res.csv\")\n",
    "res_table"
   ]
  },
  {
   "cell_type": "code",
   "execution_count": 6,
   "metadata": {},
   "outputs": [
    {
     "data": {
      "text/plain": [
       "Index(['업소아이디', '업소명', '분류코드', '업소 주소', '업소 전화번호', '추천수', '검색명'], dtype='object')"
      ]
     },
     "execution_count": 6,
     "metadata": {},
     "output_type": "execute_result"
    }
   ],
   "source": [
    "del res_table['Unnamed: 0']\n",
    "res_table.columns"
   ]
  },
  {
   "cell_type": "code",
   "execution_count": 16,
   "metadata": {},
   "outputs": [],
   "source": [
    "search_res = []\n",
    "for i in res_table.index :\n",
    "    addr = res_table['업소 주소'][i].split(' ')[:3]\n",
    "    addr.append(res_table['업소명'][i])\n",
    "    str = \" \".join(addr)\n",
    "    search_res.append(str)"
   ]
  },
  {
   "cell_type": "code",
   "execution_count": 17,
   "metadata": {},
   "outputs": [],
   "source": [
    "res_table['검색명'] = search_res"
   ]
  },
  {
   "cell_type": "code",
   "execution_count": 19,
   "metadata": {},
   "outputs": [
    {
     "data": {
      "text/html": [
       "<div>\n",
       "<style scoped>\n",
       "    .dataframe tbody tr th:only-of-type {\n",
       "        vertical-align: middle;\n",
       "    }\n",
       "\n",
       "    .dataframe tbody tr th {\n",
       "        vertical-align: top;\n",
       "    }\n",
       "\n",
       "    .dataframe thead th {\n",
       "        text-align: right;\n",
       "    }\n",
       "</style>\n",
       "<table border=\"1\" class=\"dataframe\">\n",
       "  <thead>\n",
       "    <tr style=\"text-align: right;\">\n",
       "      <th></th>\n",
       "      <th>업소아이디</th>\n",
       "      <th>업소명</th>\n",
       "      <th>분류코드</th>\n",
       "      <th>업소 주소</th>\n",
       "      <th>업소 전화번호</th>\n",
       "      <th>추천수</th>\n",
       "      <th>검색명</th>\n",
       "    </tr>\n",
       "  </thead>\n",
       "  <tbody>\n",
       "    <tr>\n",
       "      <th>0</th>\n",
       "      <td>9633</td>\n",
       "      <td>우이목장</td>\n",
       "      <td>1</td>\n",
       "      <td>서울특별시 서울 도봉구 우이천로 298(쌍문동)</td>\n",
       "      <td>02-904-3070</td>\n",
       "      <td>0</td>\n",
       "      <td>서울특별시 서울 도봉구 우이목장</td>\n",
       "    </tr>\n",
       "    <tr>\n",
       "      <th>1</th>\n",
       "      <td>9632</td>\n",
       "      <td>착한부대찌개</td>\n",
       "      <td>1</td>\n",
       "      <td>서울특별시 서울 도봉구 도봉로109길 46 2층(쌍문동)</td>\n",
       "      <td>02-902-0191</td>\n",
       "      <td>0</td>\n",
       "      <td>서울특별시 서울 도봉구 착한부대찌개</td>\n",
       "    </tr>\n",
       "    <tr>\n",
       "      <th>2</th>\n",
       "      <td>9631</td>\n",
       "      <td>홍방원</td>\n",
       "      <td>2</td>\n",
       "      <td>서울특별시 서울 도봉구 도봉로169나길 47(도봉동)</td>\n",
       "      <td>02-954-0719</td>\n",
       "      <td>0</td>\n",
       "      <td>서울특별시 서울 도봉구 홍방원</td>\n",
       "    </tr>\n",
       "    <tr>\n",
       "      <th>3</th>\n",
       "      <td>9628</td>\n",
       "      <td>오늘우리집비어</td>\n",
       "      <td>1</td>\n",
       "      <td>서울특별시 서울 중랑구 용마산로115길 109 지1층</td>\n",
       "      <td>0507-1469-0613</td>\n",
       "      <td>0</td>\n",
       "      <td>서울특별시 서울 중랑구 오늘우리집비어</td>\n",
       "    </tr>\n",
       "    <tr>\n",
       "      <th>4</th>\n",
       "      <td>9626</td>\n",
       "      <td>은평닭곰탕</td>\n",
       "      <td>1</td>\n",
       "      <td>서울특별시 은평구 연서로3길 5(역촌동)</td>\n",
       "      <td>NaN</td>\n",
       "      <td>0</td>\n",
       "      <td>서울특별시 은평구 연서로3길 은평닭곰탕</td>\n",
       "    </tr>\n",
       "    <tr>\n",
       "      <th>...</th>\n",
       "      <td>...</td>\n",
       "      <td>...</td>\n",
       "      <td>...</td>\n",
       "      <td>...</td>\n",
       "      <td>...</td>\n",
       "      <td>...</td>\n",
       "      <td>...</td>\n",
       "    </tr>\n",
       "    <tr>\n",
       "      <th>729</th>\n",
       "      <td>1145</td>\n",
       "      <td>원조막국수</td>\n",
       "      <td>1</td>\n",
       "      <td>서울특별시 강북구 노해로33길 49 (수유동)</td>\n",
       "      <td>991-5215</td>\n",
       "      <td>8</td>\n",
       "      <td>서울특별시 강북구 노해로33길 원조막국수</td>\n",
       "    </tr>\n",
       "    <tr>\n",
       "      <th>730</th>\n",
       "      <td>1113</td>\n",
       "      <td>해주냉면</td>\n",
       "      <td>1</td>\n",
       "      <td>서울특별시 송파구 올림픽로12길 5-22 (잠실동)</td>\n",
       "      <td>424-7192</td>\n",
       "      <td>60</td>\n",
       "      <td>서울특별시 송파구 올림픽로12길 해주냉면</td>\n",
       "    </tr>\n",
       "    <tr>\n",
       "      <th>731</th>\n",
       "      <td>879</td>\n",
       "      <td>감베로니</td>\n",
       "      <td>3</td>\n",
       "      <td>서울특별시 용산구 한강대로81길 5 (갈월동)</td>\n",
       "      <td>3273-1791</td>\n",
       "      <td>7</td>\n",
       "      <td>서울특별시 용산구 한강대로81길 감베로니</td>\n",
       "    </tr>\n",
       "    <tr>\n",
       "      <th>732</th>\n",
       "      <td>736</td>\n",
       "      <td>장수설렁탕</td>\n",
       "      <td>1</td>\n",
       "      <td>서울특별시 송파구 백제고분로 148 (잠실동)</td>\n",
       "      <td>415-1472</td>\n",
       "      <td>56</td>\n",
       "      <td>서울특별시 송파구 백제고분로 장수설렁탕</td>\n",
       "    </tr>\n",
       "    <tr>\n",
       "      <th>733</th>\n",
       "      <td>443</td>\n",
       "      <td>무진장</td>\n",
       "      <td>3</td>\n",
       "      <td>서울특별시 용산구 원효로 212 (원효로2가)</td>\n",
       "      <td>712-8814</td>\n",
       "      <td>6</td>\n",
       "      <td>서울특별시 용산구 원효로 무진장</td>\n",
       "    </tr>\n",
       "  </tbody>\n",
       "</table>\n",
       "<p>734 rows × 7 columns</p>\n",
       "</div>"
      ],
      "text/plain": [
       "     업소아이디      업소명  분류코드                            업소 주소           업소 전화번호  \\\n",
       "0     9633     우이목장     1       서울특별시 서울 도봉구 우이천로 298(쌍문동)       02-904-3070   \n",
       "1     9632   착한부대찌개     1  서울특별시 서울 도봉구 도봉로109길 46 2층(쌍문동)       02-902-0191   \n",
       "2     9631      홍방원     2    서울특별시 서울 도봉구 도봉로169나길 47(도봉동)       02-954-0719   \n",
       "3     9628  오늘우리집비어     1    서울특별시 서울 중랑구 용마산로115길 109 지1층    0507-1469-0613   \n",
       "4     9626    은평닭곰탕     1           서울특별시 은평구 연서로3길 5(역촌동)               NaN   \n",
       "..     ...      ...   ...                              ...               ...   \n",
       "729   1145    원조막국수     1        서울특별시 강북구 노해로33길 49 (수유동)  991-5215           \n",
       "730   1113     해주냉면     1     서울특별시 송파구 올림픽로12길 5-22 (잠실동)  424-7192           \n",
       "731    879     감베로니     3        서울특별시 용산구 한강대로81길 5 (갈월동)  3273-1791          \n",
       "732    736    장수설렁탕     1        서울특별시 송파구 백제고분로 148 (잠실동)  415-1472           \n",
       "733    443      무진장     3        서울특별시 용산구 원효로 212 (원효로2가)  712-8814           \n",
       "\n",
       "     추천수                     검색명  \n",
       "0      0       서울특별시 서울 도봉구 우이목장  \n",
       "1      0     서울특별시 서울 도봉구 착한부대찌개  \n",
       "2      0        서울특별시 서울 도봉구 홍방원  \n",
       "3      0    서울특별시 서울 중랑구 오늘우리집비어  \n",
       "4      0   서울특별시 은평구 연서로3길 은평닭곰탕  \n",
       "..   ...                     ...  \n",
       "729    8  서울특별시 강북구 노해로33길 원조막국수  \n",
       "730   60  서울특별시 송파구 올림픽로12길 해주냉면  \n",
       "731    7  서울특별시 용산구 한강대로81길 감베로니  \n",
       "732   56   서울특별시 송파구 백제고분로 장수설렁탕  \n",
       "733    6       서울특별시 용산구 원효로 무진장  \n",
       "\n",
       "[734 rows x 7 columns]"
      ]
     },
     "execution_count": 19,
     "metadata": {},
     "output_type": "execute_result"
    }
   ],
   "source": [
    "res_table"
   ]
  },
  {
   "cell_type": "code",
   "execution_count": 13,
   "metadata": {},
   "outputs": [],
   "source": [
    "# res_table.to_csv(\"./datas/seoul_res.csv\")"
   ]
  },
  {
   "cell_type": "code",
   "execution_count": 8,
   "metadata": {},
   "outputs": [],
   "source": [
    "url='https://map.naver.com/v5/?c=14127676.3957465,4523397.9832608,15,0,0,0,dh'"
   ]
  },
  {
   "cell_type": "code",
   "execution_count": 9,
   "metadata": {},
   "outputs": [
    {
     "name": "stderr",
     "output_type": "stream",
     "text": [
      "<ipython-input-9-ef1a0f06da05>:1: DeprecationWarning: executable_path has been deprecated, please pass in a Service object\n",
      "  driver = webdriver.Chrome('./driver/chromedriver')\n"
     ]
    }
   ],
   "source": [
    "driver = webdriver.Chrome('./driver/chromedriver')\n",
    "driver.get(url)\n",
    "time.sleep(2)"
   ]
  },
  {
   "cell_type": "code",
   "execution_count": 95,
   "metadata": {},
   "outputs": [],
   "source": [
    "# sidebar = driver.find_element(By.XPATH,'//*[@id=\"sidebar\"]/navbar/perfect-scrollbar/div/div[1]/div/ul/li[1]/a')\n",
    "# sidebar.click()"
   ]
  },
  {
   "cell_type": "code",
   "execution_count": 61,
   "metadata": {},
   "outputs": [],
   "source": [
    "# driver.get(\"https://map.naver.com/v5/search/\"+res_table['검색명'][4]) # 검색창에 가게이름 입력\n",
    "# 되게 오래 걸림"
   ]
  },
  {
   "cell_type": "code",
   "execution_count": 127,
   "metadata": {},
   "outputs": [],
   "source": [
    "search_class = 'input_search.ng-pristine.ng-valid.ng-touched'\n",
    "element = driver.find_element(By.CLASS_NAME,search_class)\n",
    "element.clear()\n",
    "element.send_keys(res_table['검색명'][4])\n",
    "element.send_keys(\"\\n\")\n",
    "time.sleep(2)"
   ]
  },
  {
   "cell_type": "code",
   "execution_count": 131,
   "metadata": {},
   "outputs": [],
   "source": [
    "driver.switch_to.frame('searchIframe')"
   ]
  },
  {
   "cell_type": "code",
   "execution_count": 132,
   "metadata": {},
   "outputs": [],
   "source": [
    "target_xpath = '//*[@id=\"_pcmap_list_scroll_container\"]/ul/li[1]/div[2]/a[1]/div/div/span[1]'\n",
    "element = driver.find_element(By.XPATH, target_xpath)\n",
    "element.click()\n",
    "# driver.execute_script(\"arguments.click();\",element)"
   ]
  },
  {
   "cell_type": "code",
   "execution_count": 133,
   "metadata": {},
   "outputs": [],
   "source": [
    "url = driver.current_url"
   ]
  },
  {
   "cell_type": "code",
   "execution_count": 139,
   "metadata": {},
   "outputs": [
    {
     "data": {
      "text/plain": [
       "'1138580695'"
      ]
     },
     "execution_count": 139,
     "metadata": {},
     "output_type": "execute_result"
    }
   ],
   "source": [
    "url.split('/')[-1].split('?')[0]"
   ]
  },
  {
   "cell_type": "code",
   "execution_count": null,
   "metadata": {},
   "outputs": [],
   "source": []
  },
  {
   "cell_type": "code",
   "execution_count": 87,
   "metadata": {},
   "outputs": [],
   "source": [
    "# 프레임 살펴보기\n",
    "iframes = driver.find_elements(By.TAG_NAME,'iframe')\n",
    "for iframe in iframes:\n",
    "    print(iframe.get_attribute('name'))"
   ]
  },
  {
   "cell_type": "code",
   "execution_count": 67,
   "metadata": {},
   "outputs": [
    {
     "ename": "NoSuchFrameException",
     "evalue": "Message: entryIframe\n",
     "output_type": "error",
     "traceback": [
      "\u001b[1;31m---------------------------------------------------------------------------\u001b[0m",
      "\u001b[1;31mNoSuchElementException\u001b[0m                    Traceback (most recent call last)",
      "\u001b[1;32m~\\AppData\\Roaming\\Python\\Python38\\site-packages\\selenium\\webdriver\\remote\\switch_to.py\u001b[0m in \u001b[0;36mframe\u001b[1;34m(self, frame_reference)\u001b[0m\n\u001b[0;32m     86\u001b[0m             \u001b[1;32mtry\u001b[0m\u001b[1;33m:\u001b[0m\u001b[1;33m\u001b[0m\u001b[1;33m\u001b[0m\u001b[0m\n\u001b[1;32m---> 87\u001b[1;33m                 \u001b[0mframe_reference\u001b[0m \u001b[1;33m=\u001b[0m \u001b[0mself\u001b[0m\u001b[1;33m.\u001b[0m\u001b[0m_driver\u001b[0m\u001b[1;33m.\u001b[0m\u001b[0mfind_element\u001b[0m\u001b[1;33m(\u001b[0m\u001b[0mBy\u001b[0m\u001b[1;33m.\u001b[0m\u001b[0mID\u001b[0m\u001b[1;33m,\u001b[0m \u001b[0mframe_reference\u001b[0m\u001b[1;33m)\u001b[0m\u001b[1;33m\u001b[0m\u001b[1;33m\u001b[0m\u001b[0m\n\u001b[0m\u001b[0;32m     88\u001b[0m             \u001b[1;32mexcept\u001b[0m \u001b[0mNoSuchElementException\u001b[0m\u001b[1;33m:\u001b[0m\u001b[1;33m\u001b[0m\u001b[1;33m\u001b[0m\u001b[0m\n",
      "\u001b[1;32m~\\AppData\\Roaming\\Python\\Python38\\site-packages\\selenium\\webdriver\\remote\\webdriver.py\u001b[0m in \u001b[0;36mfind_element\u001b[1;34m(self, by, value)\u001b[0m\n\u001b[0;32m    856\u001b[0m \u001b[1;33m\u001b[0m\u001b[0m\n\u001b[1;32m--> 857\u001b[1;33m         return self.execute(Command.FIND_ELEMENT, {\n\u001b[0m\u001b[0;32m    858\u001b[0m             \u001b[1;34m'using'\u001b[0m\u001b[1;33m:\u001b[0m \u001b[0mby\u001b[0m\u001b[1;33m,\u001b[0m\u001b[1;33m\u001b[0m\u001b[1;33m\u001b[0m\u001b[0m\n",
      "\u001b[1;32m~\\AppData\\Roaming\\Python\\Python38\\site-packages\\selenium\\webdriver\\remote\\webdriver.py\u001b[0m in \u001b[0;36mexecute\u001b[1;34m(self, driver_command, params)\u001b[0m\n\u001b[0;32m    434\u001b[0m         \u001b[1;32mif\u001b[0m \u001b[0mresponse\u001b[0m\u001b[1;33m:\u001b[0m\u001b[1;33m\u001b[0m\u001b[1;33m\u001b[0m\u001b[0m\n\u001b[1;32m--> 435\u001b[1;33m             \u001b[0mself\u001b[0m\u001b[1;33m.\u001b[0m\u001b[0merror_handler\u001b[0m\u001b[1;33m.\u001b[0m\u001b[0mcheck_response\u001b[0m\u001b[1;33m(\u001b[0m\u001b[0mresponse\u001b[0m\u001b[1;33m)\u001b[0m\u001b[1;33m\u001b[0m\u001b[1;33m\u001b[0m\u001b[0m\n\u001b[0m\u001b[0;32m    436\u001b[0m             response['value'] = self._unwrap_value(\n",
      "\u001b[1;32m~\\AppData\\Roaming\\Python\\Python38\\site-packages\\selenium\\webdriver\\remote\\errorhandler.py\u001b[0m in \u001b[0;36mcheck_response\u001b[1;34m(self, response)\u001b[0m\n\u001b[0;32m    246\u001b[0m             \u001b[1;32mraise\u001b[0m \u001b[0mexception_class\u001b[0m\u001b[1;33m(\u001b[0m\u001b[0mmessage\u001b[0m\u001b[1;33m,\u001b[0m \u001b[0mscreen\u001b[0m\u001b[1;33m,\u001b[0m \u001b[0mstacktrace\u001b[0m\u001b[1;33m,\u001b[0m \u001b[0malert_text\u001b[0m\u001b[1;33m)\u001b[0m  \u001b[1;31m# type: ignore[call-arg]  # mypy is not smart enough here\u001b[0m\u001b[1;33m\u001b[0m\u001b[1;33m\u001b[0m\u001b[0m\n\u001b[1;32m--> 247\u001b[1;33m         \u001b[1;32mraise\u001b[0m \u001b[0mexception_class\u001b[0m\u001b[1;33m(\u001b[0m\u001b[0mmessage\u001b[0m\u001b[1;33m,\u001b[0m \u001b[0mscreen\u001b[0m\u001b[1;33m,\u001b[0m \u001b[0mstacktrace\u001b[0m\u001b[1;33m)\u001b[0m\u001b[1;33m\u001b[0m\u001b[1;33m\u001b[0m\u001b[0m\n\u001b[0m\u001b[0;32m    248\u001b[0m \u001b[1;33m\u001b[0m\u001b[0m\n",
      "\u001b[1;31mNoSuchElementException\u001b[0m: Message: no such element: Unable to locate element: {\"method\":\"css selector\",\"selector\":\"[id=\"entryIframe\"]\"}\n  (Session info: chrome=104.0.5112.81)\nStacktrace:\nBacktrace:\n\tOrdinal0 [0x00865FD3+2187219]\n\tOrdinal0 [0x007FE6D1+1763025]\n\tOrdinal0 [0x00713E78+802424]\n\tOrdinal0 [0x00741C10+990224]\n\tOrdinal0 [0x00741EAB+990891]\n\tOrdinal0 [0x0076EC92+1174674]\n\tOrdinal0 [0x0075CBD4+1100756]\n\tOrdinal0 [0x0076CFC2+1167298]\n\tOrdinal0 [0x0075C9A6+1100198]\n\tOrdinal0 [0x00736F80+946048]\n\tOrdinal0 [0x00737E76+949878]\n\tGetHandleVerifier [0x00B090C2+2721218]\n\tGetHandleVerifier [0x00AFAAF0+2662384]\n\tGetHandleVerifier [0x008F137A+526458]\n\tGetHandleVerifier [0x008F0416+522518]\n\tOrdinal0 [0x00804EAB+1789611]\n\tOrdinal0 [0x008097A8+1808296]\n\tOrdinal0 [0x00809895+1808533]\n\tOrdinal0 [0x008126C1+1844929]\n\tBaseThreadInitThunk [0x7604FA29+25]\n\tRtlGetAppContainerNamedObjectPath [0x77C37A9E+286]\n\tRtlGetAppContainerNamedObjectPath [0x77C37A6E+238]\n",
      "\nDuring handling of the above exception, another exception occurred:\n",
      "\u001b[1;31mNoSuchElementException\u001b[0m                    Traceback (most recent call last)",
      "\u001b[1;32m~\\AppData\\Roaming\\Python\\Python38\\site-packages\\selenium\\webdriver\\remote\\switch_to.py\u001b[0m in \u001b[0;36mframe\u001b[1;34m(self, frame_reference)\u001b[0m\n\u001b[0;32m     89\u001b[0m                 \u001b[1;32mtry\u001b[0m\u001b[1;33m:\u001b[0m\u001b[1;33m\u001b[0m\u001b[1;33m\u001b[0m\u001b[0m\n\u001b[1;32m---> 90\u001b[1;33m                     \u001b[0mframe_reference\u001b[0m \u001b[1;33m=\u001b[0m \u001b[0mself\u001b[0m\u001b[1;33m.\u001b[0m\u001b[0m_driver\u001b[0m\u001b[1;33m.\u001b[0m\u001b[0mfind_element\u001b[0m\u001b[1;33m(\u001b[0m\u001b[0mBy\u001b[0m\u001b[1;33m.\u001b[0m\u001b[0mNAME\u001b[0m\u001b[1;33m,\u001b[0m \u001b[0mframe_reference\u001b[0m\u001b[1;33m)\u001b[0m\u001b[1;33m\u001b[0m\u001b[1;33m\u001b[0m\u001b[0m\n\u001b[0m\u001b[0;32m     91\u001b[0m                 \u001b[1;32mexcept\u001b[0m \u001b[0mNoSuchElementException\u001b[0m\u001b[1;33m:\u001b[0m\u001b[1;33m\u001b[0m\u001b[1;33m\u001b[0m\u001b[0m\n",
      "\u001b[1;32m~\\AppData\\Roaming\\Python\\Python38\\site-packages\\selenium\\webdriver\\remote\\webdriver.py\u001b[0m in \u001b[0;36mfind_element\u001b[1;34m(self, by, value)\u001b[0m\n\u001b[0;32m    856\u001b[0m \u001b[1;33m\u001b[0m\u001b[0m\n\u001b[1;32m--> 857\u001b[1;33m         return self.execute(Command.FIND_ELEMENT, {\n\u001b[0m\u001b[0;32m    858\u001b[0m             \u001b[1;34m'using'\u001b[0m\u001b[1;33m:\u001b[0m \u001b[0mby\u001b[0m\u001b[1;33m,\u001b[0m\u001b[1;33m\u001b[0m\u001b[1;33m\u001b[0m\u001b[0m\n",
      "\u001b[1;32m~\\AppData\\Roaming\\Python\\Python38\\site-packages\\selenium\\webdriver\\remote\\webdriver.py\u001b[0m in \u001b[0;36mexecute\u001b[1;34m(self, driver_command, params)\u001b[0m\n\u001b[0;32m    434\u001b[0m         \u001b[1;32mif\u001b[0m \u001b[0mresponse\u001b[0m\u001b[1;33m:\u001b[0m\u001b[1;33m\u001b[0m\u001b[1;33m\u001b[0m\u001b[0m\n\u001b[1;32m--> 435\u001b[1;33m             \u001b[0mself\u001b[0m\u001b[1;33m.\u001b[0m\u001b[0merror_handler\u001b[0m\u001b[1;33m.\u001b[0m\u001b[0mcheck_response\u001b[0m\u001b[1;33m(\u001b[0m\u001b[0mresponse\u001b[0m\u001b[1;33m)\u001b[0m\u001b[1;33m\u001b[0m\u001b[1;33m\u001b[0m\u001b[0m\n\u001b[0m\u001b[0;32m    436\u001b[0m             response['value'] = self._unwrap_value(\n",
      "\u001b[1;32m~\\AppData\\Roaming\\Python\\Python38\\site-packages\\selenium\\webdriver\\remote\\errorhandler.py\u001b[0m in \u001b[0;36mcheck_response\u001b[1;34m(self, response)\u001b[0m\n\u001b[0;32m    246\u001b[0m             \u001b[1;32mraise\u001b[0m \u001b[0mexception_class\u001b[0m\u001b[1;33m(\u001b[0m\u001b[0mmessage\u001b[0m\u001b[1;33m,\u001b[0m \u001b[0mscreen\u001b[0m\u001b[1;33m,\u001b[0m \u001b[0mstacktrace\u001b[0m\u001b[1;33m,\u001b[0m \u001b[0malert_text\u001b[0m\u001b[1;33m)\u001b[0m  \u001b[1;31m# type: ignore[call-arg]  # mypy is not smart enough here\u001b[0m\u001b[1;33m\u001b[0m\u001b[1;33m\u001b[0m\u001b[0m\n\u001b[1;32m--> 247\u001b[1;33m         \u001b[1;32mraise\u001b[0m \u001b[0mexception_class\u001b[0m\u001b[1;33m(\u001b[0m\u001b[0mmessage\u001b[0m\u001b[1;33m,\u001b[0m \u001b[0mscreen\u001b[0m\u001b[1;33m,\u001b[0m \u001b[0mstacktrace\u001b[0m\u001b[1;33m)\u001b[0m\u001b[1;33m\u001b[0m\u001b[1;33m\u001b[0m\u001b[0m\n\u001b[0m\u001b[0;32m    248\u001b[0m \u001b[1;33m\u001b[0m\u001b[0m\n",
      "\u001b[1;31mNoSuchElementException\u001b[0m: Message: no such element: Unable to locate element: {\"method\":\"css selector\",\"selector\":\"[name=\"entryIframe\"]\"}\n  (Session info: chrome=104.0.5112.81)\nStacktrace:\nBacktrace:\n\tOrdinal0 [0x00865FD3+2187219]\n\tOrdinal0 [0x007FE6D1+1763025]\n\tOrdinal0 [0x00713E78+802424]\n\tOrdinal0 [0x00741C10+990224]\n\tOrdinal0 [0x00741EAB+990891]\n\tOrdinal0 [0x0076EC92+1174674]\n\tOrdinal0 [0x0075CBD4+1100756]\n\tOrdinal0 [0x0076CFC2+1167298]\n\tOrdinal0 [0x0075C9A6+1100198]\n\tOrdinal0 [0x00736F80+946048]\n\tOrdinal0 [0x00737E76+949878]\n\tGetHandleVerifier [0x00B090C2+2721218]\n\tGetHandleVerifier [0x00AFAAF0+2662384]\n\tGetHandleVerifier [0x008F137A+526458]\n\tGetHandleVerifier [0x008F0416+522518]\n\tOrdinal0 [0x00804EAB+1789611]\n\tOrdinal0 [0x008097A8+1808296]\n\tOrdinal0 [0x00809895+1808533]\n\tOrdinal0 [0x008126C1+1844929]\n\tBaseThreadInitThunk [0x7604FA29+25]\n\tRtlGetAppContainerNamedObjectPath [0x77C37A9E+286]\n\tRtlGetAppContainerNamedObjectPath [0x77C37A6E+238]\n",
      "\nDuring handling of the above exception, another exception occurred:\n",
      "\u001b[1;31mNoSuchFrameException\u001b[0m                      Traceback (most recent call last)",
      "\u001b[1;32m<ipython-input-67-998e80f4a2b5>\u001b[0m in \u001b[0;36m<module>\u001b[1;34m\u001b[0m\n\u001b[1;32m----> 1\u001b[1;33m \u001b[0mdriver\u001b[0m\u001b[1;33m.\u001b[0m\u001b[0mswitch_to\u001b[0m\u001b[1;33m.\u001b[0m\u001b[0mframe\u001b[0m\u001b[1;33m(\u001b[0m\u001b[1;34m'entryIframe'\u001b[0m\u001b[1;33m)\u001b[0m\u001b[1;33m\u001b[0m\u001b[1;33m\u001b[0m\u001b[0m\n\u001b[0m",
      "\u001b[1;32m~\\AppData\\Roaming\\Python\\Python38\\site-packages\\selenium\\webdriver\\remote\\switch_to.py\u001b[0m in \u001b[0;36mframe\u001b[1;34m(self, frame_reference)\u001b[0m\n\u001b[0;32m     90\u001b[0m                     \u001b[0mframe_reference\u001b[0m \u001b[1;33m=\u001b[0m \u001b[0mself\u001b[0m\u001b[1;33m.\u001b[0m\u001b[0m_driver\u001b[0m\u001b[1;33m.\u001b[0m\u001b[0mfind_element\u001b[0m\u001b[1;33m(\u001b[0m\u001b[0mBy\u001b[0m\u001b[1;33m.\u001b[0m\u001b[0mNAME\u001b[0m\u001b[1;33m,\u001b[0m \u001b[0mframe_reference\u001b[0m\u001b[1;33m)\u001b[0m\u001b[1;33m\u001b[0m\u001b[1;33m\u001b[0m\u001b[0m\n\u001b[0;32m     91\u001b[0m                 \u001b[1;32mexcept\u001b[0m \u001b[0mNoSuchElementException\u001b[0m\u001b[1;33m:\u001b[0m\u001b[1;33m\u001b[0m\u001b[1;33m\u001b[0m\u001b[0m\n\u001b[1;32m---> 92\u001b[1;33m                     \u001b[1;32mraise\u001b[0m \u001b[0mNoSuchFrameException\u001b[0m\u001b[1;33m(\u001b[0m\u001b[0mframe_reference\u001b[0m\u001b[1;33m)\u001b[0m\u001b[1;33m\u001b[0m\u001b[1;33m\u001b[0m\u001b[0m\n\u001b[0m\u001b[0;32m     93\u001b[0m \u001b[1;33m\u001b[0m\u001b[0m\n\u001b[0;32m     94\u001b[0m         \u001b[0mself\u001b[0m\u001b[1;33m.\u001b[0m\u001b[0m_driver\u001b[0m\u001b[1;33m.\u001b[0m\u001b[0mexecute\u001b[0m\u001b[1;33m(\u001b[0m\u001b[0mCommand\u001b[0m\u001b[1;33m.\u001b[0m\u001b[0mSWITCH_TO_FRAME\u001b[0m\u001b[1;33m,\u001b[0m \u001b[1;33m{\u001b[0m\u001b[1;34m'id'\u001b[0m\u001b[1;33m:\u001b[0m \u001b[0mframe_reference\u001b[0m\u001b[1;33m}\u001b[0m\u001b[1;33m)\u001b[0m\u001b[1;33m\u001b[0m\u001b[1;33m\u001b[0m\u001b[0m\n",
      "\u001b[1;31mNoSuchFrameException\u001b[0m: Message: entryIframe\n"
     ]
    }
   ],
   "source": [
    "driver.switch_to.frame('entryIframe')"
   ]
  },
  {
   "cell_type": "markdown",
   "metadata": {},
   "source": [
    "### url 뽑아내기"
   ]
  },
  {
   "cell_type": "code",
   "execution_count": 24,
   "metadata": {},
   "outputs": [],
   "source": [
    "base_url='https://map.naver.com/v5/?c=14127676.3957465,4523397.9832608,15,0,0,0,dh'"
   ]
  },
  {
   "cell_type": "code",
   "execution_count": 25,
   "metadata": {},
   "outputs": [
    {
     "name": "stderr",
     "output_type": "stream",
     "text": [
      "<ipython-input-25-7675f9c9ae4b>:1: DeprecationWarning: executable_path has been deprecated, please pass in a Service object\n",
      "  driver = webdriver.Chrome('./driver/chromedriver')\n"
     ]
    }
   ],
   "source": [
    "driver = webdriver.Chrome('./driver/chromedriver')\n",
    "driver.get(base_url)\n",
    "time.sleep(2)"
   ]
  },
  {
   "cell_type": "code",
   "execution_count": 22,
   "metadata": {},
   "outputs": [],
   "source": [
    "url_list = []"
   ]
  },
  {
   "cell_type": "code",
   "execution_count": 23,
   "metadata": {},
   "outputs": [
    {
     "data": {
      "text/plain": [
       "0"
      ]
     },
     "execution_count": 23,
     "metadata": {},
     "output_type": "execute_result"
    }
   ],
   "source": [
    "len(url_list)"
   ]
  },
  {
   "cell_type": "code",
   "execution_count": 311,
   "metadata": {},
   "outputs": [
    {
     "data": {
      "text/plain": [
       "[]"
      ]
     },
     "execution_count": 311,
     "metadata": {},
     "output_type": "execute_result"
    }
   ],
   "source": [
    "url_list"
   ]
  },
  {
   "cell_type": "code",
   "execution_count": null,
   "metadata": {},
   "outputs": [
    {
     "name": "stderr",
     "output_type": "stream",
     "text": [
      "<ipython-input-26-d600ae43be22>:1: TqdmDeprecationWarning: This function will be removed in tqdm==5.0.0\n",
      "Please use `tqdm.notebook.tqdm` instead of `tqdm.tqdm_notebook`\n",
      "  for res in tqdm_notebook(res_table['검색명']) :\n"
     ]
    },
    {
     "data": {
      "application/vnd.jupyter.widget-view+json": {
       "model_id": "edae74545341493a9d91b430804f04e8",
       "version_major": 2,
       "version_minor": 0
      },
      "text/plain": [
       "HBox(children=(FloatProgress(value=0.0, max=734.0), HTML(value='')))"
      ]
     },
     "metadata": {},
     "output_type": "display_data"
    },
    {
     "name": "stdout",
     "output_type": "stream",
     "text": [
      "error 서울특별시 서울 마포구 해피하우스소정\n",
      "error 서울특별시 동작구 흑석로13마길 준호가만드는부대찌개\n",
      "error 서울특별시 서울 동작구 제주왕뚜껑생고기\n",
      "error 서울특별시 도봉구 해등로16길 엄마랑꿀꽈배기\n",
      "error 서울특별시 도봉구 덕릉로 박리김밥\n",
      "error 서울특별시 서대문구 포방터길71 엉터리돼지갈비\n",
      "error 서울특별시 서울시 금천구 푸드플러스\n",
      "error 서울특별시 서울시 금천구 국수집\n",
      "error 서울특별시 서울시 금천구 정가네촌 감자탕\n",
      "error 서울특별시 금천구 디지털로 포스트푸드\n",
      "error 서울특별시 관악구 법원단지길 카페해밀\n",
      "error 서울특별시 광진구 동일로72길 돈필\n",
      "error 서울특별시 광진구 군자로 생생칼국수\n",
      "error 서울특별시 송이로 17길 미라클센터\n",
      "error 서울특별시 송이로 17길 미라클센터\n",
      "error 서울특별시 송이로 17길 미라클센터\n",
      "error 서울특별시 서울특별시 중구 정원설렁탕(민속의집)\n",
      "error 서울특별시 강남구 삼성로 부부식당\n",
      "error 서울특별시 강남구 삼성로 미도한우마을\n",
      "error 서울특별시 남부순환로359길 10 선우동가게\n",
      "error 서울특별시 강남대로48길 8 남원종가집추어탕\n",
      "error 서울특별시 강서구 강서로5나길 우리식당\n",
      "error 서울특별시 관악구 신림로26길 추억순대국전문점\n",
      "error 서울특별시 중구 마른내로 남도전통순대명가\n",
      "error 서울특별시 중구 퇴계로44길 대청마루\n",
      "error 서울특별시 중구 퇴계로12길 진달래 시래기\n",
      "error 서울특별시 중구 퇴계로12길 유가\n",
      "error 서울특별시 중구 동호로11길 복지로분식\n"
     ]
    }
   ],
   "source": [
    "for res in tqdm_notebook(res_table['검색명']) :\n",
    "    try :\n",
    "#         search_class = 'input_search.ng-pristine.ng-valid.ng-touched'\n",
    "#         element = driver.find_element(By.CLASS_NAME,search_class)\n",
    "        search_xpath = '/html/body/app/layout/div[3]/div[2]/shrinkable-layout/div/app-base/search-input-box/div/div[1]/div/input'\n",
    "        element = driver.find_element(By.XPATH, search_xpath)\n",
    "        time.sleep(0.5)\n",
    "        element.clear()\n",
    "        element.send_keys(res)\n",
    "        element.send_keys(\"\\n\")\n",
    "        time.sleep(3)\n",
    "#         driver.get(\"https://map.naver.com/v5/search/\"+res)\n",
    "#         time.sleep(2)\n",
    "        \n",
    "        url = driver.current_url\n",
    "        if(url.split('/').__contains__('place')) :\n",
    "            u = url.split('/')[-1].split('?')[0]\n",
    "            url_list.append(u)\n",
    "        else :\n",
    "            driver.switch_to.frame('searchIframe')\n",
    "            time.sleep(1)\n",
    "            \n",
    "            target_xpath = '/html/body/div[3]/div/div/div[1]/ul/li[1]/div[2]/a[1]/div/div/span[1]'\n",
    "            config = driver.find_elements(By.XPATH, target_xpath)\n",
    "            if len(config) == 0 :\n",
    "                target_xpath = '/html/body/div[3]/div/div/div[1]/ul/li[1]/div[1]/a[1]/div/div/span[1]'\n",
    "            else :\n",
    "                target_xpath = '/html/body/div[3]/div/div/div[1]/ul/li[1]/div[2]/a[1]/div/div/span[1]'\n",
    "                \n",
    "            element = driver.find_element(By.XPATH, target_xpath)\n",
    "            element.click()\n",
    "            time.sleep(2)\n",
    "\n",
    "            url = driver.current_url\n",
    "            u = url.split('/')[-1].split('?')[0]\n",
    "            url_list.append(u)\n",
    "            time.sleep(1)\n",
    "\n",
    "            driver.switch_to.default_content()\n",
    "            time.sleep(1)\n",
    "                \n",
    "    except :\n",
    "        print('error',res)\n",
    "        url_list.append('-')\n",
    "        driver.switch_to.default_content()\n",
    "        time.sleep(1)"
   ]
  },
  {
   "cell_type": "code",
   "execution_count": 185,
   "metadata": {},
   "outputs": [],
   "source": [
    "driver.close()"
   ]
  },
  {
   "cell_type": "code",
   "execution_count": 158,
   "metadata": {},
   "outputs": [
    {
     "data": {
      "text/plain": [
       "False"
      ]
     },
     "execution_count": 158,
     "metadata": {},
     "output_type": "execute_result"
    }
   ],
   "source": [
    "str = 'https://map.naver.com/v5/search/%EC%9A%B0%EC%9D%B4%EB%AA%A9%EC%9E%A5/place/38431899?c=14140389.8214314,4529301.4884308,15,0,0,0,dh&isCorrectAnswer=true'\n",
    "str in 'place'"
   ]
  },
  {
   "cell_type": "code",
   "execution_count": 166,
   "metadata": {},
   "outputs": [
    {
     "data": {
      "text/plain": [
       "True"
      ]
     },
     "execution_count": 166,
     "metadata": {},
     "output_type": "execute_result"
    }
   ],
   "source": [
    "str = 'https://map.naver.com/v5/search/%EC%9D%80%ED%8F%89%EB%8B%AD%EA%B3%B0%ED%83%95/place/1138580695?c=14127209.4156103,4523397.9832609,15,0,0,0,dh&placePath=%3Fentry%253Dbmp'\n",
    "str = str.split('/').__contains__('place')\n",
    "str\n"
   ]
  },
  {
   "cell_type": "markdown",
   "metadata": {},
   "source": [
    "### 에러 난 애들 확인용"
   ]
  },
  {
   "cell_type": "code",
   "execution_count": 292,
   "metadata": {},
   "outputs": [],
   "source": [
    "driver.switch_to.default_content()"
   ]
  },
  {
   "cell_type": "code",
   "execution_count": 294,
   "metadata": {
    "scrolled": true
   },
   "outputs": [
    {
     "name": "stdout",
     "output_type": "stream",
     "text": [
      "0\n"
     ]
    }
   ],
   "source": [
    "i = 8\n",
    "try :\n",
    "#         search_class = 'input_search.ng-pristine.ng-valid.ng-touched'\n",
    "#         element = driver.find_element(By.CLASS_NAME,search_class)\n",
    "    search_xpath = '/html/body/app/layout/div[3]/div[2]/shrinkable-layout/div/app-base/search-input-box/div/div[1]/div/input'\n",
    "    element = driver.find_element(By.XPATH, search_xpath)\n",
    "    time.sleep(0.5)\n",
    "    element.clear()\n",
    "    element.send_keys(res_table['검색명'][i])\n",
    "    element.send_keys(\"\\n\")\n",
    "    time.sleep(4)\n",
    "#         driver.get(\"https://map.naver.com/v5/search/\"+res)\n",
    "#         time.sleep(2)\n",
    "        \n",
    "    url = driver.current_url\n",
    "    if(url.split('/').__contains__('place')) :\n",
    "        u = url.split('/')[-1].split('?')[0]\n",
    "        print(u)\n",
    "    else :\n",
    "        driver.switch_to.frame('searchIframe')\n",
    "\n",
    "#         target_xpath = '//*[@id=\"_pcmap_list_scroll_container\"]/ul/li[1]/div[2]/a[1]/div/div/span[1]'\n",
    "#         target_xpath =  '/html/body/div[3]/div/div/div[1]/ul/li[1]/div[1]/a[1]/div/div/span[1]'\n",
    "        target_xpath = '/html/body/div[3]/div/div/div[1]/ul/li[1]/div[2]/a[1]/div/div/span[1]'\n",
    "        element = driver.find_elements(By.XPATH, target_xpath)\n",
    "        print(len(element))\n",
    "#         element.click()\n",
    "#         time.sleep(2)\n",
    "\n",
    "#         url = driver.current_url\n",
    "#         u = url.split('/')[-1].split('?')[0]\n",
    "#         print(u)\n",
    "#         time.sleep(1)\n",
    "\n",
    "#         driver.switch_to.default_content()\n",
    "#         time.sleep(1)\n",
    "except :\n",
    "    print('error',res)\n",
    "    url.append('-')"
   ]
  },
  {
   "cell_type": "code",
   "execution_count": 308,
   "metadata": {},
   "outputs": [
    {
     "data": {
      "text/html": [
       "<div>\n",
       "<style scoped>\n",
       "    .dataframe tbody tr th:only-of-type {\n",
       "        vertical-align: middle;\n",
       "    }\n",
       "\n",
       "    .dataframe tbody tr th {\n",
       "        vertical-align: top;\n",
       "    }\n",
       "\n",
       "    .dataframe thead th {\n",
       "        text-align: right;\n",
       "    }\n",
       "</style>\n",
       "<table border=\"1\" class=\"dataframe\">\n",
       "  <thead>\n",
       "    <tr style=\"text-align: right;\">\n",
       "      <th></th>\n",
       "      <th>업소아이디</th>\n",
       "      <th>업소명</th>\n",
       "      <th>분류코드</th>\n",
       "      <th>업소 주소</th>\n",
       "      <th>업소 전화번호</th>\n",
       "      <th>추천수</th>\n",
       "      <th>검색명</th>\n",
       "    </tr>\n",
       "  </thead>\n",
       "  <tbody>\n",
       "    <tr>\n",
       "      <th>35</th>\n",
       "      <td>9579</td>\n",
       "      <td>알리파스타</td>\n",
       "      <td>1</td>\n",
       "      <td>서울특별시 논현로 151길 29 1층</td>\n",
       "      <td>02-518-1125</td>\n",
       "      <td>0</td>\n",
       "      <td>서울특별시 논현로 알리파스타</td>\n",
       "    </tr>\n",
       "  </tbody>\n",
       "</table>\n",
       "</div>"
      ],
      "text/plain": [
       "    업소아이디    업소명  분류코드                 업소 주소      업소 전화번호  추천수  \\\n",
       "35   9579  알리파스타     1  서울특별시 논현로 151길 29 1층  02-518-1125    0   \n",
       "\n",
       "                검색명  \n",
       "35  서울특별시 논현로 알리파스타  "
      ]
     },
     "execution_count": 308,
     "metadata": {},
     "output_type": "execute_result"
    }
   ],
   "source": [
    "res_table[res_table['검색명']=='서울특별시 논현로 알리파스타']"
   ]
  },
  {
   "cell_type": "code",
   "execution_count": 245,
   "metadata": {},
   "outputs": [
    {
     "data": {
      "text/html": [
       "<div>\n",
       "<style scoped>\n",
       "    .dataframe tbody tr th:only-of-type {\n",
       "        vertical-align: middle;\n",
       "    }\n",
       "\n",
       "    .dataframe tbody tr th {\n",
       "        vertical-align: top;\n",
       "    }\n",
       "\n",
       "    .dataframe thead th {\n",
       "        text-align: right;\n",
       "    }\n",
       "</style>\n",
       "<table border=\"1\" class=\"dataframe\">\n",
       "  <thead>\n",
       "    <tr style=\"text-align: right;\">\n",
       "      <th></th>\n",
       "      <th>업소아이디</th>\n",
       "      <th>업소명</th>\n",
       "      <th>분류코드</th>\n",
       "      <th>업소 주소</th>\n",
       "      <th>업소 전화번호</th>\n",
       "      <th>추천수</th>\n",
       "      <th>검색명</th>\n",
       "    </tr>\n",
       "  </thead>\n",
       "  <tbody>\n",
       "    <tr>\n",
       "      <th>0</th>\n",
       "      <td>9633</td>\n",
       "      <td>우이목장</td>\n",
       "      <td>1</td>\n",
       "      <td>서울특별시 서울 도봉구 우이천로 298(쌍문동)</td>\n",
       "      <td>02-904-3070</td>\n",
       "      <td>0</td>\n",
       "      <td>서울특별시 서울 우이목장</td>\n",
       "    </tr>\n",
       "    <tr>\n",
       "      <th>1</th>\n",
       "      <td>9632</td>\n",
       "      <td>착한부대찌개</td>\n",
       "      <td>1</td>\n",
       "      <td>서울특별시 서울 도봉구 도봉로109길 46 2층(쌍문동)</td>\n",
       "      <td>02-902-0191</td>\n",
       "      <td>0</td>\n",
       "      <td>서울특별시 서울 착한부대찌개</td>\n",
       "    </tr>\n",
       "    <tr>\n",
       "      <th>2</th>\n",
       "      <td>9631</td>\n",
       "      <td>홍방원</td>\n",
       "      <td>2</td>\n",
       "      <td>서울특별시 서울 도봉구 도봉로169나길 47(도봉동)</td>\n",
       "      <td>02-954-0719</td>\n",
       "      <td>0</td>\n",
       "      <td>서울특별시 서울 홍방원</td>\n",
       "    </tr>\n",
       "    <tr>\n",
       "      <th>3</th>\n",
       "      <td>9628</td>\n",
       "      <td>오늘우리집비어</td>\n",
       "      <td>1</td>\n",
       "      <td>서울특별시 서울 중랑구 용마산로115길 109 지1층</td>\n",
       "      <td>0507-1469-0613</td>\n",
       "      <td>0</td>\n",
       "      <td>서울특별시 서울 오늘우리집비어</td>\n",
       "    </tr>\n",
       "    <tr>\n",
       "      <th>4</th>\n",
       "      <td>9626</td>\n",
       "      <td>은평닭곰탕</td>\n",
       "      <td>1</td>\n",
       "      <td>서울특별시 은평구 연서로3길 5(역촌동)</td>\n",
       "      <td>NaN</td>\n",
       "      <td>0</td>\n",
       "      <td>서울특별시 은평구 은평닭곰탕</td>\n",
       "    </tr>\n",
       "    <tr>\n",
       "      <th>5</th>\n",
       "      <td>9625</td>\n",
       "      <td>역촌동 멸치국수</td>\n",
       "      <td>1</td>\n",
       "      <td>서울특별시 은평구 역말로 24(역촌동)</td>\n",
       "      <td>02-356-5903</td>\n",
       "      <td>0</td>\n",
       "      <td>서울특별시 은평구 역촌동 멸치국수</td>\n",
       "    </tr>\n",
       "    <tr>\n",
       "      <th>6</th>\n",
       "      <td>9624</td>\n",
       "      <td>솥뚜껑</td>\n",
       "      <td>1</td>\n",
       "      <td>서울특별시 은평구 연서로29길 11(갈현동)</td>\n",
       "      <td>02-354-9282</td>\n",
       "      <td>0</td>\n",
       "      <td>서울특별시 은평구 솥뚜껑</td>\n",
       "    </tr>\n",
       "    <tr>\n",
       "      <th>7</th>\n",
       "      <td>9623</td>\n",
       "      <td>양구손두부</td>\n",
       "      <td>1</td>\n",
       "      <td>서울특별시 은평구 통일로83길 5-21(갈현동)</td>\n",
       "      <td>02-353-7185</td>\n",
       "      <td>0</td>\n",
       "      <td>서울특별시 은평구 양구손두부</td>\n",
       "    </tr>\n",
       "    <tr>\n",
       "      <th>8</th>\n",
       "      <td>9622</td>\n",
       "      <td>행복밥상</td>\n",
       "      <td>1</td>\n",
       "      <td>서울특별시 은평구 갈현로 302-7(갈현동)</td>\n",
       "      <td>NaN</td>\n",
       "      <td>0</td>\n",
       "      <td>서울특별시 은평구 행복밥상</td>\n",
       "    </tr>\n",
       "    <tr>\n",
       "      <th>9</th>\n",
       "      <td>9621</td>\n",
       "      <td>우경촌</td>\n",
       "      <td>1</td>\n",
       "      <td>서울특별시 은평구 통일로78길 4-4(불광동)</td>\n",
       "      <td>02-382-1236</td>\n",
       "      <td>0</td>\n",
       "      <td>서울특별시 은평구 우경촌</td>\n",
       "    </tr>\n",
       "  </tbody>\n",
       "</table>\n",
       "</div>"
      ],
      "text/plain": [
       "   업소아이디       업소명  분류코드                            업소 주소         업소 전화번호  \\\n",
       "0   9633      우이목장     1       서울특별시 서울 도봉구 우이천로 298(쌍문동)     02-904-3070   \n",
       "1   9632    착한부대찌개     1  서울특별시 서울 도봉구 도봉로109길 46 2층(쌍문동)     02-902-0191   \n",
       "2   9631       홍방원     2    서울특별시 서울 도봉구 도봉로169나길 47(도봉동)     02-954-0719   \n",
       "3   9628   오늘우리집비어     1    서울특별시 서울 중랑구 용마산로115길 109 지1층  0507-1469-0613   \n",
       "4   9626     은평닭곰탕     1           서울특별시 은평구 연서로3길 5(역촌동)             NaN   \n",
       "5   9625  역촌동 멸치국수     1            서울특별시 은평구 역말로 24(역촌동)     02-356-5903   \n",
       "6   9624       솥뚜껑     1         서울특별시 은평구 연서로29길 11(갈현동)     02-354-9282   \n",
       "7   9623     양구손두부     1       서울특별시 은평구 통일로83길 5-21(갈현동)     02-353-7185   \n",
       "8   9622      행복밥상     1         서울특별시 은평구 갈현로 302-7(갈현동)             NaN   \n",
       "9   9621       우경촌     1        서울특별시 은평구 통일로78길 4-4(불광동)     02-382-1236   \n",
       "\n",
       "   추천수                 검색명  \n",
       "0    0       서울특별시 서울 우이목장  \n",
       "1    0     서울특별시 서울 착한부대찌개  \n",
       "2    0        서울특별시 서울 홍방원  \n",
       "3    0    서울특별시 서울 오늘우리집비어  \n",
       "4    0     서울특별시 은평구 은평닭곰탕  \n",
       "5    0  서울특별시 은평구 역촌동 멸치국수  \n",
       "6    0       서울특별시 은평구 솥뚜껑  \n",
       "7    0     서울특별시 은평구 양구손두부  \n",
       "8    0      서울특별시 은평구 행복밥상  \n",
       "9    0       서울특별시 은평구 우경촌  "
      ]
     },
     "execution_count": 245,
     "metadata": {},
     "output_type": "execute_result"
    }
   ],
   "source": [
    "res_table.head(10)"
   ]
  },
  {
   "cell_type": "code",
   "execution_count": null,
   "metadata": {},
   "outputs": [],
   "source": []
  },
  {
   "cell_type": "code",
   "execution_count": null,
   "metadata": {},
   "outputs": [],
   "source": []
  },
  {
   "cell_type": "code",
   "execution_count": null,
   "metadata": {},
   "outputs": [],
   "source": []
  },
  {
   "cell_type": "code",
   "execution_count": null,
   "metadata": {},
   "outputs": [],
   "source": []
  }
 ],
 "metadata": {
  "kernelspec": {
   "display_name": "Python 3",
   "language": "python",
   "name": "python3"
  },
  "language_info": {
   "codemirror_mode": {
    "name": "ipython",
    "version": 3
   },
   "file_extension": ".py",
   "mimetype": "text/x-python",
   "name": "python",
   "nbconvert_exporter": "python",
   "pygments_lexer": "ipython3",
   "version": "3.8.3"
  }
 },
 "nbformat": 4,
 "nbformat_minor": 4
}
