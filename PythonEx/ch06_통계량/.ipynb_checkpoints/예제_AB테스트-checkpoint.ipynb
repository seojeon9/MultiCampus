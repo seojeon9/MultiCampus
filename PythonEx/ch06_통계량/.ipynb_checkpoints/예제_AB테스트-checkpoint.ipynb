{
 "cells": [
  {
   "cell_type": "code",
   "execution_count": 1,
   "metadata": {},
   "outputs": [],
   "source": [
    "import pandas as pd\n",
    "import numpy as np\n",
    "from scipy.stats import *"
   ]
  },
  {
   "cell_type": "markdown",
   "metadata": {},
   "source": [
    "### 1. 그래프 그릴때 일부 날짜만 표시하기\n",
    "- 일부 현황 확인"
   ]
  },
  {
   "cell_type": "code",
   "execution_count": 2,
   "metadata": {},
   "outputs": [],
   "source": [
    "df = pd.read_csv('./data/AB테스트/일별현황데이터.csv',encoding='cp949')"
   ]
  },
  {
   "cell_type": "code",
   "execution_count": 3,
   "metadata": {},
   "outputs": [
    {
     "name": "stdout",
     "output_type": "stream",
     "text": [
      "<class 'pandas.core.frame.DataFrame'>\n",
      "RangeIndex: 365 entries, 0 to 364\n",
      "Data columns (total 4 columns):\n",
      " #   Column   Non-Null Count  Dtype \n",
      "---  ------   --------------  ----- \n",
      " 0   구매자수     365 non-null    int64 \n",
      " 1   방문자수     365 non-null    int64 \n",
      " 2   일자       365 non-null    object\n",
      " 3   총 판매 금액  365 non-null    int64 \n",
      "dtypes: int64(3), object(1)\n",
      "memory usage: 11.5+ KB\n"
     ]
    }
   ],
   "source": [
    "df.info()"
   ]
  },
  {
   "cell_type": "code",
   "execution_count": 4,
   "metadata": {},
   "outputs": [
    {
     "data": {
      "text/plain": [
       "365"
      ]
     },
     "execution_count": 4,
     "metadata": {},
     "output_type": "execute_result"
    }
   ],
   "source": [
    "# 중복 날짜 확인\n",
    "len(set(df.일자))"
   ]
  },
  {
   "cell_type": "code",
   "execution_count": 5,
   "metadata": {},
   "outputs": [
    {
     "data": {
      "text/html": [
       "<div>\n",
       "<style scoped>\n",
       "    .dataframe tbody tr th:only-of-type {\n",
       "        vertical-align: middle;\n",
       "    }\n",
       "\n",
       "    .dataframe tbody tr th {\n",
       "        vertical-align: top;\n",
       "    }\n",
       "\n",
       "    .dataframe thead th {\n",
       "        text-align: right;\n",
       "    }\n",
       "</style>\n",
       "<table border=\"1\" class=\"dataframe\">\n",
       "  <thead>\n",
       "    <tr style=\"text-align: right;\">\n",
       "      <th></th>\n",
       "      <th>구매자수</th>\n",
       "      <th>방문자수</th>\n",
       "      <th>일자</th>\n",
       "      <th>총 판매 금액</th>\n",
       "    </tr>\n",
       "  </thead>\n",
       "  <tbody>\n",
       "    <tr>\n",
       "      <th>360</th>\n",
       "      <td>253</td>\n",
       "      <td>1515</td>\n",
       "      <td>2019-12-27</td>\n",
       "      <td>5337541</td>\n",
       "    </tr>\n",
       "    <tr>\n",
       "      <th>361</th>\n",
       "      <td>276</td>\n",
       "      <td>1519</td>\n",
       "      <td>2019-12-28</td>\n",
       "      <td>5326248</td>\n",
       "    </tr>\n",
       "    <tr>\n",
       "      <th>362</th>\n",
       "      <td>313</td>\n",
       "      <td>1414</td>\n",
       "      <td>2019-12-29</td>\n",
       "      <td>6392399</td>\n",
       "    </tr>\n",
       "    <tr>\n",
       "      <th>363</th>\n",
       "      <td>266</td>\n",
       "      <td>1556</td>\n",
       "      <td>2019-12-30</td>\n",
       "      <td>5401130</td>\n",
       "    </tr>\n",
       "    <tr>\n",
       "      <th>364</th>\n",
       "      <td>345</td>\n",
       "      <td>1474</td>\n",
       "      <td>2019-12-31</td>\n",
       "      <td>7358505</td>\n",
       "    </tr>\n",
       "  </tbody>\n",
       "</table>\n",
       "</div>"
      ],
      "text/plain": [
       "     구매자수  방문자수          일자  총 판매 금액\n",
       "360   253  1515  2019-12-27  5337541\n",
       "361   276  1519  2019-12-28  5326248\n",
       "362   313  1414  2019-12-29  6392399\n",
       "363   266  1556  2019-12-30  5401130\n",
       "364   345  1474  2019-12-31  7358505"
      ]
     },
     "execution_count": 5,
     "metadata": {},
     "output_type": "execute_result"
    }
   ],
   "source": [
    "df.head()\n",
    "df.tail()"
   ]
  },
  {
   "cell_type": "code",
   "execution_count": 6,
   "metadata": {},
   "outputs": [],
   "source": [
    "%matplotlib inline\n",
    "import matplotlib.pyplot as plt\n",
    "plt.rcParams['font.family'] = 'Malgun Gothic'\n",
    "plt.rcParams['font.size'] = 15\n",
    "plt.rcParams['figure.figsize'] = (20,5)"
   ]
  },
  {
   "cell_type": "code",
   "execution_count": 7,
   "metadata": {},
   "outputs": [
    {
     "data": {
      "text/plain": [
       "0      2019-01-01\n",
       "31     2019-02-01\n",
       "59     2019-03-01\n",
       "90     2019-04-01\n",
       "120    2019-05-01\n",
       "151    2019-06-01\n",
       "181    2019-07-01\n",
       "212    2019-08-01\n",
       "243    2019-09-01\n",
       "273    2019-10-01\n",
       "304    2019-11-01\n",
       "334    2019-12-01\n",
       "Name: 일자, dtype: object"
      ]
     },
     "execution_count": 7,
     "metadata": {},
     "output_type": "execute_result"
    }
   ],
   "source": [
    "# x축에 모든날짜가 ticks로 표식 - 구분이 어려움\n",
    "xticks_range = np.cumsum([0,31,28,31,30,31,30,31,31,30,31,30]) \n",
    "# 월별 일 수 누적 합산을 통한 매원1일의 인덱스 정의\n",
    "xticks_range\n",
    "xticks_label = df['일자'].loc[xticks_range]\n",
    "xticks_label"
   ]
  },
  {
   "cell_type": "code",
   "execution_count": 8,
   "metadata": {},
   "outputs": [
    {
     "data": {
      "text/plain": [
       "([<matplotlib.axis.XTick at 0x22ba0509490>,\n",
       "  <matplotlib.axis.XTick at 0x22ba0509460>,\n",
       "  <matplotlib.axis.XTick at 0x22ba0503820>,\n",
       "  <matplotlib.axis.XTick at 0x22ba0bfa2e0>,\n",
       "  <matplotlib.axis.XTick at 0x22ba0bfa7f0>,\n",
       "  <matplotlib.axis.XTick at 0x22ba0bfad00>,\n",
       "  <matplotlib.axis.XTick at 0x22ba0bfe250>,\n",
       "  <matplotlib.axis.XTick at 0x22ba0bfe760>,\n",
       "  <matplotlib.axis.XTick at 0x22ba0bfec70>,\n",
       "  <matplotlib.axis.XTick at 0x22ba0bfe880>,\n",
       "  <matplotlib.axis.XTick at 0x22ba0bfa910>,\n",
       "  <matplotlib.axis.XTick at 0x22ba0c031c0>],\n",
       " [Text(0, 0, '2019-01-01'),\n",
       "  Text(0, 0, '2019-02-01'),\n",
       "  Text(0, 0, '2019-03-01'),\n",
       "  Text(0, 0, '2019-04-01'),\n",
       "  Text(0, 0, '2019-05-01'),\n",
       "  Text(0, 0, '2019-06-01'),\n",
       "  Text(0, 0, '2019-07-01'),\n",
       "  Text(0, 0, '2019-08-01'),\n",
       "  Text(0, 0, '2019-09-01'),\n",
       "  Text(0, 0, '2019-10-01'),\n",
       "  Text(0, 0, '2019-11-01'),\n",
       "  Text(0, 0, '2019-12-01')])"
      ]
     },
     "execution_count": 8,
     "metadata": {},
     "output_type": "execute_result"
    },
    {
     "data": {
      "image/png": "[encoded data removed]",
      "text/plain": [
       "<Figure size 1440x360 with 1 Axes>"
      ]
     },
     "metadata": {
      "needs_background": "light"
     },
     "output_type": "display_data"
    }
   ],
   "source": [
    "# 2019년 일별 구매자수 현황\n",
    "plt.plot(df['일자'],df['구매자수'])\n",
    "plt.xticks(xticks_range,xticks_label)"
   ]
  },
  {
   "cell_type": "code",
   "execution_count": 9,
   "metadata": {},
   "outputs": [
    {
     "data": {
      "text/plain": [
       "([<matplotlib.axis.XTick at 0x22ba0e85b20>,\n",
       "  <matplotlib.axis.XTick at 0x22ba0e85af0>,\n",
       "  <matplotlib.axis.XTick at 0x22ba0e7eeb0>,\n",
       "  <matplotlib.axis.XTick at 0x22ba0c648b0>,\n",
       "  <matplotlib.axis.XTick at 0x22ba0c64dc0>,\n",
       "  <matplotlib.axis.XTick at 0x22ba0c6e310>,\n",
       "  <matplotlib.axis.XTick at 0x22ba0c6e820>,\n",
       "  <matplotlib.axis.XTick at 0x22ba0c64940>,\n",
       "  <matplotlib.axis.XTick at 0x22ba0c6e520>,\n",
       "  <matplotlib.axis.XTick at 0x22ba0c750d0>,\n",
       "  <matplotlib.axis.XTick at 0x22ba0c755e0>,\n",
       "  <matplotlib.axis.XTick at 0x22ba0c75af0>],\n",
       " [Text(0, 0, '2019-01-01'),\n",
       "  Text(0, 0, '2019-02-01'),\n",
       "  Text(0, 0, '2019-03-01'),\n",
       "  Text(0, 0, '2019-04-01'),\n",
       "  Text(0, 0, '2019-05-01'),\n",
       "  Text(0, 0, '2019-06-01'),\n",
       "  Text(0, 0, '2019-07-01'),\n",
       "  Text(0, 0, '2019-08-01'),\n",
       "  Text(0, 0, '2019-09-01'),\n",
       "  Text(0, 0, '2019-10-01'),\n",
       "  Text(0, 0, '2019-11-01'),\n",
       "  Text(0, 0, '2019-12-01')])"
      ]
     },
     "execution_count": 9,
     "metadata": {},
     "output_type": "execute_result"
    },
    {
     "data": {
      "image/png": "[encoded data removed]",
      "text/plain": [
       "<Figure size 1440x360 with 1 Axes>"
      ]
     },
     "metadata": {
      "needs_background": "light"
     },
     "output_type": "display_data"
    }
   ],
   "source": [
    "# 2019년 일별 방문자수 현황\n",
    "plt.plot(df['일자'],df['방문자수'])\n",
    "plt.xticks(xticks_range,xticks_label)"
   ]
  },
  {
   "cell_type": "code",
   "execution_count": 10,
   "metadata": {},
   "outputs": [
    {
     "data": {
      "text/plain": [
       "([<matplotlib.axis.XTick at 0x22ba0ca6370>,\n",
       "  <matplotlib.axis.XTick at 0x22ba0ca6340>,\n",
       "  <matplotlib.axis.XTick at 0x22ba0c9f4c0>,\n",
       "  <matplotlib.axis.XTick at 0x22ba1000f10>,\n",
       "  <matplotlib.axis.XTick at 0x22ba101b460>,\n",
       "  <matplotlib.axis.XTick at 0x22ba101b970>,\n",
       "  <matplotlib.axis.XTick at 0x22ba101be80>,\n",
       "  <matplotlib.axis.XTick at 0x22ba10203d0>,\n",
       "  <matplotlib.axis.XTick at 0x22ba101b5b0>,\n",
       "  <matplotlib.axis.XTick at 0x22ba1020700>,\n",
       "  <matplotlib.axis.XTick at 0x22ba1020a90>,\n",
       "  <matplotlib.axis.XTick at 0x22ba1020fa0>],\n",
       " [Text(0, 0, '2019-01-01'),\n",
       "  Text(0, 0, '2019-02-01'),\n",
       "  Text(0, 0, '2019-03-01'),\n",
       "  Text(0, 0, '2019-04-01'),\n",
       "  Text(0, 0, '2019-05-01'),\n",
       "  Text(0, 0, '2019-06-01'),\n",
       "  Text(0, 0, '2019-07-01'),\n",
       "  Text(0, 0, '2019-08-01'),\n",
       "  Text(0, 0, '2019-09-01'),\n",
       "  Text(0, 0, '2019-10-01'),\n",
       "  Text(0, 0, '2019-11-01'),\n",
       "  Text(0, 0, '2019-12-01')])"
      ]
     },
     "execution_count": 10,
     "metadata": {},
     "output_type": "execute_result"
    },
    {
     "data": {
      "image/png": "[encoded data removed]",
      "text/plain": [
       "<Figure size 1440x360 with 1 Axes>"
      ]
     },
     "metadata": {
      "needs_background": "light"
     },
     "output_type": "display_data"
    }
   ],
   "source": [
    "plt.plot(df['일자'],df['총 판매 금액'])\n",
    "plt.xticks(xticks_range,xticks_label)"
   ]
  },
  {
   "cell_type": "markdown",
   "metadata": {},
   "source": [
    "**상품배치와 구매금액에 따른 관계 분석**\n",
    "- 서로 다른 고객군에게 노출 했음"
   ]
  },
  {
   "cell_type": "code",
   "execution_count": 11,
   "metadata": {},
   "outputs": [
    {
     "data": {
      "text/html": [
       "<div>\n",
       "<style scoped>\n",
       "    .dataframe tbody tr th:only-of-type {\n",
       "        vertical-align: middle;\n",
       "    }\n",
       "\n",
       "    .dataframe tbody tr th {\n",
       "        vertical-align: top;\n",
       "    }\n",
       "\n",
       "    .dataframe thead th {\n",
       "        text-align: right;\n",
       "    }\n",
       "</style>\n",
       "<table border=\"1\" class=\"dataframe\">\n",
       "  <thead>\n",
       "    <tr style=\"text-align: right;\">\n",
       "      <th></th>\n",
       "      <th>구매금액</th>\n",
       "    </tr>\n",
       "    <tr>\n",
       "      <th>고객ID</th>\n",
       "      <th></th>\n",
       "    </tr>\n",
       "  </thead>\n",
       "  <tbody>\n",
       "    <tr>\n",
       "      <th>C-1</th>\n",
       "      <td>20459</td>\n",
       "    </tr>\n",
       "    <tr>\n",
       "      <th>C-2</th>\n",
       "      <td>0</td>\n",
       "    </tr>\n",
       "    <tr>\n",
       "      <th>C-3</th>\n",
       "      <td>19726</td>\n",
       "    </tr>\n",
       "    <tr>\n",
       "      <th>C-4</th>\n",
       "      <td>0</td>\n",
       "    </tr>\n",
       "    <tr>\n",
       "      <th>C-5</th>\n",
       "      <td>19049</td>\n",
       "    </tr>\n",
       "  </tbody>\n",
       "</table>\n",
       "</div>"
      ],
      "text/plain": [
       "       구매금액\n",
       "고객ID       \n",
       "C-1   20459\n",
       "C-2       0\n",
       "C-3   19726\n",
       "C-4       0\n",
       "C-5   19049"
      ]
     },
     "execution_count": 11,
     "metadata": {},
     "output_type": "execute_result"
    }
   ],
   "source": [
    "placement_A = pd.read_csv('./data/AB테스트/상품배치_A.csv',encoding='cp949', index_col='고객ID')\n",
    "placement_A.head()"
   ]
  },
  {
   "cell_type": "code",
   "execution_count": 12,
   "metadata": {},
   "outputs": [
    {
     "data": {
      "text/html": [
       "<div>\n",
       "<style scoped>\n",
       "    .dataframe tbody tr th:only-of-type {\n",
       "        vertical-align: middle;\n",
       "    }\n",
       "\n",
       "    .dataframe tbody tr th {\n",
       "        vertical-align: top;\n",
       "    }\n",
       "\n",
       "    .dataframe thead th {\n",
       "        text-align: right;\n",
       "    }\n",
       "</style>\n",
       "<table border=\"1\" class=\"dataframe\">\n",
       "  <thead>\n",
       "    <tr style=\"text-align: right;\">\n",
       "      <th></th>\n",
       "      <th>구매금액</th>\n",
       "    </tr>\n",
       "    <tr>\n",
       "      <th>고객ID</th>\n",
       "      <th></th>\n",
       "    </tr>\n",
       "  </thead>\n",
       "  <tbody>\n",
       "    <tr>\n",
       "      <th>C-200</th>\n",
       "      <td>0</td>\n",
       "    </tr>\n",
       "    <tr>\n",
       "      <th>C-201</th>\n",
       "      <td>0</td>\n",
       "    </tr>\n",
       "    <tr>\n",
       "      <th>C-202</th>\n",
       "      <td>0</td>\n",
       "    </tr>\n",
       "    <tr>\n",
       "      <th>C-203</th>\n",
       "      <td>19055</td>\n",
       "    </tr>\n",
       "    <tr>\n",
       "      <th>C-204</th>\n",
       "      <td>0</td>\n",
       "    </tr>\n",
       "  </tbody>\n",
       "</table>\n",
       "</div>"
      ],
      "text/plain": [
       "        구매금액\n",
       "고객ID        \n",
       "C-200      0\n",
       "C-201      0\n",
       "C-202      0\n",
       "C-203  19055\n",
       "C-204      0"
      ]
     },
     "execution_count": 12,
     "metadata": {},
     "output_type": "execute_result"
    }
   ],
   "source": [
    "placement_B = pd.read_csv('./data/AB테스트/상품배치_B.csv',encoding='cp949', index_col='고객ID')\n",
    "placement_B.head()"
   ]
  },
  {
   "cell_type": "code",
   "execution_count": 13,
   "metadata": {},
   "outputs": [
    {
     "data": {
      "text/html": [
       "<div>\n",
       "<style scoped>\n",
       "    .dataframe tbody tr th:only-of-type {\n",
       "        vertical-align: middle;\n",
       "    }\n",
       "\n",
       "    .dataframe tbody tr th {\n",
       "        vertical-align: top;\n",
       "    }\n",
       "\n",
       "    .dataframe thead th {\n",
       "        text-align: right;\n",
       "    }\n",
       "</style>\n",
       "<table border=\"1\" class=\"dataframe\">\n",
       "  <thead>\n",
       "    <tr style=\"text-align: right;\">\n",
       "      <th></th>\n",
       "      <th>구매금액</th>\n",
       "    </tr>\n",
       "    <tr>\n",
       "      <th>고객ID</th>\n",
       "      <th></th>\n",
       "    </tr>\n",
       "  </thead>\n",
       "  <tbody>\n",
       "    <tr>\n",
       "      <th>C-360</th>\n",
       "      <td>0</td>\n",
       "    </tr>\n",
       "    <tr>\n",
       "      <th>C-361</th>\n",
       "      <td>19844</td>\n",
       "    </tr>\n",
       "    <tr>\n",
       "      <th>C-362</th>\n",
       "      <td>19085</td>\n",
       "    </tr>\n",
       "    <tr>\n",
       "      <th>C-363</th>\n",
       "      <td>0</td>\n",
       "    </tr>\n",
       "    <tr>\n",
       "      <th>C-364</th>\n",
       "      <td>19671</td>\n",
       "    </tr>\n",
       "  </tbody>\n",
       "</table>\n",
       "</div>"
      ],
      "text/plain": [
       "        구매금액\n",
       "고객ID        \n",
       "C-360      0\n",
       "C-361  19844\n",
       "C-362  19085\n",
       "C-363      0\n",
       "C-364  19671"
      ]
     },
     "execution_count": 13,
     "metadata": {},
     "output_type": "execute_result"
    }
   ],
   "source": [
    "placement_C = pd.read_csv('./data/AB테스트/상품배치_C.csv',encoding='cp949', index_col='고객ID')\n",
    "placement_C.head()"
   ]
  },
  {
   "cell_type": "code",
   "execution_count": 14,
   "metadata": {},
   "outputs": [
    {
     "name": "stdout",
     "output_type": "stream",
     "text": [
      "<class 'pandas.core.frame.DataFrame'>\n",
      "Index: 198 entries, C-1 to C-198\n",
      "Data columns (total 1 columns):\n",
      " #   Column  Non-Null Count  Dtype\n",
      "---  ------  --------------  -----\n",
      " 0   구매금액    198 non-null    int64\n",
      "dtypes: int64(1)\n",
      "memory usage: 3.1+ KB\n",
      "<class 'pandas.core.frame.DataFrame'>\n",
      "Index: 160 entries, C-200 to C-359\n",
      "Data columns (total 1 columns):\n",
      " #   Column  Non-Null Count  Dtype\n",
      "---  ------  --------------  -----\n",
      " 0   구매금액    160 non-null    int64\n",
      "dtypes: int64(1)\n",
      "memory usage: 2.5+ KB\n",
      "<class 'pandas.core.frame.DataFrame'>\n",
      "Index: 148 entries, C-360 to C-507\n",
      "Data columns (total 1 columns):\n",
      " #   Column  Non-Null Count  Dtype\n",
      "---  ------  --------------  -----\n",
      " 0   구매금액    148 non-null    int64\n",
      "dtypes: int64(1)\n",
      "memory usage: 2.3+ KB\n"
     ]
    }
   ],
   "source": [
    "placement_A.info()\n",
    "placement_B.info()\n",
    "placement_C.info()"
   ]
  },
  {
   "cell_type": "markdown",
   "metadata": {},
   "source": [
    "- 구매 금액이 0인 고객을 제외하고 분석"
   ]
  },
  {
   "cell_type": "code",
   "execution_count": 15,
   "metadata": {},
   "outputs": [],
   "source": [
    "zero_A = placement_A.loc[placement_A['구매금액']!=0]['구매금액'].values\n",
    "zero_B = placement_B.loc[placement_B['구매금액']!=0]['구매금액'].values\n",
    "zero_C = placement_C.loc[placement_C['구매금액']!=0]['구매금액'].values"
   ]
  },
  {
   "cell_type": "code",
   "execution_count": 16,
   "metadata": {},
   "outputs": [
    {
     "data": {
      "text/plain": [
       "array([19844, 19085, 19671, 20429, 20855, 20554, 20541, 19774, 21641,\n",
       "       22352, 20783, 21120, 17282, 19011, 20839, 18950, 19249, 19701,\n",
       "       19686, 20294, 18794, 19354, 20332, 20152, 19702, 20273, 20129,\n",
       "       21526, 19507, 21706, 19083, 20380, 20212, 19578, 20621, 20518,\n",
       "       20727, 20664, 20611, 18169, 21284, 20814, 20773, 21456, 20694,\n",
       "       17275, 20105, 20027, 17400, 20658, 19174, 20398, 18149, 18885,\n",
       "       19733, 19350, 20463, 21519, 21363], dtype=int64)"
      ]
     },
     "execution_count": 16,
     "metadata": {},
     "output_type": "execute_result"
    }
   ],
   "source": [
    "zero_A\n",
    "zero_B\n",
    "zero_C"
   ]
  },
  {
   "cell_type": "markdown",
   "metadata": {},
   "source": [
    "**세개의 그룹이므로 그룹간 차이 확인은 ANOVA 검정-일원분산분석으로 진행**"
   ]
  },
  {
   "cell_type": "code",
   "execution_count": 17,
   "metadata": {},
   "outputs": [
    {
     "name": "stdout",
     "output_type": "stream",
     "text": [
      "ShapiroResult(statistic=0.9873660802841187, pvalue=0.4481019377708435)\n",
      "ShapiroResult(statistic=0.988836944103241, pvalue=0.8066813945770264)\n",
      "ShapiroResult(statistic=0.9611336588859558, pvalue=0.05686437711119652)\n"
     ]
    }
   ],
   "source": [
    "# 정규성 검정 - 유의수준(0.05)보다 높게 나왔으니 정규성 만족\n",
    "print(shapiro(zero_A))\n",
    "print(shapiro(zero_B))\n",
    "print(shapiro(zero_C))"
   ]
  },
  {
   "cell_type": "code",
   "execution_count": 18,
   "metadata": {},
   "outputs": [
    {
     "data": {
      "text/plain": [
       "LeveneResult(statistic=0.012659999227426385, pvalue=0.9874205016592401)"
      ]
     },
     "execution_count": 18,
     "metadata": {},
     "output_type": "execute_result"
    }
   ],
   "source": [
    "# 등분산 검정 - 1에 가까운 수가 나왔으므로 등분산성 만족\n",
    "levene(zero_A,zero_B,zero_C)"
   ]
  },
  {
   "cell_type": "code",
   "execution_count": 19,
   "metadata": {},
   "outputs": [
    {
     "data": {
      "text/plain": [
       "F_onewayResult(statistic=76.88192392994758, pvalue=3.382319770772329e-26)"
      ]
     },
     "execution_count": 19,
     "metadata": {},
     "output_type": "execute_result"
    }
   ],
   "source": [
    "# 위 두개의 선행분석을 만족 -> 일원분산분석\n",
    "f_oneway(zero_A,zero_B,zero_C) # p-value가 거의 0\n",
    "# -> 집단 A,B,C의 평균은 유의한 차이가 존재"
   ]
  },
  {
   "cell_type": "code",
   "execution_count": 20,
   "metadata": {},
   "outputs": [],
   "source": [
    "from statsmodels.stats.multicomp import pairwise_tukeyhsd"
   ]
  },
  {
   "cell_type": "code",
   "execution_count": 21,
   "metadata": {},
   "outputs": [],
   "source": [
    "## 일원분산 분석의 결과가 유의한 차이 - 사후분석 진행"
   ]
  },
  {
   "cell_type": "code",
   "execution_count": 22,
   "metadata": {},
   "outputs": [
    {
     "data": {
      "text/plain": [
       "(229, 229)"
      ]
     },
     "execution_count": 22,
     "metadata": {},
     "output_type": "execute_result"
    }
   ],
   "source": [
    "g_label = ['A']*len(zero_A) + ['B']*len(zero_B) + ['C']*len(zero_C)\n",
    "g_data = zero_A.tolist() + zero_B.tolist() + zero_C.tolist()\n",
    "len(g_label), len(g_data)"
   ]
  },
  {
   "cell_type": "code",
   "execution_count": 23,
   "metadata": {},
   "outputs": [
    {
     "name": "stdout",
     "output_type": "stream",
     "text": [
      "    Multiple Comparison of Means - Tukey HSD, FWER=0.05    \n",
      "===========================================================\n",
      "group1 group2  meandiff  p-adj   lower      upper    reject\n",
      "-----------------------------------------------------------\n",
      "     A      B -1883.1765 0.001 -2276.2766 -1490.0763   True\n",
      "     A      C    66.7946   0.9  -343.9011   477.4903  False\n",
      "     B      C  1949.9711 0.001  1503.2312  2396.7109   True\n",
      "-----------------------------------------------------------\n"
     ]
    }
   ],
   "source": [
    "print(pairwise_tukeyhsd(g_data,g_label))\n",
    "# (A,C) ~ B"
   ]
  },
  {
   "cell_type": "markdown",
   "metadata": {},
   "source": [
    " **구매금액 0원을 포함해서 분석**"
   ]
  },
  {
   "cell_type": "code",
   "execution_count": 24,
   "metadata": {},
   "outputs": [
    {
     "name": "stdout",
     "output_type": "stream",
     "text": [
      "ShapiroResult(statistic=0.682793378829956, pvalue=4.386357325621827e-19)\n",
      "ShapiroResult(statistic=0.6676486730575562, pvalue=1.5833057487432602e-17)\n",
      "ShapiroResult(statistic=0.6531034708023071, pvalue=3.3714733640971184e-17)\n"
     ]
    }
   ],
   "source": [
    "# 각 데이터가 정규분포를 따르지 않으므로 비모수적인 방법\n",
    "print(shapiro(placement_A['구매금액']))\n",
    "print(shapiro(placement_B['구매금액']))\n",
    "print(shapiro(placement_C['구매금액']))"
   ]
  },
  {
   "cell_type": "code",
   "execution_count": 25,
   "metadata": {},
   "outputs": [
    {
     "data": {
      "text/plain": [
       "LeveneResult(statistic=2.8293955607060832, pvalue=0.05998873624115593)"
      ]
     },
     "execution_count": 25,
     "metadata": {},
     "output_type": "execute_result"
    }
   ],
   "source": [
    "# 등분산성 검정 - pvalue가 0.05초과하므로 등분산성 만족\n",
    "levene(placement_A['구매금액'],placement_B['구매금액'],placement_C['구매금액'])"
   ]
  },
  {
   "cell_type": "markdown",
   "metadata": {},
   "source": [
    "- 비모수적방법\n",
    "    - 관측값이 어느 특정한 확률분포를 따른다고 전제할 수 없거나 또는 모집단에 대한 아무런 정보가 없는 경우에 실시하는 검정방법으로 모수에 대한 언급이 없으며 분포무관 방법이라도고 한다"
   ]
  },
  {
   "cell_type": "code",
   "execution_count": 26,
   "metadata": {},
   "outputs": [
    {
     "name": "stdout",
     "output_type": "stream",
     "text": [
      "KruskalResult(statistic=19.713898300439208, pvalue=5.238191550170163e-05)\n"
     ]
    }
   ],
   "source": [
    "# 정규성을 만족하지 않으므로 비모수적방법인 Kruskal-Wallis Test 진행\n",
    "# p-value가 0.05보다 낮으므로 세 집단간에는 유의한 차이가 존재\n",
    "print(kruskal(placement_A['구매금액'],placement_B['구매금액'],placement_C['구매금액']))"
   ]
  },
  {
   "cell_type": "code",
   "execution_count": 27,
   "metadata": {},
   "outputs": [
    {
     "name": "stdout",
     "output_type": "stream",
     "text": [
      "    Multiple Comparison of Means - Tukey HSD, FWER=0.05    \n",
      "===========================================================\n",
      "group1 group2  meandiff  p-adj    lower      upper   reject\n",
      "-----------------------------------------------------------\n",
      "     A      B -2602.2773 0.0314 -5020.3977 -184.1568   True\n",
      "     A      C -2302.0043 0.0741 -4773.7489  169.7403  False\n",
      "     B      C    300.273    0.9 -2293.9871  2894.533  False\n",
      "-----------------------------------------------------------\n"
     ]
    }
   ],
   "source": [
    "# 사후분석\n",
    "from statsmodels.stats.multicomp import pairwise_tukeyhsd\n",
    "Group = ['A']*len(placement_A) + ['B']*len(placement_B) + ['C']*len(placement_C)\n",
    "Data = placement_A['구매금액'].tolist() + placement_B['구매금액'].tolist() + placement_C['구매금액'].tolist()\n",
    "\n",
    "print(pairwise_tukeyhsd(Data,Group))\n",
    "\n",
    "# A ~ (B,C) 관계임을 어느정도 예상 - 그룹을 묶기가 힘들다"
   ]
  },
  {
   "cell_type": "markdown",
   "metadata": {},
   "source": [
    "**구매 여부와 상품배치 간 관계 파악**"
   ]
  },
  {
   "cell_type": "code",
   "execution_count": 28,
   "metadata": {},
   "outputs": [
    {
     "data": {
      "text/html": [
       "<div>\n",
       "<style scoped>\n",
       "    .dataframe tbody tr th:only-of-type {\n",
       "        vertical-align: middle;\n",
       "    }\n",
       "\n",
       "    .dataframe tbody tr th {\n",
       "        vertical-align: top;\n",
       "    }\n",
       "\n",
       "    .dataframe thead th {\n",
       "        text-align: right;\n",
       "    }\n",
       "</style>\n",
       "<table border=\"1\" class=\"dataframe\">\n",
       "  <thead>\n",
       "    <tr style=\"text-align: right;\">\n",
       "      <th></th>\n",
       "      <th>구매금액</th>\n",
       "      <th>상품배치</th>\n",
       "    </tr>\n",
       "    <tr>\n",
       "      <th>고객ID</th>\n",
       "      <th></th>\n",
       "      <th></th>\n",
       "    </tr>\n",
       "  </thead>\n",
       "  <tbody>\n",
       "    <tr>\n",
       "      <th>C-360</th>\n",
       "      <td>0</td>\n",
       "      <td>C</td>\n",
       "    </tr>\n",
       "    <tr>\n",
       "      <th>C-361</th>\n",
       "      <td>19844</td>\n",
       "      <td>C</td>\n",
       "    </tr>\n",
       "    <tr>\n",
       "      <th>C-362</th>\n",
       "      <td>19085</td>\n",
       "      <td>C</td>\n",
       "    </tr>\n",
       "    <tr>\n",
       "      <th>C-363</th>\n",
       "      <td>0</td>\n",
       "      <td>C</td>\n",
       "    </tr>\n",
       "    <tr>\n",
       "      <th>C-364</th>\n",
       "      <td>19671</td>\n",
       "      <td>C</td>\n",
       "    </tr>\n",
       "    <tr>\n",
       "      <th>...</th>\n",
       "      <td>...</td>\n",
       "      <td>...</td>\n",
       "    </tr>\n",
       "    <tr>\n",
       "      <th>C-503</th>\n",
       "      <td>0</td>\n",
       "      <td>C</td>\n",
       "    </tr>\n",
       "    <tr>\n",
       "      <th>C-504</th>\n",
       "      <td>0</td>\n",
       "      <td>C</td>\n",
       "    </tr>\n",
       "    <tr>\n",
       "      <th>C-505</th>\n",
       "      <td>0</td>\n",
       "      <td>C</td>\n",
       "    </tr>\n",
       "    <tr>\n",
       "      <th>C-506</th>\n",
       "      <td>21363</td>\n",
       "      <td>C</td>\n",
       "    </tr>\n",
       "    <tr>\n",
       "      <th>C-507</th>\n",
       "      <td>0</td>\n",
       "      <td>C</td>\n",
       "    </tr>\n",
       "  </tbody>\n",
       "</table>\n",
       "<p>148 rows × 2 columns</p>\n",
       "</div>"
      ],
      "text/plain": [
       "        구매금액 상품배치\n",
       "고객ID             \n",
       "C-360      0    C\n",
       "C-361  19844    C\n",
       "C-362  19085    C\n",
       "C-363      0    C\n",
       "C-364  19671    C\n",
       "...      ...  ...\n",
       "C-503      0    C\n",
       "C-504      0    C\n",
       "C-505      0    C\n",
       "C-506  21363    C\n",
       "C-507      0    C\n",
       "\n",
       "[148 rows x 2 columns]"
      ]
     },
     "execution_count": 28,
     "metadata": {},
     "output_type": "execute_result"
    }
   ],
   "source": [
    "placement_A['상품배치'] = 'A'\n",
    "placement_A\n",
    "placement_B['상품배치'] = 'B'\n",
    "placement_B\n",
    "placement_C['상품배치'] = 'C'\n",
    "placement_C"
   ]
  },
  {
   "cell_type": "code",
   "execution_count": 29,
   "metadata": {},
   "outputs": [
    {
     "data": {
      "text/html": [
       "<div>\n",
       "<style scoped>\n",
       "    .dataframe tbody tr th:only-of-type {\n",
       "        vertical-align: middle;\n",
       "    }\n",
       "\n",
       "    .dataframe tbody tr th {\n",
       "        vertical-align: top;\n",
       "    }\n",
       "\n",
       "    .dataframe thead th {\n",
       "        text-align: right;\n",
       "    }\n",
       "</style>\n",
       "<table border=\"1\" class=\"dataframe\">\n",
       "  <thead>\n",
       "    <tr style=\"text-align: right;\">\n",
       "      <th></th>\n",
       "      <th>구매금액</th>\n",
       "      <th>상품배치</th>\n",
       "    </tr>\n",
       "    <tr>\n",
       "      <th>고객ID</th>\n",
       "      <th></th>\n",
       "      <th></th>\n",
       "    </tr>\n",
       "  </thead>\n",
       "  <tbody>\n",
       "    <tr>\n",
       "      <th>C-503</th>\n",
       "      <td>0</td>\n",
       "      <td>C</td>\n",
       "    </tr>\n",
       "    <tr>\n",
       "      <th>C-504</th>\n",
       "      <td>0</td>\n",
       "      <td>C</td>\n",
       "    </tr>\n",
       "    <tr>\n",
       "      <th>C-505</th>\n",
       "      <td>0</td>\n",
       "      <td>C</td>\n",
       "    </tr>\n",
       "    <tr>\n",
       "      <th>C-506</th>\n",
       "      <td>21363</td>\n",
       "      <td>C</td>\n",
       "    </tr>\n",
       "    <tr>\n",
       "      <th>C-507</th>\n",
       "      <td>0</td>\n",
       "      <td>C</td>\n",
       "    </tr>\n",
       "  </tbody>\n",
       "</table>\n",
       "</div>"
      ],
      "text/plain": [
       "        구매금액 상품배치\n",
       "고객ID             \n",
       "C-503      0    C\n",
       "C-504      0    C\n",
       "C-505      0    C\n",
       "C-506  21363    C\n",
       "C-507      0    C"
      ]
     },
     "execution_count": 29,
     "metadata": {},
     "output_type": "execute_result"
    }
   ],
   "source": [
    "placement = pd.concat([placement_A,placement_B,placement_C], axis = 0, ignore_index=False) # ignore_index=False 기존인덱스 사용해라\n",
    "placement.head()\n",
    "placement.tail()"
   ]
  },
  {
   "cell_type": "code",
   "execution_count": 30,
   "metadata": {},
   "outputs": [],
   "source": [
    "# 구매여부 컬럼 추가\n",
    "placement['구매여부']=(placement['구매금액'] != 0).astype(int)"
   ]
  },
  {
   "cell_type": "code",
   "execution_count": 31,
   "metadata": {},
   "outputs": [
    {
     "data": {
      "text/html": [
       "<div>\n",
       "<style scoped>\n",
       "    .dataframe tbody tr th:only-of-type {\n",
       "        vertical-align: middle;\n",
       "    }\n",
       "\n",
       "    .dataframe tbody tr th {\n",
       "        vertical-align: top;\n",
       "    }\n",
       "\n",
       "    .dataframe thead th {\n",
       "        text-align: right;\n",
       "    }\n",
       "</style>\n",
       "<table border=\"1\" class=\"dataframe\">\n",
       "  <thead>\n",
       "    <tr style=\"text-align: right;\">\n",
       "      <th></th>\n",
       "      <th>구매금액</th>\n",
       "      <th>상품배치</th>\n",
       "      <th>구매여부</th>\n",
       "    </tr>\n",
       "    <tr>\n",
       "      <th>고객ID</th>\n",
       "      <th></th>\n",
       "      <th></th>\n",
       "      <th></th>\n",
       "    </tr>\n",
       "  </thead>\n",
       "  <tbody>\n",
       "    <tr>\n",
       "      <th>C-1</th>\n",
       "      <td>20459</td>\n",
       "      <td>A</td>\n",
       "      <td>1</td>\n",
       "    </tr>\n",
       "    <tr>\n",
       "      <th>C-2</th>\n",
       "      <td>0</td>\n",
       "      <td>A</td>\n",
       "      <td>0</td>\n",
       "    </tr>\n",
       "    <tr>\n",
       "      <th>C-3</th>\n",
       "      <td>19726</td>\n",
       "      <td>A</td>\n",
       "      <td>1</td>\n",
       "    </tr>\n",
       "    <tr>\n",
       "      <th>C-4</th>\n",
       "      <td>0</td>\n",
       "      <td>A</td>\n",
       "      <td>0</td>\n",
       "    </tr>\n",
       "    <tr>\n",
       "      <th>C-5</th>\n",
       "      <td>19049</td>\n",
       "      <td>A</td>\n",
       "      <td>1</td>\n",
       "    </tr>\n",
       "  </tbody>\n",
       "</table>\n",
       "</div>"
      ],
      "text/plain": [
       "       구매금액 상품배치  구매여부\n",
       "고객ID                  \n",
       "C-1   20459    A     1\n",
       "C-2       0    A     0\n",
       "C-3   19726    A     1\n",
       "C-4       0    A     0\n",
       "C-5   19049    A     1"
      ]
     },
     "execution_count": 31,
     "metadata": {},
     "output_type": "execute_result"
    }
   ],
   "source": [
    "placement.head()"
   ]
  },
  {
   "cell_type": "markdown",
   "metadata": {},
   "source": [
    "### 상품배치와 구매여부간의 관계\n",
    "- 범주형 변수이므로 두 변수간의 독립성 검정 - 카이제곱\n",
    "- 귀무가설 : 두 변수는 독립적이다\n",
    "- 대립가설 : 두 변수는 종속적이다"
   ]
  },
  {
   "cell_type": "code",
   "execution_count": 32,
   "metadata": {},
   "outputs": [
    {
     "data": {
      "text/html": [
       "<div>\n",
       "<style scoped>\n",
       "    .dataframe tbody tr th:only-of-type {\n",
       "        vertical-align: middle;\n",
       "    }\n",
       "\n",
       "    .dataframe tbody tr th {\n",
       "        vertical-align: top;\n",
       "    }\n",
       "\n",
       "    .dataframe thead th {\n",
       "        text-align: right;\n",
       "    }\n",
       "</style>\n",
       "<table border=\"1\" class=\"dataframe\">\n",
       "  <thead>\n",
       "    <tr style=\"text-align: right;\">\n",
       "      <th>구매여부</th>\n",
       "      <th>0</th>\n",
       "      <th>1</th>\n",
       "    </tr>\n",
       "    <tr>\n",
       "      <th>상품배치</th>\n",
       "      <th></th>\n",
       "      <th></th>\n",
       "    </tr>\n",
       "  </thead>\n",
       "  <tbody>\n",
       "    <tr>\n",
       "      <th>A</th>\n",
       "      <td>96</td>\n",
       "      <td>102</td>\n",
       "    </tr>\n",
       "    <tr>\n",
       "      <th>B</th>\n",
       "      <td>92</td>\n",
       "      <td>68</td>\n",
       "    </tr>\n",
       "    <tr>\n",
       "      <th>C</th>\n",
       "      <td>89</td>\n",
       "      <td>59</td>\n",
       "    </tr>\n",
       "  </tbody>\n",
       "</table>\n",
       "</div>"
      ],
      "text/plain": [
       "구매여부   0    1\n",
       "상품배치         \n",
       "A     96  102\n",
       "B     92   68\n",
       "C     89   59"
      ]
     },
     "execution_count": 32,
     "metadata": {},
     "output_type": "execute_result"
    }
   ],
   "source": [
    "# 교차 테이블 생성\n",
    "cross_table = pd.crosstab(placement['상품배치'],placement['구매여부'])\n",
    "cross_table"
   ]
  },
  {
   "cell_type": "code",
   "execution_count": 33,
   "metadata": {},
   "outputs": [],
   "source": [
    "obs = cross_table.values\n",
    "stat,p,dof,exp = chi2_contingency(obs,correction=False)"
   ]
  },
  {
   "cell_type": "code",
   "execution_count": 34,
   "metadata": {},
   "outputs": [
    {
     "data": {
      "text/plain": [
       "0.0686402428247769"
      ]
     },
     "execution_count": 34,
     "metadata": {},
     "output_type": "execute_result"
    }
   ],
   "source": [
    "p\n",
    "# pvalue가 0.06으로 구매여부와 상품배치는 유의미한 관계가 있다고 보기 어렵다.\n",
    "# 상품 B와 C의 차이가 크지 않아서 유의미한 관계가 없다고 나왔을 가능성이 크다"
   ]
  },
  {
   "cell_type": "code",
   "execution_count": 35,
   "metadata": {},
   "outputs": [
    {
     "data": {
      "text/html": [
       "<div>\n",
       "<style scoped>\n",
       "    .dataframe tbody tr th:only-of-type {\n",
       "        vertical-align: middle;\n",
       "    }\n",
       "\n",
       "    .dataframe tbody tr th {\n",
       "        vertical-align: top;\n",
       "    }\n",
       "\n",
       "    .dataframe thead th {\n",
       "        text-align: right;\n",
       "    }\n",
       "</style>\n",
       "<table border=\"1\" class=\"dataframe\">\n",
       "  <thead>\n",
       "    <tr style=\"text-align: right;\">\n",
       "      <th>구매여부</th>\n",
       "      <th>0</th>\n",
       "      <th>1</th>\n",
       "    </tr>\n",
       "    <tr>\n",
       "      <th>상품배치</th>\n",
       "      <th></th>\n",
       "      <th></th>\n",
       "    </tr>\n",
       "  </thead>\n",
       "  <tbody>\n",
       "    <tr>\n",
       "      <th>A</th>\n",
       "      <td>108.391304</td>\n",
       "      <td>89.608696</td>\n",
       "    </tr>\n",
       "    <tr>\n",
       "      <th>B</th>\n",
       "      <td>87.588933</td>\n",
       "      <td>72.411067</td>\n",
       "    </tr>\n",
       "    <tr>\n",
       "      <th>C</th>\n",
       "      <td>81.019763</td>\n",
       "      <td>66.980237</td>\n",
       "    </tr>\n",
       "  </tbody>\n",
       "</table>\n",
       "</div>"
      ],
      "text/plain": [
       "구매여부           0          1\n",
       "상품배치                       \n",
       "A     108.391304  89.608696\n",
       "B      87.588933  72.411067\n",
       "C      81.019763  66.980237"
      ]
     },
     "execution_count": 35,
     "metadata": {},
     "output_type": "execute_result"
    }
   ],
   "source": [
    "# 기대값\n",
    "pd.DataFrame(exp, columns = cross_table.columns, index = cross_table.index)"
   ]
  },
  {
   "cell_type": "markdown",
   "metadata": {},
   "source": [
    "### 사이트맵 구성에 따른 체류시간 차이 분석"
   ]
  },
  {
   "cell_type": "code",
   "execution_count": 37,
   "metadata": {},
   "outputs": [
    {
     "data": {
      "text/html": [
       "<div>\n",
       "<style scoped>\n",
       "    .dataframe tbody tr th:only-of-type {\n",
       "        vertical-align: middle;\n",
       "    }\n",
       "\n",
       "    .dataframe tbody tr th {\n",
       "        vertical-align: top;\n",
       "    }\n",
       "\n",
       "    .dataframe thead th {\n",
       "        text-align: right;\n",
       "    }\n",
       "</style>\n",
       "<table border=\"1\" class=\"dataframe\">\n",
       "  <thead>\n",
       "    <tr style=\"text-align: right;\">\n",
       "      <th></th>\n",
       "      <th>고객ID</th>\n",
       "      <th>체류시간(분)</th>\n",
       "    </tr>\n",
       "  </thead>\n",
       "  <tbody>\n",
       "    <tr>\n",
       "      <th>0</th>\n",
       "      <td>C-820</td>\n",
       "      <td>8</td>\n",
       "    </tr>\n",
       "    <tr>\n",
       "      <th>1</th>\n",
       "      <td>C-821</td>\n",
       "      <td>11</td>\n",
       "    </tr>\n",
       "    <tr>\n",
       "      <th>2</th>\n",
       "      <td>C-822</td>\n",
       "      <td>10</td>\n",
       "    </tr>\n",
       "    <tr>\n",
       "      <th>3</th>\n",
       "      <td>C-823</td>\n",
       "      <td>11</td>\n",
       "    </tr>\n",
       "    <tr>\n",
       "      <th>4</th>\n",
       "      <td>C-824</td>\n",
       "      <td>9</td>\n",
       "    </tr>\n",
       "  </tbody>\n",
       "</table>\n",
       "</div>"
      ],
      "text/plain": [
       "    고객ID  체류시간(분)\n",
       "0  C-820        8\n",
       "1  C-821       11\n",
       "2  C-822       10\n",
       "3  C-823       11\n",
       "4  C-824        9"
      ]
     },
     "execution_count": 37,
     "metadata": {},
     "output_type": "execute_result"
    }
   ],
   "source": [
    "sitemap_A = pd.read_csv(\"./data/AB테스트/사이트맵_A.csv\",encoding='cp949')\n",
    "sitemap_A.head()\n",
    "sitemap_B = pd.read_csv(\"./data/AB테스트/사이트맵_B.csv\",encoding='cp949')\n",
    "sitemap_B.head()\n",
    "sitemap_C = pd.read_csv(\"./data/AB테스트/사이트맵_C.csv\",encoding='cp949')\n",
    "sitemap_C.head()"
   ]
  },
  {
   "cell_type": "code",
   "execution_count": 39,
   "metadata": {},
   "outputs": [],
   "source": [
    "A_time = sitemap_A['체류시간(분)'].values\n",
    "B_time = sitemap_B['체류시간(분)'].values\n",
    "C_time = sitemap_C['체류시간(분)'].values"
   ]
  },
  {
   "cell_type": "code",
   "execution_count": 40,
   "metadata": {},
   "outputs": [
    {
     "name": "stdout",
     "output_type": "stream",
     "text": [
      "사이트 맵 A의 체류시간 평균: 9.404\n",
      "사이트 맵 B의 체류시간 평균: 9.831\n",
      "사이트 맵 B의 체류시간 평균: 9.514\n"
     ]
    }
   ],
   "source": [
    "A_mean = A_time.mean()\n",
    "B_mean = B_time.mean()\n",
    "C_mean = C_time.mean()\n",
    "print(\"사이트 맵 A의 체류시간 평균: {}\\n사이트 맵 B의 체류시간 평균: {}\\n사이트 맵 B의 체류시간 평균: {}\".format(round(A_mean,3), round(B_mean,3), round(C_mean,3)))"
   ]
  },
  {
   "cell_type": "code",
   "execution_count": 41,
   "metadata": {},
   "outputs": [
    {
     "data": {
      "text/plain": [
       "Text(0, 0.5, '체류시간')"
      ]
     },
     "execution_count": 41,
     "metadata": {},
     "output_type": "execute_result"
    },
    {
     "data": {
      "image/png": "[encoded data removed]",
      "text/plain": [
       "<Figure size 1440x360 with 1 Axes>"
      ]
     },
     "metadata": {
      "needs_background": "light"
     },
     "output_type": "display_data"
    }
   ],
   "source": [
    "plt.boxplot([A_time,B_time,C_time])\n",
    "plt.xticks([1,2,3],['사이트맵 A','사이트맵 B','사이트맵 C'])\n",
    "plt.ylabel('체류시간')"
   ]
  },
  {
   "cell_type": "code",
   "execution_count": 42,
   "metadata": {},
   "outputs": [
    {
     "name": "stdout",
     "output_type": "stream",
     "text": [
      "ShapiroResult(statistic=0.9157226085662842, pvalue=6.613624314866229e-09)\n",
      "ShapiroResult(statistic=0.9712396860122681, pvalue=0.009464900940656662)\n",
      "ShapiroResult(statistic=0.9803875684738159, pvalue=0.12245512008666992)\n"
     ]
    }
   ],
   "source": [
    "# 모든 데이터가 정규성을 만족하지는 않는다 - 비모수적방법\n",
    "print(shapiro(A_time))\n",
    "print(shapiro(B_time))\n",
    "print(shapiro(C_time))"
   ]
  },
  {
   "cell_type": "code",
   "execution_count": 43,
   "metadata": {},
   "outputs": [
    {
     "data": {
      "text/plain": [
       "LeveneResult(statistic=60.293391878247746, pvalue=1.0454410123159872e-23)"
      ]
     },
     "execution_count": 43,
     "metadata": {},
     "output_type": "execute_result"
    }
   ],
   "source": [
    "# 등분산성 만족하지 않음\n",
    "levene(A_time,B_time,C_time)"
   ]
  },
  {
   "cell_type": "code",
   "execution_count": 44,
   "metadata": {},
   "outputs": [
    {
     "name": "stdout",
     "output_type": "stream",
     "text": [
      "KruskalResult(statistic=3.9357302803694645, pvalue=0.13975489507574576)\n"
     ]
    }
   ],
   "source": [
    "print(kruskal(A_time,B_time,C_time))\n",
    "# 세 집단간 유의미한 차이가 존재하지 않는다"
   ]
  },
  {
   "cell_type": "markdown",
   "metadata": {},
   "source": [
    "**할인 쿠폰의 효과 분석 - 대응표본 T 검정(쌍체표본 T 검정)**"
   ]
  },
  {
   "cell_type": "code",
   "execution_count": 45,
   "metadata": {},
   "outputs": [
    {
     "data": {
      "text/html": [
       "<div>\n",
       "<style scoped>\n",
       "    .dataframe tbody tr th:only-of-type {\n",
       "        vertical-align: middle;\n",
       "    }\n",
       "\n",
       "    .dataframe tbody tr th {\n",
       "        vertical-align: top;\n",
       "    }\n",
       "\n",
       "    .dataframe thead th {\n",
       "        text-align: right;\n",
       "    }\n",
       "</style>\n",
       "<table border=\"1\" class=\"dataframe\">\n",
       "  <thead>\n",
       "    <tr style=\"text-align: right;\">\n",
       "      <th></th>\n",
       "      <th>고객ID</th>\n",
       "      <th>발행전 구매 횟수</th>\n",
       "      <th>발행후 구매 횟수</th>\n",
       "    </tr>\n",
       "  </thead>\n",
       "  <tbody>\n",
       "    <tr>\n",
       "      <th>0</th>\n",
       "      <td>C-925</td>\n",
       "      <td>3</td>\n",
       "      <td>1</td>\n",
       "    </tr>\n",
       "    <tr>\n",
       "      <th>1</th>\n",
       "      <td>C-926</td>\n",
       "      <td>0</td>\n",
       "      <td>0</td>\n",
       "    </tr>\n",
       "    <tr>\n",
       "      <th>2</th>\n",
       "      <td>C-927</td>\n",
       "      <td>0</td>\n",
       "      <td>3</td>\n",
       "    </tr>\n",
       "    <tr>\n",
       "      <th>3</th>\n",
       "      <td>C-928</td>\n",
       "      <td>0</td>\n",
       "      <td>4</td>\n",
       "    </tr>\n",
       "    <tr>\n",
       "      <th>4</th>\n",
       "      <td>C-929</td>\n",
       "      <td>4</td>\n",
       "      <td>4</td>\n",
       "    </tr>\n",
       "  </tbody>\n",
       "</table>\n",
       "</div>"
      ],
      "text/plain": [
       "    고객ID  발행전 구매 횟수  발행후 구매 횟수\n",
       "0  C-925          3          1\n",
       "1  C-926          0          0\n",
       "2  C-927          0          3\n",
       "3  C-928          0          4\n",
       "4  C-929          4          4"
      ]
     },
     "execution_count": 45,
     "metadata": {},
     "output_type": "execute_result"
    }
   ],
   "source": [
    "df = pd.read_csv(\"./data/AB테스트/할인쿠폰발행효과.csv\",encoding='cp949')\n",
    "df.head()"
   ]
  },
  {
   "cell_type": "code",
   "execution_count": 46,
   "metadata": {},
   "outputs": [
    {
     "name": "stdout",
     "output_type": "stream",
     "text": [
      "<class 'pandas.core.frame.DataFrame'>\n",
      "RangeIndex: 154 entries, 0 to 153\n",
      "Data columns (total 3 columns):\n",
      " #   Column     Non-Null Count  Dtype \n",
      "---  ------     --------------  ----- \n",
      " 0   고객ID       154 non-null    object\n",
      " 1   발행전 구매 횟수  154 non-null    int64 \n",
      " 2   발행후 구매 횟수  154 non-null    int64 \n",
      "dtypes: int64(2), object(1)\n",
      "memory usage: 3.7+ KB\n"
     ]
    }
   ],
   "source": [
    "df.info()"
   ]
  },
  {
   "cell_type": "code",
   "execution_count": 47,
   "metadata": {},
   "outputs": [
    {
     "data": {
      "text/plain": [
       "Text(0, 0.5, '구매 횟수')"
      ]
     },
     "execution_count": 47,
     "metadata": {},
     "output_type": "execute_result"
    },
    {
     "data": {
      "image/png": "[encoded data removed]",
      "text/plain": [
       "<Figure size 1440x360 with 1 Axes>"
      ]
     },
     "metadata": {
      "needs_background": "light"
     },
     "output_type": "display_data"
    }
   ],
   "source": [
    "plt.boxplot([df['발행전 구매 횟수'],df['발행후 구매 횟수']])\n",
    "plt.xticks([1,2],['발행전','발행후'])\n",
    "plt.ylabel(\"구매 횟수\")"
   ]
  },
  {
   "cell_type": "code",
   "execution_count": 48,
   "metadata": {},
   "outputs": [
    {
     "data": {
      "text/plain": [
       "ShapiroResult(statistic=0.962637186050415, pvalue=0.00035276805283501744)"
      ]
     },
     "execution_count": 48,
     "metadata": {},
     "output_type": "execute_result"
    }
   ],
   "source": [
    "# 정규성 검정 - 정규성을 만족하지 않음\n",
    "shapiro(df['발행후 구매 횟수']-df['발행전 구매 횟수'])"
   ]
  },
  {
   "cell_type": "code",
   "execution_count": 49,
   "metadata": {},
   "outputs": [
    {
     "data": {
      "text/plain": [
       "WilcoxonResult(statistic=1382.0, pvalue=6.449740420318467e-10)"
      ]
     },
     "execution_count": 49,
     "metadata": {},
     "output_type": "execute_result"
    }
   ],
   "source": [
    "# 정규성이 없으므로 비모수적인 방법 - wilcoxon 검정 수행\n",
    "# p-value가 0.05이하 - 귀무가설을 기각(쿠폰 발행후 변화가 있다)\n",
    "wilcoxon(df['발행후 구매 횟수'],df['발행전 구매 횟수'])"
   ]
  },
  {
   "cell_type": "markdown",
   "metadata": {},
   "source": [
    "### 체류시간과 구매금액 간 관계 분석 - 상관분석"
   ]
  },
  {
   "cell_type": "code",
   "execution_count": 50,
   "metadata": {},
   "outputs": [
    {
     "data": {
      "text/html": [
       "<div>\n",
       "<style scoped>\n",
       "    .dataframe tbody tr th:only-of-type {\n",
       "        vertical-align: middle;\n",
       "    }\n",
       "\n",
       "    .dataframe tbody tr th {\n",
       "        vertical-align: top;\n",
       "    }\n",
       "\n",
       "    .dataframe thead th {\n",
       "        text-align: right;\n",
       "    }\n",
       "</style>\n",
       "<table border=\"1\" class=\"dataframe\">\n",
       "  <thead>\n",
       "    <tr style=\"text-align: right;\">\n",
       "      <th></th>\n",
       "      <th>고객ID</th>\n",
       "      <th>구매금액</th>\n",
       "      <th>체류시간</th>\n",
       "    </tr>\n",
       "  </thead>\n",
       "  <tbody>\n",
       "    <tr>\n",
       "      <th>0</th>\n",
       "      <td>C-1079</td>\n",
       "      <td>78625</td>\n",
       "      <td>9</td>\n",
       "    </tr>\n",
       "    <tr>\n",
       "      <th>1</th>\n",
       "      <td>C-1080</td>\n",
       "      <td>0</td>\n",
       "      <td>9</td>\n",
       "    </tr>\n",
       "    <tr>\n",
       "      <th>2</th>\n",
       "      <td>C-1081</td>\n",
       "      <td>105173</td>\n",
       "      <td>12</td>\n",
       "    </tr>\n",
       "    <tr>\n",
       "      <th>3</th>\n",
       "      <td>C-1082</td>\n",
       "      <td>0</td>\n",
       "      <td>14</td>\n",
       "    </tr>\n",
       "    <tr>\n",
       "      <th>4</th>\n",
       "      <td>C-1083</td>\n",
       "      <td>0</td>\n",
       "      <td>10</td>\n",
       "    </tr>\n",
       "  </tbody>\n",
       "</table>\n",
       "</div>"
      ],
      "text/plain": [
       "     고객ID    구매금액  체류시간\n",
       "0  C-1079   78625     9\n",
       "1  C-1080       0     9\n",
       "2  C-1081  105173    12\n",
       "3  C-1082       0    14\n",
       "4  C-1083       0    10"
      ]
     },
     "execution_count": 50,
     "metadata": {},
     "output_type": "execute_result"
    }
   ],
   "source": [
    "df = pd.read_csv(\"./data/AB테스트/체류시간_구매금액.csv\",encoding='cp949')\n",
    "df.head()"
   ]
  },
  {
   "cell_type": "code",
   "execution_count": 51,
   "metadata": {},
   "outputs": [
    {
     "data": {
      "text/plain": [
       "<matplotlib.axes._subplots.AxesSubplot at 0x22ba1898760>"
      ]
     },
     "execution_count": 51,
     "metadata": {},
     "output_type": "execute_result"
    },
    {
     "data": {
      "image/png": "[encoded data removed]",
      "text/plain": [
       "<Figure size 1440x360 with 1 Axes>"
      ]
     },
     "metadata": {
      "needs_background": "light"
     },
     "output_type": "display_data"
    }
   ],
   "source": [
    "df.plot(kind='scatter',x='체류시간',y='구매금액')"
   ]
  },
  {
   "cell_type": "code",
   "execution_count": 52,
   "metadata": {},
   "outputs": [
    {
     "data": {
      "text/html": [
       "<div>\n",
       "<style scoped>\n",
       "    .dataframe tbody tr th:only-of-type {\n",
       "        vertical-align: middle;\n",
       "    }\n",
       "\n",
       "    .dataframe tbody tr th {\n",
       "        vertical-align: top;\n",
       "    }\n",
       "\n",
       "    .dataframe thead th {\n",
       "        text-align: right;\n",
       "    }\n",
       "</style>\n",
       "<table border=\"1\" class=\"dataframe\">\n",
       "  <thead>\n",
       "    <tr style=\"text-align: right;\">\n",
       "      <th></th>\n",
       "      <th>구매금액</th>\n",
       "      <th>체류시간</th>\n",
       "    </tr>\n",
       "  </thead>\n",
       "  <tbody>\n",
       "    <tr>\n",
       "      <th>구매금액</th>\n",
       "      <td>1.000000</td>\n",
       "      <td>0.320852</td>\n",
       "    </tr>\n",
       "    <tr>\n",
       "      <th>체류시간</th>\n",
       "      <td>0.320852</td>\n",
       "      <td>1.000000</td>\n",
       "    </tr>\n",
       "  </tbody>\n",
       "</table>\n",
       "</div>"
      ],
      "text/plain": [
       "          구매금액      체류시간\n",
       "구매금액  1.000000  0.320852\n",
       "체류시간  0.320852  1.000000"
      ]
     },
     "execution_count": 52,
     "metadata": {},
     "output_type": "execute_result"
    }
   ],
   "source": [
    "df.corr(method='pearson')"
   ]
  },
  {
   "cell_type": "code",
   "execution_count": 53,
   "metadata": {},
   "outputs": [],
   "source": [
    "df_without_zero = df.loc[df['구매금액'] != 0]"
   ]
  },
  {
   "cell_type": "code",
   "execution_count": 54,
   "metadata": {},
   "outputs": [
    {
     "data": {
      "text/html": [
       "<div>\n",
       "<style scoped>\n",
       "    .dataframe tbody tr th:only-of-type {\n",
       "        vertical-align: middle;\n",
       "    }\n",
       "\n",
       "    .dataframe tbody tr th {\n",
       "        vertical-align: top;\n",
       "    }\n",
       "\n",
       "    .dataframe thead th {\n",
       "        text-align: right;\n",
       "    }\n",
       "</style>\n",
       "<table border=\"1\" class=\"dataframe\">\n",
       "  <thead>\n",
       "    <tr style=\"text-align: right;\">\n",
       "      <th></th>\n",
       "      <th>구매금액</th>\n",
       "      <th>체류시간</th>\n",
       "    </tr>\n",
       "  </thead>\n",
       "  <tbody>\n",
       "    <tr>\n",
       "      <th>구매금액</th>\n",
       "      <td>1.000000</td>\n",
       "      <td>0.924526</td>\n",
       "    </tr>\n",
       "    <tr>\n",
       "      <th>체류시간</th>\n",
       "      <td>0.924526</td>\n",
       "      <td>1.000000</td>\n",
       "    </tr>\n",
       "  </tbody>\n",
       "</table>\n",
       "</div>"
      ],
      "text/plain": [
       "          구매금액      체류시간\n",
       "구매금액  1.000000  0.924526\n",
       "체류시간  0.924526  1.000000"
      ]
     },
     "execution_count": 54,
     "metadata": {},
     "output_type": "execute_result"
    }
   ],
   "source": [
    "df_without_zero.corr(method='pearson')"
   ]
  },
  {
   "cell_type": "code",
   "execution_count": 58,
   "metadata": {},
   "outputs": [
    {
     "data": {
      "text/html": [
       "<div>\n",
       "<style scoped>\n",
       "    .dataframe tbody tr th:only-of-type {\n",
       "        vertical-align: middle;\n",
       "    }\n",
       "\n",
       "    .dataframe tbody tr th {\n",
       "        vertical-align: top;\n",
       "    }\n",
       "\n",
       "    .dataframe thead th {\n",
       "        text-align: right;\n",
       "    }\n",
       "</style>\n",
       "<table border=\"1\" class=\"dataframe\">\n",
       "  <thead>\n",
       "    <tr style=\"text-align: right;\">\n",
       "      <th></th>\n",
       "      <th>구매여부</th>\n",
       "      <th>버튼타입</th>\n",
       "      <th>고객 수</th>\n",
       "    </tr>\n",
       "  </thead>\n",
       "  <tbody>\n",
       "    <tr>\n",
       "      <th>0</th>\n",
       "      <td>구매</td>\n",
       "      <td>A</td>\n",
       "      <td>9</td>\n",
       "    </tr>\n",
       "    <tr>\n",
       "      <th>1</th>\n",
       "      <td>NaN</td>\n",
       "      <td>B</td>\n",
       "      <td>9</td>\n",
       "    </tr>\n",
       "    <tr>\n",
       "      <th>2</th>\n",
       "      <td>NaN</td>\n",
       "      <td>C</td>\n",
       "      <td>15</td>\n",
       "    </tr>\n",
       "    <tr>\n",
       "      <th>3</th>\n",
       "      <td>비구매</td>\n",
       "      <td>A</td>\n",
       "      <td>93</td>\n",
       "    </tr>\n",
       "    <tr>\n",
       "      <th>4</th>\n",
       "      <td>NaN</td>\n",
       "      <td>B</td>\n",
       "      <td>85</td>\n",
       "    </tr>\n",
       "  </tbody>\n",
       "</table>\n",
       "</div>"
      ],
      "text/plain": [
       "  구매여부 버튼타입  고객 수\n",
       "0   구매    A     9\n",
       "1  NaN    B     9\n",
       "2  NaN    C    15\n",
       "3  비구매    A    93\n",
       "4  NaN    B    85"
      ]
     },
     "execution_count": 58,
     "metadata": {},
     "output_type": "execute_result"
    }
   ],
   "source": [
    "df = pd.read_excel(\"./data/AB테스트/구매여부_버튼타입_통계.xlsx\")\n",
    "df.head()\n",
    "# 구매버튼의 디자인을 A,B,C type에 대한 구매여부 data\n",
    "# excel의 셀 병합으로 인해 NaN 값이 저장"
   ]
  },
  {
   "cell_type": "code",
   "execution_count": 59,
   "metadata": {},
   "outputs": [],
   "source": [
    "df.fillna(method='ffill',inplace=True)"
   ]
  },
  {
   "cell_type": "code",
   "execution_count": 60,
   "metadata": {},
   "outputs": [
    {
     "data": {
      "text/html": [
       "<div>\n",
       "<style scoped>\n",
       "    .dataframe tbody tr th:only-of-type {\n",
       "        vertical-align: middle;\n",
       "    }\n",
       "\n",
       "    .dataframe tbody tr th {\n",
       "        vertical-align: top;\n",
       "    }\n",
       "\n",
       "    .dataframe thead th {\n",
       "        text-align: right;\n",
       "    }\n",
       "</style>\n",
       "<table border=\"1\" class=\"dataframe\">\n",
       "  <thead>\n",
       "    <tr style=\"text-align: right;\">\n",
       "      <th></th>\n",
       "      <th>구매여부</th>\n",
       "      <th>버튼타입</th>\n",
       "      <th>고객 수</th>\n",
       "    </tr>\n",
       "  </thead>\n",
       "  <tbody>\n",
       "    <tr>\n",
       "      <th>0</th>\n",
       "      <td>구매</td>\n",
       "      <td>A</td>\n",
       "      <td>9</td>\n",
       "    </tr>\n",
       "    <tr>\n",
       "      <th>1</th>\n",
       "      <td>구매</td>\n",
       "      <td>B</td>\n",
       "      <td>9</td>\n",
       "    </tr>\n",
       "    <tr>\n",
       "      <th>2</th>\n",
       "      <td>구매</td>\n",
       "      <td>C</td>\n",
       "      <td>15</td>\n",
       "    </tr>\n",
       "    <tr>\n",
       "      <th>3</th>\n",
       "      <td>비구매</td>\n",
       "      <td>A</td>\n",
       "      <td>93</td>\n",
       "    </tr>\n",
       "    <tr>\n",
       "      <th>4</th>\n",
       "      <td>비구매</td>\n",
       "      <td>B</td>\n",
       "      <td>85</td>\n",
       "    </tr>\n",
       "    <tr>\n",
       "      <th>5</th>\n",
       "      <td>비구매</td>\n",
       "      <td>C</td>\n",
       "      <td>89</td>\n",
       "    </tr>\n",
       "  </tbody>\n",
       "</table>\n",
       "</div>"
      ],
      "text/plain": [
       "  구매여부 버튼타입  고객 수\n",
       "0   구매    A     9\n",
       "1   구매    B     9\n",
       "2   구매    C    15\n",
       "3  비구매    A    93\n",
       "4  비구매    B    85\n",
       "5  비구매    C    89"
      ]
     },
     "execution_count": 60,
     "metadata": {},
     "output_type": "execute_result"
    }
   ],
   "source": [
    "df"
   ]
  },
  {
   "cell_type": "code",
   "execution_count": 62,
   "metadata": {},
   "outputs": [],
   "source": [
    "cross_table = pd.pivot_table(df,index='구매여부',columns='버튼타입',\n",
    "                            values='고객 수')"
   ]
  },
  {
   "cell_type": "code",
   "execution_count": 63,
   "metadata": {},
   "outputs": [
    {
     "data": {
      "text/html": [
       "<div>\n",
       "<style scoped>\n",
       "    .dataframe tbody tr th:only-of-type {\n",
       "        vertical-align: middle;\n",
       "    }\n",
       "\n",
       "    .dataframe tbody tr th {\n",
       "        vertical-align: top;\n",
       "    }\n",
       "\n",
       "    .dataframe thead th {\n",
       "        text-align: right;\n",
       "    }\n",
       "</style>\n",
       "<table border=\"1\" class=\"dataframe\">\n",
       "  <thead>\n",
       "    <tr style=\"text-align: right;\">\n",
       "      <th>버튼타입</th>\n",
       "      <th>A</th>\n",
       "      <th>B</th>\n",
       "      <th>C</th>\n",
       "    </tr>\n",
       "    <tr>\n",
       "      <th>구매여부</th>\n",
       "      <th></th>\n",
       "      <th></th>\n",
       "      <th></th>\n",
       "    </tr>\n",
       "  </thead>\n",
       "  <tbody>\n",
       "    <tr>\n",
       "      <th>구매</th>\n",
       "      <td>9</td>\n",
       "      <td>9</td>\n",
       "      <td>15</td>\n",
       "    </tr>\n",
       "    <tr>\n",
       "      <th>비구매</th>\n",
       "      <td>93</td>\n",
       "      <td>85</td>\n",
       "      <td>89</td>\n",
       "    </tr>\n",
       "  </tbody>\n",
       "</table>\n",
       "</div>"
      ],
      "text/plain": [
       "버튼타입   A   B   C\n",
       "구매여부            \n",
       "구매     9   9  15\n",
       "비구매   93  85  89"
      ]
     },
     "execution_count": 63,
     "metadata": {},
     "output_type": "execute_result"
    }
   ],
   "source": [
    "cross_table"
   ]
  },
  {
   "cell_type": "code",
   "execution_count": 64,
   "metadata": {},
   "outputs": [
    {
     "name": "stdout",
     "output_type": "stream",
     "text": [
      "0.38033325575735993\n"
     ]
    }
   ],
   "source": [
    "# 독립성검정\n",
    "obs = cross_table.values\n",
    "statistics, pvalue, dof, expected = chi2_contingency(obs)\n",
    "print(pvalue) # pvalue가 0.38로 구매여부와 버튼타입 간에는 관계가 없음을 확인"
   ]
  },
  {
   "cell_type": "code",
   "execution_count": null,
   "metadata": {},
   "outputs": [],
   "source": []
  },
  {
   "cell_type": "code",
   "execution_count": null,
   "metadata": {},
   "outputs": [],
   "source": []
  },
  {
   "cell_type": "code",
   "execution_count": null,
   "metadata": {},
   "outputs": [],
   "source": []
  }
 ],
 "metadata": {
  "kernelspec": {
   "display_name": "Python 3",
   "language": "python",
   "name": "python3"
  },
  "language_info": {
   "codemirror_mode": {
    "name": "ipython",
    "version": 3
   },
   "file_extension": ".py",
   "mimetype": "text/x-python",
   "name": "python",
   "nbconvert_exporter": "python",
   "pygments_lexer": "ipython3",
   "version": "3.8.3"
  }
 },
 "nbformat": 4,
 "nbformat_minor": 4
}
